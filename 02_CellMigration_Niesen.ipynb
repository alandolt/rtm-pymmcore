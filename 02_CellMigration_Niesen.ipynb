{
 "cells": [
  {
   "cell_type": "markdown",
   "metadata": {},
   "source": [
    "# ERK-KTR Full FOV Stimulation Pipeline"
   ]
  },
  {
   "cell_type": "markdown",
   "metadata": {},
   "source": [
    "## System Init"
   ]
  },
  {
   "cell_type": "markdown",
   "metadata": {},
   "source": [
    "### Load pymmcore and required python libraries"
   ]
  },
  {
   "cell_type": "code",
   "execution_count": 1,
   "metadata": {},
   "outputs": [],
   "source": [
    "import os\n",
    "os.environ['QT_LOGGING_RULES'] = '*.debug=false; *.warning=false' # Fix to suppress PyQT warnings from napari-micromanager when running in a Jupyter notebook\n",
    "\n",
    "from fov import FOV\n",
    "from useq import MDAEvent\n",
    "import pandas as pd\n",
    "import numpy as np\n",
    "import random\n",
    "import napari\n",
    "import pymmcore_plus\n",
    "from napari_micromanager import MainWindow\n",
    "\n",
    "from utils import create_folders\n",
    "from useq._mda_event import SLMImage\n",
    "\n",
    "mmc = pymmcore_plus.CMMCorePlus()"
   ]
  },
  {
   "cell_type": "markdown",
   "metadata": {},
   "source": [
    "### Device Specific Init for Niesen Microscope"
   ]
  },
  {
   "cell_type": "code",
   "execution_count": 2,
   "metadata": {},
   "outputs": [
    {
     "data": {
      "text/html": [
       "<pre style=\"white-space:pre;overflow-x:auto;line-height:normal;font-family:Menlo,'DejaVu Sans Mono',consolas,'Courier New',monospace\"><span style=\"color: #7fbfbf; text-decoration-color: #7fbfbf\">[03/05/25 16:46:49] </span><span style=\"color: #000080; text-decoration-color: #000080\">INFO    </span> MDA Started: <span style=\"color: #800080; text-decoration-color: #800080; font-weight: bold\">GeneratorMDASequence</span><span style=\"font-weight: bold\">()</span>                                     <a href=\"file://c:\\Users\\Niesen\\.conda\\envs\\pymmcore_w_stardist_cpu\\lib\\site-packages\\pymmcore_plus\\mda\\_runner.py\" target=\"_blank\"><span style=\"color: #7f7f7f; text-decoration-color: #7f7f7f\">_runner.py</span></a><span style=\"color: #7f7f7f; text-decoration-color: #7f7f7f\">:</span><a href=\"file://c:\\Users\\Niesen\\.conda\\envs\\pymmcore_w_stardist_cpu\\lib\\site-packages\\pymmcore_plus\\mda\\_runner.py#376\" target=\"_blank\"><span style=\"color: #7f7f7f; text-decoration-color: #7f7f7f\">376</span></a>\n",
       "</pre>\n"
      ],
      "text/plain": [
       "\u001b[2;36m[03/05/25 16:46:49]\u001b[0m\u001b[2;36m \u001b[0m\u001b[34mINFO    \u001b[0m MDA Started: \u001b[1;35mGeneratorMDASequence\u001b[0m\u001b[1m(\u001b[0m\u001b[1m)\u001b[0m                                     \u001b]8;id=219171;file://c:\\Users\\Niesen\\.conda\\envs\\pymmcore_w_stardist_cpu\\lib\\site-packages\\pymmcore_plus\\mda\\_runner.py\u001b\\\u001b[2m_runner.py\u001b[0m\u001b]8;;\u001b\\\u001b[2m:\u001b[0m\u001b]8;id=704215;file://c:\\Users\\Niesen\\.conda\\envs\\pymmcore_w_stardist_cpu\\lib\\site-packages\\pymmcore_plus\\mda\\_runner.py#376\u001b\\\u001b[2m376\u001b[0m\u001b]8;;\u001b\\\n"
      ]
     },
     "metadata": {},
     "output_type": "display_data"
    },
    {
     "data": {
      "text/html": [
       "<pre style=\"white-space:pre;overflow-x:auto;line-height:normal;font-family:Menlo,'DejaVu Sans Mono',consolas,'Courier New',monospace\"><span style=\"color: #7fbfbf; text-decoration-color: #7fbfbf\">                    </span><span style=\"color: #000080; text-decoration-color: #000080\">INFO    </span> <span style=\"color: #808000; text-decoration-color: #808000\">slm_image</span>=<span style=\"color: #800080; text-decoration-color: #800080; font-weight: bold\">SLMImage</span><span style=\"font-weight: bold\">()</span>                                                    <a href=\"file://c:\\Users\\Niesen\\.conda\\envs\\pymmcore_w_stardist_cpu\\lib\\site-packages\\pymmcore_plus\\mda\\_runner.py\" target=\"_blank\"><span style=\"color: #7f7f7f; text-decoration-color: #7f7f7f\">_runner.py</span></a><span style=\"color: #7f7f7f; text-decoration-color: #7f7f7f\">:</span><a href=\"file://c:\\Users\\Niesen\\.conda\\envs\\pymmcore_w_stardist_cpu\\lib\\site-packages\\pymmcore_plus\\mda\\_runner.py#337\" target=\"_blank\"><span style=\"color: #7f7f7f; text-decoration-color: #7f7f7f\">337</span></a>\n",
       "</pre>\n"
      ],
      "text/plain": [
       "\u001b[2;36m                   \u001b[0m\u001b[2;36m \u001b[0m\u001b[34mINFO    \u001b[0m \u001b[33mslm_image\u001b[0m=\u001b[1;35mSLMImage\u001b[0m\u001b[1m(\u001b[0m\u001b[1m)\u001b[0m                                                    \u001b]8;id=847604;file://c:\\Users\\Niesen\\.conda\\envs\\pymmcore_w_stardist_cpu\\lib\\site-packages\\pymmcore_plus\\mda\\_runner.py\u001b\\\u001b[2m_runner.py\u001b[0m\u001b]8;;\u001b\\\u001b[2m:\u001b[0m\u001b]8;id=531815;file://c:\\Users\\Niesen\\.conda\\envs\\pymmcore_w_stardist_cpu\\lib\\site-packages\\pymmcore_plus\\mda\\_runner.py#337\u001b\\\u001b[2m337\u001b[0m\u001b]8;;\u001b\\\n"
      ]
     },
     "metadata": {},
     "output_type": "display_data"
    },
    {
     "data": {
      "text/html": [
       "<pre style=\"white-space:pre;overflow-x:auto;line-height:normal;font-family:Menlo,'DejaVu Sans Mono',consolas,'Courier New',monospace\"><span style=\"color: #7fbfbf; text-decoration-color: #7fbfbf\">                    </span><span style=\"color: #000080; text-decoration-color: #000080\">INFO    </span> MDA Finished: <span style=\"color: #800080; text-decoration-color: #800080; font-weight: bold\">GeneratorMDASequence</span><span style=\"font-weight: bold\">()</span>                                    <a href=\"file://c:\\Users\\Niesen\\.conda\\envs\\pymmcore_w_stardist_cpu\\lib\\site-packages\\pymmcore_plus\\mda\\_runner.py\" target=\"_blank\"><span style=\"color: #7f7f7f; text-decoration-color: #7f7f7f\">_runner.py</span></a><span style=\"color: #7f7f7f; text-decoration-color: #7f7f7f\">:</span><a href=\"file://c:\\Users\\Niesen\\.conda\\envs\\pymmcore_w_stardist_cpu\\lib\\site-packages\\pymmcore_plus\\mda\\_runner.py#463\" target=\"_blank\"><span style=\"color: #7f7f7f; text-decoration-color: #7f7f7f\">463</span></a>\n",
       "</pre>\n"
      ],
      "text/plain": [
       "\u001b[2;36m                   \u001b[0m\u001b[2;36m \u001b[0m\u001b[34mINFO    \u001b[0m MDA Finished: \u001b[1;35mGeneratorMDASequence\u001b[0m\u001b[1m(\u001b[0m\u001b[1m)\u001b[0m                                    \u001b]8;id=515952;file://c:\\Users\\Niesen\\.conda\\envs\\pymmcore_w_stardist_cpu\\lib\\site-packages\\pymmcore_plus\\mda\\_runner.py\u001b\\\u001b[2m_runner.py\u001b[0m\u001b]8;;\u001b\\\u001b[2m:\u001b[0m\u001b]8;id=153506;file://c:\\Users\\Niesen\\.conda\\envs\\pymmcore_w_stardist_cpu\\lib\\site-packages\\pymmcore_plus\\mda\\_runner.py#463\u001b\\\u001b[2m463\u001b[0m\u001b]8;;\u001b\\\n"
      ]
     },
     "metadata": {},
     "output_type": "display_data"
    }
   ],
   "source": [
    "mmc.loadSystemConfiguration(\"E:\\\\pertzlab_mic_configs\\\\micromanager\\\\Niesen\\\\Ti2CicercoConfig_w_DMD_w_TTL.cfg\")\n",
    "\n",
    "### The following libraries are used to wake up the Lumencor laser\n",
    "import requests\n",
    "import threading\n",
    "import time\n",
    "\n",
    "class WakeUpLaser:\n",
    "    def __init__(self, lumencore_ip=\"192.168.201.200\"): \n",
    "        self.ip = lumencore_ip\n",
    "        self.last_wakeup = 0\n",
    "        self.is_running = False\n",
    "        \n",
    "    def wakeup_laser(self):\n",
    "        url = f\"http://{self.ip}/service/?command=WAKEUP\"\n",
    "        requests.get(url)\n",
    "        \n",
    "    \n",
    "    def run(self, wait_for_warmup=False):\n",
    "        self.is_running = True\n",
    "        self.thread = threading.Thread(target=self._keep_alive)\n",
    "        self.thread.start()\n",
    "        if wait_for_warmup:\n",
    "            time.sleep(15)\n",
    "\n",
    "    def _keep_alive(self):\n",
    "        while self.is_running:\n",
    "            if time.time() - self.last_wakeup > 60:\n",
    "                self.wakeup_laser()\n",
    "                self.last_wakeup = time.time()\n",
    "            time.sleep(3)\n",
    "    def stop(self):\n",
    "        self.is_running = False\n",
    "        self.thread.join()\n",
    "        \n",
    "wl = WakeUpLaser()\n",
    "wl.wakeup_laser()\n",
    "\n",
    "slm_dev = mmc.getSLMDevice()\n",
    "slm_width = mmc.getSLMWidth(slm_dev)\n",
    "slm_height = mmc.getSLMHeight(slm_dev)\n",
    "\n",
    "event_slm_on = MDAEvent(slm_image=SLMImage(data=True))\n",
    "mmc.mda.run([event_slm_on])# to only have fov of DMD \n",
    "mmc.setROI(150, 150, 1900, 1900)\n",
    "\n",
    "DMD_CHANNEL_GROUP = \"WF_DMD\"\n",
    "DMD_CALIBRATION_PROFILE = {\"channel_group\": \"WF_DMD\", \"channel_config\": \"CyanStim\", \"device_name\": \"LedDMD\", \"property_name\": \"Cyan_Level\", \"power\": 100}\n",
    "mmc.setChannelGroup(channelGroup=DMD_CHANNEL_GROUP)"
   ]
  },
  {
   "cell_type": "markdown",
   "metadata": {},
   "source": [
    "## GUI - Napari Micromanager"
   ]
  },
  {
   "cell_type": "markdown",
   "metadata": {},
   "source": [
    "### Load GUI"
   ]
  },
  {
   "cell_type": "code",
   "execution_count": 3,
   "metadata": {},
   "outputs": [
    {
     "data": {
      "text/plain": [
       "<napari._qt.widgets.qt_viewer_dock_widget.QtViewerDockWidget at 0x12ad749e7a0>"
      ]
     },
     "execution_count": 3,
     "metadata": {},
     "output_type": "execute_result"
    }
   ],
   "source": [
    "### Base GUI ###\n",
    "viewer = napari.Viewer()\n",
    "mm_wdg = MainWindow(viewer)\n",
    "viewer.window.add_dock_widget(mm_wdg)"
   ]
  },
  {
   "cell_type": "code",
   "execution_count": 4,
   "metadata": {},
   "outputs": [
    {
     "data": {
      "text/plain": [
       "<napari._qt.widgets.qt_viewer_dock_widget.QtViewerDockWidget at 0x12adc2f7f40>"
      ]
     },
     "execution_count": 4,
     "metadata": {},
     "output_type": "execute_result"
    }
   ],
   "source": [
    "### Add MDA widget for FOV selection ###\n",
    "from pymmcore_widgets.mda import MDAWidget\n",
    "mdawidget = MDAWidget(mmcore = mmc)\n",
    "viewer.window.add_dock_widget(mdawidget)"
   ]
  },
  {
   "cell_type": "markdown",
   "metadata": {},
   "source": [
    "### Functions to break and re-connect link with GUI if manually broken\n",
    "\n",
    "The following functions can be used to manually interrupt to connection between the GUI and the running rtm-pymmcore script. However, normally you don't need to execute them. "
   ]
  },
  {
   "cell_type": "code",
   "execution_count": 10,
   "metadata": {},
   "outputs": [],
   "source": [
    "### Break connection\n",
    "# mm_wdg._core_link.cleanup()"
   ]
  },
  {
   "cell_type": "code",
   "execution_count": 5,
   "metadata": {},
   "outputs": [],
   "source": [
    "### Manually reconnect pymmcore with napari-micromanager\n",
    "from napari_micromanager._core_link import CoreViewerLink\n",
    "mm_wdg._core_link = CoreViewerLink(viewer, mmc)"
   ]
  },
  {
   "attachments": {},
   "cell_type": "markdown",
   "metadata": {},
   "source": [
    "## Create a DF with all planned acquisitions and stimulations"
   ]
  },
  {
   "cell_type": "markdown",
   "metadata": {},
   "source": [
    "### Settings for Experiment"
   ]
  },
  {
   "cell_type": "code",
   "execution_count": 30,
   "metadata": {},
   "outputs": [],
   "source": [
    "import pandas as pd\n",
    "import os\n",
    "from utils import create_folders\n",
    "from fov import FOV\n",
    "import numpy as np\n",
    "import random"
   ]
  },
  {
   "cell_type": "code",
   "execution_count": 75,
   "metadata": {},
   "outputs": [
    {
     "data": {
      "text/plain": [
       "[{'stim_profile': {'device_name': 'LedDMD',\n",
       "   'property_name': 'Cyan_Level',\n",
       "   'power': 10,\n",
       "   'channel': 'CyanStim'},\n",
       "  'stim_exposure': 100,\n",
       "  'stim_timestep': [0, 1, 2, 3, 4, 5, 6, 7, 8, 9, 10, 11, 12, 13, 14],\n",
       "  'stim_cell_percentage': 0.2},\n",
       " {'stim_profile': {'device_name': 'LedDMD',\n",
       "   'property_name': 'Cyan_Level',\n",
       "   'power': 10,\n",
       "   'channel': 'CyanStim'},\n",
       "  'stim_exposure': 100,\n",
       "  'stim_timestep': [0, 1, 2, 3, 4, 5, 6, 7, 8, 9, 10, 11, 12, 13, 14],\n",
       "  'stim_cell_percentage': 0.3}]"
      ]
     },
     "execution_count": 75,
     "metadata": {},
     "output_type": "execute_result"
    }
   ],
   "source": [
    "N_TIMESTEPS = 120\n",
    "df_acquire = pd.DataFrame(columns=['fov', 'timestep', 'time','time_experiment', 'treatment', 'acquired','stim', 'channels', 'channel_stim'])\n",
    "\n",
    "base_path = \"\\\\\\\\izbkingston.unibe.ch\\\\imaging.data\\\\mic01-imaging\\\\Alex\\\\pymmcore\\\\\"\n",
    "experiment_name = \"2025-03-18_optoTIAM_migration_percentage_Niesen_miRFP_mcherry\"\n",
    "path  = os.path.join(base_path, experiment_name)\n",
    "\n",
    "# create_folders(path,['stim','raw','labels','stim_mask','tracks','labels_rings','particles'])\n",
    "\n",
    "time_between_frames = 10 #time in seconds between frames\n",
    "time_per_fov = 5 #time in seconds per fov\n",
    "\n",
    "timesteps = range(N_TIMESTEPS)  \n",
    "channels = ['Red', 'Green'] #channel for segmentation first\n",
    "channels_exposure = [200, 200]\n",
    "\n",
    "# take values from UI, if loaded\n",
    "# intensity_red_laser = mmc.getProperty(\"Laser\", \"RED_Intensity\")\n",
    "# intensity_green_laser = mmc.getProperty(\"Laser\", \"GREEN_Intensity\")\n",
    "\n",
    "# if intensity_red_laser != str(0) and intensity_green_laser != str(0):\n",
    "#     channels_power = [intensity_red_laser, intensity_green_laser]\n",
    "# else:\n",
    "#     channels_power = [120, 120]\n",
    "#     for channel, power in zip(channels, channels_power):\n",
    "#         mmc.setProperty(\"Laser\", f\"{channel.upper()}_Intensity\", power)\n",
    "\n",
    "\n",
    "stim_exposures = [100] # list of possible exposures in ms\n",
    "stim_timesteps = [list(range(0,15))]  # list of timesteps for stimulation, if e.g. double stimulation in frame 0 and 1 is needed write [[0,1]]\n",
    "stim_percentages = [0.2, 0.3]\n",
    "stim_profiles = [{\"device_name\": \"LedDMD\", \"property_name\": \"Cyan_Level\", \"power\": 10, \"channel\": \"CyanStim\"}]\n",
    "stim_treatments = [{\"stim_profile\": stim_profile, \n",
    "                   \"stim_exposure\": stim_exposure, \n",
    "                   \"stim_timestep\": stim_timestep, \n",
    "                   \"stim_cell_percentage\": stim_cell_percentage} \n",
    "                  for stim_profile in stim_profiles \n",
    "                  for stim_exposure in stim_exposures \n",
    "                  for stim_timestep in stim_timesteps\n",
    "                  for stim_cell_percentage in stim_percentages]\n",
    "cell_lines = [\"miRFP\", \"mCherry\"]\n",
    "n_fovs_per_cell_line = 5\n",
    "# data_mda_fovs = None\n",
    "stim_treatments\n",
    "\n"
   ]
  },
  {
   "cell_type": "code",
   "execution_count": 26,
   "metadata": {},
   "outputs": [
    {
     "ename": "NameError",
     "evalue": "name 'mdawidget' is not defined",
     "output_type": "error",
     "traceback": [
      "\u001b[1;31m---------------------------------------------------------------------------\u001b[0m",
      "\u001b[1;31mNameError\u001b[0m                                 Traceback (most recent call last)",
      "Cell \u001b[1;32mIn[26], line 3\u001b[0m\n\u001b[0;32m      1\u001b[0m \u001b[38;5;28;01mimport\u001b[39;00m\u001b[38;5;250m \u001b[39m\u001b[38;5;21;01mmatplotlib\u001b[39;00m\u001b[38;5;21;01m.\u001b[39;00m\u001b[38;5;21;01mpyplot\u001b[39;00m\u001b[38;5;250m \u001b[39m\u001b[38;5;28;01mas\u001b[39;00m\u001b[38;5;250m \u001b[39m\u001b[38;5;21;01mplt\u001b[39;00m\n\u001b[0;32m      2\u001b[0m plt\u001b[38;5;241m.\u001b[39mfigure()\n\u001b[1;32m----> 3\u001b[0m data_mda_fovs \u001b[38;5;241m=\u001b[39m \u001b[43mmdawidget\u001b[49m\u001b[38;5;241m.\u001b[39mvalue()\u001b[38;5;241m.\u001b[39mstage_positions\n\u001b[0;32m      4\u001b[0m i \u001b[38;5;241m=\u001b[39m \u001b[38;5;241m0\u001b[39m\n\u001b[0;32m      5\u001b[0m \u001b[38;5;28;01mfor\u001b[39;00m fov_x_y \u001b[38;5;129;01min\u001b[39;00m data_mda_fovs:\n",
      "\u001b[1;31mNameError\u001b[0m: name 'mdawidget' is not defined"
     ]
    },
    {
     "data": {
      "text/plain": [
       "<Figure size 640x480 with 0 Axes>"
      ]
     },
     "metadata": {},
     "output_type": "display_data"
    }
   ],
   "source": [
    "import matplotlib.pyplot as plt\n",
    "plt.figure()\n",
    "data_mda_fovs = mdawidget.value().stage_positions\n",
    "i = 0\n",
    "for fov_x_y in data_mda_fovs:\n",
    "    plt.scatter(fov_x_y.x, fov_x_y.y, label=f'{fov_x_y.x},{fov_x_y.y}')\n",
    "    plt.text(fov_x_y.x, fov_x_y.y, f'{i}')\n",
    "    i+=1\n",
    "plt.show()"
   ]
  },
  {
   "cell_type": "markdown",
   "metadata": {},
   "source": [
    "### Map Experiment to FOVs"
   ]
  },
  {
   "cell_type": "markdown",
   "metadata": {},
   "source": [
    "#### If FOVs already saved - Reload them from file"
   ]
  },
  {
   "cell_type": "code",
   "execution_count": 70,
   "metadata": {},
   "outputs": [],
   "source": [
    "import json\n",
    "# file = os.path.join(path, \"fovs.json\")\n",
    "file = \"fovs.json\"\n",
    "with open(file, \"r\") as f:\n",
    "    data_mda_fovs = json.load(f)"
   ]
  },
  {
   "cell_type": "markdown",
   "metadata": {},
   "source": [
    "Only select one of the following two code blocks. If you autogenerated FOVs using the wellplate option of the MDA widget, then use the first code block, else the second. "
   ]
  },
  {
   "cell_type": "markdown",
   "metadata": {},
   "source": [
    "#### MDA Widget was used in wellplate mode with autogenerated FOVs"
   ]
  },
  {
   "cell_type": "markdown",
   "metadata": {},
   "source": [
    "#### FOVs were manually selected using MDA widget"
   ]
  },
  {
   "cell_type": "code",
   "execution_count": 76,
   "metadata": {},
   "outputs": [],
   "source": [
    "fovs:list[FOV] = []\n",
    "if data_mda_fovs is None:\n",
    "    data_mda_fovs = mdawidget.value().stage_positions\n",
    "n_fovs = len(data_mda_fovs)\n",
    "n_stim_treatments = len(stim_treatment)\n",
    "n_fovs_per_stim_condition = n_fovs //  len(np.unique(cell_lines))\n",
    "\n",
    "j = 0\n",
    "for stim_treatment in stim_treatments: \n",
    "    for i, row in enumerate(data_mda_fovs):\n",
    "        row = dict(row)\n",
    "        if len(cell_lines) == 1:\n",
    "            cell_line = cell_lines[0]\n",
    "        else:\n",
    "            cell_line = cell_lines[i // n_fovs_per_cell_line]\n",
    "        fov = FOV(pos=(row[\"x\"], row[\"y\"]),\n",
    "                index=j,\n",
    "                name=str(i),\n",
    "                path=path,\n",
    "                metadata={\"cell_line\": cell_line},\n",
    "                treatment=stim_treatment,\n",
    "                )\n",
    "        fovs.append(fov)\n",
    "        j +=1"
   ]
  },
  {
   "cell_type": "markdown",
   "metadata": {},
   "source": [
    "### Use FOVs to generate dataframe for acquisition"
   ]
  },
  {
   "cell_type": "code",
   "execution_count": 77,
   "metadata": {},
   "outputs": [
    {
     "name": "stdout",
     "output_type": "stream",
     "text": [
      "Total Experiment Time: 3.3305555555555557h\n"
     ]
    },
    {
     "data": {
      "application/vnd.microsoft.datawrangler.viewer.v0+json": {
       "columns": [
        {
         "name": "index",
         "rawType": "int64",
         "type": "integer"
        },
        {
         "name": "fov_object",
         "rawType": "object",
         "type": "unknown"
        },
        {
         "name": "fov",
         "rawType": "int64",
         "type": "integer"
        },
        {
         "name": "name",
         "rawType": "object",
         "type": "string"
        },
        {
         "name": "timestep",
         "rawType": "int64",
         "type": "integer"
        },
        {
         "name": "time",
         "rawType": "int64",
         "type": "integer"
        },
        {
         "name": "treatment",
         "rawType": "object",
         "type": "unknown"
        },
        {
         "name": "metadata",
         "rawType": "object",
         "type": "unknown"
        },
        {
         "name": "stim",
         "rawType": "bool",
         "type": "boolean"
        },
        {
         "name": "channels",
         "rawType": "object",
         "type": "unknown"
        },
        {
         "name": "channels_exposure",
         "rawType": "object",
         "type": "unknown"
        },
        {
         "name": "channel_power",
         "rawType": "object",
         "type": "unknown"
        },
        {
         "name": "fname",
         "rawType": "object",
         "type": "string"
        }
       ],
       "conversionMethod": "pd.DataFrame",
       "ref": "a97954cd-70e6-48be-8832-055158e91a60",
       "rows": [
        [
         "0",
         "<fov.FOV object at 0x000002187F6710D0>",
         "0",
         "0",
         "0",
         "0",
         "{'stim_profile': {'device_name': 'LedDMD', 'property_name': 'Cyan_Level', 'power': 10, 'channel': 'CyanStim'}, 'stim_exposure': 100, 'stim_timestep': [0, 1, 2, 3, 4, 5, 6, 7, 8, 9, 10, 11, 12, 13, 14], 'stim_cell_percentage': 0.2}",
         "{'cell_line': 'miRFP'}",
         "True",
         "['Red']",
         "[200]",
         "[120]",
         "000_00000"
        ],
        [
         "120",
         "<fov.FOV object at 0x000002187F670A10>",
         "1",
         "1",
         "0",
         "0",
         "{'stim_profile': {'device_name': 'LedDMD', 'property_name': 'Cyan_Level', 'power': 10, 'channel': 'CyanStim'}, 'stim_exposure': 100, 'stim_timestep': [0, 1, 2, 3, 4, 5, 6, 7, 8, 9, 10, 11, 12, 13, 14], 'stim_cell_percentage': 0.2}",
         "{'cell_line': 'miRFP'}",
         "True",
         "['Red']",
         "[200]",
         "[120]",
         "001_00000"
        ],
        [
         "1",
         "<fov.FOV object at 0x000002187F6710D0>",
         "0",
         "0",
         "1",
         "10",
         "{'stim_profile': {'device_name': 'LedDMD', 'property_name': 'Cyan_Level', 'power': 10, 'channel': 'CyanStim'}, 'stim_exposure': 100, 'stim_timestep': [0, 1, 2, 3, 4, 5, 6, 7, 8, 9, 10, 11, 12, 13, 14], 'stim_cell_percentage': 0.2}",
         "{'cell_line': 'miRFP'}",
         "True",
         "['Red']",
         "[200]",
         "[120]",
         "000_00001"
        ],
        [
         "121",
         "<fov.FOV object at 0x000002187F670A10>",
         "1",
         "1",
         "1",
         "10",
         "{'stim_profile': {'device_name': 'LedDMD', 'property_name': 'Cyan_Level', 'power': 10, 'channel': 'CyanStim'}, 'stim_exposure': 100, 'stim_timestep': [0, 1, 2, 3, 4, 5, 6, 7, 8, 9, 10, 11, 12, 13, 14], 'stim_cell_percentage': 0.2}",
         "{'cell_line': 'miRFP'}",
         "True",
         "['Red']",
         "[200]",
         "[120]",
         "001_00001"
        ],
        [
         "2",
         "<fov.FOV object at 0x000002187F6710D0>",
         "0",
         "0",
         "2",
         "20",
         "{'stim_profile': {'device_name': 'LedDMD', 'property_name': 'Cyan_Level', 'power': 10, 'channel': 'CyanStim'}, 'stim_exposure': 100, 'stim_timestep': [0, 1, 2, 3, 4, 5, 6, 7, 8, 9, 10, 11, 12, 13, 14], 'stim_cell_percentage': 0.2}",
         "{'cell_line': 'miRFP'}",
         "True",
         "['Red']",
         "[200]",
         "[120]",
         "000_00002"
        ],
        [
         "122",
         "<fov.FOV object at 0x000002187F670A10>",
         "1",
         "1",
         "2",
         "20",
         "{'stim_profile': {'device_name': 'LedDMD', 'property_name': 'Cyan_Level', 'power': 10, 'channel': 'CyanStim'}, 'stim_exposure': 100, 'stim_timestep': [0, 1, 2, 3, 4, 5, 6, 7, 8, 9, 10, 11, 12, 13, 14], 'stim_cell_percentage': 0.2}",
         "{'cell_line': 'miRFP'}",
         "True",
         "['Red']",
         "[200]",
         "[120]",
         "001_00002"
        ],
        [
         "3",
         "<fov.FOV object at 0x000002187F6710D0>",
         "0",
         "0",
         "3",
         "30",
         "{'stim_profile': {'device_name': 'LedDMD', 'property_name': 'Cyan_Level', 'power': 10, 'channel': 'CyanStim'}, 'stim_exposure': 100, 'stim_timestep': [0, 1, 2, 3, 4, 5, 6, 7, 8, 9, 10, 11, 12, 13, 14], 'stim_cell_percentage': 0.2}",
         "{'cell_line': 'miRFP'}",
         "True",
         "['Red']",
         "[200]",
         "[120]",
         "000_00003"
        ],
        [
         "123",
         "<fov.FOV object at 0x000002187F670A10>",
         "1",
         "1",
         "3",
         "30",
         "{'stim_profile': {'device_name': 'LedDMD', 'property_name': 'Cyan_Level', 'power': 10, 'channel': 'CyanStim'}, 'stim_exposure': 100, 'stim_timestep': [0, 1, 2, 3, 4, 5, 6, 7, 8, 9, 10, 11, 12, 13, 14], 'stim_cell_percentage': 0.2}",
         "{'cell_line': 'miRFP'}",
         "True",
         "['Red']",
         "[200]",
         "[120]",
         "001_00003"
        ],
        [
         "4",
         "<fov.FOV object at 0x000002187F6710D0>",
         "0",
         "0",
         "4",
         "40",
         "{'stim_profile': {'device_name': 'LedDMD', 'property_name': 'Cyan_Level', 'power': 10, 'channel': 'CyanStim'}, 'stim_exposure': 100, 'stim_timestep': [0, 1, 2, 3, 4, 5, 6, 7, 8, 9, 10, 11, 12, 13, 14], 'stim_cell_percentage': 0.2}",
         "{'cell_line': 'miRFP'}",
         "True",
         "['Red']",
         "[200]",
         "[120]",
         "000_00004"
        ],
        [
         "124",
         "<fov.FOV object at 0x000002187F670A10>",
         "1",
         "1",
         "4",
         "40",
         "{'stim_profile': {'device_name': 'LedDMD', 'property_name': 'Cyan_Level', 'power': 10, 'channel': 'CyanStim'}, 'stim_exposure': 100, 'stim_timestep': [0, 1, 2, 3, 4, 5, 6, 7, 8, 9, 10, 11, 12, 13, 14], 'stim_cell_percentage': 0.2}",
         "{'cell_line': 'miRFP'}",
         "True",
         "['Red']",
         "[200]",
         "[120]",
         "001_00004"
        ],
        [
         "5",
         "<fov.FOV object at 0x000002187F6710D0>",
         "0",
         "0",
         "5",
         "50",
         "{'stim_profile': {'device_name': 'LedDMD', 'property_name': 'Cyan_Level', 'power': 10, 'channel': 'CyanStim'}, 'stim_exposure': 100, 'stim_timestep': [0, 1, 2, 3, 4, 5, 6, 7, 8, 9, 10, 11, 12, 13, 14], 'stim_cell_percentage': 0.2}",
         "{'cell_line': 'miRFP'}",
         "True",
         "['Red']",
         "[200]",
         "[120]",
         "000_00005"
        ],
        [
         "125",
         "<fov.FOV object at 0x000002187F670A10>",
         "1",
         "1",
         "5",
         "50",
         "{'stim_profile': {'device_name': 'LedDMD', 'property_name': 'Cyan_Level', 'power': 10, 'channel': 'CyanStim'}, 'stim_exposure': 100, 'stim_timestep': [0, 1, 2, 3, 4, 5, 6, 7, 8, 9, 10, 11, 12, 13, 14], 'stim_cell_percentage': 0.2}",
         "{'cell_line': 'miRFP'}",
         "True",
         "['Red']",
         "[200]",
         "[120]",
         "001_00005"
        ],
        [
         "6",
         "<fov.FOV object at 0x000002187F6710D0>",
         "0",
         "0",
         "6",
         "60",
         "{'stim_profile': {'device_name': 'LedDMD', 'property_name': 'Cyan_Level', 'power': 10, 'channel': 'CyanStim'}, 'stim_exposure': 100, 'stim_timestep': [0, 1, 2, 3, 4, 5, 6, 7, 8, 9, 10, 11, 12, 13, 14], 'stim_cell_percentage': 0.2}",
         "{'cell_line': 'miRFP'}",
         "True",
         "['Red']",
         "[200]",
         "[120]",
         "000_00006"
        ],
        [
         "126",
         "<fov.FOV object at 0x000002187F670A10>",
         "1",
         "1",
         "6",
         "60",
         "{'stim_profile': {'device_name': 'LedDMD', 'property_name': 'Cyan_Level', 'power': 10, 'channel': 'CyanStim'}, 'stim_exposure': 100, 'stim_timestep': [0, 1, 2, 3, 4, 5, 6, 7, 8, 9, 10, 11, 12, 13, 14], 'stim_cell_percentage': 0.2}",
         "{'cell_line': 'miRFP'}",
         "True",
         "['Red']",
         "[200]",
         "[120]",
         "001_00006"
        ],
        [
         "7",
         "<fov.FOV object at 0x000002187F6710D0>",
         "0",
         "0",
         "7",
         "70",
         "{'stim_profile': {'device_name': 'LedDMD', 'property_name': 'Cyan_Level', 'power': 10, 'channel': 'CyanStim'}, 'stim_exposure': 100, 'stim_timestep': [0, 1, 2, 3, 4, 5, 6, 7, 8, 9, 10, 11, 12, 13, 14], 'stim_cell_percentage': 0.2}",
         "{'cell_line': 'miRFP'}",
         "True",
         "['Red']",
         "[200]",
         "[120]",
         "000_00007"
        ],
        [
         "127",
         "<fov.FOV object at 0x000002187F670A10>",
         "1",
         "1",
         "7",
         "70",
         "{'stim_profile': {'device_name': 'LedDMD', 'property_name': 'Cyan_Level', 'power': 10, 'channel': 'CyanStim'}, 'stim_exposure': 100, 'stim_timestep': [0, 1, 2, 3, 4, 5, 6, 7, 8, 9, 10, 11, 12, 13, 14], 'stim_cell_percentage': 0.2}",
         "{'cell_line': 'miRFP'}",
         "True",
         "['Red']",
         "[200]",
         "[120]",
         "001_00007"
        ],
        [
         "8",
         "<fov.FOV object at 0x000002187F6710D0>",
         "0",
         "0",
         "8",
         "80",
         "{'stim_profile': {'device_name': 'LedDMD', 'property_name': 'Cyan_Level', 'power': 10, 'channel': 'CyanStim'}, 'stim_exposure': 100, 'stim_timestep': [0, 1, 2, 3, 4, 5, 6, 7, 8, 9, 10, 11, 12, 13, 14], 'stim_cell_percentage': 0.2}",
         "{'cell_line': 'miRFP'}",
         "True",
         "['Red']",
         "[200]",
         "[120]",
         "000_00008"
        ],
        [
         "128",
         "<fov.FOV object at 0x000002187F670A10>",
         "1",
         "1",
         "8",
         "80",
         "{'stim_profile': {'device_name': 'LedDMD', 'property_name': 'Cyan_Level', 'power': 10, 'channel': 'CyanStim'}, 'stim_exposure': 100, 'stim_timestep': [0, 1, 2, 3, 4, 5, 6, 7, 8, 9, 10, 11, 12, 13, 14], 'stim_cell_percentage': 0.2}",
         "{'cell_line': 'miRFP'}",
         "True",
         "['Red']",
         "[200]",
         "[120]",
         "001_00008"
        ],
        [
         "9",
         "<fov.FOV object at 0x000002187F6710D0>",
         "0",
         "0",
         "9",
         "90",
         "{'stim_profile': {'device_name': 'LedDMD', 'property_name': 'Cyan_Level', 'power': 10, 'channel': 'CyanStim'}, 'stim_exposure': 100, 'stim_timestep': [0, 1, 2, 3, 4, 5, 6, 7, 8, 9, 10, 11, 12, 13, 14], 'stim_cell_percentage': 0.2}",
         "{'cell_line': 'miRFP'}",
         "True",
         "['Red']",
         "[200]",
         "[120]",
         "000_00009"
        ],
        [
         "129",
         "<fov.FOV object at 0x000002187F670A10>",
         "1",
         "1",
         "9",
         "90",
         "{'stim_profile': {'device_name': 'LedDMD', 'property_name': 'Cyan_Level', 'power': 10, 'channel': 'CyanStim'}, 'stim_exposure': 100, 'stim_timestep': [0, 1, 2, 3, 4, 5, 6, 7, 8, 9, 10, 11, 12, 13, 14], 'stim_cell_percentage': 0.2}",
         "{'cell_line': 'miRFP'}",
         "True",
         "['Red']",
         "[200]",
         "[120]",
         "001_00009"
        ],
        [
         "10",
         "<fov.FOV object at 0x000002187F6710D0>",
         "0",
         "0",
         "10",
         "100",
         "{'stim_profile': {'device_name': 'LedDMD', 'property_name': 'Cyan_Level', 'power': 10, 'channel': 'CyanStim'}, 'stim_exposure': 100, 'stim_timestep': [0, 1, 2, 3, 4, 5, 6, 7, 8, 9, 10, 11, 12, 13, 14], 'stim_cell_percentage': 0.2}",
         "{'cell_line': 'miRFP'}",
         "True",
         "['Red']",
         "[200]",
         "[120]",
         "000_00010"
        ],
        [
         "130",
         "<fov.FOV object at 0x000002187F670A10>",
         "1",
         "1",
         "10",
         "100",
         "{'stim_profile': {'device_name': 'LedDMD', 'property_name': 'Cyan_Level', 'power': 10, 'channel': 'CyanStim'}, 'stim_exposure': 100, 'stim_timestep': [0, 1, 2, 3, 4, 5, 6, 7, 8, 9, 10, 11, 12, 13, 14], 'stim_cell_percentage': 0.2}",
         "{'cell_line': 'miRFP'}",
         "True",
         "['Red']",
         "[200]",
         "[120]",
         "001_00010"
        ],
        [
         "11",
         "<fov.FOV object at 0x000002187F6710D0>",
         "0",
         "0",
         "11",
         "110",
         "{'stim_profile': {'device_name': 'LedDMD', 'property_name': 'Cyan_Level', 'power': 10, 'channel': 'CyanStim'}, 'stim_exposure': 100, 'stim_timestep': [0, 1, 2, 3, 4, 5, 6, 7, 8, 9, 10, 11, 12, 13, 14], 'stim_cell_percentage': 0.2}",
         "{'cell_line': 'miRFP'}",
         "True",
         "['Red']",
         "[200]",
         "[120]",
         "000_00011"
        ],
        [
         "131",
         "<fov.FOV object at 0x000002187F670A10>",
         "1",
         "1",
         "11",
         "110",
         "{'stim_profile': {'device_name': 'LedDMD', 'property_name': 'Cyan_Level', 'power': 10, 'channel': 'CyanStim'}, 'stim_exposure': 100, 'stim_timestep': [0, 1, 2, 3, 4, 5, 6, 7, 8, 9, 10, 11, 12, 13, 14], 'stim_cell_percentage': 0.2}",
         "{'cell_line': 'miRFP'}",
         "True",
         "['Red']",
         "[200]",
         "[120]",
         "001_00011"
        ],
        [
         "12",
         "<fov.FOV object at 0x000002187F6710D0>",
         "0",
         "0",
         "12",
         "120",
         "{'stim_profile': {'device_name': 'LedDMD', 'property_name': 'Cyan_Level', 'power': 10, 'channel': 'CyanStim'}, 'stim_exposure': 100, 'stim_timestep': [0, 1, 2, 3, 4, 5, 6, 7, 8, 9, 10, 11, 12, 13, 14], 'stim_cell_percentage': 0.2}",
         "{'cell_line': 'miRFP'}",
         "True",
         "['Red']",
         "[200]",
         "[120]",
         "000_00012"
        ],
        [
         "132",
         "<fov.FOV object at 0x000002187F670A10>",
         "1",
         "1",
         "12",
         "120",
         "{'stim_profile': {'device_name': 'LedDMD', 'property_name': 'Cyan_Level', 'power': 10, 'channel': 'CyanStim'}, 'stim_exposure': 100, 'stim_timestep': [0, 1, 2, 3, 4, 5, 6, 7, 8, 9, 10, 11, 12, 13, 14], 'stim_cell_percentage': 0.2}",
         "{'cell_line': 'miRFP'}",
         "True",
         "['Red']",
         "[200]",
         "[120]",
         "001_00012"
        ],
        [
         "13",
         "<fov.FOV object at 0x000002187F6710D0>",
         "0",
         "0",
         "13",
         "130",
         "{'stim_profile': {'device_name': 'LedDMD', 'property_name': 'Cyan_Level', 'power': 10, 'channel': 'CyanStim'}, 'stim_exposure': 100, 'stim_timestep': [0, 1, 2, 3, 4, 5, 6, 7, 8, 9, 10, 11, 12, 13, 14], 'stim_cell_percentage': 0.2}",
         "{'cell_line': 'miRFP'}",
         "True",
         "['Red']",
         "[200]",
         "[120]",
         "000_00013"
        ],
        [
         "133",
         "<fov.FOV object at 0x000002187F670A10>",
         "1",
         "1",
         "13",
         "130",
         "{'stim_profile': {'device_name': 'LedDMD', 'property_name': 'Cyan_Level', 'power': 10, 'channel': 'CyanStim'}, 'stim_exposure': 100, 'stim_timestep': [0, 1, 2, 3, 4, 5, 6, 7, 8, 9, 10, 11, 12, 13, 14], 'stim_cell_percentage': 0.2}",
         "{'cell_line': 'miRFP'}",
         "True",
         "['Red']",
         "[200]",
         "[120]",
         "001_00013"
        ],
        [
         "14",
         "<fov.FOV object at 0x000002187F6710D0>",
         "0",
         "0",
         "14",
         "140",
         "{'stim_profile': {'device_name': 'LedDMD', 'property_name': 'Cyan_Level', 'power': 10, 'channel': 'CyanStim'}, 'stim_exposure': 100, 'stim_timestep': [0, 1, 2, 3, 4, 5, 6, 7, 8, 9, 10, 11, 12, 13, 14], 'stim_cell_percentage': 0.2}",
         "{'cell_line': 'miRFP'}",
         "True",
         "['Red']",
         "[200]",
         "[120]",
         "000_00014"
        ],
        [
         "134",
         "<fov.FOV object at 0x000002187F670A10>",
         "1",
         "1",
         "14",
         "140",
         "{'stim_profile': {'device_name': 'LedDMD', 'property_name': 'Cyan_Level', 'power': 10, 'channel': 'CyanStim'}, 'stim_exposure': 100, 'stim_timestep': [0, 1, 2, 3, 4, 5, 6, 7, 8, 9, 10, 11, 12, 13, 14], 'stim_cell_percentage': 0.2}",
         "{'cell_line': 'miRFP'}",
         "True",
         "['Red']",
         "[200]",
         "[120]",
         "001_00014"
        ],
        [
         "15",
         "<fov.FOV object at 0x000002187F6710D0>",
         "0",
         "0",
         "15",
         "150",
         "{'stim_profile': {'device_name': 'LedDMD', 'property_name': 'Cyan_Level', 'power': 10, 'channel': 'CyanStim'}, 'stim_exposure': 100, 'stim_timestep': [0, 1, 2, 3, 4, 5, 6, 7, 8, 9, 10, 11, 12, 13, 14], 'stim_cell_percentage': 0.2}",
         "{'cell_line': 'miRFP'}",
         "False",
         "['Red']",
         "[200]",
         "[120]",
         "000_00015"
        ],
        [
         "135",
         "<fov.FOV object at 0x000002187F670A10>",
         "1",
         "1",
         "15",
         "150",
         "{'stim_profile': {'device_name': 'LedDMD', 'property_name': 'Cyan_Level', 'power': 10, 'channel': 'CyanStim'}, 'stim_exposure': 100, 'stim_timestep': [0, 1, 2, 3, 4, 5, 6, 7, 8, 9, 10, 11, 12, 13, 14], 'stim_cell_percentage': 0.2}",
         "{'cell_line': 'miRFP'}",
         "False",
         "['Red']",
         "[200]",
         "[120]",
         "001_00015"
        ],
        [
         "16",
         "<fov.FOV object at 0x000002187F6710D0>",
         "0",
         "0",
         "16",
         "160",
         "{'stim_profile': {'device_name': 'LedDMD', 'property_name': 'Cyan_Level', 'power': 10, 'channel': 'CyanStim'}, 'stim_exposure': 100, 'stim_timestep': [0, 1, 2, 3, 4, 5, 6, 7, 8, 9, 10, 11, 12, 13, 14], 'stim_cell_percentage': 0.2}",
         "{'cell_line': 'miRFP'}",
         "False",
         "['Red']",
         "[200]",
         "[120]",
         "000_00016"
        ],
        [
         "136",
         "<fov.FOV object at 0x000002187F670A10>",
         "1",
         "1",
         "16",
         "160",
         "{'stim_profile': {'device_name': 'LedDMD', 'property_name': 'Cyan_Level', 'power': 10, 'channel': 'CyanStim'}, 'stim_exposure': 100, 'stim_timestep': [0, 1, 2, 3, 4, 5, 6, 7, 8, 9, 10, 11, 12, 13, 14], 'stim_cell_percentage': 0.2}",
         "{'cell_line': 'miRFP'}",
         "False",
         "['Red']",
         "[200]",
         "[120]",
         "001_00016"
        ],
        [
         "17",
         "<fov.FOV object at 0x000002187F6710D0>",
         "0",
         "0",
         "17",
         "170",
         "{'stim_profile': {'device_name': 'LedDMD', 'property_name': 'Cyan_Level', 'power': 10, 'channel': 'CyanStim'}, 'stim_exposure': 100, 'stim_timestep': [0, 1, 2, 3, 4, 5, 6, 7, 8, 9, 10, 11, 12, 13, 14], 'stim_cell_percentage': 0.2}",
         "{'cell_line': 'miRFP'}",
         "False",
         "['Red']",
         "[200]",
         "[120]",
         "000_00017"
        ],
        [
         "137",
         "<fov.FOV object at 0x000002187F670A10>",
         "1",
         "1",
         "17",
         "170",
         "{'stim_profile': {'device_name': 'LedDMD', 'property_name': 'Cyan_Level', 'power': 10, 'channel': 'CyanStim'}, 'stim_exposure': 100, 'stim_timestep': [0, 1, 2, 3, 4, 5, 6, 7, 8, 9, 10, 11, 12, 13, 14], 'stim_cell_percentage': 0.2}",
         "{'cell_line': 'miRFP'}",
         "False",
         "['Red']",
         "[200]",
         "[120]",
         "001_00017"
        ],
        [
         "18",
         "<fov.FOV object at 0x000002187F6710D0>",
         "0",
         "0",
         "18",
         "180",
         "{'stim_profile': {'device_name': 'LedDMD', 'property_name': 'Cyan_Level', 'power': 10, 'channel': 'CyanStim'}, 'stim_exposure': 100, 'stim_timestep': [0, 1, 2, 3, 4, 5, 6, 7, 8, 9, 10, 11, 12, 13, 14], 'stim_cell_percentage': 0.2}",
         "{'cell_line': 'miRFP'}",
         "False",
         "['Red']",
         "[200]",
         "[120]",
         "000_00018"
        ],
        [
         "138",
         "<fov.FOV object at 0x000002187F670A10>",
         "1",
         "1",
         "18",
         "180",
         "{'stim_profile': {'device_name': 'LedDMD', 'property_name': 'Cyan_Level', 'power': 10, 'channel': 'CyanStim'}, 'stim_exposure': 100, 'stim_timestep': [0, 1, 2, 3, 4, 5, 6, 7, 8, 9, 10, 11, 12, 13, 14], 'stim_cell_percentage': 0.2}",
         "{'cell_line': 'miRFP'}",
         "False",
         "['Red']",
         "[200]",
         "[120]",
         "001_00018"
        ],
        [
         "19",
         "<fov.FOV object at 0x000002187F6710D0>",
         "0",
         "0",
         "19",
         "190",
         "{'stim_profile': {'device_name': 'LedDMD', 'property_name': 'Cyan_Level', 'power': 10, 'channel': 'CyanStim'}, 'stim_exposure': 100, 'stim_timestep': [0, 1, 2, 3, 4, 5, 6, 7, 8, 9, 10, 11, 12, 13, 14], 'stim_cell_percentage': 0.2}",
         "{'cell_line': 'miRFP'}",
         "False",
         "['Red']",
         "[200]",
         "[120]",
         "000_00019"
        ],
        [
         "139",
         "<fov.FOV object at 0x000002187F670A10>",
         "1",
         "1",
         "19",
         "190",
         "{'stim_profile': {'device_name': 'LedDMD', 'property_name': 'Cyan_Level', 'power': 10, 'channel': 'CyanStim'}, 'stim_exposure': 100, 'stim_timestep': [0, 1, 2, 3, 4, 5, 6, 7, 8, 9, 10, 11, 12, 13, 14], 'stim_cell_percentage': 0.2}",
         "{'cell_line': 'miRFP'}",
         "False",
         "['Red']",
         "[200]",
         "[120]",
         "001_00019"
        ],
        [
         "20",
         "<fov.FOV object at 0x000002187F6710D0>",
         "0",
         "0",
         "20",
         "200",
         "{'stim_profile': {'device_name': 'LedDMD', 'property_name': 'Cyan_Level', 'power': 10, 'channel': 'CyanStim'}, 'stim_exposure': 100, 'stim_timestep': [0, 1, 2, 3, 4, 5, 6, 7, 8, 9, 10, 11, 12, 13, 14], 'stim_cell_percentage': 0.2}",
         "{'cell_line': 'miRFP'}",
         "False",
         "['Red']",
         "[200]",
         "[120]",
         "000_00020"
        ],
        [
         "140",
         "<fov.FOV object at 0x000002187F670A10>",
         "1",
         "1",
         "20",
         "200",
         "{'stim_profile': {'device_name': 'LedDMD', 'property_name': 'Cyan_Level', 'power': 10, 'channel': 'CyanStim'}, 'stim_exposure': 100, 'stim_timestep': [0, 1, 2, 3, 4, 5, 6, 7, 8, 9, 10, 11, 12, 13, 14], 'stim_cell_percentage': 0.2}",
         "{'cell_line': 'miRFP'}",
         "False",
         "['Red']",
         "[200]",
         "[120]",
         "001_00020"
        ],
        [
         "21",
         "<fov.FOV object at 0x000002187F6710D0>",
         "0",
         "0",
         "21",
         "210",
         "{'stim_profile': {'device_name': 'LedDMD', 'property_name': 'Cyan_Level', 'power': 10, 'channel': 'CyanStim'}, 'stim_exposure': 100, 'stim_timestep': [0, 1, 2, 3, 4, 5, 6, 7, 8, 9, 10, 11, 12, 13, 14], 'stim_cell_percentage': 0.2}",
         "{'cell_line': 'miRFP'}",
         "False",
         "['Red']",
         "[200]",
         "[120]",
         "000_00021"
        ],
        [
         "141",
         "<fov.FOV object at 0x000002187F670A10>",
         "1",
         "1",
         "21",
         "210",
         "{'stim_profile': {'device_name': 'LedDMD', 'property_name': 'Cyan_Level', 'power': 10, 'channel': 'CyanStim'}, 'stim_exposure': 100, 'stim_timestep': [0, 1, 2, 3, 4, 5, 6, 7, 8, 9, 10, 11, 12, 13, 14], 'stim_cell_percentage': 0.2}",
         "{'cell_line': 'miRFP'}",
         "False",
         "['Red']",
         "[200]",
         "[120]",
         "001_00021"
        ],
        [
         "22",
         "<fov.FOV object at 0x000002187F6710D0>",
         "0",
         "0",
         "22",
         "220",
         "{'stim_profile': {'device_name': 'LedDMD', 'property_name': 'Cyan_Level', 'power': 10, 'channel': 'CyanStim'}, 'stim_exposure': 100, 'stim_timestep': [0, 1, 2, 3, 4, 5, 6, 7, 8, 9, 10, 11, 12, 13, 14], 'stim_cell_percentage': 0.2}",
         "{'cell_line': 'miRFP'}",
         "False",
         "['Red']",
         "[200]",
         "[120]",
         "000_00022"
        ],
        [
         "142",
         "<fov.FOV object at 0x000002187F670A10>",
         "1",
         "1",
         "22",
         "220",
         "{'stim_profile': {'device_name': 'LedDMD', 'property_name': 'Cyan_Level', 'power': 10, 'channel': 'CyanStim'}, 'stim_exposure': 100, 'stim_timestep': [0, 1, 2, 3, 4, 5, 6, 7, 8, 9, 10, 11, 12, 13, 14], 'stim_cell_percentage': 0.2}",
         "{'cell_line': 'miRFP'}",
         "False",
         "['Red']",
         "[200]",
         "[120]",
         "001_00022"
        ],
        [
         "23",
         "<fov.FOV object at 0x000002187F6710D0>",
         "0",
         "0",
         "23",
         "230",
         "{'stim_profile': {'device_name': 'LedDMD', 'property_name': 'Cyan_Level', 'power': 10, 'channel': 'CyanStim'}, 'stim_exposure': 100, 'stim_timestep': [0, 1, 2, 3, 4, 5, 6, 7, 8, 9, 10, 11, 12, 13, 14], 'stim_cell_percentage': 0.2}",
         "{'cell_line': 'miRFP'}",
         "False",
         "['Red']",
         "[200]",
         "[120]",
         "000_00023"
        ],
        [
         "143",
         "<fov.FOV object at 0x000002187F670A10>",
         "1",
         "1",
         "23",
         "230",
         "{'stim_profile': {'device_name': 'LedDMD', 'property_name': 'Cyan_Level', 'power': 10, 'channel': 'CyanStim'}, 'stim_exposure': 100, 'stim_timestep': [0, 1, 2, 3, 4, 5, 6, 7, 8, 9, 10, 11, 12, 13, 14], 'stim_cell_percentage': 0.2}",
         "{'cell_line': 'miRFP'}",
         "False",
         "['Red']",
         "[200]",
         "[120]",
         "001_00023"
        ],
        [
         "24",
         "<fov.FOV object at 0x000002187F6710D0>",
         "0",
         "0",
         "24",
         "240",
         "{'stim_profile': {'device_name': 'LedDMD', 'property_name': 'Cyan_Level', 'power': 10, 'channel': 'CyanStim'}, 'stim_exposure': 100, 'stim_timestep': [0, 1, 2, 3, 4, 5, 6, 7, 8, 9, 10, 11, 12, 13, 14], 'stim_cell_percentage': 0.2}",
         "{'cell_line': 'miRFP'}",
         "False",
         "['Red']",
         "[200]",
         "[120]",
         "000_00024"
        ],
        [
         "144",
         "<fov.FOV object at 0x000002187F670A10>",
         "1",
         "1",
         "24",
         "240",
         "{'stim_profile': {'device_name': 'LedDMD', 'property_name': 'Cyan_Level', 'power': 10, 'channel': 'CyanStim'}, 'stim_exposure': 100, 'stim_timestep': [0, 1, 2, 3, 4, 5, 6, 7, 8, 9, 10, 11, 12, 13, 14], 'stim_cell_percentage': 0.2}",
         "{'cell_line': 'miRFP'}",
         "False",
         "['Red']",
         "[200]",
         "[120]",
         "001_00024"
        ]
       ],
       "shape": {
        "columns": 12,
        "rows": 2400
       }
      },
      "text/html": [
       "<div>\n",
       "<style scoped>\n",
       "    .dataframe tbody tr th:only-of-type {\n",
       "        vertical-align: middle;\n",
       "    }\n",
       "\n",
       "    .dataframe tbody tr th {\n",
       "        vertical-align: top;\n",
       "    }\n",
       "\n",
       "    .dataframe thead th {\n",
       "        text-align: right;\n",
       "    }\n",
       "</style>\n",
       "<table border=\"1\" class=\"dataframe\">\n",
       "  <thead>\n",
       "    <tr style=\"text-align: right;\">\n",
       "      <th></th>\n",
       "      <th>fov_object</th>\n",
       "      <th>fov</th>\n",
       "      <th>name</th>\n",
       "      <th>timestep</th>\n",
       "      <th>time</th>\n",
       "      <th>treatment</th>\n",
       "      <th>metadata</th>\n",
       "      <th>stim</th>\n",
       "      <th>channels</th>\n",
       "      <th>channels_exposure</th>\n",
       "      <th>channel_power</th>\n",
       "      <th>fname</th>\n",
       "    </tr>\n",
       "  </thead>\n",
       "  <tbody>\n",
       "    <tr>\n",
       "      <th>0</th>\n",
       "      <td>&lt;fov.FOV object at 0x000002187F6710D0&gt;</td>\n",
       "      <td>0</td>\n",
       "      <td>0</td>\n",
       "      <td>0</td>\n",
       "      <td>0</td>\n",
       "      <td>{'stim_profile': {'device_name': 'LedDMD', 'pr...</td>\n",
       "      <td>{'cell_line': 'miRFP'}</td>\n",
       "      <td>True</td>\n",
       "      <td>[Red]</td>\n",
       "      <td>[200]</td>\n",
       "      <td>[120]</td>\n",
       "      <td>000_00000</td>\n",
       "    </tr>\n",
       "    <tr>\n",
       "      <th>120</th>\n",
       "      <td>&lt;fov.FOV object at 0x000002187F670A10&gt;</td>\n",
       "      <td>1</td>\n",
       "      <td>1</td>\n",
       "      <td>0</td>\n",
       "      <td>0</td>\n",
       "      <td>{'stim_profile': {'device_name': 'LedDMD', 'pr...</td>\n",
       "      <td>{'cell_line': 'miRFP'}</td>\n",
       "      <td>True</td>\n",
       "      <td>[Red]</td>\n",
       "      <td>[200]</td>\n",
       "      <td>[120]</td>\n",
       "      <td>001_00000</td>\n",
       "    </tr>\n",
       "    <tr>\n",
       "      <th>1</th>\n",
       "      <td>&lt;fov.FOV object at 0x000002187F6710D0&gt;</td>\n",
       "      <td>0</td>\n",
       "      <td>0</td>\n",
       "      <td>1</td>\n",
       "      <td>10</td>\n",
       "      <td>{'stim_profile': {'device_name': 'LedDMD', 'pr...</td>\n",
       "      <td>{'cell_line': 'miRFP'}</td>\n",
       "      <td>True</td>\n",
       "      <td>[Red]</td>\n",
       "      <td>[200]</td>\n",
       "      <td>[120]</td>\n",
       "      <td>000_00001</td>\n",
       "    </tr>\n",
       "    <tr>\n",
       "      <th>121</th>\n",
       "      <td>&lt;fov.FOV object at 0x000002187F670A10&gt;</td>\n",
       "      <td>1</td>\n",
       "      <td>1</td>\n",
       "      <td>1</td>\n",
       "      <td>10</td>\n",
       "      <td>{'stim_profile': {'device_name': 'LedDMD', 'pr...</td>\n",
       "      <td>{'cell_line': 'miRFP'}</td>\n",
       "      <td>True</td>\n",
       "      <td>[Red]</td>\n",
       "      <td>[200]</td>\n",
       "      <td>[120]</td>\n",
       "      <td>001_00001</td>\n",
       "    </tr>\n",
       "    <tr>\n",
       "      <th>2</th>\n",
       "      <td>&lt;fov.FOV object at 0x000002187F6710D0&gt;</td>\n",
       "      <td>0</td>\n",
       "      <td>0</td>\n",
       "      <td>2</td>\n",
       "      <td>20</td>\n",
       "      <td>{'stim_profile': {'device_name': 'LedDMD', 'pr...</td>\n",
       "      <td>{'cell_line': 'miRFP'}</td>\n",
       "      <td>True</td>\n",
       "      <td>[Red]</td>\n",
       "      <td>[200]</td>\n",
       "      <td>[120]</td>\n",
       "      <td>000_00002</td>\n",
       "    </tr>\n",
       "    <tr>\n",
       "      <th>...</th>\n",
       "      <td>...</td>\n",
       "      <td>...</td>\n",
       "      <td>...</td>\n",
       "      <td>...</td>\n",
       "      <td>...</td>\n",
       "      <td>...</td>\n",
       "      <td>...</td>\n",
       "      <td>...</td>\n",
       "      <td>...</td>\n",
       "      <td>...</td>\n",
       "      <td>...</td>\n",
       "      <td>...</td>\n",
       "    </tr>\n",
       "    <tr>\n",
       "      <th>2397</th>\n",
       "      <td>&lt;fov.FOV object at 0x000002187F671910&gt;</td>\n",
       "      <td>19</td>\n",
       "      <td>9</td>\n",
       "      <td>117</td>\n",
       "      <td>11970</td>\n",
       "      <td>{'stim_profile': {'device_name': 'LedDMD', 'pr...</td>\n",
       "      <td>{'cell_line': 'mCherry'}</td>\n",
       "      <td>False</td>\n",
       "      <td>[Green]</td>\n",
       "      <td>[200]</td>\n",
       "      <td>[120]</td>\n",
       "      <td>019_00117</td>\n",
       "    </tr>\n",
       "    <tr>\n",
       "      <th>2278</th>\n",
       "      <td>&lt;fov.FOV object at 0x000002187F671850&gt;</td>\n",
       "      <td>18</td>\n",
       "      <td>8</td>\n",
       "      <td>118</td>\n",
       "      <td>11980</td>\n",
       "      <td>{'stim_profile': {'device_name': 'LedDMD', 'pr...</td>\n",
       "      <td>{'cell_line': 'mCherry'}</td>\n",
       "      <td>False</td>\n",
       "      <td>[Green]</td>\n",
       "      <td>[200]</td>\n",
       "      <td>[120]</td>\n",
       "      <td>018_00118</td>\n",
       "    </tr>\n",
       "    <tr>\n",
       "      <th>2398</th>\n",
       "      <td>&lt;fov.FOV object at 0x000002187F671910&gt;</td>\n",
       "      <td>19</td>\n",
       "      <td>9</td>\n",
       "      <td>118</td>\n",
       "      <td>11980</td>\n",
       "      <td>{'stim_profile': {'device_name': 'LedDMD', 'pr...</td>\n",
       "      <td>{'cell_line': 'mCherry'}</td>\n",
       "      <td>False</td>\n",
       "      <td>[Green]</td>\n",
       "      <td>[200]</td>\n",
       "      <td>[120]</td>\n",
       "      <td>019_00118</td>\n",
       "    </tr>\n",
       "    <tr>\n",
       "      <th>2279</th>\n",
       "      <td>&lt;fov.FOV object at 0x000002187F671850&gt;</td>\n",
       "      <td>18</td>\n",
       "      <td>8</td>\n",
       "      <td>119</td>\n",
       "      <td>11990</td>\n",
       "      <td>{'stim_profile': {'device_name': 'LedDMD', 'pr...</td>\n",
       "      <td>{'cell_line': 'mCherry'}</td>\n",
       "      <td>False</td>\n",
       "      <td>[Green]</td>\n",
       "      <td>[200]</td>\n",
       "      <td>[120]</td>\n",
       "      <td>018_00119</td>\n",
       "    </tr>\n",
       "    <tr>\n",
       "      <th>2399</th>\n",
       "      <td>&lt;fov.FOV object at 0x000002187F671910&gt;</td>\n",
       "      <td>19</td>\n",
       "      <td>9</td>\n",
       "      <td>119</td>\n",
       "      <td>11990</td>\n",
       "      <td>{'stim_profile': {'device_name': 'LedDMD', 'pr...</td>\n",
       "      <td>{'cell_line': 'mCherry'}</td>\n",
       "      <td>False</td>\n",
       "      <td>[Green]</td>\n",
       "      <td>[200]</td>\n",
       "      <td>[120]</td>\n",
       "      <td>019_00119</td>\n",
       "    </tr>\n",
       "  </tbody>\n",
       "</table>\n",
       "<p>2400 rows × 12 columns</p>\n",
       "</div>"
      ],
      "text/plain": [
       "                                  fov_object  fov name  timestep   time  \\\n",
       "0     <fov.FOV object at 0x000002187F6710D0>    0    0         0      0   \n",
       "120   <fov.FOV object at 0x000002187F670A10>    1    1         0      0   \n",
       "1     <fov.FOV object at 0x000002187F6710D0>    0    0         1     10   \n",
       "121   <fov.FOV object at 0x000002187F670A10>    1    1         1     10   \n",
       "2     <fov.FOV object at 0x000002187F6710D0>    0    0         2     20   \n",
       "...                                      ...  ...  ...       ...    ...   \n",
       "2397  <fov.FOV object at 0x000002187F671910>   19    9       117  11970   \n",
       "2278  <fov.FOV object at 0x000002187F671850>   18    8       118  11980   \n",
       "2398  <fov.FOV object at 0x000002187F671910>   19    9       118  11980   \n",
       "2279  <fov.FOV object at 0x000002187F671850>   18    8       119  11990   \n",
       "2399  <fov.FOV object at 0x000002187F671910>   19    9       119  11990   \n",
       "\n",
       "                                              treatment  \\\n",
       "0     {'stim_profile': {'device_name': 'LedDMD', 'pr...   \n",
       "120   {'stim_profile': {'device_name': 'LedDMD', 'pr...   \n",
       "1     {'stim_profile': {'device_name': 'LedDMD', 'pr...   \n",
       "121   {'stim_profile': {'device_name': 'LedDMD', 'pr...   \n",
       "2     {'stim_profile': {'device_name': 'LedDMD', 'pr...   \n",
       "...                                                 ...   \n",
       "2397  {'stim_profile': {'device_name': 'LedDMD', 'pr...   \n",
       "2278  {'stim_profile': {'device_name': 'LedDMD', 'pr...   \n",
       "2398  {'stim_profile': {'device_name': 'LedDMD', 'pr...   \n",
       "2279  {'stim_profile': {'device_name': 'LedDMD', 'pr...   \n",
       "2399  {'stim_profile': {'device_name': 'LedDMD', 'pr...   \n",
       "\n",
       "                      metadata   stim channels channels_exposure  \\\n",
       "0       {'cell_line': 'miRFP'}   True    [Red]             [200]   \n",
       "120     {'cell_line': 'miRFP'}   True    [Red]             [200]   \n",
       "1       {'cell_line': 'miRFP'}   True    [Red]             [200]   \n",
       "121     {'cell_line': 'miRFP'}   True    [Red]             [200]   \n",
       "2       {'cell_line': 'miRFP'}   True    [Red]             [200]   \n",
       "...                        ...    ...      ...               ...   \n",
       "2397  {'cell_line': 'mCherry'}  False  [Green]             [200]   \n",
       "2278  {'cell_line': 'mCherry'}  False  [Green]             [200]   \n",
       "2398  {'cell_line': 'mCherry'}  False  [Green]             [200]   \n",
       "2279  {'cell_line': 'mCherry'}  False  [Green]             [200]   \n",
       "2399  {'cell_line': 'mCherry'}  False  [Green]             [200]   \n",
       "\n",
       "     channel_power      fname  \n",
       "0            [120]  000_00000  \n",
       "120          [120]  001_00000  \n",
       "1            [120]  000_00001  \n",
       "121          [120]  001_00001  \n",
       "2            [120]  000_00002  \n",
       "...            ...        ...  \n",
       "2397         [120]  019_00117  \n",
       "2278         [120]  018_00118  \n",
       "2398         [120]  019_00118  \n",
       "2279         [120]  018_00119  \n",
       "2399         [120]  019_00119  \n",
       "\n",
       "[2400 rows x 12 columns]"
      ]
     },
     "execution_count": 77,
     "metadata": {},
     "output_type": "execute_result"
    }
   ],
   "source": [
    "n_fovs_simultaneously = time_between_frames // time_per_fov\n",
    "start_time = 0\n",
    "\n",
    "dfs = []\n",
    "for fov in fovs:\n",
    "    fov_group = fov.index // n_fovs_simultaneously\n",
    "    start_time = fov_group * time_between_frames * len(timesteps)\n",
    "\n",
    "    for timestep in timesteps:\n",
    "        if fov.metadata['cell_line'] == \"mCherry\":\n",
    "            channels_power = [120]\n",
    "            channels = ['Green']\n",
    "            channels_exposure = [200]\n",
    "        if fov.metadata['cell_line'] == \"miRFP\":\n",
    "            channels_power = [120]\n",
    "            channels = ['Red']\n",
    "            channels_exposure = [200]\n",
    "\n",
    "        new_row = { 'fov_object': fov,\n",
    "                    'fov':fov.index,\n",
    "                    'name':fov.name,\n",
    "                    'timestep': timestep,\n",
    "                    'time': start_time + timestep*time_between_frames,\n",
    "                    'treatment': fov.treatment,\n",
    "                    'metadata': fov.metadata,\n",
    "                    'stim': timestep in fov.treatment['stim_timestep'] and fov.treatment[\"stim_exposure\"] != 0, # not really important, only for visualisation\n",
    "                    'channels': channels,\n",
    "                    'channels_exposure':channels_exposure,\n",
    "                    'channel_power': channels_power,\n",
    "                    'fname' : f'{str(fov.index).zfill(3)}_{str(timestep).zfill(5)}',\n",
    "                    }\n",
    "        dfs.append(new_row)\n",
    "\n",
    "df_acquire = pd.DataFrame(dfs)\n",
    "pd.set_option('display.max_columns', None)\n",
    "pd.set_option('display.expand_frame_repr', True)\n",
    "df_acquire = df_acquire.sort_values(by=['time', 'fov'])\n",
    "print(f\"Total Experiment Time: {df_acquire['time'].max()/3600}h\")\n",
    "df_acquire\n"
   ]
  },
  {
   "attachments": {},
   "cell_type": "markdown",
   "metadata": {},
   "source": [
    "## Run experiment"
   ]
  },
  {
   "cell_type": "code",
   "execution_count": null,
   "metadata": {},
   "outputs": [],
   "source": [
    "%load_ext autoreload\n",
    "%autoreload 2\n",
    "from add_frame import ImageProcessingPipeline\n",
    "from segmentation.imaging_server import SegmentatorImagingServerKit\n",
    "from stimulation.percentage_of_cell import StimPercentageOfCell    \n",
    "from controller import Controller, Analyzer\n",
    "from tracking.trackpy import TrackerTrackpy\n",
    "from dmd import DMD\n",
    "from queue import Queue\n",
    "\n",
    "try: \n",
    "    mm_wdg._core_link.cleanup()\n",
    "except:\n",
    "    pass\n",
    "\n",
    "segmentator = SegmentatorImagingServerKit()\n",
    "stimulator = StimPercentageOfCell()\n",
    "tracker = TrackerTrackpy()\n",
    "dmd = DMD(mmc, DMD_CALIBRATION_PROFILE)\n",
    "\n",
    "pipeline = ImageProcessingPipeline(segmentator,stimulator,tracker)\n",
    "analyzer = Analyzer(pipeline)\n",
    "queue = Queue()\n",
    "controller = Controller(analyzer, mmc, queue, dmd)\n",
    "wl.run(wait_for_warmup=True)\n",
    "controller.run(df_acquire)\n",
    "wl.stop()"
   ]
  }
 ],
 "metadata": {
  "kernelspec": {
   "display_name": "data_analysis",
   "language": "python",
   "name": "python3"
  },
  "language_info": {
   "codemirror_mode": {
    "name": "ipython",
    "version": 3
   },
   "file_extension": ".py",
   "mimetype": "text/x-python",
   "name": "python",
   "nbconvert_exporter": "python",
   "pygments_lexer": "ipython3",
   "version": "3.13.2"
  },
  "orig_nbformat": 4
 },
 "nbformat": 4,
 "nbformat_minor": 2
}

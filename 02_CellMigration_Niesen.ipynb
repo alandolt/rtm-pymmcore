{
 "cells": [
  {
   "cell_type": "markdown",
   "metadata": {},
   "source": [
    "# Cell Migration RTM Pipeline\n",
    "This notebook showcases an example how to do directed migration as shown in the real-time feedback microscopy paper. The frontal part of the cells are stimulated using a DMD. The Demo is adapted to run on our Ti2 microscope called Niesen (see our [Mic config repository](https://github.com/pertzlab/pertzlab_mic_configs) for the full configuration file). "
   ]
  },
  {
   "cell_type": "markdown",
   "metadata": {},
   "source": [
    "### Import required libraries"
   ]
  },
  {
   "cell_type": "code",
   "execution_count": 2,
   "metadata": {},
   "outputs": [],
   "source": [
    "import os\n",
    "import time\n",
    "\n",
    "os.environ[\"QT_LOGGING_RULES\"] = (\n",
    "    \"*.debug=false; *.warning=false\"  # Fix to suppress PyQT warnings from napari-micromanager when running in a Jupyter notebook\n",
    ")\n",
    "os.environ[\"MICROMANAGER_PATH\"] = \"C:\\\\Program Files\\\\Micro-Manager-2.0\"\n",
    "\n",
    "from rtm_pymmcore.data_structures import Fov, Channel, StimTreatment\n",
    "from pprint import pprint\n",
    "import pandas as pd\n",
    "import numpy as np\n",
    "import dataclasses\n",
    "import random\n",
    "import pymmcore_plus\n",
    "\n",
    "mmc = pymmcore_plus.CMMCorePlus()"
   ]
  },
  {
   "cell_type": "markdown",
   "metadata": {},
   "source": [
    "### Experimental Settings"
   ]
  },
  {
   "cell_type": "code",
   "execution_count": 7,
   "metadata": {},
   "outputs": [
    {
     "name": "stdout",
     "output_type": "stream",
     "text": [
      "The autoreload extension is already loaded. To reload it, use:\n",
      "  %reload_ext autoreload\n",
      "[StimTreatment(stim_channel_name='CyanStim',\n",
      "               stim_channel_group='WF_DMD',\n",
      "               stim_timestep=(...),\n",
      "               stim_exposure=100,\n",
      "               stim_power=10,\n",
      "               stim_channel_device_name='LedDMD',\n",
      "               stim_channel_power_property_name='Cyan_Level')]\n",
      "Directory C:\\Users\\Alex\\Ausbildung\\PhD_temp\\test_exp\\exp_test_02\\raw already exists\n",
      "Directory C:\\Users\\Alex\\Ausbildung\\PhD_temp\\test_exp\\exp_test_02\\tracks already exists\n",
      "Directory C:\\Users\\Alex\\Ausbildung\\PhD_temp\\test_exp\\exp_test_02\\stim_mask already exists\n",
      "Directory C:\\Users\\Alex\\Ausbildung\\PhD_temp\\test_exp\\exp_test_02\\stim already exists\n",
      "Directory C:\\Users\\Alex\\Ausbildung\\PhD_temp\\test_exp\\exp_test_02\\particles already exists\n",
      "Directory C:\\Users\\Alex\\Ausbildung\\PhD_temp\\test_exp\\exp_test_02\\labels already exists\n"
     ]
    }
   ],
   "source": [
    "%load_ext autoreload\n",
    "%autoreload 2\n",
    "\n",
    "## Configuration options\n",
    "TIME_BETWEEN_TIMESTEPS = 20  # time in seconds between frames\n",
    "\n",
    "N_FRAMES = 60 // TIME_BETWEEN_TIMESTEPS * 20\n",
    "\n",
    "FIRST_FRAME_STIMULATION = 0\n",
    "\n",
    "SLEEP_BEFORE_EXPERIMENT_START_in_H = 0\n",
    "USE_AUTOFOCUS_EVENT = False\n",
    "\n",
    "TIME_PER_FOV = 20  # time in seconds per fov\n",
    "\n",
    "\n",
    "## Storage path for the experiment\n",
    "base_path = \"C:\\\\Users\\\\Alex\\\\Ausbildung\\\\PhD_temp\\\\test_exp\"\n",
    "experiment_name = \"exp_test_02\"\n",
    "path = os.path.join(base_path, experiment_name)\n",
    "\n",
    "\n",
    "# Define Channels for which Images are taken. If no power is defined, the default power of the device will be used,\n",
    "# for example, see the second channel \"Cy5\" below. The default power is set in the GUI\n",
    "channels = []\n",
    "channels.append(Channel(name=\"Green\", exposure=100))\n",
    "\n",
    "\n",
    "# Condition mapping to FOVs. This is used to create a dataframe with the conditions and the FOVs.\n",
    "condition = [\n",
    "    \"mCherry\",\n",
    "]  # Example of adding a condition to the dataframe. Stimulation will be repeated for each condition.\n",
    "# condition = [\"optoFGFR_high\"] * 24 + [\"optoFGFR\"] * 24 # Example of adding multiple conditions to the dataframe. n repreats the amount of times the condition is repeated.\n",
    "\n",
    "n_fovs_per_condition = None  ## change this variable to the amount of fovs that you have per cell line. If only one cell line is set, this value will\n",
    "# automatically set to total amount of fovs.\n",
    "\n",
    "n_fovs_per_well = None  ## change this variable to the amount of fovs that you have per well. Set to None if you are not working with wellplate.\n",
    "\n",
    "\n",
    "# Stimulation parameters for optogenetics. The stimulation will be repeated for each condition.\n",
    "\n",
    "stim_exposures = [\n",
    "    100\n",
    "]  # or e.g. [10, 20, 30] for different exposures. The exposure time is the time that the LED is on.\n",
    "# Define the stimulation timesteps\n",
    "stim_timesteps = [\n",
    "    range(FIRST_FRAME_STIMULATION, N_FRAMES, 1)\n",
    "]  # Using range to define timesteps from FIRST_FRAME_STIMULATION to N_FRAMES with step 2\n",
    "\n",
    "# Combine the different paramters in stim_exposure and stim timestep to create stim_treatments which represents all possible combinations\n",
    "stim_treatments = [\n",
    "    StimTreatment(\n",
    "        stim_channel_name=\"CyanStim\",\n",
    "        stim_channel_group=\"WF_DMD\",\n",
    "        stim_timestep=stim_timestep,\n",
    "        stim_exposure=stim_exposure,\n",
    "        stim_power=10,\n",
    "        stim_channel_device_name=\"LedDMD\",\n",
    "        stim_channel_power_property_name=\"Cyan_Level\",\n",
    "    )\n",
    "    for stim_exposure in stim_exposures\n",
    "    for stim_timestep in stim_timesteps\n",
    "]\n",
    "for stim_treatment in stim_treatments:\n",
    "    if isinstance(stim_treatment.stim_timestep, range):\n",
    "        stim_treatment.stim_timestep = tuple(stim_treatment.stim_timestep)\n",
    "\n",
    "## Define the Tools that you are using for the experiment\n",
    "from rtm_pymmcore.segmentation.cellpose import SegmentorCellpose\n",
    "from rtm_pymmcore.stimulation.percentage_of_cell import StimPercentageOfCell\n",
    "from rtm_pymmcore.tracking.trackpy import TrackerTrackpy\n",
    "from rtm_pymmcore.feature_extraction.simple_fe import SimpleFE\n",
    "\n",
    "segmentators = [\n",
    "    {\n",
    "        \"name\": \"labels\",\n",
    "        \"class\": SegmentorCellpose(model=\"cyto3\", diameter=75, flow_threshold=0.4),\n",
    "        \"use_channel\": 0,\n",
    "        \"save_tracked\": True,\n",
    "    },\n",
    "]\n",
    "\n",
    "stimulator = StimPercentageOfCell()\n",
    "feature_extractor = SimpleFE(\"labels\")\n",
    "tracker = TrackerTrackpy()\n",
    "\n",
    "pprint(stim_treatments, depth=2)\n",
    "\n",
    "\n",
    "from rtm_pymmcore.img_processing_pip import ImageProcessingPipeline\n",
    "\n",
    "pipeline = ImageProcessingPipeline(\n",
    "    storage_path=path,\n",
    "    segmentators=segmentators,\n",
    "    feature_extractor=feature_extractor,\n",
    "    tracker=tracker,\n",
    "    stimulator=stimulator,\n",
    ")"
   ]
  },
  {
   "cell_type": "markdown",
   "metadata": {},
   "source": [
    "#### Test functions to directly see results from experiment before the start of it"
   ]
  },
  {
   "cell_type": "code",
   "execution_count": 12,
   "metadata": {},
   "outputs": [
    {
     "data": {
      "text/plain": [
       "<matplotlib.image.AxesImage at 0x1bc46aece10>"
      ]
     },
     "execution_count": 12,
     "metadata": {},
     "output_type": "execute_result"
    },
    {
     "data": {
      "image/png": "[encoded data removed]",
      "text/plain": [
       "<Figure size 640x480 with 1 Axes>"
      ]
     },
     "metadata": {},
     "output_type": "display_data"
    }
   ],
   "source": [
    "import tifffile\n",
    "\n",
    "seg = SegmentorCellpose(model=\"cyto3\", diameter=75, flow_threshold=0.4)\n",
    "raw = tifffile.imread(\n",
    "    os.path.join(path_with_old_data_for_simulation, \"raw\", \"000_00000.tiff\")\n",
    ")\n",
    "res = seg.segment(raw)\n",
    "import matplotlib.pyplot as plt\n",
    "\n",
    "plt.imshow(res)"
   ]
  },
  {
   "cell_type": "code",
   "execution_count": 24,
   "metadata": {},
   "outputs": [
    {
     "data": {
      "text/plain": [
       "<matplotlib.image.AxesImage at 0x1bc605719d0>"
      ]
     },
     "execution_count": 24,
     "metadata": {},
     "output_type": "execute_result"
    },
    {
     "data": {
      "image/png": "[encoded data removed]",
      "text/plain": [
       "<Figure size 640x480 with 1 Axes>"
      ]
     },
     "metadata": {},
     "output_type": "display_data"
    }
   ],
   "source": [
    "stim_mask = stimulator.get_stim_mask({\"labels\": res}, {})\n",
    "plt.imshow(stim_mask[0])"
   ]
  },
  {
   "cell_type": "markdown",
   "metadata": {},
   "source": [
    "### Load device and set startup channel"
   ]
  },
  {
   "cell_type": "code",
   "execution_count": null,
   "metadata": {},
   "outputs": [],
   "source": [
    "mmc.loadSystemConfiguration(\n",
    "    \"E:\\\\pertzlab_mic_configs\\\\micromanager\\\\Niesen\\\\Ti2CicercoConfig_w_DMD_w_TTL.cfg\"\n",
    ")\n",
    "mmc.setConfig(groupName=\"System\", configName=\"Startup\")\n",
    "\n",
    "### The following libraries are used to wake up the Lumencor laser\n",
    "import requests\n",
    "import threading\n",
    "import time\n",
    "from useq._mda_event import SLMImage\n",
    "from useq import MDAEvent\n",
    "\n",
    "\n",
    "class WakeUpLaser:\n",
    "    def __init__(self, lumencore_ip=\"192.168.201.200\"):\n",
    "        self.ip = lumencore_ip\n",
    "        self.last_wakeup = 0\n",
    "        self.is_running = False\n",
    "\n",
    "    def wakeup_laser(self):\n",
    "        url = f\"http://{self.ip}/service/?command=WAKEUP\"\n",
    "        requests.get(url)\n",
    "\n",
    "    def run(self, wait_for_warmup=False):\n",
    "        self.is_running = True\n",
    "        self.thread = threading.Thread(target=self._keep_alive)\n",
    "        self.thread.start()\n",
    "        if wait_for_warmup:\n",
    "            time.sleep(15)\n",
    "\n",
    "    def _keep_alive(self):\n",
    "        while self.is_running:\n",
    "            if time.time() - self.last_wakeup > 60:\n",
    "                self.wakeup_laser()\n",
    "                self.last_wakeup = time.time()\n",
    "            time.sleep(3)\n",
    "\n",
    "    def stop(self):\n",
    "        self.is_running = False\n",
    "        self.thread.join()\n",
    "\n",
    "\n",
    "wl = WakeUpLaser()\n",
    "wl.wakeup_laser()\n",
    "\n",
    "slm_dev = mmc.getSLMDevice()\n",
    "slm_width = mmc.getSLMWidth(slm_dev)\n",
    "slm_height = mmc.getSLMHeight(slm_dev)\n",
    "\n",
    "event_slm_on = MDAEvent(slm_image=SLMImage(data=True))\n",
    "mmc.mda.run([event_slm_on])  # to only have fov of DMD\n",
    "mmc.setROI(150, 150, 1900, 1900)\n",
    "\n",
    "DMD_CHANNEL_GROUP = \"WF_DMD\"\n",
    "DMD_CALIBRATION_PROFILE = {\n",
    "    \"channel_group\": \"WF_DMD\",\n",
    "    \"channel_config\": \"CyanStim\",\n",
    "    \"device_name\": \"LedDMD\",\n",
    "    \"property_name\": \"Cyan_Level\",\n",
    "    \"power\": 100,\n",
    "}\n",
    "mmc.setChannelGroup(channelGroup=DMD_CHANNEL_GROUP)"
   ]
  },
  {
   "cell_type": "markdown",
   "metadata": {},
   "source": [
    "### GUI - Napari Micromanager"
   ]
  },
  {
   "cell_type": "markdown",
   "metadata": {},
   "source": [
    "#### Load GUI"
   ]
  },
  {
   "cell_type": "code",
   "execution_count": null,
   "metadata": {},
   "outputs": [],
   "source": [
    "### Base GUI ###\n",
    "from napari_micromanager import MainWindow\n",
    "import napari\n",
    "\n",
    "viewer = napari.Viewer()\n",
    "mm_wdg = MainWindow(viewer)\n",
    "viewer.window.add_dock_widget(mm_wdg)\n",
    "data_mda_fovs = None\n",
    "\n",
    "### Add MDA widget for FOV selection ###\n",
    "from pymmcore_widgets.mda import MDAWidget\n",
    "\n",
    "mdawidget = MDAWidget(mmcore=mmc)\n",
    "viewer.window.add_dock_widget(mdawidget)\n",
    "load_from_file = False"
   ]
  },
  {
   "cell_type": "markdown",
   "metadata": {},
   "source": [
    "#### Functions to break and re-connect link with GUI if manually broken\n",
    "\n",
    "The following functions can be used to manually interrupt to connection between the GUI and the running rtm-pymmcore script. However, normally you don't need to execute them. "
   ]
  },
  {
   "cell_type": "code",
   "execution_count": null,
   "metadata": {},
   "outputs": [],
   "source": [
    "### Break connection\n",
    "# mm_wdg._core_link.cleanup()"
   ]
  },
  {
   "cell_type": "code",
   "execution_count": null,
   "metadata": {},
   "outputs": [],
   "source": [
    "### Manually reconnect pymmcore with napari-micromanager\n",
    "from napari_micromanager._core_link import CoreViewerLink\n",
    "\n",
    "mm_wdg._core_link = CoreViewerLink(viewer, mmc)"
   ]
  },
  {
   "cell_type": "markdown",
   "metadata": {},
   "source": [
    "### Map Experiment to FOVs"
   ]
  },
  {
   "cell_type": "markdown",
   "metadata": {},
   "source": [
    "#### If FOVs already saved - Reload them from file"
   ]
  },
  {
   "cell_type": "code",
   "execution_count": null,
   "metadata": {},
   "outputs": [],
   "source": [
    "import json\n",
    "\n",
    "file = os.path.join(path, \"fovs.json\")\n",
    "with open(file, \"r\") as f:\n",
    "    data_mda_fovs = json.load(f)\n",
    "load_from_file = True"
   ]
  },
  {
   "cell_type": "markdown",
   "metadata": {},
   "source": [
    "### Use FOVs to generate dataframe for acquisition"
   ]
  },
  {
   "cell_type": "code",
   "execution_count": null,
   "metadata": {},
   "outputs": [
    {
     "name": "stdout",
     "output_type": "stream",
     "text": [
      "Total Experiment Time: 0.005555555555555556h\n",
      "Doing 1 experiment per stim condition\n"
     ]
    },
    {
     "data": {
      "application/vnd.microsoft.datawrangler.viewer.v0+json": {
       "columns": [
        {
         "name": "index",
         "rawType": "int64",
         "type": "integer"
        },
        {
         "name": "fov_object",
         "rawType": "object",
         "type": "unknown"
        },
        {
         "name": "fov",
         "rawType": "int64",
         "type": "integer"
        },
        {
         "name": "fov_x",
         "rawType": "float64",
         "type": "float"
        },
        {
         "name": "fov_y",
         "rawType": "float64",
         "type": "float"
        },
        {
         "name": "fov_z",
         "rawType": "float64",
         "type": "float"
        },
        {
         "name": "fov_name",
         "rawType": "object",
         "type": "string"
        },
        {
         "name": "timestep",
         "rawType": "int64",
         "type": "integer"
        },
        {
         "name": "time",
         "rawType": "int64",
         "type": "integer"
        },
        {
         "name": "cell_line",
         "rawType": "object",
         "type": "string"
        },
        {
         "name": "channels",
         "rawType": "object",
         "type": "unknown"
        },
        {
         "name": "fname",
         "rawType": "object",
         "type": "string"
        },
        {
         "name": "stim_channel_name",
         "rawType": "object",
         "type": "string"
        },
        {
         "name": "stim_channel_group",
         "rawType": "object",
         "type": "string"
        },
        {
         "name": "stim_timestep",
         "rawType": "object",
         "type": "unknown"
        },
        {
         "name": "stim_exposure",
         "rawType": "int64",
         "type": "integer"
        },
        {
         "name": "stim_power",
         "rawType": "int64",
         "type": "integer"
        },
        {
         "name": "stim_channel_device_name",
         "rawType": "object",
         "type": "string"
        },
        {
         "name": "stim_channel_power_property_name",
         "rawType": "object",
         "type": "string"
        },
        {
         "name": "stim",
         "rawType": "bool",
         "type": "boolean"
        }
       ],
       "conversionMethod": "pd.DataFrame",
       "ref": "9506d365-a168-4ccc-959f-c96e91d73cac",
       "rows": [
        [
         "0",
         "<rtm_pymmcore.data_structures.Fov object at 0x000002334094F050>",
         "0",
         "0.0",
         "0.0",
         "0.0",
         "0",
         "0",
         "0",
         "mCherry",
         "({'name': 'DAPI', 'exposure': 150, 'group': None, 'power': None, 'device_name': None, 'property_name': None},)",
         "000_00000",
         "FITC",
         "Channel",
         "(0, 1)",
         "100",
         "3",
         "LED",
         "State",
         "True"
        ],
        [
         "1",
         "<rtm_pymmcore.data_structures.Fov object at 0x000002334094F050>",
         "0",
         "0.0",
         "0.0",
         "0.0",
         "0",
         "1",
         "20",
         "mCherry",
         "({'name': 'DAPI', 'exposure': 150, 'group': None, 'power': None, 'device_name': None, 'property_name': None},)",
         "000_00001",
         "FITC",
         "Channel",
         "(0, 1)",
         "100",
         "3",
         "LED",
         "State",
         "True"
        ]
       ],
       "shape": {
        "columns": 19,
        "rows": 2
       }
      },
      "text/html": [
       "<div>\n",
       "<style scoped>\n",
       "    .dataframe tbody tr th:only-of-type {\n",
       "        vertical-align: middle;\n",
       "    }\n",
       "\n",
       "    .dataframe tbody tr th {\n",
       "        vertical-align: top;\n",
       "    }\n",
       "\n",
       "    .dataframe thead th {\n",
       "        text-align: right;\n",
       "    }\n",
       "</style>\n",
       "<table border=\"1\" class=\"dataframe\">\n",
       "  <thead>\n",
       "    <tr style=\"text-align: right;\">\n",
       "      <th></th>\n",
       "      <th>fov_object</th>\n",
       "      <th>fov</th>\n",
       "      <th>fov_x</th>\n",
       "      <th>fov_y</th>\n",
       "      <th>fov_z</th>\n",
       "      <th>fov_name</th>\n",
       "      <th>timestep</th>\n",
       "      <th>time</th>\n",
       "      <th>cell_line</th>\n",
       "      <th>channels</th>\n",
       "      <th>fname</th>\n",
       "      <th>stim_channel_name</th>\n",
       "      <th>stim_channel_group</th>\n",
       "      <th>stim_timestep</th>\n",
       "      <th>stim_exposure</th>\n",
       "      <th>stim_power</th>\n",
       "      <th>stim_channel_device_name</th>\n",
       "      <th>stim_channel_power_property_name</th>\n",
       "      <th>stim</th>\n",
       "    </tr>\n",
       "  </thead>\n",
       "  <tbody>\n",
       "    <tr>\n",
       "      <th>0</th>\n",
       "      <td>&lt;rtm_pymmcore.data_structures.Fov object at 0x...</td>\n",
       "      <td>0</td>\n",
       "      <td>0.0</td>\n",
       "      <td>0.0</td>\n",
       "      <td>0.0</td>\n",
       "      <td>0</td>\n",
       "      <td>0</td>\n",
       "      <td>0</td>\n",
       "      <td>mCherry</td>\n",
       "      <td>({'name': 'DAPI', 'exposure': 150, 'group': No...</td>\n",
       "      <td>000_00000</td>\n",
       "      <td>FITC</td>\n",
       "      <td>Channel</td>\n",
       "      <td>(0, 1)</td>\n",
       "      <td>100</td>\n",
       "      <td>3</td>\n",
       "      <td>LED</td>\n",
       "      <td>State</td>\n",
       "      <td>True</td>\n",
       "    </tr>\n",
       "    <tr>\n",
       "      <th>1</th>\n",
       "      <td>&lt;rtm_pymmcore.data_structures.Fov object at 0x...</td>\n",
       "      <td>0</td>\n",
       "      <td>0.0</td>\n",
       "      <td>0.0</td>\n",
       "      <td>0.0</td>\n",
       "      <td>0</td>\n",
       "      <td>1</td>\n",
       "      <td>20</td>\n",
       "      <td>mCherry</td>\n",
       "      <td>({'name': 'DAPI', 'exposure': 150, 'group': No...</td>\n",
       "      <td>000_00001</td>\n",
       "      <td>FITC</td>\n",
       "      <td>Channel</td>\n",
       "      <td>(0, 1)</td>\n",
       "      <td>100</td>\n",
       "      <td>3</td>\n",
       "      <td>LED</td>\n",
       "      <td>State</td>\n",
       "      <td>True</td>\n",
       "    </tr>\n",
       "  </tbody>\n",
       "</table>\n",
       "</div>"
      ],
      "text/plain": [
       "                                          fov_object  fov  fov_x  fov_y  \\\n",
       "0  <rtm_pymmcore.data_structures.Fov object at 0x...    0    0.0    0.0   \n",
       "1  <rtm_pymmcore.data_structures.Fov object at 0x...    0    0.0    0.0   \n",
       "\n",
       "   fov_z fov_name  timestep  time cell_line  \\\n",
       "0    0.0        0         0     0   mCherry   \n",
       "1    0.0        0         1    20   mCherry   \n",
       "\n",
       "                                            channels      fname  \\\n",
       "0  ({'name': 'DAPI', 'exposure': 150, 'group': No...  000_00000   \n",
       "1  ({'name': 'DAPI', 'exposure': 150, 'group': No...  000_00001   \n",
       "\n",
       "  stim_channel_name stim_channel_group stim_timestep  stim_exposure  \\\n",
       "0              FITC            Channel        (0, 1)            100   \n",
       "1              FITC            Channel        (0, 1)            100   \n",
       "\n",
       "   stim_power stim_channel_device_name stim_channel_power_property_name  stim  \n",
       "0           3                      LED                            State  True  \n",
       "1           3                      LED                            State  True  "
      ]
     },
     "execution_count": 5,
     "metadata": {},
     "output_type": "execute_result"
    }
   ],
   "source": [
    "n_fovs_simultaneously = TIME_BETWEEN_TIMESTEPS // TIME_PER_FOV\n",
    "timesteps = range(N_FRAMES)\n",
    "\n",
    "start_time = 0\n",
    "if not load_from_file:\n",
    "    data_mda_fovs = mdawidget.value().stage_positions\n",
    "    data_mda_fovs_dict = []\n",
    "    for data_mda in data_mda_fovs:\n",
    "        data_mda_fovs_dict.append(data_mda.model_dump())\n",
    "    data_mda_fovs = data_mda_fovs_dict\n",
    "    if data_mda_fovs is None:\n",
    "        assert False, \"No fovs selected. Please select fovs in the MDA widget\"\n",
    "\n",
    "dfs = []\n",
    "fovs = []\n",
    "for fov_index, fov in enumerate(data_mda_fovs):\n",
    "    fov_object = Fov(fov_index)\n",
    "    fovs.append(fov_object)\n",
    "    fov_group = fov_index // n_fovs_simultaneously\n",
    "    start_time = fov_group * TIME_BETWEEN_TIMESTEPS * len(timesteps)\n",
    "    if len(condition) == 1:\n",
    "        condition_fov = condition[0]\n",
    "    else:\n",
    "        condition_fov = condition[fov_index // n_fovs_per_condition]\n",
    "    for timestep in timesteps:\n",
    "        row = {\n",
    "            \"fov_object\": fov_object,\n",
    "            \"fov\": fov_index,\n",
    "            \"fov_x\": fov.get(\"x\"),\n",
    "            \"fov_y\": fov.get(\"y\"),\n",
    "            \"fov_z\": fov.get(\"z\"),\n",
    "            \"fov_name\": str(fov_index) if fov[\"name\"] is None else fov.get(\"name\"),\n",
    "            \"timestep\": timestep,\n",
    "            \"time\": start_time + timestep * TIME_BETWEEN_TIMESTEPS,\n",
    "            \"cell_line\": condition_fov,\n",
    "            \"channels\": tuple(dataclasses.asdict(channel) for channel in channels),\n",
    "            \"fname\": f\"{str(fov_index).zfill(3)}_{str(timestep).zfill(5)}\",\n",
    "        }\n",
    "        dfs.append(row)\n",
    "\n",
    "df_acquire = pd.DataFrame(dfs)\n",
    "\n",
    "print(f\"Total Experiment Time: {df_acquire['time'].max()/3600}h\")\n",
    "\n",
    "for stim_treatment in stim_treatments:\n",
    "    if isinstance(stim_treatment.stim_timestep, range):\n",
    "        stim_treatment.stim_timestep = tuple(stim_treatment.stim_timestep)\n",
    "\n",
    "n_fovs = len(data_mda_fovs)\n",
    "n_stim_treatments = len(stim_treatments)\n",
    "if n_stim_treatments > 0:\n",
    "    n_fovs_per_stim_condition = n_fovs // n_stim_treatments // len(np.unique(condition))\n",
    "    stim_treatment_tot = []\n",
    "    random.shuffle(stim_treatments)\n",
    "    if n_fovs_per_well is not None:\n",
    "        for stim_treat in stim_treatments:\n",
    "            stim_treatment_tot.extend([stim_treat] * n_fovs_per_well)\n",
    "\n",
    "    else:\n",
    "        for fov_index in range(0, n_fovs_per_stim_condition):\n",
    "            stim_treatment_tot.extend(stim_treatments)\n",
    "        random.shuffle(stim_treatment_tot)\n",
    "\n",
    "        if n_fovs % n_stim_treatments != 0:\n",
    "            print(\n",
    "                f\"Warning: Not equal number of fovs per stim condition. {n_fovs % n_stim_treatments} fovs will have repeated treatment\"\n",
    "            )\n",
    "            stim_treatment_tot.extend(stim_treatments[: n_fovs % n_stim_treatments])\n",
    "    print(f\"Doing {n_fovs_per_stim_condition} experiment per stim condition\")\n",
    "\n",
    "    if len(condition) == 1:\n",
    "        n_fovs_per_condition = n_fovs\n",
    "    else:\n",
    "        stim_treatment_tot = stim_treatment_tot * len(np.unique(condition))\n",
    "\n",
    "    df_acquire = pd.merge(\n",
    "        df_acquire, pd.DataFrame(stim_treatment_tot), left_on=\"fov\", right_index=True\n",
    "    )\n",
    "\n",
    "    # Add stim column that checks if current timestep is in the stim_timestep tuple\n",
    "    df_acquire[\"stim\"] = df_acquire.apply(\n",
    "        lambda row: (\n",
    "            row[\"timestep\"] in row[\"stim_timestep\"]\n",
    "            if isinstance(row[\"stim_timestep\"], tuple) and row[\"stim_exposure\"] > 0\n",
    "            else False\n",
    "        ),\n",
    "        axis=1,\n",
    "    )\n",
    "\n",
    "df_acquire = df_acquire.dropna(axis=1, how=\"all\")\n",
    "pd.set_option(\"display.max_columns\", None)\n",
    "pd.set_option(\"display.expand_frame_repr\", True)\n",
    "df_acquire = df_acquire.sort_values(by=[\"time\", \"fov\"]).reset_index(drop=True)\n",
    "df_acquire"
   ]
  },
  {
   "attachments": {},
   "cell_type": "markdown",
   "metadata": {},
   "source": [
    "### Run experiment"
   ]
  },
  {
   "cell_type": "code",
   "execution_count": null,
   "metadata": {},
   "outputs": [],
   "source": [
    "pymmcore_plus.configure_logging(stderr_level=\"WARNING\")\n",
    "\n",
    "from rtm_pymmcore.dmd import DMD\n",
    "\n",
    "dmd = DMD(mmc, DMD_CHANNEL_GROUP, DMD_CALIBRATION_PROFILE)"
   ]
  },
  {
   "cell_type": "code",
   "execution_count": null,
   "metadata": {},
   "outputs": [],
   "source": [
    "for _ in range(0, SLEEP_BEFORE_EXPERIMENT_START_in_H * 3600):\n",
    "    time.sleep(1)\n",
    "from rtm_pymmcore.controller import Controller, Analyzer\n",
    "from rtm_pymmcore.dmd import DMD\n",
    "from queue import Queue\n",
    "\n",
    "try:\n",
    "    mm_wdg._core_link.cleanup()\n",
    "except:\n",
    "    pass\n",
    "\n",
    "\n",
    "analyzer = Analyzer(pipeline)\n",
    "queue = Queue()\n",
    "controller = Controller(analyzer, mmc, queue, dmd=dmd)\n",
    "controller.run(df_acquire)"
   ]
  },
  {
   "cell_type": "code",
   "execution_count": null,
   "metadata": {},
   "outputs": [],
   "source": [
    "fovs_i_list = os.listdir(os.path.join(path, \"tracks\"))\n",
    "fovs_i_list.sort()\n",
    "dfs = []\n",
    "for fov_i in fovs_i_list:\n",
    "    track_file = os.path.join(path, \"tracks\", fov_i)\n",
    "    df = pd.read_parquet(track_file)\n",
    "    dfs.append(df)\n",
    "pd.concat(dfs).to_parquet(os.path.join(path, \"exp_data.parquet\"))"
   ]
  }
 ],
 "metadata": {
  "kernelspec": {
   "display_name": "pymmcore",
   "language": "python",
   "name": "python3"
  },
  "language_info": {
   "codemirror_mode": {
    "name": "ipython",
    "version": 3
   },
   "file_extension": ".py",
   "mimetype": "text/x-python",
   "name": "python",
   "nbconvert_exporter": "python",
   "pygments_lexer": "ipython3",
   "version": "3.11.0"
  },
  "orig_nbformat": 4
 },
 "nbformat": 4,
 "nbformat_minor": 2
}

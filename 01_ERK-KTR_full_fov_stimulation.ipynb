{
 "cells": [
  {
   "cell_type": "markdown",
   "metadata": {},
   "source": [
    "# ERK-KTR Full FOV Stimulation Pipeline"
   ]
  },
  {
   "cell_type": "markdown",
   "metadata": {},
   "source": [
    "## System Init"
   ]
  },
  {
   "cell_type": "markdown",
   "metadata": {},
   "source": [
    "### Load pymmcore and required python libraries"
   ]
  },
  {
   "cell_type": "code",
   "execution_count": 1,
   "metadata": {},
   "outputs": [],
   "source": [
    "import os\n",
    "os.environ['QT_LOGGING_RULES'] = '*.debug=false; *.warning=false' # Fix to suppress PyQT warnings from napari-micromanager when running in a Jupyter notebook\n",
    "\n",
    "from fov import FOV\n",
    "from useq import MDAEvent\n",
    "import pandas as pd\n",
    "import random\n",
    "import napari\n",
    "import pymmcore_plus\n",
    "from napari_micromanager import MainWindow\n",
    "\n",
    "from utils import create_folders\n",
    "from useq._mda_event import SLMImage\n",
    "\n",
    "mmc = pymmcore_plus.CMMCorePlus()"
   ]
  },
  {
   "cell_type": "markdown",
   "metadata": {},
   "source": [
    "### Device Specific Init for Niesen Microscope"
   ]
  },
  {
   "cell_type": "code",
   "execution_count": null,
   "metadata": {},
   "outputs": [],
   "source": [
    "mmc.loadSystemConfiguration(\"E:\\\\pertzlab_mic_configs\\\\micromanager\\\\Niesen\\\\Ti2CicercoConfig_w_DMD_w_TTL.cfg\")\n",
    "\n",
    "### The following libraries are used to wake up the Lumencor laser\n",
    "import requests\n",
    "import threading\n",
    "import time\n",
    "\n",
    "class WakeUpLaser:\n",
    "    def __init__(self, lumencore_ip=\"192.168.201.200\"): \n",
    "        self.ip = lumencore_ip\n",
    "        self.last_wakeup = 0\n",
    "        self.is_running = False\n",
    "        \n",
    "    def wakeup_laser(self):\n",
    "        url = f\"http://{self.ip}/service/?command=WAKEUP\"\n",
    "        requests.get(url)\n",
    "        \n",
    "    \n",
    "    def run(self, wait_for_warmup=False):\n",
    "        self.is_running = True\n",
    "        self.thread = threading.Thread(target=self._keep_alive)\n",
    "        self.thread.start()\n",
    "        if wait_for_warmup:\n",
    "            time.sleep(15)\n",
    "\n",
    "    def _keep_alive(self):\n",
    "        while self.is_running:\n",
    "            if time.time() - self.last_wakeup > 60:\n",
    "                self.wakeup_laser()\n",
    "                self.last_wakeup = time.time()\n",
    "            time.sleep(3)\n",
    "    def stop(self):\n",
    "        self.is_running = False\n",
    "        self.thread.join()\n",
    "        \n",
    "wl = WakeUpLaser()\n",
    "wl.wakeup_laser()\n",
    "\n",
    "slm_dev = mmc.getSLMDevice()\n",
    "slm_width = mmc.getSLMWidth(slm_dev)\n",
    "slm_height = mmc.getSLMHeight(slm_dev)\n",
    "\n",
    "event_slm_on = MDAEvent(slm_image=SLMImage(data=True))\n",
    "mmc.mda.run([event_slm_on])# to only have fov of DMD \n",
    "mmc.setROI(150, 150, 1900, 1900)\n",
    "\n",
    "DMD_CHANNEL_GROUP = \"WF_DMD\"\n",
    "DMD_CALIBRATION_PROFILE = {\"channel_group\": \"WF_DMD\", \"channel_config\": \"CyanStim\", \"device_name\": \"LedDMD\", \"property_name\": \"Cyan_Level\", \"power\": 100}\n",
    "mmc.setChannelGroup(channelGroup=DMD_CHANNEL_GROUP)"
   ]
  },
  {
   "cell_type": "markdown",
   "metadata": {},
   "source": [
    "## GUI - Napari Micromanager"
   ]
  },
  {
   "cell_type": "markdown",
   "metadata": {},
   "source": [
    "### Load GUI"
   ]
  },
  {
   "cell_type": "code",
   "execution_count": null,
   "metadata": {},
   "outputs": [],
   "source": [
    "### Base GUI ###\n",
    "viewer = napari.Viewer()\n",
    "mm_wdg = MainWindow(viewer)\n",
    "viewer.window.add_dock_widget(mm_wdg)"
   ]
  },
  {
   "cell_type": "code",
   "execution_count": null,
   "metadata": {},
   "outputs": [],
   "source": [
    "### Add MDA widget for FOV selection ###\n",
    "from pymmcore_widgets.mda import MDAWidget\n",
    "mdawidget = MDAWidget(mmcore = mmc)\n",
    "viewer.window.add_dock_widget(mdawidget)"
   ]
  },
  {
   "cell_type": "markdown",
   "metadata": {},
   "source": [
    "### Functions to break and re-connect link with GUI if manually broken\n",
    "\n",
    "The following functions can be used to manually interrupt to connection between the GUI and the running rtm-pymmcore script. However, normally you don't need to execute them. "
   ]
  },
  {
   "cell_type": "code",
   "execution_count": 10,
   "metadata": {},
   "outputs": [],
   "source": [
    "### Break connection\n",
    "# mm_wdg._core_link.cleanup()"
   ]
  },
  {
   "cell_type": "code",
   "execution_count": null,
   "metadata": {},
   "outputs": [],
   "source": [
    "### Manually reconnect pymmcore with napari-micromanager\n",
    "from napari_micromanager._core_link import CoreViewerLink\n",
    "mm_wdg._core_link = CoreViewerLink(viewer, mmc)"
   ]
  },
  {
   "attachments": {},
   "cell_type": "markdown",
   "metadata": {},
   "source": [
    "## Create a DF with all planned acquisitions and stimulations"
   ]
  },
  {
   "cell_type": "markdown",
   "metadata": {},
   "source": [
    "### Settings for Experiment"
   ]
  },
  {
   "cell_type": "code",
   "execution_count": null,
   "metadata": {},
   "outputs": [],
   "source": [
    "df_acquire = pd.DataFrame(columns=['fov', 'timestep', 'time','time_experiment', 'treatment', 'acquired','stim', 'channels', 'channel_stim'])\n",
    "\n",
    "base_path = \"C:\\\\test\"\n",
    "experiment_name = \"NIH3T3_optoTRKA1_Test2\"\n",
    "path  = os.path.join(base_path, experiment_name)\n",
    "\n",
    "create_folders(path,['stim','raw','labels','stim_mask','tracks','labels_rings','particles'])\n",
    "\n",
    "time_between_frames = 60 #time in seconds between frames\n",
    "time_per_fov = 10 #time in seconds per fov\n",
    "\n",
    "timesteps = range(5)  \n",
    "channels = ['Red', 'Green'] #channel for segmentation first\n",
    "channels_exposure = [200, 200]\n",
    "\n",
    "# take values from UI, if loaded\n",
    "intensity_red_laser = mmc.getProperty(\"Laser\", \"RED_Intensity\")\n",
    "intensity_green_laser = mmc.getProperty(\"Laser\", \"GREEN_Intensity\")\n",
    "\n",
    "if intensity_red_laser != str(0) and intensity_green_laser != str(0):\n",
    "    channels_power = [intensity_red_laser, intensity_green_laser]\n",
    "else:\n",
    "    channels_power = [100, 100]\n",
    "    for channel, power in zip(channels, channels_power):\n",
    "        mmc.setProperty(\"Laser\", f\"{channel.upper()}_Intensity\", power)\n",
    "\n",
    "\n",
    "cell_lines = [\"optoTRKA1\"] ## Spalten bei Wellplate\n",
    "\n",
    "stim_exposures = [0,200] # list of possible exposures in ms\n",
    "stim_timesteps = [[2]]  # list of timesteps for stimulation, if e.g. double stimulation in frame 0 and 1 is needed write [[0,1]]\n",
    "stim_profiles = [{\"device_name\": \"LedDMD\", \"property_name\": \"Cyan_Level\", \"power\": 10, \"channel\": \"CyanStim\"}]\n",
    "stim_treatment = [{\"stim_property\": \"global\", \"stim_profile\": stim_profile, \"stim_exposure\": stim_exposure, \"stim_timestep\": stim_timestep} \n",
    "                  for stim_profile in stim_profiles for stim_exposure in stim_exposures for stim_timestep in stim_timesteps]\n",
    "random.shuffle(stim_treatment)\n",
    "\n",
    "# if defining individual fovs, else these values a re ignored: \n",
    "n_fovs_per_cell_line = 2 ## change this variable to the amount of fovs that you have per cell line. If only one cell line is set, this value will \n",
    "                        # automatically set to total amount of fovs. If you are working will wellplate, this value will be ignored, as each columns\n",
    "                        # will be an entry in the cell lines list. \n",
    "\n",
    "data_mda_fovs = None\n",
    "stim_treatment"
   ]
  },
  {
   "cell_type": "markdown",
   "metadata": {},
   "source": [
    "### Map Experiment to FOVs"
   ]
  },
  {
   "cell_type": "markdown",
   "metadata": {},
   "source": [
    "#### If FOVs already saved - Reload them from file"
   ]
  },
  {
   "cell_type": "code",
   "execution_count": null,
   "metadata": {},
   "outputs": [],
   "source": [
    "import json\n",
    "file = os.path.join(path, \"fovs.json\")\n",
    "with open(file, \"r\") as f:\n",
    "    data_mda_fovs = json.load(f)"
   ]
  },
  {
   "cell_type": "markdown",
   "metadata": {},
   "source": [
    "Only select one of the following two code blocks. If you autogenerated FOVs using the wellplate option of the MDA widget, then use the first code block, else the second. "
   ]
  },
  {
   "cell_type": "markdown",
   "metadata": {},
   "source": [
    "#### MDA Widget was used in wellplate mode with autogenerated FOVs"
   ]
  },
  {
   "cell_type": "code",
   "execution_count": null,
   "metadata": {},
   "outputs": [],
   "source": [
    "fovs:list[FOV] = []\n",
    "if data_mda_fovs is None:\n",
    "    data_mda_fovs = mdawidget.value()\n",
    "n_fovs = len(data_mda_fovs.stage_positions)\n",
    "pts_per_well = data_mda_fovs.stage_positions.well_points_plan.num_points\n",
    "n_wells = n_fovs // pts_per_well\n",
    "\n",
    "used_well_columns = []\n",
    "\n",
    "for i, row in enumerate(data_mda_fovs.stage_positions):\n",
    "    well_column = int(row.name.split('_')[0][1:])\n",
    "    used_well_columns.append(well_column)\n",
    "\n",
    "unique_well_columns = list(set(used_well_columns))\n",
    "unique_well_column_translation = {col: idx for idx, col in enumerate(unique_well_columns)}\n",
    "  \n",
    "\n",
    "for i, row in enumerate(data_mda_fovs.stage_positions):\n",
    "    well_row = row.name.split('_')[0][0]\n",
    "    well_id = i%pts_per_well\n",
    "    if len(cell_lines) == 1:\n",
    "        cell_line = cell_lines[0]\n",
    "    else: \n",
    "        cell_line = cell_lines[unique_well_column_translation[well_column]]\n",
    "    fov = FOV(pos=(row.x, row.y),\n",
    "              index=i,\n",
    "              name=row.name,\n",
    "              path=path,\n",
    "              metadata={\"well_column\": well_column, \"well_row\": well_row, \"well_id\": well_id, \"cell_line\": cell_line},\n",
    "              treatment=stim_treatment[i%len(stim_treatment)],\n",
    "              )\n",
    "    fovs.append(fov)"
   ]
  },
  {
   "cell_type": "markdown",
   "metadata": {},
   "source": [
    "#### FOVs were manually selected using MDA widget"
   ]
  },
  {
   "cell_type": "code",
   "execution_count": null,
   "metadata": {},
   "outputs": [],
   "source": [
    "fovs:list[FOV] = []\n",
    "if data_mda_fovs is None:\n",
    "    data_mda_fovs = mdawidget.value().stage_positions\n",
    "n_fovs = len(data_mda_fovs)\n",
    "n_stim_treatments = len(stim_treatment)\n",
    "n_fovs_per_stim_condition = n_fovs // n_stim_treatments\n",
    "\n",
    "\n",
    "stim_treatment_tot = []\n",
    "for i in range(0, n_fovs_per_stim_condition): \n",
    "    random.shuffle(stim_treatment)\n",
    "    stim_treatment_tot.extend(stim_treatment)\n",
    "\n",
    "if n_fovs % n_stim_treatments != 0:\n",
    "    print(f\"Warning: Not equal number of fovs per stim condition. {n_fovs % n_stim_treatments} fovs will have repeated treatment\")\n",
    "    stim_treatment_tot.extend(stim_treatment[:n_fovs % n_stim_treatments])\n",
    "\n",
    "if len(cell_lines) == 1: \n",
    "    n_fovs_per_cell_line = n_fovs\n",
    " \n",
    "random.shuffle(stim_treatment_tot)\n",
    "\n",
    "for i, row in enumerate(data_mda_fovs):\n",
    "    print\n",
    "    row = dict(row)\n",
    "    if len(cell_lines) == 1:\n",
    "        cell_line = cell_lines[0]\n",
    "    else:\n",
    "        cell_line = cell_lines[i % n_fovs_per_cell_line]\n",
    "    fov = FOV(pos=(row[\"x\"], row[\"y\"]),\n",
    "              index=i,\n",
    "              name=str(i),\n",
    "              path=path,\n",
    "              metadata={\"cell_line\": cell_line},\n",
    "              treatment=stim_treatment_tot[i],\n",
    "              )\n",
    "    fovs.append(fov)\n",
    "\n",
    "print(f\"Doing {n_fovs_per_stim_condition} replicates per stim condition\")"
   ]
  },
  {
   "cell_type": "markdown",
   "metadata": {},
   "source": [
    "### Use FOVs to generate dataframe for acquisition"
   ]
  },
  {
   "cell_type": "code",
   "execution_count": null,
   "metadata": {},
   "outputs": [],
   "source": [
    "n_fovs_simultaneously = time_between_frames // time_per_fov\n",
    "start_time = 0\n",
    "\n",
    "dfs = []\n",
    "for fov in fovs:\n",
    "    fov_group = fov.index // n_fovs_simultaneously\n",
    "    start_time = fov_group * time_between_frames * len(timesteps)\n",
    "\n",
    "    for timestep in timesteps:\n",
    "        new_row = { 'fov_object': fov,\n",
    "                    'fov':fov.index,\n",
    "                    'name':fov.name,\n",
    "                    'timestep': timestep,\n",
    "                    'time': start_time + timestep*time_between_frames,\n",
    "                    'treatment': fov.treatment,\n",
    "                    'metadata': fov.metadata,\n",
    "                    'stim': timestep in fov.treatment['stim_timestep'], # not really important, only for visualisation\n",
    "                    'channels': channels,\n",
    "                    'channels_exposure':channels_exposure,\n",
    "                    'channel_power': channels_power,\n",
    "                    'stim_exposure' : fov.treatment['stim_exposure'], # not really important, only for visualisation\n",
    "                    'fname' : f'{str(fov.index).zfill(3)}_{str(timestep).zfill(5)}',\n",
    "                    }\n",
    "        dfs.append(new_row)\n",
    "\n",
    "df_acquire = pd.DataFrame(dfs)\n",
    "pd.set_option('display.max_columns', None)\n",
    "pd.set_option('display.expand_frame_repr', True)\n",
    "df_acquire = df_acquire.sort_values(by=['time', 'fov'])\n",
    "print(f\"Total Experiment Time: {df_acquire['time'].max()}s\")\n",
    "df_acquire\n"
   ]
  },
  {
   "attachments": {},
   "cell_type": "markdown",
   "metadata": {},
   "source": [
    "## Run experiment"
   ]
  },
  {
   "cell_type": "code",
   "execution_count": null,
   "metadata": {},
   "outputs": [],
   "source": [
    "%load_ext autoreload\n",
    "%autoreload 2\n",
    "\n",
    "from add_frame import ImageProcessingPipeline\n",
    "from segmentation_stardist import SegmentatorStardist\n",
    "from stimulation import StimWholeFOV    \n",
    "from controller import Controller, Analyzer\n",
    "from tracking_trackpy import TrackerTrackpy\n",
    "from dmd import DMD\n",
    "from queue import Queue\n",
    "\n",
    "try: \n",
    "    mm_wdg._core_link.cleanup()\n",
    "except:\n",
    "    pass\n",
    "\n",
    "segmentator = SegmentatorStardist(min_size=200)\n",
    "stimulator = StimWholeFOV()\n",
    "tracker = TrackerTrackpy()\n",
    "dmd = DMD(mmc, DMD_CALIBRATION_PROFILE)\n",
    "\n",
    "pipeline = ImageProcessingPipeline(segmentator,stimulator,tracker)\n",
    "analyzer = Analyzer(pipeline)\n",
    "queue = Queue()\n",
    "controller = Controller(analyzer, mmc, queue, dmd)\n",
    "wl.run(wait_for_warmup=True)\n",
    "controller.run(df_acquire)\n",
    "wl.stop()"
   ]
  }
 ],
 "metadata": {
  "kernelspec": {
   "display_name": "Python 3",
   "language": "python",
   "name": "python3"
  },
  "language_info": {
   "codemirror_mode": {
    "name": "ipython",
    "version": 3
   },
   "file_extension": ".py",
   "mimetype": "text/x-python",
   "name": "python",
   "nbconvert_exporter": "python",
   "pygments_lexer": "ipython3",
   "version": "3.10.11"
  },
  "orig_nbformat": 4
 },
 "nbformat": 4,
 "nbformat_minor": 2
}

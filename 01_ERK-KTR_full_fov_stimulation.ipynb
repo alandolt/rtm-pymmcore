{
 "cells": [
  {
   "cell_type": "markdown",
   "metadata": {},
   "source": [
    "# System Init"
   ]
  },
  {
   "cell_type": "code",
   "execution_count": 1,
   "metadata": {},
   "outputs": [],
   "source": [
    "from fov import FOV\n",
    "from queue import Queue\n",
    "import numpy as np\n",
    "from matplotlib import pyplot as plt\n",
    "#from napari import Viewer\n",
    "import numpy as np\n",
    "from queue import Queue\n",
    "from useq import MDAEvent\n",
    "from useq._channel import Channel\n",
    "import pandas as pd\n",
    "import random\n",
    "from utils import ImgType, MetadataDict\n",
    "#from stimulation import StimExtraParameters\n",
    "from hardware import load_config\n",
    "import os\n",
    "import napari\n",
    "\n",
    "from napari_micromanager import MainWindow\n",
    "\n",
    "import skimage\n",
    "import useq\n",
    "from dmd import DMD\n",
    "\n",
    "# from tracking import TrackerTrackpy\n",
    "# from controller import Controller, Analyzer\n",
    "\n",
    "from utils import create_folders\n",
    "import numpy as np\n",
    "import pymmcore_plus\n",
    "\n",
    "import time\n",
    "\n",
    "from useq._mda_event import SLMImage\n",
    "import useq\n",
    "import requests\n",
    "\n",
    "mmc = pymmcore_plus.CMMCorePlus()\n",
    "mmc.loadSystemConfiguration(\"E:\\\\MicroManagerConfigs\\\\Ti2CicercoConfig_w_DMD_21_w_ttl.cfg\")\n",
    "\n",
    "def wakeup_laser(lumencore_ip=\"192.168.201.200\"):\n",
    "    url = f\"http://{lumencore_ip}/service/?command=WAKEUP\"\n",
    "    requests.get(url)\n",
    "wakeup_laser()"
   ]
  },
  {
   "cell_type": "code",
   "execution_count": 52,
   "metadata": {},
   "outputs": [],
   "source": [
    "wakeup_laser()"
   ]
  },
  {
   "cell_type": "markdown",
   "metadata": {},
   "source": [
    "### DMD Full On"
   ]
  },
  {
   "cell_type": "code",
   "execution_count": 2,
   "metadata": {},
   "outputs": [
    {
     "data": {
      "text/html": [
       "<pre style=\"white-space:pre;overflow-x:auto;line-height:normal;font-family:Menlo,'DejaVu Sans Mono',consolas,'Courier New',monospace\"><span style=\"color: #7fbfbf; text-decoration-color: #7fbfbf\">[01/15/25 20:52:06] </span><span style=\"color: #000080; text-decoration-color: #000080\">INFO    </span> MDA Started: <span style=\"color: #800080; text-decoration-color: #800080; font-weight: bold\">GeneratorMDASequence</span><span style=\"font-weight: bold\">()</span>                                     <a href=\"file://c:\\Users\\Niesen\\.conda\\envs\\pymmc_w_stardist\\lib\\site-packages\\pymmcore_plus\\mda\\_runner.py\" target=\"_blank\"><span style=\"color: #7f7f7f; text-decoration-color: #7f7f7f\">_runner.py</span></a><span style=\"color: #7f7f7f; text-decoration-color: #7f7f7f\">:</span><a href=\"file://c:\\Users\\Niesen\\.conda\\envs\\pymmc_w_stardist\\lib\\site-packages\\pymmcore_plus\\mda\\_runner.py#329\" target=\"_blank\"><span style=\"color: #7f7f7f; text-decoration-color: #7f7f7f\">329</span></a>\n",
       "</pre>\n"
      ],
      "text/plain": [
       "\u001b[2;36m[01/15/25 20:52:06]\u001b[0m\u001b[2;36m \u001b[0m\u001b[34mINFO    \u001b[0m MDA Started: \u001b[1;35mGeneratorMDASequence\u001b[0m\u001b[1m(\u001b[0m\u001b[1m)\u001b[0m                                     \u001b]8;id=928639;file://c:\\Users\\Niesen\\.conda\\envs\\pymmc_w_stardist\\lib\\site-packages\\pymmcore_plus\\mda\\_runner.py\u001b\\\u001b[2m_runner.py\u001b[0m\u001b]8;;\u001b\\\u001b[2m:\u001b[0m\u001b]8;id=655251;file://c:\\Users\\Niesen\\.conda\\envs\\pymmc_w_stardist\\lib\\site-packages\\pymmcore_plus\\mda\\_runner.py#329\u001b\\\u001b[2m329\u001b[0m\u001b]8;;\u001b\\\n"
      ]
     },
     "metadata": {},
     "output_type": "display_data"
    },
    {
     "data": {
      "text/html": [
       "<pre style=\"white-space:pre;overflow-x:auto;line-height:normal;font-family:Menlo,'DejaVu Sans Mono',consolas,'Courier New',monospace\"><span style=\"color: #7fbfbf; text-decoration-color: #7fbfbf\">                    </span><span style=\"color: #000080; text-decoration-color: #000080\">INFO    </span> <span style=\"color: #808000; text-decoration-color: #808000\">slm_image</span>=<span style=\"color: #800080; text-decoration-color: #800080; font-weight: bold\">SLMImage</span><span style=\"font-weight: bold\">()</span>                                                    <a href=\"file://c:\\Users\\Niesen\\.conda\\envs\\pymmc_w_stardist\\lib\\site-packages\\pymmcore_plus\\mda\\_runner.py\" target=\"_blank\"><span style=\"color: #7f7f7f; text-decoration-color: #7f7f7f\">_runner.py</span></a><span style=\"color: #7f7f7f; text-decoration-color: #7f7f7f\">:</span><a href=\"file://c:\\Users\\Niesen\\.conda\\envs\\pymmc_w_stardist\\lib\\site-packages\\pymmcore_plus\\mda\\_runner.py#290\" target=\"_blank\"><span style=\"color: #7f7f7f; text-decoration-color: #7f7f7f\">290</span></a>\n",
       "</pre>\n"
      ],
      "text/plain": [
       "\u001b[2;36m                   \u001b[0m\u001b[2;36m \u001b[0m\u001b[34mINFO    \u001b[0m \u001b[33mslm_image\u001b[0m=\u001b[1;35mSLMImage\u001b[0m\u001b[1m(\u001b[0m\u001b[1m)\u001b[0m                                                    \u001b]8;id=258846;file://c:\\Users\\Niesen\\.conda\\envs\\pymmc_w_stardist\\lib\\site-packages\\pymmcore_plus\\mda\\_runner.py\u001b\\\u001b[2m_runner.py\u001b[0m\u001b]8;;\u001b\\\u001b[2m:\u001b[0m\u001b]8;id=705999;file://c:\\Users\\Niesen\\.conda\\envs\\pymmc_w_stardist\\lib\\site-packages\\pymmcore_plus\\mda\\_runner.py#290\u001b\\\u001b[2m290\u001b[0m\u001b]8;;\u001b\\\n"
      ]
     },
     "metadata": {},
     "output_type": "display_data"
    },
    {
     "data": {
      "text/html": [
       "<pre style=\"white-space:pre;overflow-x:auto;line-height:normal;font-family:Menlo,'DejaVu Sans Mono',consolas,'Courier New',monospace\"><span style=\"color: #7fbfbf; text-decoration-color: #7fbfbf\">                    </span><span style=\"color: #000080; text-decoration-color: #000080\">INFO    </span> MDA Finished: <span style=\"color: #800080; text-decoration-color: #800080; font-weight: bold\">GeneratorMDASequence</span><span style=\"font-weight: bold\">()</span>                                    <a href=\"file://c:\\Users\\Niesen\\.conda\\envs\\pymmc_w_stardist\\lib\\site-packages\\pymmcore_plus\\mda\\_runner.py\" target=\"_blank\"><span style=\"color: #7f7f7f; text-decoration-color: #7f7f7f\">_runner.py</span></a><span style=\"color: #7f7f7f; text-decoration-color: #7f7f7f\">:</span><a href=\"file://c:\\Users\\Niesen\\.conda\\envs\\pymmc_w_stardist\\lib\\site-packages\\pymmcore_plus\\mda\\_runner.py#416\" target=\"_blank\"><span style=\"color: #7f7f7f; text-decoration-color: #7f7f7f\">416</span></a>\n",
       "</pre>\n"
      ],
      "text/plain": [
       "\u001b[2;36m                   \u001b[0m\u001b[2;36m \u001b[0m\u001b[34mINFO    \u001b[0m MDA Finished: \u001b[1;35mGeneratorMDASequence\u001b[0m\u001b[1m(\u001b[0m\u001b[1m)\u001b[0m                                    \u001b]8;id=774390;file://c:\\Users\\Niesen\\.conda\\envs\\pymmc_w_stardist\\lib\\site-packages\\pymmcore_plus\\mda\\_runner.py\u001b\\\u001b[2m_runner.py\u001b[0m\u001b]8;;\u001b\\\u001b[2m:\u001b[0m\u001b]8;id=152038;file://c:\\Users\\Niesen\\.conda\\envs\\pymmc_w_stardist\\lib\\site-packages\\pymmcore_plus\\mda\\_runner.py#416\u001b\\\u001b[2m416\u001b[0m\u001b]8;;\u001b\\\n"
      ]
     },
     "metadata": {},
     "output_type": "display_data"
    }
   ],
   "source": [
    "# %%capture\n",
    "slm_dev = mmc.getSLMDevice()\n",
    "slm_width = mmc.getSLMWidth(slm_dev)\n",
    "slm_height = mmc.getSLMHeight(slm_dev)\n",
    "\n",
    "event_slm_on = MDAEvent(slm_image=SLMImage(data=True))\n",
    "mmc.mda.run([event_slm_on])# to only have fov of DMD \n",
    "mmc.setROI(150, 150, 1900, 1900)\n",
    "\n",
    "DMD_CHANNEL_GROUP = \"WF_DMD\"\n",
    "DMD_CALIBRATION_PROFILE = {\"channel_group\": \"WF_DMD\", \"channel_config\": \"CyanStim\", \"device_name\": \"LedDMD\", \"property_name\": \"Cyan_Level\", \"power\": 100}\n",
    "mmc.setChannelGroup(channelGroup=DMD_CHANNEL_GROUP)"
   ]
  },
  {
   "cell_type": "markdown",
   "metadata": {},
   "source": [
    "### Napari Micromanger User Interface"
   ]
  },
  {
   "cell_type": "code",
   "execution_count": 3,
   "metadata": {},
   "outputs": [
    {
     "data": {
      "text/plain": [
       "<napari._qt.widgets.qt_viewer_dock_widget.QtViewerDockWidget at 0x18ef651f130>"
      ]
     },
     "execution_count": 3,
     "metadata": {},
     "output_type": "execute_result"
    }
   ],
   "source": [
    "viewer = napari.Viewer()\n",
    "mm_wdg = MainWindow(viewer)\n",
    "viewer.window.add_dock_widget(mm_wdg)"
   ]
  },
  {
   "cell_type": "code",
   "execution_count": null,
   "metadata": {},
   "outputs": [
    {
     "data": {
      "text/plain": [
       "<napari._qt.widgets.qt_viewer_dock_widget.QtViewerDockWidget at 0x18ef76b8790>"
      ]
     },
     "execution_count": 4,
     "metadata": {},
     "output_type": "execute_result"
    },
    {
     "name": "stderr",
     "output_type": "stream",
     "text": [
      "WARNING: QBasicTimer::start: QBasicTimer can only be used with threads started with QThread\n",
      "WARNING: QBasicTimer::start: QBasicTimer can only be used with threads started with QThread\n",
      "WARNING: QBasicTimer::start: QBasicTimer can only be used with threads started with QThread\n",
      "WARNING: QBasicTimer::start: QBasicTimer can only be used with threads started with QThread\n",
      "WARNING: QBasicTimer::start: QBasicTimer can only be used with threads started with QThread\n",
      "WARNING: QBasicTimer::start: QBasicTimer can only be used with threads started with QThread\n"
     ]
    }
   ],
   "source": [
    "from pymmcore_widgets.mda import MDAWidget\n",
    "mdawidget = MDAWidget(mmcore = mmc)\n",
    "viewer.window.add_dock_widget(mdawidget)"
   ]
  },
  {
   "cell_type": "code",
   "execution_count": 31,
   "metadata": {},
   "outputs": [],
   "source": [
    "mm_wdg._core_link.cleanup()"
   ]
  },
  {
   "cell_type": "code",
   "execution_count": 19,
   "metadata": {},
   "outputs": [],
   "source": [
    "from napari_micromanager._core_link import CoreViewerLink\n",
    "mm_wdg._core_link = CoreViewerLink(viewer, mmc)"
   ]
  },
  {
   "attachments": {},
   "cell_type": "markdown",
   "metadata": {},
   "source": [
    "## create a DF with all planned acquisitions and stimulations"
   ]
  },
  {
   "cell_type": "code",
   "execution_count": 17,
   "metadata": {},
   "outputs": [
    {
     "name": "stdout",
     "output_type": "stream",
     "text": [
      "Directory C:\\test\\stim already exists\n",
      "Directory C:\\test\\raw already exists\n",
      "Directory C:\\test\\labels already exists\n",
      "Directory C:\\test\\stim_mask already exists\n",
      "Directory C:\\test\\tracks already exists\n",
      "Directory C:\\test\\labels_rings already exists\n",
      "Directory C:\\test\\particles already exists\n"
     ]
    }
   ],
   "source": [
    "df_acquire = pd.DataFrame(columns=['fov', 'timestep', 'time','time_experiment', 'treatment', 'acquired','stim', 'channels', 'channel_stim'])\n",
    "\n",
    "path = \"C:\\\\test\\\\\"\n",
    "create_folders(path,['stim','raw','labels','stim_mask','tracks','labels_rings','particles'])\n",
    "\n",
    "time_between_frames = 10 #time in seconds between frames\n",
    "\n",
    "timesteps = range(3)  # 0-20\n",
    "channels = ['Red', 'Green']\n",
    "channels_exposure = [200, 200]\n",
    "channels_power = [48, 33]\n",
    "\n",
    "cell_lines = [\"optoFGFR1\", \"optoERK1\", \"optoERK1\"]\n",
    "\n",
    "# stim_exposures = [50, 100, 250]\n",
    "stim_exposures = [100]\n",
    "stim_timesteps = [[0]]  # list of timesteps\n",
    "stim_profiles = [{\"device_name\": \"LedDMD\", \"property_name\": \"Cyan_Level\", \"power\": 10, \"channel\": \"CyanStim\"}]\n",
    "stim_treatment = [{\"stim_property\": \"global\", \"stim_profile\": stim_profile, \"stim_exposure\": stim_exposure, \"stim_timestep\": stim_timestep} \n",
    "                  for stim_profile in stim_profiles for stim_exposure in stim_exposures for stim_timestep in stim_timesteps]\n",
    "random.shuffle(stim_treatment)\n",
    "\n",
    "for channel, power in zip(channels, channels_power):\n",
    "    mmc.setProperty(\"Laser\", f\"{channel.upper()}_Intensity\", power)\n",
    "data_mda_fovs = None"
   ]
  },
  {
   "cell_type": "markdown",
   "metadata": {},
   "source": [
    "### Load points from file"
   ]
  },
  {
   "cell_type": "code",
   "execution_count": 19,
   "metadata": {},
   "outputs": [],
   "source": [
    "import json\n",
    "file = os.path.join(path, \"test.json\")\n",
    "with open(file, \"r\") as f:\n",
    "    data_mda_fovs = json.load(f)\n"
   ]
  },
  {
   "cell_type": "markdown",
   "metadata": {},
   "source": [
    "### Using autogenerated points"
   ]
  },
  {
   "cell_type": "code",
   "execution_count": 6,
   "metadata": {},
   "outputs": [
    {
     "ename": "AttributeError",
     "evalue": "'list' object has no attribute 'stage_positions'",
     "output_type": "error",
     "traceback": [
      "\u001b[1;31m---------------------------------------------------------------------------\u001b[0m",
      "\u001b[1;31mAttributeError\u001b[0m                            Traceback (most recent call last)",
      "Cell \u001b[1;32mIn[6], line 4\u001b[0m\n\u001b[0;32m      2\u001b[0m \u001b[38;5;28;01mif\u001b[39;00m data_mda_fovs \u001b[38;5;129;01mis\u001b[39;00m \u001b[38;5;28;01mNone\u001b[39;00m:\n\u001b[0;32m      3\u001b[0m     data_mda_fovs \u001b[38;5;241m=\u001b[39m mdawidget\u001b[38;5;241m.\u001b[39mvalue()\n\u001b[1;32m----> 4\u001b[0m n_fovs \u001b[38;5;241m=\u001b[39m \u001b[38;5;28mlen\u001b[39m(\u001b[43mdata_mda_fovs\u001b[49m\u001b[38;5;241;43m.\u001b[39;49m\u001b[43mstage_positions\u001b[49m)\n\u001b[0;32m      5\u001b[0m pts_per_well \u001b[38;5;241m=\u001b[39m data_mda_fovs\u001b[38;5;241m.\u001b[39mstage_positions\u001b[38;5;241m.\u001b[39mwell_points_plan\u001b[38;5;241m.\u001b[39mnum_points\n\u001b[0;32m      6\u001b[0m n_wells \u001b[38;5;241m=\u001b[39m n_fovs \u001b[38;5;241m/\u001b[39m\u001b[38;5;241m/\u001b[39m pts_per_well\n",
      "\u001b[1;31mAttributeError\u001b[0m: 'list' object has no attribute 'stage_positions'"
     ]
    }
   ],
   "source": [
    "fovs:list[FOV] = []\n",
    "if data_mda_fovs is None:\n",
    "    data_mda_fovs = mdawidget.value()\n",
    "n_fovs = len(data_mda_fovs.stage_positions)\n",
    "pts_per_well = data_mda_fovs.stage_positions.well_points_plan.num_points\n",
    "n_wells = n_fovs // pts_per_well\n",
    "\n",
    "for i, row in enumerate(data_mda_fovs.stage_positions):\n",
    "    well_column = int(row.name.split('_')[0][1:])\n",
    "    well_row = row.name.split('_')[0][0]\n",
    "    well_id = i%pts_per_well\n",
    "    cell_line = cell_lines[well_column-1]\n",
    "    fov = FOV(pos=(row.x, row.y),\n",
    "              index=i,\n",
    "              name=row.name,\n",
    "              path=path,\n",
    "              metadata={\"well_column\": well_column, \"well_row\": well_row, \"well_id\": well_id, \"cell_line\": cell_line},\n",
    "              treatment=stim_treatment[i%len(stim_treatment)],\n",
    "              )\n",
    "    fovs.append(fov)"
   ]
  },
  {
   "cell_type": "markdown",
   "metadata": {},
   "source": [
    "### Manually defined points"
   ]
  },
  {
   "cell_type": "code",
   "execution_count": 42,
   "metadata": {},
   "outputs": [],
   "source": [
    "fovs:list[FOV] = []\n",
    "if data_mda_fovs is None:\n",
    "    data_mda_fovs = mdawidget.value().stage_positions\n",
    "n_fovs = len(data_mda_fovs)\n",
    "n_fovs_per_stim_condition = 2\n",
    "stim_treatment_tot = stim_treatment * n_fovs_per_stim_condition\n",
    "random.shuffle(stim_treatment_tot)\n",
    "\n",
    "for i, row in enumerate(data_mda_fovs):\n",
    "    fov = FOV(pos=(row[\"x\"], row[\"y\"]),\n",
    "              index=i,\n",
    "              name=str(i),\n",
    "              path=path,\n",
    "              metadata={},\n",
    "              treatment=stim_treatment_tot[i],\n",
    "              )\n",
    "    fovs.append(fov)"
   ]
  },
  {
   "cell_type": "markdown",
   "metadata": {},
   "source": [
    "### Generate timetable"
   ]
  },
  {
   "cell_type": "code",
   "execution_count": 43,
   "metadata": {},
   "outputs": [
    {
     "name": "stdout",
     "output_type": "stream",
     "text": [
      "Total Experiment Time: 20s\n"
     ]
    },
    {
     "data": {
      "text/html": [
       "<div>\n",
       "<style scoped>\n",
       "    .dataframe tbody tr th:only-of-type {\n",
       "        vertical-align: middle;\n",
       "    }\n",
       "\n",
       "    .dataframe tbody tr th {\n",
       "        vertical-align: top;\n",
       "    }\n",
       "\n",
       "    .dataframe thead th {\n",
       "        text-align: right;\n",
       "    }\n",
       "</style>\n",
       "<table border=\"1\" class=\"dataframe\">\n",
       "  <thead>\n",
       "    <tr style=\"text-align: right;\">\n",
       "      <th></th>\n",
       "      <th>fov_object</th>\n",
       "      <th>fov</th>\n",
       "      <th>name</th>\n",
       "      <th>timestep</th>\n",
       "      <th>time</th>\n",
       "      <th>treatment</th>\n",
       "      <th>metadata</th>\n",
       "      <th>acquired</th>\n",
       "      <th>stim</th>\n",
       "      <th>channels</th>\n",
       "      <th>channels_exposure</th>\n",
       "      <th>channel_power</th>\n",
       "      <th>stim_profile</th>\n",
       "      <th>stim_exposure</th>\n",
       "      <th>fname</th>\n",
       "    </tr>\n",
       "  </thead>\n",
       "  <tbody>\n",
       "    <tr>\n",
       "      <th>0</th>\n",
       "      <td>&lt;fov.FOV object at 0x000001FC6D6A64D0&gt;</td>\n",
       "      <td>0</td>\n",
       "      <td>0</td>\n",
       "      <td>0</td>\n",
       "      <td>0</td>\n",
       "      <td>{'stim_property': 'global', 'stim_profile': {'...</td>\n",
       "      <td>{}</td>\n",
       "      <td>False</td>\n",
       "      <td>True</td>\n",
       "      <td>[Red, Green]</td>\n",
       "      <td>[200, 200]</td>\n",
       "      <td>[48, 33]</td>\n",
       "      <td>{'device_name': 'LedDMD', 'property_name': 'Cy...</td>\n",
       "      <td>100</td>\n",
       "      <td>000_00000</td>\n",
       "    </tr>\n",
       "    <tr>\n",
       "      <th>1</th>\n",
       "      <td>&lt;fov.FOV object at 0x000001FC6D6A64D0&gt;</td>\n",
       "      <td>0</td>\n",
       "      <td>0</td>\n",
       "      <td>1</td>\n",
       "      <td>10</td>\n",
       "      <td>{'stim_property': 'global', 'stim_profile': {'...</td>\n",
       "      <td>{}</td>\n",
       "      <td>False</td>\n",
       "      <td>False</td>\n",
       "      <td>[Red, Green]</td>\n",
       "      <td>[200, 200]</td>\n",
       "      <td>[48, 33]</td>\n",
       "      <td>{'device_name': 'LedDMD', 'property_name': 'Cy...</td>\n",
       "      <td>100</td>\n",
       "      <td>000_00001</td>\n",
       "    </tr>\n",
       "    <tr>\n",
       "      <th>2</th>\n",
       "      <td>&lt;fov.FOV object at 0x000001FC6D6A64D0&gt;</td>\n",
       "      <td>0</td>\n",
       "      <td>0</td>\n",
       "      <td>2</td>\n",
       "      <td>20</td>\n",
       "      <td>{'stim_property': 'global', 'stim_profile': {'...</td>\n",
       "      <td>{}</td>\n",
       "      <td>False</td>\n",
       "      <td>False</td>\n",
       "      <td>[Red, Green]</td>\n",
       "      <td>[200, 200]</td>\n",
       "      <td>[48, 33]</td>\n",
       "      <td>{'device_name': 'LedDMD', 'property_name': 'Cy...</td>\n",
       "      <td>100</td>\n",
       "      <td>000_00002</td>\n",
       "    </tr>\n",
       "  </tbody>\n",
       "</table>\n",
       "</div>"
      ],
      "text/plain": [
       "                               fov_object  fov name  timestep  time  \\\n",
       "0  <fov.FOV object at 0x000001FC6D6A64D0>    0    0         0     0   \n",
       "1  <fov.FOV object at 0x000001FC6D6A64D0>    0    0         1    10   \n",
       "2  <fov.FOV object at 0x000001FC6D6A64D0>    0    0         2    20   \n",
       "\n",
       "                                           treatment metadata  acquired  \\\n",
       "0  {'stim_property': 'global', 'stim_profile': {'...       {}     False   \n",
       "1  {'stim_property': 'global', 'stim_profile': {'...       {}     False   \n",
       "2  {'stim_property': 'global', 'stim_profile': {'...       {}     False   \n",
       "\n",
       "    stim      channels channels_exposure channel_power  \\\n",
       "0   True  [Red, Green]        [200, 200]      [48, 33]   \n",
       "1  False  [Red, Green]        [200, 200]      [48, 33]   \n",
       "2  False  [Red, Green]        [200, 200]      [48, 33]   \n",
       "\n",
       "                                        stim_profile  stim_exposure      fname  \n",
       "0  {'device_name': 'LedDMD', 'property_name': 'Cy...            100  000_00000  \n",
       "1  {'device_name': 'LedDMD', 'property_name': 'Cy...            100  000_00001  \n",
       "2  {'device_name': 'LedDMD', 'property_name': 'Cy...            100  000_00002  "
      ]
     },
     "execution_count": 43,
     "metadata": {},
     "output_type": "execute_result"
    }
   ],
   "source": [
    "time_per_fov = 5\n",
    "n_fovs_simultaneously = time_between_frames // time_per_fov\n",
    "start_time = 0\n",
    "\n",
    "dfs = []\n",
    "for fov in fovs:\n",
    "    fov_group = fov.index // n_fovs_simultaneously\n",
    "    start_time = fov_group * time_between_frames * len(timesteps)\n",
    "\n",
    "    for timestep in timesteps:\n",
    "        new_row = { 'fov_object': fov,\n",
    "                    'fov':fov.index,\n",
    "                    'name':fov.name,\n",
    "                    'timestep': timestep,\n",
    "                    'time': start_time + timestep*time_between_frames,\n",
    "                    'treatment': fov.treatment,\n",
    "                    'metadata': fov.metadata,\n",
    "                    'acquired': False,\n",
    "                    'stim': timestep in fov.treatment['stim_timestep'],\n",
    "                    'channels': channels,\n",
    "                    'channels_exposure':channels_exposure,\n",
    "                    'channel_power': channels_power,\n",
    "                    'stim_profile' : fov.treatment['stim_profile'],\n",
    "                    'stim_exposure' : fov.treatment['stim_exposure'],\n",
    "                    'fname' : f'{str(fov.index).zfill(3)}_{str(timestep).zfill(5)}',\n",
    "                    }\n",
    "        dfs.append(new_row)\n",
    "\n",
    "df_acquire = pd.DataFrame(dfs)\n",
    "df_acquire = df_acquire.sort_values(by=['time', 'fov'])\n",
    "print(f\"Total Experiment Time: {df_acquire['time'].max()}s\")\n",
    "df_acquire\n"
   ]
  },
  {
   "attachments": {},
   "cell_type": "markdown",
   "metadata": {},
   "source": [
    "## Run on system"
   ]
  },
  {
   "cell_type": "code",
   "execution_count": 20,
   "metadata": {},
   "outputs": [
    {
     "ename": "NameError",
     "evalue": "name 'mm_wdg' is not defined",
     "output_type": "error",
     "traceback": [
      "\u001b[1;31m---------------------------------------------------------------------------\u001b[0m",
      "\u001b[1;31mNameError\u001b[0m                                 Traceback (most recent call last)",
      "Cell \u001b[1;32mIn[20], line 1\u001b[0m\n\u001b[1;32m----> 1\u001b[0m \u001b[43mmm_wdg\u001b[49m\u001b[38;5;241m.\u001b[39m_core_link\u001b[38;5;241m.\u001b[39mcleanup()\n",
      "\u001b[1;31mNameError\u001b[0m: name 'mm_wdg' is not defined"
     ]
    }
   ],
   "source": [
    "mm_wdg._core_link.cleanup()"
   ]
  },
  {
   "cell_type": "code",
   "execution_count": null,
   "metadata": {},
   "outputs": [],
   "source": [
    "dmd = DMD(mmc, DMD_CALIBRATION_PROFILE)\n",
    "dmd.calibrate(verbous=True)"
   ]
  },
  {
   "cell_type": "code",
   "execution_count": 11,
   "metadata": {},
   "outputs": [],
   "source": [
    "controller.stop_run()"
   ]
  },
  {
   "cell_type": "code",
   "execution_count": 16,
   "metadata": {},
   "outputs": [],
   "source": [
    "mmc.mda.cancel()"
   ]
  },
  {
   "cell_type": "code",
   "execution_count": 24,
   "metadata": {},
   "outputs": [],
   "source": [
    "mmc.mda.events.frameReady.disconnect()"
   ]
  },
  {
   "cell_type": "code",
   "execution_count": 44,
   "metadata": {},
   "outputs": [
    {
     "name": "stdout",
     "output_type": "stream",
     "text": [
      "The autoreload extension is already loaded. To reload it, use:\n",
      "  %reload_ext autoreload\n",
      "fov_object                      <fov.FOV object at 0x000001FC6D6A64D0>\n",
      "fov                                                                  0\n",
      "name                                                                 0\n",
      "timestep                                                             0\n",
      "time                                                                 0\n",
      "treatment            {'stim_property': 'global', 'stim_profile': {'...\n",
      "metadata                                                            {}\n",
      "acquired                                                         False\n",
      "stim                                                              True\n",
      "channels                                                  [Red, Green]\n",
      "channels_exposure                                           [200, 200]\n",
      "channel_power                                                 [48, 33]\n",
      "stim_profile         {'device_name': 'LedDMD', 'property_name': 'Cy...\n",
      "stim_exposure                                                      100\n",
      "fname                                                        000_00000\n",
      "Name: 0, dtype: object\n",
      "neue zeile\n",
      "kanal\n",
      "index={'t': 0, 'c': 0} channel=Channel(config='Red', group='WF_DMD') exposure=200.0 min_start_time=0.0 x_pos=-2058.2 y_pos=-8285.4 metadata={'fov_object': <fov.FOV object at 0x000001FC6D6A64D0>, 'fov': 0, 'name': '0', 'timestep': 0, 'time': 0, 'treatment': {'stim_property': 'global', 'stim_profile': {'device_name': 'LedDMD', 'property_name': 'Cyan_Level', 'power': 10, 'channel': 'CyanStim'}, 'stim_exposure': 100, 'stim_timestep': [0]}, 'metadata': {}, 'acquired': False, 'stim': True, 'channels': ['Red', 'Green'], 'channels_exposure': [200, 200], 'channel_power': [48, 33], 'stim_profile': {'device_name': 'LedDMD', 'property_name': 'Cyan_Level', 'power': 10, 'channel': 'CyanStim'}, 'stim_exposure': 100, 'fname': '000_00000', 'img_type': <ImgType.IMG_RAW: 1>, 'last_channel': False, 'channel': 'Red'}\n",
      "kanal\n",
      "index={'t': 0, 'c': 1} channel=Channel(config='Green', group='WF_DMD') exposure=200.0 min_start_time=0.0 x_pos=-2058.2 y_pos=-8285.4 metadata={'fov_object': <fov.FOV object at 0x000001FC6D6A64D0>, 'fov': 0, 'name': '0', 'timestep': 0, 'time': 0, 'treatment': {'stim_property': 'global', 'stim_profile': {'device_name': 'LedDMD', 'property_name': 'Cyan_Level', 'power': 10, 'channel': 'CyanStim'}, 'stim_exposure': 100, 'stim_timestep': [0]}, 'metadata': {}, 'acquired': False, 'stim': True, 'channels': ['Red', 'Green'], 'channels_exposure': [200, 200], 'channel_power': [48, 33], 'stim_profile': {'device_name': 'LedDMD', 'property_name': 'Cyan_Level', 'power': 10, 'channel': 'CyanStim'}, 'stim_exposure': 100, 'fname': '000_00000', 'img_type': <ImgType.IMG_RAW: 1>, 'last_channel': True, 'channel': 'Green'}\n"
     ]
    },
    {
     "data": {
      "text/html": [
       "<pre style=\"white-space:pre;overflow-x:auto;line-height:normal;font-family:Menlo,'DejaVu Sans Mono',consolas,'Courier New',monospace\"><span style=\"color: #7fbfbf; text-decoration-color: #7fbfbf\">[01/15/25 21:35:41] </span><span style=\"color: #000080; text-decoration-color: #000080\">INFO    </span> MDA Started: <span style=\"color: #800080; text-decoration-color: #800080; font-weight: bold\">GeneratorMDASequence</span><span style=\"font-weight: bold\">()</span>                                     <a href=\"file://c:\\Users\\Niesen\\.conda\\envs\\pymmc_w_stardist\\lib\\site-packages\\pymmcore_plus\\mda\\_runner.py\" target=\"_blank\"><span style=\"color: #7f7f7f; text-decoration-color: #7f7f7f\">_runner.py</span></a><span style=\"color: #7f7f7f; text-decoration-color: #7f7f7f\">:</span><a href=\"file://c:\\Users\\Niesen\\.conda\\envs\\pymmc_w_stardist\\lib\\site-packages\\pymmcore_plus\\mda\\_runner.py#329\" target=\"_blank\"><span style=\"color: #7f7f7f; text-decoration-color: #7f7f7f\">329</span></a>\n",
       "</pre>\n"
      ],
      "text/plain": [
       "\u001b[2;36m[01/15/25 21:35:41]\u001b[0m\u001b[2;36m \u001b[0m\u001b[34mINFO    \u001b[0m MDA Started: \u001b[1;35mGeneratorMDASequence\u001b[0m\u001b[1m(\u001b[0m\u001b[1m)\u001b[0m                                     \u001b]8;id=11255;file://c:\\Users\\Niesen\\.conda\\envs\\pymmc_w_stardist\\lib\\site-packages\\pymmcore_plus\\mda\\_runner.py\u001b\\\u001b[2m_runner.py\u001b[0m\u001b]8;;\u001b\\\u001b[2m:\u001b[0m\u001b]8;id=866993;file://c:\\Users\\Niesen\\.conda\\envs\\pymmc_w_stardist\\lib\\site-packages\\pymmcore_plus\\mda\\_runner.py#329\u001b\\\u001b[2m329\u001b[0m\u001b]8;;\u001b\\\n"
      ]
     },
     "metadata": {},
     "output_type": "display_data"
    },
    {
     "data": {
      "text/html": [
       "<pre style=\"white-space:pre;overflow-x:auto;line-height:normal;font-family:Menlo,'DejaVu Sans Mono',consolas,'Courier New',monospace\"><span style=\"color: #7fbfbf; text-decoration-color: #7fbfbf\">                    </span><span style=\"color: #000080; text-decoration-color: #000080\">INFO    </span> <span style=\"color: #808000; text-decoration-color: #808000\">index</span>=<span style=\"font-weight: bold\">{</span><span style=\"color: #008000; text-decoration-color: #008000\">'t'</span>: <span style=\"color: #008080; text-decoration-color: #008080; font-weight: bold\">0</span>, <span style=\"color: #008000; text-decoration-color: #008000\">'c'</span>: <span style=\"color: #008080; text-decoration-color: #008080; font-weight: bold\">0</span><span style=\"font-weight: bold\">}</span> <span style=\"color: #808000; text-decoration-color: #808000\">channel</span>=<span style=\"color: #800080; text-decoration-color: #800080; font-weight: bold\">Channel</span><span style=\"font-weight: bold\">(</span><span style=\"color: #808000; text-decoration-color: #808000\">config</span>=<span style=\"color: #008000; text-decoration-color: #008000\">'Red'</span>, <span style=\"color: #808000; text-decoration-color: #808000\">group</span>=<span style=\"color: #008000; text-decoration-color: #008000\">'WF_DMD'</span><span style=\"font-weight: bold\">)</span>    <a href=\"file://c:\\Users\\Niesen\\.conda\\envs\\pymmc_w_stardist\\lib\\site-packages\\pymmcore_plus\\mda\\_runner.py\" target=\"_blank\"><span style=\"color: #7f7f7f; text-decoration-color: #7f7f7f\">_runner.py</span></a><span style=\"color: #7f7f7f; text-decoration-color: #7f7f7f\">:</span><a href=\"file://c:\\Users\\Niesen\\.conda\\envs\\pymmc_w_stardist\\lib\\site-packages\\pymmcore_plus\\mda\\_runner.py#290\" target=\"_blank\"><span style=\"color: #7f7f7f; text-decoration-color: #7f7f7f\">290</span></a>\n",
       "<span style=\"color: #7fbfbf; text-decoration-color: #7fbfbf\">                    </span>         <span style=\"color: #808000; text-decoration-color: #808000\">exposure</span>=<span style=\"color: #008080; text-decoration-color: #008080; font-weight: bold\">200.0</span> <span style=\"color: #808000; text-decoration-color: #808000\">min_start_time</span>=<span style=\"color: #008080; text-decoration-color: #008080; font-weight: bold\">0.0</span> <span style=\"color: #808000; text-decoration-color: #808000\">x_pos</span>=<span style=\"color: #008080; text-decoration-color: #008080; font-weight: bold\">-2058.2</span> <span style=\"color: #808000; text-decoration-color: #808000\">y_pos</span>=<span style=\"color: #008080; text-decoration-color: #008080; font-weight: bold\">-8285.4</span>           <span style=\"color: #7f7f7f; text-decoration-color: #7f7f7f\">              </span>\n",
       "<span style=\"color: #7fbfbf; text-decoration-color: #7fbfbf\">                    </span>         <span style=\"color: #808000; text-decoration-color: #808000\">metadata</span>=<span style=\"font-weight: bold\">{</span><span style=\"color: #008000; text-decoration-color: #008000\">'fov_object'</span>: <span style=\"font-weight: bold\">&lt;</span><span style=\"color: #ff00ff; text-decoration-color: #ff00ff; font-weight: bold\">fov.FOV</span><span style=\"color: #000000; text-decoration-color: #000000\"> object at </span><span style=\"color: #008080; text-decoration-color: #008080; font-weight: bold\">0x000001FC6D6A64D0</span><span style=\"color: #000000; text-decoration-color: #000000\">&gt;, </span><span style=\"color: #008000; text-decoration-color: #008000\">'fov'</span><span style=\"color: #000000; text-decoration-color: #000000\">: </span> <span style=\"color: #7f7f7f; text-decoration-color: #7f7f7f\">              </span>\n",
       "<span style=\"color: #7fbfbf; text-decoration-color: #7fbfbf\">                    </span>         <span style=\"color: #008080; text-decoration-color: #008080; font-weight: bold\">0</span><span style=\"color: #000000; text-decoration-color: #000000\">, </span><span style=\"color: #008000; text-decoration-color: #008000\">'name'</span><span style=\"color: #000000; text-decoration-color: #000000\">: </span><span style=\"color: #008000; text-decoration-color: #008000\">'0'</span><span style=\"color: #000000; text-decoration-color: #000000\">, </span><span style=\"color: #008000; text-decoration-color: #008000\">'timestep'</span><span style=\"color: #000000; text-decoration-color: #000000\">: </span><span style=\"color: #008080; text-decoration-color: #008080; font-weight: bold\">0</span><span style=\"color: #000000; text-decoration-color: #000000\">, </span><span style=\"color: #008000; text-decoration-color: #008000\">'time'</span><span style=\"color: #000000; text-decoration-color: #000000\">: </span><span style=\"color: #008080; text-decoration-color: #008080; font-weight: bold\">0</span><span style=\"color: #000000; text-decoration-color: #000000\">, </span><span style=\"color: #008000; text-decoration-color: #008000\">'treatment'</span><span style=\"color: #000000; text-decoration-color: #000000\">: </span>                 <span style=\"color: #7f7f7f; text-decoration-color: #7f7f7f\">              </span>\n",
       "<span style=\"color: #7fbfbf; text-decoration-color: #7fbfbf\">                    </span>         <span style=\"color: #000000; text-decoration-color: #000000; font-weight: bold\">{</span><span style=\"color: #008000; text-decoration-color: #008000\">'stim_property'</span><span style=\"color: #000000; text-decoration-color: #000000\">: </span><span style=\"color: #008000; text-decoration-color: #008000\">'global'</span><span style=\"color: #000000; text-decoration-color: #000000\">, </span><span style=\"color: #008000; text-decoration-color: #008000\">'stim_profile'</span><span style=\"color: #000000; text-decoration-color: #000000\">: </span><span style=\"color: #000000; text-decoration-color: #000000; font-weight: bold\">{</span><span style=\"color: #008000; text-decoration-color: #008000\">'device_name'</span><span style=\"color: #000000; text-decoration-color: #000000\">: </span><span style=\"color: #008000; text-decoration-color: #008000\">'LedDMD'</span><span style=\"color: #000000; text-decoration-color: #000000\">, </span>  <span style=\"color: #7f7f7f; text-decoration-color: #7f7f7f\">              </span>\n",
       "<span style=\"color: #7fbfbf; text-decoration-color: #7fbfbf\">                    </span>         <span style=\"color: #008000; text-decoration-color: #008000\">'property_name'</span><span style=\"color: #000000; text-decoration-color: #000000\">: </span><span style=\"color: #008000; text-decoration-color: #008000\">'Cyan_Level'</span><span style=\"color: #000000; text-decoration-color: #000000\">, </span><span style=\"color: #008000; text-decoration-color: #008000\">'power'</span><span style=\"color: #000000; text-decoration-color: #000000\">: </span><span style=\"color: #008080; text-decoration-color: #008080; font-weight: bold\">10</span><span style=\"color: #000000; text-decoration-color: #000000\">, </span><span style=\"color: #008000; text-decoration-color: #008000\">'channel'</span><span style=\"color: #000000; text-decoration-color: #000000\">: </span><span style=\"color: #008000; text-decoration-color: #008000\">'CyanStim'</span><span style=\"color: #000000; text-decoration-color: #000000; font-weight: bold\">}</span><span style=\"color: #000000; text-decoration-color: #000000\">, </span>    <span style=\"color: #7f7f7f; text-decoration-color: #7f7f7f\">              </span>\n",
       "<span style=\"color: #7fbfbf; text-decoration-color: #7fbfbf\">                    </span>         <span style=\"color: #008000; text-decoration-color: #008000\">'stim_exposure'</span><span style=\"color: #000000; text-decoration-color: #000000\">: </span><span style=\"color: #008080; text-decoration-color: #008080; font-weight: bold\">100</span><span style=\"color: #000000; text-decoration-color: #000000\">, </span><span style=\"color: #008000; text-decoration-color: #008000\">'stim_timestep'</span><span style=\"color: #000000; text-decoration-color: #000000\">: </span><span style=\"color: #000000; text-decoration-color: #000000; font-weight: bold\">[</span><span style=\"color: #008080; text-decoration-color: #008080; font-weight: bold\">0</span><span style=\"color: #000000; text-decoration-color: #000000; font-weight: bold\">]}</span><span style=\"color: #000000; text-decoration-color: #000000\">, </span><span style=\"color: #008000; text-decoration-color: #008000\">'metadata'</span><span style=\"color: #000000; text-decoration-color: #000000\">: </span><span style=\"color: #000000; text-decoration-color: #000000; font-weight: bold\">{}</span><span style=\"color: #000000; text-decoration-color: #000000\">, </span>           <span style=\"color: #7f7f7f; text-decoration-color: #7f7f7f\">              </span>\n",
       "<span style=\"color: #7fbfbf; text-decoration-color: #7fbfbf\">                    </span>         <span style=\"color: #008000; text-decoration-color: #008000\">'acquired'</span><span style=\"color: #000000; text-decoration-color: #000000\">: </span><span style=\"color: #ff0000; text-decoration-color: #ff0000; font-style: italic\">False</span><span style=\"color: #000000; text-decoration-color: #000000\">, </span><span style=\"color: #008000; text-decoration-color: #008000\">'stim'</span><span style=\"color: #000000; text-decoration-color: #000000\">: </span><span style=\"color: #00ff00; text-decoration-color: #00ff00; font-style: italic\">True</span><span style=\"color: #000000; text-decoration-color: #000000\">, </span><span style=\"color: #008000; text-decoration-color: #008000\">'channels'</span><span style=\"color: #000000; text-decoration-color: #000000\">: </span><span style=\"color: #000000; text-decoration-color: #000000; font-weight: bold\">[</span><span style=\"color: #008000; text-decoration-color: #008000\">'Red'</span><span style=\"color: #000000; text-decoration-color: #000000\">, </span><span style=\"color: #008000; text-decoration-color: #008000\">'Green'</span><span style=\"color: #000000; text-decoration-color: #000000; font-weight: bold\">]</span><span style=\"color: #000000; text-decoration-color: #000000\">, </span>         <span style=\"color: #7f7f7f; text-decoration-color: #7f7f7f\">              </span>\n",
       "<span style=\"color: #7fbfbf; text-decoration-color: #7fbfbf\">                    </span>         <span style=\"color: #008000; text-decoration-color: #008000\">'channels_exposure'</span><span style=\"color: #000000; text-decoration-color: #000000\">: </span><span style=\"color: #000000; text-decoration-color: #000000; font-weight: bold\">[</span><span style=\"color: #008080; text-decoration-color: #008080; font-weight: bold\">200</span><span style=\"color: #000000; text-decoration-color: #000000\">, </span><span style=\"color: #008080; text-decoration-color: #008080; font-weight: bold\">200</span><span style=\"color: #000000; text-decoration-color: #000000; font-weight: bold\">]</span><span style=\"color: #000000; text-decoration-color: #000000\">, </span><span style=\"color: #008000; text-decoration-color: #008000\">'channel_power'</span><span style=\"color: #000000; text-decoration-color: #000000\">: </span><span style=\"color: #000000; text-decoration-color: #000000; font-weight: bold\">[</span><span style=\"color: #008080; text-decoration-color: #008080; font-weight: bold\">48</span><span style=\"color: #000000; text-decoration-color: #000000\">, </span><span style=\"color: #008080; text-decoration-color: #008080; font-weight: bold\">33</span><span style=\"color: #000000; text-decoration-color: #000000; font-weight: bold\">]</span><span style=\"color: #000000; text-decoration-color: #000000\">, </span>            <span style=\"color: #7f7f7f; text-decoration-color: #7f7f7f\">              </span>\n",
       "<span style=\"color: #7fbfbf; text-decoration-color: #7fbfbf\">                    </span>         <span style=\"color: #008000; text-decoration-color: #008000\">'stim_profile'</span><span style=\"color: #000000; text-decoration-color: #000000\">: </span><span style=\"color: #000000; text-decoration-color: #000000; font-weight: bold\">{</span><span style=\"color: #008000; text-decoration-color: #008000\">'device_name'</span><span style=\"color: #000000; text-decoration-color: #000000\">: </span><span style=\"color: #008000; text-decoration-color: #008000\">'LedDMD'</span><span style=\"color: #000000; text-decoration-color: #000000\">, </span><span style=\"color: #008000; text-decoration-color: #008000\">'property_name'</span><span style=\"color: #000000; text-decoration-color: #000000\">: </span>             <span style=\"color: #7f7f7f; text-decoration-color: #7f7f7f\">              </span>\n",
       "<span style=\"color: #7fbfbf; text-decoration-color: #7fbfbf\">                    </span>         <span style=\"color: #008000; text-decoration-color: #008000\">'Cyan_Level'</span><span style=\"color: #000000; text-decoration-color: #000000\">, </span><span style=\"color: #008000; text-decoration-color: #008000\">'power'</span><span style=\"color: #000000; text-decoration-color: #000000\">: </span><span style=\"color: #008080; text-decoration-color: #008080; font-weight: bold\">10</span><span style=\"color: #000000; text-decoration-color: #000000\">, </span><span style=\"color: #008000; text-decoration-color: #008000\">'channel'</span><span style=\"color: #000000; text-decoration-color: #000000\">: </span><span style=\"color: #008000; text-decoration-color: #008000\">'CyanStim'</span><span style=\"color: #000000; text-decoration-color: #000000; font-weight: bold\">}</span><span style=\"color: #000000; text-decoration-color: #000000\">, </span><span style=\"color: #008000; text-decoration-color: #008000\">'stim_exposure'</span><span style=\"color: #000000; text-decoration-color: #000000\">: </span>    <span style=\"color: #7f7f7f; text-decoration-color: #7f7f7f\">              </span>\n",
       "<span style=\"color: #7fbfbf; text-decoration-color: #7fbfbf\">                    </span>         <span style=\"color: #008080; text-decoration-color: #008080; font-weight: bold\">100</span><span style=\"color: #000000; text-decoration-color: #000000\">, </span><span style=\"color: #008000; text-decoration-color: #008000\">'fname'</span><span style=\"color: #000000; text-decoration-color: #000000\">: </span><span style=\"color: #008000; text-decoration-color: #008000\">'000_00000'</span><span style=\"color: #000000; text-decoration-color: #000000\">, </span><span style=\"color: #008000; text-decoration-color: #008000\">'img_type'</span><span style=\"color: #000000; text-decoration-color: #000000\">: &lt;ImgType.IMG_RAW: </span><span style=\"color: #008080; text-decoration-color: #008080; font-weight: bold\">1</span><span style=\"font-weight: bold\">&gt;</span>,            <span style=\"color: #7f7f7f; text-decoration-color: #7f7f7f\">              </span>\n",
       "<span style=\"color: #7fbfbf; text-decoration-color: #7fbfbf\">                    </span>         <span style=\"color: #008000; text-decoration-color: #008000\">'last_channel'</span>: <span style=\"color: #ff0000; text-decoration-color: #ff0000; font-style: italic\">False</span>, <span style=\"color: #008000; text-decoration-color: #008000\">'channel'</span>: <span style=\"color: #008000; text-decoration-color: #008000\">'Red'</span><span style=\"font-weight: bold\">}</span>                                <span style=\"color: #7f7f7f; text-decoration-color: #7f7f7f\">              </span>\n",
       "</pre>\n"
      ],
      "text/plain": [
       "\u001b[2;36m                   \u001b[0m\u001b[2;36m \u001b[0m\u001b[34mINFO    \u001b[0m \u001b[33mindex\u001b[0m=\u001b[1m{\u001b[0m\u001b[32m't'\u001b[0m: \u001b[1;36m0\u001b[0m, \u001b[32m'c'\u001b[0m: \u001b[1;36m0\u001b[0m\u001b[1m}\u001b[0m \u001b[33mchannel\u001b[0m=\u001b[1;35mChannel\u001b[0m\u001b[1m(\u001b[0m\u001b[33mconfig\u001b[0m=\u001b[32m'Red'\u001b[0m, \u001b[33mgroup\u001b[0m=\u001b[32m'WF_DMD'\u001b[0m\u001b[1m)\u001b[0m    \u001b]8;id=176322;file://c:\\Users\\Niesen\\.conda\\envs\\pymmc_w_stardist\\lib\\site-packages\\pymmcore_plus\\mda\\_runner.py\u001b\\\u001b[2m_runner.py\u001b[0m\u001b]8;;\u001b\\\u001b[2m:\u001b[0m\u001b]8;id=124764;file://c:\\Users\\Niesen\\.conda\\envs\\pymmc_w_stardist\\lib\\site-packages\\pymmcore_plus\\mda\\_runner.py#290\u001b\\\u001b[2m290\u001b[0m\u001b]8;;\u001b\\\n",
       "\u001b[2;36m                    \u001b[0m         \u001b[33mexposure\u001b[0m=\u001b[1;36m200\u001b[0m\u001b[1;36m.0\u001b[0m \u001b[33mmin_start_time\u001b[0m=\u001b[1;36m0\u001b[0m\u001b[1;36m.0\u001b[0m \u001b[33mx_pos\u001b[0m=\u001b[1;36m-2058.2\u001b[0m \u001b[33my_pos\u001b[0m=\u001b[1;36m-8285.4\u001b[0m           \u001b[2m              \u001b[0m\n",
       "\u001b[2;36m                    \u001b[0m         \u001b[33mmetadata\u001b[0m=\u001b[1m{\u001b[0m\u001b[32m'fov_object'\u001b[0m: \u001b[1m<\u001b[0m\u001b[1;95mfov.FOV\u001b[0m\u001b[39m object at \u001b[0m\u001b[1;36m0x000001FC6D6A64D0\u001b[0m\u001b[39m>, \u001b[0m\u001b[32m'fov'\u001b[0m\u001b[39m: \u001b[0m \u001b[2m              \u001b[0m\n",
       "\u001b[2;36m                    \u001b[0m         \u001b[1;36m0\u001b[0m\u001b[39m, \u001b[0m\u001b[32m'name'\u001b[0m\u001b[39m: \u001b[0m\u001b[32m'0'\u001b[0m\u001b[39m, \u001b[0m\u001b[32m'timestep'\u001b[0m\u001b[39m: \u001b[0m\u001b[1;36m0\u001b[0m\u001b[39m, \u001b[0m\u001b[32m'time'\u001b[0m\u001b[39m: \u001b[0m\u001b[1;36m0\u001b[0m\u001b[39m, \u001b[0m\u001b[32m'treatment'\u001b[0m\u001b[39m: \u001b[0m                 \u001b[2m              \u001b[0m\n",
       "\u001b[2;36m                    \u001b[0m         \u001b[1;39m{\u001b[0m\u001b[32m'stim_property'\u001b[0m\u001b[39m: \u001b[0m\u001b[32m'global'\u001b[0m\u001b[39m, \u001b[0m\u001b[32m'stim_profile'\u001b[0m\u001b[39m: \u001b[0m\u001b[1;39m{\u001b[0m\u001b[32m'device_name'\u001b[0m\u001b[39m: \u001b[0m\u001b[32m'LedDMD'\u001b[0m\u001b[39m, \u001b[0m  \u001b[2m              \u001b[0m\n",
       "\u001b[2;36m                    \u001b[0m         \u001b[32m'property_name'\u001b[0m\u001b[39m: \u001b[0m\u001b[32m'Cyan_Level'\u001b[0m\u001b[39m, \u001b[0m\u001b[32m'power'\u001b[0m\u001b[39m: \u001b[0m\u001b[1;36m10\u001b[0m\u001b[39m, \u001b[0m\u001b[32m'channel'\u001b[0m\u001b[39m: \u001b[0m\u001b[32m'CyanStim'\u001b[0m\u001b[1;39m}\u001b[0m\u001b[39m, \u001b[0m    \u001b[2m              \u001b[0m\n",
       "\u001b[2;36m                    \u001b[0m         \u001b[32m'stim_exposure'\u001b[0m\u001b[39m: \u001b[0m\u001b[1;36m100\u001b[0m\u001b[39m, \u001b[0m\u001b[32m'stim_timestep'\u001b[0m\u001b[39m: \u001b[0m\u001b[1;39m[\u001b[0m\u001b[1;36m0\u001b[0m\u001b[1;39m]\u001b[0m\u001b[1;39m}\u001b[0m\u001b[39m, \u001b[0m\u001b[32m'metadata'\u001b[0m\u001b[39m: \u001b[0m\u001b[1;39m{\u001b[0m\u001b[1;39m}\u001b[0m\u001b[39m, \u001b[0m           \u001b[2m              \u001b[0m\n",
       "\u001b[2;36m                    \u001b[0m         \u001b[32m'acquired'\u001b[0m\u001b[39m: \u001b[0m\u001b[3;91mFalse\u001b[0m\u001b[39m, \u001b[0m\u001b[32m'stim'\u001b[0m\u001b[39m: \u001b[0m\u001b[3;92mTrue\u001b[0m\u001b[39m, \u001b[0m\u001b[32m'channels'\u001b[0m\u001b[39m: \u001b[0m\u001b[1;39m[\u001b[0m\u001b[32m'Red'\u001b[0m\u001b[39m, \u001b[0m\u001b[32m'Green'\u001b[0m\u001b[1;39m]\u001b[0m\u001b[39m, \u001b[0m         \u001b[2m              \u001b[0m\n",
       "\u001b[2;36m                    \u001b[0m         \u001b[32m'channels_exposure'\u001b[0m\u001b[39m: \u001b[0m\u001b[1;39m[\u001b[0m\u001b[1;36m200\u001b[0m\u001b[39m, \u001b[0m\u001b[1;36m200\u001b[0m\u001b[1;39m]\u001b[0m\u001b[39m, \u001b[0m\u001b[32m'channel_power'\u001b[0m\u001b[39m: \u001b[0m\u001b[1;39m[\u001b[0m\u001b[1;36m48\u001b[0m\u001b[39m, \u001b[0m\u001b[1;36m33\u001b[0m\u001b[1;39m]\u001b[0m\u001b[39m, \u001b[0m            \u001b[2m              \u001b[0m\n",
       "\u001b[2;36m                    \u001b[0m         \u001b[32m'stim_profile'\u001b[0m\u001b[39m: \u001b[0m\u001b[1;39m{\u001b[0m\u001b[32m'device_name'\u001b[0m\u001b[39m: \u001b[0m\u001b[32m'LedDMD'\u001b[0m\u001b[39m, \u001b[0m\u001b[32m'property_name'\u001b[0m\u001b[39m: \u001b[0m             \u001b[2m              \u001b[0m\n",
       "\u001b[2;36m                    \u001b[0m         \u001b[32m'Cyan_Level'\u001b[0m\u001b[39m, \u001b[0m\u001b[32m'power'\u001b[0m\u001b[39m: \u001b[0m\u001b[1;36m10\u001b[0m\u001b[39m, \u001b[0m\u001b[32m'channel'\u001b[0m\u001b[39m: \u001b[0m\u001b[32m'CyanStim'\u001b[0m\u001b[1;39m}\u001b[0m\u001b[39m, \u001b[0m\u001b[32m'stim_exposure'\u001b[0m\u001b[39m: \u001b[0m    \u001b[2m              \u001b[0m\n",
       "\u001b[2;36m                    \u001b[0m         \u001b[1;36m100\u001b[0m\u001b[39m, \u001b[0m\u001b[32m'fname'\u001b[0m\u001b[39m: \u001b[0m\u001b[32m'000_00000'\u001b[0m\u001b[39m, \u001b[0m\u001b[32m'img_type'\u001b[0m\u001b[39m: <ImgType.IMG_RAW: \u001b[0m\u001b[1;36m1\u001b[0m\u001b[1m>\u001b[0m,            \u001b[2m              \u001b[0m\n",
       "\u001b[2;36m                    \u001b[0m         \u001b[32m'last_channel'\u001b[0m: \u001b[3;91mFalse\u001b[0m, \u001b[32m'channel'\u001b[0m: \u001b[32m'Red'\u001b[0m\u001b[1m}\u001b[0m                                \u001b[2m              \u001b[0m\n"
      ]
     },
     "metadata": {},
     "output_type": "display_data"
    },
    {
     "data": {
      "text/html": [
       "<pre style=\"white-space:pre;overflow-x:auto;line-height:normal;font-family:Menlo,'DejaVu Sans Mono',consolas,'Courier New',monospace\"><span style=\"color: #7fbfbf; text-decoration-color: #7fbfbf\">[01/15/25 21:36:01] </span><span style=\"color: #000080; text-decoration-color: #000080\">INFO    </span> <span style=\"color: #808000; text-decoration-color: #808000\">index</span>=<span style=\"font-weight: bold\">{</span><span style=\"color: #008000; text-decoration-color: #008000\">'t'</span>: <span style=\"color: #008080; text-decoration-color: #008080; font-weight: bold\">0</span>, <span style=\"color: #008000; text-decoration-color: #008000\">'c'</span>: <span style=\"color: #008080; text-decoration-color: #008080; font-weight: bold\">1</span><span style=\"font-weight: bold\">}</span> <span style=\"color: #808000; text-decoration-color: #808000\">channel</span>=<span style=\"color: #800080; text-decoration-color: #800080; font-weight: bold\">Channel</span><span style=\"font-weight: bold\">(</span><span style=\"color: #808000; text-decoration-color: #808000\">config</span>=<span style=\"color: #008000; text-decoration-color: #008000\">'Green'</span>, <span style=\"color: #808000; text-decoration-color: #808000\">group</span>=<span style=\"color: #008000; text-decoration-color: #008000\">'WF_DMD'</span><span style=\"font-weight: bold\">)</span>  <a href=\"file://c:\\Users\\Niesen\\.conda\\envs\\pymmc_w_stardist\\lib\\site-packages\\pymmcore_plus\\mda\\_runner.py\" target=\"_blank\"><span style=\"color: #7f7f7f; text-decoration-color: #7f7f7f\">_runner.py</span></a><span style=\"color: #7f7f7f; text-decoration-color: #7f7f7f\">:</span><a href=\"file://c:\\Users\\Niesen\\.conda\\envs\\pymmc_w_stardist\\lib\\site-packages\\pymmcore_plus\\mda\\_runner.py#290\" target=\"_blank\"><span style=\"color: #7f7f7f; text-decoration-color: #7f7f7f\">290</span></a>\n",
       "<span style=\"color: #7fbfbf; text-decoration-color: #7fbfbf\">                    </span>         <span style=\"color: #808000; text-decoration-color: #808000\">exposure</span>=<span style=\"color: #008080; text-decoration-color: #008080; font-weight: bold\">200.0</span> <span style=\"color: #808000; text-decoration-color: #808000\">min_start_time</span>=<span style=\"color: #008080; text-decoration-color: #008080; font-weight: bold\">0.0</span> <span style=\"color: #808000; text-decoration-color: #808000\">x_pos</span>=<span style=\"color: #008080; text-decoration-color: #008080; font-weight: bold\">-2058.2</span> <span style=\"color: #808000; text-decoration-color: #808000\">y_pos</span>=<span style=\"color: #008080; text-decoration-color: #008080; font-weight: bold\">-8285.4</span>           <span style=\"color: #7f7f7f; text-decoration-color: #7f7f7f\">              </span>\n",
       "<span style=\"color: #7fbfbf; text-decoration-color: #7fbfbf\">                    </span>         <span style=\"color: #808000; text-decoration-color: #808000\">metadata</span>=<span style=\"font-weight: bold\">{</span><span style=\"color: #008000; text-decoration-color: #008000\">'fov_object'</span>: <span style=\"font-weight: bold\">&lt;</span><span style=\"color: #ff00ff; text-decoration-color: #ff00ff; font-weight: bold\">fov.FOV</span><span style=\"color: #000000; text-decoration-color: #000000\"> object at </span><span style=\"color: #008080; text-decoration-color: #008080; font-weight: bold\">0x000001FC6D6A64D0</span><span style=\"color: #000000; text-decoration-color: #000000\">&gt;, </span><span style=\"color: #008000; text-decoration-color: #008000\">'fov'</span><span style=\"color: #000000; text-decoration-color: #000000\">: </span> <span style=\"color: #7f7f7f; text-decoration-color: #7f7f7f\">              </span>\n",
       "<span style=\"color: #7fbfbf; text-decoration-color: #7fbfbf\">                    </span>         <span style=\"color: #008080; text-decoration-color: #008080; font-weight: bold\">0</span><span style=\"color: #000000; text-decoration-color: #000000\">, </span><span style=\"color: #008000; text-decoration-color: #008000\">'name'</span><span style=\"color: #000000; text-decoration-color: #000000\">: </span><span style=\"color: #008000; text-decoration-color: #008000\">'0'</span><span style=\"color: #000000; text-decoration-color: #000000\">, </span><span style=\"color: #008000; text-decoration-color: #008000\">'timestep'</span><span style=\"color: #000000; text-decoration-color: #000000\">: </span><span style=\"color: #008080; text-decoration-color: #008080; font-weight: bold\">0</span><span style=\"color: #000000; text-decoration-color: #000000\">, </span><span style=\"color: #008000; text-decoration-color: #008000\">'time'</span><span style=\"color: #000000; text-decoration-color: #000000\">: </span><span style=\"color: #008080; text-decoration-color: #008080; font-weight: bold\">0</span><span style=\"color: #000000; text-decoration-color: #000000\">, </span><span style=\"color: #008000; text-decoration-color: #008000\">'treatment'</span><span style=\"color: #000000; text-decoration-color: #000000\">: </span>                 <span style=\"color: #7f7f7f; text-decoration-color: #7f7f7f\">              </span>\n",
       "<span style=\"color: #7fbfbf; text-decoration-color: #7fbfbf\">                    </span>         <span style=\"color: #000000; text-decoration-color: #000000; font-weight: bold\">{</span><span style=\"color: #008000; text-decoration-color: #008000\">'stim_property'</span><span style=\"color: #000000; text-decoration-color: #000000\">: </span><span style=\"color: #008000; text-decoration-color: #008000\">'global'</span><span style=\"color: #000000; text-decoration-color: #000000\">, </span><span style=\"color: #008000; text-decoration-color: #008000\">'stim_profile'</span><span style=\"color: #000000; text-decoration-color: #000000\">: </span><span style=\"color: #000000; text-decoration-color: #000000; font-weight: bold\">{</span><span style=\"color: #008000; text-decoration-color: #008000\">'device_name'</span><span style=\"color: #000000; text-decoration-color: #000000\">: </span><span style=\"color: #008000; text-decoration-color: #008000\">'LedDMD'</span><span style=\"color: #000000; text-decoration-color: #000000\">, </span>  <span style=\"color: #7f7f7f; text-decoration-color: #7f7f7f\">              </span>\n",
       "<span style=\"color: #7fbfbf; text-decoration-color: #7fbfbf\">                    </span>         <span style=\"color: #008000; text-decoration-color: #008000\">'property_name'</span><span style=\"color: #000000; text-decoration-color: #000000\">: </span><span style=\"color: #008000; text-decoration-color: #008000\">'Cyan_Level'</span><span style=\"color: #000000; text-decoration-color: #000000\">, </span><span style=\"color: #008000; text-decoration-color: #008000\">'power'</span><span style=\"color: #000000; text-decoration-color: #000000\">: </span><span style=\"color: #008080; text-decoration-color: #008080; font-weight: bold\">10</span><span style=\"color: #000000; text-decoration-color: #000000\">, </span><span style=\"color: #008000; text-decoration-color: #008000\">'channel'</span><span style=\"color: #000000; text-decoration-color: #000000\">: </span><span style=\"color: #008000; text-decoration-color: #008000\">'CyanStim'</span><span style=\"color: #000000; text-decoration-color: #000000; font-weight: bold\">}</span><span style=\"color: #000000; text-decoration-color: #000000\">, </span>    <span style=\"color: #7f7f7f; text-decoration-color: #7f7f7f\">              </span>\n",
       "<span style=\"color: #7fbfbf; text-decoration-color: #7fbfbf\">                    </span>         <span style=\"color: #008000; text-decoration-color: #008000\">'stim_exposure'</span><span style=\"color: #000000; text-decoration-color: #000000\">: </span><span style=\"color: #008080; text-decoration-color: #008080; font-weight: bold\">100</span><span style=\"color: #000000; text-decoration-color: #000000\">, </span><span style=\"color: #008000; text-decoration-color: #008000\">'stim_timestep'</span><span style=\"color: #000000; text-decoration-color: #000000\">: </span><span style=\"color: #000000; text-decoration-color: #000000; font-weight: bold\">[</span><span style=\"color: #008080; text-decoration-color: #008080; font-weight: bold\">0</span><span style=\"color: #000000; text-decoration-color: #000000; font-weight: bold\">]}</span><span style=\"color: #000000; text-decoration-color: #000000\">, </span><span style=\"color: #008000; text-decoration-color: #008000\">'metadata'</span><span style=\"color: #000000; text-decoration-color: #000000\">: </span><span style=\"color: #000000; text-decoration-color: #000000; font-weight: bold\">{}</span><span style=\"color: #000000; text-decoration-color: #000000\">, </span>           <span style=\"color: #7f7f7f; text-decoration-color: #7f7f7f\">              </span>\n",
       "<span style=\"color: #7fbfbf; text-decoration-color: #7fbfbf\">                    </span>         <span style=\"color: #008000; text-decoration-color: #008000\">'acquired'</span><span style=\"color: #000000; text-decoration-color: #000000\">: </span><span style=\"color: #ff0000; text-decoration-color: #ff0000; font-style: italic\">False</span><span style=\"color: #000000; text-decoration-color: #000000\">, </span><span style=\"color: #008000; text-decoration-color: #008000\">'stim'</span><span style=\"color: #000000; text-decoration-color: #000000\">: </span><span style=\"color: #00ff00; text-decoration-color: #00ff00; font-style: italic\">True</span><span style=\"color: #000000; text-decoration-color: #000000\">, </span><span style=\"color: #008000; text-decoration-color: #008000\">'channels'</span><span style=\"color: #000000; text-decoration-color: #000000\">: </span><span style=\"color: #000000; text-decoration-color: #000000; font-weight: bold\">[</span><span style=\"color: #008000; text-decoration-color: #008000\">'Red'</span><span style=\"color: #000000; text-decoration-color: #000000\">, </span><span style=\"color: #008000; text-decoration-color: #008000\">'Green'</span><span style=\"color: #000000; text-decoration-color: #000000; font-weight: bold\">]</span><span style=\"color: #000000; text-decoration-color: #000000\">, </span>         <span style=\"color: #7f7f7f; text-decoration-color: #7f7f7f\">              </span>\n",
       "<span style=\"color: #7fbfbf; text-decoration-color: #7fbfbf\">                    </span>         <span style=\"color: #008000; text-decoration-color: #008000\">'channels_exposure'</span><span style=\"color: #000000; text-decoration-color: #000000\">: </span><span style=\"color: #000000; text-decoration-color: #000000; font-weight: bold\">[</span><span style=\"color: #008080; text-decoration-color: #008080; font-weight: bold\">200</span><span style=\"color: #000000; text-decoration-color: #000000\">, </span><span style=\"color: #008080; text-decoration-color: #008080; font-weight: bold\">200</span><span style=\"color: #000000; text-decoration-color: #000000; font-weight: bold\">]</span><span style=\"color: #000000; text-decoration-color: #000000\">, </span><span style=\"color: #008000; text-decoration-color: #008000\">'channel_power'</span><span style=\"color: #000000; text-decoration-color: #000000\">: </span><span style=\"color: #000000; text-decoration-color: #000000; font-weight: bold\">[</span><span style=\"color: #008080; text-decoration-color: #008080; font-weight: bold\">48</span><span style=\"color: #000000; text-decoration-color: #000000\">, </span><span style=\"color: #008080; text-decoration-color: #008080; font-weight: bold\">33</span><span style=\"color: #000000; text-decoration-color: #000000; font-weight: bold\">]</span><span style=\"color: #000000; text-decoration-color: #000000\">, </span>            <span style=\"color: #7f7f7f; text-decoration-color: #7f7f7f\">              </span>\n",
       "<span style=\"color: #7fbfbf; text-decoration-color: #7fbfbf\">                    </span>         <span style=\"color: #008000; text-decoration-color: #008000\">'stim_profile'</span><span style=\"color: #000000; text-decoration-color: #000000\">: </span><span style=\"color: #000000; text-decoration-color: #000000; font-weight: bold\">{</span><span style=\"color: #008000; text-decoration-color: #008000\">'device_name'</span><span style=\"color: #000000; text-decoration-color: #000000\">: </span><span style=\"color: #008000; text-decoration-color: #008000\">'LedDMD'</span><span style=\"color: #000000; text-decoration-color: #000000\">, </span><span style=\"color: #008000; text-decoration-color: #008000\">'property_name'</span><span style=\"color: #000000; text-decoration-color: #000000\">: </span>             <span style=\"color: #7f7f7f; text-decoration-color: #7f7f7f\">              </span>\n",
       "<span style=\"color: #7fbfbf; text-decoration-color: #7fbfbf\">                    </span>         <span style=\"color: #008000; text-decoration-color: #008000\">'Cyan_Level'</span><span style=\"color: #000000; text-decoration-color: #000000\">, </span><span style=\"color: #008000; text-decoration-color: #008000\">'power'</span><span style=\"color: #000000; text-decoration-color: #000000\">: </span><span style=\"color: #008080; text-decoration-color: #008080; font-weight: bold\">10</span><span style=\"color: #000000; text-decoration-color: #000000\">, </span><span style=\"color: #008000; text-decoration-color: #008000\">'channel'</span><span style=\"color: #000000; text-decoration-color: #000000\">: </span><span style=\"color: #008000; text-decoration-color: #008000\">'CyanStim'</span><span style=\"color: #000000; text-decoration-color: #000000; font-weight: bold\">}</span><span style=\"color: #000000; text-decoration-color: #000000\">, </span><span style=\"color: #008000; text-decoration-color: #008000\">'stim_exposure'</span><span style=\"color: #000000; text-decoration-color: #000000\">: </span>    <span style=\"color: #7f7f7f; text-decoration-color: #7f7f7f\">              </span>\n",
       "<span style=\"color: #7fbfbf; text-decoration-color: #7fbfbf\">                    </span>         <span style=\"color: #008080; text-decoration-color: #008080; font-weight: bold\">100</span><span style=\"color: #000000; text-decoration-color: #000000\">, </span><span style=\"color: #008000; text-decoration-color: #008000\">'fname'</span><span style=\"color: #000000; text-decoration-color: #000000\">: </span><span style=\"color: #008000; text-decoration-color: #008000\">'000_00000'</span><span style=\"color: #000000; text-decoration-color: #000000\">, </span><span style=\"color: #008000; text-decoration-color: #008000\">'img_type'</span><span style=\"color: #000000; text-decoration-color: #000000\">: &lt;ImgType.IMG_RAW: </span><span style=\"color: #008080; text-decoration-color: #008080; font-weight: bold\">1</span><span style=\"font-weight: bold\">&gt;</span>,            <span style=\"color: #7f7f7f; text-decoration-color: #7f7f7f\">              </span>\n",
       "<span style=\"color: #7fbfbf; text-decoration-color: #7fbfbf\">                    </span>         <span style=\"color: #008000; text-decoration-color: #008000\">'last_channel'</span>: <span style=\"color: #00ff00; text-decoration-color: #00ff00; font-style: italic\">True</span>, <span style=\"color: #008000; text-decoration-color: #008000\">'channel'</span>: <span style=\"color: #008000; text-decoration-color: #008000\">'Green'</span><span style=\"font-weight: bold\">}</span>                               <span style=\"color: #7f7f7f; text-decoration-color: #7f7f7f\">              </span>\n",
       "</pre>\n"
      ],
      "text/plain": [
       "\u001b[2;36m[01/15/25 21:36:01]\u001b[0m\u001b[2;36m \u001b[0m\u001b[34mINFO    \u001b[0m \u001b[33mindex\u001b[0m=\u001b[1m{\u001b[0m\u001b[32m't'\u001b[0m: \u001b[1;36m0\u001b[0m, \u001b[32m'c'\u001b[0m: \u001b[1;36m1\u001b[0m\u001b[1m}\u001b[0m \u001b[33mchannel\u001b[0m=\u001b[1;35mChannel\u001b[0m\u001b[1m(\u001b[0m\u001b[33mconfig\u001b[0m=\u001b[32m'Green'\u001b[0m, \u001b[33mgroup\u001b[0m=\u001b[32m'WF_DMD'\u001b[0m\u001b[1m)\u001b[0m  \u001b]8;id=29682;file://c:\\Users\\Niesen\\.conda\\envs\\pymmc_w_stardist\\lib\\site-packages\\pymmcore_plus\\mda\\_runner.py\u001b\\\u001b[2m_runner.py\u001b[0m\u001b]8;;\u001b\\\u001b[2m:\u001b[0m\u001b]8;id=142701;file://c:\\Users\\Niesen\\.conda\\envs\\pymmc_w_stardist\\lib\\site-packages\\pymmcore_plus\\mda\\_runner.py#290\u001b\\\u001b[2m290\u001b[0m\u001b]8;;\u001b\\\n",
       "\u001b[2;36m                    \u001b[0m         \u001b[33mexposure\u001b[0m=\u001b[1;36m200\u001b[0m\u001b[1;36m.0\u001b[0m \u001b[33mmin_start_time\u001b[0m=\u001b[1;36m0\u001b[0m\u001b[1;36m.0\u001b[0m \u001b[33mx_pos\u001b[0m=\u001b[1;36m-2058.2\u001b[0m \u001b[33my_pos\u001b[0m=\u001b[1;36m-8285.4\u001b[0m           \u001b[2m              \u001b[0m\n",
       "\u001b[2;36m                    \u001b[0m         \u001b[33mmetadata\u001b[0m=\u001b[1m{\u001b[0m\u001b[32m'fov_object'\u001b[0m: \u001b[1m<\u001b[0m\u001b[1;95mfov.FOV\u001b[0m\u001b[39m object at \u001b[0m\u001b[1;36m0x000001FC6D6A64D0\u001b[0m\u001b[39m>, \u001b[0m\u001b[32m'fov'\u001b[0m\u001b[39m: \u001b[0m \u001b[2m              \u001b[0m\n",
       "\u001b[2;36m                    \u001b[0m         \u001b[1;36m0\u001b[0m\u001b[39m, \u001b[0m\u001b[32m'name'\u001b[0m\u001b[39m: \u001b[0m\u001b[32m'0'\u001b[0m\u001b[39m, \u001b[0m\u001b[32m'timestep'\u001b[0m\u001b[39m: \u001b[0m\u001b[1;36m0\u001b[0m\u001b[39m, \u001b[0m\u001b[32m'time'\u001b[0m\u001b[39m: \u001b[0m\u001b[1;36m0\u001b[0m\u001b[39m, \u001b[0m\u001b[32m'treatment'\u001b[0m\u001b[39m: \u001b[0m                 \u001b[2m              \u001b[0m\n",
       "\u001b[2;36m                    \u001b[0m         \u001b[1;39m{\u001b[0m\u001b[32m'stim_property'\u001b[0m\u001b[39m: \u001b[0m\u001b[32m'global'\u001b[0m\u001b[39m, \u001b[0m\u001b[32m'stim_profile'\u001b[0m\u001b[39m: \u001b[0m\u001b[1;39m{\u001b[0m\u001b[32m'device_name'\u001b[0m\u001b[39m: \u001b[0m\u001b[32m'LedDMD'\u001b[0m\u001b[39m, \u001b[0m  \u001b[2m              \u001b[0m\n",
       "\u001b[2;36m                    \u001b[0m         \u001b[32m'property_name'\u001b[0m\u001b[39m: \u001b[0m\u001b[32m'Cyan_Level'\u001b[0m\u001b[39m, \u001b[0m\u001b[32m'power'\u001b[0m\u001b[39m: \u001b[0m\u001b[1;36m10\u001b[0m\u001b[39m, \u001b[0m\u001b[32m'channel'\u001b[0m\u001b[39m: \u001b[0m\u001b[32m'CyanStim'\u001b[0m\u001b[1;39m}\u001b[0m\u001b[39m, \u001b[0m    \u001b[2m              \u001b[0m\n",
       "\u001b[2;36m                    \u001b[0m         \u001b[32m'stim_exposure'\u001b[0m\u001b[39m: \u001b[0m\u001b[1;36m100\u001b[0m\u001b[39m, \u001b[0m\u001b[32m'stim_timestep'\u001b[0m\u001b[39m: \u001b[0m\u001b[1;39m[\u001b[0m\u001b[1;36m0\u001b[0m\u001b[1;39m]\u001b[0m\u001b[1;39m}\u001b[0m\u001b[39m, \u001b[0m\u001b[32m'metadata'\u001b[0m\u001b[39m: \u001b[0m\u001b[1;39m{\u001b[0m\u001b[1;39m}\u001b[0m\u001b[39m, \u001b[0m           \u001b[2m              \u001b[0m\n",
       "\u001b[2;36m                    \u001b[0m         \u001b[32m'acquired'\u001b[0m\u001b[39m: \u001b[0m\u001b[3;91mFalse\u001b[0m\u001b[39m, \u001b[0m\u001b[32m'stim'\u001b[0m\u001b[39m: \u001b[0m\u001b[3;92mTrue\u001b[0m\u001b[39m, \u001b[0m\u001b[32m'channels'\u001b[0m\u001b[39m: \u001b[0m\u001b[1;39m[\u001b[0m\u001b[32m'Red'\u001b[0m\u001b[39m, \u001b[0m\u001b[32m'Green'\u001b[0m\u001b[1;39m]\u001b[0m\u001b[39m, \u001b[0m         \u001b[2m              \u001b[0m\n",
       "\u001b[2;36m                    \u001b[0m         \u001b[32m'channels_exposure'\u001b[0m\u001b[39m: \u001b[0m\u001b[1;39m[\u001b[0m\u001b[1;36m200\u001b[0m\u001b[39m, \u001b[0m\u001b[1;36m200\u001b[0m\u001b[1;39m]\u001b[0m\u001b[39m, \u001b[0m\u001b[32m'channel_power'\u001b[0m\u001b[39m: \u001b[0m\u001b[1;39m[\u001b[0m\u001b[1;36m48\u001b[0m\u001b[39m, \u001b[0m\u001b[1;36m33\u001b[0m\u001b[1;39m]\u001b[0m\u001b[39m, \u001b[0m            \u001b[2m              \u001b[0m\n",
       "\u001b[2;36m                    \u001b[0m         \u001b[32m'stim_profile'\u001b[0m\u001b[39m: \u001b[0m\u001b[1;39m{\u001b[0m\u001b[32m'device_name'\u001b[0m\u001b[39m: \u001b[0m\u001b[32m'LedDMD'\u001b[0m\u001b[39m, \u001b[0m\u001b[32m'property_name'\u001b[0m\u001b[39m: \u001b[0m             \u001b[2m              \u001b[0m\n",
       "\u001b[2;36m                    \u001b[0m         \u001b[32m'Cyan_Level'\u001b[0m\u001b[39m, \u001b[0m\u001b[32m'power'\u001b[0m\u001b[39m: \u001b[0m\u001b[1;36m10\u001b[0m\u001b[39m, \u001b[0m\u001b[32m'channel'\u001b[0m\u001b[39m: \u001b[0m\u001b[32m'CyanStim'\u001b[0m\u001b[1;39m}\u001b[0m\u001b[39m, \u001b[0m\u001b[32m'stim_exposure'\u001b[0m\u001b[39m: \u001b[0m    \u001b[2m              \u001b[0m\n",
       "\u001b[2;36m                    \u001b[0m         \u001b[1;36m100\u001b[0m\u001b[39m, \u001b[0m\u001b[32m'fname'\u001b[0m\u001b[39m: \u001b[0m\u001b[32m'000_00000'\u001b[0m\u001b[39m, \u001b[0m\u001b[32m'img_type'\u001b[0m\u001b[39m: <ImgType.IMG_RAW: \u001b[0m\u001b[1;36m1\u001b[0m\u001b[1m>\u001b[0m,            \u001b[2m              \u001b[0m\n",
       "\u001b[2;36m                    \u001b[0m         \u001b[32m'last_channel'\u001b[0m: \u001b[3;92mTrue\u001b[0m, \u001b[32m'channel'\u001b[0m: \u001b[32m'Green'\u001b[0m\u001b[1m}\u001b[0m                               \u001b[2m              \u001b[0m\n"
      ]
     },
     "metadata": {},
     "output_type": "display_data"
    },
    {
     "ename": "Empty",
     "evalue": "",
     "output_type": "error",
     "traceback": [
      "\u001b[1;31m---------------------------------------------------------------------------\u001b[0m",
      "\u001b[1;31mEmpty\u001b[0m                                     Traceback (most recent call last)",
      "Cell \u001b[1;32mIn[44], line 28\u001b[0m\n\u001b[0;32m     25\u001b[0m run_mda_in_a_thread(mmc, queue, STOP)\n\u001b[0;32m     27\u001b[0m controller \u001b[38;5;241m=\u001b[39m Controller(analyzer, mmc, queue, STOP)\n\u001b[1;32m---> 28\u001b[0m \u001b[43mcontroller\u001b[49m\u001b[38;5;241;43m.\u001b[39;49m\u001b[43mrun\u001b[49m\u001b[43m(\u001b[49m\u001b[43mdf_acquire\u001b[49m\u001b[43m)\u001b[49m\n",
      "File \u001b[1;32mc:\\Users\\Niesen\\Documents\\alandolt\\code\\rtm-pymmcore\\controller.py:167\u001b[0m, in \u001b[0;36mController.run\u001b[1;34m(self, df_acquire)\u001b[0m\n\u001b[0;32m    165\u001b[0m                 \u001b[38;5;28mself\u001b[39m\u001b[38;5;241m.\u001b[39m_queue\u001b[38;5;241m.\u001b[39mput(acquisition_event)\n\u001b[0;32m    166\u001b[0m             \u001b[38;5;28;01mif\u001b[39;00m stim:\n\u001b[1;32m--> 167\u001b[0m                 \u001b[38;5;28;43mself\u001b[39;49m\u001b[38;5;241;43m.\u001b[39;49m\u001b[43m_prepare_stim_event\u001b[49m\u001b[43m(\u001b[49m\u001b[43mrow\u001b[49m\u001b[43m,\u001b[49m\u001b[43m \u001b[49m\u001b[43mcurrent_channelgroup\u001b[49m\u001b[43m)\u001b[49m\n\u001b[0;32m    168\u001b[0m                 \u001b[38;5;66;03m# print(\"bin in stim\")\u001b[39;00m\n\u001b[0;32m    169\u001b[0m                 \u001b[38;5;66;03m# threading.Thread(target=self._prepare_stim_event, args=(row, current_channelgroup)).start()\u001b[39;00m\n\u001b[0;32m    170\u001b[0m             \u001b[38;5;66;03m#     ### Stimulate using the DMD if stim is True\u001b[39;00m\n\u001b[1;32m   (...)\u001b[0m\n\u001b[0;32m    198\u001b[0m \n\u001b[0;32m    199\u001b[0m     \u001b[38;5;66;03m# # Reached end of acquisition DF\u001b[39;00m\n\u001b[0;32m    200\u001b[0m \u001b[38;5;28;01mfor\u001b[39;00m fov \u001b[38;5;129;01min\u001b[39;00m df_acquire[\u001b[38;5;124m'\u001b[39m\u001b[38;5;124mfov_object\u001b[39m\u001b[38;5;124m'\u001b[39m]\u001b[38;5;241m.\u001b[39munique():\n",
      "File \u001b[1;32mc:\\Users\\Niesen\\Documents\\alandolt\\code\\rtm-pymmcore\\controller.py:99\u001b[0m, in \u001b[0;36mController._prepare_stim_event\u001b[1;34m(self, row, current_channelgroup)\u001b[0m\n\u001b[0;32m     97\u001b[0m \u001b[38;5;28;01mdef\u001b[39;00m\u001b[38;5;250m \u001b[39m\u001b[38;5;21m_prepare_stim_event\u001b[39m(\u001b[38;5;28mself\u001b[39m, row, current_channelgroup):\n\u001b[0;32m     98\u001b[0m     fov \u001b[38;5;241m=\u001b[39m row[\u001b[38;5;124m'\u001b[39m\u001b[38;5;124mfov_object\u001b[39m\u001b[38;5;124m'\u001b[39m]\n\u001b[1;32m---> 99\u001b[0m     stim_mask \u001b[38;5;241m=\u001b[39m \u001b[43mfov\u001b[49m\u001b[38;5;241;43m.\u001b[39;49m\u001b[43mstim_mask_queue\u001b[49m\u001b[38;5;241;43m.\u001b[39;49m\u001b[43mget\u001b[49m\u001b[43m(\u001b[49m\u001b[43mtimeout\u001b[49m\u001b[38;5;241;43m=\u001b[39;49m\u001b[38;5;241;43m20\u001b[39;49m\u001b[43m)\u001b[49m  \u001b[38;5;66;03m# wait max 10s for mask\u001b[39;00m\n\u001b[0;32m    100\u001b[0m     \u001b[38;5;28;01mif\u001b[39;00m \u001b[38;5;28mself\u001b[39m\u001b[38;5;241m.\u001b[39m_dmd \u001b[38;5;129;01mis\u001b[39;00m \u001b[38;5;129;01mnot\u001b[39;00m \u001b[38;5;28;01mNone\u001b[39;00m:\n\u001b[0;32m    101\u001b[0m         stim_mask \u001b[38;5;241m=\u001b[39m \u001b[38;5;28mself\u001b[39m\u001b[38;5;241m.\u001b[39m_dmd\u001b[38;5;241m.\u001b[39maffine_transform(stim_mask)\n",
      "File \u001b[1;32mc:\\Users\\Niesen\\.conda\\envs\\pymmc_w_stardist\\lib\\queue.py:179\u001b[0m, in \u001b[0;36mQueue.get\u001b[1;34m(self, block, timeout)\u001b[0m\n\u001b[0;32m    177\u001b[0m         remaining \u001b[38;5;241m=\u001b[39m endtime \u001b[38;5;241m-\u001b[39m time()\n\u001b[0;32m    178\u001b[0m         \u001b[38;5;28;01mif\u001b[39;00m remaining \u001b[38;5;241m<\u001b[39m\u001b[38;5;241m=\u001b[39m \u001b[38;5;241m0.0\u001b[39m:\n\u001b[1;32m--> 179\u001b[0m             \u001b[38;5;28;01mraise\u001b[39;00m Empty\n\u001b[0;32m    180\u001b[0m         \u001b[38;5;28mself\u001b[39m\u001b[38;5;241m.\u001b[39mnot_empty\u001b[38;5;241m.\u001b[39mwait(remaining)\n\u001b[0;32m    181\u001b[0m item \u001b[38;5;241m=\u001b[39m \u001b[38;5;28mself\u001b[39m\u001b[38;5;241m.\u001b[39m_get()\n",
      "\u001b[1;31mEmpty\u001b[0m: "
     ]
    }
   ],
   "source": [
    "%load_ext autoreload\n",
    "%autoreload 2\n",
    "\n",
    "from add_frame import ImageProcessingPipeline\n",
    "from segmentation import DummySegmentator\n",
    "from stimulation import StimWholeFOV    \n",
    "from controller import Controller, Analyzer\n",
    "from tracking_trackpy import TrackerTrackpy\n",
    "from dmd import DMD\n",
    "\n",
    "segmentator = DummySegmentator()\n",
    "stimulator = StimWholeFOV()\n",
    "tracker = TrackerTrackpy()\n",
    "\n",
    "pipeline = ImageProcessingPipeline(segmentator,stimulator,tracker)\n",
    "analyzer = Analyzer(pipeline)\n",
    "queue = Queue()\n",
    "STOP = object()\n",
    "import threading\n",
    "def run_mda_in_a_thread(mmc_i, queue, stop_element):\n",
    "    queue_sequence = iter(queue.get, stop_element)\n",
    "    th = threading.Thread(target= mmc_i.mda.run, args=(queue_sequence, ))\n",
    "    th.start()\n",
    "    return th\n",
    "run_mda_in_a_thread(mmc, queue, STOP)\n",
    "\n",
    "controller = Controller(analyzer, mmc, queue, STOP)\n",
    "controller.run(df_acquire)\n",
    "\n",
    "\n"
   ]
  },
  {
   "cell_type": "code",
   "execution_count": 24,
   "metadata": {},
   "outputs": [
    {
     "data": {
      "text/plain": [
       "'WF_DMD'"
      ]
     },
     "execution_count": 24,
     "metadata": {},
     "output_type": "execute_result"
    }
   ],
   "source": [
    "calibration_profile[\"channel_group\"]"
   ]
  },
  {
   "cell_type": "code",
   "execution_count": null,
   "metadata": {},
   "outputs": [],
   "source": [
    "mmc.unloadAllDevices()"
   ]
  }
 ],
 "metadata": {
  "kernelspec": {
   "display_name": "pymmc_w_stardist",
   "language": "python",
   "name": "python3"
  },
  "language_info": {
   "codemirror_mode": {
    "name": "ipython",
    "version": 3
   },
   "file_extension": ".py",
   "mimetype": "text/x-python",
   "name": "python",
   "nbconvert_exporter": "python",
   "pygments_lexer": "ipython3",
   "version": "3.10.0"
  },
  "orig_nbformat": 4
 },
 "nbformat": 4,
 "nbformat_minor": 2
}

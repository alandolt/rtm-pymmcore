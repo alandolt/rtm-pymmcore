{
 "cells": [
  {
   "cell_type": "markdown",
   "metadata": {},
   "source": [
    "# ERK-KTR Full FOV Stimulation Pipeline"
   ]
  },
  {
   "cell_type": "markdown",
   "metadata": {},
   "source": [
    "## System Init"
   ]
  },
  {
   "cell_type": "markdown",
   "metadata": {},
   "source": [
    "### Load pymmcore and required python libraries"
   ]
  },
  {
   "cell_type": "code",
   "execution_count": 1,
   "metadata": {},
   "outputs": [],
   "source": [
    "import os\n",
    "os.environ['QT_LOGGING_RULES'] = '*.debug=false; *.warning=false' # Fix to suppress PyQT warnings from napari-micromanager when running in a Jupyter notebook\n",
    "\n",
    "from fov import FOV\n",
    "from useq import MDAEvent\n",
    "import pandas as pd\n",
    "import random\n",
    "import napari\n",
    "import pymmcore_plus\n",
    "from napari_micromanager import MainWindow\n",
    "\n",
    "from utils import create_folders\n",
    "from useq._mda_event import SLMImage\n",
    "\n",
    "mmc = pymmcore_plus.CMMCorePlus()"
   ]
  },
  {
   "cell_type": "markdown",
   "metadata": {},
   "source": [
    "### Device Specific Init for Niesen Microscope"
   ]
  },
  {
   "cell_type": "code",
   "execution_count": 2,
   "metadata": {},
   "outputs": [
    {
     "data": {
      "text/html": [
       "<pre style=\"white-space:pre;overflow-x:auto;line-height:normal;font-family:Menlo,'DejaVu Sans Mono',consolas,'Courier New',monospace\"><span style=\"color: #7fbfbf; text-decoration-color: #7fbfbf\">[01/17/25 19:45:40] </span><span style=\"color: #000080; text-decoration-color: #000080\">INFO    </span> MDA Started: <span style=\"color: #800080; text-decoration-color: #800080; font-weight: bold\">GeneratorMDASequence</span><span style=\"font-weight: bold\">()</span>                                     <a href=\"file://c:\\Users\\Niesen\\.conda\\envs\\pymmc_w_stardist\\lib\\site-packages\\pymmcore_plus\\mda\\_runner.py\" target=\"_blank\"><span style=\"color: #7f7f7f; text-decoration-color: #7f7f7f\">_runner.py</span></a><span style=\"color: #7f7f7f; text-decoration-color: #7f7f7f\">:</span><a href=\"file://c:\\Users\\Niesen\\.conda\\envs\\pymmc_w_stardist\\lib\\site-packages\\pymmcore_plus\\mda\\_runner.py#328\" target=\"_blank\"><span style=\"color: #7f7f7f; text-decoration-color: #7f7f7f\">328</span></a>\n",
       "</pre>\n"
      ],
      "text/plain": [
       "\u001b[2;36m[01/17/25 19:45:40]\u001b[0m\u001b[2;36m \u001b[0m\u001b[34mINFO    \u001b[0m MDA Started: \u001b[1;35mGeneratorMDASequence\u001b[0m\u001b[1m(\u001b[0m\u001b[1m)\u001b[0m                                     \u001b]8;id=950052;file://c:\\Users\\Niesen\\.conda\\envs\\pymmc_w_stardist\\lib\\site-packages\\pymmcore_plus\\mda\\_runner.py\u001b\\\u001b[2m_runner.py\u001b[0m\u001b]8;;\u001b\\\u001b[2m:\u001b[0m\u001b]8;id=410717;file://c:\\Users\\Niesen\\.conda\\envs\\pymmc_w_stardist\\lib\\site-packages\\pymmcore_plus\\mda\\_runner.py#328\u001b\\\u001b[2m328\u001b[0m\u001b]8;;\u001b\\\n"
      ]
     },
     "metadata": {},
     "output_type": "display_data"
    },
    {
     "data": {
      "text/html": [
       "<pre style=\"white-space:pre;overflow-x:auto;line-height:normal;font-family:Menlo,'DejaVu Sans Mono',consolas,'Courier New',monospace\"><span style=\"color: #7fbfbf; text-decoration-color: #7fbfbf\">                    </span><span style=\"color: #000080; text-decoration-color: #000080\">INFO    </span> <span style=\"color: #808000; text-decoration-color: #808000\">slm_image</span>=<span style=\"color: #800080; text-decoration-color: #800080; font-weight: bold\">SLMImage</span><span style=\"font-weight: bold\">()</span>                                                    <a href=\"file://c:\\Users\\Niesen\\.conda\\envs\\pymmc_w_stardist\\lib\\site-packages\\pymmcore_plus\\mda\\_runner.py\" target=\"_blank\"><span style=\"color: #7f7f7f; text-decoration-color: #7f7f7f\">_runner.py</span></a><span style=\"color: #7f7f7f; text-decoration-color: #7f7f7f\">:</span><a href=\"file://c:\\Users\\Niesen\\.conda\\envs\\pymmc_w_stardist\\lib\\site-packages\\pymmcore_plus\\mda\\_runner.py#289\" target=\"_blank\"><span style=\"color: #7f7f7f; text-decoration-color: #7f7f7f\">289</span></a>\n",
       "</pre>\n"
      ],
      "text/plain": [
       "\u001b[2;36m                   \u001b[0m\u001b[2;36m \u001b[0m\u001b[34mINFO    \u001b[0m \u001b[33mslm_image\u001b[0m=\u001b[1;35mSLMImage\u001b[0m\u001b[1m(\u001b[0m\u001b[1m)\u001b[0m                                                    \u001b]8;id=507964;file://c:\\Users\\Niesen\\.conda\\envs\\pymmc_w_stardist\\lib\\site-packages\\pymmcore_plus\\mda\\_runner.py\u001b\\\u001b[2m_runner.py\u001b[0m\u001b]8;;\u001b\\\u001b[2m:\u001b[0m\u001b]8;id=682314;file://c:\\Users\\Niesen\\.conda\\envs\\pymmc_w_stardist\\lib\\site-packages\\pymmcore_plus\\mda\\_runner.py#289\u001b\\\u001b[2m289\u001b[0m\u001b]8;;\u001b\\\n"
      ]
     },
     "metadata": {},
     "output_type": "display_data"
    },
    {
     "data": {
      "text/html": [
       "<pre style=\"white-space:pre;overflow-x:auto;line-height:normal;font-family:Menlo,'DejaVu Sans Mono',consolas,'Courier New',monospace\"><span style=\"color: #7fbfbf; text-decoration-color: #7fbfbf\">                    </span><span style=\"color: #000080; text-decoration-color: #000080\">INFO    </span> MDA Finished: <span style=\"color: #800080; text-decoration-color: #800080; font-weight: bold\">GeneratorMDASequence</span><span style=\"font-weight: bold\">()</span>                                    <a href=\"file://c:\\Users\\Niesen\\.conda\\envs\\pymmc_w_stardist\\lib\\site-packages\\pymmcore_plus\\mda\\_runner.py\" target=\"_blank\"><span style=\"color: #7f7f7f; text-decoration-color: #7f7f7f\">_runner.py</span></a><span style=\"color: #7f7f7f; text-decoration-color: #7f7f7f\">:</span><a href=\"file://c:\\Users\\Niesen\\.conda\\envs\\pymmc_w_stardist\\lib\\site-packages\\pymmcore_plus\\mda\\_runner.py#415\" target=\"_blank\"><span style=\"color: #7f7f7f; text-decoration-color: #7f7f7f\">415</span></a>\n",
       "</pre>\n"
      ],
      "text/plain": [
       "\u001b[2;36m                   \u001b[0m\u001b[2;36m \u001b[0m\u001b[34mINFO    \u001b[0m MDA Finished: \u001b[1;35mGeneratorMDASequence\u001b[0m\u001b[1m(\u001b[0m\u001b[1m)\u001b[0m                                    \u001b]8;id=270403;file://c:\\Users\\Niesen\\.conda\\envs\\pymmc_w_stardist\\lib\\site-packages\\pymmcore_plus\\mda\\_runner.py\u001b\\\u001b[2m_runner.py\u001b[0m\u001b]8;;\u001b\\\u001b[2m:\u001b[0m\u001b]8;id=539049;file://c:\\Users\\Niesen\\.conda\\envs\\pymmc_w_stardist\\lib\\site-packages\\pymmcore_plus\\mda\\_runner.py#415\u001b\\\u001b[2m415\u001b[0m\u001b]8;;\u001b\\\n"
      ]
     },
     "metadata": {},
     "output_type": "display_data"
    }
   ],
   "source": [
    "mmc.loadSystemConfiguration(\"E:\\\\MicroManagerConfigs\\\\Ti2CicercoConfig_w_DMD_22_w_ttl.cfg\")\n",
    "mmc.mda.engine.use_hardware_sequencing = False\n",
    "\n",
    "\n",
    "### The following libraries are used to wake up the Lumencor laser\n",
    "import requests\n",
    "import threading\n",
    "import time\n",
    "\n",
    "class WakeUpLaser:\n",
    "    def __init__(self, lumencore_ip=\"192.168.201.200\"): \n",
    "        self.ip = lumencore_ip\n",
    "        self.last_wakeup = 0\n",
    "        self.is_running = False\n",
    "        \n",
    "    def wakeup_laser(self):\n",
    "        url = f\"http://{self.ip}/service/?command=WAKEUP\"\n",
    "        requests.get(url)\n",
    "    \n",
    "    def run(self, wait_for_warmup=False):\n",
    "        self.is_running = True\n",
    "        self.thread = threading.Thread(target=self._keep_alive)\n",
    "        self.thread.start()\n",
    "        if wait_for_warmup:\n",
    "            time.sleep(15)\n",
    "\n",
    "    def _keep_alive(self):\n",
    "        while self.is_running:\n",
    "            if time.time() - self.last_wakeup > 60:\n",
    "                self.wakeup_laser()\n",
    "                self.last_wakeup = time.time()\n",
    "            time.sleep(3)\n",
    "    def stop(self):\n",
    "        self.is_running = False\n",
    "        self.thread.join()\n",
    "        \n",
    "wl = WakeUpLaser()\n",
    "wl.wakeup_laser()\n",
    "\n",
    "slm_dev = mmc.getSLMDevice()\n",
    "slm_width = mmc.getSLMWidth(slm_dev)\n",
    "slm_height = mmc.getSLMHeight(slm_dev)\n",
    "\n",
    "event_slm_on = MDAEvent(slm_image=SLMImage(data=True))\n",
    "mmc.mda.run([event_slm_on])# to only have fov of DMD \n",
    "mmc.setROI(150, 150, 1900, 1900)\n",
    "\n",
    "DMD_CHANNEL_GROUP = \"WF_DMD\"\n",
    "DMD_CALIBRATION_PROFILE = {\"channel_group\": \"WF_DMD\", \"channel_config\": \"CyanStim\", \"device_name\": \"LedDMD\", \"property_name\": \"Cyan_Level\", \"power\": 100}\n",
    "mmc.setChannelGroup(channelGroup=DMD_CHANNEL_GROUP)"
   ]
  },
  {
   "cell_type": "markdown",
   "metadata": {},
   "source": [
    "## GUI - Napari Micromanager"
   ]
  },
  {
   "cell_type": "markdown",
   "metadata": {},
   "source": [
    "### Load GUI"
   ]
  },
  {
   "cell_type": "code",
   "execution_count": 3,
   "metadata": {},
   "outputs": [
    {
     "data": {
      "text/plain": [
       "<napari._qt.widgets.qt_viewer_dock_widget.QtViewerDockWidget at 0x23ef7ebd900>"
      ]
     },
     "execution_count": 3,
     "metadata": {},
     "output_type": "execute_result"
    }
   ],
   "source": [
    "### Base GUI ###\n",
    "viewer = napari.Viewer()\n",
    "mm_wdg = MainWindow(viewer)\n",
    "viewer.window.add_dock_widget(mm_wdg)"
   ]
  },
  {
   "cell_type": "code",
   "execution_count": 4,
   "metadata": {},
   "outputs": [
    {
     "data": {
      "text/plain": [
       "<napari._qt.widgets.qt_viewer_dock_widget.QtViewerDockWidget at 0x23f30c5f9a0>"
      ]
     },
     "execution_count": 4,
     "metadata": {},
     "output_type": "execute_result"
    }
   ],
   "source": [
    "### Add MDA widget for FOV selection ###\n",
    "from pymmcore_widgets.mda import MDAWidget\n",
    "mdawidget = MDAWidget(mmcore = mmc)\n",
    "viewer.window.add_dock_widget(mdawidget)"
   ]
  },
  {
   "cell_type": "markdown",
   "metadata": {},
   "source": [
    "### Functions to break and re-connect link with GUI if manually broken\n",
    "\n",
    "The following functions can be used to manually interrupt to connection between the GUI and the running rtm-pymmcore script. However, normally you don't need to execute them. "
   ]
  },
  {
   "cell_type": "code",
   "execution_count": 10,
   "metadata": {},
   "outputs": [],
   "source": [
    "### Break connection\n",
    "# mm_wdg._core_link.cleanup()"
   ]
  },
  {
   "cell_type": "code",
   "execution_count": null,
   "metadata": {},
   "outputs": [],
   "source": [
    "### Manually reconnect pymmcore with napari-micromanager\n",
    "from napari_micromanager._core_link import CoreViewerLink\n",
    "mm_wdg._core_link = CoreViewerLink(viewer, mmc)"
   ]
  },
  {
   "attachments": {},
   "cell_type": "markdown",
   "metadata": {},
   "source": [
    "## Create a DF with all planned acquisitions and stimulations"
   ]
  },
  {
   "cell_type": "markdown",
   "metadata": {},
   "source": [
    "### Settings for Experiment"
   ]
  },
  {
   "cell_type": "code",
   "execution_count": 11,
   "metadata": {},
   "outputs": [
    {
     "name": "stdout",
     "output_type": "stream",
     "text": [
      "Directory C:\\test\\exp_23\\stim already exists\n",
      "Directory C:\\test\\exp_23\\raw already exists\n",
      "Directory C:\\test\\exp_23\\labels already exists\n",
      "Directory C:\\test\\exp_23\\stim_mask already exists\n",
      "Directory C:\\test\\exp_23\\tracks already exists\n",
      "Directory C:\\test\\exp_23\\labels_rings already exists\n",
      "Directory C:\\test\\exp_23\\particles already exists\n"
     ]
    },
    {
     "data": {
      "text/plain": [
       "[{'stim_property': 'global',\n",
       "  'stim_profile': {'device_name': 'LedDMD',\n",
       "   'property_name': 'Cyan_Level',\n",
       "   'power': 10,\n",
       "   'channel': 'CyanStim'},\n",
       "  'stim_exposure': 200,\n",
       "  'stim_timestep': [1]},\n",
       " {'stim_property': 'global',\n",
       "  'stim_profile': {'device_name': 'LedDMD',\n",
       "   'property_name': 'Cyan_Level',\n",
       "   'power': 10,\n",
       "   'channel': 'CyanStim'},\n",
       "  'stim_exposure': 100,\n",
       "  'stim_timestep': [1]}]"
      ]
     },
     "execution_count": 11,
     "metadata": {},
     "output_type": "execute_result"
    }
   ],
   "source": [
    "df_acquire = pd.DataFrame(columns=['fov', 'timestep', 'time','time_experiment', 'treatment', 'acquired','stim', 'channels', 'channel_stim'])\n",
    "\n",
    "base_path = \"C:\\\\test\"\n",
    "experiment_name = \"exp_23\"\n",
    "path  = os.path.join(base_path, experiment_name)\n",
    "\n",
    "create_folders(path,['stim','raw','labels','stim_mask','tracks','labels_rings','particles'])\n",
    "\n",
    "time_between_frames = 30 #time in seconds between frames\n",
    "time_per_fov = 15 #time in seconds per fov\n",
    "\n",
    "timesteps = range(3)  \n",
    "channels = ['Red', 'Green'] #channel for segmentation first\n",
    "channels_exposure = [500, 500]\n",
    "\n",
    "# take values from UI, if loaded\n",
    "intensity_red_laser = mmc.getProperty(\"Laser\", \"RED_Intensity\")\n",
    "intensity_green_laser = mmc.getProperty(\"Laser\", \"GREEN_Intensity\")\n",
    "\n",
    "if intensity_red_laser != str(0) and intensity_green_laser != str(0):\n",
    "    channels_power = [intensity_red_laser, intensity_green_laser]\n",
    "else:\n",
    "    channels_power = [50, 50]\n",
    "    for channel, power in zip(channels, channels_power):\n",
    "        mmc.setProperty(\"Laser\", f\"{channel.upper()}_Intensity\", power)\n",
    "\n",
    "\n",
    "cell_lines = [\"optoFGFR1\"] ## Spalten bei Wellplate\n",
    "\n",
    "stim_exposures = [100, 200] # list of possible exposures in ms\n",
    "stim_timesteps = [[1]]  # list of timesteps for stimulation, if e.g. double stimulation in frame 0 and 1 is needed write [[0,1]]\n",
    "stim_profiles = [{\"device_name\": \"LedDMD\", \"property_name\": \"Cyan_Level\", \"power\": 10, \"channel\": \"CyanStim\"}]\n",
    "stim_treatment = [{\"stim_property\": \"global\", \"stim_profile\": stim_profile, \"stim_exposure\": stim_exposure, \"stim_timestep\": stim_timestep} \n",
    "                  for stim_profile in stim_profiles for stim_exposure in stim_exposures for stim_timestep in stim_timesteps]\n",
    "random.shuffle(stim_treatment)\n",
    "\n",
    "# if defining individual fovs, else these values are ignored: \n",
    "n_fovs_per_cell_line = 2 ## change this variable to the amount of fovs that you have per cell line. If only one cell line is set, this value will \n",
    "                        # automatically set to total amount of fovs. If you are working will wellplate, this value will be ignored, as each columns\n",
    "                        # will be an entry in the cell lines list. \n",
    "\n",
    "data_mda_fovs = None\n",
    "stim_treatment"
   ]
  },
  {
   "cell_type": "markdown",
   "metadata": {},
   "source": [
    "### Map Experiment to FOVs"
   ]
  },
  {
   "cell_type": "markdown",
   "metadata": {},
   "source": [
    "#### If FOVs already saved - Reload them from file"
   ]
  },
  {
   "cell_type": "code",
   "execution_count": null,
   "metadata": {},
   "outputs": [],
   "source": [
    "import json\n",
    "file = os.path.join(path, \"fovs.json\")\n",
    "with open(file, \"r\") as f:\n",
    "    data_mda_fovs = json.load(f)"
   ]
  },
  {
   "cell_type": "markdown",
   "metadata": {},
   "source": [
    "Only select one of the following two code blocks. If you autogenerated FOVs using the wellplate option of the MDA widget, then use the first code block, else the second. "
   ]
  },
  {
   "cell_type": "markdown",
   "metadata": {},
   "source": [
    "#### MDA Widget was used in wellplate mode with autogenerated FOVs"
   ]
  },
  {
   "cell_type": "code",
   "execution_count": null,
   "metadata": {},
   "outputs": [],
   "source": [
    "fovs:list[FOV] = []\n",
    "if data_mda_fovs is None:\n",
    "    data_mda_fovs = mdawidget.value()\n",
    "n_fovs = len(data_mda_fovs.stage_positions)\n",
    "pts_per_well = data_mda_fovs.stage_positions.well_points_plan.num_points\n",
    "n_wells = n_fovs // pts_per_well\n",
    "\n",
    "used_well_columns = []\n",
    "\n",
    "for i, row in enumerate(data_mda_fovs.stage_positions):\n",
    "    well_column = int(row.name.split('_')[0][1:])\n",
    "    used_well_columns.append(well_column)\n",
    "\n",
    "unique_well_columns = list(set(used_well_columns))\n",
    "unique_well_column_translation = {col: idx for idx, col in enumerate(unique_well_columns)}\n",
    "  \n",
    "\n",
    "for i, row in enumerate(data_mda_fovs.stage_positions):\n",
    "    well_row = row.name.split('_')[0][0]\n",
    "    well_id = i%pts_per_well\n",
    "    if len(cell_lines) == 1:\n",
    "        cell_line = cell_lines[0]\n",
    "    else: \n",
    "        cell_line = cell_lines[unique_well_column_translation[well_column]]\n",
    "    fov = FOV(pos=(row.x, row.y),\n",
    "              index=i,\n",
    "              name=row.name,\n",
    "              path=path,\n",
    "              metadata={\"well_column\": well_column, \"well_row\": well_row, \"well_id\": well_id, \"cell_line\": cell_line},\n",
    "              treatment=stim_treatment[i%len(stim_treatment)],\n",
    "              )\n",
    "    fovs.append(fov)"
   ]
  },
  {
   "cell_type": "markdown",
   "metadata": {},
   "source": [
    "#### FOVs were manually selected using MDA widget"
   ]
  },
  {
   "cell_type": "code",
   "execution_count": 13,
   "metadata": {},
   "outputs": [
    {
     "name": "stdout",
     "output_type": "stream",
     "text": [
      "Warning: Not equal number of fovs per stim condition. 1 fovs will have repeated treatment\n",
      "Doing 0 replicates per stim condition\n"
     ]
    }
   ],
   "source": [
    "fovs:list[FOV] = []\n",
    "if data_mda_fovs is None:\n",
    "    data_mda_fovs = mdawidget.value().stage_positions\n",
    "n_fovs = len(data_mda_fovs)\n",
    "n_stim_treatments = len(stim_treatment)\n",
    "n_fovs_per_stim_condition = n_fovs // n_stim_treatments\n",
    "stim_treatment_tot = stim_treatment * n_fovs_per_stim_condition\n",
    "if n_fovs % n_stim_treatments != 0:\n",
    "    print(f\"Warning: Not equal number of fovs per stim condition. {n_fovs % n_stim_treatments} fovs will have repeated treatment\")\n",
    "    stim_treatment_tot.extend(stim_treatment[:n_fovs % n_stim_treatments])\n",
    "\n",
    "if len(cell_lines) == 1: \n",
    "    n_fovs_per_cell_line = n_fovs\n",
    " \n",
    "random.shuffle(stim_treatment_tot)\n",
    "\n",
    "for i, row in enumerate(data_mda_fovs):\n",
    "    print\n",
    "    row = dict(row)\n",
    "    if len(cell_lines) == 1:\n",
    "        cell_line = cell_lines[0]\n",
    "    else:\n",
    "        cell_line = cell_lines[i % n_fovs_per_cell_line]\n",
    "    fov = FOV(pos=(row[\"x\"], row[\"y\"]),\n",
    "              index=i,\n",
    "              name=str(i),\n",
    "              path=path,\n",
    "              metadata={\"cell_line\": cell_line},\n",
    "              treatment=stim_treatment_tot[i],\n",
    "              )\n",
    "    fovs.append(fov)\n",
    "\n",
    "print(f\"Doing {n_fovs_per_stim_condition} replicates per stim condition\")"
   ]
  },
  {
   "cell_type": "markdown",
   "metadata": {},
   "source": [
    "### Use FOVs to generate dataframe for acquisition"
   ]
  },
  {
   "cell_type": "code",
   "execution_count": 14,
   "metadata": {},
   "outputs": [
    {
     "name": "stdout",
     "output_type": "stream",
     "text": [
      "Total Experiment Time: 60s\n"
     ]
    },
    {
     "data": {
      "text/html": [
       "<div>\n",
       "<style scoped>\n",
       "    .dataframe tbody tr th:only-of-type {\n",
       "        vertical-align: middle;\n",
       "    }\n",
       "\n",
       "    .dataframe tbody tr th {\n",
       "        vertical-align: top;\n",
       "    }\n",
       "\n",
       "    .dataframe thead th {\n",
       "        text-align: right;\n",
       "    }\n",
       "</style>\n",
       "<table border=\"1\" class=\"dataframe\">\n",
       "  <thead>\n",
       "    <tr style=\"text-align: right;\">\n",
       "      <th></th>\n",
       "      <th>fov_object</th>\n",
       "      <th>fov</th>\n",
       "      <th>name</th>\n",
       "      <th>timestep</th>\n",
       "      <th>time</th>\n",
       "      <th>treatment</th>\n",
       "      <th>metadata</th>\n",
       "      <th>stim</th>\n",
       "      <th>channels</th>\n",
       "      <th>channels_exposure</th>\n",
       "      <th>channel_power</th>\n",
       "      <th>stim_exposure</th>\n",
       "      <th>fname</th>\n",
       "    </tr>\n",
       "  </thead>\n",
       "  <tbody>\n",
       "    <tr>\n",
       "      <th>0</th>\n",
       "      <td>&lt;fov.FOV object at 0x0000023ED6A35FF0&gt;</td>\n",
       "      <td>0</td>\n",
       "      <td>0</td>\n",
       "      <td>0</td>\n",
       "      <td>0</td>\n",
       "      <td>{'stim_property': 'global', 'stim_profile': {'...</td>\n",
       "      <td>{'cell_line': 'optoFGFR1'}</td>\n",
       "      <td>False</td>\n",
       "      <td>[Red, Green]</td>\n",
       "      <td>[500, 500]</td>\n",
       "      <td>[50, 50]</td>\n",
       "      <td>200</td>\n",
       "      <td>000_00000</td>\n",
       "    </tr>\n",
       "    <tr>\n",
       "      <th>1</th>\n",
       "      <td>&lt;fov.FOV object at 0x0000023ED6A35FF0&gt;</td>\n",
       "      <td>0</td>\n",
       "      <td>0</td>\n",
       "      <td>1</td>\n",
       "      <td>30</td>\n",
       "      <td>{'stim_property': 'global', 'stim_profile': {'...</td>\n",
       "      <td>{'cell_line': 'optoFGFR1'}</td>\n",
       "      <td>True</td>\n",
       "      <td>[Red, Green]</td>\n",
       "      <td>[500, 500]</td>\n",
       "      <td>[50, 50]</td>\n",
       "      <td>200</td>\n",
       "      <td>000_00001</td>\n",
       "    </tr>\n",
       "    <tr>\n",
       "      <th>2</th>\n",
       "      <td>&lt;fov.FOV object at 0x0000023ED6A35FF0&gt;</td>\n",
       "      <td>0</td>\n",
       "      <td>0</td>\n",
       "      <td>2</td>\n",
       "      <td>60</td>\n",
       "      <td>{'stim_property': 'global', 'stim_profile': {'...</td>\n",
       "      <td>{'cell_line': 'optoFGFR1'}</td>\n",
       "      <td>False</td>\n",
       "      <td>[Red, Green]</td>\n",
       "      <td>[500, 500]</td>\n",
       "      <td>[50, 50]</td>\n",
       "      <td>200</td>\n",
       "      <td>000_00002</td>\n",
       "    </tr>\n",
       "  </tbody>\n",
       "</table>\n",
       "</div>"
      ],
      "text/plain": [
       "                               fov_object  fov name  timestep  time  \\\n",
       "0  <fov.FOV object at 0x0000023ED6A35FF0>    0    0         0     0   \n",
       "1  <fov.FOV object at 0x0000023ED6A35FF0>    0    0         1    30   \n",
       "2  <fov.FOV object at 0x0000023ED6A35FF0>    0    0         2    60   \n",
       "\n",
       "                                           treatment  \\\n",
       "0  {'stim_property': 'global', 'stim_profile': {'...   \n",
       "1  {'stim_property': 'global', 'stim_profile': {'...   \n",
       "2  {'stim_property': 'global', 'stim_profile': {'...   \n",
       "\n",
       "                     metadata   stim      channels channels_exposure  \\\n",
       "0  {'cell_line': 'optoFGFR1'}  False  [Red, Green]        [500, 500]   \n",
       "1  {'cell_line': 'optoFGFR1'}   True  [Red, Green]        [500, 500]   \n",
       "2  {'cell_line': 'optoFGFR1'}  False  [Red, Green]        [500, 500]   \n",
       "\n",
       "  channel_power  stim_exposure      fname  \n",
       "0      [50, 50]            200  000_00000  \n",
       "1      [50, 50]            200  000_00001  \n",
       "2      [50, 50]            200  000_00002  "
      ]
     },
     "execution_count": 14,
     "metadata": {},
     "output_type": "execute_result"
    }
   ],
   "source": [
    "n_fovs_simultaneously = time_between_frames // time_per_fov\n",
    "start_time = 0\n",
    "\n",
    "dfs = []\n",
    "for fov in fovs:\n",
    "    fov_group = fov.index // n_fovs_simultaneously\n",
    "    start_time = fov_group * time_between_frames * len(timesteps)\n",
    "\n",
    "    for timestep in timesteps:\n",
    "        new_row = { 'fov_object': fov,\n",
    "                    'fov':fov.index,\n",
    "                    'name':fov.name,\n",
    "                    'timestep': timestep,\n",
    "                    'time': start_time + timestep*time_between_frames,\n",
    "                    'treatment': fov.treatment,\n",
    "                    'metadata': fov.metadata,\n",
    "                    'stim': timestep in fov.treatment['stim_timestep'], # not really important, only for visualisation\n",
    "                    'channels': channels,\n",
    "                    'channels_exposure':channels_exposure,\n",
    "                    'channel_power': channels_power,\n",
    "                    'stim_exposure' : fov.treatment['stim_exposure'], # not really important, only for visualisation\n",
    "                    'fname' : f'{str(fov.index).zfill(3)}_{str(timestep).zfill(5)}',\n",
    "                    }\n",
    "        dfs.append(new_row)\n",
    "\n",
    "df_acquire = pd.DataFrame(dfs)\n",
    "pd.set_option('display.max_columns', None)\n",
    "pd.set_option('display.expand_frame_repr', True)\n",
    "df_acquire = df_acquire.sort_values(by=['time', 'fov'])\n",
    "print(f\"Total Experiment Time: {df_acquire['time'].max()}s\")\n",
    "df_acquire\n"
   ]
  },
  {
   "attachments": {},
   "cell_type": "markdown",
   "metadata": {},
   "source": [
    "## Run experiment"
   ]
  },
  {
   "cell_type": "code",
   "execution_count": 15,
   "metadata": {},
   "outputs": [
    {
     "name": "stdout",
     "output_type": "stream",
     "text": [
      "Found model '2D_versatile_fluo' for 'StarDist2D'.\n",
      "Loading network weights from 'weights_best.h5'.\n",
      "Loading thresholds from 'thresholds.json'.\n",
      "Using default values: prob_thresh=0.479071, nms_thresh=0.3.\n"
     ]
    },
    {
     "data": {
      "text/html": [
       "<pre style=\"white-space:pre;overflow-x:auto;line-height:normal;font-family:Menlo,'DejaVu Sans Mono',consolas,'Courier New',monospace\"><span style=\"color: #7fbfbf; text-decoration-color: #7fbfbf\">[01/17/25 19:49:47] </span><span style=\"color: #000080; text-decoration-color: #000080\">INFO    </span> MDA Started: <span style=\"color: #800080; text-decoration-color: #800080; font-weight: bold\">GeneratorMDASequence</span><span style=\"font-weight: bold\">()</span>                                     <a href=\"file://c:\\Users\\Niesen\\.conda\\envs\\pymmc_w_stardist\\lib\\site-packages\\pymmcore_plus\\mda\\_runner.py\" target=\"_blank\"><span style=\"color: #7f7f7f; text-decoration-color: #7f7f7f\">_runner.py</span></a><span style=\"color: #7f7f7f; text-decoration-color: #7f7f7f\">:</span><a href=\"file://c:\\Users\\Niesen\\.conda\\envs\\pymmc_w_stardist\\lib\\site-packages\\pymmcore_plus\\mda\\_runner.py#328\" target=\"_blank\"><span style=\"color: #7f7f7f; text-decoration-color: #7f7f7f\">328</span></a>\n",
       "</pre>\n"
      ],
      "text/plain": [
       "\u001b[2;36m[01/17/25 19:49:47]\u001b[0m\u001b[2;36m \u001b[0m\u001b[34mINFO    \u001b[0m MDA Started: \u001b[1;35mGeneratorMDASequence\u001b[0m\u001b[1m(\u001b[0m\u001b[1m)\u001b[0m                                     \u001b]8;id=355358;file://c:\\Users\\Niesen\\.conda\\envs\\pymmc_w_stardist\\lib\\site-packages\\pymmcore_plus\\mda\\_runner.py\u001b\\\u001b[2m_runner.py\u001b[0m\u001b]8;;\u001b\\\u001b[2m:\u001b[0m\u001b]8;id=519336;file://c:\\Users\\Niesen\\.conda\\envs\\pymmc_w_stardist\\lib\\site-packages\\pymmcore_plus\\mda\\_runner.py#328\u001b\\\u001b[2m328\u001b[0m\u001b]8;;\u001b\\\n"
      ]
     },
     "metadata": {},
     "output_type": "display_data"
    },
    {
     "data": {
      "text/html": [
       "<pre style=\"white-space:pre;overflow-x:auto;line-height:normal;font-family:Menlo,'DejaVu Sans Mono',consolas,'Courier New',monospace\"><span style=\"color: #7fbfbf; text-decoration-color: #7fbfbf\">                    </span><span style=\"color: #000080; text-decoration-color: #000080\">INFO    </span> <span style=\"color: #808000; text-decoration-color: #808000\">index</span>=<span style=\"font-weight: bold\">{</span><span style=\"color: #008000; text-decoration-color: #008000\">'t'</span>: <span style=\"color: #008080; text-decoration-color: #008080; font-weight: bold\">0</span>, <span style=\"color: #008000; text-decoration-color: #008000\">'c'</span>: <span style=\"color: #008080; text-decoration-color: #008080; font-weight: bold\">0</span>, <span style=\"color: #008000; text-decoration-color: #008000\">'p'</span>: <span style=\"color: #008080; text-decoration-color: #008080; font-weight: bold\">0</span><span style=\"font-weight: bold\">}</span> <span style=\"color: #808000; text-decoration-color: #808000\">channel</span>=<span style=\"color: #800080; text-decoration-color: #800080; font-weight: bold\">Channel</span><span style=\"font-weight: bold\">(</span><span style=\"color: #808000; text-decoration-color: #808000\">config</span>=<span style=\"color: #008000; text-decoration-color: #008000\">'Red'</span>,            <a href=\"file://c:\\Users\\Niesen\\.conda\\envs\\pymmc_w_stardist\\lib\\site-packages\\pymmcore_plus\\mda\\_runner.py\" target=\"_blank\"><span style=\"color: #7f7f7f; text-decoration-color: #7f7f7f\">_runner.py</span></a><span style=\"color: #7f7f7f; text-decoration-color: #7f7f7f\">:</span><a href=\"file://c:\\Users\\Niesen\\.conda\\envs\\pymmc_w_stardist\\lib\\site-packages\\pymmcore_plus\\mda\\_runner.py#289\" target=\"_blank\"><span style=\"color: #7f7f7f; text-decoration-color: #7f7f7f\">289</span></a>\n",
       "<span style=\"color: #7fbfbf; text-decoration-color: #7fbfbf\">                    </span>         <span style=\"color: #808000; text-decoration-color: #808000\">group</span>=<span style=\"color: #008000; text-decoration-color: #008000\">'WF_DMD'</span><span style=\"font-weight: bold\">)</span> <span style=\"color: #808000; text-decoration-color: #808000\">exposure</span>=<span style=\"color: #008080; text-decoration-color: #008080; font-weight: bold\">500.0</span> <span style=\"color: #808000; text-decoration-color: #808000\">min_start_time</span>=<span style=\"color: #008080; text-decoration-color: #008080; font-weight: bold\">0.0</span> <span style=\"color: #808000; text-decoration-color: #808000\">x_pos</span>=<span style=\"color: #008080; text-decoration-color: #008080; font-weight: bold\">-19064.5</span>        <span style=\"color: #7f7f7f; text-decoration-color: #7f7f7f\">              </span>\n",
       "<span style=\"color: #7fbfbf; text-decoration-color: #7fbfbf\">                    </span>         <span style=\"color: #808000; text-decoration-color: #808000\">y_pos</span>=<span style=\"color: #008080; text-decoration-color: #008080; font-weight: bold\">4063.7</span> <span style=\"color: #808000; text-decoration-color: #808000\">metadata</span>=<span style=\"font-weight: bold\">{</span><span style=\"color: #008000; text-decoration-color: #008000\">'fov_object'</span>: <span style=\"font-weight: bold\">&lt;</span><span style=\"color: #ff00ff; text-decoration-color: #ff00ff; font-weight: bold\">fov.FOV</span><span style=\"color: #000000; text-decoration-color: #000000\"> object at </span>                <span style=\"color: #7f7f7f; text-decoration-color: #7f7f7f\">              </span>\n",
       "<span style=\"color: #7fbfbf; text-decoration-color: #7fbfbf\">                    </span>         <span style=\"color: #008080; text-decoration-color: #008080; font-weight: bold\">0x0000023ED6A35FF0</span><span style=\"color: #000000; text-decoration-color: #000000\">&gt;, </span><span style=\"color: #008000; text-decoration-color: #008000\">'fov'</span><span style=\"color: #000000; text-decoration-color: #000000\">: </span><span style=\"color: #008080; text-decoration-color: #008080; font-weight: bold\">0</span><span style=\"color: #000000; text-decoration-color: #000000\">, </span><span style=\"color: #008000; text-decoration-color: #008000\">'name'</span><span style=\"color: #000000; text-decoration-color: #000000\">: </span><span style=\"color: #008000; text-decoration-color: #008000\">'0'</span><span style=\"color: #000000; text-decoration-color: #000000\">, </span><span style=\"color: #008000; text-decoration-color: #008000\">'timestep'</span><span style=\"color: #000000; text-decoration-color: #000000\">: </span><span style=\"color: #008080; text-decoration-color: #008080; font-weight: bold\">0</span><span style=\"color: #000000; text-decoration-color: #000000\">, </span><span style=\"color: #008000; text-decoration-color: #008000\">'time'</span><span style=\"color: #000000; text-decoration-color: #000000\">: </span><span style=\"color: #008080; text-decoration-color: #008080; font-weight: bold\">0</span><span style=\"color: #000000; text-decoration-color: #000000\">, </span>  <span style=\"color: #7f7f7f; text-decoration-color: #7f7f7f\">              </span>\n",
       "<span style=\"color: #7fbfbf; text-decoration-color: #7fbfbf\">                    </span>         <span style=\"color: #008000; text-decoration-color: #008000\">'treatment'</span><span style=\"color: #000000; text-decoration-color: #000000\">: </span><span style=\"color: #000000; text-decoration-color: #000000; font-weight: bold\">{</span><span style=\"color: #008000; text-decoration-color: #008000\">'stim_property'</span><span style=\"color: #000000; text-decoration-color: #000000\">: </span><span style=\"color: #008000; text-decoration-color: #008000\">'global'</span><span style=\"color: #000000; text-decoration-color: #000000\">, </span><span style=\"color: #008000; text-decoration-color: #008000\">'stim_profile'</span><span style=\"color: #000000; text-decoration-color: #000000\">: </span>               <span style=\"color: #7f7f7f; text-decoration-color: #7f7f7f\">              </span>\n",
       "<span style=\"color: #7fbfbf; text-decoration-color: #7fbfbf\">                    </span>         <span style=\"color: #000000; text-decoration-color: #000000; font-weight: bold\">{</span><span style=\"color: #008000; text-decoration-color: #008000\">'device_name'</span><span style=\"color: #000000; text-decoration-color: #000000\">: </span><span style=\"color: #008000; text-decoration-color: #008000\">'LedDMD'</span><span style=\"color: #000000; text-decoration-color: #000000\">, </span><span style=\"color: #008000; text-decoration-color: #008000\">'property_name'</span><span style=\"color: #000000; text-decoration-color: #000000\">: </span><span style=\"color: #008000; text-decoration-color: #008000\">'Cyan_Level'</span><span style=\"color: #000000; text-decoration-color: #000000\">, </span><span style=\"color: #008000; text-decoration-color: #008000\">'power'</span><span style=\"color: #000000; text-decoration-color: #000000\">: </span><span style=\"color: #008080; text-decoration-color: #008080; font-weight: bold\">10</span><span style=\"color: #000000; text-decoration-color: #000000\">, </span>  <span style=\"color: #7f7f7f; text-decoration-color: #7f7f7f\">              </span>\n",
       "<span style=\"color: #7fbfbf; text-decoration-color: #7fbfbf\">                    </span>         <span style=\"color: #008000; text-decoration-color: #008000\">'channel'</span><span style=\"color: #000000; text-decoration-color: #000000\">: </span><span style=\"color: #008000; text-decoration-color: #008000\">'CyanStim'</span><span style=\"color: #000000; text-decoration-color: #000000; font-weight: bold\">}</span><span style=\"color: #000000; text-decoration-color: #000000\">, </span><span style=\"color: #008000; text-decoration-color: #008000\">'stim_exposure'</span><span style=\"color: #000000; text-decoration-color: #000000\">: </span><span style=\"color: #008080; text-decoration-color: #008080; font-weight: bold\">200</span><span style=\"color: #000000; text-decoration-color: #000000\">, </span><span style=\"color: #008000; text-decoration-color: #008000\">'stim_timestep'</span><span style=\"color: #000000; text-decoration-color: #000000\">: </span><span style=\"color: #000000; text-decoration-color: #000000; font-weight: bold\">[</span><span style=\"color: #008080; text-decoration-color: #008080; font-weight: bold\">1</span><span style=\"color: #000000; text-decoration-color: #000000; font-weight: bold\">]}</span><span style=\"color: #000000; text-decoration-color: #000000\">, </span>   <span style=\"color: #7f7f7f; text-decoration-color: #7f7f7f\">              </span>\n",
       "<span style=\"color: #7fbfbf; text-decoration-color: #7fbfbf\">                    </span>         <span style=\"color: #008000; text-decoration-color: #008000\">'metadata'</span><span style=\"color: #000000; text-decoration-color: #000000\">: </span><span style=\"color: #000000; text-decoration-color: #000000; font-weight: bold\">{</span><span style=\"color: #008000; text-decoration-color: #008000\">'cell_line'</span><span style=\"color: #000000; text-decoration-color: #000000\">: </span><span style=\"color: #008000; text-decoration-color: #008000\">'optoFGFR1'</span><span style=\"color: #000000; text-decoration-color: #000000; font-weight: bold\">}</span><span style=\"color: #000000; text-decoration-color: #000000\">, </span><span style=\"color: #008000; text-decoration-color: #008000\">'stim'</span><span style=\"color: #000000; text-decoration-color: #000000\">: </span><span style=\"color: #ff0000; text-decoration-color: #ff0000; font-style: italic\">False</span><span style=\"color: #000000; text-decoration-color: #000000\">, </span><span style=\"color: #008000; text-decoration-color: #008000\">'channels'</span><span style=\"color: #000000; text-decoration-color: #000000\">: </span>     <span style=\"color: #7f7f7f; text-decoration-color: #7f7f7f\">              </span>\n",
       "<span style=\"color: #7fbfbf; text-decoration-color: #7fbfbf\">                    </span>         <span style=\"color: #000000; text-decoration-color: #000000; font-weight: bold\">[</span><span style=\"color: #008000; text-decoration-color: #008000\">'Red'</span><span style=\"color: #000000; text-decoration-color: #000000\">, </span><span style=\"color: #008000; text-decoration-color: #008000\">'Green'</span><span style=\"color: #000000; text-decoration-color: #000000; font-weight: bold\">]</span><span style=\"color: #000000; text-decoration-color: #000000\">, </span><span style=\"color: #008000; text-decoration-color: #008000\">'channels_exposure'</span><span style=\"color: #000000; text-decoration-color: #000000\">: </span><span style=\"color: #000000; text-decoration-color: #000000; font-weight: bold\">[</span><span style=\"color: #008080; text-decoration-color: #008080; font-weight: bold\">500</span><span style=\"color: #000000; text-decoration-color: #000000\">, </span><span style=\"color: #008080; text-decoration-color: #008080; font-weight: bold\">500</span><span style=\"color: #000000; text-decoration-color: #000000; font-weight: bold\">]</span><span style=\"color: #000000; text-decoration-color: #000000\">, </span><span style=\"color: #008000; text-decoration-color: #008000\">'channel_power'</span><span style=\"color: #000000; text-decoration-color: #000000\">: </span>    <span style=\"color: #7f7f7f; text-decoration-color: #7f7f7f\">              </span>\n",
       "<span style=\"color: #7fbfbf; text-decoration-color: #7fbfbf\">                    </span>         <span style=\"color: #000000; text-decoration-color: #000000; font-weight: bold\">[</span><span style=\"color: #008000; text-decoration-color: #008000\">'50'</span><span style=\"color: #000000; text-decoration-color: #000000\">, </span><span style=\"color: #008000; text-decoration-color: #008000\">'50'</span><span style=\"color: #000000; text-decoration-color: #000000; font-weight: bold\">]</span><span style=\"color: #000000; text-decoration-color: #000000\">, </span><span style=\"color: #008000; text-decoration-color: #008000\">'stim_exposure'</span><span style=\"color: #000000; text-decoration-color: #000000\">: </span><span style=\"color: #008080; text-decoration-color: #008080; font-weight: bold\">200</span><span style=\"color: #000000; text-decoration-color: #000000\">, </span><span style=\"color: #008000; text-decoration-color: #008000\">'fname'</span><span style=\"color: #000000; text-decoration-color: #000000\">: </span><span style=\"color: #008000; text-decoration-color: #008000\">'000_00000'</span><span style=\"color: #000000; text-decoration-color: #000000\">, </span><span style=\"color: #008000; text-decoration-color: #008000\">'img_type'</span><span style=\"color: #000000; text-decoration-color: #000000\">: </span>  <span style=\"color: #7f7f7f; text-decoration-color: #7f7f7f\">              </span>\n",
       "<span style=\"color: #7fbfbf; text-decoration-color: #7fbfbf\">                    </span>         <span style=\"color: #000000; text-decoration-color: #000000\">&lt;ImgType.IMG_RAW: </span><span style=\"color: #008080; text-decoration-color: #008080; font-weight: bold\">1</span><span style=\"font-weight: bold\">&gt;</span>, <span style=\"color: #008000; text-decoration-color: #008000\">'last_channel'</span>: <span style=\"color: #ff0000; text-decoration-color: #ff0000; font-style: italic\">False</span>, <span style=\"color: #008000; text-decoration-color: #008000\">'channel'</span>: <span style=\"color: #008000; text-decoration-color: #008000\">'Red'</span><span style=\"font-weight: bold\">}</span>          <span style=\"color: #7f7f7f; text-decoration-color: #7f7f7f\">              </span>\n",
       "</pre>\n"
      ],
      "text/plain": [
       "\u001b[2;36m                   \u001b[0m\u001b[2;36m \u001b[0m\u001b[34mINFO    \u001b[0m \u001b[33mindex\u001b[0m=\u001b[1m{\u001b[0m\u001b[32m't'\u001b[0m: \u001b[1;36m0\u001b[0m, \u001b[32m'c'\u001b[0m: \u001b[1;36m0\u001b[0m, \u001b[32m'p'\u001b[0m: \u001b[1;36m0\u001b[0m\u001b[1m}\u001b[0m \u001b[33mchannel\u001b[0m=\u001b[1;35mChannel\u001b[0m\u001b[1m(\u001b[0m\u001b[33mconfig\u001b[0m=\u001b[32m'Red'\u001b[0m,            \u001b]8;id=371247;file://c:\\Users\\Niesen\\.conda\\envs\\pymmc_w_stardist\\lib\\site-packages\\pymmcore_plus\\mda\\_runner.py\u001b\\\u001b[2m_runner.py\u001b[0m\u001b]8;;\u001b\\\u001b[2m:\u001b[0m\u001b]8;id=350586;file://c:\\Users\\Niesen\\.conda\\envs\\pymmc_w_stardist\\lib\\site-packages\\pymmcore_plus\\mda\\_runner.py#289\u001b\\\u001b[2m289\u001b[0m\u001b]8;;\u001b\\\n",
       "\u001b[2;36m                    \u001b[0m         \u001b[33mgroup\u001b[0m=\u001b[32m'WF_DMD'\u001b[0m\u001b[1m)\u001b[0m \u001b[33mexposure\u001b[0m=\u001b[1;36m500\u001b[0m\u001b[1;36m.0\u001b[0m \u001b[33mmin_start_time\u001b[0m=\u001b[1;36m0\u001b[0m\u001b[1;36m.0\u001b[0m \u001b[33mx_pos\u001b[0m=\u001b[1;36m-19064.5\u001b[0m        \u001b[2m              \u001b[0m\n",
       "\u001b[2;36m                    \u001b[0m         \u001b[33my_pos\u001b[0m=\u001b[1;36m4063\u001b[0m\u001b[1;36m.7\u001b[0m \u001b[33mmetadata\u001b[0m=\u001b[1m{\u001b[0m\u001b[32m'fov_object'\u001b[0m: \u001b[1m<\u001b[0m\u001b[1;95mfov.FOV\u001b[0m\u001b[39m object at \u001b[0m                \u001b[2m              \u001b[0m\n",
       "\u001b[2;36m                    \u001b[0m         \u001b[1;36m0x0000023ED6A35FF0\u001b[0m\u001b[39m>, \u001b[0m\u001b[32m'fov'\u001b[0m\u001b[39m: \u001b[0m\u001b[1;36m0\u001b[0m\u001b[39m, \u001b[0m\u001b[32m'name'\u001b[0m\u001b[39m: \u001b[0m\u001b[32m'0'\u001b[0m\u001b[39m, \u001b[0m\u001b[32m'timestep'\u001b[0m\u001b[39m: \u001b[0m\u001b[1;36m0\u001b[0m\u001b[39m, \u001b[0m\u001b[32m'time'\u001b[0m\u001b[39m: \u001b[0m\u001b[1;36m0\u001b[0m\u001b[39m, \u001b[0m  \u001b[2m              \u001b[0m\n",
       "\u001b[2;36m                    \u001b[0m         \u001b[32m'treatment'\u001b[0m\u001b[39m: \u001b[0m\u001b[1;39m{\u001b[0m\u001b[32m'stim_property'\u001b[0m\u001b[39m: \u001b[0m\u001b[32m'global'\u001b[0m\u001b[39m, \u001b[0m\u001b[32m'stim_profile'\u001b[0m\u001b[39m: \u001b[0m               \u001b[2m              \u001b[0m\n",
       "\u001b[2;36m                    \u001b[0m         \u001b[1;39m{\u001b[0m\u001b[32m'device_name'\u001b[0m\u001b[39m: \u001b[0m\u001b[32m'LedDMD'\u001b[0m\u001b[39m, \u001b[0m\u001b[32m'property_name'\u001b[0m\u001b[39m: \u001b[0m\u001b[32m'Cyan_Level'\u001b[0m\u001b[39m, \u001b[0m\u001b[32m'power'\u001b[0m\u001b[39m: \u001b[0m\u001b[1;36m10\u001b[0m\u001b[39m, \u001b[0m  \u001b[2m              \u001b[0m\n",
       "\u001b[2;36m                    \u001b[0m         \u001b[32m'channel'\u001b[0m\u001b[39m: \u001b[0m\u001b[32m'CyanStim'\u001b[0m\u001b[1;39m}\u001b[0m\u001b[39m, \u001b[0m\u001b[32m'stim_exposure'\u001b[0m\u001b[39m: \u001b[0m\u001b[1;36m200\u001b[0m\u001b[39m, \u001b[0m\u001b[32m'stim_timestep'\u001b[0m\u001b[39m: \u001b[0m\u001b[1;39m[\u001b[0m\u001b[1;36m1\u001b[0m\u001b[1;39m]\u001b[0m\u001b[1;39m}\u001b[0m\u001b[39m, \u001b[0m   \u001b[2m              \u001b[0m\n",
       "\u001b[2;36m                    \u001b[0m         \u001b[32m'metadata'\u001b[0m\u001b[39m: \u001b[0m\u001b[1;39m{\u001b[0m\u001b[32m'cell_line'\u001b[0m\u001b[39m: \u001b[0m\u001b[32m'optoFGFR1'\u001b[0m\u001b[1;39m}\u001b[0m\u001b[39m, \u001b[0m\u001b[32m'stim'\u001b[0m\u001b[39m: \u001b[0m\u001b[3;91mFalse\u001b[0m\u001b[39m, \u001b[0m\u001b[32m'channels'\u001b[0m\u001b[39m: \u001b[0m     \u001b[2m              \u001b[0m\n",
       "\u001b[2;36m                    \u001b[0m         \u001b[1;39m[\u001b[0m\u001b[32m'Red'\u001b[0m\u001b[39m, \u001b[0m\u001b[32m'Green'\u001b[0m\u001b[1;39m]\u001b[0m\u001b[39m, \u001b[0m\u001b[32m'channels_exposure'\u001b[0m\u001b[39m: \u001b[0m\u001b[1;39m[\u001b[0m\u001b[1;36m500\u001b[0m\u001b[39m, \u001b[0m\u001b[1;36m500\u001b[0m\u001b[1;39m]\u001b[0m\u001b[39m, \u001b[0m\u001b[32m'channel_power'\u001b[0m\u001b[39m: \u001b[0m    \u001b[2m              \u001b[0m\n",
       "\u001b[2;36m                    \u001b[0m         \u001b[1;39m[\u001b[0m\u001b[32m'50'\u001b[0m\u001b[39m, \u001b[0m\u001b[32m'50'\u001b[0m\u001b[1;39m]\u001b[0m\u001b[39m, \u001b[0m\u001b[32m'stim_exposure'\u001b[0m\u001b[39m: \u001b[0m\u001b[1;36m200\u001b[0m\u001b[39m, \u001b[0m\u001b[32m'fname'\u001b[0m\u001b[39m: \u001b[0m\u001b[32m'000_00000'\u001b[0m\u001b[39m, \u001b[0m\u001b[32m'img_type'\u001b[0m\u001b[39m: \u001b[0m  \u001b[2m              \u001b[0m\n",
       "\u001b[2;36m                    \u001b[0m         \u001b[39m<ImgType.IMG_RAW: \u001b[0m\u001b[1;36m1\u001b[0m\u001b[1m>\u001b[0m, \u001b[32m'last_channel'\u001b[0m: \u001b[3;91mFalse\u001b[0m, \u001b[32m'channel'\u001b[0m: \u001b[32m'Red'\u001b[0m\u001b[1m}\u001b[0m          \u001b[2m              \u001b[0m\n"
      ]
     },
     "metadata": {},
     "output_type": "display_data"
    },
    {
     "data": {
      "text/html": [
       "<pre style=\"white-space:pre;overflow-x:auto;line-height:normal;font-family:Menlo,'DejaVu Sans Mono',consolas,'Courier New',monospace\"><span style=\"color: #7fbfbf; text-decoration-color: #7fbfbf\">[01/17/25 19:49:49] </span><span style=\"color: #000080; text-decoration-color: #000080\">INFO    </span> <span style=\"color: #808000; text-decoration-color: #808000\">index</span>=<span style=\"font-weight: bold\">{</span><span style=\"color: #008000; text-decoration-color: #008000\">'t'</span>: <span style=\"color: #008080; text-decoration-color: #008080; font-weight: bold\">0</span>, <span style=\"color: #008000; text-decoration-color: #008000\">'c'</span>: <span style=\"color: #008080; text-decoration-color: #008080; font-weight: bold\">1</span>, <span style=\"color: #008000; text-decoration-color: #008000\">'p'</span>: <span style=\"color: #008080; text-decoration-color: #008080; font-weight: bold\">0</span><span style=\"font-weight: bold\">}</span> <span style=\"color: #808000; text-decoration-color: #808000\">channel</span>=<span style=\"color: #800080; text-decoration-color: #800080; font-weight: bold\">Channel</span><span style=\"font-weight: bold\">(</span><span style=\"color: #808000; text-decoration-color: #808000\">config</span>=<span style=\"color: #008000; text-decoration-color: #008000\">'Green'</span>,          <a href=\"file://c:\\Users\\Niesen\\.conda\\envs\\pymmc_w_stardist\\lib\\site-packages\\pymmcore_plus\\mda\\_runner.py\" target=\"_blank\"><span style=\"color: #7f7f7f; text-decoration-color: #7f7f7f\">_runner.py</span></a><span style=\"color: #7f7f7f; text-decoration-color: #7f7f7f\">:</span><a href=\"file://c:\\Users\\Niesen\\.conda\\envs\\pymmc_w_stardist\\lib\\site-packages\\pymmcore_plus\\mda\\_runner.py#289\" target=\"_blank\"><span style=\"color: #7f7f7f; text-decoration-color: #7f7f7f\">289</span></a>\n",
       "<span style=\"color: #7fbfbf; text-decoration-color: #7fbfbf\">                    </span>         <span style=\"color: #808000; text-decoration-color: #808000\">group</span>=<span style=\"color: #008000; text-decoration-color: #008000\">'WF_DMD'</span><span style=\"font-weight: bold\">)</span> <span style=\"color: #808000; text-decoration-color: #808000\">exposure</span>=<span style=\"color: #008080; text-decoration-color: #008080; font-weight: bold\">500.0</span> <span style=\"color: #808000; text-decoration-color: #808000\">min_start_time</span>=<span style=\"color: #008080; text-decoration-color: #008080; font-weight: bold\">0.0</span> <span style=\"color: #808000; text-decoration-color: #808000\">x_pos</span>=<span style=\"color: #008080; text-decoration-color: #008080; font-weight: bold\">-19064.5</span>        <span style=\"color: #7f7f7f; text-decoration-color: #7f7f7f\">              </span>\n",
       "<span style=\"color: #7fbfbf; text-decoration-color: #7fbfbf\">                    </span>         <span style=\"color: #808000; text-decoration-color: #808000\">y_pos</span>=<span style=\"color: #008080; text-decoration-color: #008080; font-weight: bold\">4063.7</span> <span style=\"color: #808000; text-decoration-color: #808000\">metadata</span>=<span style=\"font-weight: bold\">{</span><span style=\"color: #008000; text-decoration-color: #008000\">'fov_object'</span>: <span style=\"font-weight: bold\">&lt;</span><span style=\"color: #ff00ff; text-decoration-color: #ff00ff; font-weight: bold\">fov.FOV</span><span style=\"color: #000000; text-decoration-color: #000000\"> object at </span>                <span style=\"color: #7f7f7f; text-decoration-color: #7f7f7f\">              </span>\n",
       "<span style=\"color: #7fbfbf; text-decoration-color: #7fbfbf\">                    </span>         <span style=\"color: #008080; text-decoration-color: #008080; font-weight: bold\">0x0000023ED6A35FF0</span><span style=\"color: #000000; text-decoration-color: #000000\">&gt;, </span><span style=\"color: #008000; text-decoration-color: #008000\">'fov'</span><span style=\"color: #000000; text-decoration-color: #000000\">: </span><span style=\"color: #008080; text-decoration-color: #008080; font-weight: bold\">0</span><span style=\"color: #000000; text-decoration-color: #000000\">, </span><span style=\"color: #008000; text-decoration-color: #008000\">'name'</span><span style=\"color: #000000; text-decoration-color: #000000\">: </span><span style=\"color: #008000; text-decoration-color: #008000\">'0'</span><span style=\"color: #000000; text-decoration-color: #000000\">, </span><span style=\"color: #008000; text-decoration-color: #008000\">'timestep'</span><span style=\"color: #000000; text-decoration-color: #000000\">: </span><span style=\"color: #008080; text-decoration-color: #008080; font-weight: bold\">0</span><span style=\"color: #000000; text-decoration-color: #000000\">, </span><span style=\"color: #008000; text-decoration-color: #008000\">'time'</span><span style=\"color: #000000; text-decoration-color: #000000\">: </span><span style=\"color: #008080; text-decoration-color: #008080; font-weight: bold\">0</span><span style=\"color: #000000; text-decoration-color: #000000\">, </span>  <span style=\"color: #7f7f7f; text-decoration-color: #7f7f7f\">              </span>\n",
       "<span style=\"color: #7fbfbf; text-decoration-color: #7fbfbf\">                    </span>         <span style=\"color: #008000; text-decoration-color: #008000\">'treatment'</span><span style=\"color: #000000; text-decoration-color: #000000\">: </span><span style=\"color: #000000; text-decoration-color: #000000; font-weight: bold\">{</span><span style=\"color: #008000; text-decoration-color: #008000\">'stim_property'</span><span style=\"color: #000000; text-decoration-color: #000000\">: </span><span style=\"color: #008000; text-decoration-color: #008000\">'global'</span><span style=\"color: #000000; text-decoration-color: #000000\">, </span><span style=\"color: #008000; text-decoration-color: #008000\">'stim_profile'</span><span style=\"color: #000000; text-decoration-color: #000000\">: </span>               <span style=\"color: #7f7f7f; text-decoration-color: #7f7f7f\">              </span>\n",
       "<span style=\"color: #7fbfbf; text-decoration-color: #7fbfbf\">                    </span>         <span style=\"color: #000000; text-decoration-color: #000000; font-weight: bold\">{</span><span style=\"color: #008000; text-decoration-color: #008000\">'device_name'</span><span style=\"color: #000000; text-decoration-color: #000000\">: </span><span style=\"color: #008000; text-decoration-color: #008000\">'LedDMD'</span><span style=\"color: #000000; text-decoration-color: #000000\">, </span><span style=\"color: #008000; text-decoration-color: #008000\">'property_name'</span><span style=\"color: #000000; text-decoration-color: #000000\">: </span><span style=\"color: #008000; text-decoration-color: #008000\">'Cyan_Level'</span><span style=\"color: #000000; text-decoration-color: #000000\">, </span><span style=\"color: #008000; text-decoration-color: #008000\">'power'</span><span style=\"color: #000000; text-decoration-color: #000000\">: </span><span style=\"color: #008080; text-decoration-color: #008080; font-weight: bold\">10</span><span style=\"color: #000000; text-decoration-color: #000000\">, </span>  <span style=\"color: #7f7f7f; text-decoration-color: #7f7f7f\">              </span>\n",
       "<span style=\"color: #7fbfbf; text-decoration-color: #7fbfbf\">                    </span>         <span style=\"color: #008000; text-decoration-color: #008000\">'channel'</span><span style=\"color: #000000; text-decoration-color: #000000\">: </span><span style=\"color: #008000; text-decoration-color: #008000\">'CyanStim'</span><span style=\"color: #000000; text-decoration-color: #000000; font-weight: bold\">}</span><span style=\"color: #000000; text-decoration-color: #000000\">, </span><span style=\"color: #008000; text-decoration-color: #008000\">'stim_exposure'</span><span style=\"color: #000000; text-decoration-color: #000000\">: </span><span style=\"color: #008080; text-decoration-color: #008080; font-weight: bold\">200</span><span style=\"color: #000000; text-decoration-color: #000000\">, </span><span style=\"color: #008000; text-decoration-color: #008000\">'stim_timestep'</span><span style=\"color: #000000; text-decoration-color: #000000\">: </span><span style=\"color: #000000; text-decoration-color: #000000; font-weight: bold\">[</span><span style=\"color: #008080; text-decoration-color: #008080; font-weight: bold\">1</span><span style=\"color: #000000; text-decoration-color: #000000; font-weight: bold\">]}</span><span style=\"color: #000000; text-decoration-color: #000000\">, </span>   <span style=\"color: #7f7f7f; text-decoration-color: #7f7f7f\">              </span>\n",
       "<span style=\"color: #7fbfbf; text-decoration-color: #7fbfbf\">                    </span>         <span style=\"color: #008000; text-decoration-color: #008000\">'metadata'</span><span style=\"color: #000000; text-decoration-color: #000000\">: </span><span style=\"color: #000000; text-decoration-color: #000000; font-weight: bold\">{</span><span style=\"color: #008000; text-decoration-color: #008000\">'cell_line'</span><span style=\"color: #000000; text-decoration-color: #000000\">: </span><span style=\"color: #008000; text-decoration-color: #008000\">'optoFGFR1'</span><span style=\"color: #000000; text-decoration-color: #000000; font-weight: bold\">}</span><span style=\"color: #000000; text-decoration-color: #000000\">, </span><span style=\"color: #008000; text-decoration-color: #008000\">'stim'</span><span style=\"color: #000000; text-decoration-color: #000000\">: </span><span style=\"color: #ff0000; text-decoration-color: #ff0000; font-style: italic\">False</span><span style=\"color: #000000; text-decoration-color: #000000\">, </span><span style=\"color: #008000; text-decoration-color: #008000\">'channels'</span><span style=\"color: #000000; text-decoration-color: #000000\">: </span>     <span style=\"color: #7f7f7f; text-decoration-color: #7f7f7f\">              </span>\n",
       "<span style=\"color: #7fbfbf; text-decoration-color: #7fbfbf\">                    </span>         <span style=\"color: #000000; text-decoration-color: #000000; font-weight: bold\">[</span><span style=\"color: #008000; text-decoration-color: #008000\">'Red'</span><span style=\"color: #000000; text-decoration-color: #000000\">, </span><span style=\"color: #008000; text-decoration-color: #008000\">'Green'</span><span style=\"color: #000000; text-decoration-color: #000000; font-weight: bold\">]</span><span style=\"color: #000000; text-decoration-color: #000000\">, </span><span style=\"color: #008000; text-decoration-color: #008000\">'channels_exposure'</span><span style=\"color: #000000; text-decoration-color: #000000\">: </span><span style=\"color: #000000; text-decoration-color: #000000; font-weight: bold\">[</span><span style=\"color: #008080; text-decoration-color: #008080; font-weight: bold\">500</span><span style=\"color: #000000; text-decoration-color: #000000\">, </span><span style=\"color: #008080; text-decoration-color: #008080; font-weight: bold\">500</span><span style=\"color: #000000; text-decoration-color: #000000; font-weight: bold\">]</span><span style=\"color: #000000; text-decoration-color: #000000\">, </span><span style=\"color: #008000; text-decoration-color: #008000\">'channel_power'</span><span style=\"color: #000000; text-decoration-color: #000000\">: </span>    <span style=\"color: #7f7f7f; text-decoration-color: #7f7f7f\">              </span>\n",
       "<span style=\"color: #7fbfbf; text-decoration-color: #7fbfbf\">                    </span>         <span style=\"color: #000000; text-decoration-color: #000000; font-weight: bold\">[</span><span style=\"color: #008000; text-decoration-color: #008000\">'50'</span><span style=\"color: #000000; text-decoration-color: #000000\">, </span><span style=\"color: #008000; text-decoration-color: #008000\">'50'</span><span style=\"color: #000000; text-decoration-color: #000000; font-weight: bold\">]</span><span style=\"color: #000000; text-decoration-color: #000000\">, </span><span style=\"color: #008000; text-decoration-color: #008000\">'stim_exposure'</span><span style=\"color: #000000; text-decoration-color: #000000\">: </span><span style=\"color: #008080; text-decoration-color: #008080; font-weight: bold\">200</span><span style=\"color: #000000; text-decoration-color: #000000\">, </span><span style=\"color: #008000; text-decoration-color: #008000\">'fname'</span><span style=\"color: #000000; text-decoration-color: #000000\">: </span><span style=\"color: #008000; text-decoration-color: #008000\">'000_00000'</span><span style=\"color: #000000; text-decoration-color: #000000\">, </span><span style=\"color: #008000; text-decoration-color: #008000\">'img_type'</span><span style=\"color: #000000; text-decoration-color: #000000\">: </span>  <span style=\"color: #7f7f7f; text-decoration-color: #7f7f7f\">              </span>\n",
       "<span style=\"color: #7fbfbf; text-decoration-color: #7fbfbf\">                    </span>         <span style=\"color: #000000; text-decoration-color: #000000\">&lt;ImgType.IMG_RAW: </span><span style=\"color: #008080; text-decoration-color: #008080; font-weight: bold\">1</span><span style=\"font-weight: bold\">&gt;</span>, <span style=\"color: #008000; text-decoration-color: #008000\">'last_channel'</span>: <span style=\"color: #00ff00; text-decoration-color: #00ff00; font-style: italic\">True</span>, <span style=\"color: #008000; text-decoration-color: #008000\">'channel'</span>: <span style=\"color: #008000; text-decoration-color: #008000\">'Green'</span><span style=\"font-weight: bold\">}</span>         <span style=\"color: #7f7f7f; text-decoration-color: #7f7f7f\">              </span>\n",
       "</pre>\n"
      ],
      "text/plain": [
       "\u001b[2;36m[01/17/25 19:49:49]\u001b[0m\u001b[2;36m \u001b[0m\u001b[34mINFO    \u001b[0m \u001b[33mindex\u001b[0m=\u001b[1m{\u001b[0m\u001b[32m't'\u001b[0m: \u001b[1;36m0\u001b[0m, \u001b[32m'c'\u001b[0m: \u001b[1;36m1\u001b[0m, \u001b[32m'p'\u001b[0m: \u001b[1;36m0\u001b[0m\u001b[1m}\u001b[0m \u001b[33mchannel\u001b[0m=\u001b[1;35mChannel\u001b[0m\u001b[1m(\u001b[0m\u001b[33mconfig\u001b[0m=\u001b[32m'Green'\u001b[0m,          \u001b]8;id=599896;file://c:\\Users\\Niesen\\.conda\\envs\\pymmc_w_stardist\\lib\\site-packages\\pymmcore_plus\\mda\\_runner.py\u001b\\\u001b[2m_runner.py\u001b[0m\u001b]8;;\u001b\\\u001b[2m:\u001b[0m\u001b]8;id=138196;file://c:\\Users\\Niesen\\.conda\\envs\\pymmc_w_stardist\\lib\\site-packages\\pymmcore_plus\\mda\\_runner.py#289\u001b\\\u001b[2m289\u001b[0m\u001b]8;;\u001b\\\n",
       "\u001b[2;36m                    \u001b[0m         \u001b[33mgroup\u001b[0m=\u001b[32m'WF_DMD'\u001b[0m\u001b[1m)\u001b[0m \u001b[33mexposure\u001b[0m=\u001b[1;36m500\u001b[0m\u001b[1;36m.0\u001b[0m \u001b[33mmin_start_time\u001b[0m=\u001b[1;36m0\u001b[0m\u001b[1;36m.0\u001b[0m \u001b[33mx_pos\u001b[0m=\u001b[1;36m-19064.5\u001b[0m        \u001b[2m              \u001b[0m\n",
       "\u001b[2;36m                    \u001b[0m         \u001b[33my_pos\u001b[0m=\u001b[1;36m4063\u001b[0m\u001b[1;36m.7\u001b[0m \u001b[33mmetadata\u001b[0m=\u001b[1m{\u001b[0m\u001b[32m'fov_object'\u001b[0m: \u001b[1m<\u001b[0m\u001b[1;95mfov.FOV\u001b[0m\u001b[39m object at \u001b[0m                \u001b[2m              \u001b[0m\n",
       "\u001b[2;36m                    \u001b[0m         \u001b[1;36m0x0000023ED6A35FF0\u001b[0m\u001b[39m>, \u001b[0m\u001b[32m'fov'\u001b[0m\u001b[39m: \u001b[0m\u001b[1;36m0\u001b[0m\u001b[39m, \u001b[0m\u001b[32m'name'\u001b[0m\u001b[39m: \u001b[0m\u001b[32m'0'\u001b[0m\u001b[39m, \u001b[0m\u001b[32m'timestep'\u001b[0m\u001b[39m: \u001b[0m\u001b[1;36m0\u001b[0m\u001b[39m, \u001b[0m\u001b[32m'time'\u001b[0m\u001b[39m: \u001b[0m\u001b[1;36m0\u001b[0m\u001b[39m, \u001b[0m  \u001b[2m              \u001b[0m\n",
       "\u001b[2;36m                    \u001b[0m         \u001b[32m'treatment'\u001b[0m\u001b[39m: \u001b[0m\u001b[1;39m{\u001b[0m\u001b[32m'stim_property'\u001b[0m\u001b[39m: \u001b[0m\u001b[32m'global'\u001b[0m\u001b[39m, \u001b[0m\u001b[32m'stim_profile'\u001b[0m\u001b[39m: \u001b[0m               \u001b[2m              \u001b[0m\n",
       "\u001b[2;36m                    \u001b[0m         \u001b[1;39m{\u001b[0m\u001b[32m'device_name'\u001b[0m\u001b[39m: \u001b[0m\u001b[32m'LedDMD'\u001b[0m\u001b[39m, \u001b[0m\u001b[32m'property_name'\u001b[0m\u001b[39m: \u001b[0m\u001b[32m'Cyan_Level'\u001b[0m\u001b[39m, \u001b[0m\u001b[32m'power'\u001b[0m\u001b[39m: \u001b[0m\u001b[1;36m10\u001b[0m\u001b[39m, \u001b[0m  \u001b[2m              \u001b[0m\n",
       "\u001b[2;36m                    \u001b[0m         \u001b[32m'channel'\u001b[0m\u001b[39m: \u001b[0m\u001b[32m'CyanStim'\u001b[0m\u001b[1;39m}\u001b[0m\u001b[39m, \u001b[0m\u001b[32m'stim_exposure'\u001b[0m\u001b[39m: \u001b[0m\u001b[1;36m200\u001b[0m\u001b[39m, \u001b[0m\u001b[32m'stim_timestep'\u001b[0m\u001b[39m: \u001b[0m\u001b[1;39m[\u001b[0m\u001b[1;36m1\u001b[0m\u001b[1;39m]\u001b[0m\u001b[1;39m}\u001b[0m\u001b[39m, \u001b[0m   \u001b[2m              \u001b[0m\n",
       "\u001b[2;36m                    \u001b[0m         \u001b[32m'metadata'\u001b[0m\u001b[39m: \u001b[0m\u001b[1;39m{\u001b[0m\u001b[32m'cell_line'\u001b[0m\u001b[39m: \u001b[0m\u001b[32m'optoFGFR1'\u001b[0m\u001b[1;39m}\u001b[0m\u001b[39m, \u001b[0m\u001b[32m'stim'\u001b[0m\u001b[39m: \u001b[0m\u001b[3;91mFalse\u001b[0m\u001b[39m, \u001b[0m\u001b[32m'channels'\u001b[0m\u001b[39m: \u001b[0m     \u001b[2m              \u001b[0m\n",
       "\u001b[2;36m                    \u001b[0m         \u001b[1;39m[\u001b[0m\u001b[32m'Red'\u001b[0m\u001b[39m, \u001b[0m\u001b[32m'Green'\u001b[0m\u001b[1;39m]\u001b[0m\u001b[39m, \u001b[0m\u001b[32m'channels_exposure'\u001b[0m\u001b[39m: \u001b[0m\u001b[1;39m[\u001b[0m\u001b[1;36m500\u001b[0m\u001b[39m, \u001b[0m\u001b[1;36m500\u001b[0m\u001b[1;39m]\u001b[0m\u001b[39m, \u001b[0m\u001b[32m'channel_power'\u001b[0m\u001b[39m: \u001b[0m    \u001b[2m              \u001b[0m\n",
       "\u001b[2;36m                    \u001b[0m         \u001b[1;39m[\u001b[0m\u001b[32m'50'\u001b[0m\u001b[39m, \u001b[0m\u001b[32m'50'\u001b[0m\u001b[1;39m]\u001b[0m\u001b[39m, \u001b[0m\u001b[32m'stim_exposure'\u001b[0m\u001b[39m: \u001b[0m\u001b[1;36m200\u001b[0m\u001b[39m, \u001b[0m\u001b[32m'fname'\u001b[0m\u001b[39m: \u001b[0m\u001b[32m'000_00000'\u001b[0m\u001b[39m, \u001b[0m\u001b[32m'img_type'\u001b[0m\u001b[39m: \u001b[0m  \u001b[2m              \u001b[0m\n",
       "\u001b[2;36m                    \u001b[0m         \u001b[39m<ImgType.IMG_RAW: \u001b[0m\u001b[1;36m1\u001b[0m\u001b[1m>\u001b[0m, \u001b[32m'last_channel'\u001b[0m: \u001b[3;92mTrue\u001b[0m, \u001b[32m'channel'\u001b[0m: \u001b[32m'Green'\u001b[0m\u001b[1m}\u001b[0m         \u001b[2m              \u001b[0m\n"
      ]
     },
     "metadata": {},
     "output_type": "display_data"
    },
    {
     "name": "stderr",
     "output_type": "stream",
     "text": [
      "functional.py (237): The structure of `inputs` doesn't match the expected structure.\n",
      "Expected: ['input']\n",
      "Received: inputs=Tensor(shape=(1, 1904, 1904, 1))\n"
     ]
    },
    {
     "data": {
      "text/html": [
       "<pre style=\"white-space:pre;overflow-x:auto;line-height:normal;font-family:Menlo,'DejaVu Sans Mono',consolas,'Courier New',monospace\"><span style=\"color: #7fbfbf; text-decoration-color: #7fbfbf\">[01/17/25 19:50:17] </span><span style=\"color: #000080; text-decoration-color: #000080\">INFO    </span> <span style=\"color: #808000; text-decoration-color: #808000\">index</span>=<span style=\"font-weight: bold\">{</span><span style=\"color: #008000; text-decoration-color: #008000\">'t'</span>: <span style=\"color: #008080; text-decoration-color: #008080; font-weight: bold\">1</span>, <span style=\"color: #008000; text-decoration-color: #008000\">'c'</span>: <span style=\"color: #008080; text-decoration-color: #008080; font-weight: bold\">0</span>, <span style=\"color: #008000; text-decoration-color: #008000\">'p'</span>: <span style=\"color: #008080; text-decoration-color: #008080; font-weight: bold\">0</span><span style=\"font-weight: bold\">}</span> <span style=\"color: #808000; text-decoration-color: #808000\">channel</span>=<span style=\"color: #800080; text-decoration-color: #800080; font-weight: bold\">Channel</span><span style=\"font-weight: bold\">(</span><span style=\"color: #808000; text-decoration-color: #808000\">config</span>=<span style=\"color: #008000; text-decoration-color: #008000\">'Red'</span>,            <a href=\"file://c:\\Users\\Niesen\\.conda\\envs\\pymmc_w_stardist\\lib\\site-packages\\pymmcore_plus\\mda\\_runner.py\" target=\"_blank\"><span style=\"color: #7f7f7f; text-decoration-color: #7f7f7f\">_runner.py</span></a><span style=\"color: #7f7f7f; text-decoration-color: #7f7f7f\">:</span><a href=\"file://c:\\Users\\Niesen\\.conda\\envs\\pymmc_w_stardist\\lib\\site-packages\\pymmcore_plus\\mda\\_runner.py#289\" target=\"_blank\"><span style=\"color: #7f7f7f; text-decoration-color: #7f7f7f\">289</span></a>\n",
       "<span style=\"color: #7fbfbf; text-decoration-color: #7fbfbf\">                    </span>         <span style=\"color: #808000; text-decoration-color: #808000\">group</span>=<span style=\"color: #008000; text-decoration-color: #008000\">'WF_DMD'</span><span style=\"font-weight: bold\">)</span> <span style=\"color: #808000; text-decoration-color: #808000\">exposure</span>=<span style=\"color: #008080; text-decoration-color: #008080; font-weight: bold\">500.0</span> <span style=\"color: #808000; text-decoration-color: #808000\">min_start_time</span>=<span style=\"color: #008080; text-decoration-color: #008080; font-weight: bold\">30.0</span> <span style=\"color: #808000; text-decoration-color: #808000\">x_pos</span>=<span style=\"color: #008080; text-decoration-color: #008080; font-weight: bold\">-19064.5</span>       <span style=\"color: #7f7f7f; text-decoration-color: #7f7f7f\">              </span>\n",
       "<span style=\"color: #7fbfbf; text-decoration-color: #7fbfbf\">                    </span>         <span style=\"color: #808000; text-decoration-color: #808000\">y_pos</span>=<span style=\"color: #008080; text-decoration-color: #008080; font-weight: bold\">4063.7</span> <span style=\"color: #808000; text-decoration-color: #808000\">metadata</span>=<span style=\"font-weight: bold\">{</span><span style=\"color: #008000; text-decoration-color: #008000\">'fov_object'</span>: <span style=\"font-weight: bold\">&lt;</span><span style=\"color: #ff00ff; text-decoration-color: #ff00ff; font-weight: bold\">fov.FOV</span><span style=\"color: #000000; text-decoration-color: #000000\"> object at </span>                <span style=\"color: #7f7f7f; text-decoration-color: #7f7f7f\">              </span>\n",
       "<span style=\"color: #7fbfbf; text-decoration-color: #7fbfbf\">                    </span>         <span style=\"color: #008080; text-decoration-color: #008080; font-weight: bold\">0x0000023ED6A35FF0</span><span style=\"color: #000000; text-decoration-color: #000000\">&gt;, </span><span style=\"color: #008000; text-decoration-color: #008000\">'fov'</span><span style=\"color: #000000; text-decoration-color: #000000\">: </span><span style=\"color: #008080; text-decoration-color: #008080; font-weight: bold\">0</span><span style=\"color: #000000; text-decoration-color: #000000\">, </span><span style=\"color: #008000; text-decoration-color: #008000\">'name'</span><span style=\"color: #000000; text-decoration-color: #000000\">: </span><span style=\"color: #008000; text-decoration-color: #008000\">'0'</span><span style=\"color: #000000; text-decoration-color: #000000\">, </span><span style=\"color: #008000; text-decoration-color: #008000\">'timestep'</span><span style=\"color: #000000; text-decoration-color: #000000\">: </span><span style=\"color: #008080; text-decoration-color: #008080; font-weight: bold\">1</span><span style=\"color: #000000; text-decoration-color: #000000\">, </span><span style=\"color: #008000; text-decoration-color: #008000\">'time'</span><span style=\"color: #000000; text-decoration-color: #000000\">: </span><span style=\"color: #008080; text-decoration-color: #008080; font-weight: bold\">30</span><span style=\"color: #000000; text-decoration-color: #000000\">, </span> <span style=\"color: #7f7f7f; text-decoration-color: #7f7f7f\">              </span>\n",
       "<span style=\"color: #7fbfbf; text-decoration-color: #7fbfbf\">                    </span>         <span style=\"color: #008000; text-decoration-color: #008000\">'treatment'</span><span style=\"color: #000000; text-decoration-color: #000000\">: </span><span style=\"color: #000000; text-decoration-color: #000000; font-weight: bold\">{</span><span style=\"color: #008000; text-decoration-color: #008000\">'stim_property'</span><span style=\"color: #000000; text-decoration-color: #000000\">: </span><span style=\"color: #008000; text-decoration-color: #008000\">'global'</span><span style=\"color: #000000; text-decoration-color: #000000\">, </span><span style=\"color: #008000; text-decoration-color: #008000\">'stim_profile'</span><span style=\"color: #000000; text-decoration-color: #000000\">: </span>               <span style=\"color: #7f7f7f; text-decoration-color: #7f7f7f\">              </span>\n",
       "<span style=\"color: #7fbfbf; text-decoration-color: #7fbfbf\">                    </span>         <span style=\"color: #000000; text-decoration-color: #000000; font-weight: bold\">{</span><span style=\"color: #008000; text-decoration-color: #008000\">'device_name'</span><span style=\"color: #000000; text-decoration-color: #000000\">: </span><span style=\"color: #008000; text-decoration-color: #008000\">'LedDMD'</span><span style=\"color: #000000; text-decoration-color: #000000\">, </span><span style=\"color: #008000; text-decoration-color: #008000\">'property_name'</span><span style=\"color: #000000; text-decoration-color: #000000\">: </span><span style=\"color: #008000; text-decoration-color: #008000\">'Cyan_Level'</span><span style=\"color: #000000; text-decoration-color: #000000\">, </span><span style=\"color: #008000; text-decoration-color: #008000\">'power'</span><span style=\"color: #000000; text-decoration-color: #000000\">: </span><span style=\"color: #008080; text-decoration-color: #008080; font-weight: bold\">10</span><span style=\"color: #000000; text-decoration-color: #000000\">, </span>  <span style=\"color: #7f7f7f; text-decoration-color: #7f7f7f\">              </span>\n",
       "<span style=\"color: #7fbfbf; text-decoration-color: #7fbfbf\">                    </span>         <span style=\"color: #008000; text-decoration-color: #008000\">'channel'</span><span style=\"color: #000000; text-decoration-color: #000000\">: </span><span style=\"color: #008000; text-decoration-color: #008000\">'CyanStim'</span><span style=\"color: #000000; text-decoration-color: #000000; font-weight: bold\">}</span><span style=\"color: #000000; text-decoration-color: #000000\">, </span><span style=\"color: #008000; text-decoration-color: #008000\">'stim_exposure'</span><span style=\"color: #000000; text-decoration-color: #000000\">: </span><span style=\"color: #008080; text-decoration-color: #008080; font-weight: bold\">200</span><span style=\"color: #000000; text-decoration-color: #000000\">, </span><span style=\"color: #008000; text-decoration-color: #008000\">'stim_timestep'</span><span style=\"color: #000000; text-decoration-color: #000000\">: </span><span style=\"color: #000000; text-decoration-color: #000000; font-weight: bold\">[</span><span style=\"color: #008080; text-decoration-color: #008080; font-weight: bold\">1</span><span style=\"color: #000000; text-decoration-color: #000000; font-weight: bold\">]}</span><span style=\"color: #000000; text-decoration-color: #000000\">, </span>   <span style=\"color: #7f7f7f; text-decoration-color: #7f7f7f\">              </span>\n",
       "<span style=\"color: #7fbfbf; text-decoration-color: #7fbfbf\">                    </span>         <span style=\"color: #008000; text-decoration-color: #008000\">'metadata'</span><span style=\"color: #000000; text-decoration-color: #000000\">: </span><span style=\"color: #000000; text-decoration-color: #000000; font-weight: bold\">{</span><span style=\"color: #008000; text-decoration-color: #008000\">'cell_line'</span><span style=\"color: #000000; text-decoration-color: #000000\">: </span><span style=\"color: #008000; text-decoration-color: #008000\">'optoFGFR1'</span><span style=\"color: #000000; text-decoration-color: #000000; font-weight: bold\">}</span><span style=\"color: #000000; text-decoration-color: #000000\">, </span><span style=\"color: #008000; text-decoration-color: #008000\">'stim'</span><span style=\"color: #000000; text-decoration-color: #000000\">: </span><span style=\"color: #00ff00; text-decoration-color: #00ff00; font-style: italic\">True</span><span style=\"color: #000000; text-decoration-color: #000000\">, </span><span style=\"color: #008000; text-decoration-color: #008000\">'channels'</span><span style=\"color: #000000; text-decoration-color: #000000\">: </span>      <span style=\"color: #7f7f7f; text-decoration-color: #7f7f7f\">              </span>\n",
       "<span style=\"color: #7fbfbf; text-decoration-color: #7fbfbf\">                    </span>         <span style=\"color: #000000; text-decoration-color: #000000; font-weight: bold\">[</span><span style=\"color: #008000; text-decoration-color: #008000\">'Red'</span><span style=\"color: #000000; text-decoration-color: #000000\">, </span><span style=\"color: #008000; text-decoration-color: #008000\">'Green'</span><span style=\"color: #000000; text-decoration-color: #000000; font-weight: bold\">]</span><span style=\"color: #000000; text-decoration-color: #000000\">, </span><span style=\"color: #008000; text-decoration-color: #008000\">'channels_exposure'</span><span style=\"color: #000000; text-decoration-color: #000000\">: </span><span style=\"color: #000000; text-decoration-color: #000000; font-weight: bold\">[</span><span style=\"color: #008080; text-decoration-color: #008080; font-weight: bold\">500</span><span style=\"color: #000000; text-decoration-color: #000000\">, </span><span style=\"color: #008080; text-decoration-color: #008080; font-weight: bold\">500</span><span style=\"color: #000000; text-decoration-color: #000000; font-weight: bold\">]</span><span style=\"color: #000000; text-decoration-color: #000000\">, </span><span style=\"color: #008000; text-decoration-color: #008000\">'channel_power'</span><span style=\"color: #000000; text-decoration-color: #000000\">: </span>    <span style=\"color: #7f7f7f; text-decoration-color: #7f7f7f\">              </span>\n",
       "<span style=\"color: #7fbfbf; text-decoration-color: #7fbfbf\">                    </span>         <span style=\"color: #000000; text-decoration-color: #000000; font-weight: bold\">[</span><span style=\"color: #008000; text-decoration-color: #008000\">'50'</span><span style=\"color: #000000; text-decoration-color: #000000\">, </span><span style=\"color: #008000; text-decoration-color: #008000\">'50'</span><span style=\"color: #000000; text-decoration-color: #000000; font-weight: bold\">]</span><span style=\"color: #000000; text-decoration-color: #000000\">, </span><span style=\"color: #008000; text-decoration-color: #008000\">'stim_exposure'</span><span style=\"color: #000000; text-decoration-color: #000000\">: </span><span style=\"color: #008080; text-decoration-color: #008080; font-weight: bold\">200</span><span style=\"color: #000000; text-decoration-color: #000000\">, </span><span style=\"color: #008000; text-decoration-color: #008000\">'fname'</span><span style=\"color: #000000; text-decoration-color: #000000\">: </span><span style=\"color: #008000; text-decoration-color: #008000\">'000_00001'</span><span style=\"color: #000000; text-decoration-color: #000000\">, </span><span style=\"color: #008000; text-decoration-color: #008000\">'img_type'</span><span style=\"color: #000000; text-decoration-color: #000000\">: </span>  <span style=\"color: #7f7f7f; text-decoration-color: #7f7f7f\">              </span>\n",
       "<span style=\"color: #7fbfbf; text-decoration-color: #7fbfbf\">                    </span>         <span style=\"color: #000000; text-decoration-color: #000000\">&lt;ImgType.IMG_RAW: </span><span style=\"color: #008080; text-decoration-color: #008080; font-weight: bold\">1</span><span style=\"font-weight: bold\">&gt;</span>, <span style=\"color: #008000; text-decoration-color: #008000\">'last_channel'</span>: <span style=\"color: #ff0000; text-decoration-color: #ff0000; font-style: italic\">False</span>, <span style=\"color: #008000; text-decoration-color: #008000\">'channel'</span>: <span style=\"color: #008000; text-decoration-color: #008000\">'Red'</span><span style=\"font-weight: bold\">}</span>          <span style=\"color: #7f7f7f; text-decoration-color: #7f7f7f\">              </span>\n",
       "</pre>\n"
      ],
      "text/plain": [
       "\u001b[2;36m[01/17/25 19:50:17]\u001b[0m\u001b[2;36m \u001b[0m\u001b[34mINFO    \u001b[0m \u001b[33mindex\u001b[0m=\u001b[1m{\u001b[0m\u001b[32m't'\u001b[0m: \u001b[1;36m1\u001b[0m, \u001b[32m'c'\u001b[0m: \u001b[1;36m0\u001b[0m, \u001b[32m'p'\u001b[0m: \u001b[1;36m0\u001b[0m\u001b[1m}\u001b[0m \u001b[33mchannel\u001b[0m=\u001b[1;35mChannel\u001b[0m\u001b[1m(\u001b[0m\u001b[33mconfig\u001b[0m=\u001b[32m'Red'\u001b[0m,            \u001b]8;id=566440;file://c:\\Users\\Niesen\\.conda\\envs\\pymmc_w_stardist\\lib\\site-packages\\pymmcore_plus\\mda\\_runner.py\u001b\\\u001b[2m_runner.py\u001b[0m\u001b]8;;\u001b\\\u001b[2m:\u001b[0m\u001b]8;id=512960;file://c:\\Users\\Niesen\\.conda\\envs\\pymmc_w_stardist\\lib\\site-packages\\pymmcore_plus\\mda\\_runner.py#289\u001b\\\u001b[2m289\u001b[0m\u001b]8;;\u001b\\\n",
       "\u001b[2;36m                    \u001b[0m         \u001b[33mgroup\u001b[0m=\u001b[32m'WF_DMD'\u001b[0m\u001b[1m)\u001b[0m \u001b[33mexposure\u001b[0m=\u001b[1;36m500\u001b[0m\u001b[1;36m.0\u001b[0m \u001b[33mmin_start_time\u001b[0m=\u001b[1;36m30\u001b[0m\u001b[1;36m.0\u001b[0m \u001b[33mx_pos\u001b[0m=\u001b[1;36m-19064.5\u001b[0m       \u001b[2m              \u001b[0m\n",
       "\u001b[2;36m                    \u001b[0m         \u001b[33my_pos\u001b[0m=\u001b[1;36m4063\u001b[0m\u001b[1;36m.7\u001b[0m \u001b[33mmetadata\u001b[0m=\u001b[1m{\u001b[0m\u001b[32m'fov_object'\u001b[0m: \u001b[1m<\u001b[0m\u001b[1;95mfov.FOV\u001b[0m\u001b[39m object at \u001b[0m                \u001b[2m              \u001b[0m\n",
       "\u001b[2;36m                    \u001b[0m         \u001b[1;36m0x0000023ED6A35FF0\u001b[0m\u001b[39m>, \u001b[0m\u001b[32m'fov'\u001b[0m\u001b[39m: \u001b[0m\u001b[1;36m0\u001b[0m\u001b[39m, \u001b[0m\u001b[32m'name'\u001b[0m\u001b[39m: \u001b[0m\u001b[32m'0'\u001b[0m\u001b[39m, \u001b[0m\u001b[32m'timestep'\u001b[0m\u001b[39m: \u001b[0m\u001b[1;36m1\u001b[0m\u001b[39m, \u001b[0m\u001b[32m'time'\u001b[0m\u001b[39m: \u001b[0m\u001b[1;36m30\u001b[0m\u001b[39m, \u001b[0m \u001b[2m              \u001b[0m\n",
       "\u001b[2;36m                    \u001b[0m         \u001b[32m'treatment'\u001b[0m\u001b[39m: \u001b[0m\u001b[1;39m{\u001b[0m\u001b[32m'stim_property'\u001b[0m\u001b[39m: \u001b[0m\u001b[32m'global'\u001b[0m\u001b[39m, \u001b[0m\u001b[32m'stim_profile'\u001b[0m\u001b[39m: \u001b[0m               \u001b[2m              \u001b[0m\n",
       "\u001b[2;36m                    \u001b[0m         \u001b[1;39m{\u001b[0m\u001b[32m'device_name'\u001b[0m\u001b[39m: \u001b[0m\u001b[32m'LedDMD'\u001b[0m\u001b[39m, \u001b[0m\u001b[32m'property_name'\u001b[0m\u001b[39m: \u001b[0m\u001b[32m'Cyan_Level'\u001b[0m\u001b[39m, \u001b[0m\u001b[32m'power'\u001b[0m\u001b[39m: \u001b[0m\u001b[1;36m10\u001b[0m\u001b[39m, \u001b[0m  \u001b[2m              \u001b[0m\n",
       "\u001b[2;36m                    \u001b[0m         \u001b[32m'channel'\u001b[0m\u001b[39m: \u001b[0m\u001b[32m'CyanStim'\u001b[0m\u001b[1;39m}\u001b[0m\u001b[39m, \u001b[0m\u001b[32m'stim_exposure'\u001b[0m\u001b[39m: \u001b[0m\u001b[1;36m200\u001b[0m\u001b[39m, \u001b[0m\u001b[32m'stim_timestep'\u001b[0m\u001b[39m: \u001b[0m\u001b[1;39m[\u001b[0m\u001b[1;36m1\u001b[0m\u001b[1;39m]\u001b[0m\u001b[1;39m}\u001b[0m\u001b[39m, \u001b[0m   \u001b[2m              \u001b[0m\n",
       "\u001b[2;36m                    \u001b[0m         \u001b[32m'metadata'\u001b[0m\u001b[39m: \u001b[0m\u001b[1;39m{\u001b[0m\u001b[32m'cell_line'\u001b[0m\u001b[39m: \u001b[0m\u001b[32m'optoFGFR1'\u001b[0m\u001b[1;39m}\u001b[0m\u001b[39m, \u001b[0m\u001b[32m'stim'\u001b[0m\u001b[39m: \u001b[0m\u001b[3;92mTrue\u001b[0m\u001b[39m, \u001b[0m\u001b[32m'channels'\u001b[0m\u001b[39m: \u001b[0m      \u001b[2m              \u001b[0m\n",
       "\u001b[2;36m                    \u001b[0m         \u001b[1;39m[\u001b[0m\u001b[32m'Red'\u001b[0m\u001b[39m, \u001b[0m\u001b[32m'Green'\u001b[0m\u001b[1;39m]\u001b[0m\u001b[39m, \u001b[0m\u001b[32m'channels_exposure'\u001b[0m\u001b[39m: \u001b[0m\u001b[1;39m[\u001b[0m\u001b[1;36m500\u001b[0m\u001b[39m, \u001b[0m\u001b[1;36m500\u001b[0m\u001b[1;39m]\u001b[0m\u001b[39m, \u001b[0m\u001b[32m'channel_power'\u001b[0m\u001b[39m: \u001b[0m    \u001b[2m              \u001b[0m\n",
       "\u001b[2;36m                    \u001b[0m         \u001b[1;39m[\u001b[0m\u001b[32m'50'\u001b[0m\u001b[39m, \u001b[0m\u001b[32m'50'\u001b[0m\u001b[1;39m]\u001b[0m\u001b[39m, \u001b[0m\u001b[32m'stim_exposure'\u001b[0m\u001b[39m: \u001b[0m\u001b[1;36m200\u001b[0m\u001b[39m, \u001b[0m\u001b[32m'fname'\u001b[0m\u001b[39m: \u001b[0m\u001b[32m'000_00001'\u001b[0m\u001b[39m, \u001b[0m\u001b[32m'img_type'\u001b[0m\u001b[39m: \u001b[0m  \u001b[2m              \u001b[0m\n",
       "\u001b[2;36m                    \u001b[0m         \u001b[39m<ImgType.IMG_RAW: \u001b[0m\u001b[1;36m1\u001b[0m\u001b[1m>\u001b[0m, \u001b[32m'last_channel'\u001b[0m: \u001b[3;91mFalse\u001b[0m, \u001b[32m'channel'\u001b[0m: \u001b[32m'Red'\u001b[0m\u001b[1m}\u001b[0m          \u001b[2m              \u001b[0m\n"
      ]
     },
     "metadata": {},
     "output_type": "display_data"
    },
    {
     "data": {
      "text/html": [
       "<pre style=\"white-space:pre;overflow-x:auto;line-height:normal;font-family:Menlo,'DejaVu Sans Mono',consolas,'Courier New',monospace\"><span style=\"color: #7fbfbf; text-decoration-color: #7fbfbf\">[01/17/25 19:50:18] </span><span style=\"color: #000080; text-decoration-color: #000080\">INFO    </span> <span style=\"color: #808000; text-decoration-color: #808000\">index</span>=<span style=\"font-weight: bold\">{</span><span style=\"color: #008000; text-decoration-color: #008000\">'t'</span>: <span style=\"color: #008080; text-decoration-color: #008080; font-weight: bold\">1</span>, <span style=\"color: #008000; text-decoration-color: #008000\">'c'</span>: <span style=\"color: #008080; text-decoration-color: #008080; font-weight: bold\">1</span>, <span style=\"color: #008000; text-decoration-color: #008000\">'p'</span>: <span style=\"color: #008080; text-decoration-color: #008080; font-weight: bold\">0</span><span style=\"font-weight: bold\">}</span> <span style=\"color: #808000; text-decoration-color: #808000\">channel</span>=<span style=\"color: #800080; text-decoration-color: #800080; font-weight: bold\">Channel</span><span style=\"font-weight: bold\">(</span><span style=\"color: #808000; text-decoration-color: #808000\">config</span>=<span style=\"color: #008000; text-decoration-color: #008000\">'Green'</span>,          <a href=\"file://c:\\Users\\Niesen\\.conda\\envs\\pymmc_w_stardist\\lib\\site-packages\\pymmcore_plus\\mda\\_runner.py\" target=\"_blank\"><span style=\"color: #7f7f7f; text-decoration-color: #7f7f7f\">_runner.py</span></a><span style=\"color: #7f7f7f; text-decoration-color: #7f7f7f\">:</span><a href=\"file://c:\\Users\\Niesen\\.conda\\envs\\pymmc_w_stardist\\lib\\site-packages\\pymmcore_plus\\mda\\_runner.py#289\" target=\"_blank\"><span style=\"color: #7f7f7f; text-decoration-color: #7f7f7f\">289</span></a>\n",
       "<span style=\"color: #7fbfbf; text-decoration-color: #7fbfbf\">                    </span>         <span style=\"color: #808000; text-decoration-color: #808000\">group</span>=<span style=\"color: #008000; text-decoration-color: #008000\">'WF_DMD'</span><span style=\"font-weight: bold\">)</span> <span style=\"color: #808000; text-decoration-color: #808000\">exposure</span>=<span style=\"color: #008080; text-decoration-color: #008080; font-weight: bold\">500.0</span> <span style=\"color: #808000; text-decoration-color: #808000\">min_start_time</span>=<span style=\"color: #008080; text-decoration-color: #008080; font-weight: bold\">30.0</span> <span style=\"color: #808000; text-decoration-color: #808000\">x_pos</span>=<span style=\"color: #008080; text-decoration-color: #008080; font-weight: bold\">-19064.5</span>       <span style=\"color: #7f7f7f; text-decoration-color: #7f7f7f\">              </span>\n",
       "<span style=\"color: #7fbfbf; text-decoration-color: #7fbfbf\">                    </span>         <span style=\"color: #808000; text-decoration-color: #808000\">y_pos</span>=<span style=\"color: #008080; text-decoration-color: #008080; font-weight: bold\">4063.7</span> <span style=\"color: #808000; text-decoration-color: #808000\">metadata</span>=<span style=\"font-weight: bold\">{</span><span style=\"color: #008000; text-decoration-color: #008000\">'fov_object'</span>: <span style=\"font-weight: bold\">&lt;</span><span style=\"color: #ff00ff; text-decoration-color: #ff00ff; font-weight: bold\">fov.FOV</span><span style=\"color: #000000; text-decoration-color: #000000\"> object at </span>                <span style=\"color: #7f7f7f; text-decoration-color: #7f7f7f\">              </span>\n",
       "<span style=\"color: #7fbfbf; text-decoration-color: #7fbfbf\">                    </span>         <span style=\"color: #008080; text-decoration-color: #008080; font-weight: bold\">0x0000023ED6A35FF0</span><span style=\"color: #000000; text-decoration-color: #000000\">&gt;, </span><span style=\"color: #008000; text-decoration-color: #008000\">'fov'</span><span style=\"color: #000000; text-decoration-color: #000000\">: </span><span style=\"color: #008080; text-decoration-color: #008080; font-weight: bold\">0</span><span style=\"color: #000000; text-decoration-color: #000000\">, </span><span style=\"color: #008000; text-decoration-color: #008000\">'name'</span><span style=\"color: #000000; text-decoration-color: #000000\">: </span><span style=\"color: #008000; text-decoration-color: #008000\">'0'</span><span style=\"color: #000000; text-decoration-color: #000000\">, </span><span style=\"color: #008000; text-decoration-color: #008000\">'timestep'</span><span style=\"color: #000000; text-decoration-color: #000000\">: </span><span style=\"color: #008080; text-decoration-color: #008080; font-weight: bold\">1</span><span style=\"color: #000000; text-decoration-color: #000000\">, </span><span style=\"color: #008000; text-decoration-color: #008000\">'time'</span><span style=\"color: #000000; text-decoration-color: #000000\">: </span><span style=\"color: #008080; text-decoration-color: #008080; font-weight: bold\">30</span><span style=\"color: #000000; text-decoration-color: #000000\">, </span> <span style=\"color: #7f7f7f; text-decoration-color: #7f7f7f\">              </span>\n",
       "<span style=\"color: #7fbfbf; text-decoration-color: #7fbfbf\">                    </span>         <span style=\"color: #008000; text-decoration-color: #008000\">'treatment'</span><span style=\"color: #000000; text-decoration-color: #000000\">: </span><span style=\"color: #000000; text-decoration-color: #000000; font-weight: bold\">{</span><span style=\"color: #008000; text-decoration-color: #008000\">'stim_property'</span><span style=\"color: #000000; text-decoration-color: #000000\">: </span><span style=\"color: #008000; text-decoration-color: #008000\">'global'</span><span style=\"color: #000000; text-decoration-color: #000000\">, </span><span style=\"color: #008000; text-decoration-color: #008000\">'stim_profile'</span><span style=\"color: #000000; text-decoration-color: #000000\">: </span>               <span style=\"color: #7f7f7f; text-decoration-color: #7f7f7f\">              </span>\n",
       "<span style=\"color: #7fbfbf; text-decoration-color: #7fbfbf\">                    </span>         <span style=\"color: #000000; text-decoration-color: #000000; font-weight: bold\">{</span><span style=\"color: #008000; text-decoration-color: #008000\">'device_name'</span><span style=\"color: #000000; text-decoration-color: #000000\">: </span><span style=\"color: #008000; text-decoration-color: #008000\">'LedDMD'</span><span style=\"color: #000000; text-decoration-color: #000000\">, </span><span style=\"color: #008000; text-decoration-color: #008000\">'property_name'</span><span style=\"color: #000000; text-decoration-color: #000000\">: </span><span style=\"color: #008000; text-decoration-color: #008000\">'Cyan_Level'</span><span style=\"color: #000000; text-decoration-color: #000000\">, </span><span style=\"color: #008000; text-decoration-color: #008000\">'power'</span><span style=\"color: #000000; text-decoration-color: #000000\">: </span><span style=\"color: #008080; text-decoration-color: #008080; font-weight: bold\">10</span><span style=\"color: #000000; text-decoration-color: #000000\">, </span>  <span style=\"color: #7f7f7f; text-decoration-color: #7f7f7f\">              </span>\n",
       "<span style=\"color: #7fbfbf; text-decoration-color: #7fbfbf\">                    </span>         <span style=\"color: #008000; text-decoration-color: #008000\">'channel'</span><span style=\"color: #000000; text-decoration-color: #000000\">: </span><span style=\"color: #008000; text-decoration-color: #008000\">'CyanStim'</span><span style=\"color: #000000; text-decoration-color: #000000; font-weight: bold\">}</span><span style=\"color: #000000; text-decoration-color: #000000\">, </span><span style=\"color: #008000; text-decoration-color: #008000\">'stim_exposure'</span><span style=\"color: #000000; text-decoration-color: #000000\">: </span><span style=\"color: #008080; text-decoration-color: #008080; font-weight: bold\">200</span><span style=\"color: #000000; text-decoration-color: #000000\">, </span><span style=\"color: #008000; text-decoration-color: #008000\">'stim_timestep'</span><span style=\"color: #000000; text-decoration-color: #000000\">: </span><span style=\"color: #000000; text-decoration-color: #000000; font-weight: bold\">[</span><span style=\"color: #008080; text-decoration-color: #008080; font-weight: bold\">1</span><span style=\"color: #000000; text-decoration-color: #000000; font-weight: bold\">]}</span><span style=\"color: #000000; text-decoration-color: #000000\">, </span>   <span style=\"color: #7f7f7f; text-decoration-color: #7f7f7f\">              </span>\n",
       "<span style=\"color: #7fbfbf; text-decoration-color: #7fbfbf\">                    </span>         <span style=\"color: #008000; text-decoration-color: #008000\">'metadata'</span><span style=\"color: #000000; text-decoration-color: #000000\">: </span><span style=\"color: #000000; text-decoration-color: #000000; font-weight: bold\">{</span><span style=\"color: #008000; text-decoration-color: #008000\">'cell_line'</span><span style=\"color: #000000; text-decoration-color: #000000\">: </span><span style=\"color: #008000; text-decoration-color: #008000\">'optoFGFR1'</span><span style=\"color: #000000; text-decoration-color: #000000; font-weight: bold\">}</span><span style=\"color: #000000; text-decoration-color: #000000\">, </span><span style=\"color: #008000; text-decoration-color: #008000\">'stim'</span><span style=\"color: #000000; text-decoration-color: #000000\">: </span><span style=\"color: #00ff00; text-decoration-color: #00ff00; font-style: italic\">True</span><span style=\"color: #000000; text-decoration-color: #000000\">, </span><span style=\"color: #008000; text-decoration-color: #008000\">'channels'</span><span style=\"color: #000000; text-decoration-color: #000000\">: </span>      <span style=\"color: #7f7f7f; text-decoration-color: #7f7f7f\">              </span>\n",
       "<span style=\"color: #7fbfbf; text-decoration-color: #7fbfbf\">                    </span>         <span style=\"color: #000000; text-decoration-color: #000000; font-weight: bold\">[</span><span style=\"color: #008000; text-decoration-color: #008000\">'Red'</span><span style=\"color: #000000; text-decoration-color: #000000\">, </span><span style=\"color: #008000; text-decoration-color: #008000\">'Green'</span><span style=\"color: #000000; text-decoration-color: #000000; font-weight: bold\">]</span><span style=\"color: #000000; text-decoration-color: #000000\">, </span><span style=\"color: #008000; text-decoration-color: #008000\">'channels_exposure'</span><span style=\"color: #000000; text-decoration-color: #000000\">: </span><span style=\"color: #000000; text-decoration-color: #000000; font-weight: bold\">[</span><span style=\"color: #008080; text-decoration-color: #008080; font-weight: bold\">500</span><span style=\"color: #000000; text-decoration-color: #000000\">, </span><span style=\"color: #008080; text-decoration-color: #008080; font-weight: bold\">500</span><span style=\"color: #000000; text-decoration-color: #000000; font-weight: bold\">]</span><span style=\"color: #000000; text-decoration-color: #000000\">, </span><span style=\"color: #008000; text-decoration-color: #008000\">'channel_power'</span><span style=\"color: #000000; text-decoration-color: #000000\">: </span>    <span style=\"color: #7f7f7f; text-decoration-color: #7f7f7f\">              </span>\n",
       "<span style=\"color: #7fbfbf; text-decoration-color: #7fbfbf\">                    </span>         <span style=\"color: #000000; text-decoration-color: #000000; font-weight: bold\">[</span><span style=\"color: #008000; text-decoration-color: #008000\">'50'</span><span style=\"color: #000000; text-decoration-color: #000000\">, </span><span style=\"color: #008000; text-decoration-color: #008000\">'50'</span><span style=\"color: #000000; text-decoration-color: #000000; font-weight: bold\">]</span><span style=\"color: #000000; text-decoration-color: #000000\">, </span><span style=\"color: #008000; text-decoration-color: #008000\">'stim_exposure'</span><span style=\"color: #000000; text-decoration-color: #000000\">: </span><span style=\"color: #008080; text-decoration-color: #008080; font-weight: bold\">200</span><span style=\"color: #000000; text-decoration-color: #000000\">, </span><span style=\"color: #008000; text-decoration-color: #008000\">'fname'</span><span style=\"color: #000000; text-decoration-color: #000000\">: </span><span style=\"color: #008000; text-decoration-color: #008000\">'000_00001'</span><span style=\"color: #000000; text-decoration-color: #000000\">, </span><span style=\"color: #008000; text-decoration-color: #008000\">'img_type'</span><span style=\"color: #000000; text-decoration-color: #000000\">: </span>  <span style=\"color: #7f7f7f; text-decoration-color: #7f7f7f\">              </span>\n",
       "<span style=\"color: #7fbfbf; text-decoration-color: #7fbfbf\">                    </span>         <span style=\"color: #000000; text-decoration-color: #000000\">&lt;ImgType.IMG_RAW: </span><span style=\"color: #008080; text-decoration-color: #008080; font-weight: bold\">1</span><span style=\"font-weight: bold\">&gt;</span>, <span style=\"color: #008000; text-decoration-color: #008000\">'last_channel'</span>: <span style=\"color: #00ff00; text-decoration-color: #00ff00; font-style: italic\">True</span>, <span style=\"color: #008000; text-decoration-color: #008000\">'channel'</span>: <span style=\"color: #008000; text-decoration-color: #008000\">'Green'</span><span style=\"font-weight: bold\">}</span>         <span style=\"color: #7f7f7f; text-decoration-color: #7f7f7f\">              </span>\n",
       "</pre>\n"
      ],
      "text/plain": [
       "\u001b[2;36m[01/17/25 19:50:18]\u001b[0m\u001b[2;36m \u001b[0m\u001b[34mINFO    \u001b[0m \u001b[33mindex\u001b[0m=\u001b[1m{\u001b[0m\u001b[32m't'\u001b[0m: \u001b[1;36m1\u001b[0m, \u001b[32m'c'\u001b[0m: \u001b[1;36m1\u001b[0m, \u001b[32m'p'\u001b[0m: \u001b[1;36m0\u001b[0m\u001b[1m}\u001b[0m \u001b[33mchannel\u001b[0m=\u001b[1;35mChannel\u001b[0m\u001b[1m(\u001b[0m\u001b[33mconfig\u001b[0m=\u001b[32m'Green'\u001b[0m,          \u001b]8;id=973328;file://c:\\Users\\Niesen\\.conda\\envs\\pymmc_w_stardist\\lib\\site-packages\\pymmcore_plus\\mda\\_runner.py\u001b\\\u001b[2m_runner.py\u001b[0m\u001b]8;;\u001b\\\u001b[2m:\u001b[0m\u001b]8;id=930580;file://c:\\Users\\Niesen\\.conda\\envs\\pymmc_w_stardist\\lib\\site-packages\\pymmcore_plus\\mda\\_runner.py#289\u001b\\\u001b[2m289\u001b[0m\u001b]8;;\u001b\\\n",
       "\u001b[2;36m                    \u001b[0m         \u001b[33mgroup\u001b[0m=\u001b[32m'WF_DMD'\u001b[0m\u001b[1m)\u001b[0m \u001b[33mexposure\u001b[0m=\u001b[1;36m500\u001b[0m\u001b[1;36m.0\u001b[0m \u001b[33mmin_start_time\u001b[0m=\u001b[1;36m30\u001b[0m\u001b[1;36m.0\u001b[0m \u001b[33mx_pos\u001b[0m=\u001b[1;36m-19064.5\u001b[0m       \u001b[2m              \u001b[0m\n",
       "\u001b[2;36m                    \u001b[0m         \u001b[33my_pos\u001b[0m=\u001b[1;36m4063\u001b[0m\u001b[1;36m.7\u001b[0m \u001b[33mmetadata\u001b[0m=\u001b[1m{\u001b[0m\u001b[32m'fov_object'\u001b[0m: \u001b[1m<\u001b[0m\u001b[1;95mfov.FOV\u001b[0m\u001b[39m object at \u001b[0m                \u001b[2m              \u001b[0m\n",
       "\u001b[2;36m                    \u001b[0m         \u001b[1;36m0x0000023ED6A35FF0\u001b[0m\u001b[39m>, \u001b[0m\u001b[32m'fov'\u001b[0m\u001b[39m: \u001b[0m\u001b[1;36m0\u001b[0m\u001b[39m, \u001b[0m\u001b[32m'name'\u001b[0m\u001b[39m: \u001b[0m\u001b[32m'0'\u001b[0m\u001b[39m, \u001b[0m\u001b[32m'timestep'\u001b[0m\u001b[39m: \u001b[0m\u001b[1;36m1\u001b[0m\u001b[39m, \u001b[0m\u001b[32m'time'\u001b[0m\u001b[39m: \u001b[0m\u001b[1;36m30\u001b[0m\u001b[39m, \u001b[0m \u001b[2m              \u001b[0m\n",
       "\u001b[2;36m                    \u001b[0m         \u001b[32m'treatment'\u001b[0m\u001b[39m: \u001b[0m\u001b[1;39m{\u001b[0m\u001b[32m'stim_property'\u001b[0m\u001b[39m: \u001b[0m\u001b[32m'global'\u001b[0m\u001b[39m, \u001b[0m\u001b[32m'stim_profile'\u001b[0m\u001b[39m: \u001b[0m               \u001b[2m              \u001b[0m\n",
       "\u001b[2;36m                    \u001b[0m         \u001b[1;39m{\u001b[0m\u001b[32m'device_name'\u001b[0m\u001b[39m: \u001b[0m\u001b[32m'LedDMD'\u001b[0m\u001b[39m, \u001b[0m\u001b[32m'property_name'\u001b[0m\u001b[39m: \u001b[0m\u001b[32m'Cyan_Level'\u001b[0m\u001b[39m, \u001b[0m\u001b[32m'power'\u001b[0m\u001b[39m: \u001b[0m\u001b[1;36m10\u001b[0m\u001b[39m, \u001b[0m  \u001b[2m              \u001b[0m\n",
       "\u001b[2;36m                    \u001b[0m         \u001b[32m'channel'\u001b[0m\u001b[39m: \u001b[0m\u001b[32m'CyanStim'\u001b[0m\u001b[1;39m}\u001b[0m\u001b[39m, \u001b[0m\u001b[32m'stim_exposure'\u001b[0m\u001b[39m: \u001b[0m\u001b[1;36m200\u001b[0m\u001b[39m, \u001b[0m\u001b[32m'stim_timestep'\u001b[0m\u001b[39m: \u001b[0m\u001b[1;39m[\u001b[0m\u001b[1;36m1\u001b[0m\u001b[1;39m]\u001b[0m\u001b[1;39m}\u001b[0m\u001b[39m, \u001b[0m   \u001b[2m              \u001b[0m\n",
       "\u001b[2;36m                    \u001b[0m         \u001b[32m'metadata'\u001b[0m\u001b[39m: \u001b[0m\u001b[1;39m{\u001b[0m\u001b[32m'cell_line'\u001b[0m\u001b[39m: \u001b[0m\u001b[32m'optoFGFR1'\u001b[0m\u001b[1;39m}\u001b[0m\u001b[39m, \u001b[0m\u001b[32m'stim'\u001b[0m\u001b[39m: \u001b[0m\u001b[3;92mTrue\u001b[0m\u001b[39m, \u001b[0m\u001b[32m'channels'\u001b[0m\u001b[39m: \u001b[0m      \u001b[2m              \u001b[0m\n",
       "\u001b[2;36m                    \u001b[0m         \u001b[1;39m[\u001b[0m\u001b[32m'Red'\u001b[0m\u001b[39m, \u001b[0m\u001b[32m'Green'\u001b[0m\u001b[1;39m]\u001b[0m\u001b[39m, \u001b[0m\u001b[32m'channels_exposure'\u001b[0m\u001b[39m: \u001b[0m\u001b[1;39m[\u001b[0m\u001b[1;36m500\u001b[0m\u001b[39m, \u001b[0m\u001b[1;36m500\u001b[0m\u001b[1;39m]\u001b[0m\u001b[39m, \u001b[0m\u001b[32m'channel_power'\u001b[0m\u001b[39m: \u001b[0m    \u001b[2m              \u001b[0m\n",
       "\u001b[2;36m                    \u001b[0m         \u001b[1;39m[\u001b[0m\u001b[32m'50'\u001b[0m\u001b[39m, \u001b[0m\u001b[32m'50'\u001b[0m\u001b[1;39m]\u001b[0m\u001b[39m, \u001b[0m\u001b[32m'stim_exposure'\u001b[0m\u001b[39m: \u001b[0m\u001b[1;36m200\u001b[0m\u001b[39m, \u001b[0m\u001b[32m'fname'\u001b[0m\u001b[39m: \u001b[0m\u001b[32m'000_00001'\u001b[0m\u001b[39m, \u001b[0m\u001b[32m'img_type'\u001b[0m\u001b[39m: \u001b[0m  \u001b[2m              \u001b[0m\n",
       "\u001b[2;36m                    \u001b[0m         \u001b[39m<ImgType.IMG_RAW: \u001b[0m\u001b[1;36m1\u001b[0m\u001b[1m>\u001b[0m, \u001b[32m'last_channel'\u001b[0m: \u001b[3;92mTrue\u001b[0m, \u001b[32m'channel'\u001b[0m: \u001b[32m'Green'\u001b[0m\u001b[1m}\u001b[0m         \u001b[2m              \u001b[0m\n"
      ]
     },
     "metadata": {},
     "output_type": "display_data"
    },
    {
     "data": {
      "text/html": [
       "<pre style=\"white-space:pre;overflow-x:auto;line-height:normal;font-family:Menlo,'DejaVu Sans Mono',consolas,'Courier New',monospace\"><span style=\"color: #7fbfbf; text-decoration-color: #7fbfbf\">[01/17/25 19:50:19] </span><span style=\"color: #000080; text-decoration-color: #000080\">INFO    </span> <span style=\"color: #808000; text-decoration-color: #808000\">index</span>=<span style=\"font-weight: bold\">{</span><span style=\"color: #008000; text-decoration-color: #008000\">'t'</span>: <span style=\"color: #008080; text-decoration-color: #008080; font-weight: bold\">1</span>, <span style=\"color: #008000; text-decoration-color: #008000\">'p'</span>: <span style=\"color: #008080; text-decoration-color: #008080; font-weight: bold\">0</span><span style=\"font-weight: bold\">}</span> <span style=\"color: #808000; text-decoration-color: #808000\">channel</span>=<span style=\"color: #800080; text-decoration-color: #800080; font-weight: bold\">Channel</span><span style=\"font-weight: bold\">(</span><span style=\"color: #808000; text-decoration-color: #808000\">config</span>=<span style=\"color: #008000; text-decoration-color: #008000\">'CyanStim'</span>,               <a href=\"file://c:\\Users\\Niesen\\.conda\\envs\\pymmc_w_stardist\\lib\\site-packages\\pymmcore_plus\\mda\\_runner.py\" target=\"_blank\"><span style=\"color: #7f7f7f; text-decoration-color: #7f7f7f\">_runner.py</span></a><span style=\"color: #7f7f7f; text-decoration-color: #7f7f7f\">:</span><a href=\"file://c:\\Users\\Niesen\\.conda\\envs\\pymmc_w_stardist\\lib\\site-packages\\pymmcore_plus\\mda\\_runner.py#289\" target=\"_blank\"><span style=\"color: #7f7f7f; text-decoration-color: #7f7f7f\">289</span></a>\n",
       "<span style=\"color: #7fbfbf; text-decoration-color: #7fbfbf\">                    </span>         <span style=\"color: #808000; text-decoration-color: #808000\">group</span>=<span style=\"color: #008000; text-decoration-color: #008000\">'WF_DMD'</span><span style=\"font-weight: bold\">)</span> <span style=\"color: #808000; text-decoration-color: #808000\">exposure</span>=<span style=\"color: #008080; text-decoration-color: #008080; font-weight: bold\">200.0</span> <span style=\"color: #808000; text-decoration-color: #808000\">min_start_time</span>=<span style=\"color: #008080; text-decoration-color: #008080; font-weight: bold\">30.0</span> <span style=\"color: #808000; text-decoration-color: #808000\">x_pos</span>=<span style=\"color: #008080; text-decoration-color: #008080; font-weight: bold\">-19064.5</span>       <span style=\"color: #7f7f7f; text-decoration-color: #7f7f7f\">              </span>\n",
       "<span style=\"color: #7fbfbf; text-decoration-color: #7fbfbf\">                    </span>         <span style=\"color: #808000; text-decoration-color: #808000\">y_pos</span>=<span style=\"color: #008080; text-decoration-color: #008080; font-weight: bold\">4063.7</span> <span style=\"color: #808000; text-decoration-color: #808000\">slm_image</span>=<span style=\"color: #800080; text-decoration-color: #800080; font-weight: bold\">SLMImage</span><span style=\"font-weight: bold\">()</span>                                       <span style=\"color: #7f7f7f; text-decoration-color: #7f7f7f\">              </span>\n",
       "<span style=\"color: #7fbfbf; text-decoration-color: #7fbfbf\">                    </span>         <span style=\"color: #808000; text-decoration-color: #808000\">properties</span>=<span style=\"font-weight: bold\">[</span><span style=\"color: #800080; text-decoration-color: #800080; font-weight: bold\">PropertyTuple</span><span style=\"font-weight: bold\">(</span><span style=\"color: #808000; text-decoration-color: #808000\">device_name</span>=<span style=\"color: #008000; text-decoration-color: #008000\">'LedDMD'</span>,                         <span style=\"color: #7f7f7f; text-decoration-color: #7f7f7f\">              </span>\n",
       "<span style=\"color: #7fbfbf; text-decoration-color: #7fbfbf\">                    </span>         <span style=\"color: #808000; text-decoration-color: #808000\">property_name</span>=<span style=\"color: #008000; text-decoration-color: #008000\">'Cyan_Level'</span>, <span style=\"color: #808000; text-decoration-color: #808000\">property_value</span>=<span style=\"color: #008080; text-decoration-color: #008080; font-weight: bold\">10</span><span style=\"font-weight: bold\">)]</span> <span style=\"color: #808000; text-decoration-color: #808000\">metadata</span>=<span style=\"font-weight: bold\">{</span><span style=\"color: #008000; text-decoration-color: #008000\">'fov_object'</span>: <span style=\"color: #7f7f7f; text-decoration-color: #7f7f7f\">              </span>\n",
       "<span style=\"color: #7fbfbf; text-decoration-color: #7fbfbf\">                    </span>         <span style=\"font-weight: bold\">&lt;</span><span style=\"color: #ff00ff; text-decoration-color: #ff00ff; font-weight: bold\">fov.FOV</span><span style=\"color: #000000; text-decoration-color: #000000\"> object at </span><span style=\"color: #008080; text-decoration-color: #008080; font-weight: bold\">0x0000023ED6A35FF0</span><span style=\"color: #000000; text-decoration-color: #000000\">&gt;, </span><span style=\"color: #008000; text-decoration-color: #008000\">'fov'</span><span style=\"color: #000000; text-decoration-color: #000000\">: </span><span style=\"color: #008080; text-decoration-color: #008080; font-weight: bold\">0</span><span style=\"color: #000000; text-decoration-color: #000000\">, </span><span style=\"color: #008000; text-decoration-color: #008000\">'name'</span><span style=\"color: #000000; text-decoration-color: #000000\">: </span><span style=\"color: #008000; text-decoration-color: #008000\">'0'</span><span style=\"color: #000000; text-decoration-color: #000000\">, </span>         <span style=\"color: #7f7f7f; text-decoration-color: #7f7f7f\">              </span>\n",
       "<span style=\"color: #7fbfbf; text-decoration-color: #7fbfbf\">                    </span>         <span style=\"color: #008000; text-decoration-color: #008000\">'timestep'</span><span style=\"color: #000000; text-decoration-color: #000000\">: </span><span style=\"color: #008080; text-decoration-color: #008080; font-weight: bold\">1</span><span style=\"color: #000000; text-decoration-color: #000000\">, </span><span style=\"color: #008000; text-decoration-color: #008000\">'time'</span><span style=\"color: #000000; text-decoration-color: #000000\">: </span><span style=\"color: #008080; text-decoration-color: #008080; font-weight: bold\">30</span><span style=\"color: #000000; text-decoration-color: #000000\">, </span><span style=\"color: #008000; text-decoration-color: #008000\">'treatment'</span><span style=\"color: #000000; text-decoration-color: #000000\">: </span><span style=\"color: #000000; text-decoration-color: #000000; font-weight: bold\">{</span><span style=\"color: #008000; text-decoration-color: #008000\">'stim_property'</span><span style=\"color: #000000; text-decoration-color: #000000\">: </span><span style=\"color: #008000; text-decoration-color: #008000\">'global'</span><span style=\"color: #000000; text-decoration-color: #000000\">, </span>    <span style=\"color: #7f7f7f; text-decoration-color: #7f7f7f\">              </span>\n",
       "<span style=\"color: #7fbfbf; text-decoration-color: #7fbfbf\">                    </span>         <span style=\"color: #008000; text-decoration-color: #008000\">'stim_profile'</span><span style=\"color: #000000; text-decoration-color: #000000\">: </span><span style=\"color: #000000; text-decoration-color: #000000; font-weight: bold\">{</span><span style=\"color: #008000; text-decoration-color: #008000\">'device_name'</span><span style=\"color: #000000; text-decoration-color: #000000\">: </span><span style=\"color: #008000; text-decoration-color: #008000\">'LedDMD'</span><span style=\"color: #000000; text-decoration-color: #000000\">, </span><span style=\"color: #008000; text-decoration-color: #008000\">'property_name'</span><span style=\"color: #000000; text-decoration-color: #000000\">: </span>             <span style=\"color: #7f7f7f; text-decoration-color: #7f7f7f\">              </span>\n",
       "<span style=\"color: #7fbfbf; text-decoration-color: #7fbfbf\">                    </span>         <span style=\"color: #008000; text-decoration-color: #008000\">'Cyan_Level'</span><span style=\"color: #000000; text-decoration-color: #000000\">, </span><span style=\"color: #008000; text-decoration-color: #008000\">'power'</span><span style=\"color: #000000; text-decoration-color: #000000\">: </span><span style=\"color: #008080; text-decoration-color: #008080; font-weight: bold\">10</span><span style=\"color: #000000; text-decoration-color: #000000\">, </span><span style=\"color: #008000; text-decoration-color: #008000\">'channel'</span><span style=\"color: #000000; text-decoration-color: #000000\">: </span><span style=\"color: #008000; text-decoration-color: #008000\">'CyanStim'</span><span style=\"color: #000000; text-decoration-color: #000000; font-weight: bold\">}</span><span style=\"color: #000000; text-decoration-color: #000000\">, </span><span style=\"color: #008000; text-decoration-color: #008000\">'stim_exposure'</span><span style=\"color: #000000; text-decoration-color: #000000\">: </span>    <span style=\"color: #7f7f7f; text-decoration-color: #7f7f7f\">              </span>\n",
       "<span style=\"color: #7fbfbf; text-decoration-color: #7fbfbf\">                    </span>         <span style=\"color: #008080; text-decoration-color: #008080; font-weight: bold\">200</span><span style=\"color: #000000; text-decoration-color: #000000\">, </span><span style=\"color: #008000; text-decoration-color: #008000\">'stim_timestep'</span><span style=\"color: #000000; text-decoration-color: #000000\">: </span><span style=\"color: #000000; text-decoration-color: #000000; font-weight: bold\">[</span><span style=\"color: #008080; text-decoration-color: #008080; font-weight: bold\">1</span><span style=\"color: #000000; text-decoration-color: #000000; font-weight: bold\">]}</span><span style=\"color: #000000; text-decoration-color: #000000\">, </span><span style=\"color: #008000; text-decoration-color: #008000\">'metadata'</span><span style=\"color: #000000; text-decoration-color: #000000\">: </span><span style=\"color: #000000; text-decoration-color: #000000; font-weight: bold\">{</span><span style=\"color: #008000; text-decoration-color: #008000\">'cell_line'</span><span style=\"color: #000000; text-decoration-color: #000000\">: </span><span style=\"color: #008000; text-decoration-color: #008000\">'optoFGFR1'</span><span style=\"color: #000000; text-decoration-color: #000000; font-weight: bold\">}</span><span style=\"color: #000000; text-decoration-color: #000000\">, </span>    <span style=\"color: #7f7f7f; text-decoration-color: #7f7f7f\">              </span>\n",
       "<span style=\"color: #7fbfbf; text-decoration-color: #7fbfbf\">                    </span>         <span style=\"color: #008000; text-decoration-color: #008000\">'stim'</span><span style=\"color: #000000; text-decoration-color: #000000\">: </span><span style=\"color: #00ff00; text-decoration-color: #00ff00; font-style: italic\">True</span><span style=\"color: #000000; text-decoration-color: #000000\">, </span><span style=\"color: #008000; text-decoration-color: #008000\">'channels'</span><span style=\"color: #000000; text-decoration-color: #000000\">: </span><span style=\"color: #000000; text-decoration-color: #000000; font-weight: bold\">[</span><span style=\"color: #008000; text-decoration-color: #008000\">'Red'</span><span style=\"color: #000000; text-decoration-color: #000000\">, </span><span style=\"color: #008000; text-decoration-color: #008000\">'Green'</span><span style=\"color: #000000; text-decoration-color: #000000; font-weight: bold\">]</span><span style=\"color: #000000; text-decoration-color: #000000\">, </span><span style=\"color: #008000; text-decoration-color: #008000\">'channels_exposure'</span><span style=\"color: #000000; text-decoration-color: #000000\">: </span><span style=\"color: #000000; text-decoration-color: #000000; font-weight: bold\">[</span><span style=\"color: #008080; text-decoration-color: #008080; font-weight: bold\">500</span><span style=\"color: #000000; text-decoration-color: #000000\">, </span> <span style=\"color: #7f7f7f; text-decoration-color: #7f7f7f\">              </span>\n",
       "<span style=\"color: #7fbfbf; text-decoration-color: #7fbfbf\">                    </span>         <span style=\"color: #008080; text-decoration-color: #008080; font-weight: bold\">500</span><span style=\"color: #000000; text-decoration-color: #000000; font-weight: bold\">]</span><span style=\"color: #000000; text-decoration-color: #000000\">, </span><span style=\"color: #008000; text-decoration-color: #008000\">'channel_power'</span><span style=\"color: #000000; text-decoration-color: #000000\">: </span><span style=\"color: #000000; text-decoration-color: #000000; font-weight: bold\">[</span><span style=\"color: #008000; text-decoration-color: #008000\">'50'</span><span style=\"color: #000000; text-decoration-color: #000000\">, </span><span style=\"color: #008000; text-decoration-color: #008000\">'50'</span><span style=\"color: #000000; text-decoration-color: #000000; font-weight: bold\">]</span><span style=\"color: #000000; text-decoration-color: #000000\">, </span><span style=\"color: #008000; text-decoration-color: #008000\">'stim_exposure'</span><span style=\"color: #000000; text-decoration-color: #000000\">: </span><span style=\"color: #008080; text-decoration-color: #008080; font-weight: bold\">200</span><span style=\"color: #000000; text-decoration-color: #000000\">, </span><span style=\"color: #008000; text-decoration-color: #008000\">'fname'</span><span style=\"color: #000000; text-decoration-color: #000000\">: </span>    <span style=\"color: #7f7f7f; text-decoration-color: #7f7f7f\">              </span>\n",
       "<span style=\"color: #7fbfbf; text-decoration-color: #7fbfbf\">                    </span>         <span style=\"color: #008000; text-decoration-color: #008000\">'000_00001'</span><span style=\"color: #000000; text-decoration-color: #000000\">, </span><span style=\"color: #008000; text-decoration-color: #008000\">'img_type'</span><span style=\"color: #000000; text-decoration-color: #000000\">: &lt;ImgType.IMG_STIM: </span><span style=\"color: #008080; text-decoration-color: #008080; font-weight: bold\">2</span><span style=\"font-weight: bold\">&gt;</span>, <span style=\"color: #008000; text-decoration-color: #008000\">'last_channel'</span>: <span style=\"color: #00ff00; text-decoration-color: #00ff00; font-style: italic\">True</span>,   <span style=\"color: #7f7f7f; text-decoration-color: #7f7f7f\">              </span>\n",
       "<span style=\"color: #7fbfbf; text-decoration-color: #7fbfbf\">                    </span>         <span style=\"color: #008000; text-decoration-color: #008000\">'channel'</span>: <span style=\"color: #008000; text-decoration-color: #008000\">'CyanStim'</span><span style=\"font-weight: bold\">}</span>                                                  <span style=\"color: #7f7f7f; text-decoration-color: #7f7f7f\">              </span>\n",
       "</pre>\n"
      ],
      "text/plain": [
       "\u001b[2;36m[01/17/25 19:50:19]\u001b[0m\u001b[2;36m \u001b[0m\u001b[34mINFO    \u001b[0m \u001b[33mindex\u001b[0m=\u001b[1m{\u001b[0m\u001b[32m't'\u001b[0m: \u001b[1;36m1\u001b[0m, \u001b[32m'p'\u001b[0m: \u001b[1;36m0\u001b[0m\u001b[1m}\u001b[0m \u001b[33mchannel\u001b[0m=\u001b[1;35mChannel\u001b[0m\u001b[1m(\u001b[0m\u001b[33mconfig\u001b[0m=\u001b[32m'CyanStim'\u001b[0m,               \u001b]8;id=267539;file://c:\\Users\\Niesen\\.conda\\envs\\pymmc_w_stardist\\lib\\site-packages\\pymmcore_plus\\mda\\_runner.py\u001b\\\u001b[2m_runner.py\u001b[0m\u001b]8;;\u001b\\\u001b[2m:\u001b[0m\u001b]8;id=385731;file://c:\\Users\\Niesen\\.conda\\envs\\pymmc_w_stardist\\lib\\site-packages\\pymmcore_plus\\mda\\_runner.py#289\u001b\\\u001b[2m289\u001b[0m\u001b]8;;\u001b\\\n",
       "\u001b[2;36m                    \u001b[0m         \u001b[33mgroup\u001b[0m=\u001b[32m'WF_DMD'\u001b[0m\u001b[1m)\u001b[0m \u001b[33mexposure\u001b[0m=\u001b[1;36m200\u001b[0m\u001b[1;36m.0\u001b[0m \u001b[33mmin_start_time\u001b[0m=\u001b[1;36m30\u001b[0m\u001b[1;36m.0\u001b[0m \u001b[33mx_pos\u001b[0m=\u001b[1;36m-19064.5\u001b[0m       \u001b[2m              \u001b[0m\n",
       "\u001b[2;36m                    \u001b[0m         \u001b[33my_pos\u001b[0m=\u001b[1;36m4063\u001b[0m\u001b[1;36m.7\u001b[0m \u001b[33mslm_image\u001b[0m=\u001b[1;35mSLMImage\u001b[0m\u001b[1m(\u001b[0m\u001b[1m)\u001b[0m                                       \u001b[2m              \u001b[0m\n",
       "\u001b[2;36m                    \u001b[0m         \u001b[33mproperties\u001b[0m=\u001b[1m[\u001b[0m\u001b[1;35mPropertyTuple\u001b[0m\u001b[1m(\u001b[0m\u001b[33mdevice_name\u001b[0m=\u001b[32m'LedDMD'\u001b[0m,                         \u001b[2m              \u001b[0m\n",
       "\u001b[2;36m                    \u001b[0m         \u001b[33mproperty_name\u001b[0m=\u001b[32m'Cyan_Level'\u001b[0m, \u001b[33mproperty_value\u001b[0m=\u001b[1;36m10\u001b[0m\u001b[1m)\u001b[0m\u001b[1m]\u001b[0m \u001b[33mmetadata\u001b[0m=\u001b[1m{\u001b[0m\u001b[32m'fov_object'\u001b[0m: \u001b[2m              \u001b[0m\n",
       "\u001b[2;36m                    \u001b[0m         \u001b[1m<\u001b[0m\u001b[1;95mfov.FOV\u001b[0m\u001b[39m object at \u001b[0m\u001b[1;36m0x0000023ED6A35FF0\u001b[0m\u001b[39m>, \u001b[0m\u001b[32m'fov'\u001b[0m\u001b[39m: \u001b[0m\u001b[1;36m0\u001b[0m\u001b[39m, \u001b[0m\u001b[32m'name'\u001b[0m\u001b[39m: \u001b[0m\u001b[32m'0'\u001b[0m\u001b[39m, \u001b[0m         \u001b[2m              \u001b[0m\n",
       "\u001b[2;36m                    \u001b[0m         \u001b[32m'timestep'\u001b[0m\u001b[39m: \u001b[0m\u001b[1;36m1\u001b[0m\u001b[39m, \u001b[0m\u001b[32m'time'\u001b[0m\u001b[39m: \u001b[0m\u001b[1;36m30\u001b[0m\u001b[39m, \u001b[0m\u001b[32m'treatment'\u001b[0m\u001b[39m: \u001b[0m\u001b[1;39m{\u001b[0m\u001b[32m'stim_property'\u001b[0m\u001b[39m: \u001b[0m\u001b[32m'global'\u001b[0m\u001b[39m, \u001b[0m    \u001b[2m              \u001b[0m\n",
       "\u001b[2;36m                    \u001b[0m         \u001b[32m'stim_profile'\u001b[0m\u001b[39m: \u001b[0m\u001b[1;39m{\u001b[0m\u001b[32m'device_name'\u001b[0m\u001b[39m: \u001b[0m\u001b[32m'LedDMD'\u001b[0m\u001b[39m, \u001b[0m\u001b[32m'property_name'\u001b[0m\u001b[39m: \u001b[0m             \u001b[2m              \u001b[0m\n",
       "\u001b[2;36m                    \u001b[0m         \u001b[32m'Cyan_Level'\u001b[0m\u001b[39m, \u001b[0m\u001b[32m'power'\u001b[0m\u001b[39m: \u001b[0m\u001b[1;36m10\u001b[0m\u001b[39m, \u001b[0m\u001b[32m'channel'\u001b[0m\u001b[39m: \u001b[0m\u001b[32m'CyanStim'\u001b[0m\u001b[1;39m}\u001b[0m\u001b[39m, \u001b[0m\u001b[32m'stim_exposure'\u001b[0m\u001b[39m: \u001b[0m    \u001b[2m              \u001b[0m\n",
       "\u001b[2;36m                    \u001b[0m         \u001b[1;36m200\u001b[0m\u001b[39m, \u001b[0m\u001b[32m'stim_timestep'\u001b[0m\u001b[39m: \u001b[0m\u001b[1;39m[\u001b[0m\u001b[1;36m1\u001b[0m\u001b[1;39m]\u001b[0m\u001b[1;39m}\u001b[0m\u001b[39m, \u001b[0m\u001b[32m'metadata'\u001b[0m\u001b[39m: \u001b[0m\u001b[1;39m{\u001b[0m\u001b[32m'cell_line'\u001b[0m\u001b[39m: \u001b[0m\u001b[32m'optoFGFR1'\u001b[0m\u001b[1;39m}\u001b[0m\u001b[39m, \u001b[0m    \u001b[2m              \u001b[0m\n",
       "\u001b[2;36m                    \u001b[0m         \u001b[32m'stim'\u001b[0m\u001b[39m: \u001b[0m\u001b[3;92mTrue\u001b[0m\u001b[39m, \u001b[0m\u001b[32m'channels'\u001b[0m\u001b[39m: \u001b[0m\u001b[1;39m[\u001b[0m\u001b[32m'Red'\u001b[0m\u001b[39m, \u001b[0m\u001b[32m'Green'\u001b[0m\u001b[1;39m]\u001b[0m\u001b[39m, \u001b[0m\u001b[32m'channels_exposure'\u001b[0m\u001b[39m: \u001b[0m\u001b[1;39m[\u001b[0m\u001b[1;36m500\u001b[0m\u001b[39m, \u001b[0m \u001b[2m              \u001b[0m\n",
       "\u001b[2;36m                    \u001b[0m         \u001b[1;36m500\u001b[0m\u001b[1;39m]\u001b[0m\u001b[39m, \u001b[0m\u001b[32m'channel_power'\u001b[0m\u001b[39m: \u001b[0m\u001b[1;39m[\u001b[0m\u001b[32m'50'\u001b[0m\u001b[39m, \u001b[0m\u001b[32m'50'\u001b[0m\u001b[1;39m]\u001b[0m\u001b[39m, \u001b[0m\u001b[32m'stim_exposure'\u001b[0m\u001b[39m: \u001b[0m\u001b[1;36m200\u001b[0m\u001b[39m, \u001b[0m\u001b[32m'fname'\u001b[0m\u001b[39m: \u001b[0m    \u001b[2m              \u001b[0m\n",
       "\u001b[2;36m                    \u001b[0m         \u001b[32m'000_00001'\u001b[0m\u001b[39m, \u001b[0m\u001b[32m'img_type'\u001b[0m\u001b[39m: <ImgType.IMG_STIM: \u001b[0m\u001b[1;36m2\u001b[0m\u001b[1m>\u001b[0m, \u001b[32m'last_channel'\u001b[0m: \u001b[3;92mTrue\u001b[0m,   \u001b[2m              \u001b[0m\n",
       "\u001b[2;36m                    \u001b[0m         \u001b[32m'channel'\u001b[0m: \u001b[32m'CyanStim'\u001b[0m\u001b[1m}\u001b[0m                                                  \u001b[2m              \u001b[0m\n"
      ]
     },
     "metadata": {},
     "output_type": "display_data"
    },
    {
     "data": {
      "text/html": [
       "<pre style=\"white-space:pre;overflow-x:auto;line-height:normal;font-family:Menlo,'DejaVu Sans Mono',consolas,'Courier New',monospace\"><span style=\"color: #7fbfbf; text-decoration-color: #7fbfbf\">[01/17/25 19:50:47] </span><span style=\"color: #000080; text-decoration-color: #000080\">INFO    </span> <span style=\"color: #808000; text-decoration-color: #808000\">index</span>=<span style=\"font-weight: bold\">{</span><span style=\"color: #008000; text-decoration-color: #008000\">'t'</span>: <span style=\"color: #008080; text-decoration-color: #008080; font-weight: bold\">2</span>, <span style=\"color: #008000; text-decoration-color: #008000\">'c'</span>: <span style=\"color: #008080; text-decoration-color: #008080; font-weight: bold\">0</span>, <span style=\"color: #008000; text-decoration-color: #008000\">'p'</span>: <span style=\"color: #008080; text-decoration-color: #008080; font-weight: bold\">0</span><span style=\"font-weight: bold\">}</span> <span style=\"color: #808000; text-decoration-color: #808000\">channel</span>=<span style=\"color: #800080; text-decoration-color: #800080; font-weight: bold\">Channel</span><span style=\"font-weight: bold\">(</span><span style=\"color: #808000; text-decoration-color: #808000\">config</span>=<span style=\"color: #008000; text-decoration-color: #008000\">'Red'</span>,            <a href=\"file://c:\\Users\\Niesen\\.conda\\envs\\pymmc_w_stardist\\lib\\site-packages\\pymmcore_plus\\mda\\_runner.py\" target=\"_blank\"><span style=\"color: #7f7f7f; text-decoration-color: #7f7f7f\">_runner.py</span></a><span style=\"color: #7f7f7f; text-decoration-color: #7f7f7f\">:</span><a href=\"file://c:\\Users\\Niesen\\.conda\\envs\\pymmc_w_stardist\\lib\\site-packages\\pymmcore_plus\\mda\\_runner.py#289\" target=\"_blank\"><span style=\"color: #7f7f7f; text-decoration-color: #7f7f7f\">289</span></a>\n",
       "<span style=\"color: #7fbfbf; text-decoration-color: #7fbfbf\">                    </span>         <span style=\"color: #808000; text-decoration-color: #808000\">group</span>=<span style=\"color: #008000; text-decoration-color: #008000\">'WF_DMD'</span><span style=\"font-weight: bold\">)</span> <span style=\"color: #808000; text-decoration-color: #808000\">exposure</span>=<span style=\"color: #008080; text-decoration-color: #008080; font-weight: bold\">500.0</span> <span style=\"color: #808000; text-decoration-color: #808000\">min_start_time</span>=<span style=\"color: #008080; text-decoration-color: #008080; font-weight: bold\">60.0</span> <span style=\"color: #808000; text-decoration-color: #808000\">x_pos</span>=<span style=\"color: #008080; text-decoration-color: #008080; font-weight: bold\">-19064.5</span>       <span style=\"color: #7f7f7f; text-decoration-color: #7f7f7f\">              </span>\n",
       "<span style=\"color: #7fbfbf; text-decoration-color: #7fbfbf\">                    </span>         <span style=\"color: #808000; text-decoration-color: #808000\">y_pos</span>=<span style=\"color: #008080; text-decoration-color: #008080; font-weight: bold\">4063.7</span> <span style=\"color: #808000; text-decoration-color: #808000\">metadata</span>=<span style=\"font-weight: bold\">{</span><span style=\"color: #008000; text-decoration-color: #008000\">'fov_object'</span>: <span style=\"font-weight: bold\">&lt;</span><span style=\"color: #ff00ff; text-decoration-color: #ff00ff; font-weight: bold\">fov.FOV</span><span style=\"color: #000000; text-decoration-color: #000000\"> object at </span>                <span style=\"color: #7f7f7f; text-decoration-color: #7f7f7f\">              </span>\n",
       "<span style=\"color: #7fbfbf; text-decoration-color: #7fbfbf\">                    </span>         <span style=\"color: #008080; text-decoration-color: #008080; font-weight: bold\">0x0000023ED6A35FF0</span><span style=\"color: #000000; text-decoration-color: #000000\">&gt;, </span><span style=\"color: #008000; text-decoration-color: #008000\">'fov'</span><span style=\"color: #000000; text-decoration-color: #000000\">: </span><span style=\"color: #008080; text-decoration-color: #008080; font-weight: bold\">0</span><span style=\"color: #000000; text-decoration-color: #000000\">, </span><span style=\"color: #008000; text-decoration-color: #008000\">'name'</span><span style=\"color: #000000; text-decoration-color: #000000\">: </span><span style=\"color: #008000; text-decoration-color: #008000\">'0'</span><span style=\"color: #000000; text-decoration-color: #000000\">, </span><span style=\"color: #008000; text-decoration-color: #008000\">'timestep'</span><span style=\"color: #000000; text-decoration-color: #000000\">: </span><span style=\"color: #008080; text-decoration-color: #008080; font-weight: bold\">2</span><span style=\"color: #000000; text-decoration-color: #000000\">, </span><span style=\"color: #008000; text-decoration-color: #008000\">'time'</span><span style=\"color: #000000; text-decoration-color: #000000\">: </span><span style=\"color: #008080; text-decoration-color: #008080; font-weight: bold\">60</span><span style=\"color: #000000; text-decoration-color: #000000\">, </span> <span style=\"color: #7f7f7f; text-decoration-color: #7f7f7f\">              </span>\n",
       "<span style=\"color: #7fbfbf; text-decoration-color: #7fbfbf\">                    </span>         <span style=\"color: #008000; text-decoration-color: #008000\">'treatment'</span><span style=\"color: #000000; text-decoration-color: #000000\">: </span><span style=\"color: #000000; text-decoration-color: #000000; font-weight: bold\">{</span><span style=\"color: #008000; text-decoration-color: #008000\">'stim_property'</span><span style=\"color: #000000; text-decoration-color: #000000\">: </span><span style=\"color: #008000; text-decoration-color: #008000\">'global'</span><span style=\"color: #000000; text-decoration-color: #000000\">, </span><span style=\"color: #008000; text-decoration-color: #008000\">'stim_profile'</span><span style=\"color: #000000; text-decoration-color: #000000\">: </span>               <span style=\"color: #7f7f7f; text-decoration-color: #7f7f7f\">              </span>\n",
       "<span style=\"color: #7fbfbf; text-decoration-color: #7fbfbf\">                    </span>         <span style=\"color: #000000; text-decoration-color: #000000; font-weight: bold\">{</span><span style=\"color: #008000; text-decoration-color: #008000\">'device_name'</span><span style=\"color: #000000; text-decoration-color: #000000\">: </span><span style=\"color: #008000; text-decoration-color: #008000\">'LedDMD'</span><span style=\"color: #000000; text-decoration-color: #000000\">, </span><span style=\"color: #008000; text-decoration-color: #008000\">'property_name'</span><span style=\"color: #000000; text-decoration-color: #000000\">: </span><span style=\"color: #008000; text-decoration-color: #008000\">'Cyan_Level'</span><span style=\"color: #000000; text-decoration-color: #000000\">, </span><span style=\"color: #008000; text-decoration-color: #008000\">'power'</span><span style=\"color: #000000; text-decoration-color: #000000\">: </span><span style=\"color: #008080; text-decoration-color: #008080; font-weight: bold\">10</span><span style=\"color: #000000; text-decoration-color: #000000\">, </span>  <span style=\"color: #7f7f7f; text-decoration-color: #7f7f7f\">              </span>\n",
       "<span style=\"color: #7fbfbf; text-decoration-color: #7fbfbf\">                    </span>         <span style=\"color: #008000; text-decoration-color: #008000\">'channel'</span><span style=\"color: #000000; text-decoration-color: #000000\">: </span><span style=\"color: #008000; text-decoration-color: #008000\">'CyanStim'</span><span style=\"color: #000000; text-decoration-color: #000000; font-weight: bold\">}</span><span style=\"color: #000000; text-decoration-color: #000000\">, </span><span style=\"color: #008000; text-decoration-color: #008000\">'stim_exposure'</span><span style=\"color: #000000; text-decoration-color: #000000\">: </span><span style=\"color: #008080; text-decoration-color: #008080; font-weight: bold\">200</span><span style=\"color: #000000; text-decoration-color: #000000\">, </span><span style=\"color: #008000; text-decoration-color: #008000\">'stim_timestep'</span><span style=\"color: #000000; text-decoration-color: #000000\">: </span><span style=\"color: #000000; text-decoration-color: #000000; font-weight: bold\">[</span><span style=\"color: #008080; text-decoration-color: #008080; font-weight: bold\">1</span><span style=\"color: #000000; text-decoration-color: #000000; font-weight: bold\">]}</span><span style=\"color: #000000; text-decoration-color: #000000\">, </span>   <span style=\"color: #7f7f7f; text-decoration-color: #7f7f7f\">              </span>\n",
       "<span style=\"color: #7fbfbf; text-decoration-color: #7fbfbf\">                    </span>         <span style=\"color: #008000; text-decoration-color: #008000\">'metadata'</span><span style=\"color: #000000; text-decoration-color: #000000\">: </span><span style=\"color: #000000; text-decoration-color: #000000; font-weight: bold\">{</span><span style=\"color: #008000; text-decoration-color: #008000\">'cell_line'</span><span style=\"color: #000000; text-decoration-color: #000000\">: </span><span style=\"color: #008000; text-decoration-color: #008000\">'optoFGFR1'</span><span style=\"color: #000000; text-decoration-color: #000000; font-weight: bold\">}</span><span style=\"color: #000000; text-decoration-color: #000000\">, </span><span style=\"color: #008000; text-decoration-color: #008000\">'stim'</span><span style=\"color: #000000; text-decoration-color: #000000\">: </span><span style=\"color: #ff0000; text-decoration-color: #ff0000; font-style: italic\">False</span><span style=\"color: #000000; text-decoration-color: #000000\">, </span><span style=\"color: #008000; text-decoration-color: #008000\">'channels'</span><span style=\"color: #000000; text-decoration-color: #000000\">: </span>     <span style=\"color: #7f7f7f; text-decoration-color: #7f7f7f\">              </span>\n",
       "<span style=\"color: #7fbfbf; text-decoration-color: #7fbfbf\">                    </span>         <span style=\"color: #000000; text-decoration-color: #000000; font-weight: bold\">[</span><span style=\"color: #008000; text-decoration-color: #008000\">'Red'</span><span style=\"color: #000000; text-decoration-color: #000000\">, </span><span style=\"color: #008000; text-decoration-color: #008000\">'Green'</span><span style=\"color: #000000; text-decoration-color: #000000; font-weight: bold\">]</span><span style=\"color: #000000; text-decoration-color: #000000\">, </span><span style=\"color: #008000; text-decoration-color: #008000\">'channels_exposure'</span><span style=\"color: #000000; text-decoration-color: #000000\">: </span><span style=\"color: #000000; text-decoration-color: #000000; font-weight: bold\">[</span><span style=\"color: #008080; text-decoration-color: #008080; font-weight: bold\">500</span><span style=\"color: #000000; text-decoration-color: #000000\">, </span><span style=\"color: #008080; text-decoration-color: #008080; font-weight: bold\">500</span><span style=\"color: #000000; text-decoration-color: #000000; font-weight: bold\">]</span><span style=\"color: #000000; text-decoration-color: #000000\">, </span><span style=\"color: #008000; text-decoration-color: #008000\">'channel_power'</span><span style=\"color: #000000; text-decoration-color: #000000\">: </span>    <span style=\"color: #7f7f7f; text-decoration-color: #7f7f7f\">              </span>\n",
       "<span style=\"color: #7fbfbf; text-decoration-color: #7fbfbf\">                    </span>         <span style=\"color: #000000; text-decoration-color: #000000; font-weight: bold\">[</span><span style=\"color: #008000; text-decoration-color: #008000\">'50'</span><span style=\"color: #000000; text-decoration-color: #000000\">, </span><span style=\"color: #008000; text-decoration-color: #008000\">'50'</span><span style=\"color: #000000; text-decoration-color: #000000; font-weight: bold\">]</span><span style=\"color: #000000; text-decoration-color: #000000\">, </span><span style=\"color: #008000; text-decoration-color: #008000\">'stim_exposure'</span><span style=\"color: #000000; text-decoration-color: #000000\">: </span><span style=\"color: #008080; text-decoration-color: #008080; font-weight: bold\">200</span><span style=\"color: #000000; text-decoration-color: #000000\">, </span><span style=\"color: #008000; text-decoration-color: #008000\">'fname'</span><span style=\"color: #000000; text-decoration-color: #000000\">: </span><span style=\"color: #008000; text-decoration-color: #008000\">'000_00002'</span><span style=\"color: #000000; text-decoration-color: #000000\">, </span><span style=\"color: #008000; text-decoration-color: #008000\">'img_type'</span><span style=\"color: #000000; text-decoration-color: #000000\">: </span>  <span style=\"color: #7f7f7f; text-decoration-color: #7f7f7f\">              </span>\n",
       "<span style=\"color: #7fbfbf; text-decoration-color: #7fbfbf\">                    </span>         <span style=\"color: #000000; text-decoration-color: #000000\">&lt;ImgType.IMG_RAW: </span><span style=\"color: #008080; text-decoration-color: #008080; font-weight: bold\">1</span><span style=\"font-weight: bold\">&gt;</span>, <span style=\"color: #008000; text-decoration-color: #008000\">'last_channel'</span>: <span style=\"color: #ff0000; text-decoration-color: #ff0000; font-style: italic\">False</span>, <span style=\"color: #008000; text-decoration-color: #008000\">'channel'</span>: <span style=\"color: #008000; text-decoration-color: #008000\">'Red'</span><span style=\"font-weight: bold\">}</span>          <span style=\"color: #7f7f7f; text-decoration-color: #7f7f7f\">              </span>\n",
       "</pre>\n"
      ],
      "text/plain": [
       "\u001b[2;36m[01/17/25 19:50:47]\u001b[0m\u001b[2;36m \u001b[0m\u001b[34mINFO    \u001b[0m \u001b[33mindex\u001b[0m=\u001b[1m{\u001b[0m\u001b[32m't'\u001b[0m: \u001b[1;36m2\u001b[0m, \u001b[32m'c'\u001b[0m: \u001b[1;36m0\u001b[0m, \u001b[32m'p'\u001b[0m: \u001b[1;36m0\u001b[0m\u001b[1m}\u001b[0m \u001b[33mchannel\u001b[0m=\u001b[1;35mChannel\u001b[0m\u001b[1m(\u001b[0m\u001b[33mconfig\u001b[0m=\u001b[32m'Red'\u001b[0m,            \u001b]8;id=157229;file://c:\\Users\\Niesen\\.conda\\envs\\pymmc_w_stardist\\lib\\site-packages\\pymmcore_plus\\mda\\_runner.py\u001b\\\u001b[2m_runner.py\u001b[0m\u001b]8;;\u001b\\\u001b[2m:\u001b[0m\u001b]8;id=368663;file://c:\\Users\\Niesen\\.conda\\envs\\pymmc_w_stardist\\lib\\site-packages\\pymmcore_plus\\mda\\_runner.py#289\u001b\\\u001b[2m289\u001b[0m\u001b]8;;\u001b\\\n",
       "\u001b[2;36m                    \u001b[0m         \u001b[33mgroup\u001b[0m=\u001b[32m'WF_DMD'\u001b[0m\u001b[1m)\u001b[0m \u001b[33mexposure\u001b[0m=\u001b[1;36m500\u001b[0m\u001b[1;36m.0\u001b[0m \u001b[33mmin_start_time\u001b[0m=\u001b[1;36m60\u001b[0m\u001b[1;36m.0\u001b[0m \u001b[33mx_pos\u001b[0m=\u001b[1;36m-19064.5\u001b[0m       \u001b[2m              \u001b[0m\n",
       "\u001b[2;36m                    \u001b[0m         \u001b[33my_pos\u001b[0m=\u001b[1;36m4063\u001b[0m\u001b[1;36m.7\u001b[0m \u001b[33mmetadata\u001b[0m=\u001b[1m{\u001b[0m\u001b[32m'fov_object'\u001b[0m: \u001b[1m<\u001b[0m\u001b[1;95mfov.FOV\u001b[0m\u001b[39m object at \u001b[0m                \u001b[2m              \u001b[0m\n",
       "\u001b[2;36m                    \u001b[0m         \u001b[1;36m0x0000023ED6A35FF0\u001b[0m\u001b[39m>, \u001b[0m\u001b[32m'fov'\u001b[0m\u001b[39m: \u001b[0m\u001b[1;36m0\u001b[0m\u001b[39m, \u001b[0m\u001b[32m'name'\u001b[0m\u001b[39m: \u001b[0m\u001b[32m'0'\u001b[0m\u001b[39m, \u001b[0m\u001b[32m'timestep'\u001b[0m\u001b[39m: \u001b[0m\u001b[1;36m2\u001b[0m\u001b[39m, \u001b[0m\u001b[32m'time'\u001b[0m\u001b[39m: \u001b[0m\u001b[1;36m60\u001b[0m\u001b[39m, \u001b[0m \u001b[2m              \u001b[0m\n",
       "\u001b[2;36m                    \u001b[0m         \u001b[32m'treatment'\u001b[0m\u001b[39m: \u001b[0m\u001b[1;39m{\u001b[0m\u001b[32m'stim_property'\u001b[0m\u001b[39m: \u001b[0m\u001b[32m'global'\u001b[0m\u001b[39m, \u001b[0m\u001b[32m'stim_profile'\u001b[0m\u001b[39m: \u001b[0m               \u001b[2m              \u001b[0m\n",
       "\u001b[2;36m                    \u001b[0m         \u001b[1;39m{\u001b[0m\u001b[32m'device_name'\u001b[0m\u001b[39m: \u001b[0m\u001b[32m'LedDMD'\u001b[0m\u001b[39m, \u001b[0m\u001b[32m'property_name'\u001b[0m\u001b[39m: \u001b[0m\u001b[32m'Cyan_Level'\u001b[0m\u001b[39m, \u001b[0m\u001b[32m'power'\u001b[0m\u001b[39m: \u001b[0m\u001b[1;36m10\u001b[0m\u001b[39m, \u001b[0m  \u001b[2m              \u001b[0m\n",
       "\u001b[2;36m                    \u001b[0m         \u001b[32m'channel'\u001b[0m\u001b[39m: \u001b[0m\u001b[32m'CyanStim'\u001b[0m\u001b[1;39m}\u001b[0m\u001b[39m, \u001b[0m\u001b[32m'stim_exposure'\u001b[0m\u001b[39m: \u001b[0m\u001b[1;36m200\u001b[0m\u001b[39m, \u001b[0m\u001b[32m'stim_timestep'\u001b[0m\u001b[39m: \u001b[0m\u001b[1;39m[\u001b[0m\u001b[1;36m1\u001b[0m\u001b[1;39m]\u001b[0m\u001b[1;39m}\u001b[0m\u001b[39m, \u001b[0m   \u001b[2m              \u001b[0m\n",
       "\u001b[2;36m                    \u001b[0m         \u001b[32m'metadata'\u001b[0m\u001b[39m: \u001b[0m\u001b[1;39m{\u001b[0m\u001b[32m'cell_line'\u001b[0m\u001b[39m: \u001b[0m\u001b[32m'optoFGFR1'\u001b[0m\u001b[1;39m}\u001b[0m\u001b[39m, \u001b[0m\u001b[32m'stim'\u001b[0m\u001b[39m: \u001b[0m\u001b[3;91mFalse\u001b[0m\u001b[39m, \u001b[0m\u001b[32m'channels'\u001b[0m\u001b[39m: \u001b[0m     \u001b[2m              \u001b[0m\n",
       "\u001b[2;36m                    \u001b[0m         \u001b[1;39m[\u001b[0m\u001b[32m'Red'\u001b[0m\u001b[39m, \u001b[0m\u001b[32m'Green'\u001b[0m\u001b[1;39m]\u001b[0m\u001b[39m, \u001b[0m\u001b[32m'channels_exposure'\u001b[0m\u001b[39m: \u001b[0m\u001b[1;39m[\u001b[0m\u001b[1;36m500\u001b[0m\u001b[39m, \u001b[0m\u001b[1;36m500\u001b[0m\u001b[1;39m]\u001b[0m\u001b[39m, \u001b[0m\u001b[32m'channel_power'\u001b[0m\u001b[39m: \u001b[0m    \u001b[2m              \u001b[0m\n",
       "\u001b[2;36m                    \u001b[0m         \u001b[1;39m[\u001b[0m\u001b[32m'50'\u001b[0m\u001b[39m, \u001b[0m\u001b[32m'50'\u001b[0m\u001b[1;39m]\u001b[0m\u001b[39m, \u001b[0m\u001b[32m'stim_exposure'\u001b[0m\u001b[39m: \u001b[0m\u001b[1;36m200\u001b[0m\u001b[39m, \u001b[0m\u001b[32m'fname'\u001b[0m\u001b[39m: \u001b[0m\u001b[32m'000_00002'\u001b[0m\u001b[39m, \u001b[0m\u001b[32m'img_type'\u001b[0m\u001b[39m: \u001b[0m  \u001b[2m              \u001b[0m\n",
       "\u001b[2;36m                    \u001b[0m         \u001b[39m<ImgType.IMG_RAW: \u001b[0m\u001b[1;36m1\u001b[0m\u001b[1m>\u001b[0m, \u001b[32m'last_channel'\u001b[0m: \u001b[3;91mFalse\u001b[0m, \u001b[32m'channel'\u001b[0m: \u001b[32m'Red'\u001b[0m\u001b[1m}\u001b[0m          \u001b[2m              \u001b[0m\n"
      ]
     },
     "metadata": {},
     "output_type": "display_data"
    },
    {
     "data": {
      "text/html": [
       "<pre style=\"white-space:pre;overflow-x:auto;line-height:normal;font-family:Menlo,'DejaVu Sans Mono',consolas,'Courier New',monospace\"><span style=\"color: #7fbfbf; text-decoration-color: #7fbfbf\">[01/17/25 19:50:48] </span><span style=\"color: #000080; text-decoration-color: #000080\">INFO    </span> <span style=\"color: #808000; text-decoration-color: #808000\">index</span>=<span style=\"font-weight: bold\">{</span><span style=\"color: #008000; text-decoration-color: #008000\">'t'</span>: <span style=\"color: #008080; text-decoration-color: #008080; font-weight: bold\">2</span>, <span style=\"color: #008000; text-decoration-color: #008000\">'c'</span>: <span style=\"color: #008080; text-decoration-color: #008080; font-weight: bold\">1</span>, <span style=\"color: #008000; text-decoration-color: #008000\">'p'</span>: <span style=\"color: #008080; text-decoration-color: #008080; font-weight: bold\">0</span><span style=\"font-weight: bold\">}</span> <span style=\"color: #808000; text-decoration-color: #808000\">channel</span>=<span style=\"color: #800080; text-decoration-color: #800080; font-weight: bold\">Channel</span><span style=\"font-weight: bold\">(</span><span style=\"color: #808000; text-decoration-color: #808000\">config</span>=<span style=\"color: #008000; text-decoration-color: #008000\">'Green'</span>,          <a href=\"file://c:\\Users\\Niesen\\.conda\\envs\\pymmc_w_stardist\\lib\\site-packages\\pymmcore_plus\\mda\\_runner.py\" target=\"_blank\"><span style=\"color: #7f7f7f; text-decoration-color: #7f7f7f\">_runner.py</span></a><span style=\"color: #7f7f7f; text-decoration-color: #7f7f7f\">:</span><a href=\"file://c:\\Users\\Niesen\\.conda\\envs\\pymmc_w_stardist\\lib\\site-packages\\pymmcore_plus\\mda\\_runner.py#289\" target=\"_blank\"><span style=\"color: #7f7f7f; text-decoration-color: #7f7f7f\">289</span></a>\n",
       "<span style=\"color: #7fbfbf; text-decoration-color: #7fbfbf\">                    </span>         <span style=\"color: #808000; text-decoration-color: #808000\">group</span>=<span style=\"color: #008000; text-decoration-color: #008000\">'WF_DMD'</span><span style=\"font-weight: bold\">)</span> <span style=\"color: #808000; text-decoration-color: #808000\">exposure</span>=<span style=\"color: #008080; text-decoration-color: #008080; font-weight: bold\">500.0</span> <span style=\"color: #808000; text-decoration-color: #808000\">min_start_time</span>=<span style=\"color: #008080; text-decoration-color: #008080; font-weight: bold\">60.0</span> <span style=\"color: #808000; text-decoration-color: #808000\">x_pos</span>=<span style=\"color: #008080; text-decoration-color: #008080; font-weight: bold\">-19064.5</span>       <span style=\"color: #7f7f7f; text-decoration-color: #7f7f7f\">              </span>\n",
       "<span style=\"color: #7fbfbf; text-decoration-color: #7fbfbf\">                    </span>         <span style=\"color: #808000; text-decoration-color: #808000\">y_pos</span>=<span style=\"color: #008080; text-decoration-color: #008080; font-weight: bold\">4063.7</span> <span style=\"color: #808000; text-decoration-color: #808000\">metadata</span>=<span style=\"font-weight: bold\">{</span><span style=\"color: #008000; text-decoration-color: #008000\">'fov_object'</span>: <span style=\"font-weight: bold\">&lt;</span><span style=\"color: #ff00ff; text-decoration-color: #ff00ff; font-weight: bold\">fov.FOV</span><span style=\"color: #000000; text-decoration-color: #000000\"> object at </span>                <span style=\"color: #7f7f7f; text-decoration-color: #7f7f7f\">              </span>\n",
       "<span style=\"color: #7fbfbf; text-decoration-color: #7fbfbf\">                    </span>         <span style=\"color: #008080; text-decoration-color: #008080; font-weight: bold\">0x0000023ED6A35FF0</span><span style=\"color: #000000; text-decoration-color: #000000\">&gt;, </span><span style=\"color: #008000; text-decoration-color: #008000\">'fov'</span><span style=\"color: #000000; text-decoration-color: #000000\">: </span><span style=\"color: #008080; text-decoration-color: #008080; font-weight: bold\">0</span><span style=\"color: #000000; text-decoration-color: #000000\">, </span><span style=\"color: #008000; text-decoration-color: #008000\">'name'</span><span style=\"color: #000000; text-decoration-color: #000000\">: </span><span style=\"color: #008000; text-decoration-color: #008000\">'0'</span><span style=\"color: #000000; text-decoration-color: #000000\">, </span><span style=\"color: #008000; text-decoration-color: #008000\">'timestep'</span><span style=\"color: #000000; text-decoration-color: #000000\">: </span><span style=\"color: #008080; text-decoration-color: #008080; font-weight: bold\">2</span><span style=\"color: #000000; text-decoration-color: #000000\">, </span><span style=\"color: #008000; text-decoration-color: #008000\">'time'</span><span style=\"color: #000000; text-decoration-color: #000000\">: </span><span style=\"color: #008080; text-decoration-color: #008080; font-weight: bold\">60</span><span style=\"color: #000000; text-decoration-color: #000000\">, </span> <span style=\"color: #7f7f7f; text-decoration-color: #7f7f7f\">              </span>\n",
       "<span style=\"color: #7fbfbf; text-decoration-color: #7fbfbf\">                    </span>         <span style=\"color: #008000; text-decoration-color: #008000\">'treatment'</span><span style=\"color: #000000; text-decoration-color: #000000\">: </span><span style=\"color: #000000; text-decoration-color: #000000; font-weight: bold\">{</span><span style=\"color: #008000; text-decoration-color: #008000\">'stim_property'</span><span style=\"color: #000000; text-decoration-color: #000000\">: </span><span style=\"color: #008000; text-decoration-color: #008000\">'global'</span><span style=\"color: #000000; text-decoration-color: #000000\">, </span><span style=\"color: #008000; text-decoration-color: #008000\">'stim_profile'</span><span style=\"color: #000000; text-decoration-color: #000000\">: </span>               <span style=\"color: #7f7f7f; text-decoration-color: #7f7f7f\">              </span>\n",
       "<span style=\"color: #7fbfbf; text-decoration-color: #7fbfbf\">                    </span>         <span style=\"color: #000000; text-decoration-color: #000000; font-weight: bold\">{</span><span style=\"color: #008000; text-decoration-color: #008000\">'device_name'</span><span style=\"color: #000000; text-decoration-color: #000000\">: </span><span style=\"color: #008000; text-decoration-color: #008000\">'LedDMD'</span><span style=\"color: #000000; text-decoration-color: #000000\">, </span><span style=\"color: #008000; text-decoration-color: #008000\">'property_name'</span><span style=\"color: #000000; text-decoration-color: #000000\">: </span><span style=\"color: #008000; text-decoration-color: #008000\">'Cyan_Level'</span><span style=\"color: #000000; text-decoration-color: #000000\">, </span><span style=\"color: #008000; text-decoration-color: #008000\">'power'</span><span style=\"color: #000000; text-decoration-color: #000000\">: </span><span style=\"color: #008080; text-decoration-color: #008080; font-weight: bold\">10</span><span style=\"color: #000000; text-decoration-color: #000000\">, </span>  <span style=\"color: #7f7f7f; text-decoration-color: #7f7f7f\">              </span>\n",
       "<span style=\"color: #7fbfbf; text-decoration-color: #7fbfbf\">                    </span>         <span style=\"color: #008000; text-decoration-color: #008000\">'channel'</span><span style=\"color: #000000; text-decoration-color: #000000\">: </span><span style=\"color: #008000; text-decoration-color: #008000\">'CyanStim'</span><span style=\"color: #000000; text-decoration-color: #000000; font-weight: bold\">}</span><span style=\"color: #000000; text-decoration-color: #000000\">, </span><span style=\"color: #008000; text-decoration-color: #008000\">'stim_exposure'</span><span style=\"color: #000000; text-decoration-color: #000000\">: </span><span style=\"color: #008080; text-decoration-color: #008080; font-weight: bold\">200</span><span style=\"color: #000000; text-decoration-color: #000000\">, </span><span style=\"color: #008000; text-decoration-color: #008000\">'stim_timestep'</span><span style=\"color: #000000; text-decoration-color: #000000\">: </span><span style=\"color: #000000; text-decoration-color: #000000; font-weight: bold\">[</span><span style=\"color: #008080; text-decoration-color: #008080; font-weight: bold\">1</span><span style=\"color: #000000; text-decoration-color: #000000; font-weight: bold\">]}</span><span style=\"color: #000000; text-decoration-color: #000000\">, </span>   <span style=\"color: #7f7f7f; text-decoration-color: #7f7f7f\">              </span>\n",
       "<span style=\"color: #7fbfbf; text-decoration-color: #7fbfbf\">                    </span>         <span style=\"color: #008000; text-decoration-color: #008000\">'metadata'</span><span style=\"color: #000000; text-decoration-color: #000000\">: </span><span style=\"color: #000000; text-decoration-color: #000000; font-weight: bold\">{</span><span style=\"color: #008000; text-decoration-color: #008000\">'cell_line'</span><span style=\"color: #000000; text-decoration-color: #000000\">: </span><span style=\"color: #008000; text-decoration-color: #008000\">'optoFGFR1'</span><span style=\"color: #000000; text-decoration-color: #000000; font-weight: bold\">}</span><span style=\"color: #000000; text-decoration-color: #000000\">, </span><span style=\"color: #008000; text-decoration-color: #008000\">'stim'</span><span style=\"color: #000000; text-decoration-color: #000000\">: </span><span style=\"color: #ff0000; text-decoration-color: #ff0000; font-style: italic\">False</span><span style=\"color: #000000; text-decoration-color: #000000\">, </span><span style=\"color: #008000; text-decoration-color: #008000\">'channels'</span><span style=\"color: #000000; text-decoration-color: #000000\">: </span>     <span style=\"color: #7f7f7f; text-decoration-color: #7f7f7f\">              </span>\n",
       "<span style=\"color: #7fbfbf; text-decoration-color: #7fbfbf\">                    </span>         <span style=\"color: #000000; text-decoration-color: #000000; font-weight: bold\">[</span><span style=\"color: #008000; text-decoration-color: #008000\">'Red'</span><span style=\"color: #000000; text-decoration-color: #000000\">, </span><span style=\"color: #008000; text-decoration-color: #008000\">'Green'</span><span style=\"color: #000000; text-decoration-color: #000000; font-weight: bold\">]</span><span style=\"color: #000000; text-decoration-color: #000000\">, </span><span style=\"color: #008000; text-decoration-color: #008000\">'channels_exposure'</span><span style=\"color: #000000; text-decoration-color: #000000\">: </span><span style=\"color: #000000; text-decoration-color: #000000; font-weight: bold\">[</span><span style=\"color: #008080; text-decoration-color: #008080; font-weight: bold\">500</span><span style=\"color: #000000; text-decoration-color: #000000\">, </span><span style=\"color: #008080; text-decoration-color: #008080; font-weight: bold\">500</span><span style=\"color: #000000; text-decoration-color: #000000; font-weight: bold\">]</span><span style=\"color: #000000; text-decoration-color: #000000\">, </span><span style=\"color: #008000; text-decoration-color: #008000\">'channel_power'</span><span style=\"color: #000000; text-decoration-color: #000000\">: </span>    <span style=\"color: #7f7f7f; text-decoration-color: #7f7f7f\">              </span>\n",
       "<span style=\"color: #7fbfbf; text-decoration-color: #7fbfbf\">                    </span>         <span style=\"color: #000000; text-decoration-color: #000000; font-weight: bold\">[</span><span style=\"color: #008000; text-decoration-color: #008000\">'50'</span><span style=\"color: #000000; text-decoration-color: #000000\">, </span><span style=\"color: #008000; text-decoration-color: #008000\">'50'</span><span style=\"color: #000000; text-decoration-color: #000000; font-weight: bold\">]</span><span style=\"color: #000000; text-decoration-color: #000000\">, </span><span style=\"color: #008000; text-decoration-color: #008000\">'stim_exposure'</span><span style=\"color: #000000; text-decoration-color: #000000\">: </span><span style=\"color: #008080; text-decoration-color: #008080; font-weight: bold\">200</span><span style=\"color: #000000; text-decoration-color: #000000\">, </span><span style=\"color: #008000; text-decoration-color: #008000\">'fname'</span><span style=\"color: #000000; text-decoration-color: #000000\">: </span><span style=\"color: #008000; text-decoration-color: #008000\">'000_00002'</span><span style=\"color: #000000; text-decoration-color: #000000\">, </span><span style=\"color: #008000; text-decoration-color: #008000\">'img_type'</span><span style=\"color: #000000; text-decoration-color: #000000\">: </span>  <span style=\"color: #7f7f7f; text-decoration-color: #7f7f7f\">              </span>\n",
       "<span style=\"color: #7fbfbf; text-decoration-color: #7fbfbf\">                    </span>         <span style=\"color: #000000; text-decoration-color: #000000\">&lt;ImgType.IMG_RAW: </span><span style=\"color: #008080; text-decoration-color: #008080; font-weight: bold\">1</span><span style=\"font-weight: bold\">&gt;</span>, <span style=\"color: #008000; text-decoration-color: #008000\">'last_channel'</span>: <span style=\"color: #00ff00; text-decoration-color: #00ff00; font-style: italic\">True</span>, <span style=\"color: #008000; text-decoration-color: #008000\">'channel'</span>: <span style=\"color: #008000; text-decoration-color: #008000\">'Green'</span><span style=\"font-weight: bold\">}</span>         <span style=\"color: #7f7f7f; text-decoration-color: #7f7f7f\">              </span>\n",
       "</pre>\n"
      ],
      "text/plain": [
       "\u001b[2;36m[01/17/25 19:50:48]\u001b[0m\u001b[2;36m \u001b[0m\u001b[34mINFO    \u001b[0m \u001b[33mindex\u001b[0m=\u001b[1m{\u001b[0m\u001b[32m't'\u001b[0m: \u001b[1;36m2\u001b[0m, \u001b[32m'c'\u001b[0m: \u001b[1;36m1\u001b[0m, \u001b[32m'p'\u001b[0m: \u001b[1;36m0\u001b[0m\u001b[1m}\u001b[0m \u001b[33mchannel\u001b[0m=\u001b[1;35mChannel\u001b[0m\u001b[1m(\u001b[0m\u001b[33mconfig\u001b[0m=\u001b[32m'Green'\u001b[0m,          \u001b]8;id=510948;file://c:\\Users\\Niesen\\.conda\\envs\\pymmc_w_stardist\\lib\\site-packages\\pymmcore_plus\\mda\\_runner.py\u001b\\\u001b[2m_runner.py\u001b[0m\u001b]8;;\u001b\\\u001b[2m:\u001b[0m\u001b]8;id=194391;file://c:\\Users\\Niesen\\.conda\\envs\\pymmc_w_stardist\\lib\\site-packages\\pymmcore_plus\\mda\\_runner.py#289\u001b\\\u001b[2m289\u001b[0m\u001b]8;;\u001b\\\n",
       "\u001b[2;36m                    \u001b[0m         \u001b[33mgroup\u001b[0m=\u001b[32m'WF_DMD'\u001b[0m\u001b[1m)\u001b[0m \u001b[33mexposure\u001b[0m=\u001b[1;36m500\u001b[0m\u001b[1;36m.0\u001b[0m \u001b[33mmin_start_time\u001b[0m=\u001b[1;36m60\u001b[0m\u001b[1;36m.0\u001b[0m \u001b[33mx_pos\u001b[0m=\u001b[1;36m-19064.5\u001b[0m       \u001b[2m              \u001b[0m\n",
       "\u001b[2;36m                    \u001b[0m         \u001b[33my_pos\u001b[0m=\u001b[1;36m4063\u001b[0m\u001b[1;36m.7\u001b[0m \u001b[33mmetadata\u001b[0m=\u001b[1m{\u001b[0m\u001b[32m'fov_object'\u001b[0m: \u001b[1m<\u001b[0m\u001b[1;95mfov.FOV\u001b[0m\u001b[39m object at \u001b[0m                \u001b[2m              \u001b[0m\n",
       "\u001b[2;36m                    \u001b[0m         \u001b[1;36m0x0000023ED6A35FF0\u001b[0m\u001b[39m>, \u001b[0m\u001b[32m'fov'\u001b[0m\u001b[39m: \u001b[0m\u001b[1;36m0\u001b[0m\u001b[39m, \u001b[0m\u001b[32m'name'\u001b[0m\u001b[39m: \u001b[0m\u001b[32m'0'\u001b[0m\u001b[39m, \u001b[0m\u001b[32m'timestep'\u001b[0m\u001b[39m: \u001b[0m\u001b[1;36m2\u001b[0m\u001b[39m, \u001b[0m\u001b[32m'time'\u001b[0m\u001b[39m: \u001b[0m\u001b[1;36m60\u001b[0m\u001b[39m, \u001b[0m \u001b[2m              \u001b[0m\n",
       "\u001b[2;36m                    \u001b[0m         \u001b[32m'treatment'\u001b[0m\u001b[39m: \u001b[0m\u001b[1;39m{\u001b[0m\u001b[32m'stim_property'\u001b[0m\u001b[39m: \u001b[0m\u001b[32m'global'\u001b[0m\u001b[39m, \u001b[0m\u001b[32m'stim_profile'\u001b[0m\u001b[39m: \u001b[0m               \u001b[2m              \u001b[0m\n",
       "\u001b[2;36m                    \u001b[0m         \u001b[1;39m{\u001b[0m\u001b[32m'device_name'\u001b[0m\u001b[39m: \u001b[0m\u001b[32m'LedDMD'\u001b[0m\u001b[39m, \u001b[0m\u001b[32m'property_name'\u001b[0m\u001b[39m: \u001b[0m\u001b[32m'Cyan_Level'\u001b[0m\u001b[39m, \u001b[0m\u001b[32m'power'\u001b[0m\u001b[39m: \u001b[0m\u001b[1;36m10\u001b[0m\u001b[39m, \u001b[0m  \u001b[2m              \u001b[0m\n",
       "\u001b[2;36m                    \u001b[0m         \u001b[32m'channel'\u001b[0m\u001b[39m: \u001b[0m\u001b[32m'CyanStim'\u001b[0m\u001b[1;39m}\u001b[0m\u001b[39m, \u001b[0m\u001b[32m'stim_exposure'\u001b[0m\u001b[39m: \u001b[0m\u001b[1;36m200\u001b[0m\u001b[39m, \u001b[0m\u001b[32m'stim_timestep'\u001b[0m\u001b[39m: \u001b[0m\u001b[1;39m[\u001b[0m\u001b[1;36m1\u001b[0m\u001b[1;39m]\u001b[0m\u001b[1;39m}\u001b[0m\u001b[39m, \u001b[0m   \u001b[2m              \u001b[0m\n",
       "\u001b[2;36m                    \u001b[0m         \u001b[32m'metadata'\u001b[0m\u001b[39m: \u001b[0m\u001b[1;39m{\u001b[0m\u001b[32m'cell_line'\u001b[0m\u001b[39m: \u001b[0m\u001b[32m'optoFGFR1'\u001b[0m\u001b[1;39m}\u001b[0m\u001b[39m, \u001b[0m\u001b[32m'stim'\u001b[0m\u001b[39m: \u001b[0m\u001b[3;91mFalse\u001b[0m\u001b[39m, \u001b[0m\u001b[32m'channels'\u001b[0m\u001b[39m: \u001b[0m     \u001b[2m              \u001b[0m\n",
       "\u001b[2;36m                    \u001b[0m         \u001b[1;39m[\u001b[0m\u001b[32m'Red'\u001b[0m\u001b[39m, \u001b[0m\u001b[32m'Green'\u001b[0m\u001b[1;39m]\u001b[0m\u001b[39m, \u001b[0m\u001b[32m'channels_exposure'\u001b[0m\u001b[39m: \u001b[0m\u001b[1;39m[\u001b[0m\u001b[1;36m500\u001b[0m\u001b[39m, \u001b[0m\u001b[1;36m500\u001b[0m\u001b[1;39m]\u001b[0m\u001b[39m, \u001b[0m\u001b[32m'channel_power'\u001b[0m\u001b[39m: \u001b[0m    \u001b[2m              \u001b[0m\n",
       "\u001b[2;36m                    \u001b[0m         \u001b[1;39m[\u001b[0m\u001b[32m'50'\u001b[0m\u001b[39m, \u001b[0m\u001b[32m'50'\u001b[0m\u001b[1;39m]\u001b[0m\u001b[39m, \u001b[0m\u001b[32m'stim_exposure'\u001b[0m\u001b[39m: \u001b[0m\u001b[1;36m200\u001b[0m\u001b[39m, \u001b[0m\u001b[32m'fname'\u001b[0m\u001b[39m: \u001b[0m\u001b[32m'000_00002'\u001b[0m\u001b[39m, \u001b[0m\u001b[32m'img_type'\u001b[0m\u001b[39m: \u001b[0m  \u001b[2m              \u001b[0m\n",
       "\u001b[2;36m                    \u001b[0m         \u001b[39m<ImgType.IMG_RAW: \u001b[0m\u001b[1;36m1\u001b[0m\u001b[1m>\u001b[0m, \u001b[32m'last_channel'\u001b[0m: \u001b[3;92mTrue\u001b[0m, \u001b[32m'channel'\u001b[0m: \u001b[32m'Green'\u001b[0m\u001b[1m}\u001b[0m         \u001b[2m              \u001b[0m\n"
      ]
     },
     "metadata": {},
     "output_type": "display_data"
    },
    {
     "data": {
      "text/html": [
       "<pre style=\"white-space:pre;overflow-x:auto;line-height:normal;font-family:Menlo,'DejaVu Sans Mono',consolas,'Courier New',monospace\"><span style=\"color: #7fbfbf; text-decoration-color: #7fbfbf\">                    </span><span style=\"color: #000080; text-decoration-color: #000080\">INFO    </span> MDA Finished: <span style=\"color: #800080; text-decoration-color: #800080; font-weight: bold\">GeneratorMDASequence</span><span style=\"font-weight: bold\">()</span>                                    <a href=\"file://c:\\Users\\Niesen\\.conda\\envs\\pymmc_w_stardist\\lib\\site-packages\\pymmcore_plus\\mda\\_runner.py\" target=\"_blank\"><span style=\"color: #7f7f7f; text-decoration-color: #7f7f7f\">_runner.py</span></a><span style=\"color: #7f7f7f; text-decoration-color: #7f7f7f\">:</span><a href=\"file://c:\\Users\\Niesen\\.conda\\envs\\pymmc_w_stardist\\lib\\site-packages\\pymmcore_plus\\mda\\_runner.py#415\" target=\"_blank\"><span style=\"color: #7f7f7f; text-decoration-color: #7f7f7f\">415</span></a>\n",
       "</pre>\n"
      ],
      "text/plain": [
       "\u001b[2;36m                   \u001b[0m\u001b[2;36m \u001b[0m\u001b[34mINFO    \u001b[0m MDA Finished: \u001b[1;35mGeneratorMDASequence\u001b[0m\u001b[1m(\u001b[0m\u001b[1m)\u001b[0m                                    \u001b]8;id=76143;file://c:\\Users\\Niesen\\.conda\\envs\\pymmc_w_stardist\\lib\\site-packages\\pymmcore_plus\\mda\\_runner.py\u001b\\\u001b[2m_runner.py\u001b[0m\u001b]8;;\u001b\\\u001b[2m:\u001b[0m\u001b]8;id=295025;file://c:\\Users\\Niesen\\.conda\\envs\\pymmc_w_stardist\\lib\\site-packages\\pymmcore_plus\\mda\\_runner.py#415\u001b\\\u001b[2m415\u001b[0m\u001b]8;;\u001b\\\n"
      ]
     },
     "metadata": {},
     "output_type": "display_data"
    }
   ],
   "source": [
    "%load_ext autoreload\n",
    "%autoreload 2\n",
    "\n",
    "from add_frame import ImageProcessingPipeline\n",
    "from segmentation_stardist import SegmentatorStardist\n",
    "from stimulation import StimWholeFOV    \n",
    "from controller import Controller, Analyzer\n",
    "from tracking_trackpy import TrackerTrackpy\n",
    "from dmd import DMD\n",
    "from queue import Queue\n",
    "\n",
    "try: \n",
    "    mm_wdg._core_link.cleanup()\n",
    "except:\n",
    "    pass\n",
    "\n",
    "segmentator = SegmentatorStardist()\n",
    "stimulator = StimWholeFOV()\n",
    "tracker = TrackerTrackpy()\n",
    "dmd = DMD(mmc, DMD_CALIBRATION_PROFILE)\n",
    "\n",
    "pipeline = ImageProcessingPipeline(segmentator,stimulator,tracker)\n",
    "analyzer = Analyzer(pipeline)\n",
    "queue = Queue()\n",
    "controller = Controller(analyzer, mmc, queue, dmd)\n",
    "wl.run(wait_for_warmup=True)\n",
    "controller.run(df_acquire)\n",
    "wl.stop()"
   ]
  }
 ],
 "metadata": {
  "kernelspec": {
   "display_name": "pymmc_w_stardist",
   "language": "python",
   "name": "python3"
  },
  "language_info": {
   "codemirror_mode": {
    "name": "ipython",
    "version": 3
   },
   "file_extension": ".py",
   "mimetype": "text/x-python",
   "name": "python",
   "nbconvert_exporter": "python",
   "pygments_lexer": "ipython3",
   "version": "3.10.0"
  },
  "orig_nbformat": 4
 },
 "nbformat": 4,
 "nbformat_minor": 2
}

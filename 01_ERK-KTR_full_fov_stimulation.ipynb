{
 "cells": [
  {
   "cell_type": "markdown",
   "metadata": {},
   "source": [
    "# System Init"
   ]
  },
  {
   "cell_type": "code",
   "execution_count": 1,
   "metadata": {},
   "outputs": [],
   "source": [
    "from fov import FOV\n",
    "from useq import MDAEvent\n",
    "import pandas as pd\n",
    "import random\n",
    "import os\n",
    "import napari\n",
    "import pymmcore_plus\n",
    "from napari_micromanager import MainWindow\n",
    "\n",
    "from utils import create_folders\n",
    "from useq._mda_event import SLMImage\n",
    "\n",
    "mmc = pymmcore_plus.CMMCorePlus()\n",
    "mmc.loadSystemConfiguration(\"E:\\\\MicroManagerConfigs\\\\Ti2CicercoConfig_w_DMD_21_w_ttl.cfg\")\n",
    "mmc.mda.engine.use_hardware_sequencing = False"
   ]
  },
  {
   "cell_type": "markdown",
   "metadata": {},
   "source": [
    "### Init for Niesen"
   ]
  },
  {
   "cell_type": "code",
   "execution_count": 2,
   "metadata": {},
   "outputs": [
    {
     "data": {
      "text/html": [
       "<pre style=\"white-space:pre;overflow-x:auto;line-height:normal;font-family:Menlo,'DejaVu Sans Mono',consolas,'Courier New',monospace\"><span style=\"color: #7fbfbf; text-decoration-color: #7fbfbf\">[01/16/25 22:49:28] </span><span style=\"color: #000080; text-decoration-color: #000080\">INFO    </span> MDA Started: <span style=\"color: #800080; text-decoration-color: #800080; font-weight: bold\">GeneratorMDASequence</span><span style=\"font-weight: bold\">()</span>                                     <a href=\"file://c:\\Users\\Niesen\\.conda\\envs\\pymmc_w_stardist\\lib\\site-packages\\pymmcore_plus\\mda\\_runner.py\" target=\"_blank\"><span style=\"color: #7f7f7f; text-decoration-color: #7f7f7f\">_runner.py</span></a><span style=\"color: #7f7f7f; text-decoration-color: #7f7f7f\">:</span><a href=\"file://c:\\Users\\Niesen\\.conda\\envs\\pymmc_w_stardist\\lib\\site-packages\\pymmcore_plus\\mda\\_runner.py#328\" target=\"_blank\"><span style=\"color: #7f7f7f; text-decoration-color: #7f7f7f\">328</span></a>\n",
       "</pre>\n"
      ],
      "text/plain": [
       "\u001b[2;36m[01/16/25 22:49:28]\u001b[0m\u001b[2;36m \u001b[0m\u001b[34mINFO    \u001b[0m MDA Started: \u001b[1;35mGeneratorMDASequence\u001b[0m\u001b[1m(\u001b[0m\u001b[1m)\u001b[0m                                     \u001b]8;id=262729;file://c:\\Users\\Niesen\\.conda\\envs\\pymmc_w_stardist\\lib\\site-packages\\pymmcore_plus\\mda\\_runner.py\u001b\\\u001b[2m_runner.py\u001b[0m\u001b]8;;\u001b\\\u001b[2m:\u001b[0m\u001b]8;id=502809;file://c:\\Users\\Niesen\\.conda\\envs\\pymmc_w_stardist\\lib\\site-packages\\pymmcore_plus\\mda\\_runner.py#328\u001b\\\u001b[2m328\u001b[0m\u001b]8;;\u001b\\\n"
      ]
     },
     "metadata": {},
     "output_type": "display_data"
    },
    {
     "data": {
      "text/html": [
       "<pre style=\"white-space:pre;overflow-x:auto;line-height:normal;font-family:Menlo,'DejaVu Sans Mono',consolas,'Courier New',monospace\"><span style=\"color: #7fbfbf; text-decoration-color: #7fbfbf\">                    </span><span style=\"color: #000080; text-decoration-color: #000080\">INFO    </span> <span style=\"color: #808000; text-decoration-color: #808000\">slm_image</span>=<span style=\"color: #800080; text-decoration-color: #800080; font-weight: bold\">SLMImage</span><span style=\"font-weight: bold\">()</span>                                                    <a href=\"file://c:\\Users\\Niesen\\.conda\\envs\\pymmc_w_stardist\\lib\\site-packages\\pymmcore_plus\\mda\\_runner.py\" target=\"_blank\"><span style=\"color: #7f7f7f; text-decoration-color: #7f7f7f\">_runner.py</span></a><span style=\"color: #7f7f7f; text-decoration-color: #7f7f7f\">:</span><a href=\"file://c:\\Users\\Niesen\\.conda\\envs\\pymmc_w_stardist\\lib\\site-packages\\pymmcore_plus\\mda\\_runner.py#289\" target=\"_blank\"><span style=\"color: #7f7f7f; text-decoration-color: #7f7f7f\">289</span></a>\n",
       "</pre>\n"
      ],
      "text/plain": [
       "\u001b[2;36m                   \u001b[0m\u001b[2;36m \u001b[0m\u001b[34mINFO    \u001b[0m \u001b[33mslm_image\u001b[0m=\u001b[1;35mSLMImage\u001b[0m\u001b[1m(\u001b[0m\u001b[1m)\u001b[0m                                                    \u001b]8;id=462729;file://c:\\Users\\Niesen\\.conda\\envs\\pymmc_w_stardist\\lib\\site-packages\\pymmcore_plus\\mda\\_runner.py\u001b\\\u001b[2m_runner.py\u001b[0m\u001b]8;;\u001b\\\u001b[2m:\u001b[0m\u001b]8;id=282474;file://c:\\Users\\Niesen\\.conda\\envs\\pymmc_w_stardist\\lib\\site-packages\\pymmcore_plus\\mda\\_runner.py#289\u001b\\\u001b[2m289\u001b[0m\u001b]8;;\u001b\\\n"
      ]
     },
     "metadata": {},
     "output_type": "display_data"
    },
    {
     "data": {
      "text/html": [
       "<pre style=\"white-space:pre;overflow-x:auto;line-height:normal;font-family:Menlo,'DejaVu Sans Mono',consolas,'Courier New',monospace\"><span style=\"color: #7fbfbf; text-decoration-color: #7fbfbf\">                    </span><span style=\"color: #000080; text-decoration-color: #000080\">INFO    </span> MDA Finished: <span style=\"color: #800080; text-decoration-color: #800080; font-weight: bold\">GeneratorMDASequence</span><span style=\"font-weight: bold\">()</span>                                    <a href=\"file://c:\\Users\\Niesen\\.conda\\envs\\pymmc_w_stardist\\lib\\site-packages\\pymmcore_plus\\mda\\_runner.py\" target=\"_blank\"><span style=\"color: #7f7f7f; text-decoration-color: #7f7f7f\">_runner.py</span></a><span style=\"color: #7f7f7f; text-decoration-color: #7f7f7f\">:</span><a href=\"file://c:\\Users\\Niesen\\.conda\\envs\\pymmc_w_stardist\\lib\\site-packages\\pymmcore_plus\\mda\\_runner.py#415\" target=\"_blank\"><span style=\"color: #7f7f7f; text-decoration-color: #7f7f7f\">415</span></a>\n",
       "</pre>\n"
      ],
      "text/plain": [
       "\u001b[2;36m                   \u001b[0m\u001b[2;36m \u001b[0m\u001b[34mINFO    \u001b[0m MDA Finished: \u001b[1;35mGeneratorMDASequence\u001b[0m\u001b[1m(\u001b[0m\u001b[1m)\u001b[0m                                    \u001b]8;id=872149;file://c:\\Users\\Niesen\\.conda\\envs\\pymmc_w_stardist\\lib\\site-packages\\pymmcore_plus\\mda\\_runner.py\u001b\\\u001b[2m_runner.py\u001b[0m\u001b]8;;\u001b\\\u001b[2m:\u001b[0m\u001b]8;id=686312;file://c:\\Users\\Niesen\\.conda\\envs\\pymmc_w_stardist\\lib\\site-packages\\pymmcore_plus\\mda\\_runner.py#415\u001b\\\u001b[2m415\u001b[0m\u001b]8;;\u001b\\\n"
      ]
     },
     "metadata": {},
     "output_type": "display_data"
    }
   ],
   "source": [
    "import requests\n",
    "import threading\n",
    "import time\n",
    "class WakeUpLaser:\n",
    "    def __init__(self, lumencore_ip=\"192.168.201.200\"): \n",
    "        self.ip = lumencore_ip\n",
    "        self.last_wakeup = 0\n",
    "        self.is_running = False\n",
    "        \n",
    "    def wakeup_laser(self):\n",
    "        url = f\"http://{self.ip}/service/?command=WAKEUP\"\n",
    "        requests.get(url)\n",
    "    \n",
    "    def run(self, wait_for_warmup=False):\n",
    "        self.is_running = True\n",
    "        self.thread = threading.Thread(target=self._keep_alive)\n",
    "        self.thread.start()\n",
    "        if wait_for_warmup:\n",
    "            time.sleep(15)\n",
    "\n",
    "    def _keep_alive(self):\n",
    "        while self.is_running:\n",
    "            if time.time() - self.last_wakeup > 60:\n",
    "                self.wakeup_laser()\n",
    "                self.last_wakeup = time.time()\n",
    "            time.sleep(3)\n",
    "    def stop(self):\n",
    "        self.is_running = False\n",
    "        self.thread.join()\n",
    "        \n",
    "wl = WakeUpLaser()\n",
    "wl.wakeup_laser()\n",
    "\n",
    "\n",
    "slm_dev = mmc.getSLMDevice()\n",
    "slm_width = mmc.getSLMWidth(slm_dev)\n",
    "slm_height = mmc.getSLMHeight(slm_dev)\n",
    "\n",
    "event_slm_on = MDAEvent(slm_image=SLMImage(data=True))\n",
    "mmc.mda.run([event_slm_on])# to only have fov of DMD \n",
    "mmc.setROI(150, 150, 1900, 1900)\n",
    "\n",
    "DMD_CHANNEL_GROUP = \"WF_DMD\"\n",
    "DMD_CALIBRATION_PROFILE = {\"channel_group\": \"WF_DMD\", \"channel_config\": \"CyanStim\", \"device_name\": \"LedDMD\", \"property_name\": \"Cyan_Level\", \"power\": 100}\n",
    "mmc.setChannelGroup(channelGroup=DMD_CHANNEL_GROUP)"
   ]
  },
  {
   "cell_type": "markdown",
   "metadata": {},
   "source": [
    "### Napari Micromanger User Interface"
   ]
  },
  {
   "cell_type": "code",
   "execution_count": 3,
   "metadata": {},
   "outputs": [
    {
     "data": {
      "text/plain": [
       "<napari._qt.widgets.qt_viewer_dock_widget.QtViewerDockWidget at 0x1676bb91900>"
      ]
     },
     "execution_count": 3,
     "metadata": {},
     "output_type": "execute_result"
    }
   ],
   "source": [
    "viewer = napari.Viewer()\n",
    "mm_wdg = MainWindow(viewer)\n",
    "viewer.window.add_dock_widget(mm_wdg)"
   ]
  },
  {
   "cell_type": "code",
   "execution_count": null,
   "metadata": {},
   "outputs": [
    {
     "data": {
      "text/plain": [
       "<napari._qt.widgets.qt_viewer_dock_widget.QtViewerDockWidget at 0x1677b1beef0>"
      ]
     },
     "execution_count": 4,
     "metadata": {},
     "output_type": "execute_result"
    },
    {
     "name": "stderr",
     "output_type": "stream",
     "text": [
      "WARNING: QBasicTimer::start: QBasicTimer can only be used with threads started with QThread\n",
      "WARNING: QBasicTimer::start: QBasicTimer can only be used with threads started with QThread\n",
      "WARNING: QBasicTimer::start: QBasicTimer can only be used with threads started with QThread\n",
      "WARNING: QBasicTimer::start: QBasicTimer can only be used with threads started with QThread\n",
      "WARNING: QBasicTimer::start: QBasicTimer can only be used with threads started with QThread\n",
      "WARNING: QBasicTimer::start: QBasicTimer can only be used with threads started with QThread\n",
      "WARNING: QBasicTimer::start: QBasicTimer can only be used with threads started with QThread\n",
      "WARNING: QBasicTimer::start: QBasicTimer can only be used with threads started with QThread\n",
      "WARNING: QBasicTimer::start: QBasicTimer can only be used with threads started with QThread\n",
      "WARNING: QBasicTimer::start: QBasicTimer can only be used with threads started with QThread\n",
      "WARNING: QBasicTimer::start: QBasicTimer can only be used with threads started with QThread\n",
      "WARNING: QBasicTimer::start: QBasicTimer can only be used with threads started with QThread\n",
      "WARNING: QBasicTimer::start: QBasicTimer can only be used with threads started with QThread\n",
      "WARNING: QBasicTimer::start: QBasicTimer can only be used with threads started with QThread\n",
      "WARNING: QBasicTimer::start: QBasicTimer can only be used with threads started with QThread\n",
      "WARNING: QBasicTimer::start: QBasicTimer can only be used with threads started with QThread\n",
      "WARNING: QBasicTimer::start: QBasicTimer can only be used with threads started with QThread\n",
      "WARNING: QBasicTimer::start: QBasicTimer can only be used with threads started with QThread\n",
      "WARNING: QBasicTimer::start: QBasicTimer can only be used with threads started with QThread\n",
      "WARNING: QBasicTimer::start: QBasicTimer can only be used with threads started with QThread\n",
      "WARNING: QBasicTimer::start: QBasicTimer can only be used with threads started with QThread\n",
      "WARNING: QBasicTimer::start: QBasicTimer can only be used with threads started with QThread\n",
      "WARNING: QBasicTimer::start: QBasicTimer can only be used with threads started with QThread\n",
      "WARNING: QBasicTimer::start: QBasicTimer can only be used with threads started with QThread\n",
      "WARNING: QBasicTimer::start: QBasicTimer can only be used with threads started with QThread\n",
      "WARNING: QBasicTimer::start: QBasicTimer can only be used with threads started with QThread\n",
      "WARNING: QBasicTimer::start: QBasicTimer can only be used with threads started with QThread\n",
      "WARNING: QBasicTimer::start: QBasicTimer can only be used with threads started with QThread\n",
      "WARNING: QBasicTimer::start: QBasicTimer can only be used with threads started with QThread\n",
      "WARNING: QBasicTimer::start: QBasicTimer can only be used with threads started with QThread\n",
      "WARNING: QBasicTimer::start: QBasicTimer can only be used with threads started with QThread\n",
      "WARNING: QBasicTimer::start: QBasicTimer can only be used with threads started with QThread\n",
      "WARNING: QBasicTimer::start: QBasicTimer can only be used with threads started with QThread\n",
      "WARNING: QBasicTimer::start: QBasicTimer can only be used with threads started with QThread\n",
      "WARNING: QBasicTimer::start: QBasicTimer can only be used with threads started with QThread\n",
      "WARNING: QBasicTimer::start: QBasicTimer can only be used with threads started with QThread\n",
      "WARNING: QBasicTimer::start: QBasicTimer can only be used with threads started with QThread\n",
      "WARNING: QBasicTimer::start: QBasicTimer can only be used with threads started with QThread\n",
      "WARNING: QBasicTimer::start: QBasicTimer can only be used with threads started with QThread\n",
      "WARNING: QBasicTimer::start: QBasicTimer can only be used with threads started with QThread\n",
      "WARNING: QBasicTimer::start: QBasicTimer can only be used with threads started with QThread\n",
      "WARNING: QBasicTimer::start: QBasicTimer can only be used with threads started with QThread\n",
      "WARNING: QBasicTimer::start: QBasicTimer can only be used with threads started with QThread\n",
      "WARNING: QBasicTimer::start: QBasicTimer can only be used with threads started with QThread\n",
      "WARNING: QBasicTimer::start: QBasicTimer can only be used with threads started with QThread\n",
      "WARNING: QBasicTimer::start: QBasicTimer can only be used with threads started with QThread\n"
     ]
    }
   ],
   "source": [
    "from pymmcore_widgets.mda import MDAWidget\n",
    "mdawidget = MDAWidget(mmcore = mmc)\n",
    "viewer.window.add_dock_widget(mdawidget)"
   ]
  },
  {
   "cell_type": "code",
   "execution_count": 45,
   "metadata": {},
   "outputs": [],
   "source": [
    "mm_wdg._core_link.cleanup()"
   ]
  },
  {
   "cell_type": "code",
   "execution_count": 15,
   "metadata": {},
   "outputs": [],
   "source": [
    "from napari_micromanager._core_link import CoreViewerLink\n",
    "mm_wdg._core_link = CoreViewerLink(viewer, mmc)"
   ]
  },
  {
   "attachments": {},
   "cell_type": "markdown",
   "metadata": {},
   "source": [
    "## create a DF with all planned acquisitions and stimulations"
   ]
  },
  {
   "cell_type": "code",
   "execution_count": 6,
   "metadata": {},
   "outputs": [
    {
     "name": "stdout",
     "output_type": "stream",
     "text": [
      "Directory C:\\test\\stim already exists\n",
      "Directory C:\\test\\raw already exists\n",
      "Directory C:\\test\\labels already exists\n",
      "Directory C:\\test\\stim_mask already exists\n",
      "Directory C:\\test\\tracks already exists\n",
      "Directory C:\\test\\labels_rings already exists\n",
      "Directory C:\\test\\particles already exists\n"
     ]
    }
   ],
   "source": [
    "df_acquire = pd.DataFrame(columns=['fov', 'timestep', 'time','time_experiment', 'treatment', 'acquired','stim', 'channels', 'channel_stim'])\n",
    "\n",
    "path = \"C:\\\\test\\\\\"\n",
    "create_folders(path,['stim','raw','labels','stim_mask','tracks','labels_rings','particles'])\n",
    "\n",
    "time_between_frames = 20 #time in seconds between frames\n",
    "\n",
    "timesteps = range(3)  \n",
    "channels = ['Red', 'Green'] #channel for segmentation first\n",
    "channels_exposure = [500, 500]\n",
    "\n",
    "# take values from UI, if loaded\n",
    "intensity_red_laser = mmc.getProperty(\"Laser\", \"RED_Intensity\")\n",
    "intensity_green_laser = mmc.getProperty(\"Laser\", \"GREEN_Intensity\")\n",
    "\n",
    "if intensity_red_laser != str(0) and intensity_green_laser != str(0):\n",
    "    channels_power = [intensity_red_laser, intensity_green_laser]\n",
    "else:\n",
    "    channels_power = [48, 33]\n",
    "    for channel, power in zip(channels, channels_power):\n",
    "        mmc.setProperty(\"Laser\", f\"{channel.upper()}_Intensity\", power)\n",
    "\n",
    "cell_lines = [\"optoFGFR1\", \"optoERK1\", \"optoERK1\"]\n",
    "\n",
    "stim_exposures = [100] # list of possible exposures\n",
    "stim_timesteps = [[0]]  # list of timesteps\n",
    "stim_profiles = [{\"device_name\": \"LedDMD\", \"property_name\": \"Cyan_Level\", \"power\": 10, \"channel\": \"CyanStim\"}]\n",
    "stim_treatment = [{\"stim_property\": \"global\", \"stim_profile\": stim_profile, \"stim_exposure\": stim_exposure, \"stim_timestep\": stim_timestep} \n",
    "                  for stim_profile in stim_profiles for stim_exposure in stim_exposures for stim_timestep in stim_timesteps]\n",
    "random.shuffle(stim_treatment)\n",
    "\n",
    "\n",
    "data_mda_fovs = None"
   ]
  },
  {
   "cell_type": "markdown",
   "metadata": {},
   "source": [
    "### Load points from file"
   ]
  },
  {
   "cell_type": "code",
   "execution_count": 8,
   "metadata": {},
   "outputs": [],
   "source": [
    "import json\n",
    "file = os.path.join(path, \"test.json\")\n",
    "with open(file, \"r\") as f:\n",
    "    data_mda_fovs = json.load(f)\n"
   ]
  },
  {
   "cell_type": "markdown",
   "metadata": {},
   "source": [
    "### Using autogenerated points"
   ]
  },
  {
   "cell_type": "code",
   "execution_count": null,
   "metadata": {},
   "outputs": [],
   "source": [
    "fovs:list[FOV] = []\n",
    "if data_mda_fovs is None:\n",
    "    data_mda_fovs = mdawidget.value()\n",
    "n_fovs = len(data_mda_fovs.stage_positions)\n",
    "pts_per_well = data_mda_fovs.stage_positions.well_points_plan.num_points\n",
    "n_wells = n_fovs // pts_per_well\n",
    "\n",
    "for i, row in enumerate(data_mda_fovs.stage_positions):\n",
    "    well_column = int(row.name.split('_')[0][1:])\n",
    "    well_row = row.name.split('_')[0][0]\n",
    "    well_id = i%pts_per_well\n",
    "    cell_line = cell_lines[well_column-1]\n",
    "    fov = FOV(pos=(row.x, row.y),\n",
    "              index=i,\n",
    "              name=row.name,\n",
    "              path=path,\n",
    "              metadata={\"well_column\": well_column, \"well_row\": well_row, \"well_id\": well_id, \"cell_line\": cell_line},\n",
    "              treatment=stim_treatment[i%len(stim_treatment)],\n",
    "              )\n",
    "    fovs.append(fov)"
   ]
  },
  {
   "cell_type": "markdown",
   "metadata": {},
   "source": [
    "### Manually defined points"
   ]
  },
  {
   "cell_type": "code",
   "execution_count": 9,
   "metadata": {},
   "outputs": [],
   "source": [
    "fovs:list[FOV] = []\n",
    "if data_mda_fovs is None:\n",
    "    data_mda_fovs = mdawidget.value().stage_positions\n",
    "n_fovs = len(data_mda_fovs)\n",
    "n_fovs_per_stim_condition = 2\n",
    "stim_treatment_tot = stim_treatment * n_fovs_per_stim_condition\n",
    "random.shuffle(stim_treatment_tot)\n",
    "\n",
    "for i, row in enumerate(data_mda_fovs):\n",
    "    row = dict(row)\n",
    "    fov = FOV(pos=(row[\"x\"], row[\"y\"]),\n",
    "              index=i,\n",
    "              name=str(i),\n",
    "              path=path,\n",
    "              metadata={},\n",
    "              treatment=stim_treatment_tot[i],\n",
    "              )\n",
    "    fovs.append(fov)"
   ]
  },
  {
   "cell_type": "markdown",
   "metadata": {},
   "source": [
    "### Generate timetable"
   ]
  },
  {
   "cell_type": "code",
   "execution_count": 10,
   "metadata": {},
   "outputs": [
    {
     "name": "stdout",
     "output_type": "stream",
     "text": [
      "Total Experiment Time: 40s\n"
     ]
    },
    {
     "data": {
      "text/html": [
       "<div>\n",
       "<style scoped>\n",
       "    .dataframe tbody tr th:only-of-type {\n",
       "        vertical-align: middle;\n",
       "    }\n",
       "\n",
       "    .dataframe tbody tr th {\n",
       "        vertical-align: top;\n",
       "    }\n",
       "\n",
       "    .dataframe thead th {\n",
       "        text-align: right;\n",
       "    }\n",
       "</style>\n",
       "<table border=\"1\" class=\"dataframe\">\n",
       "  <thead>\n",
       "    <tr style=\"text-align: right;\">\n",
       "      <th></th>\n",
       "      <th>fov_object</th>\n",
       "      <th>fov</th>\n",
       "      <th>name</th>\n",
       "      <th>timestep</th>\n",
       "      <th>time</th>\n",
       "      <th>treatment</th>\n",
       "      <th>metadata</th>\n",
       "      <th>stim</th>\n",
       "      <th>channels</th>\n",
       "      <th>channels_exposure</th>\n",
       "      <th>channel_power</th>\n",
       "      <th>stim_profile</th>\n",
       "      <th>stim_exposure</th>\n",
       "      <th>fname</th>\n",
       "    </tr>\n",
       "  </thead>\n",
       "  <tbody>\n",
       "    <tr>\n",
       "      <th>0</th>\n",
       "      <td>&lt;fov.FOV object at 0x0000023856A4CC10&gt;</td>\n",
       "      <td>0</td>\n",
       "      <td>0</td>\n",
       "      <td>0</td>\n",
       "      <td>0</td>\n",
       "      <td>{'stim_property': 'global', 'stim_profile': {'...</td>\n",
       "      <td>{}</td>\n",
       "      <td>True</td>\n",
       "      <td>[Red, Green]</td>\n",
       "      <td>[500, 500]</td>\n",
       "      <td>[48, 33]</td>\n",
       "      <td>{'device_name': 'LedDMD', 'property_name': 'Cy...</td>\n",
       "      <td>100</td>\n",
       "      <td>000_00000</td>\n",
       "    </tr>\n",
       "    <tr>\n",
       "      <th>1</th>\n",
       "      <td>&lt;fov.FOV object at 0x0000023856A4CC10&gt;</td>\n",
       "      <td>0</td>\n",
       "      <td>0</td>\n",
       "      <td>1</td>\n",
       "      <td>20</td>\n",
       "      <td>{'stim_property': 'global', 'stim_profile': {'...</td>\n",
       "      <td>{}</td>\n",
       "      <td>False</td>\n",
       "      <td>[Red, Green]</td>\n",
       "      <td>[500, 500]</td>\n",
       "      <td>[48, 33]</td>\n",
       "      <td>{'device_name': 'LedDMD', 'property_name': 'Cy...</td>\n",
       "      <td>100</td>\n",
       "      <td>000_00001</td>\n",
       "    </tr>\n",
       "    <tr>\n",
       "      <th>2</th>\n",
       "      <td>&lt;fov.FOV object at 0x0000023856A4CC10&gt;</td>\n",
       "      <td>0</td>\n",
       "      <td>0</td>\n",
       "      <td>2</td>\n",
       "      <td>40</td>\n",
       "      <td>{'stim_property': 'global', 'stim_profile': {'...</td>\n",
       "      <td>{}</td>\n",
       "      <td>False</td>\n",
       "      <td>[Red, Green]</td>\n",
       "      <td>[500, 500]</td>\n",
       "      <td>[48, 33]</td>\n",
       "      <td>{'device_name': 'LedDMD', 'property_name': 'Cy...</td>\n",
       "      <td>100</td>\n",
       "      <td>000_00002</td>\n",
       "    </tr>\n",
       "  </tbody>\n",
       "</table>\n",
       "</div>"
      ],
      "text/plain": [
       "                               fov_object  fov name  timestep  time  \\\n",
       "0  <fov.FOV object at 0x0000023856A4CC10>    0    0         0     0   \n",
       "1  <fov.FOV object at 0x0000023856A4CC10>    0    0         1    20   \n",
       "2  <fov.FOV object at 0x0000023856A4CC10>    0    0         2    40   \n",
       "\n",
       "                                           treatment metadata   stim  \\\n",
       "0  {'stim_property': 'global', 'stim_profile': {'...       {}   True   \n",
       "1  {'stim_property': 'global', 'stim_profile': {'...       {}  False   \n",
       "2  {'stim_property': 'global', 'stim_profile': {'...       {}  False   \n",
       "\n",
       "       channels channels_exposure channel_power  \\\n",
       "0  [Red, Green]        [500, 500]      [48, 33]   \n",
       "1  [Red, Green]        [500, 500]      [48, 33]   \n",
       "2  [Red, Green]        [500, 500]      [48, 33]   \n",
       "\n",
       "                                        stim_profile  stim_exposure      fname  \n",
       "0  {'device_name': 'LedDMD', 'property_name': 'Cy...            100  000_00000  \n",
       "1  {'device_name': 'LedDMD', 'property_name': 'Cy...            100  000_00001  \n",
       "2  {'device_name': 'LedDMD', 'property_name': 'Cy...            100  000_00002  "
      ]
     },
     "execution_count": 10,
     "metadata": {},
     "output_type": "execute_result"
    }
   ],
   "source": [
    "time_per_fov = 10\n",
    "n_fovs_simultaneously = time_between_frames // time_per_fov\n",
    "start_time = 0\n",
    "\n",
    "dfs = []\n",
    "for fov in fovs:\n",
    "    fov_group = fov.index // n_fovs_simultaneously\n",
    "    start_time = fov_group * time_between_frames * len(timesteps)\n",
    "\n",
    "    for timestep in timesteps:\n",
    "        new_row = { 'fov_object': fov,\n",
    "                    'fov':fov.index,\n",
    "                    'name':fov.name,\n",
    "                    'timestep': timestep,\n",
    "                    'time': start_time + timestep*time_between_frames,\n",
    "                    'treatment': fov.treatment,\n",
    "                    'metadata': fov.metadata,\n",
    "                    'stim': timestep in fov.treatment['stim_timestep'],\n",
    "                    'channels': channels,\n",
    "                    'channels_exposure':channels_exposure,\n",
    "                    'channel_power': channels_power,\n",
    "                    'stim_profile' : fov.treatment['stim_profile'],\n",
    "                    'stim_exposure' : fov.treatment['stim_exposure'],\n",
    "                    'fname' : f'{str(fov.index).zfill(3)}_{str(timestep).zfill(5)}',\n",
    "                    }\n",
    "        dfs.append(new_row)\n",
    "\n",
    "df_acquire = pd.DataFrame(dfs)\n",
    "df_acquire = df_acquire.sort_values(by=['time', 'fov'])\n",
    "print(f\"Total Experiment Time: {df_acquire['time'].max()}s\")\n",
    "df_acquire\n"
   ]
  },
  {
   "attachments": {},
   "cell_type": "markdown",
   "metadata": {},
   "source": [
    "## Run on system"
   ]
  },
  {
   "cell_type": "code",
   "execution_count": 11,
   "metadata": {},
   "outputs": [
    {
     "name": "stdout",
     "output_type": "stream",
     "text": [
      "Found model '2D_versatile_fluo' for 'StarDist2D'.\n",
      "Loading network weights from 'weights_best.h5'.\n",
      "Loading thresholds from 'thresholds.json'.\n",
      "Using default values: prob_thresh=0.479071, nms_thresh=0.3.\n",
      "index={'t': 0, 'c': 0} channel=Channel(config='Red', group='WF_DMD') exposure=500.0 min_start_time=0.0 x_pos=-3047.1 y_pos=-3719.6 metadata={'fov_object': <fov.FOV object at 0x0000023856A4CC10>, 'fov': 0, 'name': '0', 'timestep': 0, 'time': 0, 'treatment': {'stim_property': 'global', 'stim_profile': {'device_name': 'LedDMD', 'property_name': 'Cyan_Level', 'power': 10, 'channel': 'CyanStim'}, 'stim_exposure': 100, 'stim_timestep': [0]}, 'metadata': {}, 'stim': True, 'channels': ['Red', 'Green'], 'channels_exposure': [500, 500], 'channel_power': ['48', '33'], 'stim_profile': {'device_name': 'LedDMD', 'property_name': 'Cyan_Level', 'power': 10, 'channel': 'CyanStim'}, 'stim_exposure': 100, 'fname': '000_00000', 'img_type': <ImgType.IMG_RAW: 1>, 'last_channel': False, 'channel': 'Red'}\n",
      "index={'t': 0, 'c': 1} channel=Channel(config='Green', group='WF_DMD') exposure=500.0 min_start_time=0.0 x_pos=-3047.1 y_pos=-3719.6 metadata={'fov_object': <fov.FOV object at 0x0000023856A4CC10>, 'fov': 0, 'name': '0', 'timestep': 0, 'time': 0, 'treatment': {'stim_property': 'global', 'stim_profile': {'device_name': 'LedDMD', 'property_name': 'Cyan_Level', 'power': 10, 'channel': 'CyanStim'}, 'stim_exposure': 100, 'stim_timestep': [0]}, 'metadata': {}, 'stim': True, 'channels': ['Red', 'Green'], 'channels_exposure': [500, 500], 'channel_power': ['48', '33'], 'stim_profile': {'device_name': 'LedDMD', 'property_name': 'Cyan_Level', 'power': 10, 'channel': 'CyanStim'}, 'stim_exposure': 100, 'fname': '000_00000', 'img_type': <ImgType.IMG_RAW: 1>, 'last_channel': True, 'channel': 'Green'}\n"
     ]
    },
    {
     "data": {
      "text/html": [
       "<pre style=\"white-space:pre;overflow-x:auto;line-height:normal;font-family:Menlo,'DejaVu Sans Mono',consolas,'Courier New',monospace\"><span style=\"color: #7fbfbf; text-decoration-color: #7fbfbf\">[01/16/25 22:51:00] </span><span style=\"color: #000080; text-decoration-color: #000080\">INFO    </span> MDA Started: <span style=\"color: #800080; text-decoration-color: #800080; font-weight: bold\">GeneratorMDASequence</span><span style=\"font-weight: bold\">()</span>                                     <a href=\"file://c:\\Users\\Niesen\\.conda\\envs\\pymmc_w_stardist\\lib\\site-packages\\pymmcore_plus\\mda\\_runner.py\" target=\"_blank\"><span style=\"color: #7f7f7f; text-decoration-color: #7f7f7f\">_runner.py</span></a><span style=\"color: #7f7f7f; text-decoration-color: #7f7f7f\">:</span><a href=\"file://c:\\Users\\Niesen\\.conda\\envs\\pymmc_w_stardist\\lib\\site-packages\\pymmcore_plus\\mda\\_runner.py#328\" target=\"_blank\"><span style=\"color: #7f7f7f; text-decoration-color: #7f7f7f\">328</span></a>\n",
       "</pre>\n"
      ],
      "text/plain": [
       "\u001b[2;36m[01/16/25 22:51:00]\u001b[0m\u001b[2;36m \u001b[0m\u001b[34mINFO    \u001b[0m MDA Started: \u001b[1;35mGeneratorMDASequence\u001b[0m\u001b[1m(\u001b[0m\u001b[1m)\u001b[0m                                     \u001b]8;id=999866;file://c:\\Users\\Niesen\\.conda\\envs\\pymmc_w_stardist\\lib\\site-packages\\pymmcore_plus\\mda\\_runner.py\u001b\\\u001b[2m_runner.py\u001b[0m\u001b]8;;\u001b\\\u001b[2m:\u001b[0m\u001b]8;id=99088;file://c:\\Users\\Niesen\\.conda\\envs\\pymmc_w_stardist\\lib\\site-packages\\pymmcore_plus\\mda\\_runner.py#328\u001b\\\u001b[2m328\u001b[0m\u001b]8;;\u001b\\\n"
      ]
     },
     "metadata": {},
     "output_type": "display_data"
    },
    {
     "data": {
      "text/html": [
       "<pre style=\"white-space:pre;overflow-x:auto;line-height:normal;font-family:Menlo,'DejaVu Sans Mono',consolas,'Courier New',monospace\"><span style=\"color: #7fbfbf; text-decoration-color: #7fbfbf\">                    </span><span style=\"color: #000080; text-decoration-color: #000080\">INFO    </span> <span style=\"color: #808000; text-decoration-color: #808000\">index</span>=<span style=\"font-weight: bold\">{</span><span style=\"color: #008000; text-decoration-color: #008000\">'t'</span>: <span style=\"color: #008080; text-decoration-color: #008080; font-weight: bold\">0</span>, <span style=\"color: #008000; text-decoration-color: #008000\">'c'</span>: <span style=\"color: #008080; text-decoration-color: #008080; font-weight: bold\">0</span><span style=\"font-weight: bold\">}</span> <span style=\"color: #808000; text-decoration-color: #808000\">channel</span>=<span style=\"color: #800080; text-decoration-color: #800080; font-weight: bold\">Channel</span><span style=\"font-weight: bold\">(</span><span style=\"color: #808000; text-decoration-color: #808000\">config</span>=<span style=\"color: #008000; text-decoration-color: #008000\">'Red'</span>, <span style=\"color: #808000; text-decoration-color: #808000\">group</span>=<span style=\"color: #008000; text-decoration-color: #008000\">'WF_DMD'</span><span style=\"font-weight: bold\">)</span>    <a href=\"file://c:\\Users\\Niesen\\.conda\\envs\\pymmc_w_stardist\\lib\\site-packages\\pymmcore_plus\\mda\\_runner.py\" target=\"_blank\"><span style=\"color: #7f7f7f; text-decoration-color: #7f7f7f\">_runner.py</span></a><span style=\"color: #7f7f7f; text-decoration-color: #7f7f7f\">:</span><a href=\"file://c:\\Users\\Niesen\\.conda\\envs\\pymmc_w_stardist\\lib\\site-packages\\pymmcore_plus\\mda\\_runner.py#289\" target=\"_blank\"><span style=\"color: #7f7f7f; text-decoration-color: #7f7f7f\">289</span></a>\n",
       "<span style=\"color: #7fbfbf; text-decoration-color: #7fbfbf\">                    </span>         <span style=\"color: #808000; text-decoration-color: #808000\">exposure</span>=<span style=\"color: #008080; text-decoration-color: #008080; font-weight: bold\">500.0</span> <span style=\"color: #808000; text-decoration-color: #808000\">min_start_time</span>=<span style=\"color: #008080; text-decoration-color: #008080; font-weight: bold\">0.0</span> <span style=\"color: #808000; text-decoration-color: #808000\">x_pos</span>=<span style=\"color: #008080; text-decoration-color: #008080; font-weight: bold\">-3047.1</span> <span style=\"color: #808000; text-decoration-color: #808000\">y_pos</span>=<span style=\"color: #008080; text-decoration-color: #008080; font-weight: bold\">-3719.6</span>           <span style=\"color: #7f7f7f; text-decoration-color: #7f7f7f\">              </span>\n",
       "<span style=\"color: #7fbfbf; text-decoration-color: #7fbfbf\">                    </span>         <span style=\"color: #808000; text-decoration-color: #808000\">metadata</span>=<span style=\"font-weight: bold\">{</span><span style=\"color: #008000; text-decoration-color: #008000\">'fov_object'</span>: <span style=\"font-weight: bold\">&lt;</span><span style=\"color: #ff00ff; text-decoration-color: #ff00ff; font-weight: bold\">fov.FOV</span><span style=\"color: #000000; text-decoration-color: #000000\"> object at </span><span style=\"color: #008080; text-decoration-color: #008080; font-weight: bold\">0x0000023856A4CC10</span><span style=\"color: #000000; text-decoration-color: #000000\">&gt;, </span><span style=\"color: #008000; text-decoration-color: #008000\">'fov'</span><span style=\"color: #000000; text-decoration-color: #000000\">: </span> <span style=\"color: #7f7f7f; text-decoration-color: #7f7f7f\">              </span>\n",
       "<span style=\"color: #7fbfbf; text-decoration-color: #7fbfbf\">                    </span>         <span style=\"color: #008080; text-decoration-color: #008080; font-weight: bold\">0</span><span style=\"color: #000000; text-decoration-color: #000000\">, </span><span style=\"color: #008000; text-decoration-color: #008000\">'name'</span><span style=\"color: #000000; text-decoration-color: #000000\">: </span><span style=\"color: #008000; text-decoration-color: #008000\">'0'</span><span style=\"color: #000000; text-decoration-color: #000000\">, </span><span style=\"color: #008000; text-decoration-color: #008000\">'timestep'</span><span style=\"color: #000000; text-decoration-color: #000000\">: </span><span style=\"color: #008080; text-decoration-color: #008080; font-weight: bold\">0</span><span style=\"color: #000000; text-decoration-color: #000000\">, </span><span style=\"color: #008000; text-decoration-color: #008000\">'time'</span><span style=\"color: #000000; text-decoration-color: #000000\">: </span><span style=\"color: #008080; text-decoration-color: #008080; font-weight: bold\">0</span><span style=\"color: #000000; text-decoration-color: #000000\">, </span><span style=\"color: #008000; text-decoration-color: #008000\">'treatment'</span><span style=\"color: #000000; text-decoration-color: #000000\">: </span>                 <span style=\"color: #7f7f7f; text-decoration-color: #7f7f7f\">              </span>\n",
       "<span style=\"color: #7fbfbf; text-decoration-color: #7fbfbf\">                    </span>         <span style=\"color: #000000; text-decoration-color: #000000; font-weight: bold\">{</span><span style=\"color: #008000; text-decoration-color: #008000\">'stim_property'</span><span style=\"color: #000000; text-decoration-color: #000000\">: </span><span style=\"color: #008000; text-decoration-color: #008000\">'global'</span><span style=\"color: #000000; text-decoration-color: #000000\">, </span><span style=\"color: #008000; text-decoration-color: #008000\">'stim_profile'</span><span style=\"color: #000000; text-decoration-color: #000000\">: </span><span style=\"color: #000000; text-decoration-color: #000000; font-weight: bold\">{</span><span style=\"color: #008000; text-decoration-color: #008000\">'device_name'</span><span style=\"color: #000000; text-decoration-color: #000000\">: </span><span style=\"color: #008000; text-decoration-color: #008000\">'LedDMD'</span><span style=\"color: #000000; text-decoration-color: #000000\">, </span>  <span style=\"color: #7f7f7f; text-decoration-color: #7f7f7f\">              </span>\n",
       "<span style=\"color: #7fbfbf; text-decoration-color: #7fbfbf\">                    </span>         <span style=\"color: #008000; text-decoration-color: #008000\">'property_name'</span><span style=\"color: #000000; text-decoration-color: #000000\">: </span><span style=\"color: #008000; text-decoration-color: #008000\">'Cyan_Level'</span><span style=\"color: #000000; text-decoration-color: #000000\">, </span><span style=\"color: #008000; text-decoration-color: #008000\">'power'</span><span style=\"color: #000000; text-decoration-color: #000000\">: </span><span style=\"color: #008080; text-decoration-color: #008080; font-weight: bold\">10</span><span style=\"color: #000000; text-decoration-color: #000000\">, </span><span style=\"color: #008000; text-decoration-color: #008000\">'channel'</span><span style=\"color: #000000; text-decoration-color: #000000\">: </span><span style=\"color: #008000; text-decoration-color: #008000\">'CyanStim'</span><span style=\"color: #000000; text-decoration-color: #000000; font-weight: bold\">}</span><span style=\"color: #000000; text-decoration-color: #000000\">, </span>    <span style=\"color: #7f7f7f; text-decoration-color: #7f7f7f\">              </span>\n",
       "<span style=\"color: #7fbfbf; text-decoration-color: #7fbfbf\">                    </span>         <span style=\"color: #008000; text-decoration-color: #008000\">'stim_exposure'</span><span style=\"color: #000000; text-decoration-color: #000000\">: </span><span style=\"color: #008080; text-decoration-color: #008080; font-weight: bold\">100</span><span style=\"color: #000000; text-decoration-color: #000000\">, </span><span style=\"color: #008000; text-decoration-color: #008000\">'stim_timestep'</span><span style=\"color: #000000; text-decoration-color: #000000\">: </span><span style=\"color: #000000; text-decoration-color: #000000; font-weight: bold\">[</span><span style=\"color: #008080; text-decoration-color: #008080; font-weight: bold\">0</span><span style=\"color: #000000; text-decoration-color: #000000; font-weight: bold\">]}</span><span style=\"color: #000000; text-decoration-color: #000000\">, </span><span style=\"color: #008000; text-decoration-color: #008000\">'metadata'</span><span style=\"color: #000000; text-decoration-color: #000000\">: </span><span style=\"color: #000000; text-decoration-color: #000000; font-weight: bold\">{}</span><span style=\"color: #000000; text-decoration-color: #000000\">, </span><span style=\"color: #008000; text-decoration-color: #008000\">'stim'</span><span style=\"color: #000000; text-decoration-color: #000000\">: </span>   <span style=\"color: #7f7f7f; text-decoration-color: #7f7f7f\">              </span>\n",
       "<span style=\"color: #7fbfbf; text-decoration-color: #7fbfbf\">                    </span>         <span style=\"color: #00ff00; text-decoration-color: #00ff00; font-style: italic\">True</span><span style=\"color: #000000; text-decoration-color: #000000\">, </span><span style=\"color: #008000; text-decoration-color: #008000\">'channels'</span><span style=\"color: #000000; text-decoration-color: #000000\">: </span><span style=\"color: #000000; text-decoration-color: #000000; font-weight: bold\">[</span><span style=\"color: #008000; text-decoration-color: #008000\">'Red'</span><span style=\"color: #000000; text-decoration-color: #000000\">, </span><span style=\"color: #008000; text-decoration-color: #008000\">'Green'</span><span style=\"color: #000000; text-decoration-color: #000000; font-weight: bold\">]</span><span style=\"color: #000000; text-decoration-color: #000000\">, </span><span style=\"color: #008000; text-decoration-color: #008000\">'channels_exposure'</span><span style=\"color: #000000; text-decoration-color: #000000\">: </span><span style=\"color: #000000; text-decoration-color: #000000; font-weight: bold\">[</span><span style=\"color: #008080; text-decoration-color: #008080; font-weight: bold\">500</span><span style=\"color: #000000; text-decoration-color: #000000\">, </span><span style=\"color: #008080; text-decoration-color: #008080; font-weight: bold\">500</span><span style=\"color: #000000; text-decoration-color: #000000; font-weight: bold\">]</span><span style=\"color: #000000; text-decoration-color: #000000\">, </span>   <span style=\"color: #7f7f7f; text-decoration-color: #7f7f7f\">              </span>\n",
       "<span style=\"color: #7fbfbf; text-decoration-color: #7fbfbf\">                    </span>         <span style=\"color: #008000; text-decoration-color: #008000\">'channel_power'</span><span style=\"color: #000000; text-decoration-color: #000000\">: </span><span style=\"color: #000000; text-decoration-color: #000000; font-weight: bold\">[</span><span style=\"color: #008000; text-decoration-color: #008000\">'48'</span><span style=\"color: #000000; text-decoration-color: #000000\">, </span><span style=\"color: #008000; text-decoration-color: #008000\">'33'</span><span style=\"color: #000000; text-decoration-color: #000000; font-weight: bold\">]</span><span style=\"color: #000000; text-decoration-color: #000000\">, </span><span style=\"color: #008000; text-decoration-color: #008000\">'stim_profile'</span><span style=\"color: #000000; text-decoration-color: #000000\">: </span><span style=\"color: #000000; text-decoration-color: #000000; font-weight: bold\">{</span><span style=\"color: #008000; text-decoration-color: #008000\">'device_name'</span><span style=\"color: #000000; text-decoration-color: #000000\">: </span>         <span style=\"color: #7f7f7f; text-decoration-color: #7f7f7f\">              </span>\n",
       "<span style=\"color: #7fbfbf; text-decoration-color: #7fbfbf\">                    </span>         <span style=\"color: #008000; text-decoration-color: #008000\">'LedDMD'</span><span style=\"color: #000000; text-decoration-color: #000000\">, </span><span style=\"color: #008000; text-decoration-color: #008000\">'property_name'</span><span style=\"color: #000000; text-decoration-color: #000000\">: </span><span style=\"color: #008000; text-decoration-color: #008000\">'Cyan_Level'</span><span style=\"color: #000000; text-decoration-color: #000000\">, </span><span style=\"color: #008000; text-decoration-color: #008000\">'power'</span><span style=\"color: #000000; text-decoration-color: #000000\">: </span><span style=\"color: #008080; text-decoration-color: #008080; font-weight: bold\">10</span><span style=\"color: #000000; text-decoration-color: #000000\">, </span><span style=\"color: #008000; text-decoration-color: #008000\">'channel'</span><span style=\"color: #000000; text-decoration-color: #000000\">: </span>       <span style=\"color: #7f7f7f; text-decoration-color: #7f7f7f\">              </span>\n",
       "<span style=\"color: #7fbfbf; text-decoration-color: #7fbfbf\">                    </span>         <span style=\"color: #008000; text-decoration-color: #008000\">'CyanStim'</span><span style=\"color: #000000; text-decoration-color: #000000; font-weight: bold\">}</span><span style=\"color: #000000; text-decoration-color: #000000\">, </span><span style=\"color: #008000; text-decoration-color: #008000\">'stim_exposure'</span><span style=\"color: #000000; text-decoration-color: #000000\">: </span><span style=\"color: #008080; text-decoration-color: #008080; font-weight: bold\">100</span><span style=\"color: #000000; text-decoration-color: #000000\">, </span><span style=\"color: #008000; text-decoration-color: #008000\">'fname'</span><span style=\"color: #000000; text-decoration-color: #000000\">: </span><span style=\"color: #008000; text-decoration-color: #008000\">'000_00000'</span><span style=\"color: #000000; text-decoration-color: #000000\">, </span><span style=\"color: #008000; text-decoration-color: #008000\">'img_type'</span><span style=\"color: #000000; text-decoration-color: #000000\">: </span>   <span style=\"color: #7f7f7f; text-decoration-color: #7f7f7f\">              </span>\n",
       "<span style=\"color: #7fbfbf; text-decoration-color: #7fbfbf\">                    </span>         <span style=\"color: #000000; text-decoration-color: #000000\">&lt;ImgType.IMG_RAW: </span><span style=\"color: #008080; text-decoration-color: #008080; font-weight: bold\">1</span><span style=\"font-weight: bold\">&gt;</span>, <span style=\"color: #008000; text-decoration-color: #008000\">'last_channel'</span>: <span style=\"color: #ff0000; text-decoration-color: #ff0000; font-style: italic\">False</span>, <span style=\"color: #008000; text-decoration-color: #008000\">'channel'</span>: <span style=\"color: #008000; text-decoration-color: #008000\">'Red'</span><span style=\"font-weight: bold\">}</span>          <span style=\"color: #7f7f7f; text-decoration-color: #7f7f7f\">              </span>\n",
       "</pre>\n"
      ],
      "text/plain": [
       "\u001b[2;36m                   \u001b[0m\u001b[2;36m \u001b[0m\u001b[34mINFO    \u001b[0m \u001b[33mindex\u001b[0m=\u001b[1m{\u001b[0m\u001b[32m't'\u001b[0m: \u001b[1;36m0\u001b[0m, \u001b[32m'c'\u001b[0m: \u001b[1;36m0\u001b[0m\u001b[1m}\u001b[0m \u001b[33mchannel\u001b[0m=\u001b[1;35mChannel\u001b[0m\u001b[1m(\u001b[0m\u001b[33mconfig\u001b[0m=\u001b[32m'Red'\u001b[0m, \u001b[33mgroup\u001b[0m=\u001b[32m'WF_DMD'\u001b[0m\u001b[1m)\u001b[0m    \u001b]8;id=739031;file://c:\\Users\\Niesen\\.conda\\envs\\pymmc_w_stardist\\lib\\site-packages\\pymmcore_plus\\mda\\_runner.py\u001b\\\u001b[2m_runner.py\u001b[0m\u001b]8;;\u001b\\\u001b[2m:\u001b[0m\u001b]8;id=666551;file://c:\\Users\\Niesen\\.conda\\envs\\pymmc_w_stardist\\lib\\site-packages\\pymmcore_plus\\mda\\_runner.py#289\u001b\\\u001b[2m289\u001b[0m\u001b]8;;\u001b\\\n",
       "\u001b[2;36m                    \u001b[0m         \u001b[33mexposure\u001b[0m=\u001b[1;36m500\u001b[0m\u001b[1;36m.0\u001b[0m \u001b[33mmin_start_time\u001b[0m=\u001b[1;36m0\u001b[0m\u001b[1;36m.0\u001b[0m \u001b[33mx_pos\u001b[0m=\u001b[1;36m-3047.1\u001b[0m \u001b[33my_pos\u001b[0m=\u001b[1;36m-3719.6\u001b[0m           \u001b[2m              \u001b[0m\n",
       "\u001b[2;36m                    \u001b[0m         \u001b[33mmetadata\u001b[0m=\u001b[1m{\u001b[0m\u001b[32m'fov_object'\u001b[0m: \u001b[1m<\u001b[0m\u001b[1;95mfov.FOV\u001b[0m\u001b[39m object at \u001b[0m\u001b[1;36m0x0000023856A4CC10\u001b[0m\u001b[39m>, \u001b[0m\u001b[32m'fov'\u001b[0m\u001b[39m: \u001b[0m \u001b[2m              \u001b[0m\n",
       "\u001b[2;36m                    \u001b[0m         \u001b[1;36m0\u001b[0m\u001b[39m, \u001b[0m\u001b[32m'name'\u001b[0m\u001b[39m: \u001b[0m\u001b[32m'0'\u001b[0m\u001b[39m, \u001b[0m\u001b[32m'timestep'\u001b[0m\u001b[39m: \u001b[0m\u001b[1;36m0\u001b[0m\u001b[39m, \u001b[0m\u001b[32m'time'\u001b[0m\u001b[39m: \u001b[0m\u001b[1;36m0\u001b[0m\u001b[39m, \u001b[0m\u001b[32m'treatment'\u001b[0m\u001b[39m: \u001b[0m                 \u001b[2m              \u001b[0m\n",
       "\u001b[2;36m                    \u001b[0m         \u001b[1;39m{\u001b[0m\u001b[32m'stim_property'\u001b[0m\u001b[39m: \u001b[0m\u001b[32m'global'\u001b[0m\u001b[39m, \u001b[0m\u001b[32m'stim_profile'\u001b[0m\u001b[39m: \u001b[0m\u001b[1;39m{\u001b[0m\u001b[32m'device_name'\u001b[0m\u001b[39m: \u001b[0m\u001b[32m'LedDMD'\u001b[0m\u001b[39m, \u001b[0m  \u001b[2m              \u001b[0m\n",
       "\u001b[2;36m                    \u001b[0m         \u001b[32m'property_name'\u001b[0m\u001b[39m: \u001b[0m\u001b[32m'Cyan_Level'\u001b[0m\u001b[39m, \u001b[0m\u001b[32m'power'\u001b[0m\u001b[39m: \u001b[0m\u001b[1;36m10\u001b[0m\u001b[39m, \u001b[0m\u001b[32m'channel'\u001b[0m\u001b[39m: \u001b[0m\u001b[32m'CyanStim'\u001b[0m\u001b[1;39m}\u001b[0m\u001b[39m, \u001b[0m    \u001b[2m              \u001b[0m\n",
       "\u001b[2;36m                    \u001b[0m         \u001b[32m'stim_exposure'\u001b[0m\u001b[39m: \u001b[0m\u001b[1;36m100\u001b[0m\u001b[39m, \u001b[0m\u001b[32m'stim_timestep'\u001b[0m\u001b[39m: \u001b[0m\u001b[1;39m[\u001b[0m\u001b[1;36m0\u001b[0m\u001b[1;39m]\u001b[0m\u001b[1;39m}\u001b[0m\u001b[39m, \u001b[0m\u001b[32m'metadata'\u001b[0m\u001b[39m: \u001b[0m\u001b[1;39m{\u001b[0m\u001b[1;39m}\u001b[0m\u001b[39m, \u001b[0m\u001b[32m'stim'\u001b[0m\u001b[39m: \u001b[0m   \u001b[2m              \u001b[0m\n",
       "\u001b[2;36m                    \u001b[0m         \u001b[3;92mTrue\u001b[0m\u001b[39m, \u001b[0m\u001b[32m'channels'\u001b[0m\u001b[39m: \u001b[0m\u001b[1;39m[\u001b[0m\u001b[32m'Red'\u001b[0m\u001b[39m, \u001b[0m\u001b[32m'Green'\u001b[0m\u001b[1;39m]\u001b[0m\u001b[39m, \u001b[0m\u001b[32m'channels_exposure'\u001b[0m\u001b[39m: \u001b[0m\u001b[1;39m[\u001b[0m\u001b[1;36m500\u001b[0m\u001b[39m, \u001b[0m\u001b[1;36m500\u001b[0m\u001b[1;39m]\u001b[0m\u001b[39m, \u001b[0m   \u001b[2m              \u001b[0m\n",
       "\u001b[2;36m                    \u001b[0m         \u001b[32m'channel_power'\u001b[0m\u001b[39m: \u001b[0m\u001b[1;39m[\u001b[0m\u001b[32m'48'\u001b[0m\u001b[39m, \u001b[0m\u001b[32m'33'\u001b[0m\u001b[1;39m]\u001b[0m\u001b[39m, \u001b[0m\u001b[32m'stim_profile'\u001b[0m\u001b[39m: \u001b[0m\u001b[1;39m{\u001b[0m\u001b[32m'device_name'\u001b[0m\u001b[39m: \u001b[0m         \u001b[2m              \u001b[0m\n",
       "\u001b[2;36m                    \u001b[0m         \u001b[32m'LedDMD'\u001b[0m\u001b[39m, \u001b[0m\u001b[32m'property_name'\u001b[0m\u001b[39m: \u001b[0m\u001b[32m'Cyan_Level'\u001b[0m\u001b[39m, \u001b[0m\u001b[32m'power'\u001b[0m\u001b[39m: \u001b[0m\u001b[1;36m10\u001b[0m\u001b[39m, \u001b[0m\u001b[32m'channel'\u001b[0m\u001b[39m: \u001b[0m       \u001b[2m              \u001b[0m\n",
       "\u001b[2;36m                    \u001b[0m         \u001b[32m'CyanStim'\u001b[0m\u001b[1;39m}\u001b[0m\u001b[39m, \u001b[0m\u001b[32m'stim_exposure'\u001b[0m\u001b[39m: \u001b[0m\u001b[1;36m100\u001b[0m\u001b[39m, \u001b[0m\u001b[32m'fname'\u001b[0m\u001b[39m: \u001b[0m\u001b[32m'000_00000'\u001b[0m\u001b[39m, \u001b[0m\u001b[32m'img_type'\u001b[0m\u001b[39m: \u001b[0m   \u001b[2m              \u001b[0m\n",
       "\u001b[2;36m                    \u001b[0m         \u001b[39m<ImgType.IMG_RAW: \u001b[0m\u001b[1;36m1\u001b[0m\u001b[1m>\u001b[0m, \u001b[32m'last_channel'\u001b[0m: \u001b[3;91mFalse\u001b[0m, \u001b[32m'channel'\u001b[0m: \u001b[32m'Red'\u001b[0m\u001b[1m}\u001b[0m          \u001b[2m              \u001b[0m\n"
      ]
     },
     "metadata": {},
     "output_type": "display_data"
    },
    {
     "name": "stdout",
     "output_type": "stream",
     "text": [
      "New frame ready\n"
     ]
    },
    {
     "data": {
      "text/html": [
       "<pre style=\"white-space:pre;overflow-x:auto;line-height:normal;font-family:Menlo,'DejaVu Sans Mono',consolas,'Courier New',monospace\"><span style=\"color: #7fbfbf; text-decoration-color: #7fbfbf\">[01/16/25 22:51:01] </span><span style=\"color: #000080; text-decoration-color: #000080\">INFO    </span> <span style=\"color: #808000; text-decoration-color: #808000\">index</span>=<span style=\"font-weight: bold\">{</span><span style=\"color: #008000; text-decoration-color: #008000\">'t'</span>: <span style=\"color: #008080; text-decoration-color: #008080; font-weight: bold\">0</span>, <span style=\"color: #008000; text-decoration-color: #008000\">'c'</span>: <span style=\"color: #008080; text-decoration-color: #008080; font-weight: bold\">1</span><span style=\"font-weight: bold\">}</span> <span style=\"color: #808000; text-decoration-color: #808000\">channel</span>=<span style=\"color: #800080; text-decoration-color: #800080; font-weight: bold\">Channel</span><span style=\"font-weight: bold\">(</span><span style=\"color: #808000; text-decoration-color: #808000\">config</span>=<span style=\"color: #008000; text-decoration-color: #008000\">'Green'</span>, <span style=\"color: #808000; text-decoration-color: #808000\">group</span>=<span style=\"color: #008000; text-decoration-color: #008000\">'WF_DMD'</span><span style=\"font-weight: bold\">)</span>  <a href=\"file://c:\\Users\\Niesen\\.conda\\envs\\pymmc_w_stardist\\lib\\site-packages\\pymmcore_plus\\mda\\_runner.py\" target=\"_blank\"><span style=\"color: #7f7f7f; text-decoration-color: #7f7f7f\">_runner.py</span></a><span style=\"color: #7f7f7f; text-decoration-color: #7f7f7f\">:</span><a href=\"file://c:\\Users\\Niesen\\.conda\\envs\\pymmc_w_stardist\\lib\\site-packages\\pymmcore_plus\\mda\\_runner.py#289\" target=\"_blank\"><span style=\"color: #7f7f7f; text-decoration-color: #7f7f7f\">289</span></a>\n",
       "<span style=\"color: #7fbfbf; text-decoration-color: #7fbfbf\">                    </span>         <span style=\"color: #808000; text-decoration-color: #808000\">exposure</span>=<span style=\"color: #008080; text-decoration-color: #008080; font-weight: bold\">500.0</span> <span style=\"color: #808000; text-decoration-color: #808000\">min_start_time</span>=<span style=\"color: #008080; text-decoration-color: #008080; font-weight: bold\">0.0</span> <span style=\"color: #808000; text-decoration-color: #808000\">x_pos</span>=<span style=\"color: #008080; text-decoration-color: #008080; font-weight: bold\">-3047.1</span> <span style=\"color: #808000; text-decoration-color: #808000\">y_pos</span>=<span style=\"color: #008080; text-decoration-color: #008080; font-weight: bold\">-3719.6</span>           <span style=\"color: #7f7f7f; text-decoration-color: #7f7f7f\">              </span>\n",
       "<span style=\"color: #7fbfbf; text-decoration-color: #7fbfbf\">                    </span>         <span style=\"color: #808000; text-decoration-color: #808000\">metadata</span>=<span style=\"font-weight: bold\">{</span><span style=\"color: #008000; text-decoration-color: #008000\">'fov_object'</span>: <span style=\"font-weight: bold\">&lt;</span><span style=\"color: #ff00ff; text-decoration-color: #ff00ff; font-weight: bold\">fov.FOV</span><span style=\"color: #000000; text-decoration-color: #000000\"> object at </span><span style=\"color: #008080; text-decoration-color: #008080; font-weight: bold\">0x0000023856A4CC10</span><span style=\"color: #000000; text-decoration-color: #000000\">&gt;, </span><span style=\"color: #008000; text-decoration-color: #008000\">'fov'</span><span style=\"color: #000000; text-decoration-color: #000000\">: </span> <span style=\"color: #7f7f7f; text-decoration-color: #7f7f7f\">              </span>\n",
       "<span style=\"color: #7fbfbf; text-decoration-color: #7fbfbf\">                    </span>         <span style=\"color: #008080; text-decoration-color: #008080; font-weight: bold\">0</span><span style=\"color: #000000; text-decoration-color: #000000\">, </span><span style=\"color: #008000; text-decoration-color: #008000\">'name'</span><span style=\"color: #000000; text-decoration-color: #000000\">: </span><span style=\"color: #008000; text-decoration-color: #008000\">'0'</span><span style=\"color: #000000; text-decoration-color: #000000\">, </span><span style=\"color: #008000; text-decoration-color: #008000\">'timestep'</span><span style=\"color: #000000; text-decoration-color: #000000\">: </span><span style=\"color: #008080; text-decoration-color: #008080; font-weight: bold\">0</span><span style=\"color: #000000; text-decoration-color: #000000\">, </span><span style=\"color: #008000; text-decoration-color: #008000\">'time'</span><span style=\"color: #000000; text-decoration-color: #000000\">: </span><span style=\"color: #008080; text-decoration-color: #008080; font-weight: bold\">0</span><span style=\"color: #000000; text-decoration-color: #000000\">, </span><span style=\"color: #008000; text-decoration-color: #008000\">'treatment'</span><span style=\"color: #000000; text-decoration-color: #000000\">: </span>                 <span style=\"color: #7f7f7f; text-decoration-color: #7f7f7f\">              </span>\n",
       "<span style=\"color: #7fbfbf; text-decoration-color: #7fbfbf\">                    </span>         <span style=\"color: #000000; text-decoration-color: #000000; font-weight: bold\">{</span><span style=\"color: #008000; text-decoration-color: #008000\">'stim_property'</span><span style=\"color: #000000; text-decoration-color: #000000\">: </span><span style=\"color: #008000; text-decoration-color: #008000\">'global'</span><span style=\"color: #000000; text-decoration-color: #000000\">, </span><span style=\"color: #008000; text-decoration-color: #008000\">'stim_profile'</span><span style=\"color: #000000; text-decoration-color: #000000\">: </span><span style=\"color: #000000; text-decoration-color: #000000; font-weight: bold\">{</span><span style=\"color: #008000; text-decoration-color: #008000\">'device_name'</span><span style=\"color: #000000; text-decoration-color: #000000\">: </span><span style=\"color: #008000; text-decoration-color: #008000\">'LedDMD'</span><span style=\"color: #000000; text-decoration-color: #000000\">, </span>  <span style=\"color: #7f7f7f; text-decoration-color: #7f7f7f\">              </span>\n",
       "<span style=\"color: #7fbfbf; text-decoration-color: #7fbfbf\">                    </span>         <span style=\"color: #008000; text-decoration-color: #008000\">'property_name'</span><span style=\"color: #000000; text-decoration-color: #000000\">: </span><span style=\"color: #008000; text-decoration-color: #008000\">'Cyan_Level'</span><span style=\"color: #000000; text-decoration-color: #000000\">, </span><span style=\"color: #008000; text-decoration-color: #008000\">'power'</span><span style=\"color: #000000; text-decoration-color: #000000\">: </span><span style=\"color: #008080; text-decoration-color: #008080; font-weight: bold\">10</span><span style=\"color: #000000; text-decoration-color: #000000\">, </span><span style=\"color: #008000; text-decoration-color: #008000\">'channel'</span><span style=\"color: #000000; text-decoration-color: #000000\">: </span><span style=\"color: #008000; text-decoration-color: #008000\">'CyanStim'</span><span style=\"color: #000000; text-decoration-color: #000000; font-weight: bold\">}</span><span style=\"color: #000000; text-decoration-color: #000000\">, </span>    <span style=\"color: #7f7f7f; text-decoration-color: #7f7f7f\">              </span>\n",
       "<span style=\"color: #7fbfbf; text-decoration-color: #7fbfbf\">                    </span>         <span style=\"color: #008000; text-decoration-color: #008000\">'stim_exposure'</span><span style=\"color: #000000; text-decoration-color: #000000\">: </span><span style=\"color: #008080; text-decoration-color: #008080; font-weight: bold\">100</span><span style=\"color: #000000; text-decoration-color: #000000\">, </span><span style=\"color: #008000; text-decoration-color: #008000\">'stim_timestep'</span><span style=\"color: #000000; text-decoration-color: #000000\">: </span><span style=\"color: #000000; text-decoration-color: #000000; font-weight: bold\">[</span><span style=\"color: #008080; text-decoration-color: #008080; font-weight: bold\">0</span><span style=\"color: #000000; text-decoration-color: #000000; font-weight: bold\">]}</span><span style=\"color: #000000; text-decoration-color: #000000\">, </span><span style=\"color: #008000; text-decoration-color: #008000\">'metadata'</span><span style=\"color: #000000; text-decoration-color: #000000\">: </span><span style=\"color: #000000; text-decoration-color: #000000; font-weight: bold\">{}</span><span style=\"color: #000000; text-decoration-color: #000000\">, </span><span style=\"color: #008000; text-decoration-color: #008000\">'stim'</span><span style=\"color: #000000; text-decoration-color: #000000\">: </span>   <span style=\"color: #7f7f7f; text-decoration-color: #7f7f7f\">              </span>\n",
       "<span style=\"color: #7fbfbf; text-decoration-color: #7fbfbf\">                    </span>         <span style=\"color: #00ff00; text-decoration-color: #00ff00; font-style: italic\">True</span><span style=\"color: #000000; text-decoration-color: #000000\">, </span><span style=\"color: #008000; text-decoration-color: #008000\">'channels'</span><span style=\"color: #000000; text-decoration-color: #000000\">: </span><span style=\"color: #000000; text-decoration-color: #000000; font-weight: bold\">[</span><span style=\"color: #008000; text-decoration-color: #008000\">'Red'</span><span style=\"color: #000000; text-decoration-color: #000000\">, </span><span style=\"color: #008000; text-decoration-color: #008000\">'Green'</span><span style=\"color: #000000; text-decoration-color: #000000; font-weight: bold\">]</span><span style=\"color: #000000; text-decoration-color: #000000\">, </span><span style=\"color: #008000; text-decoration-color: #008000\">'channels_exposure'</span><span style=\"color: #000000; text-decoration-color: #000000\">: </span><span style=\"color: #000000; text-decoration-color: #000000; font-weight: bold\">[</span><span style=\"color: #008080; text-decoration-color: #008080; font-weight: bold\">500</span><span style=\"color: #000000; text-decoration-color: #000000\">, </span><span style=\"color: #008080; text-decoration-color: #008080; font-weight: bold\">500</span><span style=\"color: #000000; text-decoration-color: #000000; font-weight: bold\">]</span><span style=\"color: #000000; text-decoration-color: #000000\">, </span>   <span style=\"color: #7f7f7f; text-decoration-color: #7f7f7f\">              </span>\n",
       "<span style=\"color: #7fbfbf; text-decoration-color: #7fbfbf\">                    </span>         <span style=\"color: #008000; text-decoration-color: #008000\">'channel_power'</span><span style=\"color: #000000; text-decoration-color: #000000\">: </span><span style=\"color: #000000; text-decoration-color: #000000; font-weight: bold\">[</span><span style=\"color: #008000; text-decoration-color: #008000\">'48'</span><span style=\"color: #000000; text-decoration-color: #000000\">, </span><span style=\"color: #008000; text-decoration-color: #008000\">'33'</span><span style=\"color: #000000; text-decoration-color: #000000; font-weight: bold\">]</span><span style=\"color: #000000; text-decoration-color: #000000\">, </span><span style=\"color: #008000; text-decoration-color: #008000\">'stim_profile'</span><span style=\"color: #000000; text-decoration-color: #000000\">: </span><span style=\"color: #000000; text-decoration-color: #000000; font-weight: bold\">{</span><span style=\"color: #008000; text-decoration-color: #008000\">'device_name'</span><span style=\"color: #000000; text-decoration-color: #000000\">: </span>         <span style=\"color: #7f7f7f; text-decoration-color: #7f7f7f\">              </span>\n",
       "<span style=\"color: #7fbfbf; text-decoration-color: #7fbfbf\">                    </span>         <span style=\"color: #008000; text-decoration-color: #008000\">'LedDMD'</span><span style=\"color: #000000; text-decoration-color: #000000\">, </span><span style=\"color: #008000; text-decoration-color: #008000\">'property_name'</span><span style=\"color: #000000; text-decoration-color: #000000\">: </span><span style=\"color: #008000; text-decoration-color: #008000\">'Cyan_Level'</span><span style=\"color: #000000; text-decoration-color: #000000\">, </span><span style=\"color: #008000; text-decoration-color: #008000\">'power'</span><span style=\"color: #000000; text-decoration-color: #000000\">: </span><span style=\"color: #008080; text-decoration-color: #008080; font-weight: bold\">10</span><span style=\"color: #000000; text-decoration-color: #000000\">, </span><span style=\"color: #008000; text-decoration-color: #008000\">'channel'</span><span style=\"color: #000000; text-decoration-color: #000000\">: </span>       <span style=\"color: #7f7f7f; text-decoration-color: #7f7f7f\">              </span>\n",
       "<span style=\"color: #7fbfbf; text-decoration-color: #7fbfbf\">                    </span>         <span style=\"color: #008000; text-decoration-color: #008000\">'CyanStim'</span><span style=\"color: #000000; text-decoration-color: #000000; font-weight: bold\">}</span><span style=\"color: #000000; text-decoration-color: #000000\">, </span><span style=\"color: #008000; text-decoration-color: #008000\">'stim_exposure'</span><span style=\"color: #000000; text-decoration-color: #000000\">: </span><span style=\"color: #008080; text-decoration-color: #008080; font-weight: bold\">100</span><span style=\"color: #000000; text-decoration-color: #000000\">, </span><span style=\"color: #008000; text-decoration-color: #008000\">'fname'</span><span style=\"color: #000000; text-decoration-color: #000000\">: </span><span style=\"color: #008000; text-decoration-color: #008000\">'000_00000'</span><span style=\"color: #000000; text-decoration-color: #000000\">, </span><span style=\"color: #008000; text-decoration-color: #008000\">'img_type'</span><span style=\"color: #000000; text-decoration-color: #000000\">: </span>   <span style=\"color: #7f7f7f; text-decoration-color: #7f7f7f\">              </span>\n",
       "<span style=\"color: #7fbfbf; text-decoration-color: #7fbfbf\">                    </span>         <span style=\"color: #000000; text-decoration-color: #000000\">&lt;ImgType.IMG_RAW: </span><span style=\"color: #008080; text-decoration-color: #008080; font-weight: bold\">1</span><span style=\"font-weight: bold\">&gt;</span>, <span style=\"color: #008000; text-decoration-color: #008000\">'last_channel'</span>: <span style=\"color: #00ff00; text-decoration-color: #00ff00; font-style: italic\">True</span>, <span style=\"color: #008000; text-decoration-color: #008000\">'channel'</span>: <span style=\"color: #008000; text-decoration-color: #008000\">'Green'</span><span style=\"font-weight: bold\">}</span>         <span style=\"color: #7f7f7f; text-decoration-color: #7f7f7f\">              </span>\n",
       "</pre>\n"
      ],
      "text/plain": [
       "\u001b[2;36m[01/16/25 22:51:01]\u001b[0m\u001b[2;36m \u001b[0m\u001b[34mINFO    \u001b[0m \u001b[33mindex\u001b[0m=\u001b[1m{\u001b[0m\u001b[32m't'\u001b[0m: \u001b[1;36m0\u001b[0m, \u001b[32m'c'\u001b[0m: \u001b[1;36m1\u001b[0m\u001b[1m}\u001b[0m \u001b[33mchannel\u001b[0m=\u001b[1;35mChannel\u001b[0m\u001b[1m(\u001b[0m\u001b[33mconfig\u001b[0m=\u001b[32m'Green'\u001b[0m, \u001b[33mgroup\u001b[0m=\u001b[32m'WF_DMD'\u001b[0m\u001b[1m)\u001b[0m  \u001b]8;id=453383;file://c:\\Users\\Niesen\\.conda\\envs\\pymmc_w_stardist\\lib\\site-packages\\pymmcore_plus\\mda\\_runner.py\u001b\\\u001b[2m_runner.py\u001b[0m\u001b]8;;\u001b\\\u001b[2m:\u001b[0m\u001b]8;id=487182;file://c:\\Users\\Niesen\\.conda\\envs\\pymmc_w_stardist\\lib\\site-packages\\pymmcore_plus\\mda\\_runner.py#289\u001b\\\u001b[2m289\u001b[0m\u001b]8;;\u001b\\\n",
       "\u001b[2;36m                    \u001b[0m         \u001b[33mexposure\u001b[0m=\u001b[1;36m500\u001b[0m\u001b[1;36m.0\u001b[0m \u001b[33mmin_start_time\u001b[0m=\u001b[1;36m0\u001b[0m\u001b[1;36m.0\u001b[0m \u001b[33mx_pos\u001b[0m=\u001b[1;36m-3047.1\u001b[0m \u001b[33my_pos\u001b[0m=\u001b[1;36m-3719.6\u001b[0m           \u001b[2m              \u001b[0m\n",
       "\u001b[2;36m                    \u001b[0m         \u001b[33mmetadata\u001b[0m=\u001b[1m{\u001b[0m\u001b[32m'fov_object'\u001b[0m: \u001b[1m<\u001b[0m\u001b[1;95mfov.FOV\u001b[0m\u001b[39m object at \u001b[0m\u001b[1;36m0x0000023856A4CC10\u001b[0m\u001b[39m>, \u001b[0m\u001b[32m'fov'\u001b[0m\u001b[39m: \u001b[0m \u001b[2m              \u001b[0m\n",
       "\u001b[2;36m                    \u001b[0m         \u001b[1;36m0\u001b[0m\u001b[39m, \u001b[0m\u001b[32m'name'\u001b[0m\u001b[39m: \u001b[0m\u001b[32m'0'\u001b[0m\u001b[39m, \u001b[0m\u001b[32m'timestep'\u001b[0m\u001b[39m: \u001b[0m\u001b[1;36m0\u001b[0m\u001b[39m, \u001b[0m\u001b[32m'time'\u001b[0m\u001b[39m: \u001b[0m\u001b[1;36m0\u001b[0m\u001b[39m, \u001b[0m\u001b[32m'treatment'\u001b[0m\u001b[39m: \u001b[0m                 \u001b[2m              \u001b[0m\n",
       "\u001b[2;36m                    \u001b[0m         \u001b[1;39m{\u001b[0m\u001b[32m'stim_property'\u001b[0m\u001b[39m: \u001b[0m\u001b[32m'global'\u001b[0m\u001b[39m, \u001b[0m\u001b[32m'stim_profile'\u001b[0m\u001b[39m: \u001b[0m\u001b[1;39m{\u001b[0m\u001b[32m'device_name'\u001b[0m\u001b[39m: \u001b[0m\u001b[32m'LedDMD'\u001b[0m\u001b[39m, \u001b[0m  \u001b[2m              \u001b[0m\n",
       "\u001b[2;36m                    \u001b[0m         \u001b[32m'property_name'\u001b[0m\u001b[39m: \u001b[0m\u001b[32m'Cyan_Level'\u001b[0m\u001b[39m, \u001b[0m\u001b[32m'power'\u001b[0m\u001b[39m: \u001b[0m\u001b[1;36m10\u001b[0m\u001b[39m, \u001b[0m\u001b[32m'channel'\u001b[0m\u001b[39m: \u001b[0m\u001b[32m'CyanStim'\u001b[0m\u001b[1;39m}\u001b[0m\u001b[39m, \u001b[0m    \u001b[2m              \u001b[0m\n",
       "\u001b[2;36m                    \u001b[0m         \u001b[32m'stim_exposure'\u001b[0m\u001b[39m: \u001b[0m\u001b[1;36m100\u001b[0m\u001b[39m, \u001b[0m\u001b[32m'stim_timestep'\u001b[0m\u001b[39m: \u001b[0m\u001b[1;39m[\u001b[0m\u001b[1;36m0\u001b[0m\u001b[1;39m]\u001b[0m\u001b[1;39m}\u001b[0m\u001b[39m, \u001b[0m\u001b[32m'metadata'\u001b[0m\u001b[39m: \u001b[0m\u001b[1;39m{\u001b[0m\u001b[1;39m}\u001b[0m\u001b[39m, \u001b[0m\u001b[32m'stim'\u001b[0m\u001b[39m: \u001b[0m   \u001b[2m              \u001b[0m\n",
       "\u001b[2;36m                    \u001b[0m         \u001b[3;92mTrue\u001b[0m\u001b[39m, \u001b[0m\u001b[32m'channels'\u001b[0m\u001b[39m: \u001b[0m\u001b[1;39m[\u001b[0m\u001b[32m'Red'\u001b[0m\u001b[39m, \u001b[0m\u001b[32m'Green'\u001b[0m\u001b[1;39m]\u001b[0m\u001b[39m, \u001b[0m\u001b[32m'channels_exposure'\u001b[0m\u001b[39m: \u001b[0m\u001b[1;39m[\u001b[0m\u001b[1;36m500\u001b[0m\u001b[39m, \u001b[0m\u001b[1;36m500\u001b[0m\u001b[1;39m]\u001b[0m\u001b[39m, \u001b[0m   \u001b[2m              \u001b[0m\n",
       "\u001b[2;36m                    \u001b[0m         \u001b[32m'channel_power'\u001b[0m\u001b[39m: \u001b[0m\u001b[1;39m[\u001b[0m\u001b[32m'48'\u001b[0m\u001b[39m, \u001b[0m\u001b[32m'33'\u001b[0m\u001b[1;39m]\u001b[0m\u001b[39m, \u001b[0m\u001b[32m'stim_profile'\u001b[0m\u001b[39m: \u001b[0m\u001b[1;39m{\u001b[0m\u001b[32m'device_name'\u001b[0m\u001b[39m: \u001b[0m         \u001b[2m              \u001b[0m\n",
       "\u001b[2;36m                    \u001b[0m         \u001b[32m'LedDMD'\u001b[0m\u001b[39m, \u001b[0m\u001b[32m'property_name'\u001b[0m\u001b[39m: \u001b[0m\u001b[32m'Cyan_Level'\u001b[0m\u001b[39m, \u001b[0m\u001b[32m'power'\u001b[0m\u001b[39m: \u001b[0m\u001b[1;36m10\u001b[0m\u001b[39m, \u001b[0m\u001b[32m'channel'\u001b[0m\u001b[39m: \u001b[0m       \u001b[2m              \u001b[0m\n",
       "\u001b[2;36m                    \u001b[0m         \u001b[32m'CyanStim'\u001b[0m\u001b[1;39m}\u001b[0m\u001b[39m, \u001b[0m\u001b[32m'stim_exposure'\u001b[0m\u001b[39m: \u001b[0m\u001b[1;36m100\u001b[0m\u001b[39m, \u001b[0m\u001b[32m'fname'\u001b[0m\u001b[39m: \u001b[0m\u001b[32m'000_00000'\u001b[0m\u001b[39m, \u001b[0m\u001b[32m'img_type'\u001b[0m\u001b[39m: \u001b[0m   \u001b[2m              \u001b[0m\n",
       "\u001b[2;36m                    \u001b[0m         \u001b[39m<ImgType.IMG_RAW: \u001b[0m\u001b[1;36m1\u001b[0m\u001b[1m>\u001b[0m, \u001b[32m'last_channel'\u001b[0m: \u001b[3;92mTrue\u001b[0m, \u001b[32m'channel'\u001b[0m: \u001b[32m'Green'\u001b[0m\u001b[1m}\u001b[0m         \u001b[2m              \u001b[0m\n"
      ]
     },
     "metadata": {},
     "output_type": "display_data"
    },
    {
     "name": "stdout",
     "output_type": "stream",
     "text": [
      "New frame ready\n",
      "Segmenting image\n",
      "Store raw image\n"
     ]
    },
    {
     "name": "stderr",
     "output_type": "stream",
     "text": [
      "functional.py (237): The structure of `inputs` doesn't match the expected structure.\n",
      "Expected: ['input']\n",
      "Received: inputs=Tensor(shape=(1, 1904, 1904, 1))\n"
     ]
    },
    {
     "name": "stdout",
     "output_type": "stream",
     "text": [
      "stim_mask_generated\n"
     ]
    },
    {
     "data": {
      "text/html": [
       "<pre style=\"white-space:pre;overflow-x:auto;line-height:normal;font-family:Menlo,'DejaVu Sans Mono',consolas,'Courier New',monospace\"><span style=\"color: #7fbfbf; text-decoration-color: #7fbfbf\">[01/16/25 22:51:03] </span><span style=\"color: #000080; text-decoration-color: #000080\">INFO    </span> <span style=\"color: #808000; text-decoration-color: #808000\">index</span>=<span style=\"font-weight: bold\">{</span><span style=\"color: #008000; text-decoration-color: #008000\">'t'</span>: <span style=\"color: #008080; text-decoration-color: #008080; font-weight: bold\">0</span><span style=\"font-weight: bold\">}</span> <span style=\"color: #808000; text-decoration-color: #808000\">channel</span>=<span style=\"color: #800080; text-decoration-color: #800080; font-weight: bold\">Channel</span><span style=\"font-weight: bold\">(</span><span style=\"color: #808000; text-decoration-color: #808000\">config</span>=<span style=\"color: #008000; text-decoration-color: #008000\">'CyanStim'</span>, <span style=\"color: #808000; text-decoration-color: #808000\">group</span>=<span style=\"color: #008000; text-decoration-color: #008000\">'WF_DMD'</span><span style=\"font-weight: bold\">)</span>       <a href=\"file://c:\\Users\\Niesen\\.conda\\envs\\pymmc_w_stardist\\lib\\site-packages\\pymmcore_plus\\mda\\_runner.py\" target=\"_blank\"><span style=\"color: #7f7f7f; text-decoration-color: #7f7f7f\">_runner.py</span></a><span style=\"color: #7f7f7f; text-decoration-color: #7f7f7f\">:</span><a href=\"file://c:\\Users\\Niesen\\.conda\\envs\\pymmc_w_stardist\\lib\\site-packages\\pymmcore_plus\\mda\\_runner.py#289\" target=\"_blank\"><span style=\"color: #7f7f7f; text-decoration-color: #7f7f7f\">289</span></a>\n",
       "<span style=\"color: #7fbfbf; text-decoration-color: #7fbfbf\">                    </span>         <span style=\"color: #808000; text-decoration-color: #808000\">exposure</span>=<span style=\"color: #008080; text-decoration-color: #008080; font-weight: bold\">100.0</span> <span style=\"color: #808000; text-decoration-color: #808000\">min_start_time</span>=<span style=\"color: #008080; text-decoration-color: #008080; font-weight: bold\">0.0</span> <span style=\"color: #808000; text-decoration-color: #808000\">x_pos</span>=<span style=\"color: #008080; text-decoration-color: #008080; font-weight: bold\">-3047.1</span> <span style=\"color: #808000; text-decoration-color: #808000\">y_pos</span>=<span style=\"color: #008080; text-decoration-color: #008080; font-weight: bold\">-3719.6</span>           <span style=\"color: #7f7f7f; text-decoration-color: #7f7f7f\">              </span>\n",
       "<span style=\"color: #7fbfbf; text-decoration-color: #7fbfbf\">                    </span>         <span style=\"color: #808000; text-decoration-color: #808000\">slm_image</span>=<span style=\"color: #800080; text-decoration-color: #800080; font-weight: bold\">SLMImage</span><span style=\"font-weight: bold\">()</span> <span style=\"color: #808000; text-decoration-color: #808000\">properties</span>=<span style=\"font-weight: bold\">[</span><span style=\"color: #800080; text-decoration-color: #800080; font-weight: bold\">PropertyTuple</span><span style=\"font-weight: bold\">(</span><span style=\"color: #808000; text-decoration-color: #808000\">device_name</span>=<span style=\"color: #008000; text-decoration-color: #008000\">'LedDMD'</span>,    <span style=\"color: #7f7f7f; text-decoration-color: #7f7f7f\">              </span>\n",
       "<span style=\"color: #7fbfbf; text-decoration-color: #7fbfbf\">                    </span>         <span style=\"color: #808000; text-decoration-color: #808000\">property_name</span>=<span style=\"color: #008000; text-decoration-color: #008000\">'Cyan_Level'</span>, <span style=\"color: #808000; text-decoration-color: #808000\">property_value</span>=<span style=\"color: #008080; text-decoration-color: #008080; font-weight: bold\">10</span><span style=\"font-weight: bold\">)]</span> <span style=\"color: #808000; text-decoration-color: #808000\">metadata</span>=<span style=\"font-weight: bold\">{</span><span style=\"color: #008000; text-decoration-color: #008000\">'fov_object'</span>: <span style=\"color: #7f7f7f; text-decoration-color: #7f7f7f\">              </span>\n",
       "<span style=\"color: #7fbfbf; text-decoration-color: #7fbfbf\">                    </span>         <span style=\"font-weight: bold\">&lt;</span><span style=\"color: #ff00ff; text-decoration-color: #ff00ff; font-weight: bold\">fov.FOV</span><span style=\"color: #000000; text-decoration-color: #000000\"> object at </span><span style=\"color: #008080; text-decoration-color: #008080; font-weight: bold\">0x0000023856A4CC10</span><span style=\"color: #000000; text-decoration-color: #000000\">&gt;, </span><span style=\"color: #008000; text-decoration-color: #008000\">'fov'</span><span style=\"color: #000000; text-decoration-color: #000000\">: </span><span style=\"color: #008080; text-decoration-color: #008080; font-weight: bold\">0</span><span style=\"color: #000000; text-decoration-color: #000000\">, </span><span style=\"color: #008000; text-decoration-color: #008000\">'name'</span><span style=\"color: #000000; text-decoration-color: #000000\">: </span><span style=\"color: #008000; text-decoration-color: #008000\">'0'</span><span style=\"color: #000000; text-decoration-color: #000000\">, </span>         <span style=\"color: #7f7f7f; text-decoration-color: #7f7f7f\">              </span>\n",
       "<span style=\"color: #7fbfbf; text-decoration-color: #7fbfbf\">                    </span>         <span style=\"color: #008000; text-decoration-color: #008000\">'timestep'</span><span style=\"color: #000000; text-decoration-color: #000000\">: </span><span style=\"color: #008080; text-decoration-color: #008080; font-weight: bold\">0</span><span style=\"color: #000000; text-decoration-color: #000000\">, </span><span style=\"color: #008000; text-decoration-color: #008000\">'time'</span><span style=\"color: #000000; text-decoration-color: #000000\">: </span><span style=\"color: #008080; text-decoration-color: #008080; font-weight: bold\">0</span><span style=\"color: #000000; text-decoration-color: #000000\">, </span><span style=\"color: #008000; text-decoration-color: #008000\">'treatment'</span><span style=\"color: #000000; text-decoration-color: #000000\">: </span><span style=\"color: #000000; text-decoration-color: #000000; font-weight: bold\">{</span><span style=\"color: #008000; text-decoration-color: #008000\">'stim_property'</span><span style=\"color: #000000; text-decoration-color: #000000\">: </span><span style=\"color: #008000; text-decoration-color: #008000\">'global'</span><span style=\"color: #000000; text-decoration-color: #000000\">, </span>     <span style=\"color: #7f7f7f; text-decoration-color: #7f7f7f\">              </span>\n",
       "<span style=\"color: #7fbfbf; text-decoration-color: #7fbfbf\">                    </span>         <span style=\"color: #008000; text-decoration-color: #008000\">'stim_profile'</span><span style=\"color: #000000; text-decoration-color: #000000\">: </span><span style=\"color: #000000; text-decoration-color: #000000; font-weight: bold\">{</span><span style=\"color: #008000; text-decoration-color: #008000\">'device_name'</span><span style=\"color: #000000; text-decoration-color: #000000\">: </span><span style=\"color: #008000; text-decoration-color: #008000\">'LedDMD'</span><span style=\"color: #000000; text-decoration-color: #000000\">, </span><span style=\"color: #008000; text-decoration-color: #008000\">'property_name'</span><span style=\"color: #000000; text-decoration-color: #000000\">: </span>             <span style=\"color: #7f7f7f; text-decoration-color: #7f7f7f\">              </span>\n",
       "<span style=\"color: #7fbfbf; text-decoration-color: #7fbfbf\">                    </span>         <span style=\"color: #008000; text-decoration-color: #008000\">'Cyan_Level'</span><span style=\"color: #000000; text-decoration-color: #000000\">, </span><span style=\"color: #008000; text-decoration-color: #008000\">'power'</span><span style=\"color: #000000; text-decoration-color: #000000\">: </span><span style=\"color: #008080; text-decoration-color: #008080; font-weight: bold\">10</span><span style=\"color: #000000; text-decoration-color: #000000\">, </span><span style=\"color: #008000; text-decoration-color: #008000\">'channel'</span><span style=\"color: #000000; text-decoration-color: #000000\">: </span><span style=\"color: #008000; text-decoration-color: #008000\">'CyanStim'</span><span style=\"color: #000000; text-decoration-color: #000000; font-weight: bold\">}</span><span style=\"color: #000000; text-decoration-color: #000000\">, </span><span style=\"color: #008000; text-decoration-color: #008000\">'stim_exposure'</span><span style=\"color: #000000; text-decoration-color: #000000\">: </span>    <span style=\"color: #7f7f7f; text-decoration-color: #7f7f7f\">              </span>\n",
       "<span style=\"color: #7fbfbf; text-decoration-color: #7fbfbf\">                    </span>         <span style=\"color: #008080; text-decoration-color: #008080; font-weight: bold\">100</span><span style=\"color: #000000; text-decoration-color: #000000\">, </span><span style=\"color: #008000; text-decoration-color: #008000\">'stim_timestep'</span><span style=\"color: #000000; text-decoration-color: #000000\">: </span><span style=\"color: #000000; text-decoration-color: #000000; font-weight: bold\">[</span><span style=\"color: #008080; text-decoration-color: #008080; font-weight: bold\">0</span><span style=\"color: #000000; text-decoration-color: #000000; font-weight: bold\">]}</span><span style=\"color: #000000; text-decoration-color: #000000\">, </span><span style=\"color: #008000; text-decoration-color: #008000\">'metadata'</span><span style=\"color: #000000; text-decoration-color: #000000\">: </span><span style=\"color: #000000; text-decoration-color: #000000; font-weight: bold\">{}</span><span style=\"color: #000000; text-decoration-color: #000000\">, </span><span style=\"color: #008000; text-decoration-color: #008000\">'stim'</span><span style=\"color: #000000; text-decoration-color: #000000\">: </span><span style=\"color: #00ff00; text-decoration-color: #00ff00; font-style: italic\">True</span><span style=\"color: #000000; text-decoration-color: #000000\">, </span><span style=\"color: #008000; text-decoration-color: #008000\">'channels'</span><span style=\"color: #000000; text-decoration-color: #000000\">: </span>  <span style=\"color: #7f7f7f; text-decoration-color: #7f7f7f\">              </span>\n",
       "<span style=\"color: #7fbfbf; text-decoration-color: #7fbfbf\">                    </span>         <span style=\"color: #000000; text-decoration-color: #000000; font-weight: bold\">[</span><span style=\"color: #008000; text-decoration-color: #008000\">'Red'</span><span style=\"color: #000000; text-decoration-color: #000000\">, </span><span style=\"color: #008000; text-decoration-color: #008000\">'Green'</span><span style=\"color: #000000; text-decoration-color: #000000; font-weight: bold\">]</span><span style=\"color: #000000; text-decoration-color: #000000\">, </span><span style=\"color: #008000; text-decoration-color: #008000\">'channels_exposure'</span><span style=\"color: #000000; text-decoration-color: #000000\">: </span><span style=\"color: #000000; text-decoration-color: #000000; font-weight: bold\">[</span><span style=\"color: #008080; text-decoration-color: #008080; font-weight: bold\">500</span><span style=\"color: #000000; text-decoration-color: #000000\">, </span><span style=\"color: #008080; text-decoration-color: #008080; font-weight: bold\">500</span><span style=\"color: #000000; text-decoration-color: #000000; font-weight: bold\">]</span><span style=\"color: #000000; text-decoration-color: #000000\">, </span><span style=\"color: #008000; text-decoration-color: #008000\">'channel_power'</span><span style=\"color: #000000; text-decoration-color: #000000\">: </span>    <span style=\"color: #7f7f7f; text-decoration-color: #7f7f7f\">              </span>\n",
       "<span style=\"color: #7fbfbf; text-decoration-color: #7fbfbf\">                    </span>         <span style=\"color: #000000; text-decoration-color: #000000; font-weight: bold\">[</span><span style=\"color: #008000; text-decoration-color: #008000\">'48'</span><span style=\"color: #000000; text-decoration-color: #000000\">, </span><span style=\"color: #008000; text-decoration-color: #008000\">'33'</span><span style=\"color: #000000; text-decoration-color: #000000; font-weight: bold\">]</span><span style=\"color: #000000; text-decoration-color: #000000\">, </span><span style=\"color: #008000; text-decoration-color: #008000\">'stim_profile'</span><span style=\"color: #000000; text-decoration-color: #000000\">: </span><span style=\"color: #000000; text-decoration-color: #000000; font-weight: bold\">{</span><span style=\"color: #008000; text-decoration-color: #008000\">'device_name'</span><span style=\"color: #000000; text-decoration-color: #000000\">: </span><span style=\"color: #008000; text-decoration-color: #008000\">'LedDMD'</span><span style=\"color: #000000; text-decoration-color: #000000\">, </span>                <span style=\"color: #7f7f7f; text-decoration-color: #7f7f7f\">              </span>\n",
       "<span style=\"color: #7fbfbf; text-decoration-color: #7fbfbf\">                    </span>         <span style=\"color: #008000; text-decoration-color: #008000\">'property_name'</span><span style=\"color: #000000; text-decoration-color: #000000\">: </span><span style=\"color: #008000; text-decoration-color: #008000\">'Cyan_Level'</span><span style=\"color: #000000; text-decoration-color: #000000\">, </span><span style=\"color: #008000; text-decoration-color: #008000\">'power'</span><span style=\"color: #000000; text-decoration-color: #000000\">: </span><span style=\"color: #008080; text-decoration-color: #008080; font-weight: bold\">10</span><span style=\"color: #000000; text-decoration-color: #000000\">, </span><span style=\"color: #008000; text-decoration-color: #008000\">'channel'</span><span style=\"color: #000000; text-decoration-color: #000000\">: </span><span style=\"color: #008000; text-decoration-color: #008000\">'CyanStim'</span><span style=\"color: #000000; text-decoration-color: #000000; font-weight: bold\">}</span><span style=\"color: #000000; text-decoration-color: #000000\">, </span>    <span style=\"color: #7f7f7f; text-decoration-color: #7f7f7f\">              </span>\n",
       "<span style=\"color: #7fbfbf; text-decoration-color: #7fbfbf\">                    </span>         <span style=\"color: #008000; text-decoration-color: #008000\">'stim_exposure'</span><span style=\"color: #000000; text-decoration-color: #000000\">: </span><span style=\"color: #008080; text-decoration-color: #008080; font-weight: bold\">100</span><span style=\"color: #000000; text-decoration-color: #000000\">, </span><span style=\"color: #008000; text-decoration-color: #008000\">'fname'</span><span style=\"color: #000000; text-decoration-color: #000000\">: </span><span style=\"color: #008000; text-decoration-color: #008000\">'000_00000'</span><span style=\"color: #000000; text-decoration-color: #000000\">, </span><span style=\"color: #008000; text-decoration-color: #008000\">'img_type'</span><span style=\"color: #000000; text-decoration-color: #000000\">: </span>                <span style=\"color: #7f7f7f; text-decoration-color: #7f7f7f\">              </span>\n",
       "<span style=\"color: #7fbfbf; text-decoration-color: #7fbfbf\">                    </span>         <span style=\"color: #000000; text-decoration-color: #000000\">&lt;ImgType.IMG_STIM: </span><span style=\"color: #008080; text-decoration-color: #008080; font-weight: bold\">2</span><span style=\"font-weight: bold\">&gt;</span>, <span style=\"color: #008000; text-decoration-color: #008000\">'last_channel'</span>: <span style=\"color: #00ff00; text-decoration-color: #00ff00; font-style: italic\">True</span>, <span style=\"color: #008000; text-decoration-color: #008000\">'channel'</span>: <span style=\"color: #008000; text-decoration-color: #008000\">'CyanStim'</span><span style=\"font-weight: bold\">}</span>     <span style=\"color: #7f7f7f; text-decoration-color: #7f7f7f\">              </span>\n",
       "</pre>\n"
      ],
      "text/plain": [
       "\u001b[2;36m[01/16/25 22:51:03]\u001b[0m\u001b[2;36m \u001b[0m\u001b[34mINFO    \u001b[0m \u001b[33mindex\u001b[0m=\u001b[1m{\u001b[0m\u001b[32m't'\u001b[0m: \u001b[1;36m0\u001b[0m\u001b[1m}\u001b[0m \u001b[33mchannel\u001b[0m=\u001b[1;35mChannel\u001b[0m\u001b[1m(\u001b[0m\u001b[33mconfig\u001b[0m=\u001b[32m'CyanStim'\u001b[0m, \u001b[33mgroup\u001b[0m=\u001b[32m'WF_DMD'\u001b[0m\u001b[1m)\u001b[0m       \u001b]8;id=641568;file://c:\\Users\\Niesen\\.conda\\envs\\pymmc_w_stardist\\lib\\site-packages\\pymmcore_plus\\mda\\_runner.py\u001b\\\u001b[2m_runner.py\u001b[0m\u001b]8;;\u001b\\\u001b[2m:\u001b[0m\u001b]8;id=984175;file://c:\\Users\\Niesen\\.conda\\envs\\pymmc_w_stardist\\lib\\site-packages\\pymmcore_plus\\mda\\_runner.py#289\u001b\\\u001b[2m289\u001b[0m\u001b]8;;\u001b\\\n",
       "\u001b[2;36m                    \u001b[0m         \u001b[33mexposure\u001b[0m=\u001b[1;36m100\u001b[0m\u001b[1;36m.0\u001b[0m \u001b[33mmin_start_time\u001b[0m=\u001b[1;36m0\u001b[0m\u001b[1;36m.0\u001b[0m \u001b[33mx_pos\u001b[0m=\u001b[1;36m-3047.1\u001b[0m \u001b[33my_pos\u001b[0m=\u001b[1;36m-3719.6\u001b[0m           \u001b[2m              \u001b[0m\n",
       "\u001b[2;36m                    \u001b[0m         \u001b[33mslm_image\u001b[0m=\u001b[1;35mSLMImage\u001b[0m\u001b[1m(\u001b[0m\u001b[1m)\u001b[0m \u001b[33mproperties\u001b[0m=\u001b[1m[\u001b[0m\u001b[1;35mPropertyTuple\u001b[0m\u001b[1m(\u001b[0m\u001b[33mdevice_name\u001b[0m=\u001b[32m'LedDMD'\u001b[0m,    \u001b[2m              \u001b[0m\n",
       "\u001b[2;36m                    \u001b[0m         \u001b[33mproperty_name\u001b[0m=\u001b[32m'Cyan_Level'\u001b[0m, \u001b[33mproperty_value\u001b[0m=\u001b[1;36m10\u001b[0m\u001b[1m)\u001b[0m\u001b[1m]\u001b[0m \u001b[33mmetadata\u001b[0m=\u001b[1m{\u001b[0m\u001b[32m'fov_object'\u001b[0m: \u001b[2m              \u001b[0m\n",
       "\u001b[2;36m                    \u001b[0m         \u001b[1m<\u001b[0m\u001b[1;95mfov.FOV\u001b[0m\u001b[39m object at \u001b[0m\u001b[1;36m0x0000023856A4CC10\u001b[0m\u001b[39m>, \u001b[0m\u001b[32m'fov'\u001b[0m\u001b[39m: \u001b[0m\u001b[1;36m0\u001b[0m\u001b[39m, \u001b[0m\u001b[32m'name'\u001b[0m\u001b[39m: \u001b[0m\u001b[32m'0'\u001b[0m\u001b[39m, \u001b[0m         \u001b[2m              \u001b[0m\n",
       "\u001b[2;36m                    \u001b[0m         \u001b[32m'timestep'\u001b[0m\u001b[39m: \u001b[0m\u001b[1;36m0\u001b[0m\u001b[39m, \u001b[0m\u001b[32m'time'\u001b[0m\u001b[39m: \u001b[0m\u001b[1;36m0\u001b[0m\u001b[39m, \u001b[0m\u001b[32m'treatment'\u001b[0m\u001b[39m: \u001b[0m\u001b[1;39m{\u001b[0m\u001b[32m'stim_property'\u001b[0m\u001b[39m: \u001b[0m\u001b[32m'global'\u001b[0m\u001b[39m, \u001b[0m     \u001b[2m              \u001b[0m\n",
       "\u001b[2;36m                    \u001b[0m         \u001b[32m'stim_profile'\u001b[0m\u001b[39m: \u001b[0m\u001b[1;39m{\u001b[0m\u001b[32m'device_name'\u001b[0m\u001b[39m: \u001b[0m\u001b[32m'LedDMD'\u001b[0m\u001b[39m, \u001b[0m\u001b[32m'property_name'\u001b[0m\u001b[39m: \u001b[0m             \u001b[2m              \u001b[0m\n",
       "\u001b[2;36m                    \u001b[0m         \u001b[32m'Cyan_Level'\u001b[0m\u001b[39m, \u001b[0m\u001b[32m'power'\u001b[0m\u001b[39m: \u001b[0m\u001b[1;36m10\u001b[0m\u001b[39m, \u001b[0m\u001b[32m'channel'\u001b[0m\u001b[39m: \u001b[0m\u001b[32m'CyanStim'\u001b[0m\u001b[1;39m}\u001b[0m\u001b[39m, \u001b[0m\u001b[32m'stim_exposure'\u001b[0m\u001b[39m: \u001b[0m    \u001b[2m              \u001b[0m\n",
       "\u001b[2;36m                    \u001b[0m         \u001b[1;36m100\u001b[0m\u001b[39m, \u001b[0m\u001b[32m'stim_timestep'\u001b[0m\u001b[39m: \u001b[0m\u001b[1;39m[\u001b[0m\u001b[1;36m0\u001b[0m\u001b[1;39m]\u001b[0m\u001b[1;39m}\u001b[0m\u001b[39m, \u001b[0m\u001b[32m'metadata'\u001b[0m\u001b[39m: \u001b[0m\u001b[1;39m{\u001b[0m\u001b[1;39m}\u001b[0m\u001b[39m, \u001b[0m\u001b[32m'stim'\u001b[0m\u001b[39m: \u001b[0m\u001b[3;92mTrue\u001b[0m\u001b[39m, \u001b[0m\u001b[32m'channels'\u001b[0m\u001b[39m: \u001b[0m  \u001b[2m              \u001b[0m\n",
       "\u001b[2;36m                    \u001b[0m         \u001b[1;39m[\u001b[0m\u001b[32m'Red'\u001b[0m\u001b[39m, \u001b[0m\u001b[32m'Green'\u001b[0m\u001b[1;39m]\u001b[0m\u001b[39m, \u001b[0m\u001b[32m'channels_exposure'\u001b[0m\u001b[39m: \u001b[0m\u001b[1;39m[\u001b[0m\u001b[1;36m500\u001b[0m\u001b[39m, \u001b[0m\u001b[1;36m500\u001b[0m\u001b[1;39m]\u001b[0m\u001b[39m, \u001b[0m\u001b[32m'channel_power'\u001b[0m\u001b[39m: \u001b[0m    \u001b[2m              \u001b[0m\n",
       "\u001b[2;36m                    \u001b[0m         \u001b[1;39m[\u001b[0m\u001b[32m'48'\u001b[0m\u001b[39m, \u001b[0m\u001b[32m'33'\u001b[0m\u001b[1;39m]\u001b[0m\u001b[39m, \u001b[0m\u001b[32m'stim_profile'\u001b[0m\u001b[39m: \u001b[0m\u001b[1;39m{\u001b[0m\u001b[32m'device_name'\u001b[0m\u001b[39m: \u001b[0m\u001b[32m'LedDMD'\u001b[0m\u001b[39m, \u001b[0m                \u001b[2m              \u001b[0m\n",
       "\u001b[2;36m                    \u001b[0m         \u001b[32m'property_name'\u001b[0m\u001b[39m: \u001b[0m\u001b[32m'Cyan_Level'\u001b[0m\u001b[39m, \u001b[0m\u001b[32m'power'\u001b[0m\u001b[39m: \u001b[0m\u001b[1;36m10\u001b[0m\u001b[39m, \u001b[0m\u001b[32m'channel'\u001b[0m\u001b[39m: \u001b[0m\u001b[32m'CyanStim'\u001b[0m\u001b[1;39m}\u001b[0m\u001b[39m, \u001b[0m    \u001b[2m              \u001b[0m\n",
       "\u001b[2;36m                    \u001b[0m         \u001b[32m'stim_exposure'\u001b[0m\u001b[39m: \u001b[0m\u001b[1;36m100\u001b[0m\u001b[39m, \u001b[0m\u001b[32m'fname'\u001b[0m\u001b[39m: \u001b[0m\u001b[32m'000_00000'\u001b[0m\u001b[39m, \u001b[0m\u001b[32m'img_type'\u001b[0m\u001b[39m: \u001b[0m                \u001b[2m              \u001b[0m\n",
       "\u001b[2;36m                    \u001b[0m         \u001b[39m<ImgType.IMG_STIM: \u001b[0m\u001b[1;36m2\u001b[0m\u001b[1m>\u001b[0m, \u001b[32m'last_channel'\u001b[0m: \u001b[3;92mTrue\u001b[0m, \u001b[32m'channel'\u001b[0m: \u001b[32m'CyanStim'\u001b[0m\u001b[1m}\u001b[0m     \u001b[2m              \u001b[0m\n"
      ]
     },
     "metadata": {},
     "output_type": "display_data"
    },
    {
     "name": "stdout",
     "output_type": "stream",
     "text": [
      "New frame ready\n",
      "Store stim image\n",
      "index={'t': 1, 'c': 0} channel=Channel(config='Red', group='WF_DMD') exposure=500.0 min_start_time=20.0 x_pos=-3047.1 y_pos=-3719.6 metadata={'fov_object': <fov.FOV object at 0x0000023856A4CC10>, 'fov': 0, 'name': '0', 'timestep': 1, 'time': 20, 'treatment': {'stim_property': 'global', 'stim_profile': {'device_name': 'LedDMD', 'property_name': 'Cyan_Level', 'power': 10, 'channel': 'CyanStim'}, 'stim_exposure': 100, 'stim_timestep': [0]}, 'metadata': {}, 'stim': False, 'channels': ['Red', 'Green'], 'channels_exposure': [500, 500], 'channel_power': ['48', '33'], 'stim_profile': {'device_name': 'LedDMD', 'property_name': 'Cyan_Level', 'power': 10, 'channel': 'CyanStim'}, 'stim_exposure': 100, 'fname': '000_00001', 'img_type': <ImgType.IMG_RAW: 1>, 'last_channel': False, 'channel': 'Red'}\n",
      "index={'t': 1, 'c': 1} channel=Channel(config='Green', group='WF_DMD') exposure=500.0 min_start_time=20.0 x_pos=-3047.1 y_pos=-3719.6 metadata={'fov_object': <fov.FOV object at 0x0000023856A4CC10>, 'fov': 0, 'name': '0', 'timestep': 1, 'time': 20, 'treatment': {'stim_property': 'global', 'stim_profile': {'device_name': 'LedDMD', 'property_name': 'Cyan_Level', 'power': 10, 'channel': 'CyanStim'}, 'stim_exposure': 100, 'stim_timestep': [0]}, 'metadata': {}, 'stim': False, 'channels': ['Red', 'Green'], 'channels_exposure': [500, 500], 'channel_power': ['48', '33'], 'stim_profile': {'device_name': 'LedDMD', 'property_name': 'Cyan_Level', 'power': 10, 'channel': 'CyanStim'}, 'stim_exposure': 100, 'fname': '000_00001', 'img_type': <ImgType.IMG_RAW: 1>, 'last_channel': True, 'channel': 'Green'}\n"
     ]
    },
    {
     "data": {
      "text/html": [
       "<pre style=\"white-space:pre;overflow-x:auto;line-height:normal;font-family:Menlo,'DejaVu Sans Mono',consolas,'Courier New',monospace\"><span style=\"color: #7fbfbf; text-decoration-color: #7fbfbf\">[01/16/25 22:51:20] </span><span style=\"color: #000080; text-decoration-color: #000080\">INFO    </span> <span style=\"color: #808000; text-decoration-color: #808000\">index</span>=<span style=\"font-weight: bold\">{</span><span style=\"color: #008000; text-decoration-color: #008000\">'t'</span>: <span style=\"color: #008080; text-decoration-color: #008080; font-weight: bold\">1</span>, <span style=\"color: #008000; text-decoration-color: #008000\">'c'</span>: <span style=\"color: #008080; text-decoration-color: #008080; font-weight: bold\">0</span><span style=\"font-weight: bold\">}</span> <span style=\"color: #808000; text-decoration-color: #808000\">channel</span>=<span style=\"color: #800080; text-decoration-color: #800080; font-weight: bold\">Channel</span><span style=\"font-weight: bold\">(</span><span style=\"color: #808000; text-decoration-color: #808000\">config</span>=<span style=\"color: #008000; text-decoration-color: #008000\">'Red'</span>, <span style=\"color: #808000; text-decoration-color: #808000\">group</span>=<span style=\"color: #008000; text-decoration-color: #008000\">'WF_DMD'</span><span style=\"font-weight: bold\">)</span>    <a href=\"file://c:\\Users\\Niesen\\.conda\\envs\\pymmc_w_stardist\\lib\\site-packages\\pymmcore_plus\\mda\\_runner.py\" target=\"_blank\"><span style=\"color: #7f7f7f; text-decoration-color: #7f7f7f\">_runner.py</span></a><span style=\"color: #7f7f7f; text-decoration-color: #7f7f7f\">:</span><a href=\"file://c:\\Users\\Niesen\\.conda\\envs\\pymmc_w_stardist\\lib\\site-packages\\pymmcore_plus\\mda\\_runner.py#289\" target=\"_blank\"><span style=\"color: #7f7f7f; text-decoration-color: #7f7f7f\">289</span></a>\n",
       "<span style=\"color: #7fbfbf; text-decoration-color: #7fbfbf\">                    </span>         <span style=\"color: #808000; text-decoration-color: #808000\">exposure</span>=<span style=\"color: #008080; text-decoration-color: #008080; font-weight: bold\">500.0</span> <span style=\"color: #808000; text-decoration-color: #808000\">min_start_time</span>=<span style=\"color: #008080; text-decoration-color: #008080; font-weight: bold\">20.0</span> <span style=\"color: #808000; text-decoration-color: #808000\">x_pos</span>=<span style=\"color: #008080; text-decoration-color: #008080; font-weight: bold\">-3047.1</span> <span style=\"color: #808000; text-decoration-color: #808000\">y_pos</span>=<span style=\"color: #008080; text-decoration-color: #008080; font-weight: bold\">-3719.6</span>          <span style=\"color: #7f7f7f; text-decoration-color: #7f7f7f\">              </span>\n",
       "<span style=\"color: #7fbfbf; text-decoration-color: #7fbfbf\">                    </span>         <span style=\"color: #808000; text-decoration-color: #808000\">metadata</span>=<span style=\"font-weight: bold\">{</span><span style=\"color: #008000; text-decoration-color: #008000\">'fov_object'</span>: <span style=\"font-weight: bold\">&lt;</span><span style=\"color: #ff00ff; text-decoration-color: #ff00ff; font-weight: bold\">fov.FOV</span><span style=\"color: #000000; text-decoration-color: #000000\"> object at </span><span style=\"color: #008080; text-decoration-color: #008080; font-weight: bold\">0x0000023856A4CC10</span><span style=\"color: #000000; text-decoration-color: #000000\">&gt;, </span><span style=\"color: #008000; text-decoration-color: #008000\">'fov'</span><span style=\"color: #000000; text-decoration-color: #000000\">: </span> <span style=\"color: #7f7f7f; text-decoration-color: #7f7f7f\">              </span>\n",
       "<span style=\"color: #7fbfbf; text-decoration-color: #7fbfbf\">                    </span>         <span style=\"color: #008080; text-decoration-color: #008080; font-weight: bold\">0</span><span style=\"color: #000000; text-decoration-color: #000000\">, </span><span style=\"color: #008000; text-decoration-color: #008000\">'name'</span><span style=\"color: #000000; text-decoration-color: #000000\">: </span><span style=\"color: #008000; text-decoration-color: #008000\">'0'</span><span style=\"color: #000000; text-decoration-color: #000000\">, </span><span style=\"color: #008000; text-decoration-color: #008000\">'timestep'</span><span style=\"color: #000000; text-decoration-color: #000000\">: </span><span style=\"color: #008080; text-decoration-color: #008080; font-weight: bold\">1</span><span style=\"color: #000000; text-decoration-color: #000000\">, </span><span style=\"color: #008000; text-decoration-color: #008000\">'time'</span><span style=\"color: #000000; text-decoration-color: #000000\">: </span><span style=\"color: #008080; text-decoration-color: #008080; font-weight: bold\">20</span><span style=\"color: #000000; text-decoration-color: #000000\">, </span><span style=\"color: #008000; text-decoration-color: #008000\">'treatment'</span><span style=\"color: #000000; text-decoration-color: #000000\">: </span>                <span style=\"color: #7f7f7f; text-decoration-color: #7f7f7f\">              </span>\n",
       "<span style=\"color: #7fbfbf; text-decoration-color: #7fbfbf\">                    </span>         <span style=\"color: #000000; text-decoration-color: #000000; font-weight: bold\">{</span><span style=\"color: #008000; text-decoration-color: #008000\">'stim_property'</span><span style=\"color: #000000; text-decoration-color: #000000\">: </span><span style=\"color: #008000; text-decoration-color: #008000\">'global'</span><span style=\"color: #000000; text-decoration-color: #000000\">, </span><span style=\"color: #008000; text-decoration-color: #008000\">'stim_profile'</span><span style=\"color: #000000; text-decoration-color: #000000\">: </span><span style=\"color: #000000; text-decoration-color: #000000; font-weight: bold\">{</span><span style=\"color: #008000; text-decoration-color: #008000\">'device_name'</span><span style=\"color: #000000; text-decoration-color: #000000\">: </span><span style=\"color: #008000; text-decoration-color: #008000\">'LedDMD'</span><span style=\"color: #000000; text-decoration-color: #000000\">, </span>  <span style=\"color: #7f7f7f; text-decoration-color: #7f7f7f\">              </span>\n",
       "<span style=\"color: #7fbfbf; text-decoration-color: #7fbfbf\">                    </span>         <span style=\"color: #008000; text-decoration-color: #008000\">'property_name'</span><span style=\"color: #000000; text-decoration-color: #000000\">: </span><span style=\"color: #008000; text-decoration-color: #008000\">'Cyan_Level'</span><span style=\"color: #000000; text-decoration-color: #000000\">, </span><span style=\"color: #008000; text-decoration-color: #008000\">'power'</span><span style=\"color: #000000; text-decoration-color: #000000\">: </span><span style=\"color: #008080; text-decoration-color: #008080; font-weight: bold\">10</span><span style=\"color: #000000; text-decoration-color: #000000\">, </span><span style=\"color: #008000; text-decoration-color: #008000\">'channel'</span><span style=\"color: #000000; text-decoration-color: #000000\">: </span><span style=\"color: #008000; text-decoration-color: #008000\">'CyanStim'</span><span style=\"color: #000000; text-decoration-color: #000000; font-weight: bold\">}</span><span style=\"color: #000000; text-decoration-color: #000000\">, </span>    <span style=\"color: #7f7f7f; text-decoration-color: #7f7f7f\">              </span>\n",
       "<span style=\"color: #7fbfbf; text-decoration-color: #7fbfbf\">                    </span>         <span style=\"color: #008000; text-decoration-color: #008000\">'stim_exposure'</span><span style=\"color: #000000; text-decoration-color: #000000\">: </span><span style=\"color: #008080; text-decoration-color: #008080; font-weight: bold\">100</span><span style=\"color: #000000; text-decoration-color: #000000\">, </span><span style=\"color: #008000; text-decoration-color: #008000\">'stim_timestep'</span><span style=\"color: #000000; text-decoration-color: #000000\">: </span><span style=\"color: #000000; text-decoration-color: #000000; font-weight: bold\">[</span><span style=\"color: #008080; text-decoration-color: #008080; font-weight: bold\">0</span><span style=\"color: #000000; text-decoration-color: #000000; font-weight: bold\">]}</span><span style=\"color: #000000; text-decoration-color: #000000\">, </span><span style=\"color: #008000; text-decoration-color: #008000\">'metadata'</span><span style=\"color: #000000; text-decoration-color: #000000\">: </span><span style=\"color: #000000; text-decoration-color: #000000; font-weight: bold\">{}</span><span style=\"color: #000000; text-decoration-color: #000000\">, </span><span style=\"color: #008000; text-decoration-color: #008000\">'stim'</span><span style=\"color: #000000; text-decoration-color: #000000\">: </span>   <span style=\"color: #7f7f7f; text-decoration-color: #7f7f7f\">              </span>\n",
       "<span style=\"color: #7fbfbf; text-decoration-color: #7fbfbf\">                    </span>         <span style=\"color: #ff0000; text-decoration-color: #ff0000; font-style: italic\">False</span><span style=\"color: #000000; text-decoration-color: #000000\">, </span><span style=\"color: #008000; text-decoration-color: #008000\">'channels'</span><span style=\"color: #000000; text-decoration-color: #000000\">: </span><span style=\"color: #000000; text-decoration-color: #000000; font-weight: bold\">[</span><span style=\"color: #008000; text-decoration-color: #008000\">'Red'</span><span style=\"color: #000000; text-decoration-color: #000000\">, </span><span style=\"color: #008000; text-decoration-color: #008000\">'Green'</span><span style=\"color: #000000; text-decoration-color: #000000; font-weight: bold\">]</span><span style=\"color: #000000; text-decoration-color: #000000\">, </span><span style=\"color: #008000; text-decoration-color: #008000\">'channels_exposure'</span><span style=\"color: #000000; text-decoration-color: #000000\">: </span><span style=\"color: #000000; text-decoration-color: #000000; font-weight: bold\">[</span><span style=\"color: #008080; text-decoration-color: #008080; font-weight: bold\">500</span><span style=\"color: #000000; text-decoration-color: #000000\">, </span><span style=\"color: #008080; text-decoration-color: #008080; font-weight: bold\">500</span><span style=\"color: #000000; text-decoration-color: #000000; font-weight: bold\">]</span><span style=\"color: #000000; text-decoration-color: #000000\">, </span>  <span style=\"color: #7f7f7f; text-decoration-color: #7f7f7f\">              </span>\n",
       "<span style=\"color: #7fbfbf; text-decoration-color: #7fbfbf\">                    </span>         <span style=\"color: #008000; text-decoration-color: #008000\">'channel_power'</span><span style=\"color: #000000; text-decoration-color: #000000\">: </span><span style=\"color: #000000; text-decoration-color: #000000; font-weight: bold\">[</span><span style=\"color: #008000; text-decoration-color: #008000\">'48'</span><span style=\"color: #000000; text-decoration-color: #000000\">, </span><span style=\"color: #008000; text-decoration-color: #008000\">'33'</span><span style=\"color: #000000; text-decoration-color: #000000; font-weight: bold\">]</span><span style=\"color: #000000; text-decoration-color: #000000\">, </span><span style=\"color: #008000; text-decoration-color: #008000\">'stim_profile'</span><span style=\"color: #000000; text-decoration-color: #000000\">: </span><span style=\"color: #000000; text-decoration-color: #000000; font-weight: bold\">{</span><span style=\"color: #008000; text-decoration-color: #008000\">'device_name'</span><span style=\"color: #000000; text-decoration-color: #000000\">: </span>         <span style=\"color: #7f7f7f; text-decoration-color: #7f7f7f\">              </span>\n",
       "<span style=\"color: #7fbfbf; text-decoration-color: #7fbfbf\">                    </span>         <span style=\"color: #008000; text-decoration-color: #008000\">'LedDMD'</span><span style=\"color: #000000; text-decoration-color: #000000\">, </span><span style=\"color: #008000; text-decoration-color: #008000\">'property_name'</span><span style=\"color: #000000; text-decoration-color: #000000\">: </span><span style=\"color: #008000; text-decoration-color: #008000\">'Cyan_Level'</span><span style=\"color: #000000; text-decoration-color: #000000\">, </span><span style=\"color: #008000; text-decoration-color: #008000\">'power'</span><span style=\"color: #000000; text-decoration-color: #000000\">: </span><span style=\"color: #008080; text-decoration-color: #008080; font-weight: bold\">10</span><span style=\"color: #000000; text-decoration-color: #000000\">, </span><span style=\"color: #008000; text-decoration-color: #008000\">'channel'</span><span style=\"color: #000000; text-decoration-color: #000000\">: </span>       <span style=\"color: #7f7f7f; text-decoration-color: #7f7f7f\">              </span>\n",
       "<span style=\"color: #7fbfbf; text-decoration-color: #7fbfbf\">                    </span>         <span style=\"color: #008000; text-decoration-color: #008000\">'CyanStim'</span><span style=\"color: #000000; text-decoration-color: #000000; font-weight: bold\">}</span><span style=\"color: #000000; text-decoration-color: #000000\">, </span><span style=\"color: #008000; text-decoration-color: #008000\">'stim_exposure'</span><span style=\"color: #000000; text-decoration-color: #000000\">: </span><span style=\"color: #008080; text-decoration-color: #008080; font-weight: bold\">100</span><span style=\"color: #000000; text-decoration-color: #000000\">, </span><span style=\"color: #008000; text-decoration-color: #008000\">'fname'</span><span style=\"color: #000000; text-decoration-color: #000000\">: </span><span style=\"color: #008000; text-decoration-color: #008000\">'000_00001'</span><span style=\"color: #000000; text-decoration-color: #000000\">, </span><span style=\"color: #008000; text-decoration-color: #008000\">'img_type'</span><span style=\"color: #000000; text-decoration-color: #000000\">: </span>   <span style=\"color: #7f7f7f; text-decoration-color: #7f7f7f\">              </span>\n",
       "<span style=\"color: #7fbfbf; text-decoration-color: #7fbfbf\">                    </span>         <span style=\"color: #000000; text-decoration-color: #000000\">&lt;ImgType.IMG_RAW: </span><span style=\"color: #008080; text-decoration-color: #008080; font-weight: bold\">1</span><span style=\"font-weight: bold\">&gt;</span>, <span style=\"color: #008000; text-decoration-color: #008000\">'last_channel'</span>: <span style=\"color: #ff0000; text-decoration-color: #ff0000; font-style: italic\">False</span>, <span style=\"color: #008000; text-decoration-color: #008000\">'channel'</span>: <span style=\"color: #008000; text-decoration-color: #008000\">'Red'</span><span style=\"font-weight: bold\">}</span>          <span style=\"color: #7f7f7f; text-decoration-color: #7f7f7f\">              </span>\n",
       "</pre>\n"
      ],
      "text/plain": [
       "\u001b[2;36m[01/16/25 22:51:20]\u001b[0m\u001b[2;36m \u001b[0m\u001b[34mINFO    \u001b[0m \u001b[33mindex\u001b[0m=\u001b[1m{\u001b[0m\u001b[32m't'\u001b[0m: \u001b[1;36m1\u001b[0m, \u001b[32m'c'\u001b[0m: \u001b[1;36m0\u001b[0m\u001b[1m}\u001b[0m \u001b[33mchannel\u001b[0m=\u001b[1;35mChannel\u001b[0m\u001b[1m(\u001b[0m\u001b[33mconfig\u001b[0m=\u001b[32m'Red'\u001b[0m, \u001b[33mgroup\u001b[0m=\u001b[32m'WF_DMD'\u001b[0m\u001b[1m)\u001b[0m    \u001b]8;id=736143;file://c:\\Users\\Niesen\\.conda\\envs\\pymmc_w_stardist\\lib\\site-packages\\pymmcore_plus\\mda\\_runner.py\u001b\\\u001b[2m_runner.py\u001b[0m\u001b]8;;\u001b\\\u001b[2m:\u001b[0m\u001b]8;id=334002;file://c:\\Users\\Niesen\\.conda\\envs\\pymmc_w_stardist\\lib\\site-packages\\pymmcore_plus\\mda\\_runner.py#289\u001b\\\u001b[2m289\u001b[0m\u001b]8;;\u001b\\\n",
       "\u001b[2;36m                    \u001b[0m         \u001b[33mexposure\u001b[0m=\u001b[1;36m500\u001b[0m\u001b[1;36m.0\u001b[0m \u001b[33mmin_start_time\u001b[0m=\u001b[1;36m20\u001b[0m\u001b[1;36m.0\u001b[0m \u001b[33mx_pos\u001b[0m=\u001b[1;36m-3047.1\u001b[0m \u001b[33my_pos\u001b[0m=\u001b[1;36m-3719.6\u001b[0m          \u001b[2m              \u001b[0m\n",
       "\u001b[2;36m                    \u001b[0m         \u001b[33mmetadata\u001b[0m=\u001b[1m{\u001b[0m\u001b[32m'fov_object'\u001b[0m: \u001b[1m<\u001b[0m\u001b[1;95mfov.FOV\u001b[0m\u001b[39m object at \u001b[0m\u001b[1;36m0x0000023856A4CC10\u001b[0m\u001b[39m>, \u001b[0m\u001b[32m'fov'\u001b[0m\u001b[39m: \u001b[0m \u001b[2m              \u001b[0m\n",
       "\u001b[2;36m                    \u001b[0m         \u001b[1;36m0\u001b[0m\u001b[39m, \u001b[0m\u001b[32m'name'\u001b[0m\u001b[39m: \u001b[0m\u001b[32m'0'\u001b[0m\u001b[39m, \u001b[0m\u001b[32m'timestep'\u001b[0m\u001b[39m: \u001b[0m\u001b[1;36m1\u001b[0m\u001b[39m, \u001b[0m\u001b[32m'time'\u001b[0m\u001b[39m: \u001b[0m\u001b[1;36m20\u001b[0m\u001b[39m, \u001b[0m\u001b[32m'treatment'\u001b[0m\u001b[39m: \u001b[0m                \u001b[2m              \u001b[0m\n",
       "\u001b[2;36m                    \u001b[0m         \u001b[1;39m{\u001b[0m\u001b[32m'stim_property'\u001b[0m\u001b[39m: \u001b[0m\u001b[32m'global'\u001b[0m\u001b[39m, \u001b[0m\u001b[32m'stim_profile'\u001b[0m\u001b[39m: \u001b[0m\u001b[1;39m{\u001b[0m\u001b[32m'device_name'\u001b[0m\u001b[39m: \u001b[0m\u001b[32m'LedDMD'\u001b[0m\u001b[39m, \u001b[0m  \u001b[2m              \u001b[0m\n",
       "\u001b[2;36m                    \u001b[0m         \u001b[32m'property_name'\u001b[0m\u001b[39m: \u001b[0m\u001b[32m'Cyan_Level'\u001b[0m\u001b[39m, \u001b[0m\u001b[32m'power'\u001b[0m\u001b[39m: \u001b[0m\u001b[1;36m10\u001b[0m\u001b[39m, \u001b[0m\u001b[32m'channel'\u001b[0m\u001b[39m: \u001b[0m\u001b[32m'CyanStim'\u001b[0m\u001b[1;39m}\u001b[0m\u001b[39m, \u001b[0m    \u001b[2m              \u001b[0m\n",
       "\u001b[2;36m                    \u001b[0m         \u001b[32m'stim_exposure'\u001b[0m\u001b[39m: \u001b[0m\u001b[1;36m100\u001b[0m\u001b[39m, \u001b[0m\u001b[32m'stim_timestep'\u001b[0m\u001b[39m: \u001b[0m\u001b[1;39m[\u001b[0m\u001b[1;36m0\u001b[0m\u001b[1;39m]\u001b[0m\u001b[1;39m}\u001b[0m\u001b[39m, \u001b[0m\u001b[32m'metadata'\u001b[0m\u001b[39m: \u001b[0m\u001b[1;39m{\u001b[0m\u001b[1;39m}\u001b[0m\u001b[39m, \u001b[0m\u001b[32m'stim'\u001b[0m\u001b[39m: \u001b[0m   \u001b[2m              \u001b[0m\n",
       "\u001b[2;36m                    \u001b[0m         \u001b[3;91mFalse\u001b[0m\u001b[39m, \u001b[0m\u001b[32m'channels'\u001b[0m\u001b[39m: \u001b[0m\u001b[1;39m[\u001b[0m\u001b[32m'Red'\u001b[0m\u001b[39m, \u001b[0m\u001b[32m'Green'\u001b[0m\u001b[1;39m]\u001b[0m\u001b[39m, \u001b[0m\u001b[32m'channels_exposure'\u001b[0m\u001b[39m: \u001b[0m\u001b[1;39m[\u001b[0m\u001b[1;36m500\u001b[0m\u001b[39m, \u001b[0m\u001b[1;36m500\u001b[0m\u001b[1;39m]\u001b[0m\u001b[39m, \u001b[0m  \u001b[2m              \u001b[0m\n",
       "\u001b[2;36m                    \u001b[0m         \u001b[32m'channel_power'\u001b[0m\u001b[39m: \u001b[0m\u001b[1;39m[\u001b[0m\u001b[32m'48'\u001b[0m\u001b[39m, \u001b[0m\u001b[32m'33'\u001b[0m\u001b[1;39m]\u001b[0m\u001b[39m, \u001b[0m\u001b[32m'stim_profile'\u001b[0m\u001b[39m: \u001b[0m\u001b[1;39m{\u001b[0m\u001b[32m'device_name'\u001b[0m\u001b[39m: \u001b[0m         \u001b[2m              \u001b[0m\n",
       "\u001b[2;36m                    \u001b[0m         \u001b[32m'LedDMD'\u001b[0m\u001b[39m, \u001b[0m\u001b[32m'property_name'\u001b[0m\u001b[39m: \u001b[0m\u001b[32m'Cyan_Level'\u001b[0m\u001b[39m, \u001b[0m\u001b[32m'power'\u001b[0m\u001b[39m: \u001b[0m\u001b[1;36m10\u001b[0m\u001b[39m, \u001b[0m\u001b[32m'channel'\u001b[0m\u001b[39m: \u001b[0m       \u001b[2m              \u001b[0m\n",
       "\u001b[2;36m                    \u001b[0m         \u001b[32m'CyanStim'\u001b[0m\u001b[1;39m}\u001b[0m\u001b[39m, \u001b[0m\u001b[32m'stim_exposure'\u001b[0m\u001b[39m: \u001b[0m\u001b[1;36m100\u001b[0m\u001b[39m, \u001b[0m\u001b[32m'fname'\u001b[0m\u001b[39m: \u001b[0m\u001b[32m'000_00001'\u001b[0m\u001b[39m, \u001b[0m\u001b[32m'img_type'\u001b[0m\u001b[39m: \u001b[0m   \u001b[2m              \u001b[0m\n",
       "\u001b[2;36m                    \u001b[0m         \u001b[39m<ImgType.IMG_RAW: \u001b[0m\u001b[1;36m1\u001b[0m\u001b[1m>\u001b[0m, \u001b[32m'last_channel'\u001b[0m: \u001b[3;91mFalse\u001b[0m, \u001b[32m'channel'\u001b[0m: \u001b[32m'Red'\u001b[0m\u001b[1m}\u001b[0m          \u001b[2m              \u001b[0m\n"
      ]
     },
     "metadata": {},
     "output_type": "display_data"
    },
    {
     "name": "stdout",
     "output_type": "stream",
     "text": [
      "New frame ready\n"
     ]
    },
    {
     "data": {
      "text/html": [
       "<pre style=\"white-space:pre;overflow-x:auto;line-height:normal;font-family:Menlo,'DejaVu Sans Mono',consolas,'Courier New',monospace\"><span style=\"color: #7fbfbf; text-decoration-color: #7fbfbf\">[01/16/25 22:51:21] </span><span style=\"color: #000080; text-decoration-color: #000080\">INFO    </span> <span style=\"color: #808000; text-decoration-color: #808000\">index</span>=<span style=\"font-weight: bold\">{</span><span style=\"color: #008000; text-decoration-color: #008000\">'t'</span>: <span style=\"color: #008080; text-decoration-color: #008080; font-weight: bold\">1</span>, <span style=\"color: #008000; text-decoration-color: #008000\">'c'</span>: <span style=\"color: #008080; text-decoration-color: #008080; font-weight: bold\">1</span><span style=\"font-weight: bold\">}</span> <span style=\"color: #808000; text-decoration-color: #808000\">channel</span>=<span style=\"color: #800080; text-decoration-color: #800080; font-weight: bold\">Channel</span><span style=\"font-weight: bold\">(</span><span style=\"color: #808000; text-decoration-color: #808000\">config</span>=<span style=\"color: #008000; text-decoration-color: #008000\">'Green'</span>, <span style=\"color: #808000; text-decoration-color: #808000\">group</span>=<span style=\"color: #008000; text-decoration-color: #008000\">'WF_DMD'</span><span style=\"font-weight: bold\">)</span>  <a href=\"file://c:\\Users\\Niesen\\.conda\\envs\\pymmc_w_stardist\\lib\\site-packages\\pymmcore_plus\\mda\\_runner.py\" target=\"_blank\"><span style=\"color: #7f7f7f; text-decoration-color: #7f7f7f\">_runner.py</span></a><span style=\"color: #7f7f7f; text-decoration-color: #7f7f7f\">:</span><a href=\"file://c:\\Users\\Niesen\\.conda\\envs\\pymmc_w_stardist\\lib\\site-packages\\pymmcore_plus\\mda\\_runner.py#289\" target=\"_blank\"><span style=\"color: #7f7f7f; text-decoration-color: #7f7f7f\">289</span></a>\n",
       "<span style=\"color: #7fbfbf; text-decoration-color: #7fbfbf\">                    </span>         <span style=\"color: #808000; text-decoration-color: #808000\">exposure</span>=<span style=\"color: #008080; text-decoration-color: #008080; font-weight: bold\">500.0</span> <span style=\"color: #808000; text-decoration-color: #808000\">min_start_time</span>=<span style=\"color: #008080; text-decoration-color: #008080; font-weight: bold\">20.0</span> <span style=\"color: #808000; text-decoration-color: #808000\">x_pos</span>=<span style=\"color: #008080; text-decoration-color: #008080; font-weight: bold\">-3047.1</span> <span style=\"color: #808000; text-decoration-color: #808000\">y_pos</span>=<span style=\"color: #008080; text-decoration-color: #008080; font-weight: bold\">-3719.6</span>          <span style=\"color: #7f7f7f; text-decoration-color: #7f7f7f\">              </span>\n",
       "<span style=\"color: #7fbfbf; text-decoration-color: #7fbfbf\">                    </span>         <span style=\"color: #808000; text-decoration-color: #808000\">metadata</span>=<span style=\"font-weight: bold\">{</span><span style=\"color: #008000; text-decoration-color: #008000\">'fov_object'</span>: <span style=\"font-weight: bold\">&lt;</span><span style=\"color: #ff00ff; text-decoration-color: #ff00ff; font-weight: bold\">fov.FOV</span><span style=\"color: #000000; text-decoration-color: #000000\"> object at </span><span style=\"color: #008080; text-decoration-color: #008080; font-weight: bold\">0x0000023856A4CC10</span><span style=\"color: #000000; text-decoration-color: #000000\">&gt;, </span><span style=\"color: #008000; text-decoration-color: #008000\">'fov'</span><span style=\"color: #000000; text-decoration-color: #000000\">: </span> <span style=\"color: #7f7f7f; text-decoration-color: #7f7f7f\">              </span>\n",
       "<span style=\"color: #7fbfbf; text-decoration-color: #7fbfbf\">                    </span>         <span style=\"color: #008080; text-decoration-color: #008080; font-weight: bold\">0</span><span style=\"color: #000000; text-decoration-color: #000000\">, </span><span style=\"color: #008000; text-decoration-color: #008000\">'name'</span><span style=\"color: #000000; text-decoration-color: #000000\">: </span><span style=\"color: #008000; text-decoration-color: #008000\">'0'</span><span style=\"color: #000000; text-decoration-color: #000000\">, </span><span style=\"color: #008000; text-decoration-color: #008000\">'timestep'</span><span style=\"color: #000000; text-decoration-color: #000000\">: </span><span style=\"color: #008080; text-decoration-color: #008080; font-weight: bold\">1</span><span style=\"color: #000000; text-decoration-color: #000000\">, </span><span style=\"color: #008000; text-decoration-color: #008000\">'time'</span><span style=\"color: #000000; text-decoration-color: #000000\">: </span><span style=\"color: #008080; text-decoration-color: #008080; font-weight: bold\">20</span><span style=\"color: #000000; text-decoration-color: #000000\">, </span><span style=\"color: #008000; text-decoration-color: #008000\">'treatment'</span><span style=\"color: #000000; text-decoration-color: #000000\">: </span>                <span style=\"color: #7f7f7f; text-decoration-color: #7f7f7f\">              </span>\n",
       "<span style=\"color: #7fbfbf; text-decoration-color: #7fbfbf\">                    </span>         <span style=\"color: #000000; text-decoration-color: #000000; font-weight: bold\">{</span><span style=\"color: #008000; text-decoration-color: #008000\">'stim_property'</span><span style=\"color: #000000; text-decoration-color: #000000\">: </span><span style=\"color: #008000; text-decoration-color: #008000\">'global'</span><span style=\"color: #000000; text-decoration-color: #000000\">, </span><span style=\"color: #008000; text-decoration-color: #008000\">'stim_profile'</span><span style=\"color: #000000; text-decoration-color: #000000\">: </span><span style=\"color: #000000; text-decoration-color: #000000; font-weight: bold\">{</span><span style=\"color: #008000; text-decoration-color: #008000\">'device_name'</span><span style=\"color: #000000; text-decoration-color: #000000\">: </span><span style=\"color: #008000; text-decoration-color: #008000\">'LedDMD'</span><span style=\"color: #000000; text-decoration-color: #000000\">, </span>  <span style=\"color: #7f7f7f; text-decoration-color: #7f7f7f\">              </span>\n",
       "<span style=\"color: #7fbfbf; text-decoration-color: #7fbfbf\">                    </span>         <span style=\"color: #008000; text-decoration-color: #008000\">'property_name'</span><span style=\"color: #000000; text-decoration-color: #000000\">: </span><span style=\"color: #008000; text-decoration-color: #008000\">'Cyan_Level'</span><span style=\"color: #000000; text-decoration-color: #000000\">, </span><span style=\"color: #008000; text-decoration-color: #008000\">'power'</span><span style=\"color: #000000; text-decoration-color: #000000\">: </span><span style=\"color: #008080; text-decoration-color: #008080; font-weight: bold\">10</span><span style=\"color: #000000; text-decoration-color: #000000\">, </span><span style=\"color: #008000; text-decoration-color: #008000\">'channel'</span><span style=\"color: #000000; text-decoration-color: #000000\">: </span><span style=\"color: #008000; text-decoration-color: #008000\">'CyanStim'</span><span style=\"color: #000000; text-decoration-color: #000000; font-weight: bold\">}</span><span style=\"color: #000000; text-decoration-color: #000000\">, </span>    <span style=\"color: #7f7f7f; text-decoration-color: #7f7f7f\">              </span>\n",
       "<span style=\"color: #7fbfbf; text-decoration-color: #7fbfbf\">                    </span>         <span style=\"color: #008000; text-decoration-color: #008000\">'stim_exposure'</span><span style=\"color: #000000; text-decoration-color: #000000\">: </span><span style=\"color: #008080; text-decoration-color: #008080; font-weight: bold\">100</span><span style=\"color: #000000; text-decoration-color: #000000\">, </span><span style=\"color: #008000; text-decoration-color: #008000\">'stim_timestep'</span><span style=\"color: #000000; text-decoration-color: #000000\">: </span><span style=\"color: #000000; text-decoration-color: #000000; font-weight: bold\">[</span><span style=\"color: #008080; text-decoration-color: #008080; font-weight: bold\">0</span><span style=\"color: #000000; text-decoration-color: #000000; font-weight: bold\">]}</span><span style=\"color: #000000; text-decoration-color: #000000\">, </span><span style=\"color: #008000; text-decoration-color: #008000\">'metadata'</span><span style=\"color: #000000; text-decoration-color: #000000\">: </span><span style=\"color: #000000; text-decoration-color: #000000; font-weight: bold\">{}</span><span style=\"color: #000000; text-decoration-color: #000000\">, </span><span style=\"color: #008000; text-decoration-color: #008000\">'stim'</span><span style=\"color: #000000; text-decoration-color: #000000\">: </span>   <span style=\"color: #7f7f7f; text-decoration-color: #7f7f7f\">              </span>\n",
       "<span style=\"color: #7fbfbf; text-decoration-color: #7fbfbf\">                    </span>         <span style=\"color: #ff0000; text-decoration-color: #ff0000; font-style: italic\">False</span><span style=\"color: #000000; text-decoration-color: #000000\">, </span><span style=\"color: #008000; text-decoration-color: #008000\">'channels'</span><span style=\"color: #000000; text-decoration-color: #000000\">: </span><span style=\"color: #000000; text-decoration-color: #000000; font-weight: bold\">[</span><span style=\"color: #008000; text-decoration-color: #008000\">'Red'</span><span style=\"color: #000000; text-decoration-color: #000000\">, </span><span style=\"color: #008000; text-decoration-color: #008000\">'Green'</span><span style=\"color: #000000; text-decoration-color: #000000; font-weight: bold\">]</span><span style=\"color: #000000; text-decoration-color: #000000\">, </span><span style=\"color: #008000; text-decoration-color: #008000\">'channels_exposure'</span><span style=\"color: #000000; text-decoration-color: #000000\">: </span><span style=\"color: #000000; text-decoration-color: #000000; font-weight: bold\">[</span><span style=\"color: #008080; text-decoration-color: #008080; font-weight: bold\">500</span><span style=\"color: #000000; text-decoration-color: #000000\">, </span><span style=\"color: #008080; text-decoration-color: #008080; font-weight: bold\">500</span><span style=\"color: #000000; text-decoration-color: #000000; font-weight: bold\">]</span><span style=\"color: #000000; text-decoration-color: #000000\">, </span>  <span style=\"color: #7f7f7f; text-decoration-color: #7f7f7f\">              </span>\n",
       "<span style=\"color: #7fbfbf; text-decoration-color: #7fbfbf\">                    </span>         <span style=\"color: #008000; text-decoration-color: #008000\">'channel_power'</span><span style=\"color: #000000; text-decoration-color: #000000\">: </span><span style=\"color: #000000; text-decoration-color: #000000; font-weight: bold\">[</span><span style=\"color: #008000; text-decoration-color: #008000\">'48'</span><span style=\"color: #000000; text-decoration-color: #000000\">, </span><span style=\"color: #008000; text-decoration-color: #008000\">'33'</span><span style=\"color: #000000; text-decoration-color: #000000; font-weight: bold\">]</span><span style=\"color: #000000; text-decoration-color: #000000\">, </span><span style=\"color: #008000; text-decoration-color: #008000\">'stim_profile'</span><span style=\"color: #000000; text-decoration-color: #000000\">: </span><span style=\"color: #000000; text-decoration-color: #000000; font-weight: bold\">{</span><span style=\"color: #008000; text-decoration-color: #008000\">'device_name'</span><span style=\"color: #000000; text-decoration-color: #000000\">: </span>         <span style=\"color: #7f7f7f; text-decoration-color: #7f7f7f\">              </span>\n",
       "<span style=\"color: #7fbfbf; text-decoration-color: #7fbfbf\">                    </span>         <span style=\"color: #008000; text-decoration-color: #008000\">'LedDMD'</span><span style=\"color: #000000; text-decoration-color: #000000\">, </span><span style=\"color: #008000; text-decoration-color: #008000\">'property_name'</span><span style=\"color: #000000; text-decoration-color: #000000\">: </span><span style=\"color: #008000; text-decoration-color: #008000\">'Cyan_Level'</span><span style=\"color: #000000; text-decoration-color: #000000\">, </span><span style=\"color: #008000; text-decoration-color: #008000\">'power'</span><span style=\"color: #000000; text-decoration-color: #000000\">: </span><span style=\"color: #008080; text-decoration-color: #008080; font-weight: bold\">10</span><span style=\"color: #000000; text-decoration-color: #000000\">, </span><span style=\"color: #008000; text-decoration-color: #008000\">'channel'</span><span style=\"color: #000000; text-decoration-color: #000000\">: </span>       <span style=\"color: #7f7f7f; text-decoration-color: #7f7f7f\">              </span>\n",
       "<span style=\"color: #7fbfbf; text-decoration-color: #7fbfbf\">                    </span>         <span style=\"color: #008000; text-decoration-color: #008000\">'CyanStim'</span><span style=\"color: #000000; text-decoration-color: #000000; font-weight: bold\">}</span><span style=\"color: #000000; text-decoration-color: #000000\">, </span><span style=\"color: #008000; text-decoration-color: #008000\">'stim_exposure'</span><span style=\"color: #000000; text-decoration-color: #000000\">: </span><span style=\"color: #008080; text-decoration-color: #008080; font-weight: bold\">100</span><span style=\"color: #000000; text-decoration-color: #000000\">, </span><span style=\"color: #008000; text-decoration-color: #008000\">'fname'</span><span style=\"color: #000000; text-decoration-color: #000000\">: </span><span style=\"color: #008000; text-decoration-color: #008000\">'000_00001'</span><span style=\"color: #000000; text-decoration-color: #000000\">, </span><span style=\"color: #008000; text-decoration-color: #008000\">'img_type'</span><span style=\"color: #000000; text-decoration-color: #000000\">: </span>   <span style=\"color: #7f7f7f; text-decoration-color: #7f7f7f\">              </span>\n",
       "<span style=\"color: #7fbfbf; text-decoration-color: #7fbfbf\">                    </span>         <span style=\"color: #000000; text-decoration-color: #000000\">&lt;ImgType.IMG_RAW: </span><span style=\"color: #008080; text-decoration-color: #008080; font-weight: bold\">1</span><span style=\"font-weight: bold\">&gt;</span>, <span style=\"color: #008000; text-decoration-color: #008000\">'last_channel'</span>: <span style=\"color: #00ff00; text-decoration-color: #00ff00; font-style: italic\">True</span>, <span style=\"color: #008000; text-decoration-color: #008000\">'channel'</span>: <span style=\"color: #008000; text-decoration-color: #008000\">'Green'</span><span style=\"font-weight: bold\">}</span>         <span style=\"color: #7f7f7f; text-decoration-color: #7f7f7f\">              </span>\n",
       "</pre>\n"
      ],
      "text/plain": [
       "\u001b[2;36m[01/16/25 22:51:21]\u001b[0m\u001b[2;36m \u001b[0m\u001b[34mINFO    \u001b[0m \u001b[33mindex\u001b[0m=\u001b[1m{\u001b[0m\u001b[32m't'\u001b[0m: \u001b[1;36m1\u001b[0m, \u001b[32m'c'\u001b[0m: \u001b[1;36m1\u001b[0m\u001b[1m}\u001b[0m \u001b[33mchannel\u001b[0m=\u001b[1;35mChannel\u001b[0m\u001b[1m(\u001b[0m\u001b[33mconfig\u001b[0m=\u001b[32m'Green'\u001b[0m, \u001b[33mgroup\u001b[0m=\u001b[32m'WF_DMD'\u001b[0m\u001b[1m)\u001b[0m  \u001b]8;id=954235;file://c:\\Users\\Niesen\\.conda\\envs\\pymmc_w_stardist\\lib\\site-packages\\pymmcore_plus\\mda\\_runner.py\u001b\\\u001b[2m_runner.py\u001b[0m\u001b]8;;\u001b\\\u001b[2m:\u001b[0m\u001b]8;id=90616;file://c:\\Users\\Niesen\\.conda\\envs\\pymmc_w_stardist\\lib\\site-packages\\pymmcore_plus\\mda\\_runner.py#289\u001b\\\u001b[2m289\u001b[0m\u001b]8;;\u001b\\\n",
       "\u001b[2;36m                    \u001b[0m         \u001b[33mexposure\u001b[0m=\u001b[1;36m500\u001b[0m\u001b[1;36m.0\u001b[0m \u001b[33mmin_start_time\u001b[0m=\u001b[1;36m20\u001b[0m\u001b[1;36m.0\u001b[0m \u001b[33mx_pos\u001b[0m=\u001b[1;36m-3047.1\u001b[0m \u001b[33my_pos\u001b[0m=\u001b[1;36m-3719.6\u001b[0m          \u001b[2m              \u001b[0m\n",
       "\u001b[2;36m                    \u001b[0m         \u001b[33mmetadata\u001b[0m=\u001b[1m{\u001b[0m\u001b[32m'fov_object'\u001b[0m: \u001b[1m<\u001b[0m\u001b[1;95mfov.FOV\u001b[0m\u001b[39m object at \u001b[0m\u001b[1;36m0x0000023856A4CC10\u001b[0m\u001b[39m>, \u001b[0m\u001b[32m'fov'\u001b[0m\u001b[39m: \u001b[0m \u001b[2m              \u001b[0m\n",
       "\u001b[2;36m                    \u001b[0m         \u001b[1;36m0\u001b[0m\u001b[39m, \u001b[0m\u001b[32m'name'\u001b[0m\u001b[39m: \u001b[0m\u001b[32m'0'\u001b[0m\u001b[39m, \u001b[0m\u001b[32m'timestep'\u001b[0m\u001b[39m: \u001b[0m\u001b[1;36m1\u001b[0m\u001b[39m, \u001b[0m\u001b[32m'time'\u001b[0m\u001b[39m: \u001b[0m\u001b[1;36m20\u001b[0m\u001b[39m, \u001b[0m\u001b[32m'treatment'\u001b[0m\u001b[39m: \u001b[0m                \u001b[2m              \u001b[0m\n",
       "\u001b[2;36m                    \u001b[0m         \u001b[1;39m{\u001b[0m\u001b[32m'stim_property'\u001b[0m\u001b[39m: \u001b[0m\u001b[32m'global'\u001b[0m\u001b[39m, \u001b[0m\u001b[32m'stim_profile'\u001b[0m\u001b[39m: \u001b[0m\u001b[1;39m{\u001b[0m\u001b[32m'device_name'\u001b[0m\u001b[39m: \u001b[0m\u001b[32m'LedDMD'\u001b[0m\u001b[39m, \u001b[0m  \u001b[2m              \u001b[0m\n",
       "\u001b[2;36m                    \u001b[0m         \u001b[32m'property_name'\u001b[0m\u001b[39m: \u001b[0m\u001b[32m'Cyan_Level'\u001b[0m\u001b[39m, \u001b[0m\u001b[32m'power'\u001b[0m\u001b[39m: \u001b[0m\u001b[1;36m10\u001b[0m\u001b[39m, \u001b[0m\u001b[32m'channel'\u001b[0m\u001b[39m: \u001b[0m\u001b[32m'CyanStim'\u001b[0m\u001b[1;39m}\u001b[0m\u001b[39m, \u001b[0m    \u001b[2m              \u001b[0m\n",
       "\u001b[2;36m                    \u001b[0m         \u001b[32m'stim_exposure'\u001b[0m\u001b[39m: \u001b[0m\u001b[1;36m100\u001b[0m\u001b[39m, \u001b[0m\u001b[32m'stim_timestep'\u001b[0m\u001b[39m: \u001b[0m\u001b[1;39m[\u001b[0m\u001b[1;36m0\u001b[0m\u001b[1;39m]\u001b[0m\u001b[1;39m}\u001b[0m\u001b[39m, \u001b[0m\u001b[32m'metadata'\u001b[0m\u001b[39m: \u001b[0m\u001b[1;39m{\u001b[0m\u001b[1;39m}\u001b[0m\u001b[39m, \u001b[0m\u001b[32m'stim'\u001b[0m\u001b[39m: \u001b[0m   \u001b[2m              \u001b[0m\n",
       "\u001b[2;36m                    \u001b[0m         \u001b[3;91mFalse\u001b[0m\u001b[39m, \u001b[0m\u001b[32m'channels'\u001b[0m\u001b[39m: \u001b[0m\u001b[1;39m[\u001b[0m\u001b[32m'Red'\u001b[0m\u001b[39m, \u001b[0m\u001b[32m'Green'\u001b[0m\u001b[1;39m]\u001b[0m\u001b[39m, \u001b[0m\u001b[32m'channels_exposure'\u001b[0m\u001b[39m: \u001b[0m\u001b[1;39m[\u001b[0m\u001b[1;36m500\u001b[0m\u001b[39m, \u001b[0m\u001b[1;36m500\u001b[0m\u001b[1;39m]\u001b[0m\u001b[39m, \u001b[0m  \u001b[2m              \u001b[0m\n",
       "\u001b[2;36m                    \u001b[0m         \u001b[32m'channel_power'\u001b[0m\u001b[39m: \u001b[0m\u001b[1;39m[\u001b[0m\u001b[32m'48'\u001b[0m\u001b[39m, \u001b[0m\u001b[32m'33'\u001b[0m\u001b[1;39m]\u001b[0m\u001b[39m, \u001b[0m\u001b[32m'stim_profile'\u001b[0m\u001b[39m: \u001b[0m\u001b[1;39m{\u001b[0m\u001b[32m'device_name'\u001b[0m\u001b[39m: \u001b[0m         \u001b[2m              \u001b[0m\n",
       "\u001b[2;36m                    \u001b[0m         \u001b[32m'LedDMD'\u001b[0m\u001b[39m, \u001b[0m\u001b[32m'property_name'\u001b[0m\u001b[39m: \u001b[0m\u001b[32m'Cyan_Level'\u001b[0m\u001b[39m, \u001b[0m\u001b[32m'power'\u001b[0m\u001b[39m: \u001b[0m\u001b[1;36m10\u001b[0m\u001b[39m, \u001b[0m\u001b[32m'channel'\u001b[0m\u001b[39m: \u001b[0m       \u001b[2m              \u001b[0m\n",
       "\u001b[2;36m                    \u001b[0m         \u001b[32m'CyanStim'\u001b[0m\u001b[1;39m}\u001b[0m\u001b[39m, \u001b[0m\u001b[32m'stim_exposure'\u001b[0m\u001b[39m: \u001b[0m\u001b[1;36m100\u001b[0m\u001b[39m, \u001b[0m\u001b[32m'fname'\u001b[0m\u001b[39m: \u001b[0m\u001b[32m'000_00001'\u001b[0m\u001b[39m, \u001b[0m\u001b[32m'img_type'\u001b[0m\u001b[39m: \u001b[0m   \u001b[2m              \u001b[0m\n",
       "\u001b[2;36m                    \u001b[0m         \u001b[39m<ImgType.IMG_RAW: \u001b[0m\u001b[1;36m1\u001b[0m\u001b[1m>\u001b[0m, \u001b[32m'last_channel'\u001b[0m: \u001b[3;92mTrue\u001b[0m, \u001b[32m'channel'\u001b[0m: \u001b[32m'Green'\u001b[0m\u001b[1m}\u001b[0m         \u001b[2m              \u001b[0m\n"
      ]
     },
     "metadata": {},
     "output_type": "display_data"
    },
    {
     "name": "stdout",
     "output_type": "stream",
     "text": [
      "New frame ready\n",
      "Segmenting image\n",
      "Store raw image\n",
      "index={'t': 2, 'c': 0} channel=Channel(config='Red', group='WF_DMD') exposure=500.0 min_start_time=40.0 x_pos=-3047.1 y_pos=-3719.6 metadata={'fov_object': <fov.FOV object at 0x0000023856A4CC10>, 'fov': 0, 'name': '0', 'timestep': 2, 'time': 40, 'treatment': {'stim_property': 'global', 'stim_profile': {'device_name': 'LedDMD', 'property_name': 'Cyan_Level', 'power': 10, 'channel': 'CyanStim'}, 'stim_exposure': 100, 'stim_timestep': [0]}, 'metadata': {}, 'stim': False, 'channels': ['Red', 'Green'], 'channels_exposure': [500, 500], 'channel_power': ['48', '33'], 'stim_profile': {'device_name': 'LedDMD', 'property_name': 'Cyan_Level', 'power': 10, 'channel': 'CyanStim'}, 'stim_exposure': 100, 'fname': '000_00002', 'img_type': <ImgType.IMG_RAW: 1>, 'last_channel': False, 'channel': 'Red'}\n",
      "index={'t': 2, 'c': 1} channel=Channel(config='Green', group='WF_DMD') exposure=500.0 min_start_time=40.0 x_pos=-3047.1 y_pos=-3719.6 metadata={'fov_object': <fov.FOV object at 0x0000023856A4CC10>, 'fov': 0, 'name': '0', 'timestep': 2, 'time': 40, 'treatment': {'stim_property': 'global', 'stim_profile': {'device_name': 'LedDMD', 'property_name': 'Cyan_Level', 'power': 10, 'channel': 'CyanStim'}, 'stim_exposure': 100, 'stim_timestep': [0]}, 'metadata': {}, 'stim': False, 'channels': ['Red', 'Green'], 'channels_exposure': [500, 500], 'channel_power': ['48', '33'], 'stim_profile': {'device_name': 'LedDMD', 'property_name': 'Cyan_Level', 'power': 10, 'channel': 'CyanStim'}, 'stim_exposure': 100, 'fname': '000_00002', 'img_type': <ImgType.IMG_RAW: 1>, 'last_channel': True, 'channel': 'Green'}\n",
      "finished\n"
     ]
    }
   ],
   "source": [
    "%load_ext autoreload\n",
    "%autoreload 2\n",
    "\n",
    "from add_frame import ImageProcessingPipeline\n",
    "from segmentation_stardist import SegmentatorStardist\n",
    "from stimulation import StimWholeFOV    \n",
    "from controller import Controller, Analyzer\n",
    "from tracking_trackpy import TrackerTrackpy\n",
    "from dmd import DMD\n",
    "from queue import Queue\n",
    "\n",
    "segmentator = SegmentatorStardist()\n",
    "stimulator = StimWholeFOV()\n",
    "tracker = TrackerTrackpy()\n",
    "dmd = DMD(mmc, DMD_CALIBRATION_PROFILE)\n",
    "\n",
    "pipeline = ImageProcessingPipeline(segmentator,stimulator,tracker)\n",
    "analyzer = Analyzer(pipeline)\n",
    "queue = Queue()\n",
    "controller = Controller(analyzer, mmc, queue, dmd)\n",
    "wl.run(wait_for_warmup=True)\n",
    "controller.run(df_acquire)\n",
    "wl.stop()\n",
    "print(\"finished\")"
   ]
  },
  {
   "cell_type": "code",
   "execution_count": 28,
   "metadata": {},
   "outputs": [
    {
     "data": {
      "text/html": [
       "<div>\n",
       "<style scoped>\n",
       "    .dataframe tbody tr th:only-of-type {\n",
       "        vertical-align: middle;\n",
       "    }\n",
       "\n",
       "    .dataframe tbody tr th {\n",
       "        vertical-align: top;\n",
       "    }\n",
       "\n",
       "    .dataframe thead th {\n",
       "        text-align: right;\n",
       "    }\n",
       "</style>\n",
       "<table border=\"1\" class=\"dataframe\">\n",
       "  <thead>\n",
       "    <tr style=\"text-align: right;\">\n",
       "      <th></th>\n",
       "      <th>mean_intensity_C0_nuc</th>\n",
       "      <th>mean_intensity_C1_nuc</th>\n",
       "      <th>label</th>\n",
       "      <th>x</th>\n",
       "      <th>y</th>\n",
       "      <th>mean_intensity_C0_ring</th>\n",
       "      <th>mean_intensity_C1_ring</th>\n",
       "      <th>particle</th>\n",
       "      <th>frame</th>\n",
       "      <th>stim</th>\n",
       "      <th>...</th>\n",
       "      <th>acquired</th>\n",
       "      <th>channels</th>\n",
       "      <th>channels_exposure</th>\n",
       "      <th>channel_power</th>\n",
       "      <th>stim_profile</th>\n",
       "      <th>stim_exposure</th>\n",
       "      <th>fname</th>\n",
       "      <th>img_type</th>\n",
       "      <th>last_channel</th>\n",
       "      <th>channel</th>\n",
       "    </tr>\n",
       "  </thead>\n",
       "  <tbody>\n",
       "    <tr>\n",
       "      <th>0</th>\n",
       "      <td>15794.850310</td>\n",
       "      <td>7030.674491</td>\n",
       "      <td>1</td>\n",
       "      <td>1449.204606</td>\n",
       "      <td>1157.172276</td>\n",
       "      <td>2027.836054</td>\n",
       "      <td>8764.606813</td>\n",
       "      <td>0</td>\n",
       "      <td>0</td>\n",
       "      <td>False</td>\n",
       "      <td>...</td>\n",
       "      <td>False</td>\n",
       "      <td>[Red, Green]</td>\n",
       "      <td>[500, 500]</td>\n",
       "      <td>[48, 33]</td>\n",
       "      <td>NaN</td>\n",
       "      <td>100.0</td>\n",
       "      <td>000_00003</td>\n",
       "      <td>ImgType.IMG_RAW</td>\n",
       "      <td>True</td>\n",
       "      <td>Green</td>\n",
       "    </tr>\n",
       "    <tr>\n",
       "      <th>1</th>\n",
       "      <td>10468.702200</td>\n",
       "      <td>8982.124083</td>\n",
       "      <td>2</td>\n",
       "      <td>1037.380147</td>\n",
       "      <td>1067.925550</td>\n",
       "      <td>1929.307385</td>\n",
       "      <td>11140.400532</td>\n",
       "      <td>1</td>\n",
       "      <td>0</td>\n",
       "      <td>False</td>\n",
       "      <td>...</td>\n",
       "      <td>False</td>\n",
       "      <td>[Red, Green]</td>\n",
       "      <td>[500, 500]</td>\n",
       "      <td>[48, 33]</td>\n",
       "      <td>NaN</td>\n",
       "      <td>100.0</td>\n",
       "      <td>000_00003</td>\n",
       "      <td>ImgType.IMG_RAW</td>\n",
       "      <td>True</td>\n",
       "      <td>Green</td>\n",
       "    </tr>\n",
       "    <tr>\n",
       "      <th>2</th>\n",
       "      <td>6090.786316</td>\n",
       "      <td>5357.677368</td>\n",
       "      <td>3</td>\n",
       "      <td>1807.577368</td>\n",
       "      <td>779.328947</td>\n",
       "      <td>1588.041935</td>\n",
       "      <td>5225.286452</td>\n",
       "      <td>2</td>\n",
       "      <td>0</td>\n",
       "      <td>False</td>\n",
       "      <td>...</td>\n",
       "      <td>False</td>\n",
       "      <td>[Red, Green]</td>\n",
       "      <td>[500, 500]</td>\n",
       "      <td>[48, 33]</td>\n",
       "      <td>NaN</td>\n",
       "      <td>100.0</td>\n",
       "      <td>000_00003</td>\n",
       "      <td>ImgType.IMG_RAW</td>\n",
       "      <td>True</td>\n",
       "      <td>Green</td>\n",
       "    </tr>\n",
       "    <tr>\n",
       "      <th>3</th>\n",
       "      <td>11482.417821</td>\n",
       "      <td>7621.467790</td>\n",
       "      <td>4</td>\n",
       "      <td>1030.042745</td>\n",
       "      <td>301.026490</td>\n",
       "      <td>2115.942584</td>\n",
       "      <td>7030.071087</td>\n",
       "      <td>3</td>\n",
       "      <td>0</td>\n",
       "      <td>False</td>\n",
       "      <td>...</td>\n",
       "      <td>False</td>\n",
       "      <td>[Red, Green]</td>\n",
       "      <td>[500, 500]</td>\n",
       "      <td>[48, 33]</td>\n",
       "      <td>NaN</td>\n",
       "      <td>100.0</td>\n",
       "      <td>000_00003</td>\n",
       "      <td>ImgType.IMG_RAW</td>\n",
       "      <td>True</td>\n",
       "      <td>Green</td>\n",
       "    </tr>\n",
       "    <tr>\n",
       "      <th>4</th>\n",
       "      <td>13195.260595</td>\n",
       "      <td>6885.135257</td>\n",
       "      <td>5</td>\n",
       "      <td>1257.035167</td>\n",
       "      <td>47.868350</td>\n",
       "      <td>3160.891010</td>\n",
       "      <td>6125.711217</td>\n",
       "      <td>4</td>\n",
       "      <td>0</td>\n",
       "      <td>False</td>\n",
       "      <td>...</td>\n",
       "      <td>False</td>\n",
       "      <td>[Red, Green]</td>\n",
       "      <td>[500, 500]</td>\n",
       "      <td>[48, 33]</td>\n",
       "      <td>NaN</td>\n",
       "      <td>100.0</td>\n",
       "      <td>000_00003</td>\n",
       "      <td>ImgType.IMG_RAW</td>\n",
       "      <td>True</td>\n",
       "      <td>Green</td>\n",
       "    </tr>\n",
       "    <tr>\n",
       "      <th>...</th>\n",
       "      <td>...</td>\n",
       "      <td>...</td>\n",
       "      <td>...</td>\n",
       "      <td>...</td>\n",
       "      <td>...</td>\n",
       "      <td>...</td>\n",
       "      <td>...</td>\n",
       "      <td>...</td>\n",
       "      <td>...</td>\n",
       "      <td>...</td>\n",
       "      <td>...</td>\n",
       "      <td>...</td>\n",
       "      <td>...</td>\n",
       "      <td>...</td>\n",
       "      <td>...</td>\n",
       "      <td>...</td>\n",
       "      <td>...</td>\n",
       "      <td>...</td>\n",
       "      <td>...</td>\n",
       "      <td>...</td>\n",
       "      <td>...</td>\n",
       "    </tr>\n",
       "    <tr>\n",
       "      <th>202</th>\n",
       "      <td>1678.256503</td>\n",
       "      <td>4662.350434</td>\n",
       "      <td>51</td>\n",
       "      <td>1552.354769</td>\n",
       "      <td>1304.611994</td>\n",
       "      <td>1349.972898</td>\n",
       "      <td>4863.286504</td>\n",
       "      <td>51</td>\n",
       "      <td>3</td>\n",
       "      <td>False</td>\n",
       "      <td>...</td>\n",
       "      <td>False</td>\n",
       "      <td>[Red, Green]</td>\n",
       "      <td>[500, 500]</td>\n",
       "      <td>[48, 33]</td>\n",
       "      <td>NaN</td>\n",
       "      <td>100.0</td>\n",
       "      <td>000_00003</td>\n",
       "      <td>ImgType.IMG_RAW</td>\n",
       "      <td>True</td>\n",
       "      <td>Green</td>\n",
       "    </tr>\n",
       "    <tr>\n",
       "      <th>203</th>\n",
       "      <td>2738.794118</td>\n",
       "      <td>5727.941176</td>\n",
       "      <td>52</td>\n",
       "      <td>973.235294</td>\n",
       "      <td>390.985294</td>\n",
       "      <td>1649.526316</td>\n",
       "      <td>5775.962963</td>\n",
       "      <td>49</td>\n",
       "      <td>3</td>\n",
       "      <td>False</td>\n",
       "      <td>...</td>\n",
       "      <td>False</td>\n",
       "      <td>[Red, Green]</td>\n",
       "      <td>[500, 500]</td>\n",
       "      <td>[48, 33]</td>\n",
       "      <td>NaN</td>\n",
       "      <td>100.0</td>\n",
       "      <td>000_00003</td>\n",
       "      <td>ImgType.IMG_RAW</td>\n",
       "      <td>True</td>\n",
       "      <td>Green</td>\n",
       "    </tr>\n",
       "    <tr>\n",
       "      <th>204</th>\n",
       "      <td>1799.209811</td>\n",
       "      <td>4791.371321</td>\n",
       "      <td>53</td>\n",
       "      <td>65.895094</td>\n",
       "      <td>1239.891321</td>\n",
       "      <td>1355.067164</td>\n",
       "      <td>4690.520149</td>\n",
       "      <td>53</td>\n",
       "      <td>3</td>\n",
       "      <td>False</td>\n",
       "      <td>...</td>\n",
       "      <td>False</td>\n",
       "      <td>[Red, Green]</td>\n",
       "      <td>[500, 500]</td>\n",
       "      <td>[48, 33]</td>\n",
       "      <td>NaN</td>\n",
       "      <td>100.0</td>\n",
       "      <td>000_00003</td>\n",
       "      <td>ImgType.IMG_RAW</td>\n",
       "      <td>True</td>\n",
       "      <td>Green</td>\n",
       "    </tr>\n",
       "    <tr>\n",
       "      <th>205</th>\n",
       "      <td>2103.364269</td>\n",
       "      <td>5779.733643</td>\n",
       "      <td>54</td>\n",
       "      <td>1159.126682</td>\n",
       "      <td>685.616241</td>\n",
       "      <td>1748.901220</td>\n",
       "      <td>5837.039634</td>\n",
       "      <td>48</td>\n",
       "      <td>3</td>\n",
       "      <td>False</td>\n",
       "      <td>...</td>\n",
       "      <td>False</td>\n",
       "      <td>[Red, Green]</td>\n",
       "      <td>[500, 500]</td>\n",
       "      <td>[48, 33]</td>\n",
       "      <td>NaN</td>\n",
       "      <td>100.0</td>\n",
       "      <td>000_00003</td>\n",
       "      <td>ImgType.IMG_RAW</td>\n",
       "      <td>True</td>\n",
       "      <td>Green</td>\n",
       "    </tr>\n",
       "    <tr>\n",
       "      <th>206</th>\n",
       "      <td>1993.525849</td>\n",
       "      <td>5328.104382</td>\n",
       "      <td>55</td>\n",
       "      <td>1093.013786</td>\n",
       "      <td>956.373708</td>\n",
       "      <td>1665.684145</td>\n",
       "      <td>5468.127341</td>\n",
       "      <td>52</td>\n",
       "      <td>3</td>\n",
       "      <td>False</td>\n",
       "      <td>...</td>\n",
       "      <td>False</td>\n",
       "      <td>[Red, Green]</td>\n",
       "      <td>[500, 500]</td>\n",
       "      <td>[48, 33]</td>\n",
       "      <td>NaN</td>\n",
       "      <td>100.0</td>\n",
       "      <td>000_00003</td>\n",
       "      <td>ImgType.IMG_RAW</td>\n",
       "      <td>True</td>\n",
       "      <td>Green</td>\n",
       "    </tr>\n",
       "  </tbody>\n",
       "</table>\n",
       "<p>207 rows × 27 columns</p>\n",
       "</div>"
      ],
      "text/plain": [
       "     mean_intensity_C0_nuc  mean_intensity_C1_nuc  label            x  \\\n",
       "0             15794.850310            7030.674491      1  1449.204606   \n",
       "1             10468.702200            8982.124083      2  1037.380147   \n",
       "2              6090.786316            5357.677368      3  1807.577368   \n",
       "3             11482.417821            7621.467790      4  1030.042745   \n",
       "4             13195.260595            6885.135257      5  1257.035167   \n",
       "..                     ...                    ...    ...          ...   \n",
       "202            1678.256503            4662.350434     51  1552.354769   \n",
       "203            2738.794118            5727.941176     52   973.235294   \n",
       "204            1799.209811            4791.371321     53    65.895094   \n",
       "205            2103.364269            5779.733643     54  1159.126682   \n",
       "206            1993.525849            5328.104382     55  1093.013786   \n",
       "\n",
       "               y  mean_intensity_C0_ring  mean_intensity_C1_ring  particle  \\\n",
       "0    1157.172276             2027.836054             8764.606813         0   \n",
       "1    1067.925550             1929.307385            11140.400532         1   \n",
       "2     779.328947             1588.041935             5225.286452         2   \n",
       "3     301.026490             2115.942584             7030.071087         3   \n",
       "4      47.868350             3160.891010             6125.711217         4   \n",
       "..           ...                     ...                     ...       ...   \n",
       "202  1304.611994             1349.972898             4863.286504        51   \n",
       "203   390.985294             1649.526316             5775.962963        49   \n",
       "204  1239.891321             1355.067164             4690.520149        53   \n",
       "205   685.616241             1748.901220             5837.039634        48   \n",
       "206   956.373708             1665.684145             5468.127341        52   \n",
       "\n",
       "     frame   stim  ...  acquired      channels  channels_exposure  \\\n",
       "0        0  False  ...     False  [Red, Green]         [500, 500]   \n",
       "1        0  False  ...     False  [Red, Green]         [500, 500]   \n",
       "2        0  False  ...     False  [Red, Green]         [500, 500]   \n",
       "3        0  False  ...     False  [Red, Green]         [500, 500]   \n",
       "4        0  False  ...     False  [Red, Green]         [500, 500]   \n",
       "..     ...    ...  ...       ...           ...                ...   \n",
       "202      3  False  ...     False  [Red, Green]         [500, 500]   \n",
       "203      3  False  ...     False  [Red, Green]         [500, 500]   \n",
       "204      3  False  ...     False  [Red, Green]         [500, 500]   \n",
       "205      3  False  ...     False  [Red, Green]         [500, 500]   \n",
       "206      3  False  ...     False  [Red, Green]         [500, 500]   \n",
       "\n",
       "    channel_power  stim_profile stim_exposure      fname         img_type  \\\n",
       "0        [48, 33]           NaN         100.0  000_00003  ImgType.IMG_RAW   \n",
       "1        [48, 33]           NaN         100.0  000_00003  ImgType.IMG_RAW   \n",
       "2        [48, 33]           NaN         100.0  000_00003  ImgType.IMG_RAW   \n",
       "3        [48, 33]           NaN         100.0  000_00003  ImgType.IMG_RAW   \n",
       "4        [48, 33]           NaN         100.0  000_00003  ImgType.IMG_RAW   \n",
       "..            ...           ...           ...        ...              ...   \n",
       "202      [48, 33]           NaN         100.0  000_00003  ImgType.IMG_RAW   \n",
       "203      [48, 33]           NaN         100.0  000_00003  ImgType.IMG_RAW   \n",
       "204      [48, 33]           NaN         100.0  000_00003  ImgType.IMG_RAW   \n",
       "205      [48, 33]           NaN         100.0  000_00003  ImgType.IMG_RAW   \n",
       "206      [48, 33]           NaN         100.0  000_00003  ImgType.IMG_RAW   \n",
       "\n",
       "    last_channel channel  \n",
       "0           True   Green  \n",
       "1           True   Green  \n",
       "2           True   Green  \n",
       "3           True   Green  \n",
       "4           True   Green  \n",
       "..           ...     ...  \n",
       "202         True   Green  \n",
       "203         True   Green  \n",
       "204         True   Green  \n",
       "205         True   Green  \n",
       "206         True   Green  \n",
       "\n",
       "[207 rows x 27 columns]"
      ]
     },
     "execution_count": 28,
     "metadata": {},
     "output_type": "execute_result"
    }
   ],
   "source": [
    "df_acquire[\"fov_object\"].loc[4].tracks"
   ]
  },
  {
   "cell_type": "code",
   "execution_count": 27,
   "metadata": {},
   "outputs": [
    {
     "data": {
      "text/plain": [
       "Index(['mean_intensity_C0_nuc', 'mean_intensity_C1_nuc', 'label', 'x', 'y',\n",
       "       'mean_intensity_C0_ring', 'mean_intensity_C1_ring', 'particle', 'frame',\n",
       "       'stim', 'time', 'fov', 'name', 'timestep', 'treatment', 'metadata',\n",
       "       'acquired', 'channels', 'channels_exposure', 'channel_power',\n",
       "       'stim_profile', 'stim_exposure', 'fname', 'last_channel'],\n",
       "      dtype='object')"
      ]
     },
     "execution_count": 27,
     "metadata": {},
     "output_type": "execute_result"
    }
   ],
   "source": [
    "import pandas as pd\n",
    "pd.read_parquet(os.path.join(path, \"tracks\", \"000_00004.parquet\")).columns"
   ]
  }
 ],
 "metadata": {
  "kernelspec": {
   "display_name": "pymmc_w_stardist",
   "language": "python",
   "name": "python3"
  },
  "language_info": {
   "codemirror_mode": {
    "name": "ipython",
    "version": 3
   },
   "file_extension": ".py",
   "mimetype": "text/x-python",
   "name": "python",
   "nbconvert_exporter": "python",
   "pygments_lexer": "ipython3",
   "version": "3.10.0"
  },
  "orig_nbformat": 4
 },
 "nbformat": 4,
 "nbformat_minor": 2
}

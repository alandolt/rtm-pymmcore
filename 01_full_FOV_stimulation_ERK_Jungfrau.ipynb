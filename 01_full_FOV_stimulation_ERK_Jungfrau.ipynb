{
 "cells": [
  {
   "cell_type": "markdown",
   "metadata": {},
   "source": [
    "# ERK-KTR Full FOV Stimulation Pipeline\n",
    "This notebook showcases how to use the ERK-KTR full FOV stimulation pipeline. The pipeline is designed to simulate the full field of view (FOV) stimulation of a cells with the ERK-KTR biosensor. This demo is adapted to run on our TI-Eclipse microscope called Jungfrau (see our [Mic config repository](https://github.com/pertzlab/pertzlab_mic_configs) for the full configuration file). "
   ]
  },
  {
   "cell_type": "markdown",
   "metadata": {},
   "source": [
    "### Import required libraries"
   ]
  },
  {
   "cell_type": "code",
   "execution_count": null,
   "metadata": {},
   "outputs": [],
   "source": [
    "import os\n",
    "import time\n",
    "\n",
    "os.environ[\"QT_LOGGING_RULES\"] = (\n",
    "    \"*.debug=false; *.warning=false\"  # Fix to suppress PyQT warnings from napari-micromanager when running in a Jupyter notebook\n",
    ")\n",
    "os.environ[\"MICROMANAGER_PATH\"] = \"C:\\\\Program Files\\\\Micro-Manager-2.0\"\n",
    "\n",
    "from rtm_pymmcore.data_structures import Fov, Channel, StimTreatment\n",
    "from pprint import pprint\n",
    "import pandas as pd\n",
    "import numpy as np\n",
    "import dataclasses\n",
    "import random\n",
    "import pymmcore_plus\n",
    "\n",
    "mmc = pymmcore_plus.CMMCorePlus()"
   ]
  },
  {
   "cell_type": "markdown",
   "metadata": {},
   "source": [
    "### Experimental Settings"
   ]
  },
  {
   "cell_type": "code",
   "execution_count": null,
   "metadata": {},
   "outputs": [],
   "source": [
    "## Configuration options\n",
    "N_FRAMES = 60\n",
    "FIRST_FRAME_STIMULATION = 10\n",
    "\n",
    "SLEEP_BEFORE_EXPERIMENT_START_in_H = 0\n",
    "USE_AUTOFOCUS_EVENT = False\n",
    "\n",
    "TIME_BETWEEN_TIMESTEPS = 60  # time in seconds between frames\n",
    "TIME_PER_FOV = 6  # time in seconds per fov\n",
    "\n",
    "\n",
    "## Storage path for the experiment\n",
    "base_path = \"C:\\\\Users\\\\Alex\\\\Ausbildung\\\\PhD_temp\\\\test_exp\"\n",
    "experiment_name = \"exp_test\"\n",
    "path = os.path.join(base_path, experiment_name)\n",
    "\n",
    "# Define Channels for which Images are taken. If no power is defined, the default power of the device will be used,\n",
    "# for example, see the second channel \"Cy5\" below. The default power is set in the GUI\n",
    "channels = []\n",
    "channels.append(Channel(name=\"miRFP\", exposure=150))\n",
    "channels.append(Channel(name=\"mScarlet3\", exposure=100))\n",
    "\n",
    "\n",
    "# Condition mapping to FOVs. This is used to create a dataframe with the conditions and the FOVs.\n",
    "condition = [\n",
    "    \"FGFR_high\",\n",
    "    \"TrkA_high\",\n",
    "]  # Example of adding a condition to the dataframe. Stimulation will be repeated for each condition.\n",
    "# condition = [\"optoFGFR_high\"] * 24 + [\"optoFGFR\"] * 24 # Example of adding multiple conditions to the dataframe. n repreats the amount of times the condition is repeated.\n",
    "\n",
    "n_fovs_per_condition = 1  ## change this variable to the amount of fovs that you have per cell line. If only one cell line is set, this value will\n",
    "# automatically set to total amount of fovs.\n",
    "\n",
    "n_fovs_per_well = 6  ## change this variable to the amount of fovs that you have per well. Set to None if you are not working with wellplate.\n",
    "\n",
    "\n",
    "# Stimulation parameters for optogenetics. The stimulation will be repeated for each condition.\n",
    "\n",
    "stim_exposures = [\n",
    "    60\n",
    "]  # or e.g. [10, 20, 30] for different exposures. The exposure time is the time that the LED is on.\n",
    "# Define the stimulation timesteps\n",
    "stim_timesteps = [\n",
    "    range(FIRST_FRAME_STIMULATION, N_FRAMES, 2)\n",
    "]  # Using range to define timesteps from FIRST_FRAME_STIMULATION to N_FRAMES with step 2\n",
    "\n",
    "# Combine the different paramters in stim_exposure and stim timestep to create stim_treatments which represents all possible combinations\n",
    "stim_treatments = [\n",
    "    StimTreatment(\n",
    "        stim_channel_name=\"CyanStim\",\n",
    "        stim_channel_group=\"TTL_ERK\",\n",
    "        stim_timestep=stim_timestep,\n",
    "        stim_exposure=stim_exposure,\n",
    "        stim_power=3,\n",
    "        stim_channel_device_name=\"Spectra\",\n",
    "        stim_channel_power_property_name=\"Cyan_Level\",\n",
    "    )\n",
    "    for stim_exposure in stim_exposures\n",
    "    for stim_timestep in stim_timesteps\n",
    "]\n",
    "for stim_treatment in stim_treatments:\n",
    "    if isinstance(stim_treatment.stim_timestep, range):\n",
    "        stim_treatment.stim_timestep = tuple(stim_treatment.stim_timestep)\n",
    "\n",
    "## Define the Tools that you are using for the experiment\n",
    "from rtm_pymmcore.segmentation.stardist import SegmentatorStardist\n",
    "from rtm_pymmcore.stimulation.base_stimulation import StimWholeFOV\n",
    "from rtm_pymmcore.tracking.trackpy import TrackerTrackpy\n",
    "from rtm_pymmcore.feature_extraction.erk_ktr import FE_ErkKtr\n",
    "\n",
    "segmentators = [\n",
    "    {\n",
    "        \"name\": \"labels\",\n",
    "        \"class\": SegmentatorStardist(min_size=200, prob_thresh=0.55),\n",
    "        \"use_channel\": 0,\n",
    "        \"save_tracked\": True,\n",
    "    },\n",
    "]\n",
    "stimulator = StimWholeFOV()\n",
    "feature_extractor = FE_ErkKtr(\"labels\")\n",
    "tracker = TrackerTrackpy()\n",
    "\n",
    "pprint(stim_treatments)\n",
    "\n",
    "\n",
    "from rtm_pymmcore.img_processing_pip import ImageProcessingPipeline\n",
    "\n",
    "pipeline = ImageProcessingPipeline(\n",
    "    storage_path=path,\n",
    "    segmentators=segmentators,\n",
    "    feature_extractor=feature_extractor,\n",
    "    tracker=tracker,\n",
    "    stimulator=stimulator,\n",
    ")"
   ]
  },
  {
   "cell_type": "markdown",
   "metadata": {},
   "source": [
    "### Load device and set startup channel"
   ]
  },
  {
   "cell_type": "code",
   "execution_count": null,
   "metadata": {},
   "outputs": [],
   "source": [
    "mmc.loadSystemConfiguration(\n",
    "    \"E:\\\\pertzlab_mic_configs\\\\micromanager\\\\\\Jungfrau\\\\TiFluoroJungfrau_w_TTL_DIGITALIO.cfg\"\n",
    ")\n",
    "mmc.setConfig(groupName=\"System\", configName=\"Startup\")\n",
    "mmc.setChannelGroup(channelGroup=\"TTL_ERK\")"
   ]
  },
  {
   "cell_type": "markdown",
   "metadata": {},
   "source": [
    "### GUI - Napari Micromanager"
   ]
  },
  {
   "cell_type": "markdown",
   "metadata": {},
   "source": [
    "#### Load GUI"
   ]
  },
  {
   "cell_type": "code",
   "execution_count": null,
   "metadata": {},
   "outputs": [],
   "source": [
    "### Base GUI ###\n",
    "from napari_micromanager import MainWindow\n",
    "import napari\n",
    "\n",
    "viewer = napari.Viewer()\n",
    "mm_wdg = MainWindow(viewer)\n",
    "viewer.window.add_dock_widget(mm_wdg)\n",
    "data_mda_fovs = None\n",
    "\n",
    "### Add MDA widget for FOV selection ###\n",
    "from pymmcore_widgets.mda import MDAWidget\n",
    "\n",
    "mdawidget = MDAWidget(mmcore=mmc)\n",
    "viewer.window.add_dock_widget(mdawidget)\n",
    "load_from_file = False"
   ]
  },
  {
   "cell_type": "markdown",
   "metadata": {},
   "source": [
    "#### Functions to break and re-connect link with GUI if manually broken\n",
    "\n",
    "The following functions can be used to manually interrupt to connection between the GUI and the running rtm-pymmcore script. However, normally you don't need to execute them. "
   ]
  },
  {
   "cell_type": "code",
   "execution_count": null,
   "metadata": {},
   "outputs": [],
   "source": [
    "### Break connection\n",
    "# mm_wdg._core_link.cleanup()"
   ]
  },
  {
   "cell_type": "code",
   "execution_count": null,
   "metadata": {},
   "outputs": [],
   "source": [
    "### Manually reconnect pymmcore with napari-micromanager\n",
    "from napari_micromanager._core_link import CoreViewerLink\n",
    "\n",
    "mm_wdg._core_link = CoreViewerLink(viewer, mmc)"
   ]
  },
  {
   "cell_type": "markdown",
   "metadata": {},
   "source": [
    "### Map Experiment to FOVs"
   ]
  },
  {
   "cell_type": "markdown",
   "metadata": {},
   "source": [
    "#### If FOVs already saved - Reload them from file"
   ]
  },
  {
   "cell_type": "code",
   "execution_count": null,
   "metadata": {},
   "outputs": [],
   "source": [
    "import json\n",
    "\n",
    "file = os.path.join(path, \"fovs.json\")\n",
    "with open(file, \"r\") as f:\n",
    "    data_mda_fovs = json.load(f)\n",
    "load_from_file = True"
   ]
  },
  {
   "cell_type": "markdown",
   "metadata": {},
   "source": [
    "### Use FOVs to generate dataframe for acquisition"
   ]
  },
  {
   "cell_type": "code",
   "execution_count": null,
   "metadata": {},
   "outputs": [],
   "source": [
    "n_fovs_simultaneously = TIME_BETWEEN_TIMESTEPS // TIME_PER_FOV\n",
    "timesteps = range(N_FRAMES)\n",
    "\n",
    "start_time = 0\n",
    "if not load_from_file:\n",
    "    data_mda_fovs = mdawidget.value().stage_positions\n",
    "    data_mda_fovs_dict = []\n",
    "    for data_mda in data_mda_fovs:\n",
    "        data_mda_fovs_dict.append(data_mda.model_dump())\n",
    "    data_mda_fovs = data_mda_fovs_dict\n",
    "    if data_mda_fovs is None:\n",
    "        assert False, \"No fovs selected. Please select fovs in the MDA widget\"\n",
    "\n",
    "dfs = []\n",
    "fovs = []\n",
    "for fov_index, fov in enumerate(data_mda_fovs):\n",
    "    fov_object = Fov(fov_index)\n",
    "    fovs.append(fov_object)\n",
    "    fov_group = fov_index // n_fovs_simultaneously\n",
    "    start_time = fov_group * TIME_BETWEEN_TIMESTEPS * len(timesteps)\n",
    "    if len(condition) == 1:\n",
    "        condition_fov = condition[0]\n",
    "    else:\n",
    "        condition_fov = condition[fov_index // n_fovs_per_condition]\n",
    "    for timestep in timesteps:\n",
    "        row = {\n",
    "            \"fov_object\": fov_object,\n",
    "            \"fov\": fov_index,\n",
    "            \"fov_x\": fov.get(\"x\"),\n",
    "            \"fov_y\": fov.get(\"y\"),\n",
    "            \"fov_z\": fov.get(\"z\"),\n",
    "            \"fov_name\": str(fov_index) if fov[\"name\"] is None else fov.name,\n",
    "            \"timestep\": timestep,\n",
    "            \"time\": start_time + timestep * TIME_BETWEEN_TIMESTEPS,\n",
    "            \"cell_line\": condition_fov,\n",
    "            \"channels\": tuple(dataclasses.asdict(channel) for channel in channels),\n",
    "            \"fname\": f\"{str(fov_index).zfill(3)}_{str(timestep).zfill(5)}\",\n",
    "        }\n",
    "        dfs.append(row)\n",
    "\n",
    "df_acquire = pd.DataFrame(dfs)\n",
    "\n",
    "print(f\"Total Experiment Time: {df_acquire['time'].max()/3600}h\")\n",
    "\n",
    "for stim_treatment in stim_treatments:\n",
    "    if isinstance(stim_treatment.stim_timestep, range):\n",
    "        stim_treatment.stim_timestep = tuple(stim_treatment.stim_timestep)\n",
    "\n",
    "n_fovs = len(data_mda_fovs)\n",
    "n_stim_treatments = len(stim_treatments)\n",
    "if n_stim_treatments > 0:\n",
    "    n_fovs_per_stim_condition = n_fovs // n_stim_treatments // len(np.unique(condition))\n",
    "    stim_treatment_tot = []\n",
    "    random.shuffle(stim_treatments)\n",
    "    if n_fovs_per_well is not None:\n",
    "        for stim_treat in stim_treatments:\n",
    "            stim_treatment_tot.extend([stim_treat] * n_fovs_per_well)\n",
    "\n",
    "    else:\n",
    "        for fov_index in range(0, n_fovs_per_stim_condition):\n",
    "            stim_treatment_tot.extend(stim_treatments)\n",
    "        random.shuffle(stim_treatment_tot)\n",
    "\n",
    "        if n_fovs % n_stim_treatments != 0:\n",
    "            print(\n",
    "                f\"Warning: Not equal number of fovs per stim condition. {n_fovs % n_stim_treatments} fovs will have repeated treatment\"\n",
    "            )\n",
    "            stim_treatment_tot.extend(stim_treatments[: n_fovs % n_stim_treatments])\n",
    "    print(f\"Doing {n_fovs_per_stim_condition} experiment per stim condition\")\n",
    "\n",
    "    if len(condition) == 1:\n",
    "        n_fovs_per_condition = n_fovs\n",
    "    else:\n",
    "        stim_treatment_tot = stim_treatment_tot * len(np.unique(condition))\n",
    "\n",
    "    df_acquire = pd.merge(\n",
    "        df_acquire, pd.DataFrame(stim_treatment_tot), left_on=\"fov\", right_index=True\n",
    "    )\n",
    "\n",
    "    # Add stim column that checks if current timestep is in the stim_timestep tuple\n",
    "    df_acquire[\"stim\"] = df_acquire.apply(\n",
    "        lambda row: (\n",
    "            row[\"timestep\"] in row[\"stim_timestep\"]\n",
    "            if isinstance(row[\"stim_timestep\"], tuple) and row[\"stim_exposure\"] > 0\n",
    "            else False\n",
    "        ),\n",
    "        axis=1,\n",
    "    )\n",
    "\n",
    "df_acquire = df_acquire.dropna(axis=1, how=\"all\")\n",
    "pd.set_option(\"display.max_columns\", None)\n",
    "pd.set_option(\"display.expand_frame_repr\", True)\n",
    "df_acquire = df_acquire.sort_values(by=[\"time\", \"fov\"]).reset_index(drop=True)\n",
    "df_acquire"
   ]
  },
  {
   "attachments": {},
   "cell_type": "markdown",
   "metadata": {},
   "source": [
    "### Run experiment"
   ]
  },
  {
   "cell_type": "code",
   "execution_count": null,
   "metadata": {},
   "outputs": [],
   "source": [
    "pymmcore_plus.configure_logging(stderr_level=\"WARNING\")\n",
    "for _ in range(0, SLEEP_BEFORE_EXPERIMENT_START_in_H * 3600):\n",
    "    time.sleep(1)\n",
    "from rtm_pymmcore.controller import Controller, Analyzer\n",
    "from queue import Queue\n",
    "\n",
    "try:\n",
    "    mm_wdg._core_link.cleanup()\n",
    "except:\n",
    "    pass\n",
    "\n",
    "\n",
    "analyzer = Analyzer(pipeline)\n",
    "queue = Queue()\n",
    "controller = Controller(\n",
    "    analyzer,\n",
    "    mmc,\n",
    "    queue,\n",
    ")\n",
    "controller.run(df_acquire)\n",
    "print(\"Experiment finished\")\n",
    "\n",
    "fovs_i_list = os.listdir(os.path.join(path, \"tracks\"))\n",
    "fovs_i_list.sort()\n",
    "dfs = []\n",
    "for fov_i in fovs_i_list:\n",
    "    track_file = os.path.join(path, \"tracks\", fov_i)\n",
    "    df = pd.read_parquet(track_file)\n",
    "    dfs.append(df)\n",
    "pd.concat(dfs).to_parquet(os.path.join(path, \"exp_data.parquet\"))"
   ]
  }
 ],
 "metadata": {
  "kernelspec": {
   "display_name": "pymmcore",
   "language": "python",
   "name": "python3"
  },
  "language_info": {
   "codemirror_mode": {
    "name": "ipython",
    "version": 3
   },
   "file_extension": ".py",
   "mimetype": "text/x-python",
   "name": "python",
   "nbconvert_exporter": "python",
   "pygments_lexer": "ipython3",
   "version": "3.11.0"
  },
  "orig_nbformat": 4
 },
 "nbformat": 4,
 "nbformat_minor": 2
}

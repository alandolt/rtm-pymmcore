{
 "cells": [
  {
   "cell_type": "markdown",
   "metadata": {},
   "source": [
    "# ERK-KTR Full FOV Stimulation Pipeline"
   ]
  },
  {
   "cell_type": "markdown",
   "metadata": {},
   "source": [
    "## System Init"
   ]
  },
  {
   "cell_type": "markdown",
   "metadata": {},
   "source": [
    "### Load pymmcore and required python libraries"
   ]
  },
  {
   "cell_type": "code",
   "execution_count": 23,
   "metadata": {},
   "outputs": [],
   "source": [
    "import os\n",
    "import time\n",
    "\n",
    "os.environ['QT_LOGGING_RULES'] = '*.debug=false; *.warning=false' # Fix to suppress PyQT warnings from napari-micromanager when running in a Jupyter notebook\n",
    "os.environ['MICROMANAGER_PATH'] = \"C:\\\\Program Files\\\\Micro-Manager-2.0\"\n",
    "\n",
    "from fov import FOV\n",
    "from useq import MDAEvent\n",
    "import pandas as pd\n",
    "import numpy as np\n",
    "import random\n",
    "import napari\n",
    "import pymmcore_plus\n",
    "from napari_micromanager import MainWindow\n",
    "\n",
    "from utils import create_folders\n",
    "from useq._mda_event import SLMImage\n",
    "\n",
    "mmc = pymmcore_plus.CMMCorePlus()"
   ]
  },
  {
   "cell_type": "markdown",
   "metadata": {},
   "source": [
    "### Device Specific Init for Niesen Microscope"
   ]
  },
  {
   "cell_type": "code",
   "execution_count": 24,
   "metadata": {},
   "outputs": [
    {
     "ename": "OSError",
     "evalue": "Line 69: Property,Core,Initialize,1\nError in device \"Andor sCMOS Camera\": Unable to communicate with the device. (35)\n\n",
     "output_type": "error",
     "traceback": [
      "\u001b[1;31m---------------------------------------------------------------------------\u001b[0m",
      "\u001b[1;31mOSError\u001b[0m                                   Traceback (most recent call last)",
      "Cell \u001b[1;32mIn[24], line 1\u001b[0m\n\u001b[1;32m----> 1\u001b[0m \u001b[43mmmc\u001b[49m\u001b[38;5;241;43m.\u001b[39;49m\u001b[43mloadSystemConfiguration\u001b[49m\u001b[43m(\u001b[49m\u001b[38;5;124;43m\"\u001b[39;49m\u001b[38;5;124;43mE:\u001b[39;49m\u001b[38;5;130;43;01m\\\\\u001b[39;49;00m\u001b[38;5;124;43mpertzlab_mic_configs\u001b[39;49m\u001b[38;5;130;43;01m\\\\\u001b[39;49;00m\u001b[38;5;124;43mmicromanager\u001b[39;49m\u001b[38;5;130;43;01m\\\\\u001b[39;49;00m\u001b[38;5;124;43m\\\u001b[39;49m\u001b[38;5;124;43mJungfrau\u001b[39;49m\u001b[38;5;130;43;01m\\\\\u001b[39;49;00m\u001b[38;5;124;43mTiFluoroJungfrau_w_TTL_DIGITALIO.cfg\u001b[39;49m\u001b[38;5;124;43m\"\u001b[39;49m\u001b[43m)\u001b[49m\n\u001b[0;32m      2\u001b[0m mmc\u001b[38;5;241m.\u001b[39msetChannelGroup(channelGroup\u001b[38;5;241m=\u001b[39m\u001b[38;5;124m\"\u001b[39m\u001b[38;5;124mTTL_ERK\u001b[39m\u001b[38;5;124m\"\u001b[39m)\n",
      "File \u001b[1;32mc:\\Users\\Jungfrau\\miniforge3\\envs\\pymmcore_w_stardist\\lib\\site-packages\\pymmcore_plus\\core\\_mmcore_plus.py:403\u001b[0m, in \u001b[0;36mCMMCorePlus.loadSystemConfiguration\u001b[1;34m(self, fileName)\u001b[0m\n\u001b[0;32m    401\u001b[0m     \u001b[38;5;28;01mraise\u001b[39;00m \u001b[38;5;167;01mFileNotFoundError\u001b[39;00m(\u001b[38;5;124mf\u001b[39m\u001b[38;5;124m\"\u001b[39m\u001b[38;5;124mPath does not exist: \u001b[39m\u001b[38;5;132;01m{\u001b[39;00mfpath\u001b[38;5;132;01m}\u001b[39;00m\u001b[38;5;124m\"\u001b[39m)\n\u001b[0;32m    402\u001b[0m \u001b[38;5;28mself\u001b[39m\u001b[38;5;241m.\u001b[39m_last_config \u001b[38;5;241m=\u001b[39m \u001b[38;5;28mstr\u001b[39m(fpath\u001b[38;5;241m.\u001b[39mresolve())\n\u001b[1;32m--> 403\u001b[0m \u001b[38;5;28;43msuper\u001b[39;49m\u001b[43m(\u001b[49m\u001b[43m)\u001b[49m\u001b[38;5;241;43m.\u001b[39;49m\u001b[43mloadSystemConfiguration\u001b[49m\u001b[43m(\u001b[49m\u001b[38;5;28;43mself\u001b[39;49m\u001b[38;5;241;43m.\u001b[39;49m\u001b[43m_last_config\u001b[49m\u001b[43m)\u001b[49m\n",
      "\u001b[1;31mOSError\u001b[0m: Line 69: Property,Core,Initialize,1\nError in device \"Andor sCMOS Camera\": Unable to communicate with the device. (35)\n\n"
     ]
    }
   ],
   "source": [
    "mmc.loadSystemConfiguration(\"E:\\\\pertzlab_mic_configs\\\\micromanager\\\\\\Jungfrau\\\\TiFluoroJungfrau_w_TTL_DIGITALIO.cfg\")\n",
    "mmc.setChannelGroup(channelGroup=\"TTL_ERK\")"
   ]
  },
  {
   "cell_type": "markdown",
   "metadata": {},
   "source": [
    "## GUI - Napari Micromanager"
   ]
  },
  {
   "cell_type": "markdown",
   "metadata": {},
   "source": [
    "### Load GUI"
   ]
  },
  {
   "cell_type": "code",
   "execution_count": 25,
   "metadata": {},
   "outputs": [
    {
     "data": {
      "text/plain": [
       "<napari._qt.widgets.qt_viewer_dock_widget.QtViewerDockWidget at 0x17cbf810430>"
      ]
     },
     "execution_count": 25,
     "metadata": {},
     "output_type": "execute_result"
    }
   ],
   "source": [
    "### Base GUI ###\n",
    "viewer = napari.Viewer()\n",
    "mm_wdg = MainWindow(viewer)\n",
    "viewer.window.add_dock_widget(mm_wdg)"
   ]
  },
  {
   "cell_type": "code",
   "execution_count": 4,
   "metadata": {},
   "outputs": [
    {
     "data": {
      "text/plain": [
       "<napari._qt.widgets.qt_viewer_dock_widget.QtViewerDockWidget at 0x17c6469e680>"
      ]
     },
     "execution_count": 4,
     "metadata": {},
     "output_type": "execute_result"
    }
   ],
   "source": [
    "### Add MDA widget for FOV selection ###\n",
    "from pymmcore_widgets.mda import MDAWidget\n",
    "mdawidget = MDAWidget(mmcore = mmc)\n",
    "viewer.window.add_dock_widget(mdawidget)"
   ]
  },
  {
   "cell_type": "markdown",
   "metadata": {},
   "source": [
    "### Functions to break and re-connect link with GUI if manually broken\n",
    "\n",
    "The following functions can be used to manually interrupt to connection between the GUI and the running rtm-pymmcore script. However, normally you don't need to execute them. "
   ]
  },
  {
   "cell_type": "code",
   "execution_count": 10,
   "metadata": {},
   "outputs": [],
   "source": [
    "### Break connection\n",
    "# mm_wdg._core_link.cleanup()"
   ]
  },
  {
   "cell_type": "code",
   "execution_count": 21,
   "metadata": {},
   "outputs": [],
   "source": [
    "### Manually reconnect pymmcore with napari-micromanager\n",
    "from napari_micromanager._core_link import CoreViewerLink\n",
    "mm_wdg._core_link = CoreViewerLink(viewer, mmc)"
   ]
  },
  {
   "attachments": {},
   "cell_type": "markdown",
   "metadata": {},
   "source": [
    "## Create a DF with all planned acquisitions and stimulations"
   ]
  },
  {
   "cell_type": "markdown",
   "metadata": {},
   "source": [
    "### Settings for Experiment"
   ]
  },
  {
   "cell_type": "code",
   "execution_count": 17,
   "metadata": {},
   "outputs": [
    {
     "name": "stdout",
     "output_type": "stream",
     "text": [
      "Directory \\\\izbkingston.unibe.ch\\imaging.data\\mic01-imaging\\Alex\\pymmcore\\2025-03-10_TrKA1_FGFRhigh\\stim already exists\n",
      "Directory \\\\izbkingston.unibe.ch\\imaging.data\\mic01-imaging\\Alex\\pymmcore\\2025-03-10_TrKA1_FGFRhigh\\raw already exists\n",
      "Directory \\\\izbkingston.unibe.ch\\imaging.data\\mic01-imaging\\Alex\\pymmcore\\2025-03-10_TrKA1_FGFRhigh\\labels already exists\n",
      "Directory \\\\izbkingston.unibe.ch\\imaging.data\\mic01-imaging\\Alex\\pymmcore\\2025-03-10_TrKA1_FGFRhigh\\stim_mask already exists\n",
      "Directory \\\\izbkingston.unibe.ch\\imaging.data\\mic01-imaging\\Alex\\pymmcore\\2025-03-10_TrKA1_FGFRhigh\\tracks already exists\n",
      "Directory \\\\izbkingston.unibe.ch\\imaging.data\\mic01-imaging\\Alex\\pymmcore\\2025-03-10_TrKA1_FGFRhigh\\labels_rings already exists\n",
      "Directory \\\\izbkingston.unibe.ch\\imaging.data\\mic01-imaging\\Alex\\pymmcore\\2025-03-10_TrKA1_FGFRhigh\\particles already exists\n"
     ]
    },
    {
     "data": {
      "text/plain": [
       "[{'stim_property': 'global',\n",
       "  'stim_profile': {'device_name': 'Spectra',\n",
       "   'property_name': 'Cyan_Level',\n",
       "   'power': 5,\n",
       "   'channel': 'CyanStim'},\n",
       "  'stim_exposure': 0,\n",
       "  'stim_timestep': [10]},\n",
       " {'stim_property': 'global',\n",
       "  'stim_profile': {'device_name': 'Spectra',\n",
       "   'property_name': 'Cyan_Level',\n",
       "   'power': 5,\n",
       "   'channel': 'CyanStim'},\n",
       "  'stim_exposure': 25,\n",
       "  'stim_timestep': [10]},\n",
       " {'stim_property': 'global',\n",
       "  'stim_profile': {'device_name': 'Spectra',\n",
       "   'property_name': 'Cyan_Level',\n",
       "   'power': 5,\n",
       "   'channel': 'CyanStim'},\n",
       "  'stim_exposure': 50,\n",
       "  'stim_timestep': [10]},\n",
       " {'stim_property': 'global',\n",
       "  'stim_profile': {'device_name': 'Spectra',\n",
       "   'property_name': 'Cyan_Level',\n",
       "   'power': 5,\n",
       "   'channel': 'CyanStim'},\n",
       "  'stim_exposure': 75,\n",
       "  'stim_timestep': [10]},\n",
       " {'stim_property': 'global',\n",
       "  'stim_profile': {'device_name': 'Spectra',\n",
       "   'property_name': 'Cyan_Level',\n",
       "   'power': 5,\n",
       "   'channel': 'CyanStim'},\n",
       "  'stim_exposure': 100,\n",
       "  'stim_timestep': [10]},\n",
       " {'stim_property': 'global',\n",
       "  'stim_profile': {'device_name': 'Spectra',\n",
       "   'property_name': 'Cyan_Level',\n",
       "   'power': 5,\n",
       "   'channel': 'CyanStim'},\n",
       "  'stim_exposure': 250,\n",
       "  'stim_timestep': [10]}]"
      ]
     },
     "execution_count": 17,
     "metadata": {},
     "output_type": "execute_result"
    }
   ],
   "source": [
    "df_acquire = pd.DataFrame(columns=['fov', 'timestep', 'time','time_experiment', 'treatment', 'acquired','stim', 'channels', 'channel_stim'])\n",
    "\n",
    "base_path = \"\\\\\\\\izbkingston.unibe.ch\\\\imaging.data\\\\mic01-imaging\\\\Alex\\\\pymmcore\\\\\"\n",
    "experiment_name = \"2025-03-10_TrKA1_FGFRhigh\"\n",
    "path  = os.path.join(base_path, experiment_name)\n",
    "\n",
    "create_folders(path,['stim','raw','labels','stim_mask','tracks','labels_rings','particles'])\n",
    "\n",
    "time_between_frames = 60 #time in seconds between frames\n",
    "time_per_fov = 10 #time in seconds per fov\n",
    "\n",
    "timesteps = range(60)  \n",
    "channels = ['miRFP', 'mRuby'] #channel for segmentation first\n",
    "channels_exposure = [200, 150]\n",
    "\n",
    "# take values from UI, if loaded\n",
    "intensity_red_laser = mmc.getProperty(\"Spectra\", \"Red_Level\")\n",
    "intensity_green_laser = mmc.getProperty(\"Spectra\", \"Green_Level\")\n",
    "\n",
    "if intensity_red_laser != str(0) and intensity_green_laser != str(0):\n",
    "    channels_power = [intensity_red_laser, intensity_green_laser]\n",
    "else:\n",
    "    channels_power = [80, 30]\n",
    "    for channel, power in zip(channels, channels_power):\n",
    "        mmc.setProperty(\"Spectra\", f\"{channel.upper()}_Level\", power)\n",
    "\n",
    "\n",
    "# cell_lines = [\"optoFGFR_high\"] * 24 + [\"optoFGFR\"] * 24\n",
    "cell_lines = [\"optoTrkA1\", \"optoFGFR1_high\"] \n",
    "\n",
    "\n",
    "stim_exposures = [0, 25, 50, 75, 100, 250] # list of possible exposures in ms\n",
    "stim_timesteps = [[10]]  # list of timesteps for stimulation, if e.g. double stimulation in frame 0 and 1 is needed write [[0,1]]\n",
    "stim_profiles = [{\"device_name\": \"Spectra\", \"property_name\": \"Cyan_Level\", \"power\": 5, \"channel\": \"CyanStim\"}]\n",
    "stim_treatment = [{\"stim_property\": \"global\", \"stim_profile\": stim_profile, \"stim_exposure\": stim_exposure, \"stim_timestep\": stim_timestep} \n",
    "                  for stim_profile in stim_profiles for stim_exposure in stim_exposures for stim_timestep in stim_timesteps]\n",
    "\n",
    "# if defining individual fovs, else these values a re ignored: \n",
    "n_fovs_per_cell_line = 24 ## change this variable to the amount of fovs that you have per cell line. If only one cell line is set, this value will \n",
    "                        # automatically set to total amount of fovs. If you are working will wellplate, this value will be ignored, as each columns\n",
    "                        # will be an entry in the cell lines list. \n",
    "\n",
    "n_fovs_per_well = 4 ## change this variable to the amount of fovs that you have per well. Set to None if you are not working with wellplate.\n",
    "                    # If you are working with the autogenetreated wellplate, this value will be ignored, as each columns will be an entry in the cell lines list.\n",
    "\n",
    "data_mda_fovs = None\n",
    "stim_treatment"
   ]
  },
  {
   "cell_type": "code",
   "execution_count": 51,
   "metadata": {},
   "outputs": [
    {
     "data": {
      "image/png": "[encoded data removed]",
      "text/plain": [
       "<Figure size 640x480 with 1 Axes>"
      ]
     },
     "metadata": {},
     "output_type": "display_data"
    }
   ],
   "source": [
    "import matplotlib.pyplot as plt\n",
    "plt.figure()\n",
    "data_mda_fovs = mdawidget.value().stage_positions\n",
    "i = 0\n",
    "for fov_x_y in data_mda_fovs:\n",
    "    plt.scatter(fov_x_y.x, fov_x_y.y, label=f'{fov_x_y.x},{fov_x_y.y}')\n",
    "    plt.text(fov_x_y.x, fov_x_y.y, f'{i}')\n",
    "    i+=1\n",
    "plt.show()"
   ]
  },
  {
   "cell_type": "markdown",
   "metadata": {},
   "source": [
    "### Map Experiment to FOVs"
   ]
  },
  {
   "cell_type": "markdown",
   "metadata": {},
   "source": [
    "#### If FOVs already saved - Reload them from file"
   ]
  },
  {
   "cell_type": "code",
   "execution_count": 4,
   "metadata": {},
   "outputs": [],
   "source": [
    "import json\n",
    "file = os.path.join(path, \"fovs.json\")\n",
    "with open(file, \"r\") as f:\n",
    "    data_mda_fovs = json.load(f)"
   ]
  },
  {
   "cell_type": "markdown",
   "metadata": {},
   "source": [
    "Only select one of the following two code blocks. If you autogenerated FOVs using the wellplate option of the MDA widget, then use the first code block, else the second. "
   ]
  },
  {
   "cell_type": "markdown",
   "metadata": {},
   "source": [
    "#### MDA Widget was used in wellplate mode with autogenerated FOVs"
   ]
  },
  {
   "cell_type": "code",
   "execution_count": null,
   "metadata": {},
   "outputs": [],
   "source": [
    "random.shuffle(stim_treatment)\n",
    "fovs:list[FOV] = []\n",
    "if data_mda_fovs is None:\n",
    "    data_mda_fovs = mdawidget.value()\n",
    "n_fovs = len(data_mda_fovs.stage_positions)\n",
    "pts_per_well = data_mda_fovs.stage_positions.well_points_plan.num_points\n",
    "n_wells = n_fovs // pts_per_well\n",
    "\n",
    "used_well_columns = []\n",
    "\n",
    "for i, row in enumerate(data_mda_fovs.stage_positions):\n",
    "    well_column = int(row.name.split('_')[0][1:])\n",
    "    used_well_columns.append(well_column)\n",
    "\n",
    "unique_well_columns = list(set(used_well_columns))\n",
    "unique_well_column_translation = {col: idx for idx, col in enumerate(unique_well_columns)}\n",
    "  \n",
    "\n",
    "for i, row in enumerate(data_mda_fovs.stage_positions):\n",
    "    well_row = row.name.split('_')[0][0]\n",
    "    well_id = i%pts_per_well\n",
    "    if len(cell_lines) == 1:\n",
    "        cell_line = cell_lines[0]\n",
    "    else: \n",
    "        cell_line = cell_lines[unique_well_column_translation[well_column]]\n",
    "    fov = FOV(pos=(row.x, row.y),\n",
    "              index=i,\n",
    "              name=row.name,\n",
    "              path=path,\n",
    "              metadata={\"well_column\": well_column, \"well_row\": well_row, \"well_id\": well_id, \"cell_line\": cell_line},\n",
    "              treatment=stim_treatment[i%len(stim_treatment)],\n",
    "              )\n",
    "    fovs.append(fov)"
   ]
  },
  {
   "cell_type": "markdown",
   "metadata": {},
   "source": [
    "#### FOVs were manually selected using MDA widget"
   ]
  },
  {
   "cell_type": "code",
   "execution_count": 18,
   "metadata": {},
   "outputs": [
    {
     "name": "stdout",
     "output_type": "stream",
     "text": [
      "Doing 4 replicates per stim condition\n"
     ]
    }
   ],
   "source": [
    "fovs:list[FOV] = []\n",
    "if data_mda_fovs is None:\n",
    "    data_mda_fovs = mdawidget.value().stage_positions\n",
    "n_fovs = len(data_mda_fovs)\n",
    "n_stim_treatments = len(stim_treatment)\n",
    "n_fovs_per_stim_condition = n_fovs // n_stim_treatments // len(np.unique(cell_lines))\n",
    "\n",
    "\n",
    "stim_treatment_tot = []\n",
    "random.shuffle(stim_treatment)\n",
    "if n_fovs_per_well is not None: \n",
    "    for stim_treat in stim_treatment: \n",
    "        stim_treatment_tot.extend([stim_treat] * n_fovs_per_well)\n",
    "\n",
    "else:\n",
    "    for i in range(0, n_fovs_per_stim_condition): \n",
    "        stim_treatment_tot.extend(stim_treatment)\n",
    "    random.shuffle(stim_treatment_tot)\n",
    "\n",
    "    if n_fovs % n_stim_treatments != 0:\n",
    "        print(f\"Warning: Not equal number of fovs per stim condition. {n_fovs % n_stim_treatments} fovs will have repeated treatment\")\n",
    "        stim_treatment_tot.extend(stim_treatment[:n_fovs % n_stim_treatments])\n",
    "\n",
    "if len(cell_lines) == 1: \n",
    "    n_fovs_per_cell_line = n_fovs\n",
    "else: \n",
    "    stim_treatment_tot = stim_treatment_tot * len(np.unique(cell_lines))\n",
    "\n",
    " \n",
    "\n",
    "for i, row in enumerate(data_mda_fovs):\n",
    "    row = dict(row)\n",
    "    if len(cell_lines) == 1:\n",
    "        cell_line = cell_lines[0]\n",
    "    else:\n",
    "        cell_line = cell_lines[i // n_fovs_per_cell_line]\n",
    "    fov = FOV(pos=(row[\"x\"], row[\"y\"]),\n",
    "              index=i,\n",
    "              name=str(i),\n",
    "              path=path,\n",
    "              metadata={\"cell_line\": cell_line},\n",
    "              treatment=stim_treatment_tot[i],\n",
    "              )\n",
    "    fovs.append(fov)\n",
    "\n",
    "print(f\"Doing {n_fovs_per_stim_condition} replicates per stim condition\")"
   ]
  },
  {
   "cell_type": "markdown",
   "metadata": {},
   "source": [
    "### Use FOVs to generate dataframe for acquisition"
   ]
  },
  {
   "cell_type": "code",
   "execution_count": 19,
   "metadata": {},
   "outputs": [
    {
     "name": "stdout",
     "output_type": "stream",
     "text": [
      "Total Experiment Time: 7.983333333333333h\n"
     ]
    },
    {
     "data": {
      "text/html": [
       "<div>\n",
       "<style scoped>\n",
       "    .dataframe tbody tr th:only-of-type {\n",
       "        vertical-align: middle;\n",
       "    }\n",
       "\n",
       "    .dataframe tbody tr th {\n",
       "        vertical-align: top;\n",
       "    }\n",
       "\n",
       "    .dataframe thead th {\n",
       "        text-align: right;\n",
       "    }\n",
       "</style>\n",
       "<table border=\"1\" class=\"dataframe\">\n",
       "  <thead>\n",
       "    <tr style=\"text-align: right;\">\n",
       "      <th></th>\n",
       "      <th>fov_object</th>\n",
       "      <th>fov</th>\n",
       "      <th>name</th>\n",
       "      <th>timestep</th>\n",
       "      <th>time</th>\n",
       "      <th>treatment</th>\n",
       "      <th>metadata</th>\n",
       "      <th>stim</th>\n",
       "      <th>channels</th>\n",
       "      <th>channels_exposure</th>\n",
       "      <th>channel_power</th>\n",
       "      <th>stim_exposure</th>\n",
       "      <th>fname</th>\n",
       "    </tr>\n",
       "  </thead>\n",
       "  <tbody>\n",
       "    <tr>\n",
       "      <th>0</th>\n",
       "      <td>&lt;fov.FOV object at 0x0000017C92FEC040&gt;</td>\n",
       "      <td>0</td>\n",
       "      <td>0</td>\n",
       "      <td>0</td>\n",
       "      <td>0</td>\n",
       "      <td>{'stim_property': 'global', 'stim_profile': {'...</td>\n",
       "      <td>{'cell_line': 'optoTrkA1'}</td>\n",
       "      <td>False</td>\n",
       "      <td>[miRFP, mRuby]</td>\n",
       "      <td>[200, 150]</td>\n",
       "      <td>[80, 30]</td>\n",
       "      <td>0</td>\n",
       "      <td>000_00000</td>\n",
       "    </tr>\n",
       "    <tr>\n",
       "      <th>60</th>\n",
       "      <td>&lt;fov.FOV object at 0x0000017C92FEC070&gt;</td>\n",
       "      <td>1</td>\n",
       "      <td>1</td>\n",
       "      <td>0</td>\n",
       "      <td>0</td>\n",
       "      <td>{'stim_property': 'global', 'stim_profile': {'...</td>\n",
       "      <td>{'cell_line': 'optoTrkA1'}</td>\n",
       "      <td>False</td>\n",
       "      <td>[miRFP, mRuby]</td>\n",
       "      <td>[200, 150]</td>\n",
       "      <td>[80, 30]</td>\n",
       "      <td>0</td>\n",
       "      <td>001_00000</td>\n",
       "    </tr>\n",
       "    <tr>\n",
       "      <th>120</th>\n",
       "      <td>&lt;fov.FOV object at 0x0000017C92FED090&gt;</td>\n",
       "      <td>2</td>\n",
       "      <td>2</td>\n",
       "      <td>0</td>\n",
       "      <td>0</td>\n",
       "      <td>{'stim_property': 'global', 'stim_profile': {'...</td>\n",
       "      <td>{'cell_line': 'optoTrkA1'}</td>\n",
       "      <td>False</td>\n",
       "      <td>[miRFP, mRuby]</td>\n",
       "      <td>[200, 150]</td>\n",
       "      <td>[80, 30]</td>\n",
       "      <td>0</td>\n",
       "      <td>002_00000</td>\n",
       "    </tr>\n",
       "    <tr>\n",
       "      <th>180</th>\n",
       "      <td>&lt;fov.FOV object at 0x0000017C92FECFA0&gt;</td>\n",
       "      <td>3</td>\n",
       "      <td>3</td>\n",
       "      <td>0</td>\n",
       "      <td>0</td>\n",
       "      <td>{'stim_property': 'global', 'stim_profile': {'...</td>\n",
       "      <td>{'cell_line': 'optoTrkA1'}</td>\n",
       "      <td>False</td>\n",
       "      <td>[miRFP, mRuby]</td>\n",
       "      <td>[200, 150]</td>\n",
       "      <td>[80, 30]</td>\n",
       "      <td>0</td>\n",
       "      <td>003_00000</td>\n",
       "    </tr>\n",
       "    <tr>\n",
       "      <th>240</th>\n",
       "      <td>&lt;fov.FOV object at 0x0000017C92FECFD0&gt;</td>\n",
       "      <td>4</td>\n",
       "      <td>4</td>\n",
       "      <td>0</td>\n",
       "      <td>0</td>\n",
       "      <td>{'stim_property': 'global', 'stim_profile': {'...</td>\n",
       "      <td>{'cell_line': 'optoTrkA1'}</td>\n",
       "      <td>False</td>\n",
       "      <td>[miRFP, mRuby]</td>\n",
       "      <td>[200, 150]</td>\n",
       "      <td>[80, 30]</td>\n",
       "      <td>100</td>\n",
       "      <td>004_00000</td>\n",
       "    </tr>\n",
       "    <tr>\n",
       "      <th>...</th>\n",
       "      <td>...</td>\n",
       "      <td>...</td>\n",
       "      <td>...</td>\n",
       "      <td>...</td>\n",
       "      <td>...</td>\n",
       "      <td>...</td>\n",
       "      <td>...</td>\n",
       "      <td>...</td>\n",
       "      <td>...</td>\n",
       "      <td>...</td>\n",
       "      <td>...</td>\n",
       "      <td>...</td>\n",
       "      <td>...</td>\n",
       "    </tr>\n",
       "    <tr>\n",
       "      <th>2639</th>\n",
       "      <td>&lt;fov.FOV object at 0x0000017C92FEC670&gt;</td>\n",
       "      <td>43</td>\n",
       "      <td>43</td>\n",
       "      <td>59</td>\n",
       "      <td>28740</td>\n",
       "      <td>{'stim_property': 'global', 'stim_profile': {'...</td>\n",
       "      <td>{'cell_line': 'optoFGFR1_high'}</td>\n",
       "      <td>False</td>\n",
       "      <td>[miRFP, mRuby]</td>\n",
       "      <td>[200, 150]</td>\n",
       "      <td>[80, 30]</td>\n",
       "      <td>75</td>\n",
       "      <td>043_00059</td>\n",
       "    </tr>\n",
       "    <tr>\n",
       "      <th>2699</th>\n",
       "      <td>&lt;fov.FOV object at 0x0000017C92FEE980&gt;</td>\n",
       "      <td>44</td>\n",
       "      <td>44</td>\n",
       "      <td>59</td>\n",
       "      <td>28740</td>\n",
       "      <td>{'stim_property': 'global', 'stim_profile': {'...</td>\n",
       "      <td>{'cell_line': 'optoFGFR1_high'}</td>\n",
       "      <td>False</td>\n",
       "      <td>[miRFP, mRuby]</td>\n",
       "      <td>[200, 150]</td>\n",
       "      <td>[80, 30]</td>\n",
       "      <td>25</td>\n",
       "      <td>044_00059</td>\n",
       "    </tr>\n",
       "    <tr>\n",
       "      <th>2759</th>\n",
       "      <td>&lt;fov.FOV object at 0x0000017C92FEE860&gt;</td>\n",
       "      <td>45</td>\n",
       "      <td>45</td>\n",
       "      <td>59</td>\n",
       "      <td>28740</td>\n",
       "      <td>{'stim_property': 'global', 'stim_profile': {'...</td>\n",
       "      <td>{'cell_line': 'optoFGFR1_high'}</td>\n",
       "      <td>False</td>\n",
       "      <td>[miRFP, mRuby]</td>\n",
       "      <td>[200, 150]</td>\n",
       "      <td>[80, 30]</td>\n",
       "      <td>25</td>\n",
       "      <td>045_00059</td>\n",
       "    </tr>\n",
       "    <tr>\n",
       "      <th>2819</th>\n",
       "      <td>&lt;fov.FOV object at 0x0000017C92FEE830&gt;</td>\n",
       "      <td>46</td>\n",
       "      <td>46</td>\n",
       "      <td>59</td>\n",
       "      <td>28740</td>\n",
       "      <td>{'stim_property': 'global', 'stim_profile': {'...</td>\n",
       "      <td>{'cell_line': 'optoFGFR1_high'}</td>\n",
       "      <td>False</td>\n",
       "      <td>[miRFP, mRuby]</td>\n",
       "      <td>[200, 150]</td>\n",
       "      <td>[80, 30]</td>\n",
       "      <td>25</td>\n",
       "      <td>046_00059</td>\n",
       "    </tr>\n",
       "    <tr>\n",
       "      <th>2879</th>\n",
       "      <td>&lt;fov.FOV object at 0x0000017C92FEC340&gt;</td>\n",
       "      <td>47</td>\n",
       "      <td>47</td>\n",
       "      <td>59</td>\n",
       "      <td>28740</td>\n",
       "      <td>{'stim_property': 'global', 'stim_profile': {'...</td>\n",
       "      <td>{'cell_line': 'optoFGFR1_high'}</td>\n",
       "      <td>False</td>\n",
       "      <td>[miRFP, mRuby]</td>\n",
       "      <td>[200, 150]</td>\n",
       "      <td>[80, 30]</td>\n",
       "      <td>25</td>\n",
       "      <td>047_00059</td>\n",
       "    </tr>\n",
       "  </tbody>\n",
       "</table>\n",
       "<p>2880 rows × 13 columns</p>\n",
       "</div>"
      ],
      "text/plain": [
       "                                  fov_object  fov name  timestep   time  \\\n",
       "0     <fov.FOV object at 0x0000017C92FEC040>    0    0         0      0   \n",
       "60    <fov.FOV object at 0x0000017C92FEC070>    1    1         0      0   \n",
       "120   <fov.FOV object at 0x0000017C92FED090>    2    2         0      0   \n",
       "180   <fov.FOV object at 0x0000017C92FECFA0>    3    3         0      0   \n",
       "240   <fov.FOV object at 0x0000017C92FECFD0>    4    4         0      0   \n",
       "...                                      ...  ...  ...       ...    ...   \n",
       "2639  <fov.FOV object at 0x0000017C92FEC670>   43   43        59  28740   \n",
       "2699  <fov.FOV object at 0x0000017C92FEE980>   44   44        59  28740   \n",
       "2759  <fov.FOV object at 0x0000017C92FEE860>   45   45        59  28740   \n",
       "2819  <fov.FOV object at 0x0000017C92FEE830>   46   46        59  28740   \n",
       "2879  <fov.FOV object at 0x0000017C92FEC340>   47   47        59  28740   \n",
       "\n",
       "                                              treatment  \\\n",
       "0     {'stim_property': 'global', 'stim_profile': {'...   \n",
       "60    {'stim_property': 'global', 'stim_profile': {'...   \n",
       "120   {'stim_property': 'global', 'stim_profile': {'...   \n",
       "180   {'stim_property': 'global', 'stim_profile': {'...   \n",
       "240   {'stim_property': 'global', 'stim_profile': {'...   \n",
       "...                                                 ...   \n",
       "2639  {'stim_property': 'global', 'stim_profile': {'...   \n",
       "2699  {'stim_property': 'global', 'stim_profile': {'...   \n",
       "2759  {'stim_property': 'global', 'stim_profile': {'...   \n",
       "2819  {'stim_property': 'global', 'stim_profile': {'...   \n",
       "2879  {'stim_property': 'global', 'stim_profile': {'...   \n",
       "\n",
       "                             metadata   stim        channels  \\\n",
       "0          {'cell_line': 'optoTrkA1'}  False  [miRFP, mRuby]   \n",
       "60         {'cell_line': 'optoTrkA1'}  False  [miRFP, mRuby]   \n",
       "120        {'cell_line': 'optoTrkA1'}  False  [miRFP, mRuby]   \n",
       "180        {'cell_line': 'optoTrkA1'}  False  [miRFP, mRuby]   \n",
       "240        {'cell_line': 'optoTrkA1'}  False  [miRFP, mRuby]   \n",
       "...                               ...    ...             ...   \n",
       "2639  {'cell_line': 'optoFGFR1_high'}  False  [miRFP, mRuby]   \n",
       "2699  {'cell_line': 'optoFGFR1_high'}  False  [miRFP, mRuby]   \n",
       "2759  {'cell_line': 'optoFGFR1_high'}  False  [miRFP, mRuby]   \n",
       "2819  {'cell_line': 'optoFGFR1_high'}  False  [miRFP, mRuby]   \n",
       "2879  {'cell_line': 'optoFGFR1_high'}  False  [miRFP, mRuby]   \n",
       "\n",
       "     channels_exposure channel_power  stim_exposure      fname  \n",
       "0           [200, 150]      [80, 30]              0  000_00000  \n",
       "60          [200, 150]      [80, 30]              0  001_00000  \n",
       "120         [200, 150]      [80, 30]              0  002_00000  \n",
       "180         [200, 150]      [80, 30]              0  003_00000  \n",
       "240         [200, 150]      [80, 30]            100  004_00000  \n",
       "...                ...           ...            ...        ...  \n",
       "2639        [200, 150]      [80, 30]             75  043_00059  \n",
       "2699        [200, 150]      [80, 30]             25  044_00059  \n",
       "2759        [200, 150]      [80, 30]             25  045_00059  \n",
       "2819        [200, 150]      [80, 30]             25  046_00059  \n",
       "2879        [200, 150]      [80, 30]             25  047_00059  \n",
       "\n",
       "[2880 rows x 13 columns]"
      ]
     },
     "execution_count": 19,
     "metadata": {},
     "output_type": "execute_result"
    }
   ],
   "source": [
    "n_fovs_simultaneously = time_between_frames // time_per_fov\n",
    "start_time = 0\n",
    "\n",
    "dfs = []\n",
    "for fov in fovs:\n",
    "    fov_group = fov.index // n_fovs_simultaneously\n",
    "    start_time = fov_group * time_between_frames * len(timesteps)\n",
    "\n",
    "    for timestep in timesteps:\n",
    "        new_row = { 'fov_object': fov,\n",
    "                    'fov':fov.index,\n",
    "                    'name':fov.name,\n",
    "                    'timestep': timestep,\n",
    "                    'time': start_time + timestep*time_between_frames,\n",
    "                    'treatment': fov.treatment,\n",
    "                    'metadata': fov.metadata,\n",
    "                    'stim': timestep in fov.treatment['stim_timestep'] and fov.treatment[\"stim_exposure\"] != 0, # not really important, only for visualisation\n",
    "                    'channels': channels,\n",
    "                    'channels_exposure':channels_exposure,\n",
    "                    'channel_power': channels_power,\n",
    "                    'stim_exposure' : fov.treatment['stim_exposure'], # not really important, only for visualisation\n",
    "                    'fname' : f'{str(fov.index).zfill(3)}_{str(timestep).zfill(5)}',\n",
    "                    }\n",
    "        dfs.append(new_row)\n",
    "\n",
    "df_acquire = pd.DataFrame(dfs)\n",
    "pd.set_option('display.max_columns', None)\n",
    "pd.set_option('display.expand_frame_repr', True)\n",
    "df_acquire = df_acquire.sort_values(by=['time', 'fov'])\n",
    "print(f\"Total Experiment Time: {df_acquire['time'].max()/3600}h\")\n",
    "df_acquire\n"
   ]
  },
  {
   "attachments": {},
   "cell_type": "markdown",
   "metadata": {},
   "source": [
    "## Run experiment"
   ]
  },
  {
   "cell_type": "code",
   "execution_count": null,
   "metadata": {},
   "outputs": [],
   "source": [
    "%load_ext autoreload\n",
    "%autoreload 2\n",
    "\n",
    "SLEEP_TIME_IN_HOURS = 0\n",
    "\n",
    "for _ in range(0, SLEEP_TIME_IN_HOURS*3600): \n",
    "    time.sleep(1)\n",
    "from add_frame import ImageProcessingPipeline\n",
    "from segmentation_stardist import SegmentatorStardist\n",
    "from stimulation import StimWholeFOV    \n",
    "from controller import Controller, Analyzer\n",
    "from tracking_trackpy import TrackerTrackpy\n",
    "from dmd import DMD\n",
    "from queue import Queue\n",
    "\n",
    "try: \n",
    "    mm_wdg._core_link.cleanup()\n",
    "except:\n",
    "    pass\n",
    "\n",
    "segmentator = SegmentatorStardist(min_size=200, prob_thresh=0.55)\n",
    "stimulator = StimWholeFOV()\n",
    "tracker = TrackerTrackpy()\n",
    "\n",
    "pipeline = ImageProcessingPipeline(segmentator,stimulator,tracker)\n",
    "analyzer = Analyzer(pipeline)\n",
    "queue = Queue()\n",
    "controller = Controller(analyzer, mmc, queue)\n",
    "controller.run(df_acquire)\n"
   ]
  },
  {
   "cell_type": "code",
   "execution_count": null,
   "metadata": {},
   "outputs": [],
   "source": []
  }
 ],
 "metadata": {
  "kernelspec": {
   "display_name": "pymmcore_w_stardist",
   "language": "python",
   "name": "python3"
  },
  "language_info": {
   "codemirror_mode": {
    "name": "ipython",
    "version": 3
   },
   "file_extension": ".py",
   "mimetype": "text/x-python",
   "name": "python",
   "nbconvert_exporter": "python",
   "pygments_lexer": "ipython3",
   "version": "3.10.0"
  },
  "orig_nbformat": 4
 },
 "nbformat": 4,
 "nbformat_minor": 2
}

{
 "cells": [
  {
   "cell_type": "markdown",
   "metadata": {},
   "source": [
    "# ERK-KTR Full FOV Stimulation Pipeline"
   ]
  },
  {
   "cell_type": "markdown",
   "metadata": {},
   "source": [
    "## System Init"
   ]
  },
  {
   "cell_type": "markdown",
   "metadata": {},
   "source": [
    "### Load pymmcore and required python libraries"
   ]
  },
  {
   "cell_type": "code",
   "execution_count": 1,
   "metadata": {},
   "outputs": [],
   "source": [
    "import os\n",
    "import time\n",
    "\n",
    "os.environ['QT_LOGGING_RULES'] = '*.debug=false; *.warning=false' # Fix to suppress PyQT warnings from napari-micromanager when running in a Jupyter notebook\n",
    "os.environ['MICROMANAGER_PATH'] = \"C:\\\\Program Files\\\\Micro-Manager-2.0\"\n",
    "\n",
    "from fov import FOV\n",
    "from useq import MDAEvent\n",
    "import pandas as pd\n",
    "import numpy as np\n",
    "import random\n",
    "import napari\n",
    "import pymmcore_plus\n",
    "from napari_micromanager import MainWindow\n",
    "\n",
    "from utils import create_folders\n",
    "from useq._mda_event import SLMImage\n",
    "\n",
    "mmc = pymmcore_plus.CMMCorePlus()"
   ]
  },
  {
   "cell_type": "markdown",
   "metadata": {},
   "source": [
    "### Device Specific Init for Niesen Microscope"
   ]
  },
  {
   "cell_type": "code",
   "execution_count": 2,
   "metadata": {},
   "outputs": [],
   "source": [
    "mmc.loadSystemConfiguration(\"E:\\\\pertzlab_mic_configs\\\\micromanager\\\\\\Jungfrau\\\\TiFluoroJungfrau_w_TTL_DIGITALIO.cfg\")\n",
    "mmc.setConfig(groupName=\"System\", configName=\"Startup\")\n",
    "mmc.setChannelGroup(channelGroup=\"TTL_ERK\")\n"
   ]
  },
  {
   "cell_type": "markdown",
   "metadata": {},
   "source": [
    "## GUI - Napari Micromanager"
   ]
  },
  {
   "cell_type": "markdown",
   "metadata": {},
   "source": [
    "### Load GUI"
   ]
  },
  {
   "cell_type": "code",
   "execution_count": 7,
   "metadata": {},
   "outputs": [
    {
     "data": {
      "text/plain": [
       "<napari._qt.widgets.qt_viewer_dock_widget.QtViewerDockWidget at 0x1645116c160>"
      ]
     },
     "execution_count": 7,
     "metadata": {},
     "output_type": "execute_result"
    }
   ],
   "source": [
    "### Base GUI ###\n",
    "viewer = napari.Viewer()\n",
    "mm_wdg = MainWindow(viewer)\n",
    "viewer.window.add_dock_widget(mm_wdg)"
   ]
  },
  {
   "cell_type": "code",
   "execution_count": 6,
   "metadata": {},
   "outputs": [
    {
     "data": {
      "text/plain": [
       "<napari._qt.widgets.qt_viewer_dock_widget.QtViewerDockWidget at 0x1644c8d24d0>"
      ]
     },
     "execution_count": 6,
     "metadata": {},
     "output_type": "execute_result"
    }
   ],
   "source": [
    "### Add MDA widget for FOV selection ###\n",
    "from pymmcore_widgets.mda import MDAWidget\n",
    "mdawidget = MDAWidget(mmcore = mmc)\n",
    "viewer.window.add_dock_widget(mdawidget)"
   ]
  },
  {
   "cell_type": "markdown",
   "metadata": {},
   "source": [
    "### Functions to break and re-connect link with GUI if manually broken\n",
    "\n",
    "The following functions can be used to manually interrupt to connection between the GUI and the running rtm-pymmcore script. However, normally you don't need to execute them. "
   ]
  },
  {
   "cell_type": "code",
   "execution_count": null,
   "metadata": {},
   "outputs": [],
   "source": [
    "### Break connection\n",
    "# mm_wdg._core_link.cleanup()"
   ]
  },
  {
   "cell_type": "code",
   "execution_count": null,
   "metadata": {},
   "outputs": [],
   "source": [
    "### Manually reconnect pymmcore with napari-micromanager\n",
    "from napari_micromanager._core_link import CoreViewerLink\n",
    "mm_wdg._core_link = CoreViewerLink(viewer, mmc)"
   ]
  },
  {
   "attachments": {},
   "cell_type": "markdown",
   "metadata": {},
   "source": [
    "## Create a DF with all planned acquisitions and stimulations"
   ]
  },
  {
   "cell_type": "markdown",
   "metadata": {},
   "source": [
    "### Settings for Experiment"
   ]
  },
  {
   "cell_type": "code",
   "execution_count": null,
   "metadata": {},
   "outputs": [],
   "source": [
    "df_acquire = pd.DataFrame(columns=['fov', 'timestep', 'time','time_experiment', 'treatment', 'acquired','stim', 'channels', 'channel_stim'])\n",
    "\n",
    "base_path = \"\\\\\\\\izbkingston.unibe.ch\\\\imaging.data\\\\mic01-imaging\\\\Cedric\\\\experimental_data\\\\\"\n",
    "experiment_name = \"2025-03-13_TrKA1_DoseResponse_Freq\"\n",
    "path  = os.path.join(base_path, experiment_name)\n",
    "\n",
    "N_FRAMES = 60\n",
    "FIRST_FRAME_STIMULATION = 0\n",
    "\n",
    "create_folders(path,['stim','raw','labels','stim_mask','tracks','labels_rings','particles'])\n",
    "\n",
    "time_between_frames = 60 #time in seconds between frames\n",
    "time_per_fov = 10 #time in seconds per fov\n",
    "\n",
    "timesteps = range(N_FRAMES)  \n",
    "channels = ['miRFP', 'mScarlet3'] #channel for segmentation first\n",
    "channels_exposure = [200, 150]\n",
    "\n",
    "# take values from UI, if loaded\n",
    "intensity_red_laser = mmc.getProperty(\"Spectra\", \"Red_Level\")\n",
    "intensity_green_laser = mmc.getProperty(\"Spectra\", \"Green_Level\")\n",
    "\n",
    "if intensity_red_laser != str(0) and intensity_green_laser != str(0):\n",
    "    channels_power = [intensity_red_laser, intensity_green_laser]\n",
    "else:\n",
    "    channels_power = [80, 30]\n",
    "    for channel, power in zip(channels, channels_power):\n",
    "        mmc.setProperty(\"Spectra\", f\"{channel.upper()}_Level\", power)\n",
    "\n",
    "\n",
    "# cell_lines = [\"optoFGFR_high\"] * 24 + [\"optoFGFR\"] * 24\n",
    "cell_lines = [\"optoTrkA1_high\"] \n",
    "# if defining individual fovs, else these values a re ignored: \n",
    "n_fovs_per_cell_line = 24 ## change this variable to the amount of fovs that you have per cell line. If only one cell line is set, this value will \n",
    "                        # automatically set to total amount of fovs. If you are working will wellplate, this value will be ignored, as each columns\n",
    "                        # will be an entry in the cell lines list. \n",
    "\n",
    "n_fovs_per_well = 4 ## change this variable to the amount of fovs that you have per well. Set to None if you are not working with wellplate.\n",
    "                    # If you are working with the autogenetreated wellplate, this value will be ignored, as each columns will be an entry in the cell lines list.\n",
    "\n",
    "# stim_exposures = [0, 50, 100, 250, 500, 2000] # list of possible exposures in ms\n",
    "\n",
    "stim_exposures = [100] # list of possible exposures in ms\n",
    "# stim_timesteps = [list(range(10,N_FRAMES,1)), list(range(10,N_FRAMES,2)), list(range(10,N_FRAMES,10)), list(range(10,N_FRAMES,20)), [10], list(range(10,N_FRAMES,5))]  # list of timesteps for stimulation, if e.g. double stimulation in frame 0 and 1 is needed write [[0,1]]\n",
    "# stim_timesteps=[[10]]\n",
    "# stim_timesteps = [list(range(FIRST_FRAME_STIMULATION,N_FRAMES,2))]  # list of timesteps for stimulation, if e.g. double stimulation in frame 0 and 1 is needed write [[0,1]]\n",
    "\n",
    "stim_timesteps = [[10], list(range(10, 60, 2)), list(range(10, 60, 1)), list(range(10,60,10)), list(range(10, 60, 20)), list(range(10, 60, 5))]  # list of timesteps for stimulation, if e.g. double stimulation in frame 0 and 1 is needed write [[0,1]]\n",
    "stim_profiles = [{\"device_name\": \"Spectra\", \"property_name\": \"Cyan_Level\", \"power\": 5, \"channel\": \"CyanStim\"}]\n",
    "stim_treatment = [{\"stim_property\": \"global\", \"stim_profile\": stim_profile, \"stim_exposure\": stim_exposure, \"stim_timestep\": stim_timestep} \n",
    "                  for stim_profile in stim_profiles for stim_exposure in stim_exposures for stim_timestep in stim_timesteps]\n",
    "\n",
    "data_mda_fovs = None\n",
    "stim_treatment"
   ]
  },
  {
   "cell_type": "code",
   "execution_count": null,
   "metadata": {},
   "outputs": [],
   "source": [
    "stim_treatment_tot = stim_treatment_tot + stim_treatment"
   ]
  },
  {
   "cell_type": "code",
   "execution_count": null,
   "metadata": {},
   "outputs": [],
   "source": [
    "stim_treatment_tot"
   ]
  },
  {
   "cell_type": "code",
   "execution_count": null,
   "metadata": {},
   "outputs": [],
   "source": [
    "data_mda_fovs = None\n"
   ]
  },
  {
   "cell_type": "code",
   "execution_count": null,
   "metadata": {},
   "outputs": [],
   "source": [
    "stim_treatment = stim_treatment_tot"
   ]
  },
  {
   "cell_type": "code",
   "execution_count": null,
   "metadata": {},
   "outputs": [],
   "source": [
    "import matplotlib.pyplot as plt\n",
    "plt.figure()\n",
    "data_mda_fovs = mdawidget.value().stage_positions\n",
    "i = 0\n",
    "for fov_x_y in data_mda_fovs:\n",
    "    plt.scatter(fov_x_y.x, fov_x_y.y, label=f'{fov_x_y.x},{fov_x_y.y}')\n",
    "    plt.text(fov_x_y.x, fov_x_y.y, f'{i}')\n",
    "    i+=1\n",
    "plt.show()"
   ]
  },
  {
   "cell_type": "code",
   "execution_count": null,
   "metadata": {},
   "outputs": [],
   "source": [
    "channels_exposure = [150, 150]\n",
    "\n",
    "# take values from UI, if loaded\n",
    "intensity_red_laser = mmc.getProperty(\"Spectra\", \"Red_Level\")\n",
    "intensity_green_laser = mmc.getProperty(\"Spectra\", \"Green_Level\")\n",
    "\n",
    "if intensity_red_laser != str(0) and intensity_green_laser != str(0):\n",
    "    channels_power = [intensity_red_laser, intensity_green_laser]\n",
    "else:\n",
    "    channels_power = [80, 20]\n",
    "    for channel, power in zip(channels, channels_power):\n",
    "        mmc.setProperty(\"Spectra\", f\"{channel.upper()}_Level\", power)"
   ]
  },
  {
   "cell_type": "markdown",
   "metadata": {},
   "source": [
    "### Map Experiment to FOVs"
   ]
  },
  {
   "cell_type": "markdown",
   "metadata": {},
   "source": [
    "#### If FOVs already saved - Reload them from file"
   ]
  },
  {
   "cell_type": "code",
   "execution_count": null,
   "metadata": {},
   "outputs": [],
   "source": [
    "import json\n",
    "file = os.path.join(path, \"fovs.json\")\n",
    "with open(file, \"r\") as f:\n",
    "    data_mda_fovs = json.load(f)"
   ]
  },
  {
   "cell_type": "markdown",
   "metadata": {},
   "source": [
    "Only select one of the following two code blocks. If you autogenerated FOVs using the wellplate option of the MDA widget, then use the first code block, else the second. "
   ]
  },
  {
   "cell_type": "markdown",
   "metadata": {},
   "source": [
    "#### MDA Widget was used in wellplate mode with autogenerated FOVs"
   ]
  },
  {
   "cell_type": "code",
   "execution_count": null,
   "metadata": {},
   "outputs": [],
   "source": [
    "random.shuffle(stim_treatment)\n",
    "fovs:list[FOV] = []\n",
    "if data_mda_fovs is None:\n",
    "    data_mda_fovs = mdawidget.value()\n",
    "n_fovs = len(data_mda_fovs.stage_positions)\n",
    "pts_per_well = data_mda_fovs.stage_positions.well_points_plan.num_points\n",
    "n_wells = n_fovs // pts_per_well\n",
    "\n",
    "used_well_columns = []\n",
    "\n",
    "for i, row in enumerate(data_mda_fovs.stage_positions):\n",
    "    well_column = int(row.name.split('_')[0][1:])\n",
    "    used_well_columns.append(well_column)\n",
    "\n",
    "unique_well_columns = list(set(used_well_columns))\n",
    "unique_well_column_translation = {col: idx for idx, col in enumerate(unique_well_columns)}\n",
    "  \n",
    "\n",
    "for i, row in enumerate(data_mda_fovs.stage_positions):\n",
    "    well_row = row.name.split('_')[0][0]\n",
    "    well_id = i%pts_per_well\n",
    "    if len(cell_lines) == 1:\n",
    "        cell_line = cell_lines[0]\n",
    "    else: \n",
    "        cell_line = cell_lines[unique_well_column_translation[well_column]]\n",
    "    fov = FOV(pos=(row.x, row.y),\n",
    "              index=i,\n",
    "              name=row.name,\n",
    "              path=path,\n",
    "              metadata={\"well_column\": well_column, \"well_row\": well_row, \"well_id\": well_id, \"cell_line\": cell_line},\n",
    "              treatment=stim_treatment[i%len(stim_treatment)],\n",
    "              )\n",
    "    fovs.append(fov)"
   ]
  },
  {
   "cell_type": "markdown",
   "metadata": {},
   "source": [
    "#### FOVs were manually selected using MDA widget"
   ]
  },
  {
   "cell_type": "code",
   "execution_count": null,
   "metadata": {},
   "outputs": [],
   "source": [
    "fovs:list[FOV] = []\n",
    "if data_mda_fovs is None:\n",
    "    data_mda_fovs = mdawidget.value().stage_positions\n",
    "n_fovs = len(data_mda_fovs)\n",
    "n_stim_treatments = len(stim_treatment)\n",
    "n_fovs_per_stim_condition = n_fovs // n_stim_treatments // len(np.unique(cell_lines))\n",
    "\n",
    "\n",
    "stim_treatment_tot = []\n",
    "random.shuffle(stim_treatment)\n",
    "if n_fovs_per_well is not None: \n",
    "    for stim_treat in stim_treatment: \n",
    "        stim_treatment_tot.extend([stim_treat] * n_fovs_per_well)\n",
    "\n",
    "else:\n",
    "    for i in range(0, n_fovs_per_stim_condition): \n",
    "        stim_treatment_tot.extend(stim_treatment)\n",
    "    random.shuffle(stim_treatment_tot)\n",
    "\n",
    "    if n_fovs % n_stim_treatments != 0:\n",
    "        print(f\"Warning: Not equal number of fovs per stim condition. {n_fovs % n_stim_treatments} fovs will have repeated treatment\")\n",
    "        stim_treatment_tot.extend(stim_treatment[:n_fovs % n_stim_treatments])\n",
    "\n",
    "if len(cell_lines) == 1: \n",
    "    n_fovs_per_cell_line = n_fovs\n",
    "else: \n",
    "    stim_treatment_tot = stim_treatment_tot * len(np.unique(cell_lines))\n",
    "\n",
    " \n",
    "\n",
    "for i, row in enumerate(data_mda_fovs):\n",
    "    row = dict(row)\n",
    "    if len(cell_lines) == 1:\n",
    "        cell_line = cell_lines[0]\n",
    "    else:\n",
    "        cell_line = cell_lines[i // n_fovs_per_cell_line]\n",
    "    fov = FOV(pos=(row[\"x\"], row[\"y\"]),\n",
    "              index=i,\n",
    "              name=str(i),\n",
    "              path=path,\n",
    "              metadata={\"cell_line\": cell_line},\n",
    "              treatment=stim_treatment_tot[i],\n",
    "              )\n",
    "    fovs.append(fov)\n",
    "\n",
    "print(f\"Doing {n_fovs_per_stim_condition} replicates per stim condition\")"
   ]
  },
  {
   "cell_type": "markdown",
   "metadata": {},
   "source": [
    "### Use FOVs to generate dataframe for acquisition"
   ]
  },
  {
   "cell_type": "code",
   "execution_count": null,
   "metadata": {},
   "outputs": [],
   "source": [
    "n_fovs_simultaneously = time_between_frames // time_per_fov\n",
    "start_time = 0\n",
    "\n",
    "dfs = []\n",
    "for fov in fovs:\n",
    "    fov_group = fov.index // n_fovs_simultaneously\n",
    "    start_time = fov_group * time_between_frames * len(timesteps)\n",
    "\n",
    "    for timestep in timesteps:\n",
    "        new_row = { 'fov_object': fov,\n",
    "                    'fov':fov.index,\n",
    "                    'name':fov.name,\n",
    "                    'timestep': timestep,\n",
    "                    'time': start_time + timestep*time_between_frames,\n",
    "                    'treatment': fov.treatment,\n",
    "                    'metadata': fov.metadata,\n",
    "                    'stim': timestep in fov.treatment['stim_timestep'] and fov.treatment[\"stim_exposure\"] != 0, # not really important, only for visualisation\n",
    "                    'channels': channels,\n",
    "                    'channels_exposure':channels_exposure,\n",
    "                    'channel_power': channels_power,\n",
    "                    'stim_exposure' : fov.treatment['stim_exposure'], # not really important, only for visualisation\n",
    "                    'fname' : f'{str(fov.index).zfill(3)}_{str(timestep).zfill(5)}',\n",
    "                    }\n",
    "        dfs.append(new_row)\n",
    "\n",
    "df_acquire = pd.DataFrame(dfs)\n",
    "pd.set_option('display.max_columns', None)\n",
    "pd.set_option('display.expand_frame_repr', True)\n",
    "df_acquire = df_acquire.sort_values(by=['time', 'fov'])\n",
    "print(f\"Total Experiment Time: {df_acquire['time'].max()/3600}h\")\n",
    "df_acquire\n"
   ]
  },
  {
   "attachments": {},
   "cell_type": "markdown",
   "metadata": {},
   "source": [
    "## Run experiment"
   ]
  },
  {
   "cell_type": "code",
   "execution_count": null,
   "metadata": {},
   "outputs": [],
   "source": [
    "%load_ext autoreload\n",
    "%autoreload 2\n",
    "\n",
    "SLEEP_TIME_IN_HOURS = 0\n",
    "\n",
    "for _ in range(0, SLEEP_TIME_IN_HOURS*3600): \n",
    "    time.sleep(1)\n",
    "from add_frame import ImageProcessingPipeline\n",
    "from segmentation_stardist import SegmentatorStardist\n",
    "from stimulation import StimWholeFOV    \n",
    "from controller import Controller, Analyzer\n",
    "from tracking_trackpy import TrackerTrackpy\n",
    "from dmd import DMD\n",
    "from queue import Queue\n",
    "\n",
    "try: \n",
    "    mm_wdg._core_link.cleanup()\n",
    "except:\n",
    "    pass\n",
    "\n",
    "segmentator = SegmentatorStardist(min_size=200, prob_thresh=0.55)\n",
    "stimulator = StimWholeFOV()\n",
    "tracker = TrackerTrackpy()\n",
    "\n",
    "pipeline = ImageProcessingPipeline(segmentator,stimulator,tracker)\n",
    "analyzer = Analyzer(pipeline)\n",
    "queue = Queue()\n",
    "controller = Controller(analyzer, mmc, queue)\n",
    "controller.run(df_acquire)\n"
   ]
  },
  {
   "cell_type": "code",
   "execution_count": null,
   "metadata": {},
   "outputs": [],
   "source": [
    "import pandas as pd\n",
    "pd.read_parquet(os.path.join(path, \"tracks\", \"000_00002.parquet\"))"
   ]
  }
 ],
 "metadata": {
  "kernelspec": {
   "display_name": "pymmcore_w_stardist",
   "language": "python",
   "name": "python3"
  },
  "language_info": {
   "codemirror_mode": {
    "name": "ipython",
    "version": 3
   },
   "file_extension": ".py",
   "mimetype": "text/x-python",
   "name": "python",
   "nbconvert_exporter": "python",
   "pygments_lexer": "ipython3",
   "version": "3.10.0"
  },
  "orig_nbformat": 4
 },
 "nbformat": 4,
 "nbformat_minor": 2
}

{
 "cells": [
  {
   "cell_type": "markdown",
   "metadata": {},
   "source": [
    "# No stimulation Demo Experiment\n",
    "This notebook showcases a demo timelapse experiment, where no stimulation is applied to the cells. The experiment runs as a timelapse, and the cells are imaged at regular intervals. In this case the feature extractor is set to the baseline feature extractors, which just extract label position and area. For tracking trackpy is used and stardist is used for segmentation. \n",
    "\n",
    "As this is a demo experiment, it runs on the demo hardware provided by micro-manager. The demo hardware is a simulated hardware that mimics the behavior of a real microscope. "
   ]
  },
  {
   "cell_type": "markdown",
   "metadata": {},
   "source": [
    "### Import required libraries"
   ]
  },
  {
   "cell_type": "code",
   "execution_count": 1,
   "metadata": {},
   "outputs": [],
   "source": [
    "import os\n",
    "import time\n",
    "\n",
    "os.environ[\"QT_LOGGING_RULES\"] = (\n",
    "    \"*.debug=false; *.warning=false\"  # Fix to suppress PyQT warnings from napari-micromanager when running in a Jupyter notebook\n",
    ")\n",
    "os.environ[\"MICROMANAGER_PATH\"] = \"C:\\\\Program Files\\\\Micro-Manager-2.0\"\n",
    "\n",
    "from rtm_pymmcore.data_structures import Fov, Channel, StimTreatment\n",
    "from rtm_pymmcore.utils import create_folders\n",
    "from pprint import pprint\n",
    "import pandas as pd\n",
    "import numpy as np\n",
    "import dataclasses\n",
    "import random\n",
    "import pymmcore_plus\n",
    "\n",
    "from useq._mda_event import SLMImage\n",
    "\n",
    "mmc = pymmcore_plus.CMMCorePlus()"
   ]
  },
  {
   "cell_type": "markdown",
   "metadata": {},
   "source": [
    "### Experimental Settings"
   ]
  },
  {
   "cell_type": "code",
   "execution_count": 2,
   "metadata": {},
   "outputs": [
    {
     "name": "stdout",
     "output_type": "stream",
     "text": [
      "Found model '2D_versatile_fluo' for 'StarDist2D'.\n",
      "Loading network weights from 'weights_best.h5'.\n",
      "Loading thresholds from 'thresholds.json'.\n",
      "Using default values: prob_thresh=0.479071, nms_thresh=0.3.\n",
      "Directory C:\\Users\\Alex\\Ausbildung\\PhD_temp\\test_exp\\exp_test\\raw already exists\n",
      "Directory C:\\Users\\Alex\\Ausbildung\\PhD_temp\\test_exp\\exp_test\\tracks already exists\n",
      "Directory C:\\Users\\Alex\\Ausbildung\\PhD_temp\\test_exp\\exp_test\\particles already exists\n",
      "Directory C:\\Users\\Alex\\Ausbildung\\PhD_temp\\test_exp\\exp_test\\labels already exists\n"
     ]
    }
   ],
   "source": [
    "## Configuration options\n",
    "N_FRAMES = 2\n",
    "\n",
    "SLEEP_BEFORE_EXPERIMENT_START_in_H = 0\n",
    "USE_AUTOFOCUS_EVENT = False\n",
    "\n",
    "TIME_BETWEEN_TIMESTEPS = 2  # time in seconds between frames\n",
    "TIME_PER_FOV = 1  # time in seconds per fov\n",
    "\n",
    "\n",
    "## Storage path for the experiment\n",
    "base_path = \"C:\\\\Users\\\\Alex\\\\Ausbildung\\\\PhD_temp\\\\test_exp\"\n",
    "experiment_name = \"exp_test\"\n",
    "path = os.path.join(base_path, experiment_name)\n",
    "\n",
    "path_with_old_data_for_simulation = os.path.join(\n",
    "    \".\", \"test_exp_data\", \"00_01_demo_imgs\"\n",
    ")  # path to the folder with old data for simulation\n",
    "\n",
    "# Define Channels for which Images are taken. If no power is defined, the default power of the device will be used,\n",
    "# for example, see the second channel \"Cy5\" below. The default power is set in the GUI\n",
    "channels = []\n",
    "channels.append(\n",
    "    Channel(\n",
    "        name=\"DAPI\",\n",
    "        exposure=150,\n",
    "        group=\"Channel\",\n",
    "        power=2,\n",
    "        device_name=\"LED\",\n",
    "        property_name=\"State\",\n",
    "    )\n",
    ")\n",
    "channels.append(Channel(name=\"Cy5\", exposure=150))\n",
    "\n",
    "\n",
    "# Condition mapping to FOVs. This is used to create a dataframe with the conditions and the FOVs.\n",
    "condition = [\n",
    "    \"FGFR_high\"\n",
    "]  # Example of adding a condition to the dataframe. Stimulation will be repeated for each condition.\n",
    "# condition = [\"optoFGFR_high\"] * 24 + [\"optoFGFR\"] * 24 # Example of adding multiple conditions to the dataframe. n repreats the amount of times the condition is repeated.\n",
    "\n",
    "n_fovs_per_condition = 36  ## change this variable to the amount of fovs that you have per cell line. If only one cell line is set, this value will\n",
    "# automatically set to total amount of fovs.\n",
    "\n",
    "n_fovs_per_well = None  ## change this variable to the amount of fovs that you have per well. Set to None if you are not working with wellplate.\n",
    "\n",
    "\n",
    "## Define the Tools that you are using for the experiment\n",
    "from rtm_pymmcore.segmentation.stardist import SegmentatorStardist\n",
    "from rtm_pymmcore.tracking.trackpy import TrackerTrackpy\n",
    "from rtm_pymmcore.feature_extraction.simple_fe import SimpleFE\n",
    "\n",
    "segmentators = [\n",
    "    {\n",
    "        \"name\": \"labels\",\n",
    "        \"class\": SegmentatorStardist(),\n",
    "        \"use_channel\": 0,\n",
    "        \"save_tracked\": True,\n",
    "    },\n",
    "]\n",
    "stimulator = None\n",
    "feature_extractor = SimpleFE(\"labels\")\n",
    "tracker = TrackerTrackpy()\n",
    "\n",
    "\n",
    "from rtm_pymmcore.img_processing_pip import ImageProcessingPipeline\n",
    "\n",
    "pipeline = ImageProcessingPipeline(\n",
    "    storage_path=path,\n",
    "    segmentators=segmentators,\n",
    "    feature_extractor=feature_extractor,\n",
    "    tracker=tracker,\n",
    "    stimulator=stimulator,\n",
    ")"
   ]
  },
  {
   "cell_type": "markdown",
   "metadata": {},
   "source": [
    "### Load device and set startup channel"
   ]
  },
  {
   "cell_type": "code",
   "execution_count": 3,
   "metadata": {},
   "outputs": [],
   "source": [
    "mmc.loadSystemConfiguration(\"C:\\\\Program Files\\Micro-Manager-2.0\\\\MMConfig_demo.cfg\")\n",
    "mmc.setConfig(groupName=\"System\", configName=\"Startup\")\n",
    "mmc.setChannelGroup(channelGroup=\"Channel\")"
   ]
  },
  {
   "cell_type": "markdown",
   "metadata": {},
   "source": [
    "### GUI - Napari Micromanager"
   ]
  },
  {
   "cell_type": "markdown",
   "metadata": {},
   "source": [
    "#### Load GUI"
   ]
  },
  {
   "cell_type": "code",
   "execution_count": 4,
   "metadata": {},
   "outputs": [
    {
     "data": {
      "text/plain": [
       "<napari._qt.widgets.qt_viewer_dock_widget.QtViewerDockWidget at 0x21c55241630>"
      ]
     },
     "execution_count": 4,
     "metadata": {},
     "output_type": "execute_result"
    }
   ],
   "source": [
    "### Base GUI ###\n",
    "from napari_micromanager import MainWindow\n",
    "import napari\n",
    "\n",
    "viewer = napari.Viewer()\n",
    "mm_wdg = MainWindow(viewer)\n",
    "viewer.window.add_dock_widget(mm_wdg)\n",
    "data_mda_fovs = None\n",
    "\n",
    "### Add MDA widget for FOV selection ###\n",
    "from pymmcore_widgets.mda import MDAWidget\n",
    "\n",
    "mdawidget = MDAWidget(mmcore=mmc)\n",
    "viewer.window.add_dock_widget(mdawidget)"
   ]
  },
  {
   "cell_type": "markdown",
   "metadata": {},
   "source": [
    "#### Functions to break and re-connect link with GUI if manually broken\n",
    "\n",
    "The following functions can be used to manually interrupt to connection between the GUI and the running rtm-pymmcore script. However, normally you don't need to execute them. "
   ]
  },
  {
   "cell_type": "code",
   "execution_count": null,
   "metadata": {},
   "outputs": [],
   "source": [
    "### Break connection\n",
    "# mm_wdg._core_link.cleanup()"
   ]
  },
  {
   "cell_type": "code",
   "execution_count": null,
   "metadata": {},
   "outputs": [],
   "source": [
    "### Manually reconnect pymmcore with napari-micromanager\n",
    "from napari_micromanager._core_link import CoreViewerLink\n",
    "\n",
    "mm_wdg._core_link = CoreViewerLink(viewer, mmc)"
   ]
  },
  {
   "cell_type": "markdown",
   "metadata": {},
   "source": [
    "### Map Experiment to FOVs"
   ]
  },
  {
   "cell_type": "markdown",
   "metadata": {},
   "source": [
    "#### If FOVs already saved - Reload them from file"
   ]
  },
  {
   "cell_type": "code",
   "execution_count": 4,
   "metadata": {},
   "outputs": [],
   "source": [
    "import json\n",
    "\n",
    "file = os.path.join(path, \"fovs.json\")\n",
    "with open(file, \"r\") as f:\n",
    "    data_mda_fovs = json.load(f)"
   ]
  },
  {
   "cell_type": "markdown",
   "metadata": {},
   "source": [
    "### Use FOVs to generate dataframe for acquisition"
   ]
  },
  {
   "cell_type": "code",
   "execution_count": 5,
   "metadata": {},
   "outputs": [
    {
     "name": "stdout",
     "output_type": "stream",
     "text": [
      "Total Experiment Time: 0.0005555555555555556h\n"
     ]
    },
    {
     "data": {
      "application/vnd.microsoft.datawrangler.viewer.v0+json": {
       "columns": [
        {
         "name": "index",
         "rawType": "int64",
         "type": "integer"
        },
        {
         "name": "fov_object",
         "rawType": "object",
         "type": "unknown"
        },
        {
         "name": "fov",
         "rawType": "int64",
         "type": "integer"
        },
        {
         "name": "fov_x",
         "rawType": "float64",
         "type": "float"
        },
        {
         "name": "fov_y",
         "rawType": "float64",
         "type": "float"
        },
        {
         "name": "fov_z",
         "rawType": "float64",
         "type": "float"
        },
        {
         "name": "fov_name",
         "rawType": "object",
         "type": "string"
        },
        {
         "name": "timestep",
         "rawType": "int64",
         "type": "integer"
        },
        {
         "name": "time",
         "rawType": "int64",
         "type": "integer"
        },
        {
         "name": "cell_line",
         "rawType": "object",
         "type": "string"
        },
        {
         "name": "channels",
         "rawType": "object",
         "type": "unknown"
        },
        {
         "name": "fname",
         "rawType": "object",
         "type": "string"
        }
       ],
       "conversionMethod": "pd.DataFrame",
       "ref": "bcefab6b-a73d-4e76-8c84-1b9f55f661d0",
       "rows": [
        [
         "0",
         "<rtm_pymmcore.data_structures.Fov object at 0x0000020274ECCD90>",
         "0",
         "0.0",
         "0.0",
         "0.0",
         "0",
         "0",
         "0",
         "FGFR_high",
         "({'name': 'DAPI', 'exposure': 150, 'group': 'Channel', 'power': 2, 'device_name': 'LED', 'property_name': 'State'}, {'name': 'Cy5', 'exposure': 150, 'group': None, 'power': None, 'device_name': None, 'property_name': None})",
         "000_00000"
        ],
        [
         "2",
         "<rtm_pymmcore.data_structures.Fov object at 0x0000020274ECCBD0>",
         "1",
         "20.01",
         "0.0",
         "0.0",
         "1",
         "0",
         "0",
         "FGFR_high",
         "({'name': 'DAPI', 'exposure': 150, 'group': 'Channel', 'power': 2, 'device_name': 'LED', 'property_name': 'State'}, {'name': 'Cy5', 'exposure': 150, 'group': None, 'power': None, 'device_name': None, 'property_name': None})",
         "001_00000"
        ],
        [
         "1",
         "<rtm_pymmcore.data_structures.Fov object at 0x0000020274ECCD90>",
         "0",
         "0.0",
         "0.0",
         "0.0",
         "0",
         "1",
         "2",
         "FGFR_high",
         "({'name': 'DAPI', 'exposure': 150, 'group': 'Channel', 'power': 2, 'device_name': 'LED', 'property_name': 'State'}, {'name': 'Cy5', 'exposure': 150, 'group': None, 'power': None, 'device_name': None, 'property_name': None})",
         "000_00001"
        ],
        [
         "3",
         "<rtm_pymmcore.data_structures.Fov object at 0x0000020274ECCBD0>",
         "1",
         "20.01",
         "0.0",
         "0.0",
         "1",
         "1",
         "2",
         "FGFR_high",
         "({'name': 'DAPI', 'exposure': 150, 'group': 'Channel', 'power': 2, 'device_name': 'LED', 'property_name': 'State'}, {'name': 'Cy5', 'exposure': 150, 'group': None, 'power': None, 'device_name': None, 'property_name': None})",
         "001_00001"
        ]
       ],
       "shape": {
        "columns": 11,
        "rows": 4
       }
      },
      "text/html": [
       "<div>\n",
       "<style scoped>\n",
       "    .dataframe tbody tr th:only-of-type {\n",
       "        vertical-align: middle;\n",
       "    }\n",
       "\n",
       "    .dataframe tbody tr th {\n",
       "        vertical-align: top;\n",
       "    }\n",
       "\n",
       "    .dataframe thead th {\n",
       "        text-align: right;\n",
       "    }\n",
       "</style>\n",
       "<table border=\"1\" class=\"dataframe\">\n",
       "  <thead>\n",
       "    <tr style=\"text-align: right;\">\n",
       "      <th></th>\n",
       "      <th>fov_object</th>\n",
       "      <th>fov</th>\n",
       "      <th>fov_x</th>\n",
       "      <th>fov_y</th>\n",
       "      <th>fov_z</th>\n",
       "      <th>fov_name</th>\n",
       "      <th>timestep</th>\n",
       "      <th>time</th>\n",
       "      <th>cell_line</th>\n",
       "      <th>channels</th>\n",
       "      <th>fname</th>\n",
       "    </tr>\n",
       "  </thead>\n",
       "  <tbody>\n",
       "    <tr>\n",
       "      <th>0</th>\n",
       "      <td>&lt;rtm_pymmcore.data_structures.Fov object at 0x...</td>\n",
       "      <td>0</td>\n",
       "      <td>0.00</td>\n",
       "      <td>0.0</td>\n",
       "      <td>0.0</td>\n",
       "      <td>0</td>\n",
       "      <td>0</td>\n",
       "      <td>0</td>\n",
       "      <td>FGFR_high</td>\n",
       "      <td>({'name': 'DAPI', 'exposure': 150, 'group': 'C...</td>\n",
       "      <td>000_00000</td>\n",
       "    </tr>\n",
       "    <tr>\n",
       "      <th>2</th>\n",
       "      <td>&lt;rtm_pymmcore.data_structures.Fov object at 0x...</td>\n",
       "      <td>1</td>\n",
       "      <td>20.01</td>\n",
       "      <td>0.0</td>\n",
       "      <td>0.0</td>\n",
       "      <td>1</td>\n",
       "      <td>0</td>\n",
       "      <td>0</td>\n",
       "      <td>FGFR_high</td>\n",
       "      <td>({'name': 'DAPI', 'exposure': 150, 'group': 'C...</td>\n",
       "      <td>001_00000</td>\n",
       "    </tr>\n",
       "    <tr>\n",
       "      <th>1</th>\n",
       "      <td>&lt;rtm_pymmcore.data_structures.Fov object at 0x...</td>\n",
       "      <td>0</td>\n",
       "      <td>0.00</td>\n",
       "      <td>0.0</td>\n",
       "      <td>0.0</td>\n",
       "      <td>0</td>\n",
       "      <td>1</td>\n",
       "      <td>2</td>\n",
       "      <td>FGFR_high</td>\n",
       "      <td>({'name': 'DAPI', 'exposure': 150, 'group': 'C...</td>\n",
       "      <td>000_00001</td>\n",
       "    </tr>\n",
       "    <tr>\n",
       "      <th>3</th>\n",
       "      <td>&lt;rtm_pymmcore.data_structures.Fov object at 0x...</td>\n",
       "      <td>1</td>\n",
       "      <td>20.01</td>\n",
       "      <td>0.0</td>\n",
       "      <td>0.0</td>\n",
       "      <td>1</td>\n",
       "      <td>1</td>\n",
       "      <td>2</td>\n",
       "      <td>FGFR_high</td>\n",
       "      <td>({'name': 'DAPI', 'exposure': 150, 'group': 'C...</td>\n",
       "      <td>001_00001</td>\n",
       "    </tr>\n",
       "  </tbody>\n",
       "</table>\n",
       "</div>"
      ],
      "text/plain": [
       "                                          fov_object  fov  fov_x  fov_y  \\\n",
       "0  <rtm_pymmcore.data_structures.Fov object at 0x...    0   0.00    0.0   \n",
       "2  <rtm_pymmcore.data_structures.Fov object at 0x...    1  20.01    0.0   \n",
       "1  <rtm_pymmcore.data_structures.Fov object at 0x...    0   0.00    0.0   \n",
       "3  <rtm_pymmcore.data_structures.Fov object at 0x...    1  20.01    0.0   \n",
       "\n",
       "   fov_z fov_name  timestep  time  cell_line  \\\n",
       "0    0.0        0         0     0  FGFR_high   \n",
       "2    0.0        1         0     0  FGFR_high   \n",
       "1    0.0        0         1     2  FGFR_high   \n",
       "3    0.0        1         1     2  FGFR_high   \n",
       "\n",
       "                                            channels      fname  \n",
       "0  ({'name': 'DAPI', 'exposure': 150, 'group': 'C...  000_00000  \n",
       "2  ({'name': 'DAPI', 'exposure': 150, 'group': 'C...  001_00000  \n",
       "1  ({'name': 'DAPI', 'exposure': 150, 'group': 'C...  000_00001  \n",
       "3  ({'name': 'DAPI', 'exposure': 150, 'group': 'C...  001_00001  "
      ]
     },
     "execution_count": 5,
     "metadata": {},
     "output_type": "execute_result"
    }
   ],
   "source": [
    "n_fovs_simultaneously = TIME_BETWEEN_TIMESTEPS // TIME_PER_FOV\n",
    "timesteps = range(N_FRAMES)\n",
    "\n",
    "start_time = 0\n",
    "if data_mda_fovs is None:\n",
    "    assert False, \"No fovs selected. Please select fovs in the MDA widget\"\n",
    "dfs = []\n",
    "fovs = []\n",
    "for fov_index, fov in enumerate(data_mda_fovs):\n",
    "    fov_object = Fov(fov_index)\n",
    "    fovs.append(fov_object)\n",
    "    fov_group = fov_index // n_fovs_simultaneously\n",
    "    start_time = fov_group * TIME_BETWEEN_TIMESTEPS * len(timesteps)\n",
    "    if len(condition) == 1:\n",
    "        condition_fov = condition[0]\n",
    "    else:\n",
    "        condition = condition[fov_index // n_fovs_per_condition]\n",
    "    for timestep in timesteps:\n",
    "        row = {\n",
    "            \"fov_object\": fov_object,\n",
    "            \"fov\": fov_index,\n",
    "            \"fov_x\": fov.get(\"x\"),\n",
    "            \"fov_y\": fov.get(\"y\"),\n",
    "            \"fov_z\": fov.get(\"z\"),\n",
    "            \"fov_name\": str(fov_index) if fov[\"name\"] is None else fov.name,\n",
    "            \"timestep\": timestep,\n",
    "            \"time\": start_time + timestep * TIME_BETWEEN_TIMESTEPS,\n",
    "            \"cell_line\": condition_fov,\n",
    "            \"channels\": tuple(dataclasses.asdict(channel) for channel in channels),\n",
    "            \"fname\": f\"{str(fov_index).zfill(3)}_{str(timestep).zfill(5)}\",\n",
    "        }\n",
    "        dfs.append(row)\n",
    "\n",
    "df_acquire = pd.DataFrame(dfs)\n",
    "\n",
    "print(f\"Total Experiment Time: {df_acquire['time'].max()/3600}h\")\n",
    "\n",
    "\n",
    "df_acquire = df_acquire.dropna(axis=1, how=\"all\")\n",
    "pd.set_option(\"display.max_columns\", None)\n",
    "pd.set_option(\"display.expand_frame_repr\", True)\n",
    "df_acquire = df_acquire.sort_values(by=[\"time\", \"fov\"])\n",
    "df_acquire"
   ]
  },
  {
   "attachments": {},
   "cell_type": "markdown",
   "metadata": {},
   "source": [
    "### Run experiment"
   ]
  },
  {
   "cell_type": "code",
   "execution_count": 6,
   "metadata": {},
   "outputs": [
    {
     "name": "stderr",
     "output_type": "stream",
     "text": [
      "functional.py (238): The structure of `inputs` doesn't match the expected structure.\n",
      "Expected: ['input']\n",
      "Received: inputs=Tensor(shape=(1, 1024, 1024, 1))\n"
     ]
    },
    {
     "name": "stdout",
     "output_type": "stream",
     "text": [
      "Experiment finished\n"
     ]
    }
   ],
   "source": [
    "pymmcore_plus.configure_logging(stderr_level=\"WARNING\")\n",
    "for _ in range(0, SLEEP_BEFORE_EXPERIMENT_START_in_H * 3600):\n",
    "    time.sleep(1)\n",
    "from rtm_pymmcore.controller import ControllerSimulated, Analyzer\n",
    "from rtm_pymmcore.dmd import DMD\n",
    "from queue import Queue\n",
    "\n",
    "try:\n",
    "    mm_wdg._core_link.cleanup()\n",
    "except:\n",
    "    pass\n",
    "\n",
    "\n",
    "analyzer = Analyzer(pipeline)\n",
    "queue = Queue()\n",
    "controller = ControllerSimulated(\n",
    "    analyzer,\n",
    "    mmc,\n",
    "    queue,\n",
    "    project_path=path_with_old_data_for_simulation,\n",
    ")\n",
    "controller.run(df_acquire)\n",
    "print(\"Experiment finished\")\n",
    "\n",
    "fovs_i_list = os.listdir(os.path.join(path, \"tracks\"))\n",
    "fovs_i_list.sort()\n",
    "dfs = []\n",
    "for fov_i in fovs_i_list:\n",
    "    track_file = os.path.join(path, \"tracks\", fov_i)\n",
    "    df = pd.read_parquet(track_file)\n",
    "    dfs.append(df)\n",
    "pd.concat(dfs).to_parquet(os.path.join(path, \"exp_data.parquet\"))"
   ]
  }
 ],
 "metadata": {
  "kernelspec": {
   "display_name": "pymmcore",
   "language": "python",
   "name": "python3"
  },
  "language_info": {
   "codemirror_mode": {
    "name": "ipython",
    "version": 3
   },
   "file_extension": ".py",
   "mimetype": "text/x-python",
   "name": "python",
   "nbconvert_exporter": "python",
   "pygments_lexer": "ipython3",
   "version": "3.11.0"
  },
  "orig_nbformat": 4
 },
 "nbformat": 4,
 "nbformat_minor": 2
}

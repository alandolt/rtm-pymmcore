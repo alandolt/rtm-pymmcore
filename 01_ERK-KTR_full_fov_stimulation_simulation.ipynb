{
 "cells": [
  {
   "cell_type": "markdown",
   "metadata": {},
   "source": [
    "# ERK-KTR Full FOV Stimulation Pipeline"
   ]
  },
  {
   "cell_type": "markdown",
   "metadata": {},
   "source": [
    "## Experimental Settings"
   ]
  },
  {
   "cell_type": "markdown",
   "metadata": {},
   "source": [
    "## System Init"
   ]
  },
  {
   "cell_type": "markdown",
   "metadata": {},
   "source": [
    "### Load pymmcore and required python libraries"
   ]
  },
  {
   "cell_type": "code",
   "execution_count": 2,
   "metadata": {},
   "outputs": [],
   "source": [
    "import os\n",
    "import time\n",
    "\n",
    "os.environ[\"QT_LOGGING_RULES\"] = (\n",
    "    \"*.debug=false; *.warning=false\"  # Fix to suppress PyQT warnings from napari-micromanager when running in a Jupyter notebook\n",
    ")\n",
    "os.environ[\"MICROMANAGER_PATH\"] = \"C:\\\\Program Files\\\\Micro-Manager-2.0\"\n",
    "\n",
    "from rtm_pymmcore.data_structures import Fov, Channel, StimTreatment\n",
    "from rtm_pymmcore.utils import create_folders\n",
    "from pprint import pprint\n",
    "import pandas as pd\n",
    "import numpy as np\n",
    "import dataclasses\n",
    "import random\n",
    "import napari\n",
    "import pymmcore_plus\n",
    "from napari_micromanager import MainWindow\n",
    "\n",
    "from useq._mda_event import SLMImage\n",
    "\n",
    "mmc = pymmcore_plus.CMMCorePlus()"
   ]
  },
  {
   "cell_type": "markdown",
   "metadata": {},
   "source": [
    "### Device Specific Init for Niesen Microscope"
   ]
  },
  {
   "cell_type": "code",
   "execution_count": 3,
   "metadata": {},
   "outputs": [],
   "source": [
    "mmc.loadSystemConfiguration(\"C:\\\\Program Files\\Micro-Manager-2.0\\\\MMConfig_demo.cfg\")\n",
    "mmc.setConfig(groupName=\"System\", configName=\"Startup\")\n",
    "mmc.setChannelGroup(channelGroup=\"Channel\")"
   ]
  },
  {
   "cell_type": "markdown",
   "metadata": {},
   "source": [
    "## GUI - Napari Micromanager"
   ]
  },
  {
   "cell_type": "markdown",
   "metadata": {},
   "source": [
    "### Load GUI"
   ]
  },
  {
   "cell_type": "code",
   "execution_count": 3,
   "metadata": {},
   "outputs": [
    {
     "data": {
      "text/plain": [
       "<napari._qt.widgets.qt_viewer_dock_widget.QtViewerDockWidget at 0x11c6d68ae60>"
      ]
     },
     "execution_count": 3,
     "metadata": {},
     "output_type": "execute_result"
    }
   ],
   "source": [
    "### Base GUI ###\n",
    "viewer = napari.Viewer()\n",
    "mm_wdg = MainWindow(viewer)\n",
    "viewer.window.add_dock_widget(mm_wdg)"
   ]
  },
  {
   "cell_type": "code",
   "execution_count": 4,
   "metadata": {},
   "outputs": [
    {
     "data": {
      "text/plain": [
       "<napari._qt.widgets.qt_viewer_dock_widget.QtViewerDockWidget at 0x1ea85ad4820>"
      ]
     },
     "execution_count": 4,
     "metadata": {},
     "output_type": "execute_result"
    }
   ],
   "source": [
    "### Add MDA widget for FOV selection ###\n",
    "from pymmcore_widgets.mda import MDAWidget\n",
    "\n",
    "mdawidget = MDAWidget(mmcore=mmc)\n",
    "viewer.window.add_dock_widget(mdawidget)"
   ]
  },
  {
   "cell_type": "markdown",
   "metadata": {},
   "source": [
    "### Functions to break and re-connect link with GUI if manually broken\n",
    "\n",
    "The following functions can be used to manually interrupt to connection between the GUI and the running rtm-pymmcore script. However, normally you don't need to execute them. "
   ]
  },
  {
   "cell_type": "code",
   "execution_count": null,
   "metadata": {},
   "outputs": [],
   "source": [
    "### Break connection\n",
    "# mm_wdg._core_link.cleanup()"
   ]
  },
  {
   "cell_type": "code",
   "execution_count": null,
   "metadata": {},
   "outputs": [],
   "source": [
    "### Manually reconnect pymmcore with napari-micromanager\n",
    "from napari_micromanager._core_link import CoreViewerLink\n",
    "\n",
    "mm_wdg._core_link = CoreViewerLink(viewer, mmc)"
   ]
  },
  {
   "attachments": {},
   "cell_type": "markdown",
   "metadata": {},
   "source": [
    "## Create a DF with all planned acquisitions and stimulations"
   ]
  },
  {
   "cell_type": "markdown",
   "metadata": {},
   "source": [
    "### Settings for Experiment"
   ]
  },
  {
   "cell_type": "code",
   "execution_count": 4,
   "metadata": {},
   "outputs": [
    {
     "name": "stdout",
     "output_type": "stream",
     "text": [
      "Directory C:\\Users\\Alex\\Ausbildung\\PhD_temp\\test_exp\\exp_test\\stim already exists\n",
      "Directory C:\\Users\\Alex\\Ausbildung\\PhD_temp\\test_exp\\exp_test\\raw already exists\n",
      "Directory C:\\Users\\Alex\\Ausbildung\\PhD_temp\\test_exp\\exp_test\\labels already exists\n",
      "Directory C:\\Users\\Alex\\Ausbildung\\PhD_temp\\test_exp\\exp_test\\stim_mask already exists\n",
      "Directory C:\\Users\\Alex\\Ausbildung\\PhD_temp\\test_exp\\exp_test\\tracks already exists\n",
      "Directory C:\\Users\\Alex\\Ausbildung\\PhD_temp\\test_exp\\exp_test\\labels_rings already exists\n",
      "Directory C:\\Users\\Alex\\Ausbildung\\PhD_temp\\test_exp\\exp_test\\particles already exists\n",
      "[StimTreatment(stim_channel_name='FITC',\n",
      "               stim_channel_group='Channels',\n",
      "               stim_timestep=(10, 20),\n",
      "               stim_exposure=60,\n",
      "               stim_power=3,\n",
      "               stim_channel_device_name='LED',\n",
      "               stim_channel_power_property_name='State'),\n",
      " StimTreatment(stim_channel_name='FITC',\n",
      "               stim_channel_group='Channels',\n",
      "               stim_timestep=(30, 40),\n",
      "               stim_exposure=60,\n",
      "               stim_power=3,\n",
      "               stim_channel_device_name='LED',\n",
      "               stim_channel_power_property_name='State')]\n"
     ]
    }
   ],
   "source": [
    "df_acquire = pd.DataFrame(\n",
    "    columns=[\n",
    "        \"fov\",\n",
    "        \"timestep\",\n",
    "        \"time\",\n",
    "        \"time_experiment\",\n",
    "        \"treatment\",\n",
    "        \"acquired\",\n",
    "        \"stim\",\n",
    "        \"channels\",\n",
    "        \"channel_stim\",\n",
    "    ]\n",
    ")\n",
    "\n",
    "base_path = \"C:\\\\Users\\\\Alex\\\\Ausbildung\\\\PhD_temp\\\\test_exp\"\n",
    "experiment_name = \"exp_test\"\n",
    "path = os.path.join(base_path, experiment_name)\n",
    "\n",
    "N_FRAMES = 2\n",
    "FIRST_FRAME_STIMULATION = 10\n",
    "\n",
    "SLEEP_BEFORE_EXPERIMENT_START = 0\n",
    "USE_AUTOFOCUS_EVENT = False\n",
    "\n",
    "create_folders(\n",
    "    path, [\"stim\", \"raw\", \"labels\", \"stim_mask\", \"tracks\", \"labels_rings\", \"particles\"]\n",
    ")\n",
    "\n",
    "time_between_frames = 2  # time in seconds between frames\n",
    "time_per_fov = 1  # time in seconds per fov\n",
    "\n",
    "timesteps = range(N_FRAMES)\n",
    "\n",
    "channels = []\n",
    "channels.append(\n",
    "    Channel(\n",
    "        name=\"DAPI\",\n",
    "        exposure=150,\n",
    "        group=\"Channel\",\n",
    "        power=2,\n",
    "        device_name=\"LED\",\n",
    "        property_name=\"State\",\n",
    "    )\n",
    ")\n",
    "channels.append(Channel(name=\"Cy5\", exposure=150))\n",
    "\n",
    "# cell_lines = [\"optoFGFR_high\"] * 24 + [\"optoFGFR\"] * 24\n",
    "condition = [\"FGFR_high\"]\n",
    "# if defining individual fovs, else these values a re ignored:\n",
    "n_fovs_per_cell_line = 36  ## change this variable to the amount of fovs that you have per cell line. If only one cell line is set, this value will\n",
    "# automatically set to total amount of fovs. If you are working will wellplate, this value will be ignored, as each columns\n",
    "# will be an entry in the cell lines list.\n",
    "\n",
    "n_fovs_per_well = None  ## change this variable to the amount of fovs that you have per well. Set to None if you are not working with wellplate.\n",
    "# If you are working with the autogenetreated wellplate, this value will be ignored, as each columns will be an entry in the cell lines list.\n",
    "\n",
    "# stim_timesteps = [list(range(10,N_FRAMES,1)), list(range(10,N_FRAMES,2)), list(range(10,N_FRAMES,10)), list(range(10,N_FRAMES,20)), [10], list(range(10,N_FRAMES,5))]  # list of timesteps for stimulation, if e.g. double stimulation in frame 0 and 1 is needed write [[0,1]]\n",
    "# stim_timesteps = [list(range(FIRST_FRAME_STIMULATION,N_FRAMES,2))]  # list of timesteps for stimulation, if e.g. double stimulation in frame 0 and 1 is needed write [[0,1]]\n",
    "\n",
    "# stim_timesteps = [[10], list(range(10, 60, 2)), list(range(10, 60, 1)), list(range(10,60,10)), list(range(10, 60, 20)), list(range(10, 60, 5))]  # list of timesteps for stimulation, if e.g. double stimulation in frame 0 and 1 is needed write [[0,1]]\n",
    "\n",
    "\n",
    "stim_exposures = [60]\n",
    "stim_timesteps = [(10, 20), (30, 40)]\n",
    "\n",
    "\n",
    "stim_treatments = [\n",
    "    StimTreatment(\n",
    "        stim_channel_name=\"FITC\",\n",
    "        stim_channel_group=\"Channels\",\n",
    "        stim_timestep=stim_timestep,\n",
    "        stim_exposure=stim_exposure,\n",
    "        stim_power=3,\n",
    "        stim_channel_device_name=\"LED\",\n",
    "        stim_channel_power_property_name=\"State\",\n",
    "    )\n",
    "    for stim_exposure in stim_exposures\n",
    "    for stim_timestep in stim_timesteps\n",
    "]\n",
    "pprint(stim_treatments)\n",
    "data_mda_fovs = None"
   ]
  },
  {
   "cell_type": "markdown",
   "metadata": {},
   "source": [
    "### Map Experiment to FOVs"
   ]
  },
  {
   "cell_type": "markdown",
   "metadata": {},
   "source": [
    "#### If FOVs already saved - Reload them from file"
   ]
  },
  {
   "cell_type": "code",
   "execution_count": 5,
   "metadata": {},
   "outputs": [],
   "source": [
    "import json\n",
    "\n",
    "file = os.path.join(path, \"fovs.json\")\n",
    "with open(file, \"r\") as f:\n",
    "    data_mda_fovs = json.load(f)"
   ]
  },
  {
   "cell_type": "markdown",
   "metadata": {},
   "source": [
    "Only select one of the following two code blocks. If you autogenerated FOVs using the wellplate option of the MDA widget, then use the first code block, else the second. "
   ]
  },
  {
   "cell_type": "markdown",
   "metadata": {},
   "source": [
    "#### FOVs were selected using MDA widget"
   ]
  },
  {
   "cell_type": "markdown",
   "metadata": {},
   "source": [
    "### Use FOVs to generate dataframe for acquisition"
   ]
  },
  {
   "cell_type": "code",
   "execution_count": 17,
   "metadata": {},
   "outputs": [
    {
     "name": "stdout",
     "output_type": "stream",
     "text": [
      "Total Experiment Time: 0.0005555555555555556h\n",
      "Doing 1 experiment per stim condition\n"
     ]
    },
    {
     "data": {
      "application/vnd.microsoft.datawrangler.viewer.v0+json": {
       "columns": [
        {
         "name": "index",
         "rawType": "int64",
         "type": "integer"
        },
        {
         "name": "fov_object",
         "rawType": "object",
         "type": "unknown"
        },
        {
         "name": "fov",
         "rawType": "int64",
         "type": "integer"
        },
        {
         "name": "fov_x",
         "rawType": "float64",
         "type": "float"
        },
        {
         "name": "fov_y",
         "rawType": "float64",
         "type": "float"
        },
        {
         "name": "fov_z",
         "rawType": "float64",
         "type": "float"
        },
        {
         "name": "fov_name",
         "rawType": "object",
         "type": "string"
        },
        {
         "name": "timestep",
         "rawType": "int64",
         "type": "integer"
        },
        {
         "name": "time",
         "rawType": "int64",
         "type": "integer"
        },
        {
         "name": "cell_line",
         "rawType": "object",
         "type": "string"
        },
        {
         "name": "channels",
         "rawType": "object",
         "type": "unknown"
        },
        {
         "name": "fname",
         "rawType": "object",
         "type": "string"
        },
        {
         "name": "stim_channel_name",
         "rawType": "object",
         "type": "string"
        },
        {
         "name": "stim_channel_group",
         "rawType": "object",
         "type": "string"
        },
        {
         "name": "stim_timestep",
         "rawType": "object",
         "type": "unknown"
        },
        {
         "name": "stim_exposure",
         "rawType": "int64",
         "type": "integer"
        },
        {
         "name": "stim_power",
         "rawType": "int64",
         "type": "integer"
        },
        {
         "name": "stim_channel_device_name",
         "rawType": "object",
         "type": "string"
        },
        {
         "name": "stim_channel_power_property_name",
         "rawType": "object",
         "type": "string"
        },
        {
         "name": "stim",
         "rawType": "bool",
         "type": "boolean"
        }
       ],
       "conversionMethod": "pd.DataFrame",
       "ref": "b0449dc3-a074-4e7f-a5f8-5a7207a4a6a3",
       "rows": [
        [
         "0",
         "<rtm_pymmcore.data_structures.Fov object at 0x000001F05F9A4A90>",
         "0",
         "0.0",
         "0.0",
         "0.0",
         "0",
         "0",
         "0",
         "FGFR_high",
         "({'name': 'DAPI', 'exposure': 150, 'group': 'Channel', 'power': 2, 'device_name': 'LED', 'property_name': 'State'}, {'name': 'Cy5', 'exposure': 150, 'group': None, 'power': None, 'device_name': None, 'property_name': None})",
         "000_00000",
         "FITC",
         "Channels",
         "(10, 20)",
         "60",
         "3",
         "LED",
         "State",
         "False"
        ],
        [
         "2",
         "<rtm_pymmcore.data_structures.Fov object at 0x000001F05F92D4D0>",
         "1",
         "20.01",
         "0.0",
         "0.0",
         "1",
         "0",
         "0",
         "FGFR_high",
         "({'name': 'DAPI', 'exposure': 150, 'group': 'Channel', 'power': 2, 'device_name': 'LED', 'property_name': 'State'}, {'name': 'Cy5', 'exposure': 150, 'group': None, 'power': None, 'device_name': None, 'property_name': None})",
         "001_00000",
         "FITC",
         "Channels",
         "(30, 40)",
         "60",
         "3",
         "LED",
         "State",
         "False"
        ],
        [
         "1",
         "<rtm_pymmcore.data_structures.Fov object at 0x000001F05F9A4A90>",
         "0",
         "0.0",
         "0.0",
         "0.0",
         "0",
         "1",
         "2",
         "FGFR_high",
         "({'name': 'DAPI', 'exposure': 150, 'group': 'Channel', 'power': 2, 'device_name': 'LED', 'property_name': 'State'}, {'name': 'Cy5', 'exposure': 150, 'group': None, 'power': None, 'device_name': None, 'property_name': None})",
         "000_00001",
         "FITC",
         "Channels",
         "(10, 20)",
         "60",
         "3",
         "LED",
         "State",
         "False"
        ],
        [
         "3",
         "<rtm_pymmcore.data_structures.Fov object at 0x000001F05F92D4D0>",
         "1",
         "20.01",
         "0.0",
         "0.0",
         "1",
         "1",
         "2",
         "FGFR_high",
         "({'name': 'DAPI', 'exposure': 150, 'group': 'Channel', 'power': 2, 'device_name': 'LED', 'property_name': 'State'}, {'name': 'Cy5', 'exposure': 150, 'group': None, 'power': None, 'device_name': None, 'property_name': None})",
         "001_00001",
         "FITC",
         "Channels",
         "(30, 40)",
         "60",
         "3",
         "LED",
         "State",
         "False"
        ]
       ],
       "shape": {
        "columns": 19,
        "rows": 4
       }
      },
      "text/html": [
       "<div>\n",
       "<style scoped>\n",
       "    .dataframe tbody tr th:only-of-type {\n",
       "        vertical-align: middle;\n",
       "    }\n",
       "\n",
       "    .dataframe tbody tr th {\n",
       "        vertical-align: top;\n",
       "    }\n",
       "\n",
       "    .dataframe thead th {\n",
       "        text-align: right;\n",
       "    }\n",
       "</style>\n",
       "<table border=\"1\" class=\"dataframe\">\n",
       "  <thead>\n",
       "    <tr style=\"text-align: right;\">\n",
       "      <th></th>\n",
       "      <th>fov_object</th>\n",
       "      <th>fov</th>\n",
       "      <th>fov_x</th>\n",
       "      <th>fov_y</th>\n",
       "      <th>fov_z</th>\n",
       "      <th>fov_name</th>\n",
       "      <th>timestep</th>\n",
       "      <th>time</th>\n",
       "      <th>cell_line</th>\n",
       "      <th>channels</th>\n",
       "      <th>fname</th>\n",
       "      <th>stim_channel_name</th>\n",
       "      <th>stim_channel_group</th>\n",
       "      <th>stim_timestep</th>\n",
       "      <th>stim_exposure</th>\n",
       "      <th>stim_power</th>\n",
       "      <th>stim_channel_device_name</th>\n",
       "      <th>stim_channel_power_property_name</th>\n",
       "      <th>stim</th>\n",
       "    </tr>\n",
       "  </thead>\n",
       "  <tbody>\n",
       "    <tr>\n",
       "      <th>0</th>\n",
       "      <td>&lt;rtm_pymmcore.data_structures.Fov object at 0x...</td>\n",
       "      <td>0</td>\n",
       "      <td>0.00</td>\n",
       "      <td>0.0</td>\n",
       "      <td>0.0</td>\n",
       "      <td>0</td>\n",
       "      <td>0</td>\n",
       "      <td>0</td>\n",
       "      <td>FGFR_high</td>\n",
       "      <td>({'name': 'DAPI', 'exposure': 150, 'group': 'C...</td>\n",
       "      <td>000_00000</td>\n",
       "      <td>FITC</td>\n",
       "      <td>Channels</td>\n",
       "      <td>(10, 20)</td>\n",
       "      <td>60</td>\n",
       "      <td>3</td>\n",
       "      <td>LED</td>\n",
       "      <td>State</td>\n",
       "      <td>False</td>\n",
       "    </tr>\n",
       "    <tr>\n",
       "      <th>2</th>\n",
       "      <td>&lt;rtm_pymmcore.data_structures.Fov object at 0x...</td>\n",
       "      <td>1</td>\n",
       "      <td>20.01</td>\n",
       "      <td>0.0</td>\n",
       "      <td>0.0</td>\n",
       "      <td>1</td>\n",
       "      <td>0</td>\n",
       "      <td>0</td>\n",
       "      <td>FGFR_high</td>\n",
       "      <td>({'name': 'DAPI', 'exposure': 150, 'group': 'C...</td>\n",
       "      <td>001_00000</td>\n",
       "      <td>FITC</td>\n",
       "      <td>Channels</td>\n",
       "      <td>(30, 40)</td>\n",
       "      <td>60</td>\n",
       "      <td>3</td>\n",
       "      <td>LED</td>\n",
       "      <td>State</td>\n",
       "      <td>False</td>\n",
       "    </tr>\n",
       "    <tr>\n",
       "      <th>1</th>\n",
       "      <td>&lt;rtm_pymmcore.data_structures.Fov object at 0x...</td>\n",
       "      <td>0</td>\n",
       "      <td>0.00</td>\n",
       "      <td>0.0</td>\n",
       "      <td>0.0</td>\n",
       "      <td>0</td>\n",
       "      <td>1</td>\n",
       "      <td>2</td>\n",
       "      <td>FGFR_high</td>\n",
       "      <td>({'name': 'DAPI', 'exposure': 150, 'group': 'C...</td>\n",
       "      <td>000_00001</td>\n",
       "      <td>FITC</td>\n",
       "      <td>Channels</td>\n",
       "      <td>(10, 20)</td>\n",
       "      <td>60</td>\n",
       "      <td>3</td>\n",
       "      <td>LED</td>\n",
       "      <td>State</td>\n",
       "      <td>False</td>\n",
       "    </tr>\n",
       "    <tr>\n",
       "      <th>3</th>\n",
       "      <td>&lt;rtm_pymmcore.data_structures.Fov object at 0x...</td>\n",
       "      <td>1</td>\n",
       "      <td>20.01</td>\n",
       "      <td>0.0</td>\n",
       "      <td>0.0</td>\n",
       "      <td>1</td>\n",
       "      <td>1</td>\n",
       "      <td>2</td>\n",
       "      <td>FGFR_high</td>\n",
       "      <td>({'name': 'DAPI', 'exposure': 150, 'group': 'C...</td>\n",
       "      <td>001_00001</td>\n",
       "      <td>FITC</td>\n",
       "      <td>Channels</td>\n",
       "      <td>(30, 40)</td>\n",
       "      <td>60</td>\n",
       "      <td>3</td>\n",
       "      <td>LED</td>\n",
       "      <td>State</td>\n",
       "      <td>False</td>\n",
       "    </tr>\n",
       "  </tbody>\n",
       "</table>\n",
       "</div>"
      ],
      "text/plain": [
       "                                          fov_object  fov  fov_x  fov_y  \\\n",
       "0  <rtm_pymmcore.data_structures.Fov object at 0x...    0   0.00    0.0   \n",
       "2  <rtm_pymmcore.data_structures.Fov object at 0x...    1  20.01    0.0   \n",
       "1  <rtm_pymmcore.data_structures.Fov object at 0x...    0   0.00    0.0   \n",
       "3  <rtm_pymmcore.data_structures.Fov object at 0x...    1  20.01    0.0   \n",
       "\n",
       "   fov_z fov_name  timestep  time  cell_line  \\\n",
       "0    0.0        0         0     0  FGFR_high   \n",
       "2    0.0        1         0     0  FGFR_high   \n",
       "1    0.0        0         1     2  FGFR_high   \n",
       "3    0.0        1         1     2  FGFR_high   \n",
       "\n",
       "                                            channels      fname  \\\n",
       "0  ({'name': 'DAPI', 'exposure': 150, 'group': 'C...  000_00000   \n",
       "2  ({'name': 'DAPI', 'exposure': 150, 'group': 'C...  001_00000   \n",
       "1  ({'name': 'DAPI', 'exposure': 150, 'group': 'C...  000_00001   \n",
       "3  ({'name': 'DAPI', 'exposure': 150, 'group': 'C...  001_00001   \n",
       "\n",
       "  stim_channel_name stim_channel_group stim_timestep  stim_exposure  \\\n",
       "0              FITC           Channels      (10, 20)             60   \n",
       "2              FITC           Channels      (30, 40)             60   \n",
       "1              FITC           Channels      (10, 20)             60   \n",
       "3              FITC           Channels      (30, 40)             60   \n",
       "\n",
       "   stim_power stim_channel_device_name stim_channel_power_property_name   stim  \n",
       "0           3                      LED                            State  False  \n",
       "2           3                      LED                            State  False  \n",
       "1           3                      LED                            State  False  \n",
       "3           3                      LED                            State  False  "
      ]
     },
     "execution_count": 17,
     "metadata": {},
     "output_type": "execute_result"
    }
   ],
   "source": [
    "n_fovs_simultaneously = time_between_frames // time_per_fov\n",
    "start_time = 0\n",
    "if data_mda_fovs is None:\n",
    "    assert (\n",
    "        False\n",
    "    ), \"No fovs selected. Please select fovs in the MDA widget and save them to a json file.\"\n",
    "dfs = []\n",
    "fovs = []\n",
    "for fov_index, fov in enumerate(data_mda_fovs):\n",
    "    fov_object = Fov(fov_index)\n",
    "    fovs.append(fov_object)\n",
    "    fov_group = fov_index // n_fovs_simultaneously\n",
    "    start_time = fov_group * time_between_frames * len(timesteps)\n",
    "    if len(condition) == 1:\n",
    "        condition_fov = condition[0]\n",
    "    else:\n",
    "        condition = condition[fov_index // n_fovs_per_cell_line]\n",
    "    for timestep in timesteps:\n",
    "        row = {\n",
    "            \"fov_object\": fov_object,\n",
    "            \"fov\": fov_index,\n",
    "            \"fov_x\": fov.get(\"x\"),\n",
    "            \"fov_y\": fov.get(\"y\"),\n",
    "            \"fov_z\": fov.get(\"z\"),\n",
    "            \"fov_name\": str(fov_index) if fov[\"name\"] is None else fov.name,\n",
    "            \"timestep\": timestep,\n",
    "            \"time\": start_time + timestep * time_between_frames,\n",
    "            \"cell_line\": condition_fov,\n",
    "            \"channels\": tuple(dataclasses.asdict(channel) for channel in channels),\n",
    "            \"fname\": f\"{str(fov_index).zfill(3)}_{str(timestep).zfill(5)}\",\n",
    "        }\n",
    "        dfs.append(row)\n",
    "\n",
    "df_acquire = pd.DataFrame(dfs)\n",
    "\n",
    "print(f\"Total Experiment Time: {df_acquire['time'].max()/3600}h\")\n",
    "\n",
    "\n",
    "n_fovs = len(data_mda_fovs)\n",
    "n_stim_treatments = len(stim_treatments)\n",
    "if n_stim_treatments > 0:\n",
    "    n_fovs_per_stim_condition = n_fovs // n_stim_treatments // len(np.unique(condition))\n",
    "    stim_treatment_tot = []\n",
    "    random.shuffle(stim_treatments)\n",
    "    if n_fovs_per_well is not None:\n",
    "        for stim_treat in stim_treatments:\n",
    "            stim_treatment_tot.extend([stim_treat] * n_fovs_per_well)\n",
    "\n",
    "    else:\n",
    "        for fov_index in range(0, n_fovs_per_stim_condition):\n",
    "            stim_treatment_tot.extend(stim_treatments)\n",
    "        random.shuffle(stim_treatment_tot)\n",
    "\n",
    "        if n_fovs % n_stim_treatments != 0:\n",
    "            print(\n",
    "                f\"Warning: Not equal number of fovs per stim condition. {n_fovs % n_stim_treatments} fovs will have repeated treatment\"\n",
    "            )\n",
    "            stim_treatment_tot.extend(stim_treatments[: n_fovs % n_stim_treatments])\n",
    "    print(f\"Doing {n_fovs_per_stim_condition} experiment per stim condition\")\n",
    "\n",
    "    if len(condition) == 1:\n",
    "        n_fovs_per_cell_line = n_fovs\n",
    "    else:\n",
    "        stim_treatment_tot = stim_treatment_tot * len(np.unique(condition))\n",
    "\n",
    "    df_acquire = pd.merge(\n",
    "        df_acquire, pd.DataFrame(stim_treatment_tot), left_on=\"fov\", right_index=True\n",
    "    )\n",
    "\n",
    "    # Add stim column that checks if current timestep is in the stim_timestep tuple\n",
    "    df_acquire[\"stim\"] = df_acquire.apply(\n",
    "        lambda row: (\n",
    "            row[\"timestep\"] in row[\"stim_timestep\"]\n",
    "            if isinstance(row[\"stim_timestep\"], tuple) and row[\"stim_exposure\"] > 0\n",
    "            else False\n",
    "        ),\n",
    "        axis=1,\n",
    "    )\n",
    "\n",
    "df_acquire = df_acquire.dropna(axis=1, how=\"all\")\n",
    "pd.set_option(\"display.max_columns\", None)\n",
    "pd.set_option(\"display.expand_frame_repr\", True)\n",
    "df_acquire = df_acquire.sort_values(by=[\"time\", \"fov\"])\n",
    "df_acquire"
   ]
  },
  {
   "attachments": {},
   "cell_type": "markdown",
   "metadata": {},
   "source": [
    "## Run experiment"
   ]
  },
  {
   "cell_type": "code",
   "execution_count": null,
   "metadata": {},
   "outputs": [
    {
     "name": "stdout",
     "output_type": "stream",
     "text": [
      "The autoreload extension is already loaded. To reload it, use:\n",
      "  %reload_ext autoreload\n"
     ]
    },
    {
     "data": {
      "application/vnd.microsoft.datawrangler.viewer.v0+json": {
       "columns": [
        {
         "name": "index",
         "rawType": "int64",
         "type": "integer"
        },
        {
         "name": "label",
         "rawType": "uint32",
         "type": "integer"
        },
        {
         "name": "x",
         "rawType": "float64",
         "type": "float"
        },
        {
         "name": "y",
         "rawType": "float64",
         "type": "float"
        },
        {
         "name": "area",
         "rawType": "float64",
         "type": "float"
        },
        {
         "name": "fov",
         "rawType": "uint16",
         "type": "integer"
        },
        {
         "name": "fov_x",
         "rawType": "float64",
         "type": "float"
        },
        {
         "name": "fov_y",
         "rawType": "float64",
         "type": "float"
        },
        {
         "name": "fov_z",
         "rawType": "float64",
         "type": "float"
        },
        {
         "name": "fov_name",
         "rawType": "object",
         "type": "string"
        },
        {
         "name": "timestep",
         "rawType": "uint32",
         "type": "integer"
        },
        {
         "name": "time",
         "rawType": "float32",
         "type": "float"
        },
        {
         "name": "cell_line",
         "rawType": "object",
         "type": "string"
        },
        {
         "name": "channels",
         "rawType": "object",
         "type": "unknown"
        },
        {
         "name": "fname",
         "rawType": "object",
         "type": "string"
        },
        {
         "name": "stim_channel_name",
         "rawType": "object",
         "type": "string"
        },
        {
         "name": "stim_channel_group",
         "rawType": "object",
         "type": "string"
        },
        {
         "name": "stim_timestep",
         "rawType": "object",
         "type": "unknown"
        },
        {
         "name": "stim_exposure",
         "rawType": "float32",
         "type": "float"
        },
        {
         "name": "stim_power",
         "rawType": "int64",
         "type": "integer"
        },
        {
         "name": "stim_channel_device_name",
         "rawType": "object",
         "type": "string"
        },
        {
         "name": "stim_channel_power_property_name",
         "rawType": "object",
         "type": "string"
        },
        {
         "name": "stim",
         "rawType": "bool",
         "type": "boolean"
        },
        {
         "name": "particle",
         "rawType": "uint32",
         "type": "integer"
        }
       ],
       "conversionMethod": "pd.DataFrame",
       "ref": "1452ddf9-9267-40d6-9784-399096f6f9c9",
       "rows": [
        [
         "0",
         "1",
         "511.5",
         "511.5",
         "1048576.0",
         "1",
         "20.01",
         "0.0",
         "0.0",
         "1",
         "0",
         "0.0",
         "FGFR_high",
         "[{'device_name': 'LED', 'exposure': 150, 'group': 'Channel', 'name': 'DAPI', 'power': 2.0, 'property_name': 'State'}\n {'device_name': None, 'exposure': 150, 'group': None, 'name': 'Cy5', 'power': None, 'property_name': None}]",
         "001_00000",
         "FITC",
         "Channels",
         "[30 40]",
         "60.0",
         "3",
         "LED",
         "State",
         "False",
         "0"
        ],
        [
         "1",
         "1",
         "511.5",
         "511.5",
         "1048576.0",
         "1",
         "20.01",
         "0.0",
         "0.0",
         "1",
         "1",
         "2.0",
         "FGFR_high",
         "[{'device_name': 'LED', 'exposure': 150, 'group': 'Channel', 'name': 'DAPI', 'power': 2.0, 'property_name': 'State'}\n {'device_name': None, 'exposure': 150, 'group': None, 'name': 'Cy5', 'power': None, 'property_name': None}]",
         "001_00001",
         "FITC",
         "Channels",
         "[30 40]",
         "60.0",
         "3",
         "LED",
         "State",
         "False",
         "0"
        ]
       ],
       "shape": {
        "columns": 23,
        "rows": 2
       }
      },
      "text/html": [
       "<div>\n",
       "<style scoped>\n",
       "    .dataframe tbody tr th:only-of-type {\n",
       "        vertical-align: middle;\n",
       "    }\n",
       "\n",
       "    .dataframe tbody tr th {\n",
       "        vertical-align: top;\n",
       "    }\n",
       "\n",
       "    .dataframe thead th {\n",
       "        text-align: right;\n",
       "    }\n",
       "</style>\n",
       "<table border=\"1\" class=\"dataframe\">\n",
       "  <thead>\n",
       "    <tr style=\"text-align: right;\">\n",
       "      <th></th>\n",
       "      <th>label</th>\n",
       "      <th>x</th>\n",
       "      <th>y</th>\n",
       "      <th>area</th>\n",
       "      <th>fov</th>\n",
       "      <th>fov_x</th>\n",
       "      <th>fov_y</th>\n",
       "      <th>fov_z</th>\n",
       "      <th>fov_name</th>\n",
       "      <th>timestep</th>\n",
       "      <th>time</th>\n",
       "      <th>cell_line</th>\n",
       "      <th>channels</th>\n",
       "      <th>fname</th>\n",
       "      <th>stim_channel_name</th>\n",
       "      <th>stim_channel_group</th>\n",
       "      <th>stim_timestep</th>\n",
       "      <th>stim_exposure</th>\n",
       "      <th>stim_power</th>\n",
       "      <th>stim_channel_device_name</th>\n",
       "      <th>stim_channel_power_property_name</th>\n",
       "      <th>stim</th>\n",
       "      <th>particle</th>\n",
       "    </tr>\n",
       "  </thead>\n",
       "  <tbody>\n",
       "    <tr>\n",
       "      <th>0</th>\n",
       "      <td>1</td>\n",
       "      <td>511.5</td>\n",
       "      <td>511.5</td>\n",
       "      <td>1048576.0</td>\n",
       "      <td>1</td>\n",
       "      <td>20.01</td>\n",
       "      <td>0.0</td>\n",
       "      <td>0.0</td>\n",
       "      <td>1</td>\n",
       "      <td>0</td>\n",
       "      <td>0.0</td>\n",
       "      <td>FGFR_high</td>\n",
       "      <td>[{'device_name': 'LED', 'exposure': 150, 'grou...</td>\n",
       "      <td>001_00000</td>\n",
       "      <td>FITC</td>\n",
       "      <td>Channels</td>\n",
       "      <td>[30, 40]</td>\n",
       "      <td>60.0</td>\n",
       "      <td>3</td>\n",
       "      <td>LED</td>\n",
       "      <td>State</td>\n",
       "      <td>False</td>\n",
       "      <td>0</td>\n",
       "    </tr>\n",
       "    <tr>\n",
       "      <th>1</th>\n",
       "      <td>1</td>\n",
       "      <td>511.5</td>\n",
       "      <td>511.5</td>\n",
       "      <td>1048576.0</td>\n",
       "      <td>1</td>\n",
       "      <td>20.01</td>\n",
       "      <td>0.0</td>\n",
       "      <td>0.0</td>\n",
       "      <td>1</td>\n",
       "      <td>1</td>\n",
       "      <td>2.0</td>\n",
       "      <td>FGFR_high</td>\n",
       "      <td>[{'device_name': 'LED', 'exposure': 150, 'grou...</td>\n",
       "      <td>001_00001</td>\n",
       "      <td>FITC</td>\n",
       "      <td>Channels</td>\n",
       "      <td>[30, 40]</td>\n",
       "      <td>60.0</td>\n",
       "      <td>3</td>\n",
       "      <td>LED</td>\n",
       "      <td>State</td>\n",
       "      <td>False</td>\n",
       "      <td>0</td>\n",
       "    </tr>\n",
       "  </tbody>\n",
       "</table>\n",
       "</div>"
      ],
      "text/plain": [
       "   label      x      y       area  fov  fov_x  fov_y  fov_z fov_name  \\\n",
       "0      1  511.5  511.5  1048576.0    1  20.01    0.0    0.0        1   \n",
       "1      1  511.5  511.5  1048576.0    1  20.01    0.0    0.0        1   \n",
       "\n",
       "   timestep  time  cell_line  \\\n",
       "0         0   0.0  FGFR_high   \n",
       "1         1   2.0  FGFR_high   \n",
       "\n",
       "                                            channels      fname  \\\n",
       "0  [{'device_name': 'LED', 'exposure': 150, 'grou...  001_00000   \n",
       "1  [{'device_name': 'LED', 'exposure': 150, 'grou...  001_00001   \n",
       "\n",
       "  stim_channel_name stim_channel_group stim_timestep  stim_exposure  \\\n",
       "0              FITC           Channels      [30, 40]           60.0   \n",
       "1              FITC           Channels      [30, 40]           60.0   \n",
       "\n",
       "   stim_power stim_channel_device_name stim_channel_power_property_name  \\\n",
       "0           3                      LED                            State   \n",
       "1           3                      LED                            State   \n",
       "\n",
       "    stim  particle  \n",
       "0  False         0  \n",
       "1  False         0  "
      ]
     },
     "execution_count": 18,
     "metadata": {},
     "output_type": "execute_result"
    }
   ],
   "source": [
    "%load_ext autoreload\n",
    "%autoreload 2\n",
    "\n",
    "pymmcore_plus.configure_logging(stderr_level=\"WARNING\")\n",
    "# for _ in range(0, SLEEP_BEFORE_EXPERIMENT_START * 3600):\n",
    "#     time.sleep(1)\n",
    "from rtm_pymmcore.img_processing_pip import ImageProcessingPipeline\n",
    "from rtm_pymmcore.segmentation.base_segmentator import DummySegmentator\n",
    "from rtm_pymmcore.stimulation.base_stim import StimWholeFOV\n",
    "from rtm_pymmcore.controller import ControllerSimulated, Analyzer\n",
    "from rtm_pymmcore.feature_extraction.base_feature_extractor import FE_Base\n",
    "from rtm_pymmcore.tracking.trackpy import TrackerTrackpy\n",
    "from rtm_pymmcore.dmd import DMD\n",
    "from queue import Queue\n",
    "\n",
    "try:\n",
    "    mm_wdg._core_link.cleanup()\n",
    "except:\n",
    "    pass\n",
    "\n",
    "segmentators = [\n",
    "    {\n",
    "        \"name\": \"labels\",\n",
    "        \"class\": DummySegmentator(),\n",
    "        \"use_channel\": 0,\n",
    "        \"save_tracked\": True,\n",
    "    },\n",
    "]\n",
    "stimulator = StimWholeFOV()\n",
    "feature_extractor = FE_Base(\"labels\")\n",
    "tracker = TrackerTrackpy()\n",
    "\n",
    "\n",
    "pipeline = ImageProcessingPipeline(\n",
    "    storage_path=path,\n",
    "    segmentators=segmentators,\n",
    "    feature_extractor=feature_extractor,\n",
    "    tracker=tracker,\n",
    "    stimulator=stimulator,\n",
    ")\n",
    "analyzer = Analyzer(pipeline)\n",
    "queue = Queue()\n",
    "controller = ControllerSimulated(\n",
    "    analyzer,\n",
    "    mmc,\n",
    "    queue,\n",
    "    project_path=\"C:\\\\Users\\\\Alex\\\\Ausbildung\\\\PhD_temp\\\\test_exp\\\\old_data\",\n",
    ")\n",
    "controller.run(df_acquire)"
   ]
  }
 ],
 "metadata": {
  "kernelspec": {
   "display_name": "pymmcore",
   "language": "python",
   "name": "python3"
  },
  "language_info": {
   "codemirror_mode": {
    "name": "ipython",
    "version": 3
   },
   "file_extension": ".py",
   "mimetype": "text/x-python",
   "name": "python",
   "nbconvert_exporter": "python",
   "pygments_lexer": "ipython3",
   "version": "3.11.0"
  },
  "orig_nbformat": 4
 },
 "nbformat": 4,
 "nbformat_minor": 2
}

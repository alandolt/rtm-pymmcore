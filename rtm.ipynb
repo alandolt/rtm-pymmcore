{
 "cells": [
  {
   "cell_type": "code",
   "execution_count": 1,
   "metadata": {},
   "outputs": [],
   "source": [
    "from fov import FOV\n",
    "import useq\n",
    "from useq import MDAEvent\n",
    "from queue import Queue\n",
    "import numpy as np\n",
    "from matplotlib import pyplot as plt\n",
    "from napari import Viewer\n",
    "import numpy as np\n",
    "from queue import Queue\n",
    "from pymmcore_plus import CMMCorePlus\n",
    "from useq import MDAEvent\n",
    "import useq\n",
    "from useq._channel import Channel\n",
    "from MDAEngine_DMD import MDAEngine_DMD\n",
    "from controller import Controller, Analyzer\n",
    "import pandas as pd\n",
    "import random\n",
    "from utils import ImgType, MetadataDict\n",
    "from stimulation import StimExtraParameters\n",
    "from dmd import DMD\n",
    "from hardware import load_config\n",
    "import os\n",
    "import tempfile\n",
    "from datetime import datetime\n",
    "import pymmcore\n",
    "import napari\n",
    "from tracking import TrackerTrackpy\n",
    "from utils import create_folders\n",
    "import numpy as np\n",
    "import pymmcore_plus\n",
    "import numpy as np"
   ]
  },
  {
   "attachments": {},
   "cell_type": "markdown",
   "metadata": {},
   "source": [
    "## load napari interface"
   ]
  },
  {
   "cell_type": "code",
   "execution_count": 2,
   "metadata": {},
   "outputs": [
    {
     "name": "stderr",
     "output_type": "stream",
     "text": [
      "WARNING: QMainWindowLayout::count: ?\n"
     ]
    },
    {
     "data": {
      "text/plain": [
       "<napari._qt.widgets.qt_viewer_dock_widget.QtViewerDockWidget at 0x202ba0fbe50>"
      ]
     },
     "execution_count": 2,
     "metadata": {},
     "output_type": "execute_result"
    }
   ],
   "source": [
    "import napari\n",
    "import napari_micromanager\n",
    "from pymmcore_widgets._mda import PositionTable\n",
    "\n",
    "viewer = napari.Viewer()\n",
    "dw, main_window = viewer.window.add_plugin_dock_widget(\"napari-micromanager\")\n",
    "pos_table_widget = PositionTable()\n",
    "viewer.window.add_dock_widget(pos_table_widget)"
   ]
  },
  {
   "attachments": {},
   "cell_type": "markdown",
   "metadata": {},
   "source": [
    "## load harware config (this takes ~20s)"
   ]
  },
  {
   "cell_type": "code",
   "execution_count": 3,
   "metadata": {},
   "outputs": [],
   "source": [
    "mmc = main_window._mmc\n",
    "#mmc.loadSystemConfiguration(\"MMConfig_demo.cfg\")\n",
    "mmc.loadSystemConfiguration(\"./local/local_config.cfg\")\n",
    "mmc.waitForSystem()"
   ]
  },
  {
   "attachments": {},
   "cell_type": "markdown",
   "metadata": {},
   "source": [
    "## setup the experiment"
   ]
  },
  {
   "cell_type": "code",
   "execution_count": 4,
   "metadata": {},
   "outputs": [
    {
     "name": "stdout",
     "output_type": "stream",
     "text": [
      "Directory F:/lhinder/tmp/stim already exists\n",
      "Directory F:/lhinder/tmp/raw already exists\n",
      "Directory F:/lhinder/tmp/labels already exists\n",
      "Directory F:/lhinder/tmp/stim_mask already exists\n",
      "Directory F:/lhinder/tmp/tracks already exists\n",
      "Directory F:/lhinder/tmp/labels_rings already exists\n",
      "Directory F:/lhinder/tmp/particles already exists\n",
      "Logfile: F:/lhinder/tmp/log.txt\n"
     ]
    }
   ],
   "source": [
    "# Create a new log file in the temp directory\n",
    "path = 'F:/lhinder/tmp/'\n",
    "\n",
    "create_folders(path,['stim','raw','labels','stim_mask','tracks','labels_rings','particles'])\n",
    "\n",
    "#TODO: create dir and file\n",
    "\n",
    "log_file = os.path.join(path, \"log.txt\")\n",
    "\n",
    "# Get the current date and time\n",
    "current_time = datetime.now().strftime(\"%Y-%m-%d %H:%M:%S\")\n",
    "\n",
    "print(f\"Logfile: {log_file}\")\n",
    "\n",
    "# Open the log file in append mode and write the date and time\n",
    "with open(log_file, \"w\") as file: #w: write (delete old content), a: append\n",
    "    file.write(f\"{current_time}\\n\")\n",
    "    file.write(f\"User ID: {mmc.getUserId()}\")\n",
    "\n",
    "    file.write(f\"PyMMCore version {pymmcore.__version__}\\n\")\n",
    "    file.write(f\"{mmc.getAPIVersionInfo()}\")\n",
    "    file.write(f\"{mmc.getVersionInfo()}\\n\\n\")\n",
    "\n",
    "    file.write(\"Loaded devices:\\n\")\n",
    "    file.write(\"\\n\".join(str(device) for device in mmc.getLoadedDevices()))\n",
    "    file.write(\"\\n\\n\")"
   ]
  },
  {
   "attachments": {},
   "cell_type": "markdown",
   "metadata": {},
   "source": [
    "## get the list with FOV positions from napari"
   ]
  },
  {
   "cell_type": "code",
   "execution_count": 6,
   "metadata": {},
   "outputs": [
    {
     "data": {
      "text/plain": [
       "[{'name': 'Pos000', 'x': 859.3, 'y': 2486.7, 'z': None, 'sequence': None},\n",
       " {'name': 'Pos001', 'x': 799.4, 'y': 2486.7, 'z': None, 'sequence': None}]"
      ]
     },
     "execution_count": 6,
     "metadata": {},
     "output_type": "execute_result"
    }
   ],
   "source": [
    "# Get the position list from the napari widget\n",
    "pos_table = pos_table_widget.value()\n",
    "pos_table"
   ]
  },
  {
   "attachments": {},
   "cell_type": "markdown",
   "metadata": {},
   "source": [
    "## create a DF with all planned acquisitions and stimulations"
   ]
  },
  {
   "cell_type": "code",
   "execution_count": 3,
   "metadata": {},
   "outputs": [],
   "source": [
    "#TODO check what happens if there are no cells - what is being put into the tracks queue?\n",
    "#--> 100     fov.tracks = fov.tracks_queue.get(timeout=10) #wait max 10s for tracks\n",
    "#--> empty error"
   ]
  },
  {
   "cell_type": "code",
   "execution_count": 7,
   "metadata": {},
   "outputs": [
    {
     "data": {
      "text/html": [
       "<div>\n",
       "<style scoped>\n",
       "    .dataframe tbody tr th:only-of-type {\n",
       "        vertical-align: middle;\n",
       "    }\n",
       "\n",
       "    .dataframe tbody tr th {\n",
       "        vertical-align: top;\n",
       "    }\n",
       "\n",
       "    .dataframe thead th {\n",
       "        text-align: right;\n",
       "    }\n",
       "</style>\n",
       "<table border=\"1\" class=\"dataframe\">\n",
       "  <thead>\n",
       "    <tr style=\"text-align: right;\">\n",
       "      <th></th>\n",
       "      <th>fov</th>\n",
       "      <th>timestep</th>\n",
       "      <th>time</th>\n",
       "      <th>time_experiment</th>\n",
       "      <th>treatment</th>\n",
       "      <th>acquired</th>\n",
       "      <th>stim</th>\n",
       "      <th>channels</th>\n",
       "      <th>channel_stim</th>\n",
       "      <th>fov_object</th>\n",
       "      <th>name</th>\n",
       "      <th>channels_exposure</th>\n",
       "      <th>channel_stim_exposure</th>\n",
       "      <th>fname</th>\n",
       "      <th>offset_x</th>\n",
       "      <th>offset_y</th>\n",
       "      <th>radius</th>\n",
       "    </tr>\n",
       "  </thead>\n",
       "  <tbody>\n",
       "    <tr>\n",
       "      <th>0</th>\n",
       "      <td>0</td>\n",
       "      <td>0</td>\n",
       "      <td>0</td>\n",
       "      <td>NaN</td>\n",
       "      <td>stim_mid</td>\n",
       "      <td>False</td>\n",
       "      <td>False</td>\n",
       "      <td>[miRFP, mCherry]</td>\n",
       "      <td>mCitrine</td>\n",
       "      <td>&lt;fov.FOV object at 0x00000202DDA847C0&gt;</td>\n",
       "      <td>Pos000</td>\n",
       "      <td>[200, 100]</td>\n",
       "      <td>100.0</td>\n",
       "      <td>000_00000</td>\n",
       "      <td>0.0</td>\n",
       "      <td>10.0</td>\n",
       "      <td>10.0</td>\n",
       "    </tr>\n",
       "    <tr>\n",
       "      <th>0</th>\n",
       "      <td>1</td>\n",
       "      <td>0</td>\n",
       "      <td>0</td>\n",
       "      <td>NaN</td>\n",
       "      <td>stim_top</td>\n",
       "      <td>False</td>\n",
       "      <td>False</td>\n",
       "      <td>[miRFP, mCherry]</td>\n",
       "      <td>mCitrine</td>\n",
       "      <td>&lt;fov.FOV object at 0x00000202BA15A100&gt;</td>\n",
       "      <td>Pos001</td>\n",
       "      <td>[200, 100]</td>\n",
       "      <td>100.0</td>\n",
       "      <td>001_00000</td>\n",
       "      <td>0.0</td>\n",
       "      <td>10.0</td>\n",
       "      <td>10.0</td>\n",
       "    </tr>\n",
       "    <tr>\n",
       "      <th>0</th>\n",
       "      <td>0</td>\n",
       "      <td>1</td>\n",
       "      <td>5</td>\n",
       "      <td>NaN</td>\n",
       "      <td>stim_mid</td>\n",
       "      <td>False</td>\n",
       "      <td>False</td>\n",
       "      <td>[miRFP, mCherry]</td>\n",
       "      <td>mCitrine</td>\n",
       "      <td>&lt;fov.FOV object at 0x00000202DDA847C0&gt;</td>\n",
       "      <td>Pos000</td>\n",
       "      <td>[200, 100]</td>\n",
       "      <td>100.0</td>\n",
       "      <td>000_00001</td>\n",
       "      <td>0.0</td>\n",
       "      <td>10.0</td>\n",
       "      <td>10.0</td>\n",
       "    </tr>\n",
       "    <tr>\n",
       "      <th>0</th>\n",
       "      <td>1</td>\n",
       "      <td>1</td>\n",
       "      <td>5</td>\n",
       "      <td>NaN</td>\n",
       "      <td>stim_top</td>\n",
       "      <td>False</td>\n",
       "      <td>False</td>\n",
       "      <td>[miRFP, mCherry]</td>\n",
       "      <td>mCitrine</td>\n",
       "      <td>&lt;fov.FOV object at 0x00000202BA15A100&gt;</td>\n",
       "      <td>Pos001</td>\n",
       "      <td>[200, 100]</td>\n",
       "      <td>100.0</td>\n",
       "      <td>001_00001</td>\n",
       "      <td>0.0</td>\n",
       "      <td>10.0</td>\n",
       "      <td>10.0</td>\n",
       "    </tr>\n",
       "    <tr>\n",
       "      <th>0</th>\n",
       "      <td>0</td>\n",
       "      <td>2</td>\n",
       "      <td>10</td>\n",
       "      <td>NaN</td>\n",
       "      <td>stim_mid</td>\n",
       "      <td>False</td>\n",
       "      <td>True</td>\n",
       "      <td>[miRFP, mCherry]</td>\n",
       "      <td>mCitrine</td>\n",
       "      <td>&lt;fov.FOV object at 0x00000202DDA847C0&gt;</td>\n",
       "      <td>Pos000</td>\n",
       "      <td>[200, 100]</td>\n",
       "      <td>100.0</td>\n",
       "      <td>000_00002</td>\n",
       "      <td>0.0</td>\n",
       "      <td>10.0</td>\n",
       "      <td>10.0</td>\n",
       "    </tr>\n",
       "    <tr>\n",
       "      <th>0</th>\n",
       "      <td>1</td>\n",
       "      <td>2</td>\n",
       "      <td>10</td>\n",
       "      <td>NaN</td>\n",
       "      <td>stim_top</td>\n",
       "      <td>False</td>\n",
       "      <td>True</td>\n",
       "      <td>[miRFP, mCherry]</td>\n",
       "      <td>mCitrine</td>\n",
       "      <td>&lt;fov.FOV object at 0x00000202BA15A100&gt;</td>\n",
       "      <td>Pos001</td>\n",
       "      <td>[200, 100]</td>\n",
       "      <td>100.0</td>\n",
       "      <td>001_00002</td>\n",
       "      <td>0.0</td>\n",
       "      <td>10.0</td>\n",
       "      <td>10.0</td>\n",
       "    </tr>\n",
       "    <tr>\n",
       "      <th>0</th>\n",
       "      <td>0</td>\n",
       "      <td>3</td>\n",
       "      <td>15</td>\n",
       "      <td>NaN</td>\n",
       "      <td>stim_mid</td>\n",
       "      <td>False</td>\n",
       "      <td>True</td>\n",
       "      <td>[miRFP, mCherry]</td>\n",
       "      <td>mCitrine</td>\n",
       "      <td>&lt;fov.FOV object at 0x00000202DDA847C0&gt;</td>\n",
       "      <td>Pos000</td>\n",
       "      <td>[200, 100]</td>\n",
       "      <td>100.0</td>\n",
       "      <td>000_00003</td>\n",
       "      <td>0.0</td>\n",
       "      <td>10.0</td>\n",
       "      <td>10.0</td>\n",
       "    </tr>\n",
       "    <tr>\n",
       "      <th>0</th>\n",
       "      <td>1</td>\n",
       "      <td>3</td>\n",
       "      <td>15</td>\n",
       "      <td>NaN</td>\n",
       "      <td>stim_top</td>\n",
       "      <td>False</td>\n",
       "      <td>True</td>\n",
       "      <td>[miRFP, mCherry]</td>\n",
       "      <td>mCitrine</td>\n",
       "      <td>&lt;fov.FOV object at 0x00000202BA15A100&gt;</td>\n",
       "      <td>Pos001</td>\n",
       "      <td>[200, 100]</td>\n",
       "      <td>100.0</td>\n",
       "      <td>001_00003</td>\n",
       "      <td>0.0</td>\n",
       "      <td>10.0</td>\n",
       "      <td>10.0</td>\n",
       "    </tr>\n",
       "    <tr>\n",
       "      <th>0</th>\n",
       "      <td>0</td>\n",
       "      <td>4</td>\n",
       "      <td>20</td>\n",
       "      <td>NaN</td>\n",
       "      <td>stim_mid</td>\n",
       "      <td>False</td>\n",
       "      <td>False</td>\n",
       "      <td>[miRFP, mCherry]</td>\n",
       "      <td>mCitrine</td>\n",
       "      <td>&lt;fov.FOV object at 0x00000202DDA847C0&gt;</td>\n",
       "      <td>Pos000</td>\n",
       "      <td>[200, 100]</td>\n",
       "      <td>100.0</td>\n",
       "      <td>000_00004</td>\n",
       "      <td>0.0</td>\n",
       "      <td>10.0</td>\n",
       "      <td>10.0</td>\n",
       "    </tr>\n",
       "    <tr>\n",
       "      <th>0</th>\n",
       "      <td>1</td>\n",
       "      <td>4</td>\n",
       "      <td>20</td>\n",
       "      <td>NaN</td>\n",
       "      <td>stim_top</td>\n",
       "      <td>False</td>\n",
       "      <td>False</td>\n",
       "      <td>[miRFP, mCherry]</td>\n",
       "      <td>mCitrine</td>\n",
       "      <td>&lt;fov.FOV object at 0x00000202BA15A100&gt;</td>\n",
       "      <td>Pos001</td>\n",
       "      <td>[200, 100]</td>\n",
       "      <td>100.0</td>\n",
       "      <td>001_00004</td>\n",
       "      <td>0.0</td>\n",
       "      <td>10.0</td>\n",
       "      <td>10.0</td>\n",
       "    </tr>\n",
       "  </tbody>\n",
       "</table>\n",
       "</div>"
      ],
      "text/plain": [
       "  fov timestep time time_experiment treatment acquired   stim  \\\n",
       "0   0        0    0             NaN  stim_mid    False  False   \n",
       "0   1        0    0             NaN  stim_top    False  False   \n",
       "0   0        1    5             NaN  stim_mid    False  False   \n",
       "0   1        1    5             NaN  stim_top    False  False   \n",
       "0   0        2   10             NaN  stim_mid    False   True   \n",
       "0   1        2   10             NaN  stim_top    False   True   \n",
       "0   0        3   15             NaN  stim_mid    False   True   \n",
       "0   1        3   15             NaN  stim_top    False   True   \n",
       "0   0        4   20             NaN  stim_mid    False  False   \n",
       "0   1        4   20             NaN  stim_top    False  False   \n",
       "\n",
       "           channels channel_stim                              fov_object  \\\n",
       "0  [miRFP, mCherry]     mCitrine  <fov.FOV object at 0x00000202DDA847C0>   \n",
       "0  [miRFP, mCherry]     mCitrine  <fov.FOV object at 0x00000202BA15A100>   \n",
       "0  [miRFP, mCherry]     mCitrine  <fov.FOV object at 0x00000202DDA847C0>   \n",
       "0  [miRFP, mCherry]     mCitrine  <fov.FOV object at 0x00000202BA15A100>   \n",
       "0  [miRFP, mCherry]     mCitrine  <fov.FOV object at 0x00000202DDA847C0>   \n",
       "0  [miRFP, mCherry]     mCitrine  <fov.FOV object at 0x00000202BA15A100>   \n",
       "0  [miRFP, mCherry]     mCitrine  <fov.FOV object at 0x00000202DDA847C0>   \n",
       "0  [miRFP, mCherry]     mCitrine  <fov.FOV object at 0x00000202BA15A100>   \n",
       "0  [miRFP, mCherry]     mCitrine  <fov.FOV object at 0x00000202DDA847C0>   \n",
       "0  [miRFP, mCherry]     mCitrine  <fov.FOV object at 0x00000202BA15A100>   \n",
       "\n",
       "     name channels_exposure  channel_stim_exposure      fname  offset_x  \\\n",
       "0  Pos000        [200, 100]                  100.0  000_00000       0.0   \n",
       "0  Pos001        [200, 100]                  100.0  001_00000       0.0   \n",
       "0  Pos000        [200, 100]                  100.0  000_00001       0.0   \n",
       "0  Pos001        [200, 100]                  100.0  001_00001       0.0   \n",
       "0  Pos000        [200, 100]                  100.0  000_00002       0.0   \n",
       "0  Pos001        [200, 100]                  100.0  001_00002       0.0   \n",
       "0  Pos000        [200, 100]                  100.0  000_00003       0.0   \n",
       "0  Pos001        [200, 100]                  100.0  001_00003       0.0   \n",
       "0  Pos000        [200, 100]                  100.0  000_00004       0.0   \n",
       "0  Pos001        [200, 100]                  100.0  001_00004       0.0   \n",
       "\n",
       "   offset_y  radius  \n",
       "0      10.0    10.0  \n",
       "0      10.0    10.0  \n",
       "0      10.0    10.0  \n",
       "0      10.0    10.0  \n",
       "0      10.0    10.0  \n",
       "0      10.0    10.0  \n",
       "0      10.0    10.0  \n",
       "0      10.0    10.0  \n",
       "0      10.0    10.0  \n",
       "0      10.0    10.0  "
      ]
     },
     "execution_count": 7,
     "metadata": {},
     "output_type": "execute_result"
    }
   ],
   "source": [
    "df_acquire = pd.DataFrame(columns=['fov', 'timestep', 'time','time_experiment', 'treatment', 'acquired','stim', 'channels', 'channel_stim'])\n",
    "\n",
    "time_between_frames = 5 #time in seconds between frames\n",
    "stim_timesteps = [2,3]  # list of timesteps\n",
    "#stim_timesteps= []  # list of timesteps\n",
    "\n",
    "timesteps = range(5)  # 0-20\n",
    "treatments = ['stim_top', 'stim_mid',]  # list of treatments\n",
    "channels = [['miRFP','mCherry']]\n",
    "channels_exposure = [[200,100]]\n",
    "channel_stim = ['mCitrine']\n",
    "channel_stim_exposure = [100]\n",
    "\n",
    "\n",
    "\n",
    "fovs:list[FOV] = []\n",
    "\n",
    "for i,row in enumerate(pos_table):\n",
    "    fov = FOV(pos=(row['x'],row['y']),\n",
    "              index=i,\n",
    "              name=row['name'],\n",
    "              path=path,\n",
    "              metadata={},\n",
    "              properties={'stim_property': 'top'},\n",
    "              )\n",
    "    fovs.append(fov)\n",
    "\n",
    "\n",
    "# Loop over the FOVs and randomly assign one of the treatments to it\n",
    "treatments_shuffled = treatments.copy()\n",
    "random.shuffle(treatments_shuffled)\n",
    "for fov in fovs:\n",
    "    treatment = treatments_shuffled[fov.index % len(treatments_shuffled)]\n",
    "    for timestep in timesteps:\n",
    "        new_row = { 'fov_object': fov,\n",
    "                    'fov':fov.index,\n",
    "                    'name':fov.name,\n",
    "                    'timestep': timestep,\n",
    "                    'time': timestep*time_between_frames,\n",
    "                    'treatment': treatment,\n",
    "                    'acquired': False,\n",
    "                    'stim': timestep in stim_timesteps,\n",
    "                    'channels': channels,\n",
    "                    'channels_exposure':channels_exposure,\n",
    "                    'channel_stim' : channel_stim,\n",
    "                    'channel_stim_exposure' : channel_stim_exposure,\n",
    "                    'fname' : f'{str(fov.index).zfill(3)}_{str(timestep).zfill(5)}',\n",
    "                    \n",
    "                    ## Custom parameters for the stimulation\n",
    "                    'offset_x': 0, #offset for the stimulation mask\n",
    "                    'offset_y': 10, #offset for the stimulation mask\n",
    "                    'radius': 10, #radius of the stimulation mask\n",
    "                    }\n",
    "        df_acquire = pd.concat([df_acquire, pd.DataFrame(new_row, index=[0])])\n",
    "\n",
    "\n",
    "df_acquire = df_acquire.sort_values(by=['timestep', 'fov'])\n",
    "\n",
    "df_acquire"
   ]
  },
  {
   "attachments": {},
   "cell_type": "markdown",
   "metadata": {},
   "source": [
    "## Run on system with DMD"
   ]
  },
  {
   "cell_type": "code",
   "execution_count": 8,
   "metadata": {},
   "outputs": [
    {
     "name": "stdout",
     "output_type": "stream",
     "text": [
      "Found model '2D_versatile_fluo' for 'StarDist2D'.\n",
      "Loading network weights from 'weights_best.h5'.\n",
      "Loading thresholds from 'thresholds.json'.\n",
      "Using default values: prob_thresh=0.479071, nms_thresh=0.3.\n"
     ]
    },
    {
     "data": {
      "text/plain": [
       "array([[ 5.39835828e+00, -2.44809271e+00,  1.13336552e+02],\n",
       "       [-9.80927088e+00,  1.46064703e-01,  3.57090053e+03]])"
      ]
     },
     "execution_count": 8,
     "metadata": {},
     "output_type": "execute_result"
    }
   ],
   "source": [
    "from add_frame import ImageProcessingPipeline\n",
    "from segmentation import SegmentatorStardist\n",
    "from controller import Controller, Analyzer\n",
    "\n",
    "\n",
    "segmentator = SegmentatorStardist('2D_versatile_fluo')\n",
    "stimulator = StimExtraParameters()\n",
    "tracker = TrackerTrackpy(search_range=10,memory=3,adaptive_stop=1,adaptive_step=0.8)\n",
    "pipeline = ImageProcessingPipeline(segmentator,stimulator,tracker)\n",
    "analyzer = Analyzer(pipeline)\n",
    "\n",
    "dmd = DMD(mmc)\n",
    "\n",
    "dmd.calibrate()"
   ]
  },
  {
   "cell_type": "code",
   "execution_count": 9,
   "metadata": {},
   "outputs": [
    {
     "name": "stderr",
     "output_type": "stream",
     "text": [
      "\u001b[38;20m2023-10-24 15:01:50,932 - pymmcore-plus - INFO - (_runner.py:216) MDA Started: GeneratorMDASequence()\u001b[0m\n",
      "\u001b[38;20m2023-10-24 15:01:50,935 - pymmcore-plus - INFO - (_runner.py:184) channel=Channel(config='miRFP') exposure=200.0 min_start_time=0.0 x_pos=859.3 y_pos=2486.7 metadata={'fov': 0, 'timestep': 0, 'time': 0, 'time_experiment': nan, 'treatment': 'stim_mid', 'acquired': False, 'stim': False, 'channels': ['miRFP', 'mCherry'], 'channel_stim': 'mCitrine', 'fov_object': <fov.FOV object at 0x00000202DDA847C0>, 'name': 'Pos000', 'channels_exposure': [200, 100], 'channel_stim_exposure': 100.0, 'fname': '000_00000', 'offset_x': 0.0, 'offset_y': 10.0, 'radius': 10.0, 'img_type': <ImgType.IMG_RAW: 1>, 'last_channel': False, 'stim_mask': array([[255, 255, 255, ..., 255, 255, 255],\n",
      "       [255, 255, 255, ..., 255, 255, 255],\n",
      "       [255, 255, 255, ..., 255, 255, 255],\n",
      "       ...,\n",
      "       [255, 255, 255, ..., 255, 255, 255],\n",
      "       [255, 255, 255, ..., 255, 255, 255],\n",
      "       [255, 255, 255, ..., 255, 255, 255]], dtype=uint8), 'channel': 'miRFP'}\u001b[0m\n"
     ]
    },
    {
     "name": "stdout",
     "output_type": "stream",
     "text": [
      "Current timestep: 0\n",
      "Current timestep: 1\n"
     ]
    },
    {
     "name": "stderr",
     "output_type": "stream",
     "text": [
      "\u001b[38;20m2023-10-24 15:01:51,799 - pymmcore-plus - INFO - (_runner.py:184) channel=Channel(config='mCherry') exposure=100.0 min_start_time=0.0 x_pos=859.3 y_pos=2486.7 metadata={'fov': 0, 'timestep': 0, 'time': 0, 'time_experiment': nan, 'treatment': 'stim_mid', 'acquired': False, 'stim': False, 'channels': ['miRFP', 'mCherry'], 'channel_stim': 'mCitrine', 'fov_object': <fov.FOV object at 0x00000202DDA847C0>, 'name': 'Pos000', 'channels_exposure': [200, 100], 'channel_stim_exposure': 100.0, 'fname': '000_00000', 'offset_x': 0.0, 'offset_y': 10.0, 'radius': 10.0, 'img_type': <ImgType.IMG_RAW: 1>, 'last_channel': True, 'stim_mask': array([[255, 255, 255, ..., 255, 255, 255],\n",
      "       [255, 255, 255, ..., 255, 255, 255],\n",
      "       [255, 255, 255, ..., 255, 255, 255],\n",
      "       ...,\n",
      "       [255, 255, 255, ..., 255, 255, 255],\n",
      "       [255, 255, 255, ..., 255, 255, 255],\n",
      "       [255, 255, 255, ..., 255, 255, 255]], dtype=uint8), 'channel': 'mCherry'}\u001b[0m\n",
      "\u001b[38;20m2023-10-24 15:01:52,570 - pymmcore-plus - INFO - (_runner.py:184) channel=Channel(config='miRFP') exposure=200.0 min_start_time=0.0 x_pos=799.4 y_pos=2486.7 metadata={'fov': 1, 'timestep': 0, 'time': 0, 'time_experiment': nan, 'treatment': 'stim_top', 'acquired': False, 'stim': False, 'channels': ['miRFP', 'mCherry'], 'channel_stim': 'mCitrine', 'fov_object': <fov.FOV object at 0x00000202BA15A100>, 'name': 'Pos001', 'channels_exposure': [200, 100], 'channel_stim_exposure': 100.0, 'fname': '001_00000', 'offset_x': 0.0, 'offset_y': 10.0, 'radius': 10.0, 'img_type': <ImgType.IMG_RAW: 1>, 'last_channel': False, 'stim_mask': array([[255, 255, 255, ..., 255, 255, 255],\n",
      "       [255, 255, 255, ..., 255, 255, 255],\n",
      "       [255, 255, 255, ..., 255, 255, 255],\n",
      "       ...,\n",
      "       [255, 255, 255, ..., 255, 255, 255],\n",
      "       [255, 255, 255, ..., 255, 255, 255],\n",
      "       [255, 255, 255, ..., 255, 255, 255]], dtype=uint8), 'channel': 'miRFP'}\u001b[0m\n",
      "\u001b[38;20m2023-10-24 15:01:53,536 - pymmcore-plus - INFO - (_runner.py:184) channel=Channel(config='mCherry') exposure=100.0 min_start_time=0.0 x_pos=799.4 y_pos=2486.7 metadata={'fov': 1, 'timestep': 0, 'time': 0, 'time_experiment': nan, 'treatment': 'stim_top', 'acquired': False, 'stim': False, 'channels': ['miRFP', 'mCherry'], 'channel_stim': 'mCitrine', 'fov_object': <fov.FOV object at 0x00000202BA15A100>, 'name': 'Pos001', 'channels_exposure': [200, 100], 'channel_stim_exposure': 100.0, 'fname': '001_00000', 'offset_x': 0.0, 'offset_y': 10.0, 'radius': 10.0, 'img_type': <ImgType.IMG_RAW: 1>, 'last_channel': True, 'stim_mask': array([[255, 255, 255, ..., 255, 255, 255],\n",
      "       [255, 255, 255, ..., 255, 255, 255],\n",
      "       [255, 255, 255, ..., 255, 255, 255],\n",
      "       ...,\n",
      "       [255, 255, 255, ..., 255, 255, 255],\n",
      "       [255, 255, 255, ..., 255, 255, 255],\n",
      "       [255, 255, 255, ..., 255, 255, 255]], dtype=uint8), 'channel': 'mCherry'}\u001b[0m\n"
     ]
    },
    {
     "ename": "Empty",
     "evalue": "",
     "output_type": "error",
     "traceback": [
      "\u001b[1;31m---------------------------------------------------------------------------\u001b[0m",
      "\u001b[1;31mEmpty\u001b[0m                                     Traceback (most recent call last)",
      "\u001b[1;32mc:\\Users\\micromanager\\Documents\\lhinder\\code\\rtm-pymmcore\\rtm.ipynb Cell 14\u001b[0m line \u001b[0;36m1\n\u001b[0;32m      <a href='vscode-notebook-cell:/c%3A/Users/micromanager/Documents/lhinder/code/rtm-pymmcore/rtm.ipynb#X24sZmlsZQ%3D%3D?line=8'>9</a>\u001b[0m controller \u001b[39m=\u001b[39m Controller(analyzer, mmc , queue, dmd)\n\u001b[0;32m     <a href='vscode-notebook-cell:/c%3A/Users/micromanager/Documents/lhinder/code/rtm-pymmcore/rtm.ipynb#X24sZmlsZQ%3D%3D?line=10'>11</a>\u001b[0m \u001b[39m# Start the acquisitiondd\u001b[39;00m\n\u001b[1;32m---> <a href='vscode-notebook-cell:/c%3A/Users/micromanager/Documents/lhinder/code/rtm-pymmcore/rtm.ipynb#X24sZmlsZQ%3D%3D?line=11'>12</a>\u001b[0m controller\u001b[39m.\u001b[39;49mrun(df_acquire\u001b[39m=\u001b[39;49mdf_acquire)\n",
      "File \u001b[1;32mc:\\Users\\micromanager\\Documents\\lhinder\\code\\rtm-pymmcore\\controller.py:100\u001b[0m, in \u001b[0;36mController.run\u001b[1;34m(self, df_acquire)\u001b[0m\n\u001b[0;32m     97\u001b[0m channel_stim_exposure \u001b[39m=\u001b[39m row[\u001b[39m'\u001b[39m\u001b[39mchannel_stim_exposure\u001b[39m\u001b[39m'\u001b[39m]\n\u001b[0;32m     99\u001b[0m \u001b[39mif\u001b[39;00m timestep \u001b[39m>\u001b[39m \u001b[39m0\u001b[39m:\n\u001b[1;32m--> 100\u001b[0m     fov\u001b[39m.\u001b[39mtracks \u001b[39m=\u001b[39m fov\u001b[39m.\u001b[39;49mtracks_queue\u001b[39m.\u001b[39;49mget(timeout\u001b[39m=\u001b[39;49m\u001b[39m10\u001b[39;49m) \u001b[39m#wait max 10s for tracks\u001b[39;00m\n\u001b[0;32m    102\u001b[0m metadata_dict \u001b[39m=\u001b[39m \u001b[39mdict\u001b[39m(row)\n\u001b[0;32m    103\u001b[0m metadata_dict[\u001b[39m'\u001b[39m\u001b[39mimg_type\u001b[39m\u001b[39m'\u001b[39m]\u001b[39m=\u001b[39m ImgType\u001b[39m.\u001b[39mIMG_RAW\n",
      "File \u001b[1;32mc:\\Users\\micromanager\\anaconda3\\envs\\rtm-pymmcore-lhinder\\lib\\queue.py:179\u001b[0m, in \u001b[0;36mQueue.get\u001b[1;34m(self, block, timeout)\u001b[0m\n\u001b[0;32m    177\u001b[0m         remaining \u001b[39m=\u001b[39m endtime \u001b[39m-\u001b[39m time()\n\u001b[0;32m    178\u001b[0m         \u001b[39mif\u001b[39;00m remaining \u001b[39m<\u001b[39m\u001b[39m=\u001b[39m \u001b[39m0.0\u001b[39m:\n\u001b[1;32m--> 179\u001b[0m             \u001b[39mraise\u001b[39;00m Empty\n\u001b[0;32m    180\u001b[0m         \u001b[39mself\u001b[39m\u001b[39m.\u001b[39mnot_empty\u001b[39m.\u001b[39mwait(remaining)\n\u001b[0;32m    181\u001b[0m item \u001b[39m=\u001b[39m \u001b[39mself\u001b[39m\u001b[39m.\u001b[39m_get()\n",
      "\u001b[1;31mEmpty\u001b[0m: "
     ]
    }
   ],
   "source": [
    "mmc.mda.set_engine(MDAEngine_DMD(dmd))\n",
    "\n",
    "# Apply the custom acquisition engine\n",
    "# Register the custom engine with the runner\n",
    "#core.mda.set_engine(MDAEngine_DMD(core))\n",
    "\n",
    "# create the Queue that will hold the MDAEvents\n",
    "queue = Queue()\n",
    "controller = Controller(analyzer, mmc , queue, dmd)\n",
    "\n",
    "# Start the acquisitiondd\n",
    "controller.run(df_acquire=df_acquire)"
   ]
  },
  {
   "cell_type": "code",
   "execution_count": 22,
   "metadata": {},
   "outputs": [],
   "source": [
    "mmc.mda.cancel()"
   ]
  },
  {
   "cell_type": "code",
   "execution_count": null,
   "metadata": {},
   "outputs": [],
   "source": [
    "mmc.unloadAllDevices()"
   ]
  },
  {
   "cell_type": "code",
   "execution_count": null,
   "metadata": {},
   "outputs": [
    {
     "name": "stdout",
     "output_type": "stream",
     "text": [
      "Found model '2D_versatile_fluo' for 'StarDist2D'.\n",
      "Loading network weights from 'weights_best.h5'.\n",
      "Loading thresholds from 'thresholds.json'.\n",
      "Using default values: prob_thresh=0.479071, nms_thresh=0.3.\n"
     ]
    }
   ],
   "source": [
    "from add_frame import ImageProcessingPipeline\n",
    "from segmentation import SegmentatorStardist\n",
    "from pymmcore_plus.mda import MDAEngine\n",
    "from stimulation import StimExtraParameters, StimCircle\n",
    "from controller import Analyzer\n",
    "\n",
    "segmentator = SegmentatorStardist('2D_versatile_fluo')\n",
    "stimulator = StimExtraParameters()\n",
    "stimulator = StimCircle()\n",
    "tracker = TrackerTrackpy()\n",
    "pipeline = ImageProcessingPipeline(segmentator,stimulator,tracker)\n",
    "analyzer = Analyzer(pipeline)\n"
   ]
  },
  {
   "cell_type": "code",
   "execution_count": null,
   "metadata": {},
   "outputs": [],
   "source": [
    "import napari\n",
    "import zarr\n",
    "import glob\n",
    "from skimage.io import imread\n",
    "from glob import glob\n",
    "import dask.array as da\n",
    "from dask import delayed\n",
    "import os\n",
    "import numpy as np\n",
    "from magicgui import magicgui\n",
    "import pandas as pd\n",
    "\n",
    "\n",
    "\n",
    "def tiff_to_lazy_da(path,folder,fov, zfill = 2):\n",
    "    '''Read in all tiff files form the same FOV in a folder and load them lazily with dask. '''\n",
    "    file_name_pattern = str(fov).zfill(zfill)+\"_*.tiff\"\n",
    "    filenames = sorted(glob(path + os.path.join(str(folder),file_name_pattern)))\n",
    "    # read the first file to get the shape and dtype\n",
    "    # ASSUMES THAT ALL FILES SHARE THE SAME SHAPE and TYPE\n",
    "\n",
    "    sample = imread(filenames[0])\n",
    "    \n",
    "    lazy_imread = delayed(imread)  # lazy reader\n",
    "    lazy_arrays = [lazy_imread(fn) for fn in filenames]\n",
    "    dask_arrays = [\n",
    "        da.from_delayed(delayed_reader, shape=sample.shape, dtype=sample.dtype)\n",
    "        for delayed_reader in lazy_arrays\n",
    "    ]\n",
    "    # Stack into one large dask.array\n",
    "    stack = da.stack(dask_arrays, axis=0)\n",
    "    stack = np.squeeze(stack)\n",
    "    return stack\n",
    "\n",
    "project_path = '/Volumes/imaging.data/lhinder/data/rtm_mm_data/exp_352/'\n",
    "stack_raw = tiff_to_lazy_da(project_path, \"raw\", 0,zfill=2)\n",
    "stack_stim = tiff_to_lazy_da(project_path, \"stim\", 0,zfill=2)"
   ]
  },
  {
   "cell_type": "code",
   "execution_count": null,
   "metadata": {},
   "outputs": [
    {
     "ename": "NameError",
     "evalue": "name 'stack_raw' is not defined",
     "output_type": "error",
     "traceback": [
      "\u001b[1;31m---------------------------------------------------------------------------\u001b[0m",
      "\u001b[1;31mNameError\u001b[0m                                 Traceback (most recent call last)",
      "\u001b[1;32mc:\\Users\\micromanager\\Documents\\lhinder\\code\\rtm-pymmcore\\rtm.ipynb Cell 14\u001b[0m line \u001b[0;36m1\n\u001b[0;32m     <a href='vscode-notebook-cell:/c%3A/Users/micromanager/Documents/lhinder/code/rtm-pymmcore/rtm.ipynb#X22sZmlsZQ%3D%3D?line=10'>11</a>\u001b[0m \u001b[39m### RUN THIS IF YOU WANT TO TEST THE ACQUISITION WITHOUT ACTUAL HARDWARE\u001b[39;00m\n\u001b[0;32m     <a href='vscode-notebook-cell:/c%3A/Users/micromanager/Documents/lhinder/code/rtm-pymmcore/rtm.ipynb#X22sZmlsZQ%3D%3D?line=11'>12</a>\u001b[0m analyzer \u001b[39m=\u001b[39m Analyzer(pipeline)\n\u001b[1;32m---> <a href='vscode-notebook-cell:/c%3A/Users/micromanager/Documents/lhinder/code/rtm-pymmcore/rtm.ipynb#X22sZmlsZQ%3D%3D?line=12'>13</a>\u001b[0m controller \u001b[39m=\u001b[39m Controller(analyzer, mmc, queue,stack_raw\u001b[39m=\u001b[39mstack_raw,stack_stim\u001b[39m=\u001b[39mstack_stim)\n\u001b[0;32m     <a href='vscode-notebook-cell:/c%3A/Users/micromanager/Documents/lhinder/code/rtm-pymmcore/rtm.ipynb#X22sZmlsZQ%3D%3D?line=15'>16</a>\u001b[0m \u001b[39m# Start the acquisition\u001b[39;00m\n\u001b[0;32m     <a href='vscode-notebook-cell:/c%3A/Users/micromanager/Documents/lhinder/code/rtm-pymmcore/rtm.ipynb#X22sZmlsZQ%3D%3D?line=16'>17</a>\u001b[0m controller\u001b[39m.\u001b[39mrun(df_acquire)\n",
      "\u001b[1;31mNameError\u001b[0m: name 'stack_raw' is not defined"
     ]
    }
   ],
   "source": [
    "\n",
    "from controller_simulation import Controller, Analyzer\n",
    "from dmd import DMD\n",
    "\n",
    "dmd = DMD(mmc, test_mode = True)\n",
    "mda_engine_dmd = MDAEngine_DMD(dmd)\n",
    "\n",
    "mmc.mda.set_engine(mda_engine_dmd)\n",
    "\n",
    "queue = Queue()\n",
    "\n",
    "### RUN THIS IF YOU WANT TO TEST THE ACQUISITION WITHOUT ACTUAL HARDWARE\n",
    "analyzer = Analyzer(pipeline)\n",
    "controller = Controller(analyzer, mmc, queue,stack_raw=stack_raw,stack_stim=stack_stim)\n",
    "\n",
    "\n",
    "# Start the acquisition\n",
    "controller.run(df_acquire)\n"
   ]
  },
  {
   "cell_type": "code",
   "execution_count": null,
   "metadata": {},
   "outputs": [
    {
     "data": {
      "text/plain": [
       "('Core',)"
      ]
     },
     "execution_count": 24,
     "metadata": {},
     "output_type": "execute_result"
    }
   ],
   "source": [
    "mmc.getLoadedDevices()"
   ]
  },
  {
   "cell_type": "code",
   "execution_count": null,
   "metadata": {},
   "outputs": [
    {
     "name": "stdout",
     "output_type": "stream",
     "text": [
      "(1000000,)\n"
     ]
    }
   ],
   "source": [
    "def normalize_mi_ma(x, mi, ma, clip=False, eps=1e-20, dtype=np.float32):\n",
    "    if dtype is not None:\n",
    "        x   = x.astype(dtype,copy=False)\n",
    "        mi  = dtype(mi) if np.isscalar(mi) else mi.astype(dtype,copy=False)\n",
    "        ma  = dtype(ma) if np.isscalar(ma) else ma.astype(dtype,copy=False)\n",
    "        eps = dtype(eps)\n",
    "\n",
    "def normalize(x, pmin=3, pmax=99.8, axis=None, clip=False, eps=1e-20, dtype=np.float32):\n",
    "    \"\"\"Percentile-based image normalization.\"\"\"\n",
    "\n",
    "    mi = np.percentile(x.flatten(),pmin)\n",
    "    ma = np.percentile(x.flatten(),pmax)\n",
    "    return normalize_mi_ma(x, mi, ma, clip=clip, eps=eps, dtype=dtype)\n",
    "\n",
    "normalize(np.ones((1000,1000)))\n",
    "print(np.ones((1000,1000)).flatten().shape)"
   ]
  }
 ],
 "metadata": {
  "kernelspec": {
   "display_name": "micro-llm",
   "language": "python",
   "name": "python3"
  },
  "language_info": {
   "codemirror_mode": {
    "name": "ipython",
    "version": 3
   },
   "file_extension": ".py",
   "mimetype": "text/x-python",
   "name": "python",
   "nbconvert_exporter": "python",
   "pygments_lexer": "ipython3",
   "version": "3.9.17"
  },
  "orig_nbformat": 4
 },
 "nbformat": 4,
 "nbformat_minor": 2
}

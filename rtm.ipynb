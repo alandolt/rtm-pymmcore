{
 "cells": [
  {
   "cell_type": "code",
   "execution_count": 1,
   "metadata": {},
   "outputs": [
    {
     "name": "stderr",
     "output_type": "stream",
     "text": [
      "Validation errors in config file(s).\n",
      "The following fields have been reset to the default value:\n",
      "\n",
      "schema_version\n",
      "  value is not a valid tuple (type=type_error.tuple)\n",
      "\n"
     ]
    }
   ],
   "source": [
    "from pymmcore_plus import CMMCorePlus\n",
    "from fov import FOV\n",
    "import useq\n",
    "from useq import MDAEvent\n",
    "from queue import Queue\n",
    "import numpy as np\n",
    "from matplotlib import pyplot as plt\n",
    "from napari import Viewer\n",
    "import numpy as np\n",
    "from queue import Queue\n",
    "from pymmcore_plus import CMMCorePlus\n",
    "from useq import MDAEvent\n",
    "import useq\n",
    "from useq._channel import Channel\n",
    "from MDAEngine_DMD import MDAEngine_DMD\n",
    "from controller import Controller, Analyzer\n",
    "import pandas as pd\n",
    "import random\n",
    "from utils import ImgType, MetadataDict\n",
    "from stimulation import StimExtraParameters\n",
    "from dmd import DMD\n",
    "from hardware import load_config\n",
    "import os\n",
    "import tempfile\n",
    "from datetime import datetime\n",
    "import pymmcore\n",
    "import napari\n",
    "from tracking import TrackerTrackpy\n",
    "from utils import create_folders"
   ]
  },
  {
   "cell_type": "code",
   "execution_count": 2,
   "metadata": {},
   "outputs": [],
   "source": [
    "#TODO check if dmd calibration works\n",
    "#TODO create calibration widget for napari?\n",
    "#TODO adjust napari live view, check how they change brightness in napari-umanager (or directly use napari-umanager?)\n",
    "#TODO add napari widget to store/display positions\n",
    "#TODO add to known issues: conda install -c conda-forge llvm-openmp if there are issues with threads on M1\n",
    "#TODO preview the segmentation and mask creation\n",
    "#TODO store tracks, masks, and segmentation\n",
    "#TODO binning for camera\n"
   ]
  },
  {
   "attachments": {},
   "cell_type": "markdown",
   "metadata": {},
   "source": [
    "## Load uManager and set default devices"
   ]
  },
  {
   "cell_type": "code",
   "execution_count": 3,
   "metadata": {},
   "outputs": [],
   "source": [
    "mmc = CMMCorePlus() #Create a new instance of the CMMCorePlus class\n",
    "#mmc.loadSystemConfiguration('local/local_config.cfg')  #Load the system configuration file (standard uManager .cfg file)\n",
    "#load default config:\n",
    "mmc.loadSystemConfiguration()\n",
    "#load_config(mmc) #Set the default device from the YAML file (specific to this package)"
   ]
  },
  {
   "cell_type": "code",
   "execution_count": 4,
   "metadata": {},
   "outputs": [
    {
     "name": "stdout",
     "output_type": "stream",
     "text": [
      "Logfile: /Volumes/imaging.data/lhinder/data/rtm_mm_data/exp_355/log.txt\n"
     ]
    }
   ],
   "source": [
    "# Create a new log file in the temp directory\n",
    "log_dir = tempfile.gettempdir()\n",
    "#log_dir = 'Z:\\\\lhinder\\\\data\\\\rtm_mm_data\\\\exp_355\\\\'\n",
    "log_dir = '/Volumes/imaging.data/lhinder/data/rtm_mm_data/exp_355/'\n",
    "log_file = os.path.join(log_dir, \"log.txt\")\n",
    "\n",
    "# Get the current date and time\n",
    "current_time = datetime.now().strftime(\"%Y-%m-%d %H:%M:%S\")\n",
    "\n",
    "print(f\"Logfile: {log_file}\")\n",
    "\n",
    "# Open the log file in append mode and write the date and time\n",
    "with open(log_file, \"w\") as file: #w: write (delete old content), a: append\n",
    "    file.write(f\"{current_time}\\n\")\n",
    "    file.write(f\"User ID: {mmc.getUserId()}\")\n",
    "\n",
    "    file.write(f\"PyMMCore version {pymmcore.__version__}\\n\")\n",
    "    file.write(f\"{mmc.getAPIVersionInfo()}\")\n",
    "    file.write(f\"{mmc.getVersionInfo()}\\n\\n\")\n",
    "\n",
    "    file.write(\"Loaded devices:\\n\")\n",
    "    file.write(\"\\n\".join(str(device) for device in mmc.getLoadedDevices()))\n",
    "    file.write(\"\\n\\n\")"
   ]
  },
  {
   "cell_type": "code",
   "execution_count": 5,
   "metadata": {},
   "outputs": [],
   "source": [
    "#viewer = napari.Viewer()\n",
    "#image_layer = viewer.add_image(np.ones((1,1)))"
   ]
  },
  {
   "cell_type": "code",
   "execution_count": 6,
   "metadata": {},
   "outputs": [
    {
     "name": "stdout",
     "output_type": "stream",
     "text": [
      "Directory /Volumes/imaging.data/lhinder/data/rtm_mm_data/exp_355/stim already exists\n",
      "Directory /Volumes/imaging.data/lhinder/data/rtm_mm_data/exp_355/raw already exists\n",
      "Directory /Volumes/imaging.data/lhinder/data/rtm_mm_data/exp_355/labels already exists\n",
      "Directory /Volumes/imaging.data/lhinder/data/rtm_mm_data/exp_355/stim_mask already exists\n",
      "Directory /Volumes/imaging.data/lhinder/data/rtm_mm_data/exp_355/tracks already exists\n",
      "Directory /Volumes/imaging.data/lhinder/data/rtm_mm_data/exp_355/labels_rings already exists\n",
      "Directory /Volumes/imaging.data/lhinder/data/rtm_mm_data/exp_355/particles already exists\n"
     ]
    }
   ],
   "source": [
    "path = log_dir\n",
    "create_folders(path,['stim','raw','labels','stim_mask','tracks','labels_rings','particles'])"
   ]
  },
  {
   "attachments": {},
   "cell_type": "markdown",
   "metadata": {},
   "source": [
    "## Create list with FOVs"
   ]
  },
  {
   "cell_type": "code",
   "execution_count": 7,
   "metadata": {},
   "outputs": [],
   "source": [
    "# get current position\n",
    "pos = (mmc.getXPosition(),mmc.getYPosition())\n",
    "pos_list = [pos,pos]"
   ]
  },
  {
   "cell_type": "code",
   "execution_count": 8,
   "metadata": {},
   "outputs": [
    {
     "name": "stdout",
     "output_type": "stream",
     "text": [
      "-0.0\n",
      "-0.0\n"
     ]
    }
   ],
   "source": [
    "print(mmc.getXPosition())\n",
    "print(mmc.getYPosition())"
   ]
  },
  {
   "attachments": {},
   "cell_type": "markdown",
   "metadata": {},
   "source": [
    "## Create a DF with all planned acquisitions and stimulations"
   ]
  },
  {
   "cell_type": "code",
   "execution_count": 9,
   "metadata": {},
   "outputs": [
    {
     "data": {
      "text/plain": [
       "range(0, 2)"
      ]
     },
     "execution_count": 9,
     "metadata": {},
     "output_type": "execute_result"
    }
   ],
   "source": [
    "range(2)"
   ]
  },
  {
   "cell_type": "code",
   "execution_count": 10,
   "metadata": {},
   "outputs": [
    {
     "name": "stdout",
     "output_type": "stream",
     "text": [
      "(-0.0, -0.0)\n",
      "(-0.0, -0.0)\n"
     ]
    },
    {
     "data": {
      "text/html": [
       "<div>\n",
       "<style scoped>\n",
       "    .dataframe tbody tr th:only-of-type {\n",
       "        vertical-align: middle;\n",
       "    }\n",
       "\n",
       "    .dataframe tbody tr th {\n",
       "        vertical-align: top;\n",
       "    }\n",
       "\n",
       "    .dataframe thead th {\n",
       "        text-align: right;\n",
       "    }\n",
       "</style>\n",
       "<table border=\"1\" class=\"dataframe\">\n",
       "  <thead>\n",
       "    <tr style=\"text-align: right;\">\n",
       "      <th></th>\n",
       "      <th>fov</th>\n",
       "      <th>timestep</th>\n",
       "      <th>time</th>\n",
       "      <th>time_experiment</th>\n",
       "      <th>treatment</th>\n",
       "      <th>acquired</th>\n",
       "      <th>stim</th>\n",
       "      <th>channels</th>\n",
       "      <th>channel_stim</th>\n",
       "      <th>fov_object</th>\n",
       "      <th>channels_exposure</th>\n",
       "      <th>channel_stim_exposure</th>\n",
       "      <th>fname</th>\n",
       "      <th>offset_x</th>\n",
       "      <th>offset_y</th>\n",
       "      <th>radius</th>\n",
       "    </tr>\n",
       "  </thead>\n",
       "  <tbody>\n",
       "    <tr>\n",
       "      <th>0</th>\n",
       "      <td>0</td>\n",
       "      <td>0</td>\n",
       "      <td>0</td>\n",
       "      <td>NaN</td>\n",
       "      <td>stim_top</td>\n",
       "      <td>False</td>\n",
       "      <td>False</td>\n",
       "      <td>[miRFP, mCherry]</td>\n",
       "      <td>mCitrine</td>\n",
       "      <td>&lt;fov.FOV object at 0x2a103d160&gt;</td>\n",
       "      <td>[200, 100]</td>\n",
       "      <td>100.0</td>\n",
       "      <td>000_00000</td>\n",
       "      <td>0.0</td>\n",
       "      <td>10.0</td>\n",
       "      <td>10.0</td>\n",
       "    </tr>\n",
       "    <tr>\n",
       "      <th>0</th>\n",
       "      <td>1</td>\n",
       "      <td>0</td>\n",
       "      <td>0</td>\n",
       "      <td>NaN</td>\n",
       "      <td>stim_mid</td>\n",
       "      <td>False</td>\n",
       "      <td>False</td>\n",
       "      <td>[miRFP, mCherry]</td>\n",
       "      <td>mCitrine</td>\n",
       "      <td>&lt;fov.FOV object at 0x2a103e100&gt;</td>\n",
       "      <td>[200, 100]</td>\n",
       "      <td>100.0</td>\n",
       "      <td>001_00000</td>\n",
       "      <td>0.0</td>\n",
       "      <td>10.0</td>\n",
       "      <td>10.0</td>\n",
       "    </tr>\n",
       "    <tr>\n",
       "      <th>0</th>\n",
       "      <td>0</td>\n",
       "      <td>1</td>\n",
       "      <td>5</td>\n",
       "      <td>NaN</td>\n",
       "      <td>stim_top</td>\n",
       "      <td>False</td>\n",
       "      <td>False</td>\n",
       "      <td>[miRFP, mCherry]</td>\n",
       "      <td>mCitrine</td>\n",
       "      <td>&lt;fov.FOV object at 0x2a103d160&gt;</td>\n",
       "      <td>[200, 100]</td>\n",
       "      <td>100.0</td>\n",
       "      <td>000_00001</td>\n",
       "      <td>0.0</td>\n",
       "      <td>10.0</td>\n",
       "      <td>10.0</td>\n",
       "    </tr>\n",
       "    <tr>\n",
       "      <th>0</th>\n",
       "      <td>1</td>\n",
       "      <td>1</td>\n",
       "      <td>5</td>\n",
       "      <td>NaN</td>\n",
       "      <td>stim_mid</td>\n",
       "      <td>False</td>\n",
       "      <td>False</td>\n",
       "      <td>[miRFP, mCherry]</td>\n",
       "      <td>mCitrine</td>\n",
       "      <td>&lt;fov.FOV object at 0x2a103e100&gt;</td>\n",
       "      <td>[200, 100]</td>\n",
       "      <td>100.0</td>\n",
       "      <td>001_00001</td>\n",
       "      <td>0.0</td>\n",
       "      <td>10.0</td>\n",
       "      <td>10.0</td>\n",
       "    </tr>\n",
       "    <tr>\n",
       "      <th>0</th>\n",
       "      <td>0</td>\n",
       "      <td>2</td>\n",
       "      <td>10</td>\n",
       "      <td>NaN</td>\n",
       "      <td>stim_top</td>\n",
       "      <td>False</td>\n",
       "      <td>True</td>\n",
       "      <td>[miRFP, mCherry]</td>\n",
       "      <td>mCitrine</td>\n",
       "      <td>&lt;fov.FOV object at 0x2a103d160&gt;</td>\n",
       "      <td>[200, 100]</td>\n",
       "      <td>100.0</td>\n",
       "      <td>000_00002</td>\n",
       "      <td>0.0</td>\n",
       "      <td>10.0</td>\n",
       "      <td>10.0</td>\n",
       "    </tr>\n",
       "    <tr>\n",
       "      <th>0</th>\n",
       "      <td>1</td>\n",
       "      <td>2</td>\n",
       "      <td>10</td>\n",
       "      <td>NaN</td>\n",
       "      <td>stim_mid</td>\n",
       "      <td>False</td>\n",
       "      <td>True</td>\n",
       "      <td>[miRFP, mCherry]</td>\n",
       "      <td>mCitrine</td>\n",
       "      <td>&lt;fov.FOV object at 0x2a103e100&gt;</td>\n",
       "      <td>[200, 100]</td>\n",
       "      <td>100.0</td>\n",
       "      <td>001_00002</td>\n",
       "      <td>0.0</td>\n",
       "      <td>10.0</td>\n",
       "      <td>10.0</td>\n",
       "    </tr>\n",
       "    <tr>\n",
       "      <th>0</th>\n",
       "      <td>0</td>\n",
       "      <td>3</td>\n",
       "      <td>15</td>\n",
       "      <td>NaN</td>\n",
       "      <td>stim_top</td>\n",
       "      <td>False</td>\n",
       "      <td>True</td>\n",
       "      <td>[miRFP, mCherry]</td>\n",
       "      <td>mCitrine</td>\n",
       "      <td>&lt;fov.FOV object at 0x2a103d160&gt;</td>\n",
       "      <td>[200, 100]</td>\n",
       "      <td>100.0</td>\n",
       "      <td>000_00003</td>\n",
       "      <td>0.0</td>\n",
       "      <td>10.0</td>\n",
       "      <td>10.0</td>\n",
       "    </tr>\n",
       "    <tr>\n",
       "      <th>0</th>\n",
       "      <td>1</td>\n",
       "      <td>3</td>\n",
       "      <td>15</td>\n",
       "      <td>NaN</td>\n",
       "      <td>stim_mid</td>\n",
       "      <td>False</td>\n",
       "      <td>True</td>\n",
       "      <td>[miRFP, mCherry]</td>\n",
       "      <td>mCitrine</td>\n",
       "      <td>&lt;fov.FOV object at 0x2a103e100&gt;</td>\n",
       "      <td>[200, 100]</td>\n",
       "      <td>100.0</td>\n",
       "      <td>001_00003</td>\n",
       "      <td>0.0</td>\n",
       "      <td>10.0</td>\n",
       "      <td>10.0</td>\n",
       "    </tr>\n",
       "    <tr>\n",
       "      <th>0</th>\n",
       "      <td>0</td>\n",
       "      <td>4</td>\n",
       "      <td>20</td>\n",
       "      <td>NaN</td>\n",
       "      <td>stim_top</td>\n",
       "      <td>False</td>\n",
       "      <td>False</td>\n",
       "      <td>[miRFP, mCherry]</td>\n",
       "      <td>mCitrine</td>\n",
       "      <td>&lt;fov.FOV object at 0x2a103d160&gt;</td>\n",
       "      <td>[200, 100]</td>\n",
       "      <td>100.0</td>\n",
       "      <td>000_00004</td>\n",
       "      <td>0.0</td>\n",
       "      <td>10.0</td>\n",
       "      <td>10.0</td>\n",
       "    </tr>\n",
       "    <tr>\n",
       "      <th>0</th>\n",
       "      <td>1</td>\n",
       "      <td>4</td>\n",
       "      <td>20</td>\n",
       "      <td>NaN</td>\n",
       "      <td>stim_mid</td>\n",
       "      <td>False</td>\n",
       "      <td>False</td>\n",
       "      <td>[miRFP, mCherry]</td>\n",
       "      <td>mCitrine</td>\n",
       "      <td>&lt;fov.FOV object at 0x2a103e100&gt;</td>\n",
       "      <td>[200, 100]</td>\n",
       "      <td>100.0</td>\n",
       "      <td>001_00004</td>\n",
       "      <td>0.0</td>\n",
       "      <td>10.0</td>\n",
       "      <td>10.0</td>\n",
       "    </tr>\n",
       "  </tbody>\n",
       "</table>\n",
       "</div>"
      ],
      "text/plain": [
       "  fov timestep time time_experiment treatment acquired   stim   \n",
       "0   0        0    0             NaN  stim_top    False  False  \\\n",
       "0   1        0    0             NaN  stim_mid    False  False   \n",
       "0   0        1    5             NaN  stim_top    False  False   \n",
       "0   1        1    5             NaN  stim_mid    False  False   \n",
       "0   0        2   10             NaN  stim_top    False   True   \n",
       "0   1        2   10             NaN  stim_mid    False   True   \n",
       "0   0        3   15             NaN  stim_top    False   True   \n",
       "0   1        3   15             NaN  stim_mid    False   True   \n",
       "0   0        4   20             NaN  stim_top    False  False   \n",
       "0   1        4   20             NaN  stim_mid    False  False   \n",
       "\n",
       "           channels channel_stim                       fov_object   \n",
       "0  [miRFP, mCherry]     mCitrine  <fov.FOV object at 0x2a103d160>  \\\n",
       "0  [miRFP, mCherry]     mCitrine  <fov.FOV object at 0x2a103e100>   \n",
       "0  [miRFP, mCherry]     mCitrine  <fov.FOV object at 0x2a103d160>   \n",
       "0  [miRFP, mCherry]     mCitrine  <fov.FOV object at 0x2a103e100>   \n",
       "0  [miRFP, mCherry]     mCitrine  <fov.FOV object at 0x2a103d160>   \n",
       "0  [miRFP, mCherry]     mCitrine  <fov.FOV object at 0x2a103e100>   \n",
       "0  [miRFP, mCherry]     mCitrine  <fov.FOV object at 0x2a103d160>   \n",
       "0  [miRFP, mCherry]     mCitrine  <fov.FOV object at 0x2a103e100>   \n",
       "0  [miRFP, mCherry]     mCitrine  <fov.FOV object at 0x2a103d160>   \n",
       "0  [miRFP, mCherry]     mCitrine  <fov.FOV object at 0x2a103e100>   \n",
       "\n",
       "  channels_exposure  channel_stim_exposure      fname  offset_x  offset_y   \n",
       "0        [200, 100]                  100.0  000_00000       0.0      10.0  \\\n",
       "0        [200, 100]                  100.0  001_00000       0.0      10.0   \n",
       "0        [200, 100]                  100.0  000_00001       0.0      10.0   \n",
       "0        [200, 100]                  100.0  001_00001       0.0      10.0   \n",
       "0        [200, 100]                  100.0  000_00002       0.0      10.0   \n",
       "0        [200, 100]                  100.0  001_00002       0.0      10.0   \n",
       "0        [200, 100]                  100.0  000_00003       0.0      10.0   \n",
       "0        [200, 100]                  100.0  001_00003       0.0      10.0   \n",
       "0        [200, 100]                  100.0  000_00004       0.0      10.0   \n",
       "0        [200, 100]                  100.0  001_00004       0.0      10.0   \n",
       "\n",
       "   radius  \n",
       "0    10.0  \n",
       "0    10.0  \n",
       "0    10.0  \n",
       "0    10.0  \n",
       "0    10.0  \n",
       "0    10.0  \n",
       "0    10.0  \n",
       "0    10.0  \n",
       "0    10.0  \n",
       "0    10.0  "
      ]
     },
     "execution_count": 10,
     "metadata": {},
     "output_type": "execute_result"
    }
   ],
   "source": [
    "df_acquire = pd.DataFrame(columns=['fov', 'timestep', 'time','time_experiment', 'treatment', 'acquired','stim', 'channels', 'channel_stim'])\n",
    "\n",
    "time_between_frames = 5 #time in seconds between frames\n",
    "stim_timesteps = [2,3]  # list of timesteps\n",
    "#stim_timesteps= []  # list of timesteps\n",
    "\n",
    "timesteps = range(5)  # 0-20\n",
    "treatments = ['stim_top', 'stim_mid',]  # list of treatments\n",
    "channels = [['miRFP','mCherry']]\n",
    "channels_exposure = [[200,100]]\n",
    "channel_stim = ['mCitrine']\n",
    "channel_stim_exposure = [100]\n",
    "\n",
    "fovs:list[FOV] = []\n",
    "\n",
    "for i,pos in enumerate(pos_list):\n",
    "    print(pos)\n",
    "    fov = FOV(pos=pos,\n",
    "              index =i,\n",
    "              path=path,\n",
    "              metadata={},\n",
    "              properties={'stim_property': 'top'},\n",
    "              )\n",
    "    fovs.append(fov)\n",
    "\n",
    "# Loop over the FOVs and randomly assign one of the treatments to it\n",
    "treatments_shuffled = treatments.copy()\n",
    "random.shuffle(treatments_shuffled)\n",
    "for fov in fovs:\n",
    "    treatment = treatments_shuffled[fov.index % len(treatments_shuffled)]\n",
    "    for timestep in timesteps:\n",
    "        new_row = { 'fov_object': fov,\n",
    "                    'fov':fov.index,\n",
    "                    'timestep': timestep,\n",
    "                    'time': timestep*time_between_frames,\n",
    "                    'treatment': treatment,\n",
    "                    'acquired': False,\n",
    "                    'stim': timestep in stim_timesteps,\n",
    "                    'channels': channels,\n",
    "                    'channels_exposure':channels_exposure,\n",
    "                    'channel_stim' : channel_stim,\n",
    "                    'channel_stim_exposure' : channel_stim_exposure,\n",
    "                    'fname' : f'{str(fov.index).zfill(3)}_{str(timestep).zfill(5)}',\n",
    "                    \n",
    "                    ## Custom parameters for the stimulation\n",
    "                    'offset_x': 0, #offset for the stimulation mask\n",
    "                    'offset_y': 10, #offset for the stimulation mask\n",
    "                    'radius': 10, #radius of the stimulation mask\n",
    "                    }\n",
    "        df_acquire = pd.concat([df_acquire, pd.DataFrame(new_row, index=[0])])\n",
    "\n",
    "\n",
    "df_acquire = df_acquire.sort_values(by=['timestep', 'fov'])\n",
    "\n",
    "df_acquire"
   ]
  },
  {
   "attachments": {},
   "cell_type": "markdown",
   "metadata": {},
   "source": [
    "## Take an image at the current location"
   ]
  },
  {
   "cell_type": "code",
   "execution_count": 11,
   "metadata": {},
   "outputs": [
    {
     "name": "stdout",
     "output_type": "stream",
     "text": [
      "Channels to acquire: ['miRFP', 'mCherry']\n"
     ]
    }
   ],
   "source": [
    "print(f'Channels to acquire: {channels[0]}')"
   ]
  },
  {
   "attachments": {},
   "cell_type": "markdown",
   "metadata": {},
   "source": [
    "## Run on virtual system "
   ]
  },
  {
   "cell_type": "code",
   "execution_count": 12,
   "metadata": {},
   "outputs": [
    {
     "name": "stdout",
     "output_type": "stream",
     "text": [
      "Found model '2D_versatile_fluo' for 'StarDist2D'.\n"
     ]
    },
    {
     "name": "stdout",
     "output_type": "stream",
     "text": [
      "Loading network weights from 'weights_best.h5'.\n",
      "Loading thresholds from 'thresholds.json'.\n",
      "Using default values: prob_thresh=0.479071, nms_thresh=0.3.\n"
     ]
    }
   ],
   "source": [
    "from add_frame import ImageProcessingPipeline\n",
    "from segmentation import SegmentatorStardist\n",
    "from pymmcore_plus.mda import MDAEngine\n",
    "from stimulation import StimExtraParameters, StimCircle\n",
    "from controller import Analyzer\n",
    "\n",
    "segmentator = SegmentatorStardist('2D_versatile_fluo')\n",
    "stimulator = StimExtraParameters()\n",
    "stimulator = StimCircle()\n",
    "tracker = TrackerTrackpy()\n",
    "pipeline = ImageProcessingPipeline(segmentator,stimulator,tracker)\n",
    "analyzer = Analyzer(pipeline)\n"
   ]
  },
  {
   "attachments": {},
   "cell_type": "markdown",
   "metadata": {},
   "source": [
    "### TEST MODE"
   ]
  },
  {
   "cell_type": "code",
   "execution_count": 13,
   "metadata": {},
   "outputs": [],
   "source": [
    "import napari\n",
    "import zarr\n",
    "import glob\n",
    "from skimage.io import imread\n",
    "from glob import glob\n",
    "import dask.array as da\n",
    "from dask import delayed\n",
    "import os\n",
    "import numpy as np\n",
    "from magicgui import magicgui\n",
    "import pandas as pd\n",
    "\n",
    "\n",
    "\n",
    "def tiff_to_lazy_da(path,folder,fov, zfill = 2):\n",
    "    '''Read in all tiff files form the same FOV in a folder and load them lazily with dask. '''\n",
    "    file_name_pattern = str(fov).zfill(zfill)+\"_*.tiff\"\n",
    "    filenames = sorted(glob(path + os.path.join(str(folder),file_name_pattern)))\n",
    "    # read the first file to get the shape and dtype\n",
    "    # ASSUMES THAT ALL FILES SHARE THE SAME SHAPE and TYPE\n",
    "\n",
    "    sample = imread(filenames[0])\n",
    "    \n",
    "    lazy_imread = delayed(imread)  # lazy reader\n",
    "    lazy_arrays = [lazy_imread(fn) for fn in filenames]\n",
    "    dask_arrays = [\n",
    "        da.from_delayed(delayed_reader, shape=sample.shape, dtype=sample.dtype)\n",
    "        for delayed_reader in lazy_arrays\n",
    "    ]\n",
    "    # Stack into one large dask.array\n",
    "    stack = da.stack(dask_arrays, axis=0)\n",
    "    stack = np.squeeze(stack)\n",
    "    return stack\n",
    "\n",
    "project_path = '/Volumes/imaging.data/lhinder/data/rtm_mm_data/exp_352/'\n",
    "stack_raw = tiff_to_lazy_da(project_path, \"raw\", 0,zfill=2)\n",
    "stack_stim = tiff_to_lazy_da(project_path, \"stim\", 0,zfill=2)"
   ]
  },
  {
   "cell_type": "code",
   "execution_count": 14,
   "metadata": {},
   "outputs": [
    {
     "name": "stdout",
     "output_type": "stream",
     "text": [
      "Simulating acquisition with stack of shape:  (150, 2, 1024, 1024)\n",
      "Max frame in df:  4\n"
     ]
    }
   ],
   "source": [
    "\n",
    "from controller_simulation import Controller, Analyzer\n",
    "\n",
    "dmd = DMD(mmc, test_mode = True)\n",
    "mda_engine_dmd = MDAEngine_DMD(dmd)\n",
    "\n",
    "mmc.mda.set_engine(mda_engine_dmd)\n",
    "\n",
    "queue = Queue()\n",
    "\n",
    "### RUN THIS IF YOU WANT TO TEST THE ACQUISITION WITHOUT ACTUAL HARDWARE\n",
    "analyzer = Analyzer(pipeline)\n",
    "controller = Controller(analyzer, mmc, queue,stack_raw=stack_raw,stack_stim=stack_stim)\n",
    "\n",
    "\n",
    "# Start the acquisition\n",
    "controller.run(df_acquire)\n"
   ]
  },
  {
   "cell_type": "code",
   "execution_count": 32,
   "metadata": {},
   "outputs": [],
   "source": [
    "\n",
    "tracks = pd.read_pickle('/Volumes/imaging.data/lhinder/data/rtm_mm_data/exp_355/tracks/000_00004.pkl')"
   ]
  },
  {
   "cell_type": "code",
   "execution_count": 36,
   "metadata": {},
   "outputs": [
    {
     "data": {
      "text/plain": [
       "0     0\n",
       "1     0\n",
       "2     0\n",
       "3     0\n",
       "4     0\n",
       "     ..\n",
       "70    4\n",
       "71    4\n",
       "72    4\n",
       "73    4\n",
       "74    4\n",
       "Name: frame, Length: 75, dtype: int64"
      ]
     },
     "execution_count": 36,
     "metadata": {},
     "output_type": "execute_result"
    }
   ],
   "source": [
    "tracks['frame']"
   ]
  },
  {
   "cell_type": "code",
   "execution_count": null,
   "metadata": {},
   "outputs": [],
   "source": []
  },
  {
   "attachments": {},
   "cell_type": "markdown",
   "metadata": {},
   "source": [
    "### REAL MODE"
   ]
  },
  {
   "cell_type": "code",
   "execution_count": 34,
   "metadata": {},
   "outputs": [
    {
     "ename": "RuntimeError",
     "evalue": "No device with label \"\"",
     "output_type": "error",
     "traceback": [
      "\u001b[0;31m---------------------------------------------------------------------------\u001b[0m",
      "\u001b[0;31mRuntimeError\u001b[0m                              Traceback (most recent call last)",
      "Cell \u001b[0;32mIn[34], line 10\u001b[0m\n\u001b[1;32m      1\u001b[0m \u001b[39m#mmc = CMMCorePlus()\u001b[39;00m\n\u001b[1;32m      2\u001b[0m \n\u001b[1;32m      3\u001b[0m \u001b[39m#mmc.loadSystemConfiguration()\u001b[39;00m\n\u001b[0;32m   (...)\u001b[0m\n\u001b[1;32m      8\u001b[0m \n\u001b[1;32m      9\u001b[0m \u001b[39m# Register the custom engine with the runner\u001b[39;00m\n\u001b[0;32m---> 10\u001b[0m dmd \u001b[39m=\u001b[39m DMD(mmc, test_mode \u001b[39m=\u001b[39;49m \u001b[39mFalse\u001b[39;49;00m)\n\u001b[1;32m     11\u001b[0m mda_engine_dmd \u001b[39m=\u001b[39m MDAEngine_DMD(dmd)\n\u001b[1;32m     13\u001b[0m mmc\u001b[39m.\u001b[39mmda\u001b[39m.\u001b[39mset_engine(mda_engine_dmd)\n",
      "File \u001b[0;32m~/sync/phd/code/rtm/rtm-pymmcore/dmd.py:30\u001b[0m, in \u001b[0;36mDMD.__init__\u001b[0;34m(self, mmc, test_mode)\u001b[0m\n\u001b[1;32m     28\u001b[0m \u001b[39mif\u001b[39;00m test_mode \u001b[39m==\u001b[39m \u001b[39mFalse\u001b[39;00m:\n\u001b[1;32m     29\u001b[0m     \u001b[39mself\u001b[39m\u001b[39m.\u001b[39mname \u001b[39m=\u001b[39m \u001b[39mself\u001b[39m\u001b[39m.\u001b[39mmmc\u001b[39m.\u001b[39mgetSLMDevice()\n\u001b[0;32m---> 30\u001b[0m     \u001b[39mself\u001b[39m\u001b[39m.\u001b[39mheight \u001b[39m=\u001b[39m \u001b[39mself\u001b[39;49m\u001b[39m.\u001b[39;49mmmc\u001b[39m.\u001b[39;49mgetSLMHeight(\u001b[39mself\u001b[39;49m\u001b[39m.\u001b[39;49mname)\n\u001b[1;32m     31\u001b[0m     \u001b[39mself\u001b[39m\u001b[39m.\u001b[39mwidth \u001b[39m=\u001b[39m \u001b[39mself\u001b[39m\u001b[39m.\u001b[39mmmc\u001b[39m.\u001b[39mgetSLMWidth(\u001b[39mself\u001b[39m\u001b[39m.\u001b[39mname)\n\u001b[1;32m     32\u001b[0m     \u001b[39mself\u001b[39m\u001b[39m.\u001b[39mbppx \u001b[39m=\u001b[39m \u001b[39mself\u001b[39m\u001b[39m.\u001b[39mmmc\u001b[39m.\u001b[39mgetSLMBytesPerPixel(\u001b[39mself\u001b[39m\u001b[39m.\u001b[39mname)\n",
      "\u001b[0;31mRuntimeError\u001b[0m: No device with label \"\""
     ]
    }
   ],
   "source": [
    "#mmc = CMMCorePlus()\n",
    "\n",
    "#mmc.loadSystemConfiguration()\n",
    "\n",
    "#setup camera\n",
    "#mmc.initializeDevice(\"Camera\");\n",
    "#mmc.setCameraDevice(\"Camera\");\n",
    "\n",
    "# Register the custom engine with the runner\n",
    "dmd = DMD(mmc, test_mode = False)\n",
    "mda_engine_dmd = MDAEngine_DMD(dmd)\n",
    "\n",
    "mmc.mda.set_engine(mda_engine_dmd)\n",
    "\n",
    "queue = Queue()\n",
    "\n",
    "controller = Controller(analyzer, mmc, queue)\n",
    "\n",
    "# Start the acquisition\n",
    "controller.run(df_acquire)\n",
    "#controller.run_test()"
   ]
  },
  {
   "cell_type": "code",
   "execution_count": null,
   "metadata": {},
   "outputs": [
    {
     "name": "stdout",
     "output_type": "stream",
     "text": [
      "GFP\n",
      "mCherry\n",
      "mCitrine\n",
      "miRFP\n"
     ]
    }
   ],
   "source": [
    "configs = mmc.getAvailableConfigs('Channel')\n",
    "for config in configs:\n",
    "    print(config)\n"
   ]
  },
  {
   "attachments": {},
   "cell_type": "markdown",
   "metadata": {},
   "source": [
    "## Run on system with DMD"
   ]
  },
  {
   "cell_type": "code",
   "execution_count": null,
   "metadata": {},
   "outputs": [
    {
     "name": "stdout",
     "output_type": "stream",
     "text": [
      "Found model '2D_versatile_fluo' for 'StarDist2D'.\n",
      "Loading network weights from 'weights_best.h5'.\n",
      "Loading thresholds from 'thresholds.json'.\n",
      "Using default values: prob_thresh=0.479071, nms_thresh=0.3.\n"
     ]
    },
    {
     "ename": "RuntimeError",
     "evalue": "No device with label \"\"",
     "output_type": "error",
     "traceback": [
      "\u001b[0;31m---------------------------------------------------------------------------\u001b[0m",
      "\u001b[0;31mRuntimeError\u001b[0m                              Traceback (most recent call last)",
      "Cell \u001b[0;32mIn[5], line 12\u001b[0m\n\u001b[1;32m      7\u001b[0m analyzer \u001b[39m=\u001b[39m Analyzer(pipeline)\n\u001b[1;32m     11\u001b[0m mmc \u001b[39m=\u001b[39m CMMCorePlus()\n\u001b[0;32m---> 12\u001b[0m dmd \u001b[39m=\u001b[39m DMD(mmc)\n\u001b[1;32m     14\u001b[0m mmc\u001b[39m.\u001b[39mloadSystemConfiguration()\n\u001b[1;32m     15\u001b[0m mmc\u001b[39m.\u001b[39mmda\u001b[39m.\u001b[39mset_engine(MDAEngine_DMD(mmc,dmd))\n",
      "File \u001b[0;32m~/sync/phd/code/rtm/dmd.py:25\u001b[0m, in \u001b[0;36mDMD.__init__\u001b[0;34m(self, mmc)\u001b[0m\n\u001b[1;32m     23\u001b[0m \u001b[39mself\u001b[39m\u001b[39m.\u001b[39mmmc \u001b[39m=\u001b[39m mmc\n\u001b[1;32m     24\u001b[0m \u001b[39mself\u001b[39m\u001b[39m.\u001b[39mname \u001b[39m=\u001b[39m \u001b[39mself\u001b[39m\u001b[39m.\u001b[39mmmc\u001b[39m.\u001b[39mgetSLMDevice()\n\u001b[0;32m---> 25\u001b[0m \u001b[39mself\u001b[39m\u001b[39m.\u001b[39mheight \u001b[39m=\u001b[39m \u001b[39mself\u001b[39;49m\u001b[39m.\u001b[39;49mmmc\u001b[39m.\u001b[39;49mgetSLMHeight(\u001b[39mself\u001b[39;49m\u001b[39m.\u001b[39;49mname)\n\u001b[1;32m     26\u001b[0m \u001b[39mself\u001b[39m\u001b[39m.\u001b[39mwidth \u001b[39m=\u001b[39m \u001b[39mself\u001b[39m\u001b[39m.\u001b[39mmmc\u001b[39m.\u001b[39mgetSLMWidth(\u001b[39mself\u001b[39m\u001b[39m.\u001b[39mname)\n\u001b[1;32m     27\u001b[0m \u001b[39mself\u001b[39m\u001b[39m.\u001b[39mbppx \u001b[39m=\u001b[39m \u001b[39mself\u001b[39m\u001b[39m.\u001b[39mmmc\u001b[39m.\u001b[39mgetSLMBytesPerPixel(\u001b[39mself\u001b[39m\u001b[39m.\u001b[39mname)\n",
      "\u001b[0;31mRuntimeError\u001b[0m: No device with label \"\""
     ]
    }
   ],
   "source": [
    "from add_frame import ImageProcessingPipeline\n",
    "from segmentation import SegmentatorStardist\n",
    "\n",
    "segmentator = SegmentatorStardist('2D_versatile_fluo')\n",
    "stimulator = StimExtraParameters()\n",
    "pipeline = ImageProcessingPipeline(segmentator,stimulator)\n",
    "analyzer = Analyzer(pipeline)\n",
    "\n",
    "\n",
    "\n",
    "mmc = CMMCorePlus()\n",
    "dmd = DMD(mmc)\n",
    "\n",
    "mmc.loadSystemConfiguration()\n",
    "mmc.mda.set_engine(MDAEngine_DMD(mmc,dmd))\n",
    "\n",
    "# Apply the custom acquisition engine\n",
    "# Register the custom engine with the runner\n",
    "core = CMMCorePlus.instance()\n",
    "#core.mda.set_engine(MDAEngine_DMD(core))\n",
    "\n",
    "# create the Queue that will hold the MDAEvents\n",
    "queue = Queue()\n",
    "\n",
    "\n",
    "\n",
    "controller = Controller(analyzer, mmc , queue, dmd)\n",
    "# Start the acquisition\n",
    "controller.run()"
   ]
  },
  {
   "cell_type": "code",
   "execution_count": 10,
   "metadata": {},
   "outputs": [
    {
     "name": "stdout",
     "output_type": "stream",
     "text": [
      "(1000000,)\n"
     ]
    }
   ],
   "source": [
    "def normalize_mi_ma(x, mi, ma, clip=False, eps=1e-20, dtype=np.float32):\n",
    "    if dtype is not None:\n",
    "        x   = x.astype(dtype,copy=False)\n",
    "        mi  = dtype(mi) if np.isscalar(mi) else mi.astype(dtype,copy=False)\n",
    "        ma  = dtype(ma) if np.isscalar(ma) else ma.astype(dtype,copy=False)\n",
    "        eps = dtype(eps)\n",
    "\n",
    "def normalize(x, pmin=3, pmax=99.8, axis=None, clip=False, eps=1e-20, dtype=np.float32):\n",
    "    \"\"\"Percentile-based image normalization.\"\"\"\n",
    "\n",
    "    mi = np.percentile(x.flatten(),pmin)\n",
    "    ma = np.percentile(x.flatten(),pmax)\n",
    "    return normalize_mi_ma(x, mi, ma, clip=clip, eps=eps, dtype=dtype)\n",
    "\n",
    "normalize(np.ones((1000,1000)))\n",
    "print(np.ones((1000,1000)).flatten().shape)"
   ]
  },
  {
   "cell_type": "code",
   "execution_count": 4,
   "metadata": {},
   "outputs": [
    {
     "ename": "ModuleNotFoundError",
     "evalue": "No module named 'napari_umanager'",
     "output_type": "error",
     "traceback": [
      "\u001b[0;31m---------------------------------------------------------------------------\u001b[0m",
      "\u001b[0;31mModuleNotFoundError\u001b[0m                       Traceback (most recent call last)",
      "Cell \u001b[0;32mIn[4], line 1\u001b[0m\n\u001b[0;32m----> 1\u001b[0m \u001b[39mimport\u001b[39;00m \u001b[39mnapari_umanager\u001b[39;00m\n\u001b[1;32m      2\u001b[0m \u001b[39mfrom\u001b[39;00m \u001b[39mnapari_umanager\u001b[39;00m \u001b[39mimport\u001b[39;00m napari_manager\n\u001b[1;32m      3\u001b[0m napari_manager(viewer, mmc, q)\n",
      "\u001b[0;31mModuleNotFoundError\u001b[0m: No module named 'napari_umanager'"
     ]
    }
   ],
   "source": [
    "#import napari_umanager\n",
    "#from napari_umanager import napari_manager\n",
    "#napari_manager(viewer, mmc, q)"
   ]
  }
 ],
 "metadata": {
  "kernelspec": {
   "display_name": "micro-llm",
   "language": "python",
   "name": "python3"
  },
  "language_info": {
   "codemirror_mode": {
    "name": "ipython",
    "version": 3
   },
   "file_extension": ".py",
   "mimetype": "text/x-python",
   "name": "python",
   "nbconvert_exporter": "python",
   "pygments_lexer": "ipython3",
   "version": "3.9.0"
  },
  "orig_nbformat": 4
 },
 "nbformat": 4,
 "nbformat_minor": 2
}

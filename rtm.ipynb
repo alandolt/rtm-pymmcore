{
 "cells": [
  {
   "cell_type": "code",
   "execution_count": 1,
   "metadata": {},
   "outputs": [],
   "source": [
    "from pymmcore_plus import CMMCorePlus\n",
    "from fov import FOV\n",
    "import useq\n",
    "from useq import MDAEvent\n",
    "from queue import Queue\n",
    "import numpy as np\n",
    "from matplotlib import pyplot as plt\n",
    "from napari import Viewer\n",
    "import numpy as np\n",
    "from queue import Queue\n",
    "from pymmcore_plus import CMMCorePlus\n",
    "from useq import MDAEvent\n",
    "import useq\n",
    "from useq._channel import Channel\n",
    "from MDAEngine_DMD import MDAEngine_DMD\n",
    "from controller import Controller, Analyzer\n",
    "import pandas as pd\n",
    "import random\n",
    "from utils import ImgType, MetadataDict\n",
    "from stimulation import StimExtraParameters\n",
    "from dmd import DMD\n",
    "from hardware import load_config\n",
    "import os\n",
    "import tempfile\n",
    "from datetime import datetime\n",
    "import pymmcore\n",
    "import napari"
   ]
  },
  {
   "cell_type": "code",
   "execution_count": 2,
   "metadata": {},
   "outputs": [],
   "source": [
    "#TODO check if dmd calibration works\n",
    "#TODO adjust napari live view, check how they change brightness in napari-umanager (or directly use napari-umanager?)\n",
    "#TODO add napari widget to store/display positions\n",
    "#TODO generate necessary folders beforehand\n",
    "#TODO add to known issues: conda install -c conda-forge llvm-openmp if there are issues with threads on M1"
   ]
  },
  {
   "attachments": {},
   "cell_type": "markdown",
   "metadata": {},
   "source": [
    "## Load uManager and set default devices"
   ]
  },
  {
   "cell_type": "code",
   "execution_count": 2,
   "metadata": {},
   "outputs": [],
   "source": [
    "mmc = CMMCorePlus() #Create a new instance of the CMMCorePlus class\n",
    "mmc.loadSystemConfiguration('local/local_config.cfg')  #Load the system configuration file (standard uManager .cfg file)\n",
    "load_config(mmc) #Set the default device from the YAML file (specific to this package)"
   ]
  },
  {
   "cell_type": "code",
   "execution_count": 3,
   "metadata": {},
   "outputs": [
    {
     "name": "stdout",
     "output_type": "stream",
     "text": [
      "Logfile: C:\\Users\\MICRO-~1\\AppData\\Local\\Temp\\log.txt\n"
     ]
    }
   ],
   "source": [
    "# Create a new log file in the temp directory\n",
    "log_dir = tempfile.gettempdir()\n",
    "log_file = os.path.join(log_dir, \"log.txt\")\n",
    "\n",
    "# Get the current date and time\n",
    "current_time = datetime.now().strftime(\"%Y-%m-%d %H:%M:%S\")\n",
    "\n",
    "\n",
    "print(f\"Logfile: {log_file}\")\n",
    "\n",
    "# Open the log file in append mode and write the date and time\n",
    "with open(log_file, \"w\") as file: #w: write (delete old content), a: append\n",
    "    file.write(f\"{current_time}\\n\")\n",
    "    file.write(f\"User ID: {mmc.getUserId()}\")\n",
    "\n",
    "    file.write(f\"PyMMCore version {pymmcore.__version__}\\n\")\n",
    "    file.write(f\"{mmc.getAPIVersionInfo()}\")\n",
    "    file.write(f\"{mmc.getVersionInfo()}\\n\\n\")\n",
    "\n",
    "    file.write(\"Loaded devices:\\n\")\n",
    "    file.write(\"\\n\".join(str(device) for device in mmc.getLoadedDevices()))\n",
    "    file.write(\"\\n\\n\")"
   ]
  },
  {
   "cell_type": "code",
   "execution_count": 5,
   "metadata": {},
   "outputs": [
    {
     "name": "stderr",
     "output_type": "stream",
     "text": [
      "WARNING: QMainWindowLayout::count: ?\n"
     ]
    }
   ],
   "source": [
    "viewer = napari.Viewer()\n",
    "image_layer = viewer.add_image(np.ones((1,1)))"
   ]
  },
  {
   "cell_type": "code",
   "execution_count": 6,
   "metadata": {},
   "outputs": [
    {
     "ename": "SyntaxError",
     "evalue": "invalid syntax (60449377.py, line 1)",
     "output_type": "error",
     "traceback": [
      "\u001b[1;31m---------------------------------------------------------------------------\u001b[0m",
      "\u001b[1;31mSyntaxError\u001b[0m                               Traceback (most recent call last)",
      "File \u001b[1;32mc:\\Users\\micro-manager\\anaconda3\\envs\\rtm-pymmcore-env\\lib\\site-packages\\IPython\\core\\compilerop.py:86\u001b[0m, in \u001b[0;36mCachingCompiler.ast_parse\u001b[1;34m(self, source, filename, symbol)\u001b[0m\n\u001b[0;32m     81\u001b[0m \u001b[39mdef\u001b[39;00m \u001b[39mast_parse\u001b[39m(\u001b[39mself\u001b[39m, source, filename\u001b[39m=\u001b[39m\u001b[39m'\u001b[39m\u001b[39m<unknown>\u001b[39m\u001b[39m'\u001b[39m, symbol\u001b[39m=\u001b[39m\u001b[39m'\u001b[39m\u001b[39mexec\u001b[39m\u001b[39m'\u001b[39m):\n\u001b[0;32m     82\u001b[0m \u001b[39m    \u001b[39m\u001b[39m\"\"\"Parse code to an AST with the current compiler flags active.\u001b[39;00m\n\u001b[0;32m     83\u001b[0m \n\u001b[0;32m     84\u001b[0m \u001b[39m    Arguments are exactly the same as ast.parse (in the standard library),\u001b[39;00m\n\u001b[0;32m     85\u001b[0m \u001b[39m    and are passed to the built-in compile function.\"\"\"\u001b[39;00m\n\u001b[1;32m---> 86\u001b[0m     \u001b[39mreturn\u001b[39;00m \u001b[39mcompile\u001b[39;49m(source, filename, symbol, \u001b[39mself\u001b[39;49m\u001b[39m.\u001b[39;49mflags \u001b[39m|\u001b[39;49m PyCF_ONLY_AST, \u001b[39m1\u001b[39;49m)\n",
      "\u001b[1;31mSyntaxError\u001b[0m: invalid syntax (60449377.py, line 1)"
     ]
    }
   ],
   "source": [
    "viewer."
   ]
  },
  {
   "cell_type": "code",
   "execution_count": 12,
   "metadata": {},
   "outputs": [
    {
     "name": "stdout",
     "output_type": "stream",
     "text": [
      "Requirement already satisfied: napari[all] in c:\\users\\micro-manager\\anaconda3\\envs\\rtm-pymmcore-env\\lib\\site-packages (0.4.18)\n",
      "Requirement already satisfied: appdirs>=1.4.4 in c:\\users\\micro-manager\\anaconda3\\envs\\rtm-pymmcore-env\\lib\\site-packages (from napari[all]) (1.4.4)\n",
      "Requirement already satisfied: app-model<0.3.0,>=0.1.0 in c:\\users\\micro-manager\\anaconda3\\envs\\rtm-pymmcore-env\\lib\\site-packages (from napari[all]) (0.2.1)\n",
      "Requirement already satisfied: cachey>=0.2.1 in c:\\users\\micro-manager\\anaconda3\\envs\\rtm-pymmcore-env\\lib\\site-packages (from napari[all]) (0.2.1)\n",
      "Requirement already satisfied: certifi>=2018.1.18 in c:\\users\\micro-manager\\anaconda3\\envs\\rtm-pymmcore-env\\lib\\site-packages (from napari[all]) (2023.7.22)\n",
      "Requirement already satisfied: dask[array]!=2.28.0,>=2.15.0 in c:\\users\\micro-manager\\anaconda3\\envs\\rtm-pymmcore-env\\lib\\site-packages (from napari[all]) (2023.8.1)\n",
      "Requirement already satisfied: imageio!=2.22.1,>=2.20 in c:\\users\\micro-manager\\anaconda3\\envs\\rtm-pymmcore-env\\lib\\site-packages (from napari[all]) (2.31.2)\n",
      "Requirement already satisfied: jsonschema>=3.2.0 in c:\\users\\micro-manager\\anaconda3\\envs\\rtm-pymmcore-env\\lib\\site-packages (from napari[all]) (4.19.0)\n",
      "Requirement already satisfied: lazy-loader>=0.2 in c:\\users\\micro-manager\\anaconda3\\envs\\rtm-pymmcore-env\\lib\\site-packages (from napari[all]) (0.3)\n",
      "Requirement already satisfied: magicgui>=0.3.6 in c:\\users\\micro-manager\\anaconda3\\envs\\rtm-pymmcore-env\\lib\\site-packages (from napari[all]) (0.7.3)\n",
      "Requirement already satisfied: napari-console>=0.0.6 in c:\\users\\micro-manager\\anaconda3\\envs\\rtm-pymmcore-env\\lib\\site-packages (from napari[all]) (0.0.8)\n",
      "Requirement already satisfied: napari-plugin-engine>=0.1.9 in c:\\users\\micro-manager\\anaconda3\\envs\\rtm-pymmcore-env\\lib\\site-packages (from napari[all]) (0.2.0)\n",
      "Requirement already satisfied: napari-svg>=0.1.7 in c:\\users\\micro-manager\\anaconda3\\envs\\rtm-pymmcore-env\\lib\\site-packages (from napari[all]) (0.1.10)\n",
      "Requirement already satisfied: npe2>=0.5.2 in c:\\users\\micro-manager\\anaconda3\\envs\\rtm-pymmcore-env\\lib\\site-packages (from napari[all]) (0.7.2)\n",
      "Requirement already satisfied: numpy>=1.21 in c:\\users\\micro-manager\\anaconda3\\envs\\rtm-pymmcore-env\\lib\\site-packages (from napari[all]) (1.24.0)\n",
      "Requirement already satisfied: numpydoc>=0.9.2 in c:\\users\\micro-manager\\anaconda3\\envs\\rtm-pymmcore-env\\lib\\site-packages (from napari[all]) (1.5.0)\n",
      "Requirement already satisfied: Pillow!=7.1.0,!=7.1.1 in c:\\users\\micro-manager\\anaconda3\\envs\\rtm-pymmcore-env\\lib\\site-packages (from napari[all]) (10.0.0)\n",
      "Requirement already satisfied: pint>=0.17 in c:\\users\\micro-manager\\anaconda3\\envs\\rtm-pymmcore-env\\lib\\site-packages (from napari[all]) (0.22)\n",
      "Requirement already satisfied: psutil>=5.0 in c:\\users\\micro-manager\\anaconda3\\envs\\rtm-pymmcore-env\\lib\\site-packages (from napari[all]) (5.9.5)\n",
      "Requirement already satisfied: psygnal>=0.3.4 in c:\\users\\micro-manager\\anaconda3\\envs\\rtm-pymmcore-env\\lib\\site-packages (from napari[all]) (0.9.3)\n",
      "Requirement already satisfied: pydantic<2,>=1.9.0 in c:\\users\\micro-manager\\anaconda3\\envs\\rtm-pymmcore-env\\lib\\site-packages (from napari[all]) (1.10.12)\n",
      "Requirement already satisfied: pygments>=2.6.0 in c:\\users\\micro-manager\\anaconda3\\envs\\rtm-pymmcore-env\\lib\\site-packages (from napari[all]) (2.16.1)\n",
      "Requirement already satisfied: PyOpenGL>=3.1.0 in c:\\users\\micro-manager\\anaconda3\\envs\\rtm-pymmcore-env\\lib\\site-packages (from napari[all]) (3.1.7)\n",
      "Requirement already satisfied: PyYAML>=5.1 in c:\\users\\micro-manager\\anaconda3\\envs\\rtm-pymmcore-env\\lib\\site-packages (from napari[all]) (6.0.1)\n",
      "Requirement already satisfied: qtpy>=1.10.0 in c:\\users\\micro-manager\\anaconda3\\envs\\rtm-pymmcore-env\\lib\\site-packages (from napari[all]) (2.4.0)\n",
      "Requirement already satisfied: scikit-image[data]>=0.19.1 in c:\\users\\micro-manager\\anaconda3\\envs\\rtm-pymmcore-env\\lib\\site-packages (from napari[all]) (0.21.0)\n",
      "Requirement already satisfied: sphinx<5,>=4.3.0 in c:\\users\\micro-manager\\anaconda3\\envs\\rtm-pymmcore-env\\lib\\site-packages (from napari[all]) (4.5.0)\n",
      "Requirement already satisfied: superqt>=0.4.1 in c:\\users\\micro-manager\\anaconda3\\envs\\rtm-pymmcore-env\\lib\\site-packages (from napari[all]) (0.5.3)\n",
      "Requirement already satisfied: tifffile>=2020.2.16 in c:\\users\\micro-manager\\anaconda3\\envs\\rtm-pymmcore-env\\lib\\site-packages (from napari[all]) (2023.8.30)\n",
      "Requirement already satisfied: toolz>=0.10.0 in c:\\users\\micro-manager\\anaconda3\\envs\\rtm-pymmcore-env\\lib\\site-packages (from napari[all]) (0.12.0)\n",
      "Requirement already satisfied: tqdm>=4.56.0 in c:\\users\\micro-manager\\anaconda3\\envs\\rtm-pymmcore-env\\lib\\site-packages (from napari[all]) (4.66.1)\n",
      "Requirement already satisfied: typing-extensions>=4.2.0 in c:\\users\\micro-manager\\anaconda3\\envs\\rtm-pymmcore-env\\lib\\site-packages (from napari[all]) (4.5.0)\n",
      "Requirement already satisfied: vispy<0.13,>=0.12.1 in c:\\users\\micro-manager\\anaconda3\\envs\\rtm-pymmcore-env\\lib\\site-packages (from napari[all]) (0.12.2)\n",
      "Requirement already satisfied: wrapt>=1.11.1 in c:\\users\\micro-manager\\anaconda3\\envs\\rtm-pymmcore-env\\lib\\site-packages (from napari[all]) (1.15.0)\n",
      "Requirement already satisfied: pandas>=1.3.0 in c:\\users\\micro-manager\\anaconda3\\envs\\rtm-pymmcore-env\\lib\\site-packages (from napari[all]) (2.1.0)\n",
      "Requirement already satisfied: scipy>=1.5.4 in c:\\users\\micro-manager\\anaconda3\\envs\\rtm-pymmcore-env\\lib\\site-packages (from napari[all]) (1.11.2)\n",
      "Collecting PyQt5!=5.15.0,>=5.12.3 (from napari[all])\n",
      "  Using cached PyQt5-5.15.9-cp37-abi3-win_amd64.whl (6.8 MB)\n",
      "Collecting napari-plugin-manager<0.2.0,>=0.1.0a1 (from napari[all])\n",
      "  Obtaining dependency information for napari-plugin-manager<0.2.0,>=0.1.0a1 from https://files.pythonhosted.org/packages/6a/93/6aba9e00eadd511dc063735c79f5ec806303dcdfbc8249ed5e7695f6a6f0/napari_plugin_manager-0.1.0a2-py3-none-any.whl.metadata\n",
      "  Downloading napari_plugin_manager-0.1.0a2-py3-none-any.whl.metadata (4.9 kB)\n",
      "Requirement already satisfied: in-n-out>=0.1.5 in c:\\users\\micro-manager\\anaconda3\\envs\\rtm-pymmcore-env\\lib\\site-packages (from app-model<0.3.0,>=0.1.0->napari[all]) (0.1.8)\n",
      "Requirement already satisfied: heapdict in c:\\users\\micro-manager\\anaconda3\\envs\\rtm-pymmcore-env\\lib\\site-packages (from cachey>=0.2.1->napari[all]) (1.0.1)\n",
      "Requirement already satisfied: click>=8.0 in c:\\users\\micro-manager\\anaconda3\\envs\\rtm-pymmcore-env\\lib\\site-packages (from dask[array]!=2.28.0,>=2.15.0->napari[all]) (8.1.7)\n",
      "Requirement already satisfied: cloudpickle>=1.5.0 in c:\\users\\micro-manager\\anaconda3\\envs\\rtm-pymmcore-env\\lib\\site-packages (from dask[array]!=2.28.0,>=2.15.0->napari[all]) (2.2.1)\n",
      "Requirement already satisfied: fsspec>=2021.09.0 in c:\\users\\micro-manager\\anaconda3\\envs\\rtm-pymmcore-env\\lib\\site-packages (from dask[array]!=2.28.0,>=2.15.0->napari[all]) (2023.6.0)\n",
      "Requirement already satisfied: packaging>=20.0 in c:\\users\\micro-manager\\anaconda3\\envs\\rtm-pymmcore-env\\lib\\site-packages (from dask[array]!=2.28.0,>=2.15.0->napari[all]) (23.1)\n",
      "Requirement already satisfied: partd>=1.2.0 in c:\\users\\micro-manager\\anaconda3\\envs\\rtm-pymmcore-env\\lib\\site-packages (from dask[array]!=2.28.0,>=2.15.0->napari[all]) (1.4.0)\n",
      "Requirement already satisfied: importlib-metadata>=4.13.0 in c:\\users\\micro-manager\\anaconda3\\envs\\rtm-pymmcore-env\\lib\\site-packages (from dask[array]!=2.28.0,>=2.15.0->napari[all]) (6.8.0)\n",
      "Requirement already satisfied: attrs>=22.2.0 in c:\\users\\micro-manager\\anaconda3\\envs\\rtm-pymmcore-env\\lib\\site-packages (from jsonschema>=3.2.0->napari[all]) (23.1.0)\n",
      "Requirement already satisfied: jsonschema-specifications>=2023.03.6 in c:\\users\\micro-manager\\anaconda3\\envs\\rtm-pymmcore-env\\lib\\site-packages (from jsonschema>=3.2.0->napari[all]) (2023.7.1)\n",
      "Requirement already satisfied: referencing>=0.28.4 in c:\\users\\micro-manager\\anaconda3\\envs\\rtm-pymmcore-env\\lib\\site-packages (from jsonschema>=3.2.0->napari[all]) (0.30.2)\n",
      "Requirement already satisfied: rpds-py>=0.7.1 in c:\\users\\micro-manager\\anaconda3\\envs\\rtm-pymmcore-env\\lib\\site-packages (from jsonschema>=3.2.0->napari[all]) (0.10.0)\n",
      "Requirement already satisfied: docstring-parser>=0.7 in c:\\users\\micro-manager\\anaconda3\\envs\\rtm-pymmcore-env\\lib\\site-packages (from magicgui>=0.3.6->napari[all]) (0.15)\n",
      "Requirement already satisfied: ipykernel>=5.2.0 in c:\\users\\micro-manager\\anaconda3\\envs\\rtm-pymmcore-env\\lib\\site-packages (from napari-console>=0.0.6->napari[all]) (6.25.1)\n",
      "Requirement already satisfied: IPython>=7.7.0 in c:\\users\\micro-manager\\anaconda3\\envs\\rtm-pymmcore-env\\lib\\site-packages (from napari-console>=0.0.6->napari[all]) (8.14.0)\n",
      "Requirement already satisfied: qtconsole!=4.7.6,!=5.4.2,>=4.5.1 in c:\\users\\micro-manager\\anaconda3\\envs\\rtm-pymmcore-env\\lib\\site-packages (from napari-console>=0.0.6->napari[all]) (5.4.3)\n",
      "Requirement already satisfied: pip in c:\\users\\micro-manager\\anaconda3\\envs\\rtm-pymmcore-env\\lib\\site-packages (from napari-plugin-manager<0.2.0,>=0.1.0a1->napari[all]) (23.2.1)\n",
      "Requirement already satisfied: build in c:\\users\\micro-manager\\anaconda3\\envs\\rtm-pymmcore-env\\lib\\site-packages (from npe2>=0.5.2->napari[all]) (0.10.0)\n",
      "Requirement already satisfied: rich in c:\\users\\micro-manager\\anaconda3\\envs\\rtm-pymmcore-env\\lib\\site-packages (from npe2>=0.5.2->napari[all]) (13.5.2)\n",
      "Requirement already satisfied: tomli-w in c:\\users\\micro-manager\\anaconda3\\envs\\rtm-pymmcore-env\\lib\\site-packages (from npe2>=0.5.2->napari[all]) (1.0.0)\n",
      "Requirement already satisfied: tomli in c:\\users\\micro-manager\\anaconda3\\envs\\rtm-pymmcore-env\\lib\\site-packages (from npe2>=0.5.2->napari[all]) (2.0.1)\n",
      "Requirement already satisfied: typer in c:\\users\\micro-manager\\anaconda3\\envs\\rtm-pymmcore-env\\lib\\site-packages (from npe2>=0.5.2->napari[all]) (0.9.0)\n",
      "Requirement already satisfied: Jinja2>=2.10 in c:\\users\\micro-manager\\anaconda3\\envs\\rtm-pymmcore-env\\lib\\site-packages (from numpydoc>=0.9.2->napari[all]) (3.1.2)\n",
      "Requirement already satisfied: python-dateutil>=2.8.2 in c:\\users\\micro-manager\\anaconda3\\envs\\rtm-pymmcore-env\\lib\\site-packages (from pandas>=1.3.0->napari[all]) (2.8.2)\n",
      "Requirement already satisfied: pytz>=2020.1 in c:\\users\\micro-manager\\anaconda3\\envs\\rtm-pymmcore-env\\lib\\site-packages (from pandas>=1.3.0->napari[all]) (2023.3)\n",
      "Requirement already satisfied: tzdata>=2022.1 in c:\\users\\micro-manager\\anaconda3\\envs\\rtm-pymmcore-env\\lib\\site-packages (from pandas>=1.3.0->napari[all]) (2023.3)\n",
      "Requirement already satisfied: mypy-extensions in c:\\users\\micro-manager\\anaconda3\\envs\\rtm-pymmcore-env\\lib\\site-packages (from psygnal>=0.3.4->napari[all]) (1.0.0)\n",
      "Collecting PyQt5-sip<13,>=12.11 (from PyQt5!=5.15.0,>=5.12.3->napari[all])\n",
      "  Obtaining dependency information for PyQt5-sip<13,>=12.11 from https://files.pythonhosted.org/packages/77/04/8513bcf02a02f40575d9639bb09c38ed6a366ac46c4dfd92edde1b922e76/PyQt5_sip-12.12.2-cp39-cp39-win_amd64.whl.metadata\n",
      "  Downloading PyQt5_sip-12.12.2-cp39-cp39-win_amd64.whl.metadata (524 bytes)\n",
      "Collecting PyQt5-Qt5>=5.15.2 (from PyQt5!=5.15.0,>=5.12.3->napari[all])\n",
      "  Using cached PyQt5_Qt5-5.15.2-py3-none-win_amd64.whl (50.1 MB)\n",
      "Requirement already satisfied: networkx>=2.8 in c:\\users\\micro-manager\\anaconda3\\envs\\rtm-pymmcore-env\\lib\\site-packages (from scikit-image[data]>=0.19.1->napari[all]) (3.1)\n",
      "Requirement already satisfied: PyWavelets>=1.1.1 in c:\\users\\micro-manager\\anaconda3\\envs\\rtm-pymmcore-env\\lib\\site-packages (from scikit-image[data]>=0.19.1->napari[all]) (1.4.1)\n",
      "Requirement already satisfied: pooch>=1.6.0 in c:\\users\\micro-manager\\anaconda3\\envs\\rtm-pymmcore-env\\lib\\site-packages (from scikit-image[data]>=0.19.1->napari[all]) (1.7.0)\n",
      "Requirement already satisfied: sphinxcontrib-applehelp in c:\\users\\micro-manager\\anaconda3\\envs\\rtm-pymmcore-env\\lib\\site-packages (from sphinx<5,>=4.3.0->napari[all]) (1.0.4)\n",
      "Requirement already satisfied: sphinxcontrib-devhelp in c:\\users\\micro-manager\\anaconda3\\envs\\rtm-pymmcore-env\\lib\\site-packages (from sphinx<5,>=4.3.0->napari[all]) (1.0.2)\n",
      "Requirement already satisfied: sphinxcontrib-jsmath in c:\\users\\micro-manager\\anaconda3\\envs\\rtm-pymmcore-env\\lib\\site-packages (from sphinx<5,>=4.3.0->napari[all]) (1.0.1)\n",
      "Requirement already satisfied: sphinxcontrib-htmlhelp>=2.0.0 in c:\\users\\micro-manager\\anaconda3\\envs\\rtm-pymmcore-env\\lib\\site-packages (from sphinx<5,>=4.3.0->napari[all]) (2.0.1)\n",
      "Requirement already satisfied: sphinxcontrib-serializinghtml>=1.1.5 in c:\\users\\micro-manager\\anaconda3\\envs\\rtm-pymmcore-env\\lib\\site-packages (from sphinx<5,>=4.3.0->napari[all]) (1.1.5)\n",
      "Requirement already satisfied: sphinxcontrib-qthelp in c:\\users\\micro-manager\\anaconda3\\envs\\rtm-pymmcore-env\\lib\\site-packages (from sphinx<5,>=4.3.0->napari[all]) (1.0.3)\n",
      "Requirement already satisfied: docutils<0.18,>=0.14 in c:\\users\\micro-manager\\anaconda3\\envs\\rtm-pymmcore-env\\lib\\site-packages (from sphinx<5,>=4.3.0->napari[all]) (0.17.1)\n",
      "Requirement already satisfied: snowballstemmer>=1.1 in c:\\users\\micro-manager\\anaconda3\\envs\\rtm-pymmcore-env\\lib\\site-packages (from sphinx<5,>=4.3.0->napari[all]) (2.2.0)\n",
      "Requirement already satisfied: babel>=1.3 in c:\\users\\micro-manager\\anaconda3\\envs\\rtm-pymmcore-env\\lib\\site-packages (from sphinx<5,>=4.3.0->napari[all]) (2.12.1)\n",
      "Requirement already satisfied: alabaster<0.8,>=0.7 in c:\\users\\micro-manager\\anaconda3\\envs\\rtm-pymmcore-env\\lib\\site-packages (from sphinx<5,>=4.3.0->napari[all]) (0.7.13)\n",
      "Requirement already satisfied: imagesize in c:\\users\\micro-manager\\anaconda3\\envs\\rtm-pymmcore-env\\lib\\site-packages (from sphinx<5,>=4.3.0->napari[all]) (1.4.1)\n",
      "Requirement already satisfied: requests>=2.5.0 in c:\\users\\micro-manager\\anaconda3\\envs\\rtm-pymmcore-env\\lib\\site-packages (from sphinx<5,>=4.3.0->napari[all]) (2.31.0)\n",
      "Requirement already satisfied: colorama>=0.3.5 in c:\\users\\micro-manager\\anaconda3\\envs\\rtm-pymmcore-env\\lib\\site-packages (from sphinx<5,>=4.3.0->napari[all]) (0.4.6)\n",
      "Requirement already satisfied: freetype-py in c:\\users\\micro-manager\\anaconda3\\envs\\rtm-pymmcore-env\\lib\\site-packages (from vispy<0.13,>=0.12.1->napari[all]) (2.4.0)\n",
      "Requirement already satisfied: hsluv in c:\\users\\micro-manager\\anaconda3\\envs\\rtm-pymmcore-env\\lib\\site-packages (from vispy<0.13,>=0.12.1->napari[all]) (5.0.3)\n",
      "Requirement already satisfied: kiwisolver in c:\\users\\micro-manager\\anaconda3\\envs\\rtm-pymmcore-env\\lib\\site-packages (from vispy<0.13,>=0.12.1->napari[all]) (1.4.5)\n",
      "Requirement already satisfied: zipp>=0.5 in c:\\users\\micro-manager\\anaconda3\\envs\\rtm-pymmcore-env\\lib\\site-packages (from importlib-metadata>=4.13.0->dask[array]!=2.28.0,>=2.15.0->napari[all]) (3.16.2)\n",
      "Requirement already satisfied: comm>=0.1.1 in c:\\users\\micro-manager\\anaconda3\\envs\\rtm-pymmcore-env\\lib\\site-packages (from ipykernel>=5.2.0->napari-console>=0.0.6->napari[all]) (0.1.4)\n",
      "Requirement already satisfied: debugpy>=1.6.5 in c:\\users\\micro-manager\\anaconda3\\envs\\rtm-pymmcore-env\\lib\\site-packages (from ipykernel>=5.2.0->napari-console>=0.0.6->napari[all]) (1.6.7.post1)\n",
      "Requirement already satisfied: jupyter-client>=6.1.12 in c:\\users\\micro-manager\\anaconda3\\envs\\rtm-pymmcore-env\\lib\\site-packages (from ipykernel>=5.2.0->napari-console>=0.0.6->napari[all]) (8.3.1)\n",
      "Requirement already satisfied: jupyter-core!=5.0.*,>=4.12 in c:\\users\\micro-manager\\anaconda3\\envs\\rtm-pymmcore-env\\lib\\site-packages (from ipykernel>=5.2.0->napari-console>=0.0.6->napari[all]) (5.3.1)\n",
      "Requirement already satisfied: matplotlib-inline>=0.1 in c:\\users\\micro-manager\\anaconda3\\envs\\rtm-pymmcore-env\\lib\\site-packages (from ipykernel>=5.2.0->napari-console>=0.0.6->napari[all]) (0.1.6)\n",
      "Requirement already satisfied: nest-asyncio in c:\\users\\micro-manager\\anaconda3\\envs\\rtm-pymmcore-env\\lib\\site-packages (from ipykernel>=5.2.0->napari-console>=0.0.6->napari[all]) (1.5.7)\n",
      "Requirement already satisfied: pyzmq>=20 in c:\\users\\micro-manager\\anaconda3\\envs\\rtm-pymmcore-env\\lib\\site-packages (from ipykernel>=5.2.0->napari-console>=0.0.6->napari[all]) (25.1.1)\n",
      "Requirement already satisfied: tornado>=6.1 in c:\\users\\micro-manager\\anaconda3\\envs\\rtm-pymmcore-env\\lib\\site-packages (from ipykernel>=5.2.0->napari-console>=0.0.6->napari[all]) (6.3.3)\n",
      "Requirement already satisfied: traitlets>=5.4.0 in c:\\users\\micro-manager\\anaconda3\\envs\\rtm-pymmcore-env\\lib\\site-packages (from ipykernel>=5.2.0->napari-console>=0.0.6->napari[all]) (5.9.0)\n",
      "Requirement already satisfied: backcall in c:\\users\\micro-manager\\anaconda3\\envs\\rtm-pymmcore-env\\lib\\site-packages (from IPython>=7.7.0->napari-console>=0.0.6->napari[all]) (0.2.0)\n",
      "Requirement already satisfied: decorator in c:\\users\\micro-manager\\anaconda3\\envs\\rtm-pymmcore-env\\lib\\site-packages (from IPython>=7.7.0->napari-console>=0.0.6->napari[all]) (5.1.1)\n",
      "Requirement already satisfied: jedi>=0.16 in c:\\users\\micro-manager\\anaconda3\\envs\\rtm-pymmcore-env\\lib\\site-packages (from IPython>=7.7.0->napari-console>=0.0.6->napari[all]) (0.19.0)\n",
      "Requirement already satisfied: pickleshare in c:\\users\\micro-manager\\anaconda3\\envs\\rtm-pymmcore-env\\lib\\site-packages (from IPython>=7.7.0->napari-console>=0.0.6->napari[all]) (0.7.5)\n",
      "Requirement already satisfied: prompt-toolkit!=3.0.37,<3.1.0,>=3.0.30 in c:\\users\\micro-manager\\anaconda3\\envs\\rtm-pymmcore-env\\lib\\site-packages (from IPython>=7.7.0->napari-console>=0.0.6->napari[all]) (3.0.39)\n",
      "Requirement already satisfied: stack-data in c:\\users\\micro-manager\\anaconda3\\envs\\rtm-pymmcore-env\\lib\\site-packages (from IPython>=7.7.0->napari-console>=0.0.6->napari[all]) (0.6.2)\n",
      "Requirement already satisfied: MarkupSafe>=2.0 in c:\\users\\micro-manager\\anaconda3\\envs\\rtm-pymmcore-env\\lib\\site-packages (from Jinja2>=2.10->numpydoc>=0.9.2->napari[all]) (2.1.3)\n",
      "Requirement already satisfied: locket in c:\\users\\micro-manager\\anaconda3\\envs\\rtm-pymmcore-env\\lib\\site-packages (from partd>=1.2.0->dask[array]!=2.28.0,>=2.15.0->napari[all]) (1.0.0)\n",
      "Requirement already satisfied: platformdirs>=2.5.0 in c:\\users\\micro-manager\\anaconda3\\envs\\rtm-pymmcore-env\\lib\\site-packages (from pooch>=1.6.0->scikit-image[data]>=0.19.1->napari[all]) (3.10.0)\n",
      "Requirement already satisfied: six>=1.5 in c:\\users\\micro-manager\\anaconda3\\envs\\rtm-pymmcore-env\\lib\\site-packages (from python-dateutil>=2.8.2->pandas>=1.3.0->napari[all]) (1.16.0)\n",
      "Requirement already satisfied: ipython-genutils in c:\\users\\micro-manager\\anaconda3\\envs\\rtm-pymmcore-env\\lib\\site-packages (from qtconsole!=4.7.6,!=5.4.2,>=4.5.1->napari-console>=0.0.6->napari[all]) (0.2.0)\n",
      "Requirement already satisfied: charset-normalizer<4,>=2 in c:\\users\\micro-manager\\anaconda3\\envs\\rtm-pymmcore-env\\lib\\site-packages (from requests>=2.5.0->sphinx<5,>=4.3.0->napari[all]) (3.2.0)\n",
      "Requirement already satisfied: idna<4,>=2.5 in c:\\users\\micro-manager\\anaconda3\\envs\\rtm-pymmcore-env\\lib\\site-packages (from requests>=2.5.0->sphinx<5,>=4.3.0->napari[all]) (3.4)\n",
      "Requirement already satisfied: urllib3<3,>=1.21.1 in c:\\users\\micro-manager\\anaconda3\\envs\\rtm-pymmcore-env\\lib\\site-packages (from requests>=2.5.0->sphinx<5,>=4.3.0->napari[all]) (1.26.16)\n",
      "Requirement already satisfied: pyproject_hooks in c:\\users\\micro-manager\\anaconda3\\envs\\rtm-pymmcore-env\\lib\\site-packages (from build->npe2>=0.5.2->napari[all]) (1.0.0)\n",
      "Requirement already satisfied: markdown-it-py>=2.2.0 in c:\\users\\micro-manager\\anaconda3\\envs\\rtm-pymmcore-env\\lib\\site-packages (from rich->npe2>=0.5.2->napari[all]) (3.0.0)\n",
      "Requirement already satisfied: parso<0.9.0,>=0.8.3 in c:\\users\\micro-manager\\anaconda3\\envs\\rtm-pymmcore-env\\lib\\site-packages (from jedi>=0.16->IPython>=7.7.0->napari-console>=0.0.6->napari[all]) (0.8.3)\n",
      "Requirement already satisfied: pywin32>=300 in c:\\users\\micro-manager\\anaconda3\\envs\\rtm-pymmcore-env\\lib\\site-packages (from jupyter-core!=5.0.*,>=4.12->ipykernel>=5.2.0->napari-console>=0.0.6->napari[all]) (306)\n",
      "Requirement already satisfied: mdurl~=0.1 in c:\\users\\micro-manager\\anaconda3\\envs\\rtm-pymmcore-env\\lib\\site-packages (from markdown-it-py>=2.2.0->rich->npe2>=0.5.2->napari[all]) (0.1.2)\n",
      "Requirement already satisfied: wcwidth in c:\\users\\micro-manager\\anaconda3\\envs\\rtm-pymmcore-env\\lib\\site-packages (from prompt-toolkit!=3.0.37,<3.1.0,>=3.0.30->IPython>=7.7.0->napari-console>=0.0.6->napari[all]) (0.2.6)\n",
      "Requirement already satisfied: executing>=1.2.0 in c:\\users\\micro-manager\\anaconda3\\envs\\rtm-pymmcore-env\\lib\\site-packages (from stack-data->IPython>=7.7.0->napari-console>=0.0.6->napari[all]) (1.2.0)\n",
      "Requirement already satisfied: asttokens>=2.1.0 in c:\\users\\micro-manager\\anaconda3\\envs\\rtm-pymmcore-env\\lib\\site-packages (from stack-data->IPython>=7.7.0->napari-console>=0.0.6->napari[all]) (2.2.1)\n",
      "Requirement already satisfied: pure-eval in c:\\users\\micro-manager\\anaconda3\\envs\\rtm-pymmcore-env\\lib\\site-packages (from stack-data->IPython>=7.7.0->napari-console>=0.0.6->napari[all]) (0.2.2)\n",
      "Downloading napari_plugin_manager-0.1.0a2-py3-none-any.whl (25 kB)\n",
      "Downloading PyQt5_sip-12.12.2-cp39-cp39-win_amd64.whl (78 kB)\n",
      "   ---------------------------------------- 0.0/78.4 kB ? eta -:--:--\n",
      "   ------------------------------------ --- 71.7/78.4 kB 4.1 MB/s eta 0:00:01\n",
      "   ---------------------------------------- 78.4/78.4 kB 2.2 MB/s eta 0:00:00\n",
      "Installing collected packages: PyQt5-Qt5, PyQt5-sip, PyQt5, napari-plugin-manager\n",
      "Successfully installed PyQt5-5.15.9 PyQt5-Qt5-5.15.2 PyQt5-sip-12.12.2 napari-plugin-manager-0.1.0a2\n",
      "Note: you may need to restart the kernel to use updated packages.\n"
     ]
    }
   ],
   "source": [
    "pip install \"napari[all]\""
   ]
  },
  {
   "cell_type": "code",
   "execution_count": 10,
   "metadata": {},
   "outputs": [
    {
     "data": {
      "text/plain": [
       "<Image layer 'Image' at 0x26393217910>"
      ]
     },
     "execution_count": 10,
     "metadata": {},
     "output_type": "execute_result"
    }
   ],
   "source": [
    "viewer.add_image(np.ones((1,1)))"
   ]
  },
  {
   "attachments": {},
   "cell_type": "markdown",
   "metadata": {},
   "source": [
    "## Create list with FOVs"
   ]
  },
  {
   "cell_type": "code",
   "execution_count": 83,
   "metadata": {},
   "outputs": [
    {
     "name": "stdout",
     "output_type": "stream",
     "text": [
      "(2, 2)\n"
     ]
    }
   ],
   "source": [
    "pos_list = [(2,2)]\n",
    "fovs = []\n",
    "\n",
    "for i,pos in enumerate(pos_list):\n",
    "    print(pos)\n",
    "    fov = FOV(pos=pos,\n",
    "              index =i,\n",
    "              path='/tmp/',\n",
    "              metadata={},\n",
    "              properties={'stim_property': 'top'},\n",
    "              )\n",
    "    fovs.append(fov)"
   ]
  },
  {
   "attachments": {},
   "cell_type": "markdown",
   "metadata": {},
   "source": [
    "## Create a DF with all planned acquisitions and stimulations"
   ]
  },
  {
   "cell_type": "code",
   "execution_count": 84,
   "metadata": {},
   "outputs": [
    {
     "data": {
      "text/html": [
       "<div>\n",
       "<style scoped>\n",
       "    .dataframe tbody tr th:only-of-type {\n",
       "        vertical-align: middle;\n",
       "    }\n",
       "\n",
       "    .dataframe tbody tr th {\n",
       "        vertical-align: top;\n",
       "    }\n",
       "\n",
       "    .dataframe thead th {\n",
       "        text-align: right;\n",
       "    }\n",
       "</style>\n",
       "<table border=\"1\" class=\"dataframe\">\n",
       "  <thead>\n",
       "    <tr style=\"text-align: right;\">\n",
       "      <th></th>\n",
       "      <th>fov</th>\n",
       "      <th>timestep</th>\n",
       "      <th>time</th>\n",
       "      <th>treatment</th>\n",
       "      <th>acquired</th>\n",
       "      <th>stim</th>\n",
       "      <th>channels</th>\n",
       "      <th>channels_stim</th>\n",
       "      <th>fov_object</th>\n",
       "      <th>fname</th>\n",
       "    </tr>\n",
       "  </thead>\n",
       "  <tbody>\n",
       "    <tr>\n",
       "      <th>0</th>\n",
       "      <td>0</td>\n",
       "      <td>0</td>\n",
       "      <td>0</td>\n",
       "      <td>stim_mid</td>\n",
       "      <td>False</td>\n",
       "      <td>False</td>\n",
       "      <td>[DAPI, FITC]</td>\n",
       "      <td>GFP</td>\n",
       "      <td>&lt;fov.FOV object at 0x2d7108e80&gt;</td>\n",
       "      <td>000_00000</td>\n",
       "    </tr>\n",
       "    <tr>\n",
       "      <th>0</th>\n",
       "      <td>0</td>\n",
       "      <td>1</td>\n",
       "      <td>5</td>\n",
       "      <td>stim_mid</td>\n",
       "      <td>False</td>\n",
       "      <td>False</td>\n",
       "      <td>[DAPI, FITC]</td>\n",
       "      <td>GFP</td>\n",
       "      <td>&lt;fov.FOV object at 0x2d7108e80&gt;</td>\n",
       "      <td>000_00001</td>\n",
       "    </tr>\n",
       "  </tbody>\n",
       "</table>\n",
       "</div>"
      ],
      "text/plain": [
       "  fov timestep time treatment acquired   stim      channels channels_stim   \n",
       "0   0        0    0  stim_mid    False  False  [DAPI, FITC]           GFP  \\\n",
       "0   0        1    5  stim_mid    False  False  [DAPI, FITC]           GFP   \n",
       "\n",
       "                        fov_object      fname  \n",
       "0  <fov.FOV object at 0x2d7108e80>  000_00000  \n",
       "0  <fov.FOV object at 0x2d7108e80>  000_00001  "
      ]
     },
     "execution_count": 84,
     "metadata": {},
     "output_type": "execute_result"
    }
   ],
   "source": [
    "df_acquire = pd.DataFrame(columns=['fov', 'timestep', 'time', 'treatment', 'acquired','stim', 'channels', 'channels_stim'])\n",
    "\n",
    "time_between_frames = 5 #time in seconds between frames\n",
    "stim_timesteps = [2,3]  # list of timesteps\n",
    "stim_timesteps= []  # list of timesteps\n",
    "\n",
    "timestep = range(2)  # 0-20\n",
    "treatments = ['stim_top', 'stim_mid',]  # list of treatments\n",
    "fovs:list[FOV] = fovs\n",
    "channels = [['DAPI','FITC']]\n",
    "channels_stim = ['GFP']\n",
    "\n",
    "ImgType.IMG_RAW\n",
    "\n",
    "# Loop over the FOVs and randomly assign one of the treatments to it\n",
    "treatments_shuffled = treatments.copy()\n",
    "random.shuffle(treatments_shuffled)\n",
    "for fov in fovs:\n",
    "    treatment = treatments_shuffled[fov.index % len(treatments_shuffled)]\n",
    "    for timestep in timestep:\n",
    "        new_row = {'fov_object': fov,\n",
    "                    'fov':fov.index,\n",
    "                    'timestep': timestep,\n",
    "                    'time': timestep*time_between_frames,\n",
    "                    'treatment': treatment,\n",
    "                    'acquired': False,\n",
    "                    'stim': False,\n",
    "                    'channels': channels,\n",
    "                    'channels_stim' : channels_stim,\n",
    "                    'fname' : f'{str(fov.index).zfill(3)}_{str(timestep).zfill(5)}',\n",
    "\n",
    "                    }\n",
    "        df_acquire = pd.concat([df_acquire, pd.DataFrame(new_row, index=[0])])\n",
    "\n",
    "for timestep in stim_timesteps:\n",
    "    df_acquire.loc[df_acquire['timestep'] == timestep, 'stim'] = True\n",
    "df_acquire = df_acquire.sort_values(by=['timestep', 'fov'])\n",
    "\n",
    "df_acquire"
   ]
  },
  {
   "attachments": {},
   "cell_type": "markdown",
   "metadata": {},
   "source": [
    "## Take an image at the current location"
   ]
  },
  {
   "cell_type": "code",
   "execution_count": 89,
   "metadata": {},
   "outputs": [
    {
     "name": "stdout",
     "output_type": "stream",
     "text": [
      "Channels to acquire: ['DAPI', 'FITC']\n"
     ]
    }
   ],
   "source": [
    "print(f'Channels to acquire: {channels[0]}')"
   ]
  },
  {
   "attachments": {},
   "cell_type": "markdown",
   "metadata": {},
   "source": [
    "## Run on virtual system "
   ]
  },
  {
   "cell_type": "code",
   "execution_count": 86,
   "metadata": {},
   "outputs": [
    {
     "name": "stdout",
     "output_type": "stream",
     "text": [
      "Found model '2D_versatile_fluo' for 'StarDist2D'.\n",
      "Loading network weights from 'weights_best.h5'.\n",
      "Loading thresholds from 'thresholds.json'.\n",
      "Using default values: prob_thresh=0.479071, nms_thresh=0.3.\n"
     ]
    },
    {
     "ename": "TypeError",
     "evalue": "__init__() missing 1 required positional argument: 'tracker'",
     "output_type": "error",
     "traceback": [
      "\u001b[0;31m---------------------------------------------------------------------------\u001b[0m",
      "\u001b[0;31mTypeError\u001b[0m                                 Traceback (most recent call last)",
      "Cell \u001b[0;32mIn[86], line 9\u001b[0m\n\u001b[1;32m      7\u001b[0m segmentator \u001b[39m=\u001b[39m SegmentatorStardist(\u001b[39m'\u001b[39m\u001b[39m2D_versatile_fluo\u001b[39m\u001b[39m'\u001b[39m)\n\u001b[1;32m      8\u001b[0m stimulator \u001b[39m=\u001b[39m StimExtraParameters()\n\u001b[0;32m----> 9\u001b[0m pipeline \u001b[39m=\u001b[39m ImageProcessingPipeline(segmentator,stimulator)\n\u001b[1;32m     10\u001b[0m analyzer \u001b[39m=\u001b[39m Analyzer(pipeline)\n",
      "\u001b[0;31mTypeError\u001b[0m: __init__() missing 1 required positional argument: 'tracker'"
     ]
    }
   ],
   "source": [
    "from add_frame import ImageProcessingPipeline\n",
    "from segmentation import SegmentatorStardist\n",
    "from pymmcore_plus.mda import MDAEngine\n",
    "from stimulation import StimExtraParameters\n",
    "from controller import Analyzer\n",
    "\n",
    "segmentator = SegmentatorStardist('2D_versatile_fluo')\n",
    "stimulator = StimExtraParameters()\n",
    "pipeline = ImageProcessingPipeline(segmentator,stimulator)\n",
    "analyzer = Analyzer(pipeline)\n"
   ]
  },
  {
   "cell_type": "code",
   "execution_count": null,
   "metadata": {},
   "outputs": [
    {
     "name": "stderr",
     "output_type": "stream",
     "text": [
      "\u001b[32m2023-08-25 13:07:33.722\u001b[0m | \u001b[1mINFO    \u001b[0m | \u001b[36mpymmcore_plus.mda._runner\u001b[0m:\u001b[36m_prepare_to_run\u001b[0m:\u001b[36m191\u001b[0m - \u001b[1mMDA Started: <callable_iterator object at 0x29a892ee0>\u001b[0m\n"
     ]
    },
    {
     "name": "stdout",
     "output_type": "stream",
     "text": [
      "Current timestep: 0\n",
      "  fov timestep time treatment acquired   stim      channels channels_stim   \n",
      "0   0        0    0  stim_top    False  False  [DAPI, FITC]           GFP  \\\n",
      "\n",
      "                        fov_object  \n",
      "0  <FOV.FOV object at 0x104c72cd0>  \n",
      "\n",
      "Current timestep: 1\n",
      "  fov timestep time treatment acquired   stim      channels channels_stim   \n",
      "0   0        1    5  stim_top    False  False  [DAPI, FITC]           GFP  \\\n",
      "\n",
      "                        fov_object  \n",
      "0  <FOV.FOV object at 0x104c72cd0>  \n",
      "\n"
     ]
    },
    {
     "name": "stderr",
     "output_type": "stream",
     "text": [
      "\u001b[32m2023-08-25 13:07:33.728\u001b[0m | \u001b[1mINFO    \u001b[0m | \u001b[36mpymmcore_plus.mda._runner\u001b[0m:\u001b[36mrun\u001b[0m:\u001b[36m148\u001b[0m - \u001b[1mindex=mappingproxy({'p': 0, 'c': 0}) channel=Channel(config='DAPI') x_pos=2.0 y_pos=2.0\u001b[0m\n"
     ]
    },
    {
     "name": "stderr",
     "output_type": "stream",
     "text": [
      "\u001b[32m2023-08-25 13:07:33.740\u001b[0m | \u001b[1mINFO    \u001b[0m | \u001b[36mpymmcore_plus.mda._runner\u001b[0m:\u001b[36mrun\u001b[0m:\u001b[36m148\u001b[0m - \u001b[1mindex=mappingproxy({'p': 0, 'c': 1}) channel=Channel(config='FITC') x_pos=2.0 y_pos=2.0\u001b[0m\n",
      "\u001b[32m2023-08-25 13:07:33.753\u001b[0m | \u001b[1mINFO    \u001b[0m | \u001b[36mpymmcore_plus.mda._runner\u001b[0m:\u001b[36mrun\u001b[0m:\u001b[36m148\u001b[0m - \u001b[1mindex=mappingproxy({'p': 0, 'c': 0}) channel=Channel(config='DAPI') x_pos=2.0 y_pos=2.0\u001b[0m\n",
      "base.py (395): Predicting on non-float input... ( forgot to normalize? )\n",
      "\u001b[32m2023-08-25 13:07:33.765\u001b[0m | \u001b[1mINFO    \u001b[0m | \u001b[36mpymmcore_plus.mda._runner\u001b[0m:\u001b[36mrun\u001b[0m:\u001b[36m148\u001b[0m - \u001b[1mindex=mappingproxy({'p': 0, 'c': 1}) channel=Channel(config='FITC') x_pos=2.0 y_pos=2.0\u001b[0m\n",
      "\u001b[32m2023-08-25 13:07:33.781\u001b[0m | \u001b[1mINFO    \u001b[0m | \u001b[36mpymmcore_plus.mda._runner\u001b[0m:\u001b[36mrun\u001b[0m:\u001b[36m148\u001b[0m - \u001b[1mindex=mappingproxy({'p': 0, 'c': 0}) channel=Channel(config='DAPI') x_pos=2.0 y_pos=2.0\u001b[0m\n",
      "\u001b[32m2023-08-25 13:07:33.801\u001b[0m | \u001b[1mINFO    \u001b[0m | \u001b[36mpymmcore_plus.mda._runner\u001b[0m:\u001b[36mrun\u001b[0m:\u001b[36m148\u001b[0m - \u001b[1mindex=mappingproxy({'p': 0, 'c': 1}) channel=Channel(config='FITC') x_pos=2.0 y_pos=2.0\u001b[0m\n",
      "\u001b[32m2023-08-25 13:07:33.824\u001b[0m | \u001b[1mINFO    \u001b[0m | \u001b[36mpymmcore_plus.mda._runner\u001b[0m:\u001b[36mrun\u001b[0m:\u001b[36m148\u001b[0m - \u001b[1mindex=mappingproxy({'p': 0, 'c': 0}) channel=Channel(config='DAPI') x_pos=2.0 y_pos=2.0\u001b[0m\n",
      "\u001b[32m2023-08-25 13:07:33.858\u001b[0m | \u001b[1mINFO    \u001b[0m | \u001b[36mpymmcore_plus.mda._runner\u001b[0m:\u001b[36mrun\u001b[0m:\u001b[36m148\u001b[0m - \u001b[1mindex=mappingproxy({'p': 0, 'c': 1}) channel=Channel(config='FITC') x_pos=2.0 y_pos=2.0\u001b[0m\n",
      "\u001b[32m2023-08-25 13:07:33.892\u001b[0m | \u001b[1mINFO    \u001b[0m | \u001b[36mpymmcore_plus.mda._runner\u001b[0m:\u001b[36m_finish_run\u001b[0m:\u001b[36m278\u001b[0m - \u001b[1mMDA Finished: <callable_iterator object at 0x29a892ee0>\u001b[0m\n"
     ]
    },
    {
     "name": "stdout",
     "output_type": "stream",
     "text": [
      "done\n",
      "Frame {'p': 0, 'c': 0} received: (512, 512)\n",
      "done\n",
      "Frame {'p': 0, 'c': 1} received: (512, 512)\n",
      "Last channel. Sending to _analyzer: (2, 512, 512)\n",
      "Received image\n",
      "{'fov': <FOV.FOV object at 0x104c72cd0>, 'img_type': <ImgType.IMG_RAW: 1>, 'last_channel': 'FITC', 'timestep': 0}\n",
      "Received raw image\n",
      "(512, 512)\n",
      "done\n",
      "Frame {'p': 0, 'c': 0} received: (512, 512)\n",
      "done\n",
      "Frame {'p': 0, 'c': 1} received: (512, 512)\n",
      "Last channel. Sending to _analyzer: (2, 512, 512)\n",
      "Received image\n",
      "{'fov': <FOV.FOV object at 0x104c72cd0>, 'img_type': <ImgType.IMG_RAW: 1>, 'last_channel': 'FITC', 'timestep': 1}\n",
      "Received raw image\n",
      "(512, 512)\n",
      "done\n",
      "Frame {'p': 0, 'c': 0} received: (512, 512)\n",
      "done\n",
      "Frame {'p': 0, 'c': 1} received: (512, 512)\n",
      "Last channel. Sending to _analyzer: (2, 512, 512)\n",
      "Received image\n",
      "{'fov': <FOV.FOV object at 0x104c72cd0>, 'img_type': <ImgType.IMG_RAW: 1>, 'last_channel': 'FITC', 'timestep': 0}\n",
      "Received raw image\n",
      "(512, 512)\n",
      "done\n",
      "Frame {'p': 0, 'c': 0} received: (512, 512)\n",
      "done\n",
      "Frame {'p': 0, 'c': 1} received: (512, 512)\n",
      "Last channel. Sending to _analyzer: (2, 512, 512)\n",
      "Received image\n",
      "{'fov': <FOV.FOV object at 0x104c72cd0>, 'img_type': <ImgType.IMG_RAW: 1>, 'last_channel': 'FITC', 'timestep': 1}\n",
      "Received raw image\n",
      "(512, 512)\n"
     ]
    }
   ],
   "source": [
    "mmc = CMMCorePlus()\n",
    "\n",
    "mmc.loadSystemConfiguration()\n",
    "\n",
    "#setup camera\n",
    "mmc.initializeDevice(\"Camera\");\n",
    "mmc.setCameraDevice(\"Camera\");\n",
    "\n",
    "# Register the custom engine with the runner\n",
    "dmd = DMD(mmc, test_mode = True)\n",
    "mda_engine_dmd = MDAEngine_DMD(dmd)\n",
    "\n",
    "mmc.mda.set_engine(mda_engine_dmd)\n",
    "\n",
    "queue = Queue()\n",
    "controller = Controller(analyzer, mmc, queue)\n",
    "\n",
    "# Start the acquisition\n",
    "controller.run(df_acquire)\n",
    "#controller.run_test()\n"
   ]
  },
  {
   "cell_type": "code",
   "execution_count": 11,
   "metadata": {},
   "outputs": [
    {
     "name": "stdout",
     "output_type": "stream",
     "text": [
      "Cy5\n",
      "DAPI\n",
      "FITC\n",
      "Rhodamine\n"
     ]
    }
   ],
   "source": [
    "configs = mmc.getAvailableConfigs('Channel')\n",
    "for config in configs:\n",
    "    print(config)\n"
   ]
  },
  {
   "cell_type": "code",
   "execution_count": 6,
   "metadata": {},
   "outputs": [
    {
     "name": "stdout",
     "output_type": "stream",
     "text": [
      "(100, 100)\n"
     ]
    }
   ],
   "source": [
    "assert np.array_equal(segmentator.segment(np.zeros((100,100))), np.zeros((100,100)))\n",
    "assert np.array_equal(stimulator.get_stim_mask(np.zeros((10,10)),FOV(0,0,'/tmp/',{},{'stim_property': 'top'})),np.ones((10,10)))"
   ]
  },
  {
   "cell_type": "code",
   "execution_count": 8,
   "metadata": {},
   "outputs": [
    {
     "name": "stderr",
     "output_type": "stream",
     "text": [
      "Exception in thread Thread-5:\n",
      "Traceback (most recent call last):\n",
      "  File \"/Users/luhin/miniforge3/envs/micro-llm/lib/python3.9/threading.py\", line 950, in _bootstrap_inner\n",
      "    self.run()\n",
      "  File \"/Users/luhin/miniforge3/envs/micro-llm/lib/python3.9/threading.py\", line 888, in run\n",
      "    self._target(*self._args, **self._kwargs)\n",
      "  File \"/Users/luhin/sync/phd/code/rtm/add_frame.py\", line 41, in run\n",
      "    stim_mask = self.stimulator.get_stim_mask(segmented)\n",
      "TypeError: get_stim_mask() missing 1 required positional argument: 'fov'\n"
     ]
    },
    {
     "ename": "",
     "evalue": "",
     "output_type": "error",
     "traceback": [
      "\u001b[1;31mCannot execute code, session has been disposed. Please try restarting the Kernel."
     ]
    },
    {
     "ename": "",
     "evalue": "",
     "output_type": "error",
     "traceback": [
      "\u001b[1;31mThe Kernel crashed while executing code in the the current cell or a previous cell. Please review the code in the cell(s) to identify a possible cause of the failure. Click <a href='https://aka.ms/vscodeJupyterKernelCrash'>here</a> for more info. View Jupyter <a href='command:jupyter.viewOutput'>log</a> for further details."
     ]
    }
   ],
   "source": [
    "from add_frame import store_img\n",
    "fov = FOV(pos=(0,0),index =i, path='/tmp/', metadata={'stim_property': 'top'},properties={},)\n",
    "metadata = {'fov':0,'img_type':ImgType.IMG_RAW,'fname':'test', 'fov_object':fov}\n",
    "store_img(np.ones((4,10,10)),metadata,'/tmp/')"
   ]
  },
  {
   "cell_type": "code",
   "execution_count": null,
   "metadata": {},
   "outputs": [
    {
     "data": {
      "text/plain": [
       "'Camera'"
      ]
     },
     "execution_count": 23,
     "metadata": {},
     "output_type": "execute_result"
    }
   ],
   "source": [
    "mmc.snapImage()\n",
    "mmc.getImage()\n",
    "mmc.setExposure(100)\n",
    "mmc.getCameraDevice()"
   ]
  },
  {
   "cell_type": "code",
   "execution_count": null,
   "metadata": {},
   "outputs": [],
   "source": []
  },
  {
   "attachments": {},
   "cell_type": "markdown",
   "metadata": {},
   "source": [
    "## Run on system with DMD"
   ]
  },
  {
   "cell_type": "code",
   "execution_count": null,
   "metadata": {},
   "outputs": [
    {
     "name": "stdout",
     "output_type": "stream",
     "text": [
      "Found model '2D_versatile_fluo' for 'StarDist2D'.\n",
      "Loading network weights from 'weights_best.h5'.\n",
      "Loading thresholds from 'thresholds.json'.\n",
      "Using default values: prob_thresh=0.479071, nms_thresh=0.3.\n"
     ]
    },
    {
     "ename": "RuntimeError",
     "evalue": "No device with label \"\"",
     "output_type": "error",
     "traceback": [
      "\u001b[0;31m---------------------------------------------------------------------------\u001b[0m",
      "\u001b[0;31mRuntimeError\u001b[0m                              Traceback (most recent call last)",
      "Cell \u001b[0;32mIn[5], line 12\u001b[0m\n\u001b[1;32m      7\u001b[0m analyzer \u001b[39m=\u001b[39m Analyzer(pipeline)\n\u001b[1;32m     11\u001b[0m mmc \u001b[39m=\u001b[39m CMMCorePlus()\n\u001b[0;32m---> 12\u001b[0m dmd \u001b[39m=\u001b[39m DMD(mmc)\n\u001b[1;32m     14\u001b[0m mmc\u001b[39m.\u001b[39mloadSystemConfiguration()\n\u001b[1;32m     15\u001b[0m mmc\u001b[39m.\u001b[39mmda\u001b[39m.\u001b[39mset_engine(MDAEngine_DMD(mmc,dmd))\n",
      "File \u001b[0;32m~/sync/phd/code/rtm/dmd.py:25\u001b[0m, in \u001b[0;36mDMD.__init__\u001b[0;34m(self, mmc)\u001b[0m\n\u001b[1;32m     23\u001b[0m \u001b[39mself\u001b[39m\u001b[39m.\u001b[39mmmc \u001b[39m=\u001b[39m mmc\n\u001b[1;32m     24\u001b[0m \u001b[39mself\u001b[39m\u001b[39m.\u001b[39mname \u001b[39m=\u001b[39m \u001b[39mself\u001b[39m\u001b[39m.\u001b[39mmmc\u001b[39m.\u001b[39mgetSLMDevice()\n\u001b[0;32m---> 25\u001b[0m \u001b[39mself\u001b[39m\u001b[39m.\u001b[39mheight \u001b[39m=\u001b[39m \u001b[39mself\u001b[39;49m\u001b[39m.\u001b[39;49mmmc\u001b[39m.\u001b[39;49mgetSLMHeight(\u001b[39mself\u001b[39;49m\u001b[39m.\u001b[39;49mname)\n\u001b[1;32m     26\u001b[0m \u001b[39mself\u001b[39m\u001b[39m.\u001b[39mwidth \u001b[39m=\u001b[39m \u001b[39mself\u001b[39m\u001b[39m.\u001b[39mmmc\u001b[39m.\u001b[39mgetSLMWidth(\u001b[39mself\u001b[39m\u001b[39m.\u001b[39mname)\n\u001b[1;32m     27\u001b[0m \u001b[39mself\u001b[39m\u001b[39m.\u001b[39mbppx \u001b[39m=\u001b[39m \u001b[39mself\u001b[39m\u001b[39m.\u001b[39mmmc\u001b[39m.\u001b[39mgetSLMBytesPerPixel(\u001b[39mself\u001b[39m\u001b[39m.\u001b[39mname)\n",
      "\u001b[0;31mRuntimeError\u001b[0m: No device with label \"\""
     ]
    }
   ],
   "source": [
    "from add_frame import ImageProcessingPipeline\n",
    "from segmentation import SegmentatorStardist\n",
    "\n",
    "segmentator = SegmentatorStardist('2D_versatile_fluo')\n",
    "stimulator = StimExtraParameters()\n",
    "pipeline = ImageProcessingPipeline(segmentator,stimulator)\n",
    "analyzer = Analyzer(pipeline)\n",
    "\n",
    "\n",
    "\n",
    "mmc = CMMCorePlus()\n",
    "dmd = DMD(mmc)\n",
    "\n",
    "mmc.loadSystemConfiguration()\n",
    "mmc.mda.set_engine(MDAEngine_DMD(mmc,dmd))\n",
    "\n",
    "# Apply the custom acquisition engine\n",
    "# Register the custom engine with the runner\n",
    "core = CMMCorePlus.instance()\n",
    "#core.mda.set_engine(MDAEngine_DMD(core))\n",
    "\n",
    "# create the Queue that will hold the MDAEvents\n",
    "queue = Queue()\n",
    "\n",
    "\n",
    "\n",
    "controller = Controller(analyzer, mmc , queue, dmd)\n",
    "# Start the acquisition\n",
    "controller.run()"
   ]
  },
  {
   "cell_type": "code",
   "execution_count": null,
   "metadata": {},
   "outputs": [
    {
     "name": "stderr",
     "output_type": "stream",
     "text": [
      "\u001b[32m2023-08-30 12:55:11.051\u001b[0m | \u001b[1mINFO    \u001b[0m | \u001b[36mpymmcore_plus.mda._runner\u001b[0m:\u001b[36m_prepare_to_run\u001b[0m:\u001b[36m221\u001b[0m - \u001b[1mMDA Started: GeneratorMDASequence()\u001b[0m\n",
      "\u001b[32m2023-08-30 12:55:11.052\u001b[0m | \u001b[1mINFO    \u001b[0m | \u001b[36mpymmcore_plus.mda._runner\u001b[0m:\u001b[36m_run\u001b[0m:\u001b[36m186\u001b[0m - \u001b[1mchannel=Channel(config='Cy5') exposure=10.0 min_start_time=0.0 metadata={'fov': 0}\u001b[0m\n"
     ]
    },
    {
     "name": "stdout",
     "output_type": "stream",
     "text": [
      "0\n"
     ]
    },
    {
     "name": "stderr",
     "output_type": "stream",
     "text": [
      "\u001b[32m2023-08-30 12:55:12.055\u001b[0m | \u001b[1mINFO    \u001b[0m | \u001b[36mpymmcore_plus.mda._runner\u001b[0m:\u001b[36m_run\u001b[0m:\u001b[36m186\u001b[0m - \u001b[1mexposure=10.0 min_start_time=1.0 metadata={'fov': 1}\u001b[0m\n"
     ]
    },
    {
     "name": "stdout",
     "output_type": "stream",
     "text": [
      "1\n"
     ]
    },
    {
     "name": "stderr",
     "output_type": "stream",
     "text": [
      "\u001b[32m2023-08-30 12:55:13.057\u001b[0m | \u001b[1mINFO    \u001b[0m | \u001b[36mpymmcore_plus.mda._runner\u001b[0m:\u001b[36m_run\u001b[0m:\u001b[36m186\u001b[0m - \u001b[1mchannel=Channel(config='Cy5') exposure=10.0 min_start_time=2.0 metadata={'fov': 0}\u001b[0m\n"
     ]
    },
    {
     "name": "stdout",
     "output_type": "stream",
     "text": [
      "0\n"
     ]
    },
    {
     "name": "stderr",
     "output_type": "stream",
     "text": [
      "\u001b[32m2023-08-30 12:55:14.056\u001b[0m | \u001b[1mINFO    \u001b[0m | \u001b[36mpymmcore_plus.mda._runner\u001b[0m:\u001b[36m_run\u001b[0m:\u001b[36m186\u001b[0m - \u001b[1mexposure=10.0 min_start_time=3.0 metadata={'fov': 1}\u001b[0m\n"
     ]
    },
    {
     "name": "stdout",
     "output_type": "stream",
     "text": [
      "1\n"
     ]
    },
    {
     "name": "stderr",
     "output_type": "stream",
     "text": [
      "\u001b[32m2023-08-30 12:55:15.057\u001b[0m | \u001b[1mINFO    \u001b[0m | \u001b[36mpymmcore_plus.mda._runner\u001b[0m:\u001b[36m_run\u001b[0m:\u001b[36m186\u001b[0m - \u001b[1mchannel=Channel(config='Cy5') exposure=10.0 min_start_time=4.0 metadata={'fov': 0}\u001b[0m\n"
     ]
    },
    {
     "name": "stdout",
     "output_type": "stream",
     "text": [
      "0\n"
     ]
    },
    {
     "name": "stderr",
     "output_type": "stream",
     "text": [
      "\u001b[32m2023-08-30 12:55:16.057\u001b[0m | \u001b[1mINFO    \u001b[0m | \u001b[36mpymmcore_plus.mda._runner\u001b[0m:\u001b[36m_run\u001b[0m:\u001b[36m186\u001b[0m - \u001b[1mexposure=10.0 min_start_time=5.0 metadata={'fov': 1}\u001b[0m\n",
      "\u001b[32m2023-08-30 12:55:16.074\u001b[0m | \u001b[1mINFO    \u001b[0m | \u001b[36mpymmcore_plus.mda._runner\u001b[0m:\u001b[36m_finish_run\u001b[0m:\u001b[36m313\u001b[0m - \u001b[1mMDA Finished: GeneratorMDASequence()\u001b[0m\n"
     ]
    },
    {
     "name": "stdout",
     "output_type": "stream",
     "text": [
      "1\n"
     ]
    }
   ],
   "source": [
    "\"\"\"Simple simulator demonstrating event-driven acquisitions with pymmcore-plus.\"\"\"\n",
    "import random\n",
    "import time\n",
    "from queue import Queue\n",
    "\n",
    "import numpy as np\n",
    "from pymmcore_plus import CMMCorePlus\n",
    "from useq import MDAEvent, MDASequence\n",
    "\n",
    "\n",
    "class Analyzer:\n",
    "    \"\"\"Analyzes images and returns a dict of results.\"\"\"\n",
    "\n",
    "    def run(self, data) -> dict:\n",
    "        pass\n",
    "        # Fake analysis; randomly return a dict with a value of None 10% of the time\n",
    "        #if random.random() < 0.1:\n",
    "        #return {\"result\": \"STOP\"}\n",
    "\n",
    "       # else:\n",
    "        #return {\"result\": random.random()}\n",
    "\n",
    "\n",
    "class Controller:\n",
    "    STOP_EVENT = object()\n",
    "\n",
    "    def __init__(self, analyzer: Analyzer, mmc: CMMCorePlus, queue: Queue):\n",
    "        self._analyzer = analyzer  # analyzer of images\n",
    "        self._queue = queue  # queue of MDAEvents\n",
    "        self._results: dict = {}  # results of analysis\n",
    "\n",
    "        self._mmc = mmc\n",
    "        mmc.mda.events.frameReady.connect(self._on_frame_ready)\n",
    "\n",
    "    def _on_frame_ready(self, img: np.ndarray, event: MDAEvent) -> None:\n",
    "        # Analyze the image\n",
    "        #print(event)\n",
    "        self._results = self._analyzer.run(img)\n",
    "        print(event.metadata['fov'])\n",
    "\n",
    "    def run(self) -> None:\n",
    "        # convert the queue to an iterable\n",
    "        queue_sequence = iter(self._queue.get, self.STOP_EVENT)\n",
    "\n",
    "        # Start the acquisition (run_mda is non-blocking)\n",
    "        self._mmc.run_mda(queue_sequence)\n",
    "\n",
    "        # Queue the first image acquisition\n",
    "## Create MDASequence with a time delay of 1 second\n",
    "        \n",
    "        interval = 2\n",
    "        nb_fovs = 2\n",
    "        delay = interval/nb_fovs\n",
    "\n",
    "        mda_sequence_fov_0 = MDASequence(delay=10)\n",
    "        mda_sequence_fov_1 = MDASequence(exposure = 10)\n",
    "\n",
    "        channel = {'config': 'Cy5', 'exposure': 10}\n",
    "\n",
    "        for frame in range(3):\n",
    "            self._queue.put(MDAEvent(exposure=10,mda_sequence=mda_sequence_fov_0, min_start_time=frame *interval,metadata={'fov':0},channel=channel))\n",
    "            self._queue.put(MDAEvent(exposure=10,mda_sequence=mda_sequence_fov_1, min_start_time=frame *interval+delay,metadata={'fov':1}))\n",
    "\n",
    "\n",
    "       # self._queue.put(intitial_event)\n",
    "        self._queue.put(self.STOP_EVENT)\n",
    "\n",
    "\n",
    "# Setup the MM Core\n",
    "mmc = CMMCorePlus()\n",
    "mmc.loadSystemConfiguration()\n",
    "\n",
    "# create the Queue that will hold the MDAEvents\n",
    "q = Queue()\n",
    "\n",
    "# Setup the controller and analyzer\n",
    "analyzer = Analyzer()\n",
    "controller = Controller(analyzer, mmc, q)\n",
    "\n",
    "# Start the acquisition\n",
    "controller.run()\n",
    "\n",
    "\n",
    "\n"
   ]
  },
  {
   "cell_type": "code",
   "execution_count": 10,
   "metadata": {},
   "outputs": [
    {
     "name": "stdout",
     "output_type": "stream",
     "text": [
      "(1000000,)\n"
     ]
    }
   ],
   "source": [
    "def normalize_mi_ma(x, mi, ma, clip=False, eps=1e-20, dtype=np.float32):\n",
    "    if dtype is not None:\n",
    "        x   = x.astype(dtype,copy=False)\n",
    "        mi  = dtype(mi) if np.isscalar(mi) else mi.astype(dtype,copy=False)\n",
    "        ma  = dtype(ma) if np.isscalar(ma) else ma.astype(dtype,copy=False)\n",
    "        eps = dtype(eps)\n",
    "\n",
    "def normalize(x, pmin=3, pmax=99.8, axis=None, clip=False, eps=1e-20, dtype=np.float32):\n",
    "    \"\"\"Percentile-based image normalization.\"\"\"\n",
    "\n",
    "    mi = np.percentile(x.flatten(),pmin)\n",
    "    ma = np.percentile(x.flatten(),pmax)\n",
    "    return normalize_mi_ma(x, mi, ma, clip=clip, eps=eps, dtype=dtype)\n",
    "\n",
    "normalize(np.ones((1000,1000)))\n",
    "print(np.ones((1000,1000)).flatten().shape)"
   ]
  },
  {
   "cell_type": "code",
   "execution_count": null,
   "metadata": {},
   "outputs": [],
   "source": []
  },
  {
   "cell_type": "code",
   "execution_count": 2,
   "metadata": {},
   "outputs": [],
   "source": [
    "import random\n",
    "import time\n",
    "from queue import Queue\n",
    "\n",
    "import numpy as np\n",
    "from pymmcore_plus import CMMCorePlus\n",
    "from useq import MDAEvent, MDASequence\n"
   ]
  },
  {
   "cell_type": "code",
   "execution_count": 4,
   "metadata": {},
   "outputs": [],
   "source": [
    "mda_sequence_2 = MDASequence(exposure = 10)\n",
    "for event in mda_sequence_2:\n",
    "    intitial_event = event\n",
    "    print('here') "
   ]
  },
  {
   "cell_type": "code",
   "execution_count": 2,
   "metadata": {},
   "outputs": [],
   "source": [
    "import napari\n",
    "viewer = napari.Viewer()"
   ]
  },
  {
   "cell_type": "code",
   "execution_count": 4,
   "metadata": {},
   "outputs": [
    {
     "ename": "ModuleNotFoundError",
     "evalue": "No module named 'napari_umanager'",
     "output_type": "error",
     "traceback": [
      "\u001b[0;31m---------------------------------------------------------------------------\u001b[0m",
      "\u001b[0;31mModuleNotFoundError\u001b[0m                       Traceback (most recent call last)",
      "Cell \u001b[0;32mIn[4], line 1\u001b[0m\n\u001b[0;32m----> 1\u001b[0m \u001b[39mimport\u001b[39;00m \u001b[39mnapari_umanager\u001b[39;00m\n\u001b[1;32m      2\u001b[0m \u001b[39mfrom\u001b[39;00m \u001b[39mnapari_umanager\u001b[39;00m \u001b[39mimport\u001b[39;00m napari_manager\n\u001b[1;32m      3\u001b[0m napari_manager(viewer, mmc, q)\n",
      "\u001b[0;31mModuleNotFoundError\u001b[0m: No module named 'napari_umanager'"
     ]
    }
   ],
   "source": [
    "import napari_umanager\n",
    "from napari_umanager import napari_manager\n",
    "napari_manager(viewer, mmc, q)"
   ]
  },
  {
   "cell_type": "code",
   "execution_count": null,
   "metadata": {},
   "outputs": [],
   "source": []
  }
 ],
 "metadata": {
  "kernelspec": {
   "display_name": "micro-llm",
   "language": "python",
   "name": "python3"
  },
  "language_info": {
   "codemirror_mode": {
    "name": "ipython",
    "version": 3
   },
   "file_extension": ".py",
   "mimetype": "text/x-python",
   "name": "python",
   "nbconvert_exporter": "python",
   "pygments_lexer": "ipython3",
   "version": "3.9.17"
  },
  "orig_nbformat": 4
 },
 "nbformat": 4,
 "nbformat_minor": 2
}

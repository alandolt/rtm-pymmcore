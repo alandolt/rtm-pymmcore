{
 "cells": [
  {
   "cell_type": "markdown",
   "metadata": {},
   "source": [
    "# ERK-KTR Full FOV Stimulation Pipeline\n",
    "This notebook showcases how to use the ERK-KTR full FOV stimulation pipeline. The pipeline is designed to simulate the full field of view (FOV) stimulation of a cells with the ERK-KTR biosensor. As it is a demo experiment, the pipeline runs on the demo hardware provided by MicroManager. "
   ]
  },
  {
   "cell_type": "markdown",
   "metadata": {},
   "source": [
    "### Import required libraries"
   ]
  },
  {
   "cell_type": "code",
   "execution_count": 1,
   "metadata": {},
   "outputs": [],
   "source": [
    "import os\n",
    "import time\n",
    "\n",
    "os.environ[\"QT_LOGGING_RULES\"] = (\n",
    "    \"*.debug=false; *.warning=false\"  # Fix to suppress PyQT warnings from napari-micromanager when running in a Jupyter notebook\n",
    ")\n",
    "os.environ[\"MICROMANAGER_PATH\"] = \"C:\\\\Program Files\\\\Micro-Manager-2.0\"\n",
    "\n",
    "from rtm_pymmcore.data_structures import Fov, Channel, StimTreatment\n",
    "from pprint import pprint\n",
    "import pandas as pd\n",
    "import numpy as np\n",
    "import dataclasses\n",
    "import random\n",
    "import pymmcore_plus\n",
    "\n",
    "mmc = pymmcore_plus.CMMCorePlus()"
   ]
  },
  {
   "cell_type": "markdown",
   "metadata": {},
   "source": [
    "### Experimental Settings"
   ]
  },
  {
   "cell_type": "code",
   "execution_count": null,
   "metadata": {},
   "outputs": [
    {
     "name": "stdout",
     "output_type": "stream",
     "text": [
      "Found model '2D_versatile_fluo' for 'StarDist2D'.\n",
      "Loading network weights from 'weights_best.h5'.\n",
      "Loading thresholds from 'thresholds.json'.\n",
      "Using default values: prob_thresh=0.479071, nms_thresh=0.3.\n",
      "[StimTreatment(stim_channel_name='CyanStim',\n",
      "               stim_channel_group='TTL_ERK',\n",
      "               stim_timestep=(1,),\n",
      "               stim_exposure=0,\n",
      "               stim_power=3,\n",
      "               stim_channel_device_name='Spectra',\n",
      "               stim_channel_power_property_name='Cyan_Level'),\n",
      " StimTreatment(stim_channel_name='CyanStim',\n",
      "               stim_channel_group='TTL_ERK',\n",
      "               stim_timestep=(1,),\n",
      "               stim_exposure=50,\n",
      "               stim_power=3,\n",
      "               stim_channel_device_name='Spectra',\n",
      "               stim_channel_power_property_name='Cyan_Level')]\n",
      "Directory \\\\izbkingston.unibe.ch\\imaging.data\\mic01-imaging\\Cedric\\experimental_data\\TestExp\\raw already exists\n",
      "Directory \\\\izbkingston.unibe.ch\\imaging.data\\mic01-imaging\\Cedric\\experimental_data\\TestExp\\tracks already exists\n",
      "Directory \\\\izbkingston.unibe.ch\\imaging.data\\mic01-imaging\\Cedric\\experimental_data\\TestExp\\stim_mask already exists\n",
      "Directory \\\\izbkingston.unibe.ch\\imaging.data\\mic01-imaging\\Cedric\\experimental_data\\TestExp\\stim already exists\n",
      "Directory \\\\izbkingston.unibe.ch\\imaging.data\\mic01-imaging\\Cedric\\experimental_data\\TestExp\\particles already exists\n",
      "Directory \\\\izbkingston.unibe.ch\\imaging.data\\mic01-imaging\\Cedric\\experimental_data\\TestExp\\labels_ring already exists\n",
      "Directory \\\\izbkingston.unibe.ch\\imaging.data\\mic01-imaging\\Cedric\\experimental_data\\TestExp\\labels already exists\n",
      "Directory \\\\izbkingston.unibe.ch\\imaging.data\\mic01-imaging\\Cedric\\experimental_data\\TestExp\\optocheck already exists\n"
     ]
    }
   ],
   "source": [
    "## Configuration options\n",
    "N_FRAMES = 2\n",
    "FIRST_FRAME_STIMULATION = 1\n",
    "\n",
    "SLEEP_BEFORE_EXPERIMENT_START_in_H = 0\n",
    "USE_AUTOFOCUS_EVENT = False\n",
    "USE_ONLY_PFS = True\n",
    "\n",
    "TIME_BETWEEN_TIMESTEPS = 60  # time in seconds between frames\n",
    "TIME_PER_FOV = 6  # time in seconds per fov\n",
    "\n",
    "\n",
    "## Storage path for the experiment\n",
    "base_path = (\n",
    "    \"\\\\\\\\izbkingston.unibe.ch\\\\imaging.data\\\\mic01-imaging\\\\Cedric\\\\experimental_data\\\\\"\n",
    ")\n",
    "experiment_name = \"TestExp\"\n",
    "path = os.path.join(base_path, experiment_name)\n",
    "\n",
    "\n",
    "# Define Channels for which Images are taken. If no power is defined, the default power of the device will be used,\n",
    "# for example, see the second channel \"Cy5\" below. The default power is set in the GUI\n",
    "channels = []\n",
    "channels.append(Channel(name=\"miRFP\", exposure=150))\n",
    "channels.append(Channel(name=\"mScarlet3\", exposure=100))\n",
    "\n",
    "# Channel to check for the expression of the optogenetic marker, can be used if it the marker is in the same channel as the stimulation channel.\n",
    "channel_optocheck = Channel(name=\"mCitrine\", exposure=150)\n",
    "\n",
    "\n",
    "# Condition mapping to FOVs. This is used to create a dataframe with the conditions and the FOVs.\n",
    "condition = [\n",
    "    \"FGFR_high\"\n",
    "]  # Example of adding a condition to the dataframe. Stimulation will be repeated for each condition.\n",
    "# condition = [\"optoFGFR_high\"] * 24 + [\"optoFGFR\"] * 24 # Example of adding multiple conditions to the dataframe. n repreats the amount of times the condition is repeated.\n",
    "\n",
    "n_fovs_per_condition = None  ## change this variable to the amount of fovs that you have per cell line. If only one cell line is set, this value will\n",
    "# automatically set to total amount of fovs.\n",
    "\n",
    "n_fovs_per_well = None  ## change this variable to the amount of fovs that you have per well. Set to None if you are not working with wellplate.\n",
    "\n",
    "\n",
    "# Stimulation parameters for optogenetics. The stimulation will be repeated for each condition.\n",
    "\n",
    "stim_exposures = [\n",
    "    0,\n",
    "    50,\n",
    "]  # or e.g. [10, 20, 30] for different exposures. The exposure time is the time that the LED is on.\n",
    "# Define the stimulation timesteps\n",
    "stim_timesteps = [\n",
    "    range(FIRST_FRAME_STIMULATION, N_FRAMES, 1)\n",
    "]  # Using range to define timesteps from FIRST_FRAME_STIMULATION to N_FRAMES with step 2\n",
    "\n",
    "# Combine the different paramters in stim_exposure and stim timestep to create stim_treatments which represents all possible combinations\n",
    "stim_treatments = [\n",
    "    StimTreatment(\n",
    "        stim_channel_name=\"CyanStim\",\n",
    "        stim_channel_group=\"TTL_ERK\",\n",
    "        stim_timestep=stim_timestep,\n",
    "        stim_exposure=stim_exposure,\n",
    "        stim_power=3,\n",
    "        stim_channel_device_name=\"Spectra\",\n",
    "        stim_channel_power_property_name=\"Cyan_Level\",\n",
    "    )\n",
    "    for stim_exposure in stim_exposures\n",
    "    for stim_timestep in stim_timesteps\n",
    "]\n",
    "for stim_treatment in stim_treatments:\n",
    "    if isinstance(stim_treatment.stim_timestep, range):\n",
    "        stim_treatment.stim_timestep = tuple(stim_treatment.stim_timestep)\n",
    "\n",
    "## Define the Tools that you are using for the experiment\n",
    "from rtm_pymmcore.segmentation.stardist import SegmentatorStardist\n",
    "from rtm_pymmcore.stimulation.base_stimulation import StimWholeFOV\n",
    "from rtm_pymmcore.tracking.trackpy import TrackerTrackpy\n",
    "from rtm_pymmcore.feature_extraction.erk_ktr import FE_ErkKtr\n",
    "from rtm_pymmcore.feature_extraction.fe_for_optocheck import OptoCheckFE\n",
    "\n",
    "segmentators = [\n",
    "    {\n",
    "        \"name\": \"labels\",\n",
    "        \"class\": SegmentatorStardist(min_size=200, prob_thresh=0.55),\n",
    "        \"use_channel\": 0,\n",
    "        \"save_tracked\": True,\n",
    "    },\n",
    "]\n",
    "stimulator = StimWholeFOV()\n",
    "feature_extractor = FE_ErkKtr(\"labels\")\n",
    "tracker = TrackerTrackpy()\n",
    "optocheck_fe = OptoCheckFE(\"labels\")\n",
    "\n",
    "pprint(stim_treatments)\n",
    "\n",
    "\n",
    "from rtm_pymmcore.img_processing_pip import ImageProcessingPipeline\n",
    "\n",
    "pipeline = ImageProcessingPipeline(\n",
    "    storage_path=path,\n",
    "    segmentators=segmentators,\n",
    "    feature_extractor=feature_extractor,\n",
    "    tracker=tracker,\n",
    "    stimulator=stimulator,\n",
    "    feature_extractor_optocheck=optocheck_fe,\n",
    ")"
   ]
  },
  {
   "cell_type": "markdown",
   "metadata": {},
   "source": [
    "### Load device and set startup channel"
   ]
  },
  {
   "cell_type": "code",
   "execution_count": 3,
   "metadata": {},
   "outputs": [],
   "source": [
    "mmc.loadSystemConfiguration(\n",
    "    \"E:\\\\pertzlab_mic_configs\\\\micromanager\\\\\\Jungfrau\\\\TiFluoroJungfrau_w_TTL_DIGITALIO.cfg\"\n",
    ")\n",
    "mmc.setConfig(groupName=\"System\", configName=\"Startup\")\n",
    "mmc.setChannelGroup(channelGroup=\"TTL_ERK\")"
   ]
  },
  {
   "cell_type": "markdown",
   "metadata": {},
   "source": [
    "### GUI - Napari Micromanager"
   ]
  },
  {
   "cell_type": "markdown",
   "metadata": {},
   "source": [
    "#### Load GUI"
   ]
  },
  {
   "cell_type": "code",
   "execution_count": null,
   "metadata": {},
   "outputs": [
    {
     "data": {
      "text/plain": [
       "<napari._qt.widgets.qt_viewer_dock_widget.QtViewerDockWidget at 0x20e2f3d3c70>"
      ]
     },
     "execution_count": 4,
     "metadata": {},
     "output_type": "execute_result"
    }
   ],
   "source": [
    "### Base GUI ###\n",
    "from napari_micromanager import MainWindow\n",
    "import napari\n",
    "\n",
    "viewer = napari.Viewer()\n",
    "mm_wdg = MainWindow(viewer)\n",
    "viewer.window.add_dock_widget(mm_wdg)\n",
    "data_mda_fovs = None\n",
    "\n",
    "### Add MDA widget for FOV selection ###\n",
    "from pymmcore_widgets.mda import MDAWidget\n",
    "\n",
    "mdawidget = MDAWidget(mmcore=mmc)\n",
    "viewer.window.add_dock_widget(mdawidget)\n",
    "load_from_file = False"
   ]
  },
  {
   "cell_type": "markdown",
   "metadata": {},
   "source": [
    "#### Functions to break and re-connect link with GUI if manually broken\n",
    "\n",
    "The following functions can be used to manually interrupt to connection between the GUI and the running rtm-pymmcore script. However, normally you don't need to execute them. "
   ]
  },
  {
   "cell_type": "code",
   "execution_count": null,
   "metadata": {},
   "outputs": [],
   "source": [
    "### Break connection\n",
    "# mm_wdg._core_link.cleanup()"
   ]
  },
  {
   "cell_type": "code",
   "execution_count": null,
   "metadata": {},
   "outputs": [],
   "source": [
    "### Manually reconnect pymmcore with napari-micromanager\n",
    "from napari_micromanager._core_link import CoreViewerLink\n",
    "\n",
    "mm_wdg._core_link = CoreViewerLink(viewer, mmc)"
   ]
  },
  {
   "cell_type": "markdown",
   "metadata": {},
   "source": [
    "### Map Experiment to FOVs"
   ]
  },
  {
   "cell_type": "markdown",
   "metadata": {},
   "source": [
    "#### If FOVs already saved - Reload them from file"
   ]
  },
  {
   "cell_type": "code",
   "execution_count": null,
   "metadata": {},
   "outputs": [],
   "source": [
    "import json\n",
    "\n",
    "file = os.path.join(path, \"fovs.json\")\n",
    "with open(file, \"r\") as f:\n",
    "    data_mda_fovs = json.load(f)\n",
    "data_mda_fovs = data_mda_fovs\n",
    "load_from_file = True"
   ]
  },
  {
   "cell_type": "markdown",
   "metadata": {},
   "source": [
    "### Use FOVs to generate dataframe for acquisition"
   ]
  },
  {
   "cell_type": "code",
   "execution_count": null,
   "metadata": {},
   "outputs": [
    {
     "name": "stdout",
     "output_type": "stream",
     "text": [
      "Total Experiment Time: 0.016666666666666666h\n",
      "Doing 1 experiment per stim condition\n"
     ]
    },
    {
     "data": {
      "application/vnd.microsoft.datawrangler.viewer.v0+json": {
       "columns": [
        {
         "name": "index",
         "rawType": "int64",
         "type": "integer"
        },
        {
         "name": "fov_object",
         "rawType": "object",
         "type": "unknown"
        },
        {
         "name": "fov",
         "rawType": "int64",
         "type": "integer"
        },
        {
         "name": "fov_x",
         "rawType": "float64",
         "type": "float"
        },
        {
         "name": "fov_y",
         "rawType": "float64",
         "type": "float"
        },
        {
         "name": "fov_z",
         "rawType": "float64",
         "type": "float"
        },
        {
         "name": "fov_name",
         "rawType": "object",
         "type": "string"
        },
        {
         "name": "timestep",
         "rawType": "int64",
         "type": "integer"
        },
        {
         "name": "time",
         "rawType": "int64",
         "type": "integer"
        },
        {
         "name": "cell_line",
         "rawType": "object",
         "type": "string"
        },
        {
         "name": "channels",
         "rawType": "object",
         "type": "unknown"
        },
        {
         "name": "fname",
         "rawType": "object",
         "type": "string"
        },
        {
         "name": "optocheck",
         "rawType": "bool",
         "type": "boolean"
        },
        {
         "name": "optocheck_channels",
         "rawType": "object",
         "type": "unknown"
        },
        {
         "name": "stim_channel_name",
         "rawType": "object",
         "type": "string"
        },
        {
         "name": "stim_channel_group",
         "rawType": "object",
         "type": "string"
        },
        {
         "name": "stim_timestep",
         "rawType": "object",
         "type": "unknown"
        },
        {
         "name": "stim_exposure",
         "rawType": "int64",
         "type": "integer"
        },
        {
         "name": "stim_power",
         "rawType": "int64",
         "type": "integer"
        },
        {
         "name": "stim_channel_device_name",
         "rawType": "object",
         "type": "string"
        },
        {
         "name": "stim_channel_power_property_name",
         "rawType": "object",
         "type": "string"
        },
        {
         "name": "stim",
         "rawType": "bool",
         "type": "boolean"
        }
       ],
       "conversionMethod": "pd.DataFrame",
       "ref": "2fbae628-75a6-40ef-9571-d09d05f94f99",
       "rows": [
        [
         "0",
         "<rtm_pymmcore.data_structures.Fov object at 0x0000020E0E0BBFD0>",
         "0",
         "10247.9",
         "-21277.9",
         "3676.13",
         "0",
         "0",
         "0",
         "FGFR_high",
         "({'name': 'miRFP', 'exposure': 150, 'group': None, 'power': None, 'device_name': None, 'property_name': None}, {'name': 'mScarlet3', 'exposure': 100, 'group': None, 'power': None, 'device_name': None, 'property_name': None})",
         "000_00000",
         "False",
         "({'name': 'mCitrine', 'exposure': 150, 'group': None, 'power': None, 'device_name': None, 'property_name': None},)",
         "CyanStim",
         "TTL_ERK",
         "(1,)",
         "50",
         "3",
         "Spectra",
         "Cyan_Level",
         "False"
        ],
        [
         "1",
         "<rtm_pymmcore.data_structures.Fov object at 0x0000020E84362530>",
         "1",
         "9496.9",
         "-22233.3",
         "3677.48",
         "1",
         "0",
         "0",
         "FGFR_high",
         "({'name': 'miRFP', 'exposure': 150, 'group': None, 'power': None, 'device_name': None, 'property_name': None}, {'name': 'mScarlet3', 'exposure': 100, 'group': None, 'power': None, 'device_name': None, 'property_name': None})",
         "001_00000",
         "False",
         "({'name': 'mCitrine', 'exposure': 150, 'group': None, 'power': None, 'device_name': None, 'property_name': None},)",
         "CyanStim",
         "TTL_ERK",
         "(1,)",
         "0",
         "3",
         "Spectra",
         "Cyan_Level",
         "False"
        ],
        [
         "2",
         "<rtm_pymmcore.data_structures.Fov object at 0x0000020E0E0BBFD0>",
         "0",
         "10247.9",
         "-21277.9",
         "3676.13",
         "0",
         "1",
         "60",
         "FGFR_high",
         "({'name': 'miRFP', 'exposure': 150, 'group': None, 'power': None, 'device_name': None, 'property_name': None}, {'name': 'mScarlet3', 'exposure': 100, 'group': None, 'power': None, 'device_name': None, 'property_name': None})",
         "000_00001",
         "True",
         "({'name': 'mCitrine', 'exposure': 150, 'group': None, 'power': None, 'device_name': None, 'property_name': None},)",
         "CyanStim",
         "TTL_ERK",
         "(1,)",
         "50",
         "3",
         "Spectra",
         "Cyan_Level",
         "True"
        ],
        [
         "3",
         "<rtm_pymmcore.data_structures.Fov object at 0x0000020E84362530>",
         "1",
         "9496.9",
         "-22233.3",
         "3677.48",
         "1",
         "1",
         "60",
         "FGFR_high",
         "({'name': 'miRFP', 'exposure': 150, 'group': None, 'power': None, 'device_name': None, 'property_name': None}, {'name': 'mScarlet3', 'exposure': 100, 'group': None, 'power': None, 'device_name': None, 'property_name': None})",
         "001_00001",
         "True",
         "({'name': 'mCitrine', 'exposure': 150, 'group': None, 'power': None, 'device_name': None, 'property_name': None},)",
         "CyanStim",
         "TTL_ERK",
         "(1,)",
         "0",
         "3",
         "Spectra",
         "Cyan_Level",
         "False"
        ]
       ],
       "shape": {
        "columns": 21,
        "rows": 4
       }
      },
      "text/html": [
       "<div>\n",
       "<style scoped>\n",
       "    .dataframe tbody tr th:only-of-type {\n",
       "        vertical-align: middle;\n",
       "    }\n",
       "\n",
       "    .dataframe tbody tr th {\n",
       "        vertical-align: top;\n",
       "    }\n",
       "\n",
       "    .dataframe thead th {\n",
       "        text-align: right;\n",
       "    }\n",
       "</style>\n",
       "<table border=\"1\" class=\"dataframe\">\n",
       "  <thead>\n",
       "    <tr style=\"text-align: right;\">\n",
       "      <th></th>\n",
       "      <th>fov_object</th>\n",
       "      <th>fov</th>\n",
       "      <th>fov_x</th>\n",
       "      <th>fov_y</th>\n",
       "      <th>fov_z</th>\n",
       "      <th>fov_name</th>\n",
       "      <th>timestep</th>\n",
       "      <th>time</th>\n",
       "      <th>cell_line</th>\n",
       "      <th>channels</th>\n",
       "      <th>fname</th>\n",
       "      <th>optocheck</th>\n",
       "      <th>optocheck_channels</th>\n",
       "      <th>stim_channel_name</th>\n",
       "      <th>stim_channel_group</th>\n",
       "      <th>stim_timestep</th>\n",
       "      <th>stim_exposure</th>\n",
       "      <th>stim_power</th>\n",
       "      <th>stim_channel_device_name</th>\n",
       "      <th>stim_channel_power_property_name</th>\n",
       "      <th>stim</th>\n",
       "    </tr>\n",
       "  </thead>\n",
       "  <tbody>\n",
       "    <tr>\n",
       "      <th>0</th>\n",
       "      <td>&lt;rtm_pymmcore.data_structures.Fov object at 0x...</td>\n",
       "      <td>0</td>\n",
       "      <td>10247.9</td>\n",
       "      <td>-21277.9</td>\n",
       "      <td>3676.13</td>\n",
       "      <td>0</td>\n",
       "      <td>0</td>\n",
       "      <td>0</td>\n",
       "      <td>FGFR_high</td>\n",
       "      <td>({'name': 'miRFP', 'exposure': 150, 'group': N...</td>\n",
       "      <td>000_00000</td>\n",
       "      <td>False</td>\n",
       "      <td>({'name': 'mCitrine', 'exposure': 150, 'group'...</td>\n",
       "      <td>CyanStim</td>\n",
       "      <td>TTL_ERK</td>\n",
       "      <td>(1,)</td>\n",
       "      <td>50</td>\n",
       "      <td>3</td>\n",
       "      <td>Spectra</td>\n",
       "      <td>Cyan_Level</td>\n",
       "      <td>False</td>\n",
       "    </tr>\n",
       "    <tr>\n",
       "      <th>1</th>\n",
       "      <td>&lt;rtm_pymmcore.data_structures.Fov object at 0x...</td>\n",
       "      <td>1</td>\n",
       "      <td>9496.9</td>\n",
       "      <td>-22233.3</td>\n",
       "      <td>3677.48</td>\n",
       "      <td>1</td>\n",
       "      <td>0</td>\n",
       "      <td>0</td>\n",
       "      <td>FGFR_high</td>\n",
       "      <td>({'name': 'miRFP', 'exposure': 150, 'group': N...</td>\n",
       "      <td>001_00000</td>\n",
       "      <td>False</td>\n",
       "      <td>({'name': 'mCitrine', 'exposure': 150, 'group'...</td>\n",
       "      <td>CyanStim</td>\n",
       "      <td>TTL_ERK</td>\n",
       "      <td>(1,)</td>\n",
       "      <td>0</td>\n",
       "      <td>3</td>\n",
       "      <td>Spectra</td>\n",
       "      <td>Cyan_Level</td>\n",
       "      <td>False</td>\n",
       "    </tr>\n",
       "    <tr>\n",
       "      <th>2</th>\n",
       "      <td>&lt;rtm_pymmcore.data_structures.Fov object at 0x...</td>\n",
       "      <td>0</td>\n",
       "      <td>10247.9</td>\n",
       "      <td>-21277.9</td>\n",
       "      <td>3676.13</td>\n",
       "      <td>0</td>\n",
       "      <td>1</td>\n",
       "      <td>60</td>\n",
       "      <td>FGFR_high</td>\n",
       "      <td>({'name': 'miRFP', 'exposure': 150, 'group': N...</td>\n",
       "      <td>000_00001</td>\n",
       "      <td>True</td>\n",
       "      <td>({'name': 'mCitrine', 'exposure': 150, 'group'...</td>\n",
       "      <td>CyanStim</td>\n",
       "      <td>TTL_ERK</td>\n",
       "      <td>(1,)</td>\n",
       "      <td>50</td>\n",
       "      <td>3</td>\n",
       "      <td>Spectra</td>\n",
       "      <td>Cyan_Level</td>\n",
       "      <td>True</td>\n",
       "    </tr>\n",
       "    <tr>\n",
       "      <th>3</th>\n",
       "      <td>&lt;rtm_pymmcore.data_structures.Fov object at 0x...</td>\n",
       "      <td>1</td>\n",
       "      <td>9496.9</td>\n",
       "      <td>-22233.3</td>\n",
       "      <td>3677.48</td>\n",
       "      <td>1</td>\n",
       "      <td>1</td>\n",
       "      <td>60</td>\n",
       "      <td>FGFR_high</td>\n",
       "      <td>({'name': 'miRFP', 'exposure': 150, 'group': N...</td>\n",
       "      <td>001_00001</td>\n",
       "      <td>True</td>\n",
       "      <td>({'name': 'mCitrine', 'exposure': 150, 'group'...</td>\n",
       "      <td>CyanStim</td>\n",
       "      <td>TTL_ERK</td>\n",
       "      <td>(1,)</td>\n",
       "      <td>0</td>\n",
       "      <td>3</td>\n",
       "      <td>Spectra</td>\n",
       "      <td>Cyan_Level</td>\n",
       "      <td>False</td>\n",
       "    </tr>\n",
       "  </tbody>\n",
       "</table>\n",
       "</div>"
      ],
      "text/plain": [
       "                                          fov_object  fov    fov_x    fov_y  \\\n",
       "0  <rtm_pymmcore.data_structures.Fov object at 0x...    0  10247.9 -21277.9   \n",
       "1  <rtm_pymmcore.data_structures.Fov object at 0x...    1   9496.9 -22233.3   \n",
       "2  <rtm_pymmcore.data_structures.Fov object at 0x...    0  10247.9 -21277.9   \n",
       "3  <rtm_pymmcore.data_structures.Fov object at 0x...    1   9496.9 -22233.3   \n",
       "\n",
       "     fov_z fov_name  timestep  time  cell_line  \\\n",
       "0  3676.13        0         0     0  FGFR_high   \n",
       "1  3677.48        1         0     0  FGFR_high   \n",
       "2  3676.13        0         1    60  FGFR_high   \n",
       "3  3677.48        1         1    60  FGFR_high   \n",
       "\n",
       "                                            channels      fname  optocheck  \\\n",
       "0  ({'name': 'miRFP', 'exposure': 150, 'group': N...  000_00000      False   \n",
       "1  ({'name': 'miRFP', 'exposure': 150, 'group': N...  001_00000      False   \n",
       "2  ({'name': 'miRFP', 'exposure': 150, 'group': N...  000_00001       True   \n",
       "3  ({'name': 'miRFP', 'exposure': 150, 'group': N...  001_00001       True   \n",
       "\n",
       "                                  optocheck_channels stim_channel_name  \\\n",
       "0  ({'name': 'mCitrine', 'exposure': 150, 'group'...          CyanStim   \n",
       "1  ({'name': 'mCitrine', 'exposure': 150, 'group'...          CyanStim   \n",
       "2  ({'name': 'mCitrine', 'exposure': 150, 'group'...          CyanStim   \n",
       "3  ({'name': 'mCitrine', 'exposure': 150, 'group'...          CyanStim   \n",
       "\n",
       "  stim_channel_group stim_timestep  stim_exposure  stim_power  \\\n",
       "0            TTL_ERK          (1,)             50           3   \n",
       "1            TTL_ERK          (1,)              0           3   \n",
       "2            TTL_ERK          (1,)             50           3   \n",
       "3            TTL_ERK          (1,)              0           3   \n",
       "\n",
       "  stim_channel_device_name stim_channel_power_property_name   stim  \n",
       "0                  Spectra                       Cyan_Level  False  \n",
       "1                  Spectra                       Cyan_Level  False  \n",
       "2                  Spectra                       Cyan_Level   True  \n",
       "3                  Spectra                       Cyan_Level  False  "
      ]
     },
     "execution_count": 42,
     "metadata": {},
     "output_type": "execute_result"
    }
   ],
   "source": [
    "n_fovs_simultaneously = TIME_BETWEEN_TIMESTEPS // TIME_PER_FOV\n",
    "timesteps = range(N_FRAMES)\n",
    "\n",
    "\n",
    "start_time = 0\n",
    "if not load_from_file:\n",
    "    data_mda_fovs = mdawidget.value().stage_positions\n",
    "    data_mda_fovs_dict = []\n",
    "    for data_mda in data_mda_fovs:\n",
    "        data_mda_fovs_dict.append(data_mda.model_dump())\n",
    "    data_mda_fovs = data_mda_fovs_dict\n",
    "    if data_mda_fovs is None:\n",
    "        assert False, \"No fovs selected. Please select fovs in the MDA widget\"\n",
    "\n",
    "if \"channel_optocheck\" not in locals():\n",
    "    channel_optocheck = None\n",
    "dfs = []\n",
    "fovs = []\n",
    "for fov_index, fov in enumerate(data_mda_fovs):\n",
    "    fov_object = Fov(fov_index)\n",
    "    fovs.append(fov_object)\n",
    "    fov_group = fov_index // n_fovs_simultaneously\n",
    "    start_time = fov_group * TIME_BETWEEN_TIMESTEPS * len(timesteps)\n",
    "    if len(condition) == 1:\n",
    "        condition_fov = condition[0]\n",
    "    else:\n",
    "        condition_fov = condition[fov_index // n_fovs_per_condition]\n",
    "    for timestep in timesteps:\n",
    "        row = {\n",
    "            \"fov_object\": fov_object,\n",
    "            \"fov\": fov_index,\n",
    "            \"fov_x\": fov.get(\"x\"),\n",
    "            \"fov_y\": fov.get(\"y\"),\n",
    "            \"fov_z\": fov.get(\"z\") if not USE_ONLY_PFS else None,\n",
    "            \"fov_name\": str(fov_index) if fov[\"name\"] is None else fov[\"name\"],\n",
    "            \"timestep\": timestep,\n",
    "            \"time\": start_time + timestep * TIME_BETWEEN_TIMESTEPS,\n",
    "            \"cell_line\": condition_fov,\n",
    "            \"channels\": tuple(dataclasses.asdict(channel) for channel in channels),\n",
    "            \"fname\": f\"{str(fov_index).zfill(3)}_{str(timestep).zfill(5)}\",\n",
    "        }\n",
    "        if channel_optocheck is not None:\n",
    "            row[\"optocheck\"] = True if timestep == N_FRAMES - 1 else False\n",
    "\n",
    "            if isinstance(channel_optocheck, list):\n",
    "                row[\"optocheck_channels\"] = tuple(\n",
    "                    dataclasses.asdict(channel) for channel in channel_optocheck\n",
    "                )\n",
    "            else:\n",
    "                row[\"optocheck_channels\"] = tuple(\n",
    "                    [dataclasses.asdict(channel_optocheck)]\n",
    "                )\n",
    "\n",
    "        dfs.append(row)\n",
    "\n",
    "df_acquire = pd.DataFrame(dfs)\n",
    "\n",
    "print(f\"Total Experiment Time: {df_acquire['time'].max()/3600}h\")\n",
    "\n",
    "for stim_treatment in stim_treatments:\n",
    "    if isinstance(stim_treatment.stim_timestep, range):\n",
    "        stim_treatment.stim_timestep = tuple(stim_treatment.stim_timestep)\n",
    "\n",
    "n_fovs = len(data_mda_fovs)\n",
    "n_stim_treatments = len(stim_treatments)\n",
    "if n_stim_treatments > 0:\n",
    "    n_fovs_per_stim_condition = n_fovs // n_stim_treatments // len(np.unique(condition))\n",
    "    stim_treatment_tot = []\n",
    "    random.shuffle(stim_treatments)\n",
    "    if n_fovs_per_well is not None:\n",
    "        for stim_treat in stim_treatments:\n",
    "            stim_treatment_tot.extend([stim_treat] * n_fovs_per_well)\n",
    "\n",
    "    else:\n",
    "        for fov_index in range(0, n_fovs_per_stim_condition):\n",
    "            stim_treatment_tot.extend(stim_treatments)\n",
    "        random.shuffle(stim_treatment_tot)\n",
    "\n",
    "        if n_fovs % n_stim_treatments != 0:\n",
    "            print(\n",
    "                f\"Warning: Not equal number of fovs per stim condition. {n_fovs % n_stim_treatments} fovs will have repeated treatment\"\n",
    "            )\n",
    "            stim_treatment_tot.extend(stim_treatments[: n_fovs % n_stim_treatments])\n",
    "    print(f\"Doing {n_fovs_per_stim_condition} experiment per stim condition\")\n",
    "\n",
    "    if len(condition) == 1:\n",
    "        n_fovs_per_condition = n_fovs\n",
    "    else:\n",
    "        stim_treatment_tot = stim_treatment_tot * len(np.unique(condition))\n",
    "\n",
    "    df_acquire = pd.merge(\n",
    "        df_acquire, pd.DataFrame(stim_treatment_tot), left_on=\"fov\", right_index=True\n",
    "    )\n",
    "\n",
    "    # Add stim column that checks if current timestep is in the stim_timestep tuple\n",
    "    df_acquire[\"stim\"] = df_acquire.apply(\n",
    "        lambda row: (\n",
    "            row[\"timestep\"] in row[\"stim_timestep\"]\n",
    "            if isinstance(row[\"stim_timestep\"], tuple) and row[\"stim_exposure\"] > 0\n",
    "            else False\n",
    "        ),\n",
    "        axis=1,\n",
    "    )\n",
    "\n",
    "df_acquire = df_acquire.dropna(axis=1, how=\"all\")\n",
    "pd.set_option(\"display.max_columns\", None)\n",
    "pd.set_option(\"display.expand_frame_repr\", True)\n",
    "df_acquire = df_acquire.sort_values(by=[\"time\", \"fov\"]).reset_index(drop=True)\n",
    "df_acquire"
   ]
  },
  {
   "attachments": {},
   "cell_type": "markdown",
   "metadata": {},
   "source": [
    "### Run experiment"
   ]
  },
  {
   "cell_type": "code",
   "execution_count": null,
   "metadata": {},
   "outputs": [
    {
     "name": "stdout",
     "output_type": "stream",
     "text": [
      "Directory \\\\izbkingston.unibe.ch\\imaging.data\\mic01-imaging\\Cedric\\experimental_data\\TestExp\\raw already exists\n",
      "Directory \\\\izbkingston.unibe.ch\\imaging.data\\mic01-imaging\\Cedric\\experimental_data\\TestExp\\tracks already exists\n",
      "Directory \\\\izbkingston.unibe.ch\\imaging.data\\mic01-imaging\\Cedric\\experimental_data\\TestExp\\stim_mask already exists\n",
      "Directory \\\\izbkingston.unibe.ch\\imaging.data\\mic01-imaging\\Cedric\\experimental_data\\TestExp\\stim already exists\n",
      "Directory \\\\izbkingston.unibe.ch\\imaging.data\\mic01-imaging\\Cedric\\experimental_data\\TestExp\\particles already exists\n",
      "Directory \\\\izbkingston.unibe.ch\\imaging.data\\mic01-imaging\\Cedric\\experimental_data\\TestExp\\labels_ring already exists\n",
      "Directory \\\\izbkingston.unibe.ch\\imaging.data\\mic01-imaging\\Cedric\\experimental_data\\TestExp\\labels already exists\n",
      "Directory \\\\izbkingston.unibe.ch\\imaging.data\\mic01-imaging\\Cedric\\experimental_data\\TestExp\\optocheck already exists\n"
     ]
    },
    {
     "name": "stderr",
     "output_type": "stream",
     "text": [
      "functional.py (238): The structure of `inputs` doesn't match the expected structure.\n",
      "Expected: ['input']\n",
      "Received: inputs=Tensor(shape=(1, 1024, 1024, 1))\n"
     ]
    },
    {
     "name": "stdout",
     "output_type": "stream",
     "text": [
      "Experiment finished\n"
     ]
    }
   ],
   "source": [
    "pymmcore_plus.configure_logging(stderr_level=\"WARNING\")\n",
    "\n",
    "for _ in range(0, SLEEP_BEFORE_EXPERIMENT_START_in_H * 3600):\n",
    "\n",
    "    time.sleep(1)\n",
    "\n",
    "from rtm_pymmcore.controller import Controller, Analyzer\n",
    "from rtm_pymmcore.dmd import DMD\n",
    "from queue import Queue\n",
    "\n",
    "try:\n",
    "\n",
    "    mm_wdg._core_link.cleanup()\n",
    "\n",
    "except:\n",
    "    pass\n",
    "\n",
    "\n",
    "analyzer = Analyzer(pipeline)\n",
    "queue = Queue()\n",
    "\n",
    "controller = Controller(\n",
    "    analyzer,\n",
    "    mmc,\n",
    "    queue,\n",
    ")\n",
    "\n",
    "controller.run(df_acquire)\n",
    "\n",
    "print(\"Experiment finished\")\n",
    "time.sleep(30)\n",
    "\n",
    "fovs_i_list = os.listdir(os.path.join(path, \"tracks\"))\n",
    "fovs_i_list.sort()\n",
    "dfs = []\n",
    "\n",
    "for fov_i in fovs_i_list:\n",
    "\n",
    "    track_file = os.path.join(path, \"tracks\", fov_i)\n",
    "    df = pd.read_parquet(track_file)\n",
    "    dfs.append(df)\n",
    "\n",
    "pd.concat(dfs).to_parquet(os.path.join(path, \"exp_data.parquet\"))"
   ]
  }
 ],
 "metadata": {
  "kernelspec": {
   "display_name": "pymmcore",
   "language": "python",
   "name": "python3"
  },
  "language_info": {
   "codemirror_mode": {
    "name": "ipython",
    "version": 3
   },
   "file_extension": ".py",
   "mimetype": "text/x-python",
   "name": "python",
   "nbconvert_exporter": "python",
   "pygments_lexer": "ipython3",
   "version": "3.11.0"
  },
  "orig_nbformat": 4
 },
 "nbformat": 4,
 "nbformat_minor": 2
}
